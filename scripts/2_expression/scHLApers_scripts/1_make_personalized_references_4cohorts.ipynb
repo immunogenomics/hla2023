{
 "cells": [
  {
   "cell_type": "markdown",
   "id": "9aa85694-1ce3-46f3-9f53-637376672f5c",
   "metadata": {},
   "source": [
    "# Make personalized HLA references for each cohort\n",
    "\n",
    "Amber Shen\n",
    "\n",
    "March 2022"
   ]
  },
  {
   "cell_type": "code",
   "execution_count": 1,
   "id": "6d0e7420-2918-4711-aa78-85b19fe98551",
   "metadata": {},
   "outputs": [],
   "source": [
    "#if (!require(\"BiocManager\", quietly = TRUE))\n",
    "#    install.packages(\"BiocManager\")\n",
    "#BiocManager::install(\"rtracklayer\")\n",
    "\n",
    "suppressPackageStartupMessages({\n",
    "    library(rtracklayer)\n",
    "    library(Biostrings)\n",
    "    library(Matrix)\n",
    "    library(dplyr)\n",
    "    library(ggplot2)\n",
    "    library(stats)\n",
    "    library(stringr)\n",
    "    library(tidyverse)\n",
    "})"
   ]
  },
  {
   "cell_type": "markdown",
   "id": "70b6e7b3-bb3b-4308-a3fe-ce14356758e4",
   "metadata": {},
   "source": [
    "**Functions to make personalized genomes and annotations**"
   ]
  },
  {
   "cell_type": "code",
   "execution_count": 3,
   "id": "4826fb82-98e3-4baa-ac54-5a78e0644bd5",
   "metadata": {},
   "outputs": [],
   "source": [
    "# Formats the name of an HLA allele from HLA_X*ii:jj:kk to X-ii-jj\n",
    "format_allele = function(allele) {\n",
    "    gene = str_split(str_split(allele, '_')[[1]][2], '\\\\*')[[1]][1]\n",
    "    two_digit = str_split(str_split(allele, '\\\\*')[[1]][2], ':')[[1]][1]\n",
    "    four_digit = str_split(str_split(allele, '\\\\*')[[1]][2], ':')[[1]][2]\n",
    "    return(paste(gene, two_digit, four_digit, sep='-'))\n",
    "}\n",
    "\n",
    "# Makes the genome .fa file\n",
    "# personalized_alleles: .csv file containing personalized HLA alleles imputed for a sample\n",
    "# genome_out: Directory for output\n",
    "make_genome = function(personalized_alleles, genome_out) {\n",
    "    idxs = c()\n",
    "    warnings = c()\n",
    "    sample = str_split(tail(str_split(personalized_alleles, '/')[[1]], n=1), '_alleles')[[1]][1]\n",
    "    alleles = read.csv(personalized_alleles)\n",
    "    for (i in 1:nrow(alleles)) {\n",
    "        \n",
    "        to_match = format_allele(alleles[i, 'ID']) # HLA_X*ii:jj:kk to X-ii-jj\n",
    "        idx = which(formatted_database_names==to_match) # get indices of matching sequences\n",
    "        \n",
    "        # no matches, skip allele\n",
    "        if (length(idx) == 0) {\n",
    "            warnings = c(warnings, paste0('WARNING: ', to_match, ' not found for sample ', sample))\n",
    "            next\n",
    "        }\n",
    "        idxs = c(idxs, idx[1])   \n",
    "    }\n",
    "    Biostrings::writeXStringSet(database[idxs], paste0(genome_out, sample, '_genome.fa')) # save file\n",
    "    lapply(warnings, cat, '\\n', file=paste0(genome_out, 'missing_alleles.csv'), append=TRUE) # saves missing alleles\n",
    "}\n",
    "\n",
    "make_annotation = function(sample, annot_out, unique) {\n",
    "    genome = Biostrings::readDNAStringSet(paste0(out, 'genomes/', sample, '_genome.fa'))\n",
    "    col_names = c('seqname', 'source', 'feature', 'start', 'end', 'score', 'strand', 'frame', 'attribute')\n",
    "    annot = data.frame(matrix(ncol=9, nrow=0, dimnames=list(NULL, col_names)))\n",
    "    \n",
    "    for (allele in names(genome)) {\n",
    "        end = width(genome[allele])\n",
    "        if (unique) {\n",
    "            name = allele\n",
    "        } else {\n",
    "            name = str_split(allele, '\\\\*')[[1]][1] # nonunique case\n",
    "        }\n",
    "        attribute = paste0('transcript_id \"', allele, '\"; gene_id \"', # Joyce changed \"name\" to \"allele\" 5/12/22\n",
    "                           name, '\"; gene_name \"', name, '\";')\n",
    "        annot[nrow(annot)+1,] = c(allele, 'IMGTHLA', 'exon', 1, end, '.', '+', '.', attribute) \n",
    "    }\n",
    "    write.table(annot, file=annot_out, sep='\\t', quote = FALSE, col.names=FALSE, row.names=FALSE)\n",
    "}\n",
    "\n",
    "make_references = function(personalized_alleles_path, sequence_database_path, out) {\n",
    "    dir.create(out, showWarnings = FALSE)\n",
    "    dir.create(paste0(out, 'genomes/'), showWarnings = FALSE)\n",
    "    dir.create(paste0(out, 'unique_annotations/'), showWarnings = FALSE)\n",
    "    dir.create(paste0(out, 'nonunique_annotations/'), showWarnings = FALSE)\n",
    "    \n",
    "    # Get list of personalized allele files\n",
    "    personalized_alleles = list.files(personalized_alleles_path, full.names=TRUE)\n",
    "    \n",
    "    # make genomes\n",
    "    for (i in 1:length(personalized_alleles)) {\n",
    "        genome_out = paste0(out, 'genomes/')\n",
    "        make_genome(personalized_alleles[i], genome_out)\n",
    "    }\n",
    "    \n",
    "    # make annotations\n",
    "    get_sample = function(file) {return(str_split(tail(str_split(file, '/')[[1]], n=1), '_alleles')[[1]][1])}\n",
    "    samples = lapply(personalized_alleles, get_sample)\n",
    "\n",
    "    for (sample in samples) {\n",
    "        annot_out = paste0(out, 'unique_annotations/', sample, '_annotation.gtf')\n",
    "        make_annotation(sample, annot_out, unique=TRUE)\n",
    "    }\n",
    "    for (sample in samples) {\n",
    "        annot_out = paste0(out, 'nonunique_annotations/', sample, '_annotation.gtf')\n",
    "        make_annotation(sample, annot_out, unique=FALSE)\n",
    "    }\n",
    "}"
   ]
  },
  {
   "cell_type": "markdown",
   "id": "5db0e761-6113-4760-8ed4-9e04484fa6a8",
   "metadata": {},
   "source": [
    "Read in IMGT allele database"
   ]
  },
  {
   "cell_type": "markdown",
   "id": "94ca245b-91e8-462b-b7d4-b3b3187ff6fd",
   "metadata": {},
   "source": [
    "cat /data/srlab1/jkang/hla/schla/IMGTHLA/alignments_FINAL/*.fa > '/data/srlab1/amber_joyce/scHLA/IMGTHLA_all_alleles_FINAL.fa'"
   ]
  },
  {
   "cell_type": "code",
   "execution_count": 4,
   "id": "934ce3e6-3aa0-4a6d-9ea9-5c1fa7a76a76",
   "metadata": {},
   "outputs": [],
   "source": [
    "sequence_database_path = '/data/srlab1/amber_joyce/scHLA/IMGTHLA_all_alleles_FINAL.fa' \n",
    "# concatenated genes from /data/srlab1/jkang/hla/schla/IMGTHLA/alignments_FINAL\n",
    "database = Biostrings::readDNAStringSet(sequence_database_path)\n",
    "formatted_database_names = lapply(names(database), format_allele)"
   ]
  },
  {
   "cell_type": "code",
   "execution_count": 5,
   "id": "dd548c9c-57d9-49e2-8a22-fc80d1b50e40",
   "metadata": {},
   "outputs": [
    {
     "data": {
      "text/plain": [
       "DNAStringSet object of length 26573:\n",
       "        width seq                                           names               \n",
       "    [1]  4626 \u001b[47m\u001b[30mA\u001b[39m\u001b[49m\u001b[47m\u001b[30mA\u001b[39m\u001b[49m\u001b[47m\u001b[30mG\u001b[39m\u001b[49m\u001b[47m\u001b[30mG\u001b[39m\u001b[49m\u001b[47m\u001b[30mG\u001b[39m\u001b[49m\u001b[47m\u001b[30mG\u001b[39m\u001b[49m\u001b[47m\u001b[30mA\u001b[39m\u001b[49m\u001b[47m\u001b[30mG\u001b[39m\u001b[49m\u001b[47m\u001b[30mA\u001b[39m\u001b[49m\u001b[47m\u001b[30mG\u001b[39m\u001b[49m\u001b[47m\u001b[30mG\u001b[39m\u001b[49m\u001b[47m\u001b[30mA\u001b[39m\u001b[49m\u001b[47m\u001b[30mG\u001b[39m\u001b[49m\u001b[47m\u001b[30mG\u001b[39m\u001b[49m\u001b[47m\u001b[30mG\u001b[39m\u001b[49m\u001b[47m\u001b[30mC\u001b[39m\u001b[49m\u001b[47m\u001b[30mC\u001b[39m\u001b[49m\u001b[47m\u001b[30mT\u001b[39m\u001b[49m\u001b[47m\u001b[30mG\u001b[39m\u001b[49m\u001b[47m\u001b[30mA\u001b[39m\u001b[49m\u001b[47m\u001b[30mA\u001b[39m\u001b[49m...\u001b[47m\u001b[30mA\u001b[39m\u001b[49m\u001b[47m\u001b[30mT\u001b[39m\u001b[49m\u001b[47m\u001b[30mG\u001b[39m\u001b[49m\u001b[47m\u001b[30mA\u001b[39m\u001b[49m\u001b[47m\u001b[30mG\u001b[39m\u001b[49m\u001b[47m\u001b[30mA\u001b[39m\u001b[49m\u001b[47m\u001b[30mA\u001b[39m\u001b[49m\u001b[47m\u001b[30mC\u001b[39m\u001b[49m\u001b[47m\u001b[30mC\u001b[39m\u001b[49m\u001b[47m\u001b[30mT\u001b[39m\u001b[49m\u001b[47m\u001b[30mT\u001b[39m\u001b[49m\u001b[47m\u001b[30mC\u001b[39m\u001b[49m\u001b[47m\u001b[30mC\u001b[39m\u001b[49m\u001b[47m\u001b[30mA\u001b[39m\u001b[49m\u001b[47m\u001b[30mG\u001b[39m\u001b[49m\u001b[47m\u001b[30mA\u001b[39m\u001b[49m\u001b[47m\u001b[30mG\u001b[39m\u001b[49m\u001b[47m\u001b[30mT\u001b[39m\u001b[49m\u001b[47m\u001b[30mC\u001b[39m\u001b[49m\u001b[47m\u001b[30mC\u001b[39m\u001b[49m\u001b[47m\u001b[30mA\u001b[39m\u001b[49m IMGT_A*01:01:01:01\n",
       "    [2]  4626 \u001b[47m\u001b[30mA\u001b[39m\u001b[49m\u001b[47m\u001b[30mA\u001b[39m\u001b[49m\u001b[47m\u001b[30mG\u001b[39m\u001b[49m\u001b[47m\u001b[30mG\u001b[39m\u001b[49m\u001b[47m\u001b[30mG\u001b[39m\u001b[49m\u001b[47m\u001b[30mG\u001b[39m\u001b[49m\u001b[47m\u001b[30mA\u001b[39m\u001b[49m\u001b[47m\u001b[30mG\u001b[39m\u001b[49m\u001b[47m\u001b[30mA\u001b[39m\u001b[49m\u001b[47m\u001b[30mG\u001b[39m\u001b[49m\u001b[47m\u001b[30mG\u001b[39m\u001b[49m\u001b[47m\u001b[30mA\u001b[39m\u001b[49m\u001b[47m\u001b[30mG\u001b[39m\u001b[49m\u001b[47m\u001b[30mG\u001b[39m\u001b[49m\u001b[47m\u001b[30mG\u001b[39m\u001b[49m\u001b[47m\u001b[30mC\u001b[39m\u001b[49m\u001b[47m\u001b[30mC\u001b[39m\u001b[49m\u001b[47m\u001b[30mT\u001b[39m\u001b[49m\u001b[47m\u001b[30mG\u001b[39m\u001b[49m\u001b[47m\u001b[30mA\u001b[39m\u001b[49m\u001b[47m\u001b[30mA\u001b[39m\u001b[49m...\u001b[47m\u001b[30mA\u001b[39m\u001b[49m\u001b[47m\u001b[30mT\u001b[39m\u001b[49m\u001b[47m\u001b[30mG\u001b[39m\u001b[49m\u001b[47m\u001b[30mA\u001b[39m\u001b[49m\u001b[47m\u001b[30mG\u001b[39m\u001b[49m\u001b[47m\u001b[30mA\u001b[39m\u001b[49m\u001b[47m\u001b[30mA\u001b[39m\u001b[49m\u001b[47m\u001b[30mC\u001b[39m\u001b[49m\u001b[47m\u001b[30mC\u001b[39m\u001b[49m\u001b[47m\u001b[30mT\u001b[39m\u001b[49m\u001b[47m\u001b[30mT\u001b[39m\u001b[49m\u001b[47m\u001b[30mC\u001b[39m\u001b[49m\u001b[47m\u001b[30mC\u001b[39m\u001b[49m\u001b[47m\u001b[30mA\u001b[39m\u001b[49m\u001b[47m\u001b[30mG\u001b[39m\u001b[49m\u001b[47m\u001b[30mA\u001b[39m\u001b[49m\u001b[47m\u001b[30mG\u001b[39m\u001b[49m\u001b[47m\u001b[30mT\u001b[39m\u001b[49m\u001b[47m\u001b[30mC\u001b[39m\u001b[49m\u001b[47m\u001b[30mC\u001b[39m\u001b[49m\u001b[47m\u001b[30mA\u001b[39m\u001b[49m IMGT_A*01:01:01:03\n",
       "    [3]  4626 \u001b[47m\u001b[30mA\u001b[39m\u001b[49m\u001b[47m\u001b[30mA\u001b[39m\u001b[49m\u001b[47m\u001b[30mG\u001b[39m\u001b[49m\u001b[47m\u001b[30mG\u001b[39m\u001b[49m\u001b[47m\u001b[30mG\u001b[39m\u001b[49m\u001b[47m\u001b[30mG\u001b[39m\u001b[49m\u001b[47m\u001b[30mA\u001b[39m\u001b[49m\u001b[47m\u001b[30mG\u001b[39m\u001b[49m\u001b[47m\u001b[30mA\u001b[39m\u001b[49m\u001b[47m\u001b[30mG\u001b[39m\u001b[49m\u001b[47m\u001b[30mG\u001b[39m\u001b[49m\u001b[47m\u001b[30mA\u001b[39m\u001b[49m\u001b[47m\u001b[30mG\u001b[39m\u001b[49m\u001b[47m\u001b[30mG\u001b[39m\u001b[49m\u001b[47m\u001b[30mG\u001b[39m\u001b[49m\u001b[47m\u001b[30mC\u001b[39m\u001b[49m\u001b[47m\u001b[30mC\u001b[39m\u001b[49m\u001b[47m\u001b[30mT\u001b[39m\u001b[49m\u001b[47m\u001b[30mG\u001b[39m\u001b[49m\u001b[47m\u001b[30mA\u001b[39m\u001b[49m\u001b[47m\u001b[30mA\u001b[39m\u001b[49m...\u001b[47m\u001b[30mA\u001b[39m\u001b[49m\u001b[47m\u001b[30mT\u001b[39m\u001b[49m\u001b[47m\u001b[30mG\u001b[39m\u001b[49m\u001b[47m\u001b[30mA\u001b[39m\u001b[49m\u001b[47m\u001b[30mG\u001b[39m\u001b[49m\u001b[47m\u001b[30mA\u001b[39m\u001b[49m\u001b[47m\u001b[30mA\u001b[39m\u001b[49m\u001b[47m\u001b[30mC\u001b[39m\u001b[49m\u001b[47m\u001b[30mC\u001b[39m\u001b[49m\u001b[47m\u001b[30mT\u001b[39m\u001b[49m\u001b[47m\u001b[30mT\u001b[39m\u001b[49m\u001b[47m\u001b[30mC\u001b[39m\u001b[49m\u001b[47m\u001b[30mC\u001b[39m\u001b[49m\u001b[47m\u001b[30mA\u001b[39m\u001b[49m\u001b[47m\u001b[30mG\u001b[39m\u001b[49m\u001b[47m\u001b[30mA\u001b[39m\u001b[49m\u001b[47m\u001b[30mG\u001b[39m\u001b[49m\u001b[47m\u001b[30mT\u001b[39m\u001b[49m\u001b[47m\u001b[30mC\u001b[39m\u001b[49m\u001b[47m\u001b[30mC\u001b[39m\u001b[49m\u001b[47m\u001b[30mA\u001b[39m\u001b[49m IMGT_A*01:01:01:04\n",
       "    [4]  4626 \u001b[47m\u001b[30mA\u001b[39m\u001b[49m\u001b[47m\u001b[30mA\u001b[39m\u001b[49m\u001b[47m\u001b[30mG\u001b[39m\u001b[49m\u001b[47m\u001b[30mG\u001b[39m\u001b[49m\u001b[47m\u001b[30mG\u001b[39m\u001b[49m\u001b[47m\u001b[30mG\u001b[39m\u001b[49m\u001b[47m\u001b[30mA\u001b[39m\u001b[49m\u001b[47m\u001b[30mG\u001b[39m\u001b[49m\u001b[47m\u001b[30mA\u001b[39m\u001b[49m\u001b[47m\u001b[30mG\u001b[39m\u001b[49m\u001b[47m\u001b[30mG\u001b[39m\u001b[49m\u001b[47m\u001b[30mA\u001b[39m\u001b[49m\u001b[47m\u001b[30mG\u001b[39m\u001b[49m\u001b[47m\u001b[30mG\u001b[39m\u001b[49m\u001b[47m\u001b[30mG\u001b[39m\u001b[49m\u001b[47m\u001b[30mC\u001b[39m\u001b[49m\u001b[47m\u001b[30mC\u001b[39m\u001b[49m\u001b[47m\u001b[30mT\u001b[39m\u001b[49m\u001b[47m\u001b[30mG\u001b[39m\u001b[49m\u001b[47m\u001b[30mA\u001b[39m\u001b[49m\u001b[47m\u001b[30mA\u001b[39m\u001b[49m...\u001b[47m\u001b[30mA\u001b[39m\u001b[49m\u001b[47m\u001b[30mT\u001b[39m\u001b[49m\u001b[47m\u001b[30mG\u001b[39m\u001b[49m\u001b[47m\u001b[30mA\u001b[39m\u001b[49m\u001b[47m\u001b[30mG\u001b[39m\u001b[49m\u001b[47m\u001b[30mA\u001b[39m\u001b[49m\u001b[47m\u001b[30mA\u001b[39m\u001b[49m\u001b[47m\u001b[30mC\u001b[39m\u001b[49m\u001b[47m\u001b[30mC\u001b[39m\u001b[49m\u001b[47m\u001b[30mT\u001b[39m\u001b[49m\u001b[47m\u001b[30mT\u001b[39m\u001b[49m\u001b[47m\u001b[30mC\u001b[39m\u001b[49m\u001b[47m\u001b[30mC\u001b[39m\u001b[49m\u001b[47m\u001b[30mA\u001b[39m\u001b[49m\u001b[47m\u001b[30mG\u001b[39m\u001b[49m\u001b[47m\u001b[30mA\u001b[39m\u001b[49m\u001b[47m\u001b[30mG\u001b[39m\u001b[49m\u001b[47m\u001b[30mT\u001b[39m\u001b[49m\u001b[47m\u001b[30mC\u001b[39m\u001b[49m\u001b[47m\u001b[30mC\u001b[39m\u001b[49m\u001b[47m\u001b[30mA\u001b[39m\u001b[49m IMGT_A*01:01:01:05\n",
       "    [5]  4626 \u001b[47m\u001b[30mA\u001b[39m\u001b[49m\u001b[47m\u001b[30mA\u001b[39m\u001b[49m\u001b[47m\u001b[30mG\u001b[39m\u001b[49m\u001b[47m\u001b[30mG\u001b[39m\u001b[49m\u001b[47m\u001b[30mG\u001b[39m\u001b[49m\u001b[47m\u001b[30mG\u001b[39m\u001b[49m\u001b[47m\u001b[30mA\u001b[39m\u001b[49m\u001b[47m\u001b[30mG\u001b[39m\u001b[49m\u001b[47m\u001b[30mA\u001b[39m\u001b[49m\u001b[47m\u001b[30mG\u001b[39m\u001b[49m\u001b[47m\u001b[30mG\u001b[39m\u001b[49m\u001b[47m\u001b[30mA\u001b[39m\u001b[49m\u001b[47m\u001b[30mG\u001b[39m\u001b[49m\u001b[47m\u001b[30mG\u001b[39m\u001b[49m\u001b[47m\u001b[30mG\u001b[39m\u001b[49m\u001b[47m\u001b[30mC\u001b[39m\u001b[49m\u001b[47m\u001b[30mC\u001b[39m\u001b[49m\u001b[47m\u001b[30mT\u001b[39m\u001b[49m\u001b[47m\u001b[30mG\u001b[39m\u001b[49m\u001b[47m\u001b[30mA\u001b[39m\u001b[49m\u001b[47m\u001b[30mA\u001b[39m\u001b[49m...\u001b[47m\u001b[30mA\u001b[39m\u001b[49m\u001b[47m\u001b[30mT\u001b[39m\u001b[49m\u001b[47m\u001b[30mG\u001b[39m\u001b[49m\u001b[47m\u001b[30mA\u001b[39m\u001b[49m\u001b[47m\u001b[30mG\u001b[39m\u001b[49m\u001b[47m\u001b[30mA\u001b[39m\u001b[49m\u001b[47m\u001b[30mA\u001b[39m\u001b[49m\u001b[47m\u001b[30mC\u001b[39m\u001b[49m\u001b[47m\u001b[30mC\u001b[39m\u001b[49m\u001b[47m\u001b[30mT\u001b[39m\u001b[49m\u001b[47m\u001b[30mT\u001b[39m\u001b[49m\u001b[47m\u001b[30mC\u001b[39m\u001b[49m\u001b[47m\u001b[30mC\u001b[39m\u001b[49m\u001b[47m\u001b[30mA\u001b[39m\u001b[49m\u001b[47m\u001b[30mG\u001b[39m\u001b[49m\u001b[47m\u001b[30mA\u001b[39m\u001b[49m\u001b[47m\u001b[30mG\u001b[39m\u001b[49m\u001b[47m\u001b[30mT\u001b[39m\u001b[49m\u001b[47m\u001b[30mC\u001b[39m\u001b[49m\u001b[47m\u001b[30mC\u001b[39m\u001b[49m\u001b[47m\u001b[30mA\u001b[39m\u001b[49m IMGT_A*01:01:01:06\n",
       "    ...   ... ...\n",
       "[26569] 11548 \u001b[47m\u001b[30mG\u001b[39m\u001b[49m\u001b[47m\u001b[30mC\u001b[39m\u001b[49m\u001b[47m\u001b[30mA\u001b[39m\u001b[49m\u001b[47m\u001b[30mT\u001b[39m\u001b[49m\u001b[47m\u001b[30mC\u001b[39m\u001b[49m\u001b[47m\u001b[30mC\u001b[39m\u001b[49m\u001b[47m\u001b[30mA\u001b[39m\u001b[49m\u001b[47m\u001b[30mC\u001b[39m\u001b[49m\u001b[47m\u001b[30mA\u001b[39m\u001b[49m\u001b[47m\u001b[30mG\u001b[39m\u001b[49m\u001b[47m\u001b[30mA\u001b[39m\u001b[49m\u001b[47m\u001b[30mA\u001b[39m\u001b[49m\u001b[47m\u001b[30mT\u001b[39m\u001b[49m\u001b[47m\u001b[30mC\u001b[39m\u001b[49m\u001b[47m\u001b[30mA\u001b[39m\u001b[49m\u001b[47m\u001b[30mC\u001b[39m\u001b[49m\u001b[47m\u001b[30mA\u001b[39m\u001b[49m\u001b[47m\u001b[30mT\u001b[39m\u001b[49m\u001b[47m\u001b[30mT\u001b[39m\u001b[49m\u001b[47m\u001b[30mT\u001b[39m\u001b[49m\u001b[47m\u001b[30mT\u001b[39m\u001b[49m...\u001b[47m\u001b[30mT\u001b[39m\u001b[49m\u001b[47m\u001b[30mT\u001b[39m\u001b[49m\u001b[47m\u001b[30mT\u001b[39m\u001b[49m\u001b[47m\u001b[30mC\u001b[39m\u001b[49m\u001b[47m\u001b[30mT\u001b[39m\u001b[49m\u001b[47m\u001b[30mC\u001b[39m\u001b[49m\u001b[47m\u001b[30mA\u001b[39m\u001b[49m\u001b[47m\u001b[30mA\u001b[39m\u001b[49m\u001b[47m\u001b[30mA\u001b[39m\u001b[49m\u001b[47m\u001b[30mG\u001b[39m\u001b[49m\u001b[47m\u001b[30mA\u001b[39m\u001b[49m\u001b[47m\u001b[30mT\u001b[39m\u001b[49m\u001b[47m\u001b[30mG\u001b[39m\u001b[49m\u001b[47m\u001b[30mG\u001b[39m\u001b[49m\u001b[47m\u001b[30mA\u001b[39m\u001b[49m\u001b[47m\u001b[30mG\u001b[39m\u001b[49m\u001b[47m\u001b[30mT\u001b[39m\u001b[49m\u001b[47m\u001b[30mT\u001b[39m\u001b[49m\u001b[47m\u001b[30mA\u001b[39m\u001b[49m\u001b[47m\u001b[30mA\u001b[39m\u001b[49m\u001b[47m\u001b[30mA\u001b[39m\u001b[49m IMGT_DRB1*16:66:m...\n",
       "[26570] 11548 \u001b[47m\u001b[30mG\u001b[39m\u001b[49m\u001b[47m\u001b[30mC\u001b[39m\u001b[49m\u001b[47m\u001b[30mA\u001b[39m\u001b[49m\u001b[47m\u001b[30mT\u001b[39m\u001b[49m\u001b[47m\u001b[30mC\u001b[39m\u001b[49m\u001b[47m\u001b[30mC\u001b[39m\u001b[49m\u001b[47m\u001b[30mA\u001b[39m\u001b[49m\u001b[47m\u001b[30mC\u001b[39m\u001b[49m\u001b[47m\u001b[30mA\u001b[39m\u001b[49m\u001b[47m\u001b[30mG\u001b[39m\u001b[49m\u001b[47m\u001b[30mA\u001b[39m\u001b[49m\u001b[47m\u001b[30mA\u001b[39m\u001b[49m\u001b[47m\u001b[30mT\u001b[39m\u001b[49m\u001b[47m\u001b[30mC\u001b[39m\u001b[49m\u001b[47m\u001b[30mA\u001b[39m\u001b[49m\u001b[47m\u001b[30mC\u001b[39m\u001b[49m\u001b[47m\u001b[30mA\u001b[39m\u001b[49m\u001b[47m\u001b[30mT\u001b[39m\u001b[49m\u001b[47m\u001b[30mT\u001b[39m\u001b[49m\u001b[47m\u001b[30mT\u001b[39m\u001b[49m\u001b[47m\u001b[30mT\u001b[39m\u001b[49m...\u001b[47m\u001b[30mT\u001b[39m\u001b[49m\u001b[47m\u001b[30mT\u001b[39m\u001b[49m\u001b[47m\u001b[30mT\u001b[39m\u001b[49m\u001b[47m\u001b[30mC\u001b[39m\u001b[49m\u001b[47m\u001b[30mT\u001b[39m\u001b[49m\u001b[47m\u001b[30mC\u001b[39m\u001b[49m\u001b[47m\u001b[30mA\u001b[39m\u001b[49m\u001b[47m\u001b[30mA\u001b[39m\u001b[49m\u001b[47m\u001b[30mA\u001b[39m\u001b[49m\u001b[47m\u001b[30mG\u001b[39m\u001b[49m\u001b[47m\u001b[30mA\u001b[39m\u001b[49m\u001b[47m\u001b[30mT\u001b[39m\u001b[49m\u001b[47m\u001b[30mG\u001b[39m\u001b[49m\u001b[47m\u001b[30mG\u001b[39m\u001b[49m\u001b[47m\u001b[30mA\u001b[39m\u001b[49m\u001b[47m\u001b[30mG\u001b[39m\u001b[49m\u001b[47m\u001b[30mT\u001b[39m\u001b[49m\u001b[47m\u001b[30mT\u001b[39m\u001b[49m\u001b[47m\u001b[30mA\u001b[39m\u001b[49m\u001b[47m\u001b[30mA\u001b[39m\u001b[49m\u001b[47m\u001b[30mA\u001b[39m\u001b[49m IMGT_DRB1*16:67:m...\n",
       "[26571] 11547 \u001b[47m\u001b[30mG\u001b[39m\u001b[49m\u001b[47m\u001b[30mC\u001b[39m\u001b[49m\u001b[47m\u001b[30mA\u001b[39m\u001b[49m\u001b[47m\u001b[30mT\u001b[39m\u001b[49m\u001b[47m\u001b[30mC\u001b[39m\u001b[49m\u001b[47m\u001b[30mC\u001b[39m\u001b[49m\u001b[47m\u001b[30mA\u001b[39m\u001b[49m\u001b[47m\u001b[30mC\u001b[39m\u001b[49m\u001b[47m\u001b[30mA\u001b[39m\u001b[49m\u001b[47m\u001b[30mG\u001b[39m\u001b[49m\u001b[47m\u001b[30mA\u001b[39m\u001b[49m\u001b[47m\u001b[30mA\u001b[39m\u001b[49m\u001b[47m\u001b[30mT\u001b[39m\u001b[49m\u001b[47m\u001b[30mC\u001b[39m\u001b[49m\u001b[47m\u001b[30mA\u001b[39m\u001b[49m\u001b[47m\u001b[30mC\u001b[39m\u001b[49m\u001b[47m\u001b[30mA\u001b[39m\u001b[49m\u001b[47m\u001b[30mT\u001b[39m\u001b[49m\u001b[47m\u001b[30mT\u001b[39m\u001b[49m\u001b[47m\u001b[30mT\u001b[39m\u001b[49m\u001b[47m\u001b[30mT\u001b[39m\u001b[49m...\u001b[47m\u001b[30mT\u001b[39m\u001b[49m\u001b[47m\u001b[30mT\u001b[39m\u001b[49m\u001b[47m\u001b[30mT\u001b[39m\u001b[49m\u001b[47m\u001b[30mC\u001b[39m\u001b[49m\u001b[47m\u001b[30mT\u001b[39m\u001b[49m\u001b[47m\u001b[30mC\u001b[39m\u001b[49m\u001b[47m\u001b[30mA\u001b[39m\u001b[49m\u001b[47m\u001b[30mA\u001b[39m\u001b[49m\u001b[47m\u001b[30mA\u001b[39m\u001b[49m\u001b[47m\u001b[30mG\u001b[39m\u001b[49m\u001b[47m\u001b[30mA\u001b[39m\u001b[49m\u001b[47m\u001b[30mT\u001b[39m\u001b[49m\u001b[47m\u001b[30mG\u001b[39m\u001b[49m\u001b[47m\u001b[30mG\u001b[39m\u001b[49m\u001b[47m\u001b[30mA\u001b[39m\u001b[49m\u001b[47m\u001b[30mG\u001b[39m\u001b[49m\u001b[47m\u001b[30mT\u001b[39m\u001b[49m\u001b[47m\u001b[30mT\u001b[39m\u001b[49m\u001b[47m\u001b[30mA\u001b[39m\u001b[49m\u001b[47m\u001b[30mA\u001b[39m\u001b[49m\u001b[47m\u001b[30mA\u001b[39m\u001b[49m IMGT_DRB1*16:68:m...\n",
       "[26572] 11548 \u001b[47m\u001b[30mG\u001b[39m\u001b[49m\u001b[47m\u001b[30mC\u001b[39m\u001b[49m\u001b[47m\u001b[30mA\u001b[39m\u001b[49m\u001b[47m\u001b[30mT\u001b[39m\u001b[49m\u001b[47m\u001b[30mC\u001b[39m\u001b[49m\u001b[47m\u001b[30mC\u001b[39m\u001b[49m\u001b[47m\u001b[30mA\u001b[39m\u001b[49m\u001b[47m\u001b[30mC\u001b[39m\u001b[49m\u001b[47m\u001b[30mA\u001b[39m\u001b[49m\u001b[47m\u001b[30mG\u001b[39m\u001b[49m\u001b[47m\u001b[30mA\u001b[39m\u001b[49m\u001b[47m\u001b[30mA\u001b[39m\u001b[49m\u001b[47m\u001b[30mT\u001b[39m\u001b[49m\u001b[47m\u001b[30mC\u001b[39m\u001b[49m\u001b[47m\u001b[30mA\u001b[39m\u001b[49m\u001b[47m\u001b[30mC\u001b[39m\u001b[49m\u001b[47m\u001b[30mA\u001b[39m\u001b[49m\u001b[47m\u001b[30mT\u001b[39m\u001b[49m\u001b[47m\u001b[30mT\u001b[39m\u001b[49m\u001b[47m\u001b[30mT\u001b[39m\u001b[49m\u001b[47m\u001b[30mT\u001b[39m\u001b[49m...\u001b[47m\u001b[30mT\u001b[39m\u001b[49m\u001b[47m\u001b[30mT\u001b[39m\u001b[49m\u001b[47m\u001b[30mT\u001b[39m\u001b[49m\u001b[47m\u001b[30mC\u001b[39m\u001b[49m\u001b[47m\u001b[30mT\u001b[39m\u001b[49m\u001b[47m\u001b[30mC\u001b[39m\u001b[49m\u001b[47m\u001b[30mA\u001b[39m\u001b[49m\u001b[47m\u001b[30mA\u001b[39m\u001b[49m\u001b[47m\u001b[30mA\u001b[39m\u001b[49m\u001b[47m\u001b[30mG\u001b[39m\u001b[49m\u001b[47m\u001b[30mA\u001b[39m\u001b[49m\u001b[47m\u001b[30mT\u001b[39m\u001b[49m\u001b[47m\u001b[30mG\u001b[39m\u001b[49m\u001b[47m\u001b[30mG\u001b[39m\u001b[49m\u001b[47m\u001b[30mA\u001b[39m\u001b[49m\u001b[47m\u001b[30mG\u001b[39m\u001b[49m\u001b[47m\u001b[30mT\u001b[39m\u001b[49m\u001b[47m\u001b[30mT\u001b[39m\u001b[49m\u001b[47m\u001b[30mA\u001b[39m\u001b[49m\u001b[47m\u001b[30mA\u001b[39m\u001b[49m\u001b[47m\u001b[30mA\u001b[39m\u001b[49m IMGT_DRB1*16:69:m...\n",
       "[26573] 11548 \u001b[47m\u001b[30mG\u001b[39m\u001b[49m\u001b[47m\u001b[30mC\u001b[39m\u001b[49m\u001b[47m\u001b[30mA\u001b[39m\u001b[49m\u001b[47m\u001b[30mT\u001b[39m\u001b[49m\u001b[47m\u001b[30mC\u001b[39m\u001b[49m\u001b[47m\u001b[30mC\u001b[39m\u001b[49m\u001b[47m\u001b[30mA\u001b[39m\u001b[49m\u001b[47m\u001b[30mC\u001b[39m\u001b[49m\u001b[47m\u001b[30mA\u001b[39m\u001b[49m\u001b[47m\u001b[30mG\u001b[39m\u001b[49m\u001b[47m\u001b[30mA\u001b[39m\u001b[49m\u001b[47m\u001b[30mA\u001b[39m\u001b[49m\u001b[47m\u001b[30mT\u001b[39m\u001b[49m\u001b[47m\u001b[30mC\u001b[39m\u001b[49m\u001b[47m\u001b[30mA\u001b[39m\u001b[49m\u001b[47m\u001b[30mC\u001b[39m\u001b[49m\u001b[47m\u001b[30mA\u001b[39m\u001b[49m\u001b[47m\u001b[30mT\u001b[39m\u001b[49m\u001b[47m\u001b[30mT\u001b[39m\u001b[49m\u001b[47m\u001b[30mT\u001b[39m\u001b[49m\u001b[47m\u001b[30mT\u001b[39m\u001b[49m...\u001b[47m\u001b[30mT\u001b[39m\u001b[49m\u001b[47m\u001b[30mT\u001b[39m\u001b[49m\u001b[47m\u001b[30mT\u001b[39m\u001b[49m\u001b[47m\u001b[30mC\u001b[39m\u001b[49m\u001b[47m\u001b[30mT\u001b[39m\u001b[49m\u001b[47m\u001b[30mC\u001b[39m\u001b[49m\u001b[47m\u001b[30mA\u001b[39m\u001b[49m\u001b[47m\u001b[30mA\u001b[39m\u001b[49m\u001b[47m\u001b[30mA\u001b[39m\u001b[49m\u001b[47m\u001b[30mG\u001b[39m\u001b[49m\u001b[47m\u001b[30mA\u001b[39m\u001b[49m\u001b[47m\u001b[30mT\u001b[39m\u001b[49m\u001b[47m\u001b[30mG\u001b[39m\u001b[49m\u001b[47m\u001b[30mG\u001b[39m\u001b[49m\u001b[47m\u001b[30mA\u001b[39m\u001b[49m\u001b[47m\u001b[30mG\u001b[39m\u001b[49m\u001b[47m\u001b[30mT\u001b[39m\u001b[49m\u001b[47m\u001b[30mT\u001b[39m\u001b[49m\u001b[47m\u001b[30mA\u001b[39m\u001b[49m\u001b[47m\u001b[30mA\u001b[39m\u001b[49m\u001b[47m\u001b[30mA\u001b[39m\u001b[49m IMGT_DRB1*16:71:m..."
      ]
     },
     "metadata": {},
     "output_type": "display_data"
    },
    {
     "data": {
      "text/html": [
       "<ol>\n",
       "\t<li>'A-01-01'</li>\n",
       "\t<li>'A-01-01'</li>\n",
       "\t<li>'A-01-01'</li>\n",
       "\t<li>'A-01-01'</li>\n",
       "\t<li>'A-01-01'</li>\n",
       "\t<li>'A-01-01'</li>\n",
       "</ol>\n"
      ],
      "text/latex": [
       "\\begin{enumerate}\n",
       "\\item 'A-01-01'\n",
       "\\item 'A-01-01'\n",
       "\\item 'A-01-01'\n",
       "\\item 'A-01-01'\n",
       "\\item 'A-01-01'\n",
       "\\item 'A-01-01'\n",
       "\\end{enumerate}\n"
      ],
      "text/markdown": [
       "1. 'A-01-01'\n",
       "2. 'A-01-01'\n",
       "3. 'A-01-01'\n",
       "4. 'A-01-01'\n",
       "5. 'A-01-01'\n",
       "6. 'A-01-01'\n",
       "\n",
       "\n"
      ],
      "text/plain": [
       "[[1]]\n",
       "[1] \"A-01-01\"\n",
       "\n",
       "[[2]]\n",
       "[1] \"A-01-01\"\n",
       "\n",
       "[[3]]\n",
       "[1] \"A-01-01\"\n",
       "\n",
       "[[4]]\n",
       "[1] \"A-01-01\"\n",
       "\n",
       "[[5]]\n",
       "[1] \"A-01-01\"\n",
       "\n",
       "[[6]]\n",
       "[1] \"A-01-01\"\n"
      ]
     },
     "metadata": {},
     "output_type": "display_data"
    },
    {
     "data": {
      "text/html": [
       "<ol>\n",
       "\t<li>'DRB1-16-65'</li>\n",
       "\t<li>'DRB1-16-66'</li>\n",
       "\t<li>'DRB1-16-67'</li>\n",
       "\t<li>'DRB1-16-68'</li>\n",
       "\t<li>'DRB1-16-69'</li>\n",
       "\t<li>'DRB1-16-71'</li>\n",
       "</ol>\n"
      ],
      "text/latex": [
       "\\begin{enumerate}\n",
       "\\item 'DRB1-16-65'\n",
       "\\item 'DRB1-16-66'\n",
       "\\item 'DRB1-16-67'\n",
       "\\item 'DRB1-16-68'\n",
       "\\item 'DRB1-16-69'\n",
       "\\item 'DRB1-16-71'\n",
       "\\end{enumerate}\n"
      ],
      "text/markdown": [
       "1. 'DRB1-16-65'\n",
       "2. 'DRB1-16-66'\n",
       "3. 'DRB1-16-67'\n",
       "4. 'DRB1-16-68'\n",
       "5. 'DRB1-16-69'\n",
       "6. 'DRB1-16-71'\n",
       "\n",
       "\n"
      ],
      "text/plain": [
       "[[1]]\n",
       "[1] \"DRB1-16-65\"\n",
       "\n",
       "[[2]]\n",
       "[1] \"DRB1-16-66\"\n",
       "\n",
       "[[3]]\n",
       "[1] \"DRB1-16-67\"\n",
       "\n",
       "[[4]]\n",
       "[1] \"DRB1-16-68\"\n",
       "\n",
       "[[5]]\n",
       "[1] \"DRB1-16-69\"\n",
       "\n",
       "[[6]]\n",
       "[1] \"DRB1-16-71\"\n"
      ]
     },
     "metadata": {},
     "output_type": "display_data"
    }
   ],
   "source": [
    "# Examine the database\n",
    "database\n",
    "head(formatted_database_names)\n",
    "tail(formatted_database_names)"
   ]
  },
  {
   "cell_type": "markdown",
   "id": "e8e6bfc9-eb23-42c0-8d29-d16d17043942",
   "metadata": {},
   "source": [
    "There was a previous version of HLA imputation, which I moved from personalized_references to personalized_references_old"
   ]
  },
  {
   "cell_type": "markdown",
   "id": "a72fd4a5-5bf0-451b-83de-5f30cd29f448",
   "metadata": {},
   "source": [
    "## AMP2RA"
   ]
  },
  {
   "cell_type": "code",
   "execution_count": 14,
   "id": "351d10eb-e593-4e15-9974-794434ef3d29",
   "metadata": {},
   "outputs": [],
   "source": [
    "personalized_alleles_path = '/data/srlab/ssg34/scHLA/data/AMPGENO/RA_updated_alleles/' \n",
    "out = '/data/srlab2/jkang/scHLA/personalized_final/AMP2RA_NewPanel/personalized_references/'\n",
    "make_references(personalized_alleles_path, sequence_database_path, out)"
   ]
  },
  {
   "cell_type": "markdown",
   "id": "888dcc43-d3e7-4fd5-a653-0f4f43726dcf",
   "metadata": {},
   "source": [
    "## Smillie2019"
   ]
  },
  {
   "cell_type": "code",
   "execution_count": 8,
   "id": "c8019da9-ec1c-4e2c-8ad5-46d36c023322",
   "metadata": {},
   "outputs": [],
   "source": [
    "personalized_alleles_path = '/data/srlab/ssg34/scHLA/data/Smillie2019/ccdg_broad/updated_newref_alleles'\n",
    "out = '/data/srlab2/jkang/scHLA/personalized_final/Smillie2019_NewPanel/personalized_references/'\n",
    "make_references(personalized_alleles_path, sequence_database_path, out)\n",
    "\n",
    "personalized_alleles_path = '/data/srlab/ssg34/scHLA/data/Smillie2019/Helmsley_merged/updated_newref_alleles'\n",
    "out = '/data/srlab2/jkang/scHLA/personalized_final/Smillie2019_NewPanel/personalized_references/'\n",
    "make_references(personalized_alleles_path, sequence_database_path, out)"
   ]
  },
  {
   "cell_type": "markdown",
   "id": "f9a3d094-b8b9-4e4f-85e9-e7261e74a179",
   "metadata": {},
   "source": [
    "## Randolph2021"
   ]
  },
  {
   "cell_type": "code",
   "execution_count": 6,
   "id": "0eeceb78-65b4-4235-aa5f-13b4624186f4",
   "metadata": {},
   "outputs": [],
   "source": [
    "personalized_alleles_path = '/data/srlab/ssg34/scHLA/data/Randolph2021/updated_newref_alleles'\n",
    "out = '/data/srlab2/jkang/scHLA/personalized_final/Randolph2021_NewPanel/personalized_references/'\n",
    "make_references(personalized_alleles_path, sequence_database_path, out)"
   ]
  },
  {
   "cell_type": "markdown",
   "id": "52404a80-1911-4ced-b8ed-9a1b52682003",
   "metadata": {},
   "source": [
    "## OneK1K"
   ]
  },
  {
   "cell_type": "code",
   "execution_count": 9,
   "id": "b6ae020d-6300-4bc0-9195-ed52aa15eec8",
   "metadata": {},
   "outputs": [],
   "source": [
    "personalized_alleles_path = '/data/srlab/ssg34/scHLA/data/1K1K/updated_newref_alleles'\n",
    "out = '/data/srlab2/jkang/scHLA/personalized_final/OneK1K_NewPanel/personalized_references/'\n",
    "make_references(personalized_alleles_path, sequence_database_path, out) # Takes 5 mins"
   ]
  },
  {
   "cell_type": "markdown",
   "id": "84b05d3f-489c-4255-b983-4c5857eb7e82",
   "metadata": {},
   "source": [
    "## All done!"
   ]
  },
  {
   "cell_type": "code",
   "execution_count": 9,
   "id": "1b4fcf12-9dde-4538-9004-5655f7c029fa",
   "metadata": {},
   "outputs": [
    {
     "data": {
      "text/plain": [
       "R version 4.0.5 (2021-03-31)\n",
       "Platform: x86_64-conda-linux-gnu (64-bit)\n",
       "Running under: Red Hat Enterprise Linux Server release 6.5 (Santiago)\n",
       "\n",
       "Matrix products: default\n",
       "BLAS/LAPACK: /PHShome/jbk37/anaconda3/envs/hla_new/lib/libopenblasp-r0.3.18.so\n",
       "\n",
       "locale:\n",
       " [1] LC_CTYPE=en_US.UTF-8       LC_NUMERIC=C              \n",
       " [3] LC_TIME=en_US.UTF-8        LC_COLLATE=en_US.UTF-8    \n",
       " [5] LC_MONETARY=en_US.UTF-8    LC_MESSAGES=en_US.UTF-8   \n",
       " [7] LC_PAPER=en_US.UTF-8       LC_NAME=C                 \n",
       " [9] LC_ADDRESS=C               LC_TELEPHONE=C            \n",
       "[11] LC_MEASUREMENT=en_US.UTF-8 LC_IDENTIFICATION=C       \n",
       "\n",
       "attached base packages:\n",
       "[1] parallel  stats4    stats     graphics  grDevices utils     datasets \n",
       "[8] methods   base     \n",
       "\n",
       "other attached packages:\n",
       " [1] forcats_0.5.1        purrr_0.3.4          readr_2.1.2         \n",
       " [4] tidyr_1.2.0          tibble_3.1.6         tidyverse_1.3.1     \n",
       " [7] stringr_1.4.0        ggplot2_3.3.5        dplyr_1.0.8         \n",
       "[10] Matrix_1.4-0         Biostrings_2.58.0    XVector_0.30.0      \n",
       "[13] rtracklayer_1.50.0   GenomicRanges_1.42.0 GenomeInfoDb_1.26.7 \n",
       "[16] IRanges_2.24.1       S4Vectors_0.28.1     BiocGenerics_0.36.1 \n",
       "\n",
       "loaded via a namespace (and not attached):\n",
       " [1] MatrixGenerics_1.2.1        Biobase_2.50.0             \n",
       " [3] httr_1.4.2                  jsonlite_1.8.0             \n",
       " [5] modelr_0.1.8                assertthat_0.2.1           \n",
       " [7] cellranger_1.1.0            GenomeInfoDbData_1.2.4     \n",
       " [9] Rsamtools_2.6.0             pillar_1.7.0               \n",
       "[11] backports_1.4.1             lattice_0.20-45            \n",
       "[13] glue_1.6.2                  uuid_1.0-4                 \n",
       "[15] digest_0.6.29               rvest_1.0.2                \n",
       "[17] colorspace_2.0-3            htmltools_0.5.2            \n",
       "[19] XML_3.99-0.9                pkgconfig_2.0.3            \n",
       "[21] broom_0.7.12                haven_2.4.3                \n",
       "[23] zlibbioc_1.36.0             scales_1.1.1               \n",
       "[25] tzdb_0.2.0                  BiocParallel_1.24.1        \n",
       "[27] generics_0.1.2              ellipsis_0.3.2             \n",
       "[29] withr_2.5.0                 SummarizedExperiment_1.20.0\n",
       "[31] repr_1.1.4                  cli_3.2.0                  \n",
       "[33] magrittr_2.0.2              crayon_1.5.0               \n",
       "[35] readxl_1.3.1                evaluate_0.15              \n",
       "[37] fs_1.5.2                    fansi_1.0.2                \n",
       "[39] xml2_1.3.3                  tools_4.0.5                \n",
       "[41] hms_1.1.1                   lifecycle_1.0.1            \n",
       "[43] matrixStats_0.61.0          reprex_2.0.1               \n",
       "[45] munsell_0.5.0               DelayedArray_0.16.3        \n",
       "[47] compiler_4.0.5              rlang_1.0.2                \n",
       "[49] grid_4.0.5                  RCurl_1.98-1.6             \n",
       "[51] rstudioapi_0.13             pbdZMQ_0.3-7               \n",
       "[53] IRkernel_1.3                bitops_1.0-7               \n",
       "[55] base64enc_0.1-3             gtable_0.3.0               \n",
       "[57] DBI_1.1.2                   R6_2.5.1                   \n",
       "[59] GenomicAlignments_1.26.0    lubridate_1.8.0            \n",
       "[61] fastmap_1.1.0               utf8_1.2.2                 \n",
       "[63] stringi_1.7.6               IRdisplay_1.1              \n",
       "[65] Rcpp_1.0.8.3                vctrs_0.3.8                \n",
       "[67] dbplyr_2.1.1                tidyselect_1.1.2           "
      ]
     },
     "metadata": {},
     "output_type": "display_data"
    }
   ],
   "source": [
    "sessionInfo()"
   ]
  }
 ],
 "metadata": {
  "kernelspec": {
   "display_name": "R_4.0.5",
   "language": "R",
   "name": "r_4.0.5"
  },
  "language_info": {
   "codemirror_mode": "r",
   "file_extension": ".r",
   "mimetype": "text/x-r-source",
   "name": "R",
   "pygments_lexer": "r",
   "version": "4.0.5"
  }
 },
 "nbformat": 4,
 "nbformat_minor": 5
}
