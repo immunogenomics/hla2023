{
 "cells": [
  {
   "cell_type": "markdown",
   "id": "e9ae7aa6-3a41-4a5f-8bd6-879a101b94c7",
   "metadata": {
    "tags": []
   },
   "source": [
    "# Randolph - run STARsolo on long and short reads separately, compare the concordance\n",
    "\n",
    "Hypothesis:\n",
    "After personalization, the long and short reads should agree more. \n",
    "\n",
    "Before personalization, either long or short should be more \"wrong\" from the true expression and therefore the correlation will be lower."
   ]
  },
  {
   "cell_type": "code",
   "execution_count": 1,
   "id": "b056527a-8a34-4fb5-b965-751eeb03cd1e",
   "metadata": {},
   "outputs": [],
   "source": [
    "suppressPackageStartupMessages({\n",
    "    library(tidyverse)\n",
    "    library(stringr)\n",
    "    library(Matrix)\n",
    "    library(Matrix.utils)\n",
    "    library(singlecellmethods)\n",
    "    library(dplyr)\n",
    "    library(plyr)\n",
    "    library(ggrastr)\n",
    "    library(patchwork)\n",
    "    library(ggpubr)\n",
    "    library(reshape2)\n",
    "})\n",
    "source('../utils.R')"
   ]
  },
  {
   "cell_type": "code",
   "execution_count": 2,
   "id": "b2a36675-de08-4054-aad6-db6b60d8eb88",
   "metadata": {},
   "outputs": [],
   "source": [
    "prefix = '/data/srlab1/jkang/hla/longShort_5prime/'\n",
    "noPers_long = readRDS(paste0(prefix, 'exp_Randolph2021_noPers_noMM_GeneFull_Exon50pAS_long.rds'))\n",
    "noPers_short = readRDS(paste0(prefix, 'exp_Randolph2021_noPers_noMM_GeneFull_Exon50pAS_short.rds'))\n",
    "pers_long = readRDS(paste0(prefix, 'exp_Randolph2021_pers_EM_GeneFull_Exon50pAS_long.rds'))\n",
    "pers_short = readRDS(paste0(prefix, 'exp_Randolph2021_pers_EM_GeneFull_Exon50pAS_short.rds'))"
   ]
  },
  {
   "cell_type": "code",
   "execution_count": 3,
   "id": "e6d6bf1c-9713-4f1f-bf0c-15d3338247d1",
   "metadata": {},
   "outputs": [
    {
     "data": {
      "text/html": [
       "<style>\n",
       ".list-inline {list-style: none; margin:0; padding: 0}\n",
       ".list-inline>li {display: inline-block}\n",
       ".list-inline>li:not(:last-child)::after {content: \"\\00b7\"; padding: 0 .5ex}\n",
       "</style>\n",
       "<ol class=list-inline><li>'CLCA4-AS1'</li><li>'RGS5'</li><li>'PROX1-AS1'</li><li>'TBCE'</li><li>'LINC01115'</li><li>'LINC01830'</li><li>'LINC00486'</li><li>'LINC01238'</li><li>'CYB561D2'</li><li>'PRICKLE2-AS1'</li><li>'MATR3'</li><li>'RAET1E-AS1'</li><li>'LINC01605'</li><li>'LINC00484'</li><li>'DNAJC9-AS1'</li><li>'SPATA13'</li><li>'GOLGA8M'</li><li>'SLFN12L'</li><li>'SIGLEC5'</li><li>'ELFN2'</li><li>'ARMCX5-GPRASP2'</li><li>'TMSB15B'</li></ol>\n"
      ],
      "text/latex": [
       "\\begin{enumerate*}\n",
       "\\item 'CLCA4-AS1'\n",
       "\\item 'RGS5'\n",
       "\\item 'PROX1-AS1'\n",
       "\\item 'TBCE'\n",
       "\\item 'LINC01115'\n",
       "\\item 'LINC01830'\n",
       "\\item 'LINC00486'\n",
       "\\item 'LINC01238'\n",
       "\\item 'CYB561D2'\n",
       "\\item 'PRICKLE2-AS1'\n",
       "\\item 'MATR3'\n",
       "\\item 'RAET1E-AS1'\n",
       "\\item 'LINC01605'\n",
       "\\item 'LINC00484'\n",
       "\\item 'DNAJC9-AS1'\n",
       "\\item 'SPATA13'\n",
       "\\item 'GOLGA8M'\n",
       "\\item 'SLFN12L'\n",
       "\\item 'SIGLEC5'\n",
       "\\item 'ELFN2'\n",
       "\\item 'ARMCX5-GPRASP2'\n",
       "\\item 'TMSB15B'\n",
       "\\end{enumerate*}\n"
      ],
      "text/markdown": [
       "1. 'CLCA4-AS1'\n",
       "2. 'RGS5'\n",
       "3. 'PROX1-AS1'\n",
       "4. 'TBCE'\n",
       "5. 'LINC01115'\n",
       "6. 'LINC01830'\n",
       "7. 'LINC00486'\n",
       "8. 'LINC01238'\n",
       "9. 'CYB561D2'\n",
       "10. 'PRICKLE2-AS1'\n",
       "11. 'MATR3'\n",
       "12. 'RAET1E-AS1'\n",
       "13. 'LINC01605'\n",
       "14. 'LINC00484'\n",
       "15. 'DNAJC9-AS1'\n",
       "16. 'SPATA13'\n",
       "17. 'GOLGA8M'\n",
       "18. 'SLFN12L'\n",
       "19. 'SIGLEC5'\n",
       "20. 'ELFN2'\n",
       "21. 'ARMCX5-GPRASP2'\n",
       "22. 'TMSB15B'\n",
       "\n",
       "\n"
      ],
      "text/plain": [
       " [1] \"CLCA4-AS1\"      \"RGS5\"           \"PROX1-AS1\"      \"TBCE\"          \n",
       " [5] \"LINC01115\"      \"LINC01830\"      \"LINC00486\"      \"LINC01238\"     \n",
       " [9] \"CYB561D2\"       \"PRICKLE2-AS1\"   \"MATR3\"          \"RAET1E-AS1\"    \n",
       "[13] \"LINC01605\"      \"LINC00484\"      \"DNAJC9-AS1\"     \"SPATA13\"       \n",
       "[17] \"GOLGA8M\"        \"SLFN12L\"        \"SIGLEC5\"        \"ELFN2\"         \n",
       "[21] \"ARMCX5-GPRASP2\" \"TMSB15B\"       "
      ]
     },
     "metadata": {},
     "output_type": "display_data"
    },
    {
     "data": {
      "text/html": [
       "<style>\n",
       ".list-inline {list-style: none; margin:0; padding: 0}\n",
       ".list-inline>li {display: inline-block}\n",
       ".list-inline>li:not(:last-child)::after {content: \"\\00b7\"; padding: 0 .5ex}\n",
       "</style>\n",
       "<ol class=list-inline><li>'CLCA4-AS1'</li><li>'RGS5'</li><li>'PROX1-AS1'</li><li>'TBCE'</li><li>'LINC01115'</li><li>'LINC01830'</li><li>'LINC00486'</li><li>'LINC01238'</li><li>'CYB561D2'</li><li>'PRICKLE2-AS1'</li><li>'MATR3'</li><li>'RAET1E-AS1'</li><li>'LINC01605'</li><li>'LINC00484'</li><li>'DNAJC9-AS1'</li><li>'SPATA13'</li><li>'GOLGA8M'</li><li>'SLFN12L'</li><li>'SIGLEC5'</li><li>'ELFN2'</li><li>'ARMCX5-GPRASP2'</li><li>'TMSB15B'</li></ol>\n"
      ],
      "text/latex": [
       "\\begin{enumerate*}\n",
       "\\item 'CLCA4-AS1'\n",
       "\\item 'RGS5'\n",
       "\\item 'PROX1-AS1'\n",
       "\\item 'TBCE'\n",
       "\\item 'LINC01115'\n",
       "\\item 'LINC01830'\n",
       "\\item 'LINC00486'\n",
       "\\item 'LINC01238'\n",
       "\\item 'CYB561D2'\n",
       "\\item 'PRICKLE2-AS1'\n",
       "\\item 'MATR3'\n",
       "\\item 'RAET1E-AS1'\n",
       "\\item 'LINC01605'\n",
       "\\item 'LINC00484'\n",
       "\\item 'DNAJC9-AS1'\n",
       "\\item 'SPATA13'\n",
       "\\item 'GOLGA8M'\n",
       "\\item 'SLFN12L'\n",
       "\\item 'SIGLEC5'\n",
       "\\item 'ELFN2'\n",
       "\\item 'ARMCX5-GPRASP2'\n",
       "\\item 'TMSB15B'\n",
       "\\end{enumerate*}\n"
      ],
      "text/markdown": [
       "1. 'CLCA4-AS1'\n",
       "2. 'RGS5'\n",
       "3. 'PROX1-AS1'\n",
       "4. 'TBCE'\n",
       "5. 'LINC01115'\n",
       "6. 'LINC01830'\n",
       "7. 'LINC00486'\n",
       "8. 'LINC01238'\n",
       "9. 'CYB561D2'\n",
       "10. 'PRICKLE2-AS1'\n",
       "11. 'MATR3'\n",
       "12. 'RAET1E-AS1'\n",
       "13. 'LINC01605'\n",
       "14. 'LINC00484'\n",
       "15. 'DNAJC9-AS1'\n",
       "16. 'SPATA13'\n",
       "17. 'GOLGA8M'\n",
       "18. 'SLFN12L'\n",
       "19. 'SIGLEC5'\n",
       "20. 'ELFN2'\n",
       "21. 'ARMCX5-GPRASP2'\n",
       "22. 'TMSB15B'\n",
       "\n",
       "\n"
      ],
      "text/plain": [
       " [1] \"CLCA4-AS1\"      \"RGS5\"           \"PROX1-AS1\"      \"TBCE\"          \n",
       " [5] \"LINC01115\"      \"LINC01830\"      \"LINC00486\"      \"LINC01238\"     \n",
       " [9] \"CYB561D2\"       \"PRICKLE2-AS1\"   \"MATR3\"          \"RAET1E-AS1\"    \n",
       "[13] \"LINC01605\"      \"LINC00484\"      \"DNAJC9-AS1\"     \"SPATA13\"       \n",
       "[17] \"GOLGA8M\"        \"SLFN12L\"        \"SIGLEC5\"        \"ELFN2\"         \n",
       "[21] \"ARMCX5-GPRASP2\" \"TMSB15B\"       "
      ]
     },
     "metadata": {},
     "output_type": "display_data"
    }
   ],
   "source": [
    "cell_meta = read.csv('../../data/meta/cell_meta_Randolph_completeHLA.csv')\n",
    "\n",
    "# Rename 'IMGT' to 'HLA'\n",
    "rownames(pers_long) = str_replace(rownames(pers_long), 'IMGT_', 'HLA-')\n",
    "rownames(pers_short) = str_replace(rownames(pers_short), 'IMGT_', 'HLA-')\n",
    "\n",
    "# Fix duplicated row (gene) names\n",
    "rownames(pers_long)[which(duplicated(rownames(pers_long)))]\n",
    "rownames(pers_long) = make.unique(rownames(pers_long)) # fix duplicate rownames\n",
    "rownames(pers_short)[which(duplicated(rownames(pers_short)))]\n",
    "rownames(pers_short) = make.unique(rownames(pers_short)) # fix duplicate rownames"
   ]
  },
  {
   "cell_type": "markdown",
   "id": "5c595ede-2fe7-4770-b2fe-a6c29c033a09",
   "metadata": {},
   "source": [
    "Reorder to match cell meta order"
   ]
  },
  {
   "cell_type": "code",
   "execution_count": 4,
   "id": "50218f81-4903-479b-ba9d-988e842924cb",
   "metadata": {},
   "outputs": [],
   "source": [
    "pers_long = pers_long[, cell_meta$Cell]\n",
    "pers_short = pers_short[, cell_meta$Cell]\n",
    "noPers_long = noPers_long[, cell_meta$Cell]\n",
    "noPers_short = noPers_short[, cell_meta$Cell]"
   ]
  },
  {
   "cell_type": "markdown",
   "id": "98d84f3a-eeb1-43c7-98dc-ed8c40445e57",
   "metadata": {},
   "source": [
    "Log-normalize each cell"
   ]
  },
  {
   "cell_type": "code",
   "execution_count": 5,
   "id": "4117ec39-a0d9-4227-8b68-11bf225e3d91",
   "metadata": {},
   "outputs": [],
   "source": [
    "pers_long = normalizeData(pers_long, method = \"log\")\n",
    "pers_short = normalizeData(pers_short, method = \"log\")\n",
    "noPers_long = normalizeData(noPers_long, method = \"log\")\n",
    "noPers_short = normalizeData(noPers_short, method = \"log\")"
   ]
  },
  {
   "cell_type": "markdown",
   "id": "442fddbc-2d57-4493-b479-49d423259847",
   "metadata": {},
   "source": [
    "## Plot improvement in correlations"
   ]
  },
  {
   "cell_type": "code",
   "execution_count": 6,
   "id": "839d295b-bb89-4fd5-a95b-b6853daa1342",
   "metadata": {},
   "outputs": [],
   "source": [
    "HLA_genes = c('HLA-A', 'HLA-B', 'HLA-C','HLA-DRB1','HLA-DPA1','HLA-DPB1','HLA-DQA1','HLA-DQB1')\n",
    "pers_long = pers_long[HLA_genes,]\n",
    "pers_short = pers_short[HLA_genes,]\n",
    "noPers_long = noPers_long[HLA_genes,]\n",
    "noPers_short = noPers_short[HLA_genes,]"
   ]
  },
  {
   "cell_type": "markdown",
   "id": "50edcf00-5ccc-4cc7-b756-e1efd6b04ba7",
   "metadata": {},
   "source": [
    "Sum across cells per sample | Take the mean (by dividing by number of cells)"
   ]
  },
  {
   "cell_type": "code",
   "execution_count": 7,
   "id": "fcea94bc-3108-4e87-9a46-5c4e58ace29d",
   "metadata": {},
   "outputs": [],
   "source": [
    "pers_long = aggregate.Matrix(t(pers_long), as.factor(cell_meta$Sample), fun = 'sum') # samples x genes\n",
    "pers_long = pers_long / count(cell_meta$Sample)$freq\n",
    "\n",
    "pers_short = aggregate.Matrix(t(pers_short), as.factor(cell_meta$Sample), fun = 'sum') # samples x genes\n",
    "pers_short = pers_short / count(cell_meta$Sample)$freq\n",
    "\n",
    "noPers_long = aggregate.Matrix(t(noPers_long), as.factor(cell_meta$Sample), fun = 'sum') # samples x genes\n",
    "noPers_long = noPers_long / count(cell_meta$Sample)$freq\n",
    "\n",
    "noPers_short = aggregate.Matrix(t(noPers_short), as.factor(cell_meta$Sample), fun = 'sum') # samples x genes\n",
    "noPers_short = noPers_short / count(cell_meta$Sample)$freq"
   ]
  },
  {
   "cell_type": "code",
   "execution_count": 8,
   "id": "3b4788eb-14ea-404a-892e-44f12c501313",
   "metadata": {},
   "outputs": [],
   "source": [
    "pers_long_df = as.data.frame(as.matrix(pers_long))\n",
    "pers_long_df$Sample = rownames(pers_long_df)\n",
    "pers_long_df$Condition = 'Pers_longReads'\n",
    "pers_long_long <- pers_long_df %>% pivot_longer(cols=c('HLA-A', 'HLA-B', 'HLA-C', \n",
    "                                            'HLA-DPA1', 'HLA-DPB1', 'HLA-DQA1', 'HLA-DQB1', 'HLA-DRB1'),\n",
    "                    names_to='Gene',\n",
    "                    values_to='MeanLogCP10k')\n",
    "\n",
    "noPers_long_df = as.data.frame(as.matrix(noPers_long))\n",
    "noPers_long_df$Sample = rownames(noPers_long_df)\n",
    "noPers_long_df$Condition = 'noPers_longReads'\n",
    "noPers_long_long <- noPers_long_df %>% pivot_longer(cols=c('HLA-A', 'HLA-B', 'HLA-C', \n",
    "                                            'HLA-DPA1', 'HLA-DPB1', 'HLA-DQA1', 'HLA-DQB1', 'HLA-DRB1'),\n",
    "                    names_to='Gene',\n",
    "                    values_to='MeanLogCP10k')\n",
    "\n",
    "pers_short_df = as.data.frame(as.matrix(pers_short))\n",
    "pers_short_df$Sample = rownames(pers_short_df)\n",
    "pers_short_df$Condition = 'Pers_shortReads'\n",
    "pers_short_long <- pers_short_df %>% pivot_longer(cols=c('HLA-A', 'HLA-B', 'HLA-C', \n",
    "                                            'HLA-DPA1', 'HLA-DPB1', 'HLA-DQA1', 'HLA-DQB1', 'HLA-DRB1'),\n",
    "                    names_to='Gene',\n",
    "                    values_to='MeanLogCP10k')\n",
    "\n",
    "noPers_short_df = as.data.frame(as.matrix(noPers_short))\n",
    "noPers_short_df$Sample = rownames(noPers_short_df)\n",
    "noPers_short_df$Condition = 'noPers_shortReads'\n",
    "noPers_short_long <- noPers_short_df %>% pivot_longer(cols=c('HLA-A', 'HLA-B', 'HLA-C', \n",
    "                                            'HLA-DPA1', 'HLA-DPB1', 'HLA-DQA1', 'HLA-DQB1', 'HLA-DRB1'),\n",
    "                    names_to='Gene',\n",
    "                    values_to='MeanLogCP10k')"
   ]
  },
  {
   "cell_type": "code",
   "execution_count": 9,
   "id": "f42e7f8d-0462-4e79-9202-a043ba2b0870",
   "metadata": {},
   "outputs": [],
   "source": [
    "data = rbind(pers_long_long, noPers_long_long, pers_short_long, noPers_short_long) %>% spread(Condition, MeanLogCP10k)\n",
    "saveRDS(data, 'Randolph_data_long_short.rds')"
   ]
  },
  {
   "cell_type": "markdown",
   "id": "471a682b-cee1-4c8a-8fe4-2b54667373eb",
   "metadata": {},
   "source": [
    "# Personalized pipeline on AMP 5' gex data"
   ]
  },
  {
   "cell_type": "code",
   "execution_count": 10,
   "id": "6078d065-0a33-4433-8d7f-9fa360f28568",
   "metadata": {},
   "outputs": [],
   "source": [
    "suppressPackageStartupMessages({\n",
    "    library(tidyverse)\n",
    "    library(stringr)\n",
    "    library(Matrix)\n",
    "    library(Matrix.utils)\n",
    "    library(singlecellmethods)\n",
    "    library(dplyr)\n",
    "    library(plyr)\n",
    "    library(ggrepel)\n",
    "    library(patchwork)\n",
    "})"
   ]
  },
  {
   "cell_type": "code",
   "execution_count": 11,
   "id": "7291bcaa-8182-47d2-98fe-9950cfc1cede",
   "metadata": {},
   "outputs": [
    {
     "data": {
      "text/html": [
       "<table class=\"dataframe\">\n",
       "<caption>A data.frame: 6 × 8</caption>\n",
       "<thead>\n",
       "\t<tr><th></th><th scope=col>nCount_RNA</th><th scope=col>nFeature_RNA</th><th scope=col>Cell</th><th scope=col>sample</th><th scope=col>donor</th><th scope=col>tissue</th><th scope=col>percent.mt</th><th scope=col>pred_cell_type_broad</th></tr>\n",
       "\t<tr><th></th><th scope=col>&lt;dbl&gt;</th><th scope=col>&lt;int&gt;</th><th scope=col>&lt;fct&gt;</th><th scope=col>&lt;chr&gt;</th><th scope=col>&lt;chr&gt;</th><th scope=col>&lt;chr&gt;</th><th scope=col>&lt;dbl&gt;</th><th scope=col>&lt;fct&gt;</th></tr>\n",
       "</thead>\n",
       "<tbody>\n",
       "\t<tr><th scope=row>Sample_300_0150_PBL_BT_5-AAACCTGAGCTGATAA-1</th><td>6839</td><td>1648</td><td>Sample_300_0150_PBL_BT_5-AAACCTGAGCTGATAA-1</td><td>Sample_300_0150_PBL_BT_5</td><td>300_0150</td><td>blood</td><td>4.196520</td><td>B</td></tr>\n",
       "\t<tr><th scope=row>Sample_300_0150_PBL_BT_5-AAACCTGCAAGCCCAC-1</th><td>6967</td><td>1587</td><td>Sample_300_0150_PBL_BT_5-AAACCTGCAAGCCCAC-1</td><td>Sample_300_0150_PBL_BT_5</td><td>300_0150</td><td>blood</td><td>2.511842</td><td>T</td></tr>\n",
       "\t<tr><th scope=row>Sample_300_0150_PBL_BT_5-AAACCTGCAAGCGTAG-1</th><td>5046</td><td> 933</td><td>Sample_300_0150_PBL_BT_5-AAACCTGCAAGCGTAG-1</td><td>Sample_300_0150_PBL_BT_5</td><td>300_0150</td><td>blood</td><td>4.300436</td><td>B</td></tr>\n",
       "\t<tr><th scope=row>Sample_300_0150_PBL_BT_5-AAACCTGCACGCATCG-1</th><td>3856</td><td>1045</td><td>Sample_300_0150_PBL_BT_5-AAACCTGCACGCATCG-1</td><td>Sample_300_0150_PBL_BT_5</td><td>300_0150</td><td>blood</td><td>6.224066</td><td>B</td></tr>\n",
       "\t<tr><th scope=row>Sample_300_0150_PBL_BT_5-AAACCTGCATCCGGGT-1</th><td>4882</td><td>1298</td><td>Sample_300_0150_PBL_BT_5-AAACCTGCATCCGGGT-1</td><td>Sample_300_0150_PBL_BT_5</td><td>300_0150</td><td>blood</td><td>3.297829</td><td>B</td></tr>\n",
       "\t<tr><th scope=row>Sample_300_0150_PBL_BT_5-AAACCTGCATTTCACT-1</th><td>2824</td><td> 662</td><td>Sample_300_0150_PBL_BT_5-AAACCTGCATTTCACT-1</td><td>Sample_300_0150_PBL_BT_5</td><td>300_0150</td><td>blood</td><td>4.036827</td><td>T</td></tr>\n",
       "</tbody>\n",
       "</table>\n"
      ],
      "text/latex": [
       "A data.frame: 6 × 8\n",
       "\\begin{tabular}{r|llllllll}\n",
       "  & nCount\\_RNA & nFeature\\_RNA & Cell & sample & donor & tissue & percent.mt & pred\\_cell\\_type\\_broad\\\\\n",
       "  & <dbl> & <int> & <fct> & <chr> & <chr> & <chr> & <dbl> & <fct>\\\\\n",
       "\\hline\n",
       "\tSample\\_300\\_0150\\_PBL\\_BT\\_5-AAACCTGAGCTGATAA-1 & 6839 & 1648 & Sample\\_300\\_0150\\_PBL\\_BT\\_5-AAACCTGAGCTGATAA-1 & Sample\\_300\\_0150\\_PBL\\_BT\\_5 & 300\\_0150 & blood & 4.196520 & B\\\\\n",
       "\tSample\\_300\\_0150\\_PBL\\_BT\\_5-AAACCTGCAAGCCCAC-1 & 6967 & 1587 & Sample\\_300\\_0150\\_PBL\\_BT\\_5-AAACCTGCAAGCCCAC-1 & Sample\\_300\\_0150\\_PBL\\_BT\\_5 & 300\\_0150 & blood & 2.511842 & T\\\\\n",
       "\tSample\\_300\\_0150\\_PBL\\_BT\\_5-AAACCTGCAAGCGTAG-1 & 5046 &  933 & Sample\\_300\\_0150\\_PBL\\_BT\\_5-AAACCTGCAAGCGTAG-1 & Sample\\_300\\_0150\\_PBL\\_BT\\_5 & 300\\_0150 & blood & 4.300436 & B\\\\\n",
       "\tSample\\_300\\_0150\\_PBL\\_BT\\_5-AAACCTGCACGCATCG-1 & 3856 & 1045 & Sample\\_300\\_0150\\_PBL\\_BT\\_5-AAACCTGCACGCATCG-1 & Sample\\_300\\_0150\\_PBL\\_BT\\_5 & 300\\_0150 & blood & 6.224066 & B\\\\\n",
       "\tSample\\_300\\_0150\\_PBL\\_BT\\_5-AAACCTGCATCCGGGT-1 & 4882 & 1298 & Sample\\_300\\_0150\\_PBL\\_BT\\_5-AAACCTGCATCCGGGT-1 & Sample\\_300\\_0150\\_PBL\\_BT\\_5 & 300\\_0150 & blood & 3.297829 & B\\\\\n",
       "\tSample\\_300\\_0150\\_PBL\\_BT\\_5-AAACCTGCATTTCACT-1 & 2824 &  662 & Sample\\_300\\_0150\\_PBL\\_BT\\_5-AAACCTGCATTTCACT-1 & Sample\\_300\\_0150\\_PBL\\_BT\\_5 & 300\\_0150 & blood & 4.036827 & T\\\\\n",
       "\\end{tabular}\n"
      ],
      "text/markdown": [
       "\n",
       "A data.frame: 6 × 8\n",
       "\n",
       "| <!--/--> | nCount_RNA &lt;dbl&gt; | nFeature_RNA &lt;int&gt; | Cell &lt;fct&gt; | sample &lt;chr&gt; | donor &lt;chr&gt; | tissue &lt;chr&gt; | percent.mt &lt;dbl&gt; | pred_cell_type_broad &lt;fct&gt; |\n",
       "|---|---|---|---|---|---|---|---|---|\n",
       "| Sample_300_0150_PBL_BT_5-AAACCTGAGCTGATAA-1 | 6839 | 1648 | Sample_300_0150_PBL_BT_5-AAACCTGAGCTGATAA-1 | Sample_300_0150_PBL_BT_5 | 300_0150 | blood | 4.196520 | B |\n",
       "| Sample_300_0150_PBL_BT_5-AAACCTGCAAGCCCAC-1 | 6967 | 1587 | Sample_300_0150_PBL_BT_5-AAACCTGCAAGCCCAC-1 | Sample_300_0150_PBL_BT_5 | 300_0150 | blood | 2.511842 | T |\n",
       "| Sample_300_0150_PBL_BT_5-AAACCTGCAAGCGTAG-1 | 5046 |  933 | Sample_300_0150_PBL_BT_5-AAACCTGCAAGCGTAG-1 | Sample_300_0150_PBL_BT_5 | 300_0150 | blood | 4.300436 | B |\n",
       "| Sample_300_0150_PBL_BT_5-AAACCTGCACGCATCG-1 | 3856 | 1045 | Sample_300_0150_PBL_BT_5-AAACCTGCACGCATCG-1 | Sample_300_0150_PBL_BT_5 | 300_0150 | blood | 6.224066 | B |\n",
       "| Sample_300_0150_PBL_BT_5-AAACCTGCATCCGGGT-1 | 4882 | 1298 | Sample_300_0150_PBL_BT_5-AAACCTGCATCCGGGT-1 | Sample_300_0150_PBL_BT_5 | 300_0150 | blood | 3.297829 | B |\n",
       "| Sample_300_0150_PBL_BT_5-AAACCTGCATTTCACT-1 | 2824 |  662 | Sample_300_0150_PBL_BT_5-AAACCTGCATTTCACT-1 | Sample_300_0150_PBL_BT_5 | 300_0150 | blood | 4.036827 | T |\n",
       "\n"
      ],
      "text/plain": [
       "                                            nCount_RNA nFeature_RNA\n",
       "Sample_300_0150_PBL_BT_5-AAACCTGAGCTGATAA-1 6839       1648        \n",
       "Sample_300_0150_PBL_BT_5-AAACCTGCAAGCCCAC-1 6967       1587        \n",
       "Sample_300_0150_PBL_BT_5-AAACCTGCAAGCGTAG-1 5046        933        \n",
       "Sample_300_0150_PBL_BT_5-AAACCTGCACGCATCG-1 3856       1045        \n",
       "Sample_300_0150_PBL_BT_5-AAACCTGCATCCGGGT-1 4882       1298        \n",
       "Sample_300_0150_PBL_BT_5-AAACCTGCATTTCACT-1 2824        662        \n",
       "                                            Cell                                       \n",
       "Sample_300_0150_PBL_BT_5-AAACCTGAGCTGATAA-1 Sample_300_0150_PBL_BT_5-AAACCTGAGCTGATAA-1\n",
       "Sample_300_0150_PBL_BT_5-AAACCTGCAAGCCCAC-1 Sample_300_0150_PBL_BT_5-AAACCTGCAAGCCCAC-1\n",
       "Sample_300_0150_PBL_BT_5-AAACCTGCAAGCGTAG-1 Sample_300_0150_PBL_BT_5-AAACCTGCAAGCGTAG-1\n",
       "Sample_300_0150_PBL_BT_5-AAACCTGCACGCATCG-1 Sample_300_0150_PBL_BT_5-AAACCTGCACGCATCG-1\n",
       "Sample_300_0150_PBL_BT_5-AAACCTGCATCCGGGT-1 Sample_300_0150_PBL_BT_5-AAACCTGCATCCGGGT-1\n",
       "Sample_300_0150_PBL_BT_5-AAACCTGCATTTCACT-1 Sample_300_0150_PBL_BT_5-AAACCTGCATTTCACT-1\n",
       "                                            sample                   donor   \n",
       "Sample_300_0150_PBL_BT_5-AAACCTGAGCTGATAA-1 Sample_300_0150_PBL_BT_5 300_0150\n",
       "Sample_300_0150_PBL_BT_5-AAACCTGCAAGCCCAC-1 Sample_300_0150_PBL_BT_5 300_0150\n",
       "Sample_300_0150_PBL_BT_5-AAACCTGCAAGCGTAG-1 Sample_300_0150_PBL_BT_5 300_0150\n",
       "Sample_300_0150_PBL_BT_5-AAACCTGCACGCATCG-1 Sample_300_0150_PBL_BT_5 300_0150\n",
       "Sample_300_0150_PBL_BT_5-AAACCTGCATCCGGGT-1 Sample_300_0150_PBL_BT_5 300_0150\n",
       "Sample_300_0150_PBL_BT_5-AAACCTGCATTTCACT-1 Sample_300_0150_PBL_BT_5 300_0150\n",
       "                                            tissue percent.mt\n",
       "Sample_300_0150_PBL_BT_5-AAACCTGAGCTGATAA-1 blood  4.196520  \n",
       "Sample_300_0150_PBL_BT_5-AAACCTGCAAGCCCAC-1 blood  2.511842  \n",
       "Sample_300_0150_PBL_BT_5-AAACCTGCAAGCGTAG-1 blood  4.300436  \n",
       "Sample_300_0150_PBL_BT_5-AAACCTGCACGCATCG-1 blood  6.224066  \n",
       "Sample_300_0150_PBL_BT_5-AAACCTGCATCCGGGT-1 blood  3.297829  \n",
       "Sample_300_0150_PBL_BT_5-AAACCTGCATTTCACT-1 blood  4.036827  \n",
       "                                            pred_cell_type_broad\n",
       "Sample_300_0150_PBL_BT_5-AAACCTGAGCTGATAA-1 B                   \n",
       "Sample_300_0150_PBL_BT_5-AAACCTGCAAGCCCAC-1 T                   \n",
       "Sample_300_0150_PBL_BT_5-AAACCTGCAAGCGTAG-1 B                   \n",
       "Sample_300_0150_PBL_BT_5-AAACCTGCACGCATCG-1 B                   \n",
       "Sample_300_0150_PBL_BT_5-AAACCTGCATCCGGGT-1 B                   \n",
       "Sample_300_0150_PBL_BT_5-AAACCTGCATTTCACT-1 T                   "
      ]
     },
     "metadata": {},
     "output_type": "display_data"
    },
    {
     "data": {
      "text/plain": [
       "\n",
       "   blood synovium \n",
       "   47348    35014 "
      ]
     },
     "metadata": {},
     "output_type": "display_data"
    },
    {
     "data": {
      "text/html": [
       "FALSE"
      ],
      "text/latex": [
       "FALSE"
      ],
      "text/markdown": [
       "FALSE"
      ],
      "text/plain": [
       "[1] FALSE"
      ]
     },
     "metadata": {},
     "output_type": "display_data"
    }
   ],
   "source": [
    "meta_5p = readRDS('/data/srlab1/jkang/hla/longShort_5prime/AMP5prime_metadata.rds') # From Kaitlyn L.\n",
    "head(meta_5p)\n",
    "table(meta_5p$tissue)\n",
    "meta_5p = meta_5p %>% filter(tissue == 'synovium')\n",
    "any(duplicated(rownames(meta_5p)))"
   ]
  },
  {
   "cell_type": "code",
   "execution_count": 12,
   "id": "f27495e6-676e-412e-92a2-5a8531b78651",
   "metadata": {},
   "outputs": [
    {
     "data": {
      "text/html": [
       "<table class=\"dataframe\">\n",
       "<caption>A data.frame: 6 × 13</caption>\n",
       "<thead>\n",
       "\t<tr><th></th><th scope=col>X</th><th scope=col>Geno_ID</th><th scope=col>Sample</th><th scope=col>Age</th><th scope=col>Site</th><th scope=col>Case_control</th><th scope=col>Female</th><th scope=col>Dataset</th><th scope=col>gPC1</th><th scope=col>gPC2</th><th scope=col>gPC3</th><th scope=col>gPC4</th><th scope=col>gPC5</th></tr>\n",
       "\t<tr><th></th><th scope=col>&lt;chr&gt;</th><th scope=col>&lt;chr&gt;</th><th scope=col>&lt;chr&gt;</th><th scope=col>&lt;int&gt;</th><th scope=col>&lt;chr&gt;</th><th scope=col>&lt;chr&gt;</th><th scope=col>&lt;int&gt;</th><th scope=col>&lt;chr&gt;</th><th scope=col>&lt;dbl&gt;</th><th scope=col>&lt;dbl&gt;</th><th scope=col>&lt;dbl&gt;</th><th scope=col>&lt;dbl&gt;</th><th scope=col>&lt;dbl&gt;</th></tr>\n",
       "</thead>\n",
       "<tbody>\n",
       "\t<tr><th scope=row>1</th><td>BRI-399</td><td>301-0267</td><td>BRI-399</td><td>70</td><td>University of Pittsburgh</td><td>OA</td><td>1</td><td>AMP2RA</td><td> 0.00697193</td><td>-0.001935340</td><td>-0.00341045</td><td>-0.005422540</td><td> 0.001496150</td></tr>\n",
       "\t<tr><th scope=row>2</th><td>BRI-401</td><td>300-0302</td><td>BRI-401</td><td>77</td><td>Cedars                  </td><td>RA</td><td>1</td><td>AMP2RA</td><td> 0.00504535</td><td>-0.000640029</td><td> 0.00543787</td><td> 0.001750970</td><td>-0.000925546</td></tr>\n",
       "\t<tr><th scope=row>3</th><td>BRI-403</td><td>300-0150</td><td>BRI-403</td><td>28</td><td>University of Rochester </td><td>RA</td><td>1</td><td>AMP2RA</td><td> 0.00656045</td><td>-0.001213060</td><td>-0.00653968</td><td>-0.003942930</td><td> 0.000739538</td></tr>\n",
       "\t<tr><th scope=row>4</th><td>BRI-405</td><td>300-0310</td><td>BRI-405</td><td>62</td><td>Cedars                  </td><td>RA</td><td>1</td><td>AMP2RA</td><td>-0.05157130</td><td>-0.016638500</td><td>-0.00622098</td><td> 0.000976913</td><td>-0.003088850</td></tr>\n",
       "\t<tr><th scope=row>5</th><td>BRI-407</td><td>300-2663</td><td>BRI-407</td><td>44</td><td>Columbia University     </td><td>RA</td><td>1</td><td>AMP2RA</td><td>-0.02314780</td><td>-0.006370860</td><td>-0.00491758</td><td> 0.010194300</td><td>-0.002749720</td></tr>\n",
       "\t<tr><th scope=row>6</th><td>BRI-409</td><td>300-0460</td><td>BRI-409</td><td>68</td><td>Northwestern            </td><td>RA</td><td>1</td><td>AMP2RA</td><td> 0.00704854</td><td>-0.002764350</td><td>-0.00464487</td><td>-0.003911500</td><td> 0.001053590</td></tr>\n",
       "</tbody>\n",
       "</table>\n"
      ],
      "text/latex": [
       "A data.frame: 6 × 13\n",
       "\\begin{tabular}{r|lllllllllllll}\n",
       "  & X & Geno\\_ID & Sample & Age & Site & Case\\_control & Female & Dataset & gPC1 & gPC2 & gPC3 & gPC4 & gPC5\\\\\n",
       "  & <chr> & <chr> & <chr> & <int> & <chr> & <chr> & <int> & <chr> & <dbl> & <dbl> & <dbl> & <dbl> & <dbl>\\\\\n",
       "\\hline\n",
       "\t1 & BRI-399 & 301-0267 & BRI-399 & 70 & University of Pittsburgh & OA & 1 & AMP2RA &  0.00697193 & -0.001935340 & -0.00341045 & -0.005422540 &  0.001496150\\\\\n",
       "\t2 & BRI-401 & 300-0302 & BRI-401 & 77 & Cedars                   & RA & 1 & AMP2RA &  0.00504535 & -0.000640029 &  0.00543787 &  0.001750970 & -0.000925546\\\\\n",
       "\t3 & BRI-403 & 300-0150 & BRI-403 & 28 & University of Rochester  & RA & 1 & AMP2RA &  0.00656045 & -0.001213060 & -0.00653968 & -0.003942930 &  0.000739538\\\\\n",
       "\t4 & BRI-405 & 300-0310 & BRI-405 & 62 & Cedars                   & RA & 1 & AMP2RA & -0.05157130 & -0.016638500 & -0.00622098 &  0.000976913 & -0.003088850\\\\\n",
       "\t5 & BRI-407 & 300-2663 & BRI-407 & 44 & Columbia University      & RA & 1 & AMP2RA & -0.02314780 & -0.006370860 & -0.00491758 &  0.010194300 & -0.002749720\\\\\n",
       "\t6 & BRI-409 & 300-0460 & BRI-409 & 68 & Northwestern             & RA & 1 & AMP2RA &  0.00704854 & -0.002764350 & -0.00464487 & -0.003911500 &  0.001053590\\\\\n",
       "\\end{tabular}\n"
      ],
      "text/markdown": [
       "\n",
       "A data.frame: 6 × 13\n",
       "\n",
       "| <!--/--> | X &lt;chr&gt; | Geno_ID &lt;chr&gt; | Sample &lt;chr&gt; | Age &lt;int&gt; | Site &lt;chr&gt; | Case_control &lt;chr&gt; | Female &lt;int&gt; | Dataset &lt;chr&gt; | gPC1 &lt;dbl&gt; | gPC2 &lt;dbl&gt; | gPC3 &lt;dbl&gt; | gPC4 &lt;dbl&gt; | gPC5 &lt;dbl&gt; |\n",
       "|---|---|---|---|---|---|---|---|---|---|---|---|---|---|\n",
       "| 1 | BRI-399 | 301-0267 | BRI-399 | 70 | University of Pittsburgh | OA | 1 | AMP2RA |  0.00697193 | -0.001935340 | -0.00341045 | -0.005422540 |  0.001496150 |\n",
       "| 2 | BRI-401 | 300-0302 | BRI-401 | 77 | Cedars                   | RA | 1 | AMP2RA |  0.00504535 | -0.000640029 |  0.00543787 |  0.001750970 | -0.000925546 |\n",
       "| 3 | BRI-403 | 300-0150 | BRI-403 | 28 | University of Rochester  | RA | 1 | AMP2RA |  0.00656045 | -0.001213060 | -0.00653968 | -0.003942930 |  0.000739538 |\n",
       "| 4 | BRI-405 | 300-0310 | BRI-405 | 62 | Cedars                   | RA | 1 | AMP2RA | -0.05157130 | -0.016638500 | -0.00622098 |  0.000976913 | -0.003088850 |\n",
       "| 5 | BRI-407 | 300-2663 | BRI-407 | 44 | Columbia University      | RA | 1 | AMP2RA | -0.02314780 | -0.006370860 | -0.00491758 |  0.010194300 | -0.002749720 |\n",
       "| 6 | BRI-409 | 300-0460 | BRI-409 | 68 | Northwestern             | RA | 1 | AMP2RA |  0.00704854 | -0.002764350 | -0.00464487 | -0.003911500 |  0.001053590 |\n",
       "\n"
      ],
      "text/plain": [
       "  X       Geno_ID  Sample  Age Site                     Case_control Female\n",
       "1 BRI-399 301-0267 BRI-399 70  University of Pittsburgh OA           1     \n",
       "2 BRI-401 300-0302 BRI-401 77  Cedars                   RA           1     \n",
       "3 BRI-403 300-0150 BRI-403 28  University of Rochester  RA           1     \n",
       "4 BRI-405 300-0310 BRI-405 62  Cedars                   RA           1     \n",
       "5 BRI-407 300-2663 BRI-407 44  Columbia University      RA           1     \n",
       "6 BRI-409 300-0460 BRI-409 68  Northwestern             RA           1     \n",
       "  Dataset gPC1        gPC2         gPC3        gPC4         gPC5        \n",
       "1 AMP2RA   0.00697193 -0.001935340 -0.00341045 -0.005422540  0.001496150\n",
       "2 AMP2RA   0.00504535 -0.000640029  0.00543787  0.001750970 -0.000925546\n",
       "3 AMP2RA   0.00656045 -0.001213060 -0.00653968 -0.003942930  0.000739538\n",
       "4 AMP2RA  -0.05157130 -0.016638500 -0.00622098  0.000976913 -0.003088850\n",
       "5 AMP2RA  -0.02314780 -0.006370860 -0.00491758  0.010194300 -0.002749720\n",
       "6 AMP2RA   0.00704854 -0.002764350 -0.00464487 -0.003911500  0.001053590"
      ]
     },
     "metadata": {},
     "output_type": "display_data"
    }
   ],
   "source": [
    "sample_meta = read.csv('../../data/meta/sample_meta_AMP2RA_completeHLA.csv')\n",
    "head(sample_meta)"
   ]
  },
  {
   "cell_type": "code",
   "execution_count": 13,
   "id": "97617b60-b028-46c3-b246-229b53e92297",
   "metadata": {},
   "outputs": [
    {
     "data": {
      "text/html": [
       "<style>\n",
       ".list-inline {list-style: none; margin:0; padding: 0}\n",
       ".list-inline>li {display: inline-block}\n",
       ".list-inline>li:not(:last-child)::after {content: \"\\00b7\"; padding: 0 .5ex}\n",
       "</style>\n",
       "<ol class=list-inline><li>'301_0267'</li><li>'300_0302'</li><li>'300_0150'</li><li>'300_0310'</li><li>'300_2663'</li><li>'300_0460'</li><li>'300_0309'</li><li>'300_1933'</li><li>'300_0228-V0-08-L1'</li><li>'300_2669'</li><li>'300_0501'</li><li>'300_0408'</li><li>'300_0414'</li><li>'300_2662'</li><li>'300_0453'</li><li>'300_0223'</li><li>'301_0269'</li><li>'301_0168'</li><li>'301_1470'</li><li>'300_0173'</li><li>'300_1930'</li><li>'301_1468'</li><li>'300_0174'</li><li>'300_1929'</li><li>'300_0489'</li><li>'301_0166'</li><li>'300_0502'</li><li>'300_0392-V0-14-BC1'</li><li>'300_0488'</li><li>'300_2660'</li><li>'300_2665'</li><li>'300_0504'</li><li>'301_0268'</li><li>'300_0175'</li><li>'300_0221'</li><li>'300_2671'</li><li>'300_0226'</li><li>'300_0491'</li><li>'300_0307'</li><li>'300_0507-F2-17-L1'</li><li>'300_2651'</li><li>'300_0144'</li><li>'300_2600'</li><li>'300_0172'</li><li>'300_0183-V0-07-BC1'</li><li>'300_0529'</li><li>'300_0171'</li><li>'300_2668'</li><li>'300_0149'</li><li>'300_0532'</li><li>'300_0416-V0-14-L1'</li><li>'300_0176'</li><li>'300_2601'</li><li>'300_0410'</li><li>'300_1881-F2-17-L1'</li><li>'301_0169'</li><li>'300_0145'</li><li>'300_0506-F2-17-L1'</li><li>'300_2657'</li><li>'301_1469'</li><li>'300_0151-V0-05-L1'</li><li>'300_0235-V0-08-L1'</li><li>'300_0415'</li><li>'300_0417'</li><li>'300_0418'</li><li>'300_1879-F2-17-L1'</li><li>'300_1880-F1-17-L1'</li><li>'300_0251'</li><li>'300_0464'</li></ol>\n"
      ],
      "text/latex": [
       "\\begin{enumerate*}\n",
       "\\item '301\\_0267'\n",
       "\\item '300\\_0302'\n",
       "\\item '300\\_0150'\n",
       "\\item '300\\_0310'\n",
       "\\item '300\\_2663'\n",
       "\\item '300\\_0460'\n",
       "\\item '300\\_0309'\n",
       "\\item '300\\_1933'\n",
       "\\item '300\\_0228-V0-08-L1'\n",
       "\\item '300\\_2669'\n",
       "\\item '300\\_0501'\n",
       "\\item '300\\_0408'\n",
       "\\item '300\\_0414'\n",
       "\\item '300\\_2662'\n",
       "\\item '300\\_0453'\n",
       "\\item '300\\_0223'\n",
       "\\item '301\\_0269'\n",
       "\\item '301\\_0168'\n",
       "\\item '301\\_1470'\n",
       "\\item '300\\_0173'\n",
       "\\item '300\\_1930'\n",
       "\\item '301\\_1468'\n",
       "\\item '300\\_0174'\n",
       "\\item '300\\_1929'\n",
       "\\item '300\\_0489'\n",
       "\\item '301\\_0166'\n",
       "\\item '300\\_0502'\n",
       "\\item '300\\_0392-V0-14-BC1'\n",
       "\\item '300\\_0488'\n",
       "\\item '300\\_2660'\n",
       "\\item '300\\_2665'\n",
       "\\item '300\\_0504'\n",
       "\\item '301\\_0268'\n",
       "\\item '300\\_0175'\n",
       "\\item '300\\_0221'\n",
       "\\item '300\\_2671'\n",
       "\\item '300\\_0226'\n",
       "\\item '300\\_0491'\n",
       "\\item '300\\_0307'\n",
       "\\item '300\\_0507-F2-17-L1'\n",
       "\\item '300\\_2651'\n",
       "\\item '300\\_0144'\n",
       "\\item '300\\_2600'\n",
       "\\item '300\\_0172'\n",
       "\\item '300\\_0183-V0-07-BC1'\n",
       "\\item '300\\_0529'\n",
       "\\item '300\\_0171'\n",
       "\\item '300\\_2668'\n",
       "\\item '300\\_0149'\n",
       "\\item '300\\_0532'\n",
       "\\item '300\\_0416-V0-14-L1'\n",
       "\\item '300\\_0176'\n",
       "\\item '300\\_2601'\n",
       "\\item '300\\_0410'\n",
       "\\item '300\\_1881-F2-17-L1'\n",
       "\\item '301\\_0169'\n",
       "\\item '300\\_0145'\n",
       "\\item '300\\_0506-F2-17-L1'\n",
       "\\item '300\\_2657'\n",
       "\\item '301\\_1469'\n",
       "\\item '300\\_0151-V0-05-L1'\n",
       "\\item '300\\_0235-V0-08-L1'\n",
       "\\item '300\\_0415'\n",
       "\\item '300\\_0417'\n",
       "\\item '300\\_0418'\n",
       "\\item '300\\_1879-F2-17-L1'\n",
       "\\item '300\\_1880-F1-17-L1'\n",
       "\\item '300\\_0251'\n",
       "\\item '300\\_0464'\n",
       "\\end{enumerate*}\n"
      ],
      "text/markdown": [
       "1. '301_0267'\n",
       "2. '300_0302'\n",
       "3. '300_0150'\n",
       "4. '300_0310'\n",
       "5. '300_2663'\n",
       "6. '300_0460'\n",
       "7. '300_0309'\n",
       "8. '300_1933'\n",
       "9. '300_0228-V0-08-L1'\n",
       "10. '300_2669'\n",
       "11. '300_0501'\n",
       "12. '300_0408'\n",
       "13. '300_0414'\n",
       "14. '300_2662'\n",
       "15. '300_0453'\n",
       "16. '300_0223'\n",
       "17. '301_0269'\n",
       "18. '301_0168'\n",
       "19. '301_1470'\n",
       "20. '300_0173'\n",
       "21. '300_1930'\n",
       "22. '301_1468'\n",
       "23. '300_0174'\n",
       "24. '300_1929'\n",
       "25. '300_0489'\n",
       "26. '301_0166'\n",
       "27. '300_0502'\n",
       "28. '300_0392-V0-14-BC1'\n",
       "29. '300_0488'\n",
       "30. '300_2660'\n",
       "31. '300_2665'\n",
       "32. '300_0504'\n",
       "33. '301_0268'\n",
       "34. '300_0175'\n",
       "35. '300_0221'\n",
       "36. '300_2671'\n",
       "37. '300_0226'\n",
       "38. '300_0491'\n",
       "39. '300_0307'\n",
       "40. '300_0507-F2-17-L1'\n",
       "41. '300_2651'\n",
       "42. '300_0144'\n",
       "43. '300_2600'\n",
       "44. '300_0172'\n",
       "45. '300_0183-V0-07-BC1'\n",
       "46. '300_0529'\n",
       "47. '300_0171'\n",
       "48. '300_2668'\n",
       "49. '300_0149'\n",
       "50. '300_0532'\n",
       "51. '300_0416-V0-14-L1'\n",
       "52. '300_0176'\n",
       "53. '300_2601'\n",
       "54. '300_0410'\n",
       "55. '300_1881-F2-17-L1'\n",
       "56. '301_0169'\n",
       "57. '300_0145'\n",
       "58. '300_0506-F2-17-L1'\n",
       "59. '300_2657'\n",
       "60. '301_1469'\n",
       "61. '300_0151-V0-05-L1'\n",
       "62. '300_0235-V0-08-L1'\n",
       "63. '300_0415'\n",
       "64. '300_0417'\n",
       "65. '300_0418'\n",
       "66. '300_1879-F2-17-L1'\n",
       "67. '300_1880-F1-17-L1'\n",
       "68. '300_0251'\n",
       "69. '300_0464'\n",
       "\n",
       "\n"
      ],
      "text/plain": [
       " [1] \"301_0267\"           \"300_0302\"           \"300_0150\"          \n",
       " [4] \"300_0310\"           \"300_2663\"           \"300_0460\"          \n",
       " [7] \"300_0309\"           \"300_1933\"           \"300_0228-V0-08-L1\" \n",
       "[10] \"300_2669\"           \"300_0501\"           \"300_0408\"          \n",
       "[13] \"300_0414\"           \"300_2662\"           \"300_0453\"          \n",
       "[16] \"300_0223\"           \"301_0269\"           \"301_0168\"          \n",
       "[19] \"301_1470\"           \"300_0173\"           \"300_1930\"          \n",
       "[22] \"301_1468\"           \"300_0174\"           \"300_1929\"          \n",
       "[25] \"300_0489\"           \"301_0166\"           \"300_0502\"          \n",
       "[28] \"300_0392-V0-14-BC1\" \"300_0488\"           \"300_2660\"          \n",
       "[31] \"300_2665\"           \"300_0504\"           \"301_0268\"          \n",
       "[34] \"300_0175\"           \"300_0221\"           \"300_2671\"          \n",
       "[37] \"300_0226\"           \"300_0491\"           \"300_0307\"          \n",
       "[40] \"300_0507-F2-17-L1\"  \"300_2651\"           \"300_0144\"          \n",
       "[43] \"300_2600\"           \"300_0172\"           \"300_0183-V0-07-BC1\"\n",
       "[46] \"300_0529\"           \"300_0171\"           \"300_2668\"          \n",
       "[49] \"300_0149\"           \"300_0532\"           \"300_0416-V0-14-L1\" \n",
       "[52] \"300_0176\"           \"300_2601\"           \"300_0410\"          \n",
       "[55] \"300_1881-F2-17-L1\"  \"301_0169\"           \"300_0145\"          \n",
       "[58] \"300_0506-F2-17-L1\"  \"300_2657\"           \"301_1469\"          \n",
       "[61] \"300_0151-V0-05-L1\"  \"300_0235-V0-08-L1\"  \"300_0415\"          \n",
       "[64] \"300_0417\"           \"300_0418\"           \"300_1879-F2-17-L1\" \n",
       "[67] \"300_1880-F1-17-L1\"  \"300_0251\"           \"300_0464\"          "
      ]
     },
     "metadata": {},
     "output_type": "display_data"
    },
    {
     "data": {
      "text/html": [
       "<style>\n",
       ".list-inline {list-style: none; margin:0; padding: 0}\n",
       ".list-inline>li {display: inline-block}\n",
       ".list-inline>li:not(:last-child)::after {content: \"\\00b7\"; padding: 0 .5ex}\n",
       "</style>\n",
       "<ol class=list-inline><li>'300_0392'</li><li>'300_0416'</li><li>'300_1883'</li><li>'301_0174'</li><li>'301_0270'</li></ol>\n"
      ],
      "text/latex": [
       "\\begin{enumerate*}\n",
       "\\item '300\\_0392'\n",
       "\\item '300\\_0416'\n",
       "\\item '300\\_1883'\n",
       "\\item '301\\_0174'\n",
       "\\item '301\\_0270'\n",
       "\\end{enumerate*}\n"
      ],
      "text/markdown": [
       "1. '300_0392'\n",
       "2. '300_0416'\n",
       "3. '300_1883'\n",
       "4. '301_0174'\n",
       "5. '301_0270'\n",
       "\n",
       "\n"
      ],
      "text/plain": [
       "[1] \"300_0392\" \"300_0416\" \"300_1883\" \"301_0174\" \"301_0270\""
      ]
     },
     "metadata": {},
     "output_type": "display_data"
    }
   ],
   "source": [
    "sample_meta$sample = str_replace(sample_meta$Geno_ID, '-', '_')\n",
    "unique(sample_meta$sample)\n",
    "unique(meta_5p$donor)[-which(unique(meta_5p$donor) %in% sample_meta$sample)]"
   ]
  },
  {
   "cell_type": "code",
   "execution_count": 14,
   "id": "9ed7754a-cc81-4f46-a65e-1f636fa0c5f6",
   "metadata": {},
   "outputs": [
    {
     "data": {
      "text/html": [
       "<style>\n",
       ".list-inline {list-style: none; margin:0; padding: 0}\n",
       ".list-inline>li {display: inline-block}\n",
       ".list-inline>li:not(:last-child)::after {content: \"\\00b7\"; padding: 0 .5ex}\n",
       "</style>\n",
       "<ol class=list-inline><li>'300_0150'</li><li>'300_0171'</li><li>'300_0173'</li><li>'300_0174'</li><li>'300_0392'</li><li>'300_0410'</li><li>'300_0414'</li><li>'300_0416'</li><li>'300_1883'</li><li>'300_1930'</li><li>'301_0174'</li><li>'301_0270'</li></ol>\n"
      ],
      "text/latex": [
       "\\begin{enumerate*}\n",
       "\\item '300\\_0150'\n",
       "\\item '300\\_0171'\n",
       "\\item '300\\_0173'\n",
       "\\item '300\\_0174'\n",
       "\\item '300\\_0392'\n",
       "\\item '300\\_0410'\n",
       "\\item '300\\_0414'\n",
       "\\item '300\\_0416'\n",
       "\\item '300\\_1883'\n",
       "\\item '300\\_1930'\n",
       "\\item '301\\_0174'\n",
       "\\item '301\\_0270'\n",
       "\\end{enumerate*}\n"
      ],
      "text/markdown": [
       "1. '300_0150'\n",
       "2. '300_0171'\n",
       "3. '300_0173'\n",
       "4. '300_0174'\n",
       "5. '300_0392'\n",
       "6. '300_0410'\n",
       "7. '300_0414'\n",
       "8. '300_0416'\n",
       "9. '300_1883'\n",
       "10. '300_1930'\n",
       "11. '301_0174'\n",
       "12. '301_0270'\n",
       "\n",
       "\n"
      ],
      "text/plain": [
       " [1] \"300_0150\" \"300_0171\" \"300_0173\" \"300_0174\" \"300_0392\" \"300_0410\"\n",
       " [7] \"300_0414\" \"300_0416\" \"300_1883\" \"300_1930\" \"301_0174\" \"301_0270\""
      ]
     },
     "metadata": {},
     "output_type": "display_data"
    },
    {
     "data": {
      "text/html": [
       "<style>\n",
       ".list-inline {list-style: none; margin:0; padding: 0}\n",
       ".list-inline>li {display: inline-block}\n",
       ".list-inline>li:not(:last-child)::after {content: \"\\00b7\"; padding: 0 .5ex}\n",
       "</style>\n",
       "<ol class=list-inline><li>1</li><li>2</li><li>3</li><li>4</li><li>6</li><li>7</li><li>10</li></ol>\n"
      ],
      "text/latex": [
       "\\begin{enumerate*}\n",
       "\\item 1\n",
       "\\item 2\n",
       "\\item 3\n",
       "\\item 4\n",
       "\\item 6\n",
       "\\item 7\n",
       "\\item 10\n",
       "\\end{enumerate*}\n"
      ],
      "text/markdown": [
       "1. 1\n",
       "2. 2\n",
       "3. 3\n",
       "4. 4\n",
       "5. 6\n",
       "6. 7\n",
       "7. 10\n",
       "\n",
       "\n"
      ],
      "text/plain": [
       "[1]  1  2  3  4  6  7 10"
      ]
     },
     "metadata": {},
     "output_type": "display_data"
    },
    {
     "data": {
      "text/html": [
       "TRUE"
      ],
      "text/latex": [
       "TRUE"
      ],
      "text/markdown": [
       "TRUE"
      ],
      "text/plain": [
       "[1] TRUE"
      ]
     },
     "metadata": {},
     "output_type": "display_data"
    },
    {
     "data": {
      "text/html": [
       "TRUE"
      ],
      "text/latex": [
       "TRUE"
      ],
      "text/markdown": [
       "TRUE"
      ],
      "text/plain": [
       "[1] TRUE"
      ]
     },
     "metadata": {},
     "output_type": "display_data"
    },
    {
     "data": {
      "text/html": [
       "FALSE"
      ],
      "text/latex": [
       "FALSE"
      ],
      "text/markdown": [
       "FALSE"
      ],
      "text/plain": [
       "[1] FALSE"
      ]
     },
     "metadata": {},
     "output_type": "display_data"
    },
    {
     "data": {
      "text/html": [
       "FALSE"
      ],
      "text/latex": [
       "FALSE"
      ],
      "text/markdown": [
       "FALSE"
      ],
      "text/plain": [
       "[1] FALSE"
      ]
     },
     "metadata": {},
     "output_type": "display_data"
    },
    {
     "data": {
      "text/html": [
       "FALSE"
      ],
      "text/latex": [
       "FALSE"
      ],
      "text/markdown": [
       "FALSE"
      ],
      "text/plain": [
       "[1] FALSE"
      ]
     },
     "metadata": {},
     "output_type": "display_data"
    },
    {
     "data": {
      "text/html": [
       "<style>\n",
       ".list-inline {list-style: none; margin:0; padding: 0}\n",
       ".list-inline>li {display: inline-block}\n",
       ".list-inline>li:not(:last-child)::after {content: \"\\00b7\"; padding: 0 .5ex}\n",
       "</style>\n",
       "<ol class=list-inline><li>'Sample_300_0150_Syn_BT_5'</li><li>'Sample_300_0171_Syn_BT_5'</li><li>'Sample_300_0173_Syn_BT_5'</li><li>'Sample_300_0174_Syn_BT_5'</li><li>'Sample_300_0392_Syn_BT_5'</li><li>'Sample_300_0410_Syn_BT_5'</li><li>'Sample_300_0414_Syn_BT_5'</li><li>'Sample_300_0416_Syn_BT_5'</li><li>'Sample_300_1883_Syn_BT_5'</li><li>'Sample_300_1930_Syn_BT_5'</li><li>'Sample_301_0174_Syn_BT_5'</li><li>'Sample_301_0174_Syn_PC_5'</li><li>'Sample_301_0270_Syn_BT_5'</li></ol>\n"
      ],
      "text/latex": [
       "\\begin{enumerate*}\n",
       "\\item 'Sample\\_300\\_0150\\_Syn\\_BT\\_5'\n",
       "\\item 'Sample\\_300\\_0171\\_Syn\\_BT\\_5'\n",
       "\\item 'Sample\\_300\\_0173\\_Syn\\_BT\\_5'\n",
       "\\item 'Sample\\_300\\_0174\\_Syn\\_BT\\_5'\n",
       "\\item 'Sample\\_300\\_0392\\_Syn\\_BT\\_5'\n",
       "\\item 'Sample\\_300\\_0410\\_Syn\\_BT\\_5'\n",
       "\\item 'Sample\\_300\\_0414\\_Syn\\_BT\\_5'\n",
       "\\item 'Sample\\_300\\_0416\\_Syn\\_BT\\_5'\n",
       "\\item 'Sample\\_300\\_1883\\_Syn\\_BT\\_5'\n",
       "\\item 'Sample\\_300\\_1930\\_Syn\\_BT\\_5'\n",
       "\\item 'Sample\\_301\\_0174\\_Syn\\_BT\\_5'\n",
       "\\item 'Sample\\_301\\_0174\\_Syn\\_PC\\_5'\n",
       "\\item 'Sample\\_301\\_0270\\_Syn\\_BT\\_5'\n",
       "\\end{enumerate*}\n"
      ],
      "text/markdown": [
       "1. 'Sample_300_0150_Syn_BT_5'\n",
       "2. 'Sample_300_0171_Syn_BT_5'\n",
       "3. 'Sample_300_0173_Syn_BT_5'\n",
       "4. 'Sample_300_0174_Syn_BT_5'\n",
       "5. 'Sample_300_0392_Syn_BT_5'\n",
       "6. 'Sample_300_0410_Syn_BT_5'\n",
       "7. 'Sample_300_0414_Syn_BT_5'\n",
       "8. 'Sample_300_0416_Syn_BT_5'\n",
       "9. 'Sample_300_1883_Syn_BT_5'\n",
       "10. 'Sample_300_1930_Syn_BT_5'\n",
       "11. 'Sample_301_0174_Syn_BT_5'\n",
       "12. 'Sample_301_0174_Syn_PC_5'\n",
       "13. 'Sample_301_0270_Syn_BT_5'\n",
       "\n",
       "\n"
      ],
      "text/plain": [
       " [1] \"Sample_300_0150_Syn_BT_5\" \"Sample_300_0171_Syn_BT_5\"\n",
       " [3] \"Sample_300_0173_Syn_BT_5\" \"Sample_300_0174_Syn_BT_5\"\n",
       " [5] \"Sample_300_0392_Syn_BT_5\" \"Sample_300_0410_Syn_BT_5\"\n",
       " [7] \"Sample_300_0414_Syn_BT_5\" \"Sample_300_0416_Syn_BT_5\"\n",
       " [9] \"Sample_300_1883_Syn_BT_5\" \"Sample_300_1930_Syn_BT_5\"\n",
       "[11] \"Sample_301_0174_Syn_BT_5\" \"Sample_301_0174_Syn_PC_5\"\n",
       "[13] \"Sample_301_0270_Syn_BT_5\""
      ]
     },
     "metadata": {},
     "output_type": "display_data"
    },
    {
     "data": {
      "text/html": [
       "<style>\n",
       ".list-inline {list-style: none; margin:0; padding: 0}\n",
       ".list-inline>li {display: inline-block}\n",
       ".list-inline>li:not(:last-child)::after {content: \"\\00b7\"; padding: 0 .5ex}\n",
       "</style>\n",
       "<ol class=list-inline><li>'300_0150'</li><li>'300_0171'</li><li>'300_0173'</li><li>'300_0174'</li><li>'300_0392'</li><li>'300_0410'</li><li>'300_0414'</li><li>'300_0416'</li><li>'300_1883'</li><li>'300_1930'</li><li>'301_0174'</li><li>'301_0270'</li></ol>\n"
      ],
      "text/latex": [
       "\\begin{enumerate*}\n",
       "\\item '300\\_0150'\n",
       "\\item '300\\_0171'\n",
       "\\item '300\\_0173'\n",
       "\\item '300\\_0174'\n",
       "\\item '300\\_0392'\n",
       "\\item '300\\_0410'\n",
       "\\item '300\\_0414'\n",
       "\\item '300\\_0416'\n",
       "\\item '300\\_1883'\n",
       "\\item '300\\_1930'\n",
       "\\item '301\\_0174'\n",
       "\\item '301\\_0270'\n",
       "\\end{enumerate*}\n"
      ],
      "text/markdown": [
       "1. '300_0150'\n",
       "2. '300_0171'\n",
       "3. '300_0173'\n",
       "4. '300_0174'\n",
       "5. '300_0392'\n",
       "6. '300_0410'\n",
       "7. '300_0414'\n",
       "8. '300_0416'\n",
       "9. '300_1883'\n",
       "10. '300_1930'\n",
       "11. '301_0174'\n",
       "12. '301_0270'\n",
       "\n",
       "\n"
      ],
      "text/plain": [
       " [1] \"300_0150\" \"300_0171\" \"300_0173\" \"300_0174\" \"300_0392\" \"300_0410\"\n",
       " [7] \"300_0414\" \"300_0416\" \"300_1883\" \"300_1930\" \"301_0174\" \"301_0270\""
      ]
     },
     "metadata": {},
     "output_type": "display_data"
    }
   ],
   "source": [
    "unique(meta_5p$donor)\n",
    "which(unique(meta_5p$donor) %in% sample_meta$sample)\n",
    "any(grepl('300_0392', sample_meta$sample))\n",
    "any(grepl('300_0416', sample_meta$sample))\n",
    "any(grepl('300_1883', sample_meta$sample))\n",
    "any(grepl('301_0174', sample_meta$sample))\n",
    "any(grepl('301_0270', sample_meta$sample))\n",
    "\n",
    "unique(meta_5p$sample)\n",
    "unique(meta_5p$donor)\n",
    "meta_5p$Cell = rownames(meta_5p)\n",
    "write.csv(meta_5p, '../../data/meta/AMP5prime_metadata_Syn.csv')"
   ]
  },
  {
   "cell_type": "markdown",
   "id": "9b2d43b1-d613-4bd0-bf15-b516a77d772b",
   "metadata": {},
   "source": [
    "## Match sample names with 3p dataset"
   ]
  },
  {
   "cell_type": "code",
   "execution_count": 15,
   "id": "7903f899-a262-4771-9fe3-4dd1422b1a7f",
   "metadata": {},
   "outputs": [
    {
     "data": {
      "text/html": [
       "<style>\n",
       ".list-inline {list-style: none; margin:0; padding: 0}\n",
       ".list-inline>li {display: inline-block}\n",
       ".list-inline>li:not(:last-child)::after {content: \"\\00b7\"; padding: 0 .5ex}\n",
       "</style>\n",
       "<ol class=list-inline><li>'300-0150'</li><li>'300-0171'</li><li>'300-0173'</li><li>'300-0174'</li><li>'300-0392-V0-14-BC1'</li><li>'300-0410'</li><li>'300-0414'</li><li>'300-0416-V0-14-L1'</li><li>'300-1883'</li><li>'300-1930'</li><li>'301-0174'</li><li>'301-0270'</li></ol>\n"
      ],
      "text/latex": [
       "\\begin{enumerate*}\n",
       "\\item '300-0150'\n",
       "\\item '300-0171'\n",
       "\\item '300-0173'\n",
       "\\item '300-0174'\n",
       "\\item '300-0392-V0-14-BC1'\n",
       "\\item '300-0410'\n",
       "\\item '300-0414'\n",
       "\\item '300-0416-V0-14-L1'\n",
       "\\item '300-1883'\n",
       "\\item '300-1930'\n",
       "\\item '301-0174'\n",
       "\\item '301-0270'\n",
       "\\end{enumerate*}\n"
      ],
      "text/markdown": [
       "1. '300-0150'\n",
       "2. '300-0171'\n",
       "3. '300-0173'\n",
       "4. '300-0174'\n",
       "5. '300-0392-V0-14-BC1'\n",
       "6. '300-0410'\n",
       "7. '300-0414'\n",
       "8. '300-0416-V0-14-L1'\n",
       "9. '300-1883'\n",
       "10. '300-1930'\n",
       "11. '301-0174'\n",
       "12. '301-0270'\n",
       "\n",
       "\n"
      ],
      "text/plain": [
       " [1] \"300-0150\"           \"300-0171\"           \"300-0173\"          \n",
       " [4] \"300-0174\"           \"300-0392-V0-14-BC1\" \"300-0410\"          \n",
       " [7] \"300-0414\"           \"300-0416-V0-14-L1\"  \"300-1883\"          \n",
       "[10] \"300-1930\"           \"301-0174\"           \"301-0270\"          "
      ]
     },
     "metadata": {},
     "output_type": "display_data"
    },
    {
     "data": {
      "text/html": [
       "<style>\n",
       ".list-inline {list-style: none; margin:0; padding: 0}\n",
       ".list-inline>li {display: inline-block}\n",
       ".list-inline>li:not(:last-child)::after {content: \"\\00b7\"; padding: 0 .5ex}\n",
       "</style>\n",
       "<ol class=list-inline><li>'300-0150'</li><li>'300-0171'</li><li>'300-0173'</li><li>'300-0174'</li><li>'300-0392-V0-14-BC1'</li><li>'300-0410'</li><li>'300-0414'</li><li>'300-0416-V0-14-L1'</li><li>'300-1930'</li></ol>\n"
      ],
      "text/latex": [
       "\\begin{enumerate*}\n",
       "\\item '300-0150'\n",
       "\\item '300-0171'\n",
       "\\item '300-0173'\n",
       "\\item '300-0174'\n",
       "\\item '300-0392-V0-14-BC1'\n",
       "\\item '300-0410'\n",
       "\\item '300-0414'\n",
       "\\item '300-0416-V0-14-L1'\n",
       "\\item '300-1930'\n",
       "\\end{enumerate*}\n"
      ],
      "text/markdown": [
       "1. '300-0150'\n",
       "2. '300-0171'\n",
       "3. '300-0173'\n",
       "4. '300-0174'\n",
       "5. '300-0392-V0-14-BC1'\n",
       "6. '300-0410'\n",
       "7. '300-0414'\n",
       "8. '300-0416-V0-14-L1'\n",
       "9. '300-1930'\n",
       "\n",
       "\n"
      ],
      "text/plain": [
       "[1] \"300-0150\"           \"300-0171\"           \"300-0173\"          \n",
       "[4] \"300-0174\"           \"300-0392-V0-14-BC1\" \"300-0410\"          \n",
       "[7] \"300-0414\"           \"300-0416-V0-14-L1\"  \"300-1930\"          "
      ]
     },
     "metadata": {},
     "output_type": "display_data"
    }
   ],
   "source": [
    "meta_5p$Geno_ID = str_replace(meta_5p$donor, '_', '-')\n",
    "meta_5p$Geno_ID[which(meta_5p$Geno_ID == '300-0392')] = '300-0392-V0-14-BC1'\n",
    "meta_5p$Geno_ID[which(meta_5p$Geno_ID == '300-0416')] = '300-0416-V0-14-L1'\n",
    "unique(meta_5p$Geno_ID)\n",
    "meta_5p = meta_5p %>% filter(Geno_ID %in% sample_meta$Geno_ID)\n",
    "unique(meta_5p$Geno_ID)"
   ]
  },
  {
   "cell_type": "markdown",
   "id": "8dbd3d68-4924-4f7e-920b-d9ad27fe963b",
   "metadata": {},
   "source": [
    "9 samples with matching 3' data"
   ]
  },
  {
   "cell_type": "code",
   "execution_count": 16,
   "id": "34c907d1-d751-44a4-93d9-78f087b04576",
   "metadata": {},
   "outputs": [
    {
     "data": {
      "text/html": [
       "<table class=\"dataframe\">\n",
       "<caption>A data.frame: 6 × 9</caption>\n",
       "<thead>\n",
       "\t<tr><th></th><th scope=col>nCount_RNA</th><th scope=col>nFeature_RNA</th><th scope=col>Cell</th><th scope=col>sample</th><th scope=col>donor</th><th scope=col>tissue</th><th scope=col>percent.mt</th><th scope=col>pred_cell_type_broad</th><th scope=col>Geno_ID</th></tr>\n",
       "\t<tr><th></th><th scope=col>&lt;dbl&gt;</th><th scope=col>&lt;int&gt;</th><th scope=col>&lt;chr&gt;</th><th scope=col>&lt;chr&gt;</th><th scope=col>&lt;chr&gt;</th><th scope=col>&lt;chr&gt;</th><th scope=col>&lt;dbl&gt;</th><th scope=col>&lt;fct&gt;</th><th scope=col>&lt;chr&gt;</th></tr>\n",
       "</thead>\n",
       "<tbody>\n",
       "\t<tr><th scope=row>Sample_300_0150_Syn_BT_5-AAACCTGAGAACTGTA-1</th><td> 8321</td><td>2344</td><td>Sample_300_0150_Syn_BT_5-AAACCTGAGAACTGTA-1</td><td>Sample_300_0150_Syn_BT_5</td><td>300_0150</td><td>synovium</td><td> 3.653407</td><td>T</td><td>300-0150</td></tr>\n",
       "\t<tr><th scope=row>Sample_300_0150_Syn_BT_5-AAACCTGAGAATTGTG-1</th><td> 4597</td><td>1068</td><td>Sample_300_0150_Syn_BT_5-AAACCTGAGAATTGTG-1</td><td>Sample_300_0150_Syn_BT_5</td><td>300_0150</td><td>synovium</td><td> 8.918860</td><td>B</td><td>300-0150</td></tr>\n",
       "\t<tr><th scope=row>Sample_300_0150_Syn_BT_5-AAACCTGAGAGGACGG-1</th><td>14539</td><td>2911</td><td>Sample_300_0150_Syn_BT_5-AAACCTGAGAGGACGG-1</td><td>Sample_300_0150_Syn_BT_5</td><td>300_0150</td><td>synovium</td><td> 4.862783</td><td>B</td><td>300-0150</td></tr>\n",
       "\t<tr><th scope=row>Sample_300_0150_Syn_BT_5-AAACCTGCACGGCTAC-1</th><td> 1704</td><td> 504</td><td>Sample_300_0150_Syn_BT_5-AAACCTGCACGGCTAC-1</td><td>Sample_300_0150_Syn_BT_5</td><td>300_0150</td><td>synovium</td><td>10.211268</td><td>T</td><td>300-0150</td></tr>\n",
       "\t<tr><th scope=row>Sample_300_0150_Syn_BT_5-AAACCTGGTATAGTAG-1</th><td> 7140</td><td>2027</td><td>Sample_300_0150_Syn_BT_5-AAACCTGGTATAGTAG-1</td><td>Sample_300_0150_Syn_BT_5</td><td>300_0150</td><td>synovium</td><td> 4.663866</td><td>T</td><td>300-0150</td></tr>\n",
       "\t<tr><th scope=row>Sample_300_0150_Syn_BT_5-AAACCTGTCTTGACGA-1</th><td> 6829</td><td>1723</td><td>Sample_300_0150_Syn_BT_5-AAACCTGTCTTGACGA-1</td><td>Sample_300_0150_Syn_BT_5</td><td>300_0150</td><td>synovium</td><td> 4.407673</td><td>T</td><td>300-0150</td></tr>\n",
       "</tbody>\n",
       "</table>\n"
      ],
      "text/latex": [
       "A data.frame: 6 × 9\n",
       "\\begin{tabular}{r|lllllllll}\n",
       "  & nCount\\_RNA & nFeature\\_RNA & Cell & sample & donor & tissue & percent.mt & pred\\_cell\\_type\\_broad & Geno\\_ID\\\\\n",
       "  & <dbl> & <int> & <chr> & <chr> & <chr> & <chr> & <dbl> & <fct> & <chr>\\\\\n",
       "\\hline\n",
       "\tSample\\_300\\_0150\\_Syn\\_BT\\_5-AAACCTGAGAACTGTA-1 &  8321 & 2344 & Sample\\_300\\_0150\\_Syn\\_BT\\_5-AAACCTGAGAACTGTA-1 & Sample\\_300\\_0150\\_Syn\\_BT\\_5 & 300\\_0150 & synovium &  3.653407 & T & 300-0150\\\\\n",
       "\tSample\\_300\\_0150\\_Syn\\_BT\\_5-AAACCTGAGAATTGTG-1 &  4597 & 1068 & Sample\\_300\\_0150\\_Syn\\_BT\\_5-AAACCTGAGAATTGTG-1 & Sample\\_300\\_0150\\_Syn\\_BT\\_5 & 300\\_0150 & synovium &  8.918860 & B & 300-0150\\\\\n",
       "\tSample\\_300\\_0150\\_Syn\\_BT\\_5-AAACCTGAGAGGACGG-1 & 14539 & 2911 & Sample\\_300\\_0150\\_Syn\\_BT\\_5-AAACCTGAGAGGACGG-1 & Sample\\_300\\_0150\\_Syn\\_BT\\_5 & 300\\_0150 & synovium &  4.862783 & B & 300-0150\\\\\n",
       "\tSample\\_300\\_0150\\_Syn\\_BT\\_5-AAACCTGCACGGCTAC-1 &  1704 &  504 & Sample\\_300\\_0150\\_Syn\\_BT\\_5-AAACCTGCACGGCTAC-1 & Sample\\_300\\_0150\\_Syn\\_BT\\_5 & 300\\_0150 & synovium & 10.211268 & T & 300-0150\\\\\n",
       "\tSample\\_300\\_0150\\_Syn\\_BT\\_5-AAACCTGGTATAGTAG-1 &  7140 & 2027 & Sample\\_300\\_0150\\_Syn\\_BT\\_5-AAACCTGGTATAGTAG-1 & Sample\\_300\\_0150\\_Syn\\_BT\\_5 & 300\\_0150 & synovium &  4.663866 & T & 300-0150\\\\\n",
       "\tSample\\_300\\_0150\\_Syn\\_BT\\_5-AAACCTGTCTTGACGA-1 &  6829 & 1723 & Sample\\_300\\_0150\\_Syn\\_BT\\_5-AAACCTGTCTTGACGA-1 & Sample\\_300\\_0150\\_Syn\\_BT\\_5 & 300\\_0150 & synovium &  4.407673 & T & 300-0150\\\\\n",
       "\\end{tabular}\n"
      ],
      "text/markdown": [
       "\n",
       "A data.frame: 6 × 9\n",
       "\n",
       "| <!--/--> | nCount_RNA &lt;dbl&gt; | nFeature_RNA &lt;int&gt; | Cell &lt;chr&gt; | sample &lt;chr&gt; | donor &lt;chr&gt; | tissue &lt;chr&gt; | percent.mt &lt;dbl&gt; | pred_cell_type_broad &lt;fct&gt; | Geno_ID &lt;chr&gt; |\n",
       "|---|---|---|---|---|---|---|---|---|---|\n",
       "| Sample_300_0150_Syn_BT_5-AAACCTGAGAACTGTA-1 |  8321 | 2344 | Sample_300_0150_Syn_BT_5-AAACCTGAGAACTGTA-1 | Sample_300_0150_Syn_BT_5 | 300_0150 | synovium |  3.653407 | T | 300-0150 |\n",
       "| Sample_300_0150_Syn_BT_5-AAACCTGAGAATTGTG-1 |  4597 | 1068 | Sample_300_0150_Syn_BT_5-AAACCTGAGAATTGTG-1 | Sample_300_0150_Syn_BT_5 | 300_0150 | synovium |  8.918860 | B | 300-0150 |\n",
       "| Sample_300_0150_Syn_BT_5-AAACCTGAGAGGACGG-1 | 14539 | 2911 | Sample_300_0150_Syn_BT_5-AAACCTGAGAGGACGG-1 | Sample_300_0150_Syn_BT_5 | 300_0150 | synovium |  4.862783 | B | 300-0150 |\n",
       "| Sample_300_0150_Syn_BT_5-AAACCTGCACGGCTAC-1 |  1704 |  504 | Sample_300_0150_Syn_BT_5-AAACCTGCACGGCTAC-1 | Sample_300_0150_Syn_BT_5 | 300_0150 | synovium | 10.211268 | T | 300-0150 |\n",
       "| Sample_300_0150_Syn_BT_5-AAACCTGGTATAGTAG-1 |  7140 | 2027 | Sample_300_0150_Syn_BT_5-AAACCTGGTATAGTAG-1 | Sample_300_0150_Syn_BT_5 | 300_0150 | synovium |  4.663866 | T | 300-0150 |\n",
       "| Sample_300_0150_Syn_BT_5-AAACCTGTCTTGACGA-1 |  6829 | 1723 | Sample_300_0150_Syn_BT_5-AAACCTGTCTTGACGA-1 | Sample_300_0150_Syn_BT_5 | 300_0150 | synovium |  4.407673 | T | 300-0150 |\n",
       "\n"
      ],
      "text/plain": [
       "                                            nCount_RNA nFeature_RNA\n",
       "Sample_300_0150_Syn_BT_5-AAACCTGAGAACTGTA-1  8321      2344        \n",
       "Sample_300_0150_Syn_BT_5-AAACCTGAGAATTGTG-1  4597      1068        \n",
       "Sample_300_0150_Syn_BT_5-AAACCTGAGAGGACGG-1 14539      2911        \n",
       "Sample_300_0150_Syn_BT_5-AAACCTGCACGGCTAC-1  1704       504        \n",
       "Sample_300_0150_Syn_BT_5-AAACCTGGTATAGTAG-1  7140      2027        \n",
       "Sample_300_0150_Syn_BT_5-AAACCTGTCTTGACGA-1  6829      1723        \n",
       "                                            Cell                                       \n",
       "Sample_300_0150_Syn_BT_5-AAACCTGAGAACTGTA-1 Sample_300_0150_Syn_BT_5-AAACCTGAGAACTGTA-1\n",
       "Sample_300_0150_Syn_BT_5-AAACCTGAGAATTGTG-1 Sample_300_0150_Syn_BT_5-AAACCTGAGAATTGTG-1\n",
       "Sample_300_0150_Syn_BT_5-AAACCTGAGAGGACGG-1 Sample_300_0150_Syn_BT_5-AAACCTGAGAGGACGG-1\n",
       "Sample_300_0150_Syn_BT_5-AAACCTGCACGGCTAC-1 Sample_300_0150_Syn_BT_5-AAACCTGCACGGCTAC-1\n",
       "Sample_300_0150_Syn_BT_5-AAACCTGGTATAGTAG-1 Sample_300_0150_Syn_BT_5-AAACCTGGTATAGTAG-1\n",
       "Sample_300_0150_Syn_BT_5-AAACCTGTCTTGACGA-1 Sample_300_0150_Syn_BT_5-AAACCTGTCTTGACGA-1\n",
       "                                            sample                   donor   \n",
       "Sample_300_0150_Syn_BT_5-AAACCTGAGAACTGTA-1 Sample_300_0150_Syn_BT_5 300_0150\n",
       "Sample_300_0150_Syn_BT_5-AAACCTGAGAATTGTG-1 Sample_300_0150_Syn_BT_5 300_0150\n",
       "Sample_300_0150_Syn_BT_5-AAACCTGAGAGGACGG-1 Sample_300_0150_Syn_BT_5 300_0150\n",
       "Sample_300_0150_Syn_BT_5-AAACCTGCACGGCTAC-1 Sample_300_0150_Syn_BT_5 300_0150\n",
       "Sample_300_0150_Syn_BT_5-AAACCTGGTATAGTAG-1 Sample_300_0150_Syn_BT_5 300_0150\n",
       "Sample_300_0150_Syn_BT_5-AAACCTGTCTTGACGA-1 Sample_300_0150_Syn_BT_5 300_0150\n",
       "                                            tissue   percent.mt\n",
       "Sample_300_0150_Syn_BT_5-AAACCTGAGAACTGTA-1 synovium  3.653407 \n",
       "Sample_300_0150_Syn_BT_5-AAACCTGAGAATTGTG-1 synovium  8.918860 \n",
       "Sample_300_0150_Syn_BT_5-AAACCTGAGAGGACGG-1 synovium  4.862783 \n",
       "Sample_300_0150_Syn_BT_5-AAACCTGCACGGCTAC-1 synovium 10.211268 \n",
       "Sample_300_0150_Syn_BT_5-AAACCTGGTATAGTAG-1 synovium  4.663866 \n",
       "Sample_300_0150_Syn_BT_5-AAACCTGTCTTGACGA-1 synovium  4.407673 \n",
       "                                            pred_cell_type_broad Geno_ID \n",
       "Sample_300_0150_Syn_BT_5-AAACCTGAGAACTGTA-1 T                    300-0150\n",
       "Sample_300_0150_Syn_BT_5-AAACCTGAGAATTGTG-1 B                    300-0150\n",
       "Sample_300_0150_Syn_BT_5-AAACCTGAGAGGACGG-1 B                    300-0150\n",
       "Sample_300_0150_Syn_BT_5-AAACCTGCACGGCTAC-1 T                    300-0150\n",
       "Sample_300_0150_Syn_BT_5-AAACCTGGTATAGTAG-1 T                    300-0150\n",
       "Sample_300_0150_Syn_BT_5-AAACCTGTCTTGACGA-1 T                    300-0150"
      ]
     },
     "metadata": {},
     "output_type": "display_data"
    },
    {
     "data": {
      "text/html": [
       "<style>\n",
       ".list-inline {list-style: none; margin:0; padding: 0}\n",
       ".list-inline>li {display: inline-block}\n",
       ".list-inline>li:not(:last-child)::after {content: \"\\00b7\"; padding: 0 .5ex}\n",
       "</style>\n",
       "<ol class=list-inline><li>'BRI-403'</li><li>'BRI-556'</li><li>'BRI-460'</li><li>'BRI-479'</li><li>'BRI-505'</li><li>'BRI-583'</li><li>'BRI-427'</li><li>'BRI-566'</li><li>'BRI-462'</li></ol>\n"
      ],
      "text/latex": [
       "\\begin{enumerate*}\n",
       "\\item 'BRI-403'\n",
       "\\item 'BRI-556'\n",
       "\\item 'BRI-460'\n",
       "\\item 'BRI-479'\n",
       "\\item 'BRI-505'\n",
       "\\item 'BRI-583'\n",
       "\\item 'BRI-427'\n",
       "\\item 'BRI-566'\n",
       "\\item 'BRI-462'\n",
       "\\end{enumerate*}\n"
      ],
      "text/markdown": [
       "1. 'BRI-403'\n",
       "2. 'BRI-556'\n",
       "3. 'BRI-460'\n",
       "4. 'BRI-479'\n",
       "5. 'BRI-505'\n",
       "6. 'BRI-583'\n",
       "7. 'BRI-427'\n",
       "8. 'BRI-566'\n",
       "9. 'BRI-462'\n",
       "\n",
       "\n"
      ],
      "text/plain": [
       "[1] \"BRI-403\" \"BRI-556\" \"BRI-460\" \"BRI-479\" \"BRI-505\" \"BRI-583\" \"BRI-427\"\n",
       "[8] \"BRI-566\" \"BRI-462\""
      ]
     },
     "metadata": {},
     "output_type": "display_data"
    },
    {
     "data": {
      "text/html": [
       "<style>\n",
       ".list-inline {list-style: none; margin:0; padding: 0}\n",
       ".list-inline>li {display: inline-block}\n",
       ".list-inline>li:not(:last-child)::after {content: \"\\00b7\"; padding: 0 .5ex}\n",
       "</style>\n",
       "<ol class=list-inline><li>'BRI-403 300-0150'</li><li>'BRI-556 300-0171'</li><li>'BRI-460 300-0173'</li><li>'BRI-479 300-0174'</li><li>'BRI-505 300-0392-V0-14-BC1'</li><li>'BRI-583 300-0410'</li><li>'BRI-427 300-0414'</li><li>'BRI-566 300-0416-V0-14-L1'</li><li>'BRI-462 300-1930'</li></ol>\n"
      ],
      "text/latex": [
       "\\begin{enumerate*}\n",
       "\\item 'BRI-403 300-0150'\n",
       "\\item 'BRI-556 300-0171'\n",
       "\\item 'BRI-460 300-0173'\n",
       "\\item 'BRI-479 300-0174'\n",
       "\\item 'BRI-505 300-0392-V0-14-BC1'\n",
       "\\item 'BRI-583 300-0410'\n",
       "\\item 'BRI-427 300-0414'\n",
       "\\item 'BRI-566 300-0416-V0-14-L1'\n",
       "\\item 'BRI-462 300-1930'\n",
       "\\end{enumerate*}\n"
      ],
      "text/markdown": [
       "1. 'BRI-403 300-0150'\n",
       "2. 'BRI-556 300-0171'\n",
       "3. 'BRI-460 300-0173'\n",
       "4. 'BRI-479 300-0174'\n",
       "5. 'BRI-505 300-0392-V0-14-BC1'\n",
       "6. 'BRI-583 300-0410'\n",
       "7. 'BRI-427 300-0414'\n",
       "8. 'BRI-566 300-0416-V0-14-L1'\n",
       "9. 'BRI-462 300-1930'\n",
       "\n",
       "\n"
      ],
      "text/plain": [
       "[1] \"BRI-403 300-0150\"           \"BRI-556 300-0171\"          \n",
       "[3] \"BRI-460 300-0173\"           \"BRI-479 300-0174\"          \n",
       "[5] \"BRI-505 300-0392-V0-14-BC1\" \"BRI-583 300-0410\"          \n",
       "[7] \"BRI-427 300-0414\"           \"BRI-566 300-0416-V0-14-L1\" \n",
       "[9] \"BRI-462 300-1930\"          "
      ]
     },
     "metadata": {},
     "output_type": "display_data"
    },
    {
     "data": {
      "text/html": [
       "<style>\n",
       ".list-inline {list-style: none; margin:0; padding: 0}\n",
       ".list-inline>li {display: inline-block}\n",
       ".list-inline>li:not(:last-child)::after {content: \"\\00b7\"; padding: 0 .5ex}\n",
       "</style>\n",
       "<ol class=list-inline><li>'BRI-403 Sample_300_0150_Syn_BT_5'</li><li>'BRI-556 Sample_300_0171_Syn_BT_5'</li><li>'BRI-460 Sample_300_0173_Syn_BT_5'</li><li>'BRI-479 Sample_300_0174_Syn_BT_5'</li><li>'BRI-505 Sample_300_0392_Syn_BT_5'</li><li>'BRI-583 Sample_300_0410_Syn_BT_5'</li><li>'BRI-427 Sample_300_0414_Syn_BT_5'</li><li>'BRI-566 Sample_300_0416_Syn_BT_5'</li><li>'BRI-462 Sample_300_1930_Syn_BT_5'</li></ol>\n"
      ],
      "text/latex": [
       "\\begin{enumerate*}\n",
       "\\item 'BRI-403 Sample\\_300\\_0150\\_Syn\\_BT\\_5'\n",
       "\\item 'BRI-556 Sample\\_300\\_0171\\_Syn\\_BT\\_5'\n",
       "\\item 'BRI-460 Sample\\_300\\_0173\\_Syn\\_BT\\_5'\n",
       "\\item 'BRI-479 Sample\\_300\\_0174\\_Syn\\_BT\\_5'\n",
       "\\item 'BRI-505 Sample\\_300\\_0392\\_Syn\\_BT\\_5'\n",
       "\\item 'BRI-583 Sample\\_300\\_0410\\_Syn\\_BT\\_5'\n",
       "\\item 'BRI-427 Sample\\_300\\_0414\\_Syn\\_BT\\_5'\n",
       "\\item 'BRI-566 Sample\\_300\\_0416\\_Syn\\_BT\\_5'\n",
       "\\item 'BRI-462 Sample\\_300\\_1930\\_Syn\\_BT\\_5'\n",
       "\\end{enumerate*}\n"
      ],
      "text/markdown": [
       "1. 'BRI-403 Sample_300_0150_Syn_BT_5'\n",
       "2. 'BRI-556 Sample_300_0171_Syn_BT_5'\n",
       "3. 'BRI-460 Sample_300_0173_Syn_BT_5'\n",
       "4. 'BRI-479 Sample_300_0174_Syn_BT_5'\n",
       "5. 'BRI-505 Sample_300_0392_Syn_BT_5'\n",
       "6. 'BRI-583 Sample_300_0410_Syn_BT_5'\n",
       "7. 'BRI-427 Sample_300_0414_Syn_BT_5'\n",
       "8. 'BRI-566 Sample_300_0416_Syn_BT_5'\n",
       "9. 'BRI-462 Sample_300_1930_Syn_BT_5'\n",
       "\n",
       "\n"
      ],
      "text/plain": [
       "[1] \"BRI-403 Sample_300_0150_Syn_BT_5\" \"BRI-556 Sample_300_0171_Syn_BT_5\"\n",
       "[3] \"BRI-460 Sample_300_0173_Syn_BT_5\" \"BRI-479 Sample_300_0174_Syn_BT_5\"\n",
       "[5] \"BRI-505 Sample_300_0392_Syn_BT_5\" \"BRI-583 Sample_300_0410_Syn_BT_5\"\n",
       "[7] \"BRI-427 Sample_300_0414_Syn_BT_5\" \"BRI-566 Sample_300_0416_Syn_BT_5\"\n",
       "[9] \"BRI-462 Sample_300_1930_Syn_BT_5\""
      ]
     },
     "metadata": {},
     "output_type": "display_data"
    }
   ],
   "source": [
    "head(meta_5p)\n",
    "meta_5p = left_join(meta_5p, sample_meta[, c('Geno_ID', 'Sample')], by = 'Geno_ID')\n",
    "meta_5p$Sample %>% unique()\n",
    "unique(paste(meta_5p$Sample, meta_5p$Geno_ID))\n",
    "unique(paste(meta_5p$Sample, meta_5p$sample))"
   ]
  },
  {
   "cell_type": "code",
   "execution_count": 17,
   "id": "ce66b95a-2479-4beb-a9d0-3132577beb8a",
   "metadata": {},
   "outputs": [
    {
     "data": {
      "text/html": [
       "<table class=\"dataframe\">\n",
       "<caption>A data.frame: 6 × 13</caption>\n",
       "<thead>\n",
       "\t<tr><th></th><th scope=col>nCount_RNA</th><th scope=col>nFeature_RNA</th><th scope=col>Cell1</th><th scope=col>Cell2</th><th scope=col>Cell3</th><th scope=col>sample</th><th scope=col>donor</th><th scope=col>tissue</th><th scope=col>percent.mt</th><th scope=col>pred_cell_type_broad</th><th scope=col>Geno_ID</th><th scope=col>Sample</th><th scope=col>Cell</th></tr>\n",
       "\t<tr><th></th><th scope=col>&lt;dbl&gt;</th><th scope=col>&lt;int&gt;</th><th scope=col>&lt;chr&gt;</th><th scope=col>&lt;chr&gt;</th><th scope=col>&lt;chr&gt;</th><th scope=col>&lt;chr&gt;</th><th scope=col>&lt;chr&gt;</th><th scope=col>&lt;chr&gt;</th><th scope=col>&lt;dbl&gt;</th><th scope=col>&lt;fct&gt;</th><th scope=col>&lt;chr&gt;</th><th scope=col>&lt;chr&gt;</th><th scope=col>&lt;chr&gt;</th></tr>\n",
       "</thead>\n",
       "<tbody>\n",
       "\t<tr><th scope=row>BRI-403_AAACCTGAGAACTGTA</th><td> 8321</td><td>2344</td><td>Sample_300_0150_Syn_BT_5</td><td>AAACCTGAGAACTGTA</td><td>1</td><td>Sample_300_0150_Syn_BT_5</td><td>300_0150</td><td>synovium</td><td> 3.653407</td><td>T</td><td>300-0150</td><td>BRI-403</td><td>BRI-403_AAACCTGAGAACTGTA</td></tr>\n",
       "\t<tr><th scope=row>BRI-403_AAACCTGAGAATTGTG</th><td> 4597</td><td>1068</td><td>Sample_300_0150_Syn_BT_5</td><td>AAACCTGAGAATTGTG</td><td>1</td><td>Sample_300_0150_Syn_BT_5</td><td>300_0150</td><td>synovium</td><td> 8.918860</td><td>B</td><td>300-0150</td><td>BRI-403</td><td>BRI-403_AAACCTGAGAATTGTG</td></tr>\n",
       "\t<tr><th scope=row>BRI-403_AAACCTGAGAGGACGG</th><td>14539</td><td>2911</td><td>Sample_300_0150_Syn_BT_5</td><td>AAACCTGAGAGGACGG</td><td>1</td><td>Sample_300_0150_Syn_BT_5</td><td>300_0150</td><td>synovium</td><td> 4.862783</td><td>B</td><td>300-0150</td><td>BRI-403</td><td>BRI-403_AAACCTGAGAGGACGG</td></tr>\n",
       "\t<tr><th scope=row>BRI-403_AAACCTGCACGGCTAC</th><td> 1704</td><td> 504</td><td>Sample_300_0150_Syn_BT_5</td><td>AAACCTGCACGGCTAC</td><td>1</td><td>Sample_300_0150_Syn_BT_5</td><td>300_0150</td><td>synovium</td><td>10.211268</td><td>T</td><td>300-0150</td><td>BRI-403</td><td>BRI-403_AAACCTGCACGGCTAC</td></tr>\n",
       "\t<tr><th scope=row>BRI-403_AAACCTGGTATAGTAG</th><td> 7140</td><td>2027</td><td>Sample_300_0150_Syn_BT_5</td><td>AAACCTGGTATAGTAG</td><td>1</td><td>Sample_300_0150_Syn_BT_5</td><td>300_0150</td><td>synovium</td><td> 4.663866</td><td>T</td><td>300-0150</td><td>BRI-403</td><td>BRI-403_AAACCTGGTATAGTAG</td></tr>\n",
       "\t<tr><th scope=row>BRI-403_AAACCTGTCTTGACGA</th><td> 6829</td><td>1723</td><td>Sample_300_0150_Syn_BT_5</td><td>AAACCTGTCTTGACGA</td><td>1</td><td>Sample_300_0150_Syn_BT_5</td><td>300_0150</td><td>synovium</td><td> 4.407673</td><td>T</td><td>300-0150</td><td>BRI-403</td><td>BRI-403_AAACCTGTCTTGACGA</td></tr>\n",
       "</tbody>\n",
       "</table>\n"
      ],
      "text/latex": [
       "A data.frame: 6 × 13\n",
       "\\begin{tabular}{r|lllllllllllll}\n",
       "  & nCount\\_RNA & nFeature\\_RNA & Cell1 & Cell2 & Cell3 & sample & donor & tissue & percent.mt & pred\\_cell\\_type\\_broad & Geno\\_ID & Sample & Cell\\\\\n",
       "  & <dbl> & <int> & <chr> & <chr> & <chr> & <chr> & <chr> & <chr> & <dbl> & <fct> & <chr> & <chr> & <chr>\\\\\n",
       "\\hline\n",
       "\tBRI-403\\_AAACCTGAGAACTGTA &  8321 & 2344 & Sample\\_300\\_0150\\_Syn\\_BT\\_5 & AAACCTGAGAACTGTA & 1 & Sample\\_300\\_0150\\_Syn\\_BT\\_5 & 300\\_0150 & synovium &  3.653407 & T & 300-0150 & BRI-403 & BRI-403\\_AAACCTGAGAACTGTA\\\\\n",
       "\tBRI-403\\_AAACCTGAGAATTGTG &  4597 & 1068 & Sample\\_300\\_0150\\_Syn\\_BT\\_5 & AAACCTGAGAATTGTG & 1 & Sample\\_300\\_0150\\_Syn\\_BT\\_5 & 300\\_0150 & synovium &  8.918860 & B & 300-0150 & BRI-403 & BRI-403\\_AAACCTGAGAATTGTG\\\\\n",
       "\tBRI-403\\_AAACCTGAGAGGACGG & 14539 & 2911 & Sample\\_300\\_0150\\_Syn\\_BT\\_5 & AAACCTGAGAGGACGG & 1 & Sample\\_300\\_0150\\_Syn\\_BT\\_5 & 300\\_0150 & synovium &  4.862783 & B & 300-0150 & BRI-403 & BRI-403\\_AAACCTGAGAGGACGG\\\\\n",
       "\tBRI-403\\_AAACCTGCACGGCTAC &  1704 &  504 & Sample\\_300\\_0150\\_Syn\\_BT\\_5 & AAACCTGCACGGCTAC & 1 & Sample\\_300\\_0150\\_Syn\\_BT\\_5 & 300\\_0150 & synovium & 10.211268 & T & 300-0150 & BRI-403 & BRI-403\\_AAACCTGCACGGCTAC\\\\\n",
       "\tBRI-403\\_AAACCTGGTATAGTAG &  7140 & 2027 & Sample\\_300\\_0150\\_Syn\\_BT\\_5 & AAACCTGGTATAGTAG & 1 & Sample\\_300\\_0150\\_Syn\\_BT\\_5 & 300\\_0150 & synovium &  4.663866 & T & 300-0150 & BRI-403 & BRI-403\\_AAACCTGGTATAGTAG\\\\\n",
       "\tBRI-403\\_AAACCTGTCTTGACGA &  6829 & 1723 & Sample\\_300\\_0150\\_Syn\\_BT\\_5 & AAACCTGTCTTGACGA & 1 & Sample\\_300\\_0150\\_Syn\\_BT\\_5 & 300\\_0150 & synovium &  4.407673 & T & 300-0150 & BRI-403 & BRI-403\\_AAACCTGTCTTGACGA\\\\\n",
       "\\end{tabular}\n"
      ],
      "text/markdown": [
       "\n",
       "A data.frame: 6 × 13\n",
       "\n",
       "| <!--/--> | nCount_RNA &lt;dbl&gt; | nFeature_RNA &lt;int&gt; | Cell1 &lt;chr&gt; | Cell2 &lt;chr&gt; | Cell3 &lt;chr&gt; | sample &lt;chr&gt; | donor &lt;chr&gt; | tissue &lt;chr&gt; | percent.mt &lt;dbl&gt; | pred_cell_type_broad &lt;fct&gt; | Geno_ID &lt;chr&gt; | Sample &lt;chr&gt; | Cell &lt;chr&gt; |\n",
       "|---|---|---|---|---|---|---|---|---|---|---|---|---|---|\n",
       "| BRI-403_AAACCTGAGAACTGTA |  8321 | 2344 | Sample_300_0150_Syn_BT_5 | AAACCTGAGAACTGTA | 1 | Sample_300_0150_Syn_BT_5 | 300_0150 | synovium |  3.653407 | T | 300-0150 | BRI-403 | BRI-403_AAACCTGAGAACTGTA |\n",
       "| BRI-403_AAACCTGAGAATTGTG |  4597 | 1068 | Sample_300_0150_Syn_BT_5 | AAACCTGAGAATTGTG | 1 | Sample_300_0150_Syn_BT_5 | 300_0150 | synovium |  8.918860 | B | 300-0150 | BRI-403 | BRI-403_AAACCTGAGAATTGTG |\n",
       "| BRI-403_AAACCTGAGAGGACGG | 14539 | 2911 | Sample_300_0150_Syn_BT_5 | AAACCTGAGAGGACGG | 1 | Sample_300_0150_Syn_BT_5 | 300_0150 | synovium |  4.862783 | B | 300-0150 | BRI-403 | BRI-403_AAACCTGAGAGGACGG |\n",
       "| BRI-403_AAACCTGCACGGCTAC |  1704 |  504 | Sample_300_0150_Syn_BT_5 | AAACCTGCACGGCTAC | 1 | Sample_300_0150_Syn_BT_5 | 300_0150 | synovium | 10.211268 | T | 300-0150 | BRI-403 | BRI-403_AAACCTGCACGGCTAC |\n",
       "| BRI-403_AAACCTGGTATAGTAG |  7140 | 2027 | Sample_300_0150_Syn_BT_5 | AAACCTGGTATAGTAG | 1 | Sample_300_0150_Syn_BT_5 | 300_0150 | synovium |  4.663866 | T | 300-0150 | BRI-403 | BRI-403_AAACCTGGTATAGTAG |\n",
       "| BRI-403_AAACCTGTCTTGACGA |  6829 | 1723 | Sample_300_0150_Syn_BT_5 | AAACCTGTCTTGACGA | 1 | Sample_300_0150_Syn_BT_5 | 300_0150 | synovium |  4.407673 | T | 300-0150 | BRI-403 | BRI-403_AAACCTGTCTTGACGA |\n",
       "\n"
      ],
      "text/plain": [
       "                         nCount_RNA nFeature_RNA Cell1                   \n",
       "BRI-403_AAACCTGAGAACTGTA  8321      2344         Sample_300_0150_Syn_BT_5\n",
       "BRI-403_AAACCTGAGAATTGTG  4597      1068         Sample_300_0150_Syn_BT_5\n",
       "BRI-403_AAACCTGAGAGGACGG 14539      2911         Sample_300_0150_Syn_BT_5\n",
       "BRI-403_AAACCTGCACGGCTAC  1704       504         Sample_300_0150_Syn_BT_5\n",
       "BRI-403_AAACCTGGTATAGTAG  7140      2027         Sample_300_0150_Syn_BT_5\n",
       "BRI-403_AAACCTGTCTTGACGA  6829      1723         Sample_300_0150_Syn_BT_5\n",
       "                         Cell2            Cell3 sample                  \n",
       "BRI-403_AAACCTGAGAACTGTA AAACCTGAGAACTGTA 1     Sample_300_0150_Syn_BT_5\n",
       "BRI-403_AAACCTGAGAATTGTG AAACCTGAGAATTGTG 1     Sample_300_0150_Syn_BT_5\n",
       "BRI-403_AAACCTGAGAGGACGG AAACCTGAGAGGACGG 1     Sample_300_0150_Syn_BT_5\n",
       "BRI-403_AAACCTGCACGGCTAC AAACCTGCACGGCTAC 1     Sample_300_0150_Syn_BT_5\n",
       "BRI-403_AAACCTGGTATAGTAG AAACCTGGTATAGTAG 1     Sample_300_0150_Syn_BT_5\n",
       "BRI-403_AAACCTGTCTTGACGA AAACCTGTCTTGACGA 1     Sample_300_0150_Syn_BT_5\n",
       "                         donor    tissue   percent.mt pred_cell_type_broad\n",
       "BRI-403_AAACCTGAGAACTGTA 300_0150 synovium  3.653407  T                   \n",
       "BRI-403_AAACCTGAGAATTGTG 300_0150 synovium  8.918860  B                   \n",
       "BRI-403_AAACCTGAGAGGACGG 300_0150 synovium  4.862783  B                   \n",
       "BRI-403_AAACCTGCACGGCTAC 300_0150 synovium 10.211268  T                   \n",
       "BRI-403_AAACCTGGTATAGTAG 300_0150 synovium  4.663866  T                   \n",
       "BRI-403_AAACCTGTCTTGACGA 300_0150 synovium  4.407673  T                   \n",
       "                         Geno_ID  Sample  Cell                    \n",
       "BRI-403_AAACCTGAGAACTGTA 300-0150 BRI-403 BRI-403_AAACCTGAGAACTGTA\n",
       "BRI-403_AAACCTGAGAATTGTG 300-0150 BRI-403 BRI-403_AAACCTGAGAATTGTG\n",
       "BRI-403_AAACCTGAGAGGACGG 300-0150 BRI-403 BRI-403_AAACCTGAGAGGACGG\n",
       "BRI-403_AAACCTGCACGGCTAC 300-0150 BRI-403 BRI-403_AAACCTGCACGGCTAC\n",
       "BRI-403_AAACCTGGTATAGTAG 300-0150 BRI-403 BRI-403_AAACCTGGTATAGTAG\n",
       "BRI-403_AAACCTGTCTTGACGA 300-0150 BRI-403 BRI-403_AAACCTGTCTTGACGA"
      ]
     },
     "metadata": {},
     "output_type": "display_data"
    }
   ],
   "source": [
    "meta_5p = separate(meta_5p, col = Cell, into = c('Cell1', 'Cell2', 'Cell3'), sep = '-')\n",
    "meta_5p$Cell = paste(meta_5p$Sample, meta_5p$Cell2, sep = '_')\n",
    "rownames(meta_5p) = meta_5p$Cell\n",
    "head(meta_5p)\n",
    "write.csv(meta_5p, '../../data/meta/AMP5prime_metadata_Syn.csv')"
   ]
  },
  {
   "cell_type": "markdown",
   "id": "da57114e-6d7f-4634-9b94-55873b0baab3",
   "metadata": {},
   "source": [
    "## Combine lanes"
   ]
  },
  {
   "cell_type": "code",
   "execution_count": 18,
   "id": "3a036e97-f450-4723-9854-82c0556844c9",
   "metadata": {},
   "outputs": [
    {
     "data": {
      "text/html": [
       "<table class=\"dataframe\">\n",
       "<caption>A data.frame: 9 × 2</caption>\n",
       "<thead>\n",
       "\t<tr><th scope=col>V1</th><th scope=col>V2</th></tr>\n",
       "\t<tr><th scope=col>&lt;chr&gt;</th><th scope=col>&lt;chr&gt;</th></tr>\n",
       "</thead>\n",
       "<tbody>\n",
       "\t<tr><td>300_0150_Syn_BT_5</td><td>BRI-403</td></tr>\n",
       "\t<tr><td>300_0171_Syn_BT_5</td><td>BRI-556</td></tr>\n",
       "\t<tr><td>300_0173_Syn_BT_5</td><td>BRI-460</td></tr>\n",
       "\t<tr><td>300_0174_Syn_BT_5</td><td>BRI-479</td></tr>\n",
       "\t<tr><td>300_0392_Syn_BT_5</td><td>BRI-505</td></tr>\n",
       "\t<tr><td>300_0410_Syn_BT_5</td><td>BRI-583</td></tr>\n",
       "\t<tr><td>300_0414_Syn_BT_5</td><td>BRI-427</td></tr>\n",
       "\t<tr><td>300_0416_Syn_BT_5</td><td>BRI-566</td></tr>\n",
       "\t<tr><td>300_1930_Syn_BT_5</td><td>BRI-462</td></tr>\n",
       "</tbody>\n",
       "</table>\n"
      ],
      "text/latex": [
       "A data.frame: 9 × 2\n",
       "\\begin{tabular}{ll}\n",
       " V1 & V2\\\\\n",
       " <chr> & <chr>\\\\\n",
       "\\hline\n",
       "\t 300\\_0150\\_Syn\\_BT\\_5 & BRI-403\\\\\n",
       "\t 300\\_0171\\_Syn\\_BT\\_5 & BRI-556\\\\\n",
       "\t 300\\_0173\\_Syn\\_BT\\_5 & BRI-460\\\\\n",
       "\t 300\\_0174\\_Syn\\_BT\\_5 & BRI-479\\\\\n",
       "\t 300\\_0392\\_Syn\\_BT\\_5 & BRI-505\\\\\n",
       "\t 300\\_0410\\_Syn\\_BT\\_5 & BRI-583\\\\\n",
       "\t 300\\_0414\\_Syn\\_BT\\_5 & BRI-427\\\\\n",
       "\t 300\\_0416\\_Syn\\_BT\\_5 & BRI-566\\\\\n",
       "\t 300\\_1930\\_Syn\\_BT\\_5 & BRI-462\\\\\n",
       "\\end{tabular}\n"
      ],
      "text/markdown": [
       "\n",
       "A data.frame: 9 × 2\n",
       "\n",
       "| V1 &lt;chr&gt; | V2 &lt;chr&gt; |\n",
       "|---|---|\n",
       "| 300_0150_Syn_BT_5 | BRI-403 |\n",
       "| 300_0171_Syn_BT_5 | BRI-556 |\n",
       "| 300_0173_Syn_BT_5 | BRI-460 |\n",
       "| 300_0174_Syn_BT_5 | BRI-479 |\n",
       "| 300_0392_Syn_BT_5 | BRI-505 |\n",
       "| 300_0410_Syn_BT_5 | BRI-583 |\n",
       "| 300_0414_Syn_BT_5 | BRI-427 |\n",
       "| 300_0416_Syn_BT_5 | BRI-566 |\n",
       "| 300_1930_Syn_BT_5 | BRI-462 |\n",
       "\n"
      ],
      "text/plain": [
       "  V1                V2     \n",
       "1 300_0150_Syn_BT_5 BRI-403\n",
       "2 300_0171_Syn_BT_5 BRI-556\n",
       "3 300_0173_Syn_BT_5 BRI-460\n",
       "4 300_0174_Syn_BT_5 BRI-479\n",
       "5 300_0392_Syn_BT_5 BRI-505\n",
       "6 300_0410_Syn_BT_5 BRI-583\n",
       "7 300_0414_Syn_BT_5 BRI-427\n",
       "8 300_0416_Syn_BT_5 BRI-566\n",
       "9 300_1930_Syn_BT_5 BRI-462"
      ]
     },
     "metadata": {},
     "output_type": "display_data"
    }
   ],
   "source": [
    "samples = read.table('/data/srlab2/jkang/scHLA/AMP_RA_repertoire/gex/fastq/sample.list')\n",
    "samples"
   ]
  },
  {
   "cell_type": "code",
   "execution_count": 24,
   "id": "bfbe5cb3-07da-4150-ab4e-e3c6e3752cd7",
   "metadata": {},
   "outputs": [
    {
     "name": "stdout",
     "output_type": "stream",
     "text": [
      "[1] \"bsub -q normal -M 8000 -R \\\"rusage[mem=8000]\\\" -n 4 -J combine_300_0171_Syn_BT_5 -R \\\"select[hname!=cn001]\\\" -R \\\"select[hname!=cn002]\\\" -R \\\"select[hname!=cn003]\\\" -R \\\"select[hname!=cn004]\\\" -R \\\"select[hname!=cn005]\\\" -R \\\"select[hname!=cn007]\\\" -o /data/srlab2/jkang/scHLA/AMP_RA_repertoire/gex/fastq/logs/300_0171_Syn_BT_5.out -e /data/srlab2/jkang/scHLA/AMP_RA_repertoire/gex/fastq/logs/300_0171_Syn_BT_5.err \\\"bash /data/srlab2/jkang/scHLA/AMP_RA_repertoire/gex/fastq/combine_lanes.sh 300_0171_Syn_BT_5 BRI-556 \\\"\"\n",
      "[1] \"bsub -q normal -M 8000 -R \\\"rusage[mem=8000]\\\" -n 4 -J combine_300_0173_Syn_BT_5 -R \\\"select[hname!=cn001]\\\" -R \\\"select[hname!=cn002]\\\" -R \\\"select[hname!=cn003]\\\" -R \\\"select[hname!=cn004]\\\" -R \\\"select[hname!=cn005]\\\" -R \\\"select[hname!=cn007]\\\" -o /data/srlab2/jkang/scHLA/AMP_RA_repertoire/gex/fastq/logs/300_0173_Syn_BT_5.out -e /data/srlab2/jkang/scHLA/AMP_RA_repertoire/gex/fastq/logs/300_0173_Syn_BT_5.err \\\"bash /data/srlab2/jkang/scHLA/AMP_RA_repertoire/gex/fastq/combine_lanes.sh 300_0173_Syn_BT_5 BRI-460 \\\"\"\n",
      "[1] \"bsub -q normal -M 8000 -R \\\"rusage[mem=8000]\\\" -n 4 -J combine_300_0174_Syn_BT_5 -R \\\"select[hname!=cn001]\\\" -R \\\"select[hname!=cn002]\\\" -R \\\"select[hname!=cn003]\\\" -R \\\"select[hname!=cn004]\\\" -R \\\"select[hname!=cn005]\\\" -R \\\"select[hname!=cn007]\\\" -o /data/srlab2/jkang/scHLA/AMP_RA_repertoire/gex/fastq/logs/300_0174_Syn_BT_5.out -e /data/srlab2/jkang/scHLA/AMP_RA_repertoire/gex/fastq/logs/300_0174_Syn_BT_5.err \\\"bash /data/srlab2/jkang/scHLA/AMP_RA_repertoire/gex/fastq/combine_lanes.sh 300_0174_Syn_BT_5 BRI-479 \\\"\"\n",
      "[1] \"bsub -q normal -M 8000 -R \\\"rusage[mem=8000]\\\" -n 4 -J combine_300_0392_Syn_BT_5 -R \\\"select[hname!=cn001]\\\" -R \\\"select[hname!=cn002]\\\" -R \\\"select[hname!=cn003]\\\" -R \\\"select[hname!=cn004]\\\" -R \\\"select[hname!=cn005]\\\" -R \\\"select[hname!=cn007]\\\" -o /data/srlab2/jkang/scHLA/AMP_RA_repertoire/gex/fastq/logs/300_0392_Syn_BT_5.out -e /data/srlab2/jkang/scHLA/AMP_RA_repertoire/gex/fastq/logs/300_0392_Syn_BT_5.err \\\"bash /data/srlab2/jkang/scHLA/AMP_RA_repertoire/gex/fastq/combine_lanes.sh 300_0392_Syn_BT_5 BRI-505 \\\"\"\n",
      "[1] \"bsub -q normal -M 8000 -R \\\"rusage[mem=8000]\\\" -n 4 -J combine_300_0410_Syn_BT_5 -R \\\"select[hname!=cn001]\\\" -R \\\"select[hname!=cn002]\\\" -R \\\"select[hname!=cn003]\\\" -R \\\"select[hname!=cn004]\\\" -R \\\"select[hname!=cn005]\\\" -R \\\"select[hname!=cn007]\\\" -o /data/srlab2/jkang/scHLA/AMP_RA_repertoire/gex/fastq/logs/300_0410_Syn_BT_5.out -e /data/srlab2/jkang/scHLA/AMP_RA_repertoire/gex/fastq/logs/300_0410_Syn_BT_5.err \\\"bash /data/srlab2/jkang/scHLA/AMP_RA_repertoire/gex/fastq/combine_lanes.sh 300_0410_Syn_BT_5 BRI-583 \\\"\"\n",
      "[1] \"bsub -q normal -M 8000 -R \\\"rusage[mem=8000]\\\" -n 4 -J combine_300_0414_Syn_BT_5 -R \\\"select[hname!=cn001]\\\" -R \\\"select[hname!=cn002]\\\" -R \\\"select[hname!=cn003]\\\" -R \\\"select[hname!=cn004]\\\" -R \\\"select[hname!=cn005]\\\" -R \\\"select[hname!=cn007]\\\" -o /data/srlab2/jkang/scHLA/AMP_RA_repertoire/gex/fastq/logs/300_0414_Syn_BT_5.out -e /data/srlab2/jkang/scHLA/AMP_RA_repertoire/gex/fastq/logs/300_0414_Syn_BT_5.err \\\"bash /data/srlab2/jkang/scHLA/AMP_RA_repertoire/gex/fastq/combine_lanes.sh 300_0414_Syn_BT_5 BRI-427 \\\"\"\n",
      "[1] \"bsub -q normal -M 8000 -R \\\"rusage[mem=8000]\\\" -n 4 -J combine_300_0416_Syn_BT_5 -R \\\"select[hname!=cn001]\\\" -R \\\"select[hname!=cn002]\\\" -R \\\"select[hname!=cn003]\\\" -R \\\"select[hname!=cn004]\\\" -R \\\"select[hname!=cn005]\\\" -R \\\"select[hname!=cn007]\\\" -o /data/srlab2/jkang/scHLA/AMP_RA_repertoire/gex/fastq/logs/300_0416_Syn_BT_5.out -e /data/srlab2/jkang/scHLA/AMP_RA_repertoire/gex/fastq/logs/300_0416_Syn_BT_5.err \\\"bash /data/srlab2/jkang/scHLA/AMP_RA_repertoire/gex/fastq/combine_lanes.sh 300_0416_Syn_BT_5 BRI-566 \\\"\"\n",
      "[1] \"bsub -q normal -M 8000 -R \\\"rusage[mem=8000]\\\" -n 4 -J combine_300_1930_Syn_BT_5 -R \\\"select[hname!=cn001]\\\" -R \\\"select[hname!=cn002]\\\" -R \\\"select[hname!=cn003]\\\" -R \\\"select[hname!=cn004]\\\" -R \\\"select[hname!=cn005]\\\" -R \\\"select[hname!=cn007]\\\" -o /data/srlab2/jkang/scHLA/AMP_RA_repertoire/gex/fastq/logs/300_1930_Syn_BT_5.out -e /data/srlab2/jkang/scHLA/AMP_RA_repertoire/gex/fastq/logs/300_1930_Syn_BT_5.err \\\"bash /data/srlab2/jkang/scHLA/AMP_RA_repertoire/gex/fastq/combine_lanes.sh 300_1930_Syn_BT_5 BRI-462 \\\"\"\n"
     ]
    }
   ],
   "source": [
    "logs_dir = '/data/srlab2/jkang/scHLA/AMP_RA_repertoire/gex/fastq/logs/'\n",
    "script = '/data/srlab2/jkang/scHLA/AMP_RA_repertoire/gex/fastq/combine_lanes.sh'\n",
    "for (i in 2:nrow(samples)) {\n",
    "    a = samples[i, 1]\n",
    "    b = samples[i, 2]\n",
    "    s = paste0('bsub -q normal -M 8000 -R \"rusage[mem=8000]\" -n 4 -J combine_', a, \n",
    "                   ' -R \"select[hname!=cn001]\" -R \"select[hname!=cn002]\" -R \"select[hname!=cn003]\" -R \"select[hname!=cn004]\" -R \"select[hname!=cn005]\" -R \"select[hname!=cn007]\"', \n",
    "                   ' -o ', logs_dir, a, '.out -e ', logs_dir, a, '.err',\n",
    "                   ' \"bash ', script, ' ', paste(a, b, '\"'))\n",
    "    print(s)\n",
    "}"
   ]
  },
  {
   "cell_type": "markdown",
   "id": "4c53718e-0c5f-469d-98d0-b0505a9bcc50",
   "metadata": {},
   "source": [
    "## Read in 5-prime counts matrices"
   ]
  },
  {
   "cell_type": "code",
   "execution_count": 19,
   "id": "42eb0973-bd82-4f1b-8709-c21bb314793a",
   "metadata": {},
   "outputs": [
    {
     "data": {
      "text/html": [
       "26638"
      ],
      "text/latex": [
       "26638"
      ],
      "text/markdown": [
       "26638"
      ],
      "text/plain": [
       "[1] 26638"
      ]
     },
     "metadata": {},
     "output_type": "display_data"
    },
    {
     "data": {
      "text/html": [
       "26638"
      ],
      "text/latex": [
       "26638"
      ],
      "text/markdown": [
       "26638"
      ],
      "text/plain": [
       "[1] 26638"
      ]
     },
     "metadata": {},
     "output_type": "display_data"
    },
    {
     "data": {
      "text/html": [
       "<style>\n",
       ".list-inline {list-style: none; margin:0; padding: 0}\n",
       ".list-inline>li {display: inline-block}\n",
       ".list-inline>li:not(:last-child)::after {content: \"\\00b7\"; padding: 0 .5ex}\n",
       "</style>\n",
       "<ol class=list-inline><li>36571</li><li>26638</li></ol>\n"
      ],
      "text/latex": [
       "\\begin{enumerate*}\n",
       "\\item 36571\n",
       "\\item 26638\n",
       "\\end{enumerate*}\n"
      ],
      "text/markdown": [
       "1. 36571\n",
       "2. 26638\n",
       "\n",
       "\n"
      ],
      "text/plain": [
       "[1] 36571 26638"
      ]
     },
     "metadata": {},
     "output_type": "display_data"
    },
    {
     "data": {
      "text/html": [
       "<style>\n",
       ".list-inline {list-style: none; margin:0; padding: 0}\n",
       ".list-inline>li {display: inline-block}\n",
       ".list-inline>li:not(:last-child)::after {content: \"\\00b7\"; padding: 0 .5ex}\n",
       "</style>\n",
       "<ol class=list-inline><li>36571</li><li>26638</li></ol>\n"
      ],
      "text/latex": [
       "\\begin{enumerate*}\n",
       "\\item 36571\n",
       "\\item 26638\n",
       "\\end{enumerate*}\n"
      ],
      "text/markdown": [
       "1. 36571\n",
       "2. 26638\n",
       "\n",
       "\n"
      ],
      "text/plain": [
       "[1] 36571 26638"
      ]
     },
     "metadata": {},
     "output_type": "display_data"
    }
   ],
   "source": [
    "noPers_5p = readRDS('../../data/genesXcells_GeneFull_Ex50pAS/exp_AMP2RA_5prime_noPers_noMM_GeneFull_Exon50pAS.rds')\n",
    "pers_5p = readRDS('../../data/genesXcells_GeneFull_Ex50pAS/exp_AMP2RA_5prime_pers_EM_GeneFull_Exon50pAS.rds')\n",
    "meta_5p = read.csv(paste0('../../data/meta/AMP5prime_metadata_Syn.csv'), row.names = 1)\n",
    "\n",
    "HLA_genes = c('HLA-A', 'HLA-B', 'HLA-C', 'HLA-DRB1', 'HLA-DQA1', 'HLA-DQB1', 'HLA-DPA1', 'HLA-DPB1')\n",
    "IMGT_genes = c('IMGT_A', 'IMGT_B', 'IMGT_C', 'IMGT_DRB1', 'IMGT_DQA1', 'IMGT_DQB1', 'IMGT_DPA1', 'IMGT_DPB1')\n",
    "length(rownames(meta_5p))\n",
    "length(colnames(pers_5p))\n",
    "\n",
    "# Reorder cells to match the metadata ordering\n",
    "pers_5p = pers_5p[, rownames(meta_5p)]\n",
    "noPers_5p = noPers_5p[, rownames(meta_5p)]\n",
    "\n",
    "# Rename 'IMGT' to 'HLA'\n",
    "rownames(pers_5p) = str_replace(rownames(pers_5p), 'IMGT_', 'HLA-')\n",
    "dim(pers_5p)\n",
    "dim(noPers_5p)\n",
    "noPers_5p = noPers_5p[rownames(pers_5p), ]"
   ]
  },
  {
   "cell_type": "code",
   "execution_count": 20,
   "id": "42369942-4c65-4833-9579-eb13f998fab6",
   "metadata": {},
   "outputs": [],
   "source": [
    "# Sum by sample\n",
    "pers_sample = rowsum(as.matrix(t(pers_5p)), meta_5p$Sample, reorder = TRUE)\n",
    "noPers_sample = rowsum(as.matrix(t(noPers_5p)), meta_5p$Sample, reorder = TRUE)\n",
    "\n",
    "# Subset to HLA genes\n",
    "pers_sample = pers_sample[, HLA_genes]\n",
    "noPers_sample = noPers_sample[, HLA_genes]\n",
    "\n",
    "pctinc = 100 * (pers_sample - noPers_sample) / noPers_sample\n",
    "\n",
    "pctinc_long <- reshape2::melt(data = pctinc, \n",
    "                id.vars = colnames(pctinc),\n",
    "                variable.name = \"gene\",\n",
    "                value.name = \"pct_change\")\n",
    "colnames(pctinc_long) = c('sample', 'gene', 'pct_change')"
   ]
  },
  {
   "cell_type": "code",
   "execution_count": 58,
   "id": "fa60b4e4-3bee-4012-8f88-eb5adf2b8388",
   "metadata": {},
   "outputs": [
    {
     "data": {
      "text/html": [
       "<strong>png:</strong> 2"
      ],
      "text/latex": [
       "\\textbf{png:} 2"
      ],
      "text/markdown": [
       "**png:** 2"
      ],
      "text/plain": [
       "png \n",
       "  2 "
      ]
     },
     "metadata": {},
     "output_type": "display_data"
    },
    {
     "data": {
      "image/png": "[encoded data removed]",
      "text/plain": [
       "plot without title"
      ]
     },
     "metadata": {
      "image/png": {
       "height": 500,
       "width": 500
      }
     },
     "output_type": "display_data"
    }
   ],
   "source": [
    "fig.size(5, 5)\n",
    "pdf(file = '../../SuppFigs/Percent_change_AMP2RA_5prime.pdf', width = 5, height = 5)\n",
    "p = ggplot(pctinc_long) +\n",
    "    geom_hline(yintercept=0, color = 'maroon', size = 1, linetype = 'dashed') +\n",
    "    geom_boxplot(aes(x = as.character(gene), y = pct_change, fill = as.character(gene)), outlier.size = 0.5) + \n",
    "    geom_jitter(aes(x = as.character(gene), y = pct_change), col = 'black', alpha = 0.6, size = 1, width = 0.1) +\n",
    "    theme_bw() +\n",
    "    xlab('Gene') + ggtitle('Percent change after personalization\\nSynovium (5-prime, n = 9 samples, 26,638 cells)') + \n",
    "    ylab('Percent change in estimated UMIs\\n(scHLApers vs. standard)') + \n",
    "    theme_classic() + theme(legend.position = 'none') +\n",
    "    scale_fill_manual(values = gene_colors) +\n",
    "    theme(axis.text.x = element_text(angle = 45, vjust = 1, hjust=1)) \n",
    "print(p)\n",
    "dev.off()\n",
    "p"
   ]
  },
  {
   "cell_type": "markdown",
   "id": "27f0ce8e-205c-49fd-a70a-5ca7ab14e5cb",
   "metadata": {},
   "source": [
    "# Done!"
   ]
  },
  {
   "cell_type": "code",
   "execution_count": 28,
   "id": "0213036f-4a14-47ac-bbf2-8cdd0fc3a847",
   "metadata": {},
   "outputs": [
    {
     "data": {
      "text/plain": [
       "R version 4.0.5 (2021-03-31)\n",
       "Platform: x86_64-conda-linux-gnu (64-bit)\n",
       "Running under: Red Hat Enterprise Linux Server release 6.5 (Santiago)\n",
       "\n",
       "Matrix products: default\n",
       "BLAS/LAPACK: /PHShome/jbk37/anaconda3/envs/hla_new/lib/libopenblasp-r0.3.18.so\n",
       "\n",
       "locale:\n",
       " [1] LC_CTYPE=en_US.UTF-8       LC_NUMERIC=C              \n",
       " [3] LC_TIME=en_US.UTF-8        LC_COLLATE=en_US.UTF-8    \n",
       " [5] LC_MONETARY=en_US.UTF-8    LC_MESSAGES=en_US.UTF-8   \n",
       " [7] LC_PAPER=en_US.UTF-8       LC_NAME=C                 \n",
       " [9] LC_ADDRESS=C               LC_TELEPHONE=C            \n",
       "[11] LC_MEASUREMENT=en_US.UTF-8 LC_IDENTIFICATION=C       \n",
       "\n",
       "attached base packages:\n",
       "[1] stats     graphics  grDevices utils     datasets  methods   base     \n",
       "\n",
       "other attached packages:\n",
       " [1] ggrepel_0.9.1           reshape2_1.4.4          ggpubr_0.4.0           \n",
       " [4] patchwork_1.1.1         ggrastr_1.0.1           plyr_1.8.6             \n",
       " [7] singlecellmethods_0.1.0 data.table_1.14.2       Matrix.utils_0.9.8     \n",
       "[10] Matrix_1.4-0            forcats_0.5.1           stringr_1.4.0          \n",
       "[13] dplyr_1.0.8             purrr_0.3.4             readr_2.1.2            \n",
       "[16] tidyr_1.2.0             tibble_3.1.6            ggplot2_3.3.5          \n",
       "[19] tidyverse_1.3.1        \n",
       "\n",
       "loaded via a namespace (and not attached):\n",
       " [1] httr_1.4.2       jsonlite_1.8.0   carData_3.0-5    modelr_0.1.8    \n",
       " [5] assertthat_0.2.1 vipor_0.4.5      cellranger_1.1.0 pillar_1.7.0    \n",
       " [9] backports_1.4.1  lattice_0.20-45  glue_1.6.2       uuid_1.0-4      \n",
       "[13] digest_0.6.29    ggsignif_0.6.3   rvest_1.0.2      colorspace_2.0-3\n",
       "[17] htmltools_0.5.2  pkgconfig_2.0.3  broom_0.7.12     haven_2.4.3     \n",
       "[21] scales_1.1.1     tzdb_0.2.0       farver_2.1.0     car_3.0-12      \n",
       "[25] generics_0.1.2   grr_0.9.5        ellipsis_0.3.2   withr_2.5.0     \n",
       "[29] repr_1.1.4       cli_3.6.0        magrittr_2.0.2   crayon_1.5.0    \n",
       "[33] readxl_1.3.1     evaluate_0.15    fs_1.5.2         fansi_1.0.2     \n",
       "[37] rstatix_0.7.0    xml2_1.3.3       beeswarm_0.4.0   Cairo_1.5-15    \n",
       "[41] tools_4.0.5      hms_1.1.1        lifecycle_1.0.1  munsell_0.5.0   \n",
       "[45] reprex_2.0.1     compiler_4.0.5   rlang_1.0.2      grid_4.0.5      \n",
       "[49] pbdZMQ_0.3-7     IRkernel_1.3     rstudioapi_0.13  labeling_0.4.2  \n",
       "[53] base64enc_0.1-3  gtable_0.3.0     abind_1.4-5      DBI_1.1.2       \n",
       "[57] R6_2.5.1         lubridate_1.8.0  fastmap_1.1.0    utf8_1.2.2      \n",
       "[61] stringi_1.7.8    ggbeeswarm_0.6.0 IRdisplay_1.1    Rcpp_1.0.9      \n",
       "[65] vctrs_0.3.8      dbplyr_2.1.1     tidyselect_1.1.2"
      ]
     },
     "metadata": {},
     "output_type": "display_data"
    }
   ],
   "source": [
    "sessionInfo()"
   ]
  }
 ],
 "metadata": {
  "kernelspec": {
   "display_name": "R_4.0.5",
   "language": "R",
   "name": "r_4.0.5"
  },
  "language_info": {
   "codemirror_mode": "r",
   "file_extension": ".r",
   "mimetype": "text/x-r-source",
   "name": "R",
   "pygments_lexer": "r",
   "version": "4.0.5"
  }
 },
 "nbformat": 4,
 "nbformat_minor": 5
}
