{
 "cells": [
  {
   "cell_type": "markdown",
   "id": "a902c638-df9d-4578-8263-9b121dd17016",
   "metadata": {},
   "source": [
    "# Process HLA Imputation\n",
    "Process output of SNP2HLA.py imputation and call alleles for each sample, for use in personalized HLA quantification pipeline.\n",
    "\n",
    "Joyce Kang & Sid Gurajala\n",
    "\n",
    "Last updated June 2023"
   ]
  },
  {
   "cell_type": "code",
   "execution_count": 1,
   "id": "b30ffe4d-3f1b-476a-83aa-ab1e292bd0b5",
   "metadata": {},
   "outputs": [],
   "source": [
    "#install.packages('vcfR')\n",
    "suppressPackageStartupMessages({\n",
    "    library(vcfR)\n",
    "    library(tidyr)\n",
    "    library(ggplot2)\n",
    "    library(dplyr)\n",
    "    library(stringr)\n",
    "    library(tidyverse)\n",
    "    library(RColorBrewer)\n",
    "})\n",
    "\n",
    "source('../utils.R')"
   ]
  },
  {
   "cell_type": "markdown",
   "id": "323d024c-dc6d-47d6-b55e-2f4c3a14924d",
   "metadata": {},
   "source": [
    "# New Panel | SNP2HLA | AMP2RA"
   ]
  },
  {
   "cell_type": "markdown",
   "id": "25c65368-90e4-4e9b-b0f7-e9c7f7c3c3ee",
   "metadata": {},
   "source": [
    "## Read in imputation file"
   ]
  },
  {
   "cell_type": "code",
   "execution_count": 2,
   "id": "eec491bd-94bb-419d-b365-2d6bf1db4f74",
   "metadata": {},
   "outputs": [
    {
     "data": {
      "text/html": [
       "<table class=\"dataframe\">\n",
       "<caption>A matrix: 4 × 8 of type chr</caption>\n",
       "<thead>\n",
       "\t<tr><th scope=col>CHROM</th><th scope=col>POS</th><th scope=col>ID</th><th scope=col>REF</th><th scope=col>ALT</th><th scope=col>QUAL</th><th scope=col>FILTER</th><th scope=col>INFO</th></tr>\n",
       "</thead>\n",
       "<tbody>\n",
       "\t<tr><td>6</td><td>27970031</td><td>rs149946  </td><td>G</td><td>T</td><td>NA</td><td>PASS</td><td>AR2=0.98;DR2=0.98;AF=0.27;IMP </td></tr>\n",
       "\t<tr><td>6</td><td>27976200</td><td>rs9380032 </td><td>G</td><td>T</td><td>NA</td><td>PASS</td><td>AR2=0.95;DR2=0.95;AF=0.051;IMP</td></tr>\n",
       "\t<tr><td>6</td><td>27979188</td><td>rs4141691 </td><td>A</td><td>G</td><td>NA</td><td>PASS</td><td>AR2=0.90;DR2=0.92;AF=0.12;IMP </td></tr>\n",
       "\t<tr><td>6</td><td>27979625</td><td>rs10484402</td><td>A</td><td>G</td><td>NA</td><td>PASS</td><td>AR2=0.89;DR2=0.91;AF=0.060;IMP</td></tr>\n",
       "</tbody>\n",
       "</table>\n"
      ],
      "text/latex": [
       "A matrix: 4 × 8 of type chr\n",
       "\\begin{tabular}{llllllll}\n",
       " CHROM & POS & ID & REF & ALT & QUAL & FILTER & INFO\\\\\n",
       "\\hline\n",
       "\t 6 & 27970031 & rs149946   & G & T & NA & PASS & AR2=0.98;DR2=0.98;AF=0.27;IMP \\\\\n",
       "\t 6 & 27976200 & rs9380032  & G & T & NA & PASS & AR2=0.95;DR2=0.95;AF=0.051;IMP\\\\\n",
       "\t 6 & 27979188 & rs4141691  & A & G & NA & PASS & AR2=0.90;DR2=0.92;AF=0.12;IMP \\\\\n",
       "\t 6 & 27979625 & rs10484402 & A & G & NA & PASS & AR2=0.89;DR2=0.91;AF=0.060;IMP\\\\\n",
       "\\end{tabular}\n"
      ],
      "text/markdown": [
       "\n",
       "A matrix: 4 × 8 of type chr\n",
       "\n",
       "| CHROM | POS | ID | REF | ALT | QUAL | FILTER | INFO |\n",
       "|---|---|---|---|---|---|---|---|\n",
       "| 6 | 27970031 | rs149946   | G | T | NA | PASS | AR2=0.98;DR2=0.98;AF=0.27;IMP  |\n",
       "| 6 | 27976200 | rs9380032  | G | T | NA | PASS | AR2=0.95;DR2=0.95;AF=0.051;IMP |\n",
       "| 6 | 27979188 | rs4141691  | A | G | NA | PASS | AR2=0.90;DR2=0.92;AF=0.12;IMP  |\n",
       "| 6 | 27979625 | rs10484402 | A | G | NA | PASS | AR2=0.89;DR2=0.91;AF=0.060;IMP |\n",
       "\n"
      ],
      "text/plain": [
       "     CHROM POS      ID         REF ALT QUAL FILTER\n",
       "[1,] 6     27970031 rs149946   G   T   NA   PASS  \n",
       "[2,] 6     27976200 rs9380032  G   T   NA   PASS  \n",
       "[3,] 6     27979188 rs4141691  A   G   NA   PASS  \n",
       "[4,] 6     27979625 rs10484402 A   G   NA   PASS  \n",
       "     INFO                          \n",
       "[1,] AR2=0.98;DR2=0.98;AF=0.27;IMP \n",
       "[2,] AR2=0.95;DR2=0.95;AF=0.051;IMP\n",
       "[3,] AR2=0.90;DR2=0.92;AF=0.12;IMP \n",
       "[4,] AR2=0.89;DR2=0.91;AF=0.060;IMP"
      ]
     },
     "metadata": {},
     "output_type": "display_data"
    },
    {
     "data": {
      "text/html": [
       "<table class=\"dataframe\">\n",
       "<caption>A matrix: 4 × 789 of type chr</caption>\n",
       "<thead>\n",
       "\t<tr><th scope=col>FORMAT</th><th scope=col>200-0034-W24-02-C1</th><th scope=col>200-0056</th><th scope=col>200-0351</th><th scope=col>200-0037-W24-02-C1</th><th scope=col>200-0394</th><th scope=col>200-0883</th><th scope=col>200-0038-W24-02-C2</th><th scope=col>200-1218</th><th scope=col>300-0472</th><th scope=col>⋯</th><th scope=col>200-1252</th><th scope=col>200-0136</th><th scope=col>200-2120</th><th scope=col>200-0891</th><th scope=col>300-0418</th><th scope=col>200-1025</th><th scope=col>200-2120a</th><th scope=col>200-0891a</th><th scope=col>300-0418a</th><th scope=col>200-1025a</th></tr>\n",
       "</thead>\n",
       "<tbody>\n",
       "\t<tr><td>GT:DS:GP</td><td>0|0:0:1,0,0         </td><td>0|0:0:1,0,0            </td><td>0|0:0:1,0,0         </td><td>0|0:0:1,0,0</td><td>0|0:0:1,0,0</td><td>1|0:1:0,1,0</td><td>1|0:1:0,1,0</td><td>0|1:1:0,1,0</td><td>0|0:0:1,0,0</td><td>⋯</td><td>0|1:1:0,1,0         </td><td>1|0:1:0,1,0</td><td>0|0:0:1,0,0</td><td>1|1:2:0,0,1</td><td>0|1:1:0,1,0</td><td>0|0:0:1,0,0</td><td>0|0:0:1,0,0</td><td>1|1:2:0,0,1</td><td>0|1:1:0,1,0</td><td>0|0:0:1,0,0</td></tr>\n",
       "\t<tr><td>GT:DS:GP</td><td>0|0:0:1,0,0         </td><td>0|0:0:1,0,0            </td><td>0|0:0:1,0,0         </td><td>0|0:0:1,0,0</td><td>0|0:0:1,0,0</td><td>1|0:1:0,1,0</td><td>0|0:0:1,0,0</td><td>0|1:1:0,1,0</td><td>0|0:0:1,0,0</td><td>⋯</td><td>0|0:0:1,0,0         </td><td>0|0:0:1,0,0</td><td>0|0:0:1,0,0</td><td>0|0:0:1,0,0</td><td>0|0:0:1,0,0</td><td>0|0:0:1,0,0</td><td>0|0:0:1,0,0</td><td>0|0:0:1,0,0</td><td>0|0:0:1,0,0</td><td>0|0:0:1,0,0</td></tr>\n",
       "\t<tr><td>GT:DS:GP</td><td>0|0:0:1,0,0         </td><td>0|0:0:1,0,0            </td><td>1|0:0.96:0.04,0.96,0</td><td>0|0:0:1,0,0</td><td>0|0:0:1,0,0</td><td>0|0:0:1,0,0</td><td>0|0:0:1,0,0</td><td>0|0:0:1,0,0</td><td>0|0:0:1,0,0</td><td>⋯</td><td>0|0:0.46:0.54,0.46,0</td><td>0|0:0:1,0,0</td><td>0|0:0:1,0,0</td><td>0|0:0:1,0,0</td><td>0|0:0:1,0,0</td><td>0|0:0:1,0,0</td><td>0|0:0:1,0,0</td><td>0|0:0:1,0,0</td><td>0|0:0:1,0,0</td><td>0|0:0:1,0,0</td></tr>\n",
       "\t<tr><td>GT:DS:GP</td><td>0|1:0.96:0.04,0.96,0</td><td>1|1:1.76:0.01,0.22,0.77</td><td>0|0:0:1,0,0         </td><td>0|0:0:1,0,0</td><td>0|0:0:1,0,0</td><td>0|0:0:1,0,0</td><td>0|0:0:1,0,0</td><td>0|0:0:1,0,0</td><td>0|0:0:1,0,0</td><td>⋯</td><td>0|0:0:1,0,0         </td><td>0|0:0:1,0,0</td><td>0|0:0:1,0,0</td><td>0|0:0:1,0,0</td><td>0|0:0:1,0,0</td><td>0|0:0:1,0,0</td><td>0|0:0:1,0,0</td><td>0|0:0:1,0,0</td><td>0|0:0:1,0,0</td><td>0|0:0:1,0,0</td></tr>\n",
       "</tbody>\n",
       "</table>\n"
      ],
      "text/latex": [
       "A matrix: 4 × 789 of type chr\n",
       "\\begin{tabular}{lllllllllllllllllllll}\n",
       " FORMAT & 200-0034-W24-02-C1 & 200-0056 & 200-0351 & 200-0037-W24-02-C1 & 200-0394 & 200-0883 & 200-0038-W24-02-C2 & 200-1218 & 300-0472 & ⋯ & 200-1252 & 200-0136 & 200-2120 & 200-0891 & 300-0418 & 200-1025 & 200-2120a & 200-0891a & 300-0418a & 200-1025a\\\\\n",
       "\\hline\n",
       "\t GT:DS:GP & 0\\textbar{}0:0:1,0,0          & 0\\textbar{}0:0:1,0,0             & 0\\textbar{}0:0:1,0,0          & 0\\textbar{}0:0:1,0,0 & 0\\textbar{}0:0:1,0,0 & 1\\textbar{}0:1:0,1,0 & 1\\textbar{}0:1:0,1,0 & 0\\textbar{}1:1:0,1,0 & 0\\textbar{}0:0:1,0,0 & ⋯ & 0\\textbar{}1:1:0,1,0          & 1\\textbar{}0:1:0,1,0 & 0\\textbar{}0:0:1,0,0 & 1\\textbar{}1:2:0,0,1 & 0\\textbar{}1:1:0,1,0 & 0\\textbar{}0:0:1,0,0 & 0\\textbar{}0:0:1,0,0 & 1\\textbar{}1:2:0,0,1 & 0\\textbar{}1:1:0,1,0 & 0\\textbar{}0:0:1,0,0\\\\\n",
       "\t GT:DS:GP & 0\\textbar{}0:0:1,0,0          & 0\\textbar{}0:0:1,0,0             & 0\\textbar{}0:0:1,0,0          & 0\\textbar{}0:0:1,0,0 & 0\\textbar{}0:0:1,0,0 & 1\\textbar{}0:1:0,1,0 & 0\\textbar{}0:0:1,0,0 & 0\\textbar{}1:1:0,1,0 & 0\\textbar{}0:0:1,0,0 & ⋯ & 0\\textbar{}0:0:1,0,0          & 0\\textbar{}0:0:1,0,0 & 0\\textbar{}0:0:1,0,0 & 0\\textbar{}0:0:1,0,0 & 0\\textbar{}0:0:1,0,0 & 0\\textbar{}0:0:1,0,0 & 0\\textbar{}0:0:1,0,0 & 0\\textbar{}0:0:1,0,0 & 0\\textbar{}0:0:1,0,0 & 0\\textbar{}0:0:1,0,0\\\\\n",
       "\t GT:DS:GP & 0\\textbar{}0:0:1,0,0          & 0\\textbar{}0:0:1,0,0             & 1\\textbar{}0:0.96:0.04,0.96,0 & 0\\textbar{}0:0:1,0,0 & 0\\textbar{}0:0:1,0,0 & 0\\textbar{}0:0:1,0,0 & 0\\textbar{}0:0:1,0,0 & 0\\textbar{}0:0:1,0,0 & 0\\textbar{}0:0:1,0,0 & ⋯ & 0\\textbar{}0:0.46:0.54,0.46,0 & 0\\textbar{}0:0:1,0,0 & 0\\textbar{}0:0:1,0,0 & 0\\textbar{}0:0:1,0,0 & 0\\textbar{}0:0:1,0,0 & 0\\textbar{}0:0:1,0,0 & 0\\textbar{}0:0:1,0,0 & 0\\textbar{}0:0:1,0,0 & 0\\textbar{}0:0:1,0,0 & 0\\textbar{}0:0:1,0,0\\\\\n",
       "\t GT:DS:GP & 0\\textbar{}1:0.96:0.04,0.96,0 & 1\\textbar{}1:1.76:0.01,0.22,0.77 & 0\\textbar{}0:0:1,0,0          & 0\\textbar{}0:0:1,0,0 & 0\\textbar{}0:0:1,0,0 & 0\\textbar{}0:0:1,0,0 & 0\\textbar{}0:0:1,0,0 & 0\\textbar{}0:0:1,0,0 & 0\\textbar{}0:0:1,0,0 & ⋯ & 0\\textbar{}0:0:1,0,0          & 0\\textbar{}0:0:1,0,0 & 0\\textbar{}0:0:1,0,0 & 0\\textbar{}0:0:1,0,0 & 0\\textbar{}0:0:1,0,0 & 0\\textbar{}0:0:1,0,0 & 0\\textbar{}0:0:1,0,0 & 0\\textbar{}0:0:1,0,0 & 0\\textbar{}0:0:1,0,0 & 0\\textbar{}0:0:1,0,0\\\\\n",
       "\\end{tabular}\n"
      ],
      "text/markdown": [
       "\n",
       "A matrix: 4 × 789 of type chr\n",
       "\n",
       "| FORMAT | 200-0034-W24-02-C1 | 200-0056 | 200-0351 | 200-0037-W24-02-C1 | 200-0394 | 200-0883 | 200-0038-W24-02-C2 | 200-1218 | 300-0472 | ⋯ | 200-1252 | 200-0136 | 200-2120 | 200-0891 | 300-0418 | 200-1025 | 200-2120a | 200-0891a | 300-0418a | 200-1025a |\n",
       "|---|---|---|---|---|---|---|---|---|---|---|---|---|---|---|---|---|---|---|---|---|\n",
       "| GT:DS:GP | 0|0:0:1,0,0          | 0|0:0:1,0,0             | 0|0:0:1,0,0          | 0|0:0:1,0,0 | 0|0:0:1,0,0 | 1|0:1:0,1,0 | 1|0:1:0,1,0 | 0|1:1:0,1,0 | 0|0:0:1,0,0 | ⋯ | 0|1:1:0,1,0          | 1|0:1:0,1,0 | 0|0:0:1,0,0 | 1|1:2:0,0,1 | 0|1:1:0,1,0 | 0|0:0:1,0,0 | 0|0:0:1,0,0 | 1|1:2:0,0,1 | 0|1:1:0,1,0 | 0|0:0:1,0,0 |\n",
       "| GT:DS:GP | 0|0:0:1,0,0          | 0|0:0:1,0,0             | 0|0:0:1,0,0          | 0|0:0:1,0,0 | 0|0:0:1,0,0 | 1|0:1:0,1,0 | 0|0:0:1,0,0 | 0|1:1:0,1,0 | 0|0:0:1,0,0 | ⋯ | 0|0:0:1,0,0          | 0|0:0:1,0,0 | 0|0:0:1,0,0 | 0|0:0:1,0,0 | 0|0:0:1,0,0 | 0|0:0:1,0,0 | 0|0:0:1,0,0 | 0|0:0:1,0,0 | 0|0:0:1,0,0 | 0|0:0:1,0,0 |\n",
       "| GT:DS:GP | 0|0:0:1,0,0          | 0|0:0:1,0,0             | 1|0:0.96:0.04,0.96,0 | 0|0:0:1,0,0 | 0|0:0:1,0,0 | 0|0:0:1,0,0 | 0|0:0:1,0,0 | 0|0:0:1,0,0 | 0|0:0:1,0,0 | ⋯ | 0|0:0.46:0.54,0.46,0 | 0|0:0:1,0,0 | 0|0:0:1,0,0 | 0|0:0:1,0,0 | 0|0:0:1,0,0 | 0|0:0:1,0,0 | 0|0:0:1,0,0 | 0|0:0:1,0,0 | 0|0:0:1,0,0 | 0|0:0:1,0,0 |\n",
       "| GT:DS:GP | 0|1:0.96:0.04,0.96,0 | 1|1:1.76:0.01,0.22,0.77 | 0|0:0:1,0,0          | 0|0:0:1,0,0 | 0|0:0:1,0,0 | 0|0:0:1,0,0 | 0|0:0:1,0,0 | 0|0:0:1,0,0 | 0|0:0:1,0,0 | ⋯ | 0|0:0:1,0,0          | 0|0:0:1,0,0 | 0|0:0:1,0,0 | 0|0:0:1,0,0 | 0|0:0:1,0,0 | 0|0:0:1,0,0 | 0|0:0:1,0,0 | 0|0:0:1,0,0 | 0|0:0:1,0,0 | 0|0:0:1,0,0 |\n",
       "\n"
      ],
      "text/plain": [
       "     FORMAT   200-0034-W24-02-C1   200-0056                200-0351            \n",
       "[1,] GT:DS:GP 0|0:0:1,0,0          0|0:0:1,0,0             0|0:0:1,0,0         \n",
       "[2,] GT:DS:GP 0|0:0:1,0,0          0|0:0:1,0,0             0|0:0:1,0,0         \n",
       "[3,] GT:DS:GP 0|0:0:1,0,0          0|0:0:1,0,0             1|0:0.96:0.04,0.96,0\n",
       "[4,] GT:DS:GP 0|1:0.96:0.04,0.96,0 1|1:1.76:0.01,0.22,0.77 0|0:0:1,0,0         \n",
       "     200-0037-W24-02-C1 200-0394    200-0883    200-0038-W24-02-C2 200-1218   \n",
       "[1,] 0|0:0:1,0,0        0|0:0:1,0,0 1|0:1:0,1,0 1|0:1:0,1,0        0|1:1:0,1,0\n",
       "[2,] 0|0:0:1,0,0        0|0:0:1,0,0 1|0:1:0,1,0 0|0:0:1,0,0        0|1:1:0,1,0\n",
       "[3,] 0|0:0:1,0,0        0|0:0:1,0,0 0|0:0:1,0,0 0|0:0:1,0,0        0|0:0:1,0,0\n",
       "[4,] 0|0:0:1,0,0        0|0:0:1,0,0 0|0:0:1,0,0 0|0:0:1,0,0        0|0:0:1,0,0\n",
       "     300-0472    ⋯ 200-1252             200-0136    200-2120    200-0891   \n",
       "[1,] 0|0:0:1,0,0 ⋯ 0|1:1:0,1,0          1|0:1:0,1,0 0|0:0:1,0,0 1|1:2:0,0,1\n",
       "[2,] 0|0:0:1,0,0 ⋯ 0|0:0:1,0,0          0|0:0:1,0,0 0|0:0:1,0,0 0|0:0:1,0,0\n",
       "[3,] 0|0:0:1,0,0 ⋯ 0|0:0.46:0.54,0.46,0 0|0:0:1,0,0 0|0:0:1,0,0 0|0:0:1,0,0\n",
       "[4,] 0|0:0:1,0,0 ⋯ 0|0:0:1,0,0          0|0:0:1,0,0 0|0:0:1,0,0 0|0:0:1,0,0\n",
       "     300-0418    200-1025    200-2120a   200-0891a   300-0418a   200-1025a  \n",
       "[1,] 0|1:1:0,1,0 0|0:0:1,0,0 0|0:0:1,0,0 1|1:2:0,0,1 0|1:1:0,1,0 0|0:0:1,0,0\n",
       "[2,] 0|0:0:1,0,0 0|0:0:1,0,0 0|0:0:1,0,0 0|0:0:1,0,0 0|0:0:1,0,0 0|0:0:1,0,0\n",
       "[3,] 0|0:0:1,0,0 0|0:0:1,0,0 0|0:0:1,0,0 0|0:0:1,0,0 0|0:0:1,0,0 0|0:0:1,0,0\n",
       "[4,] 0|0:0:1,0,0 0|0:0:1,0,0 0|0:0:1,0,0 0|0:0:1,0,0 0|0:0:1,0,0 0|0:0:1,0,0"
      ]
     },
     "metadata": {},
     "output_type": "display_data"
    }
   ],
   "source": [
    "# HLA imputation performed by Saori Sakaue\n",
    "vcf_filepath = paste0('/data/srlab/ssakaue/share/forJoyce/post_merged_auto.final.MHC.SNP2HLA.bgl.phased.vcf.gz')\n",
    "vcf = read.vcfR(vcf_filepath, verbose = FALSE)\n",
    "vcf@fix %>% head(4)\n",
    "vcf@gt %>% head(4)"
   ]
  },
  {
   "cell_type": "code",
   "execution_count": 3,
   "id": "016ade17-28cf-4223-a8af-af0c4ca64941",
   "metadata": {},
   "outputs": [
    {
     "data": {
      "image/png": "[encoded data removed]",
      "text/plain": [
       "plot without title"
      ]
     },
     "metadata": {
      "image/png": {
       "height": 400,
       "width": 600
      }
     },
     "output_type": "display_data"
    }
   ],
   "source": [
    "fig.size(4, 6)\n",
    "res = make_imputation_results(vcf_filepath)\n",
    "res$p2"
   ]
  },
  {
   "cell_type": "markdown",
   "id": "23cbbf49-721f-4698-860a-0d19f3bac283",
   "metadata": {},
   "source": [
    "## Imputation quality for 4-digit alleles"
   ]
  },
  {
   "cell_type": "code",
   "execution_count": 4,
   "id": "3a66850b-d483-4bb9-be6c-3f937e5d0c11",
   "metadata": {},
   "outputs": [
    {
     "data": {
      "text/html": [
       "423"
      ],
      "text/latex": [
       "423"
      ],
      "text/markdown": [
       "423"
      ],
      "text/plain": [
       "[1] 423"
      ]
     },
     "metadata": {},
     "output_type": "display_data"
    }
   ],
   "source": [
    "vcf_4digit = res$vcf_fix_df[which(res$vcf_fix_df$ndigit == 4), ]\n",
    "length(unique(vcf_4digit$ID))\n",
    "vcf_4digit_AMP = vcf_4digit %>% mutate(dataset = 'AMP')\n",
    "\n",
    "## Subset to only include MAF>1%\n",
    "AMP_maf1 = vcf_4digit[which(vcf_4digit$AF > 0.01), ] %>%\n",
    "    group_by(GENE) %>%\n",
    "    summarise(mean = mean(DR2))\n",
    "\n",
    "## Subset to only include MAF>1%\n",
    "AMP_maf5 = vcf_4digit[which(vcf_4digit$AF > 0.05), ] %>%\n",
    "    group_by(GENE) %>%\n",
    "    summarise(mean = mean(DR2))"
   ]
  },
  {
   "cell_type": "markdown",
   "id": "30f5e186-3443-42fc-89df-372784d5b246",
   "metadata": {},
   "source": [
    "## Get inferred HLA alleles for each individual"
   ]
  },
  {
   "cell_type": "code",
   "execution_count": 5,
   "id": "3767698e-b03e-4d88-82d8-15d27577af8c",
   "metadata": {},
   "outputs": [
    {
     "data": {
      "text/html": [
       "788"
      ],
      "text/latex": [
       "788"
      ],
      "text/markdown": [
       "788"
      ],
      "text/plain": [
       "[1] 788"
      ]
     },
     "metadata": {},
     "output_type": "display_data"
    }
   ],
   "source": [
    "d = cbind(res$vcf_fix_df, res$vcf_hla@gt) %>% as.data.frame()\n",
    "\n",
    "samples = colnames(res$vcf_hla@gt)\n",
    "samples = samples[-1] # remove FORMAT column\n",
    "length(samples)"
   ]
  },
  {
   "cell_type": "markdown",
   "id": "40e3a775-f2de-4848-9f08-8eb28f05e0ff",
   "metadata": {},
   "source": [
    "## Subset to AMP2RA samples"
   ]
  },
  {
   "cell_type": "code",
   "execution_count": 6,
   "id": "46b22ad7-0f39-4b12-926f-b93ffb4483cd",
   "metadata": {},
   "outputs": [],
   "source": [
    "sample_meta <- read.csv(\"../../data/meta/sample_meta_AMP2RA.csv\")"
   ]
  },
  {
   "cell_type": "code",
   "execution_count": 7,
   "id": "ed4b70c9-1551-49bc-becb-736df2e00491",
   "metadata": {},
   "outputs": [],
   "source": [
    "results = list()\n",
    "for (samp in sample_meta$Geno_ID[sample_meta$Geno_ID %in% colnames(d)]) {\n",
    "    d_samp = d[, c('REF', 'ID', 'GENE', samp, 'ndigit')] %>% filter(ndigit > 2)\n",
    "    d_samp_haszero = separate(data = d_samp, col = samp, into = c(\"geno01\", \"col1\", \"col2\"), sep = \":\") \n",
    "    # Add check for when alleles are flipped (ref/alt): 0|0 means homozygous for HLA allele.\n",
    "    d_samp_haszero$count = ifelse(d_samp_haszero[, 'REF'] == \"T\", \n",
    "                                  recode(d_samp_haszero$geno01,'0|0' = 2, '1|0' = 1, '0|1' = 1, '1|1' = 0), \n",
    "                                  recode(d_samp_haszero$geno01,'0|0' = 0, '1|0' = 1, '0|1' = 1, '1|1' = 2))\n",
    "    d_samp_haszero$dosage = ifelse(d_samp_haszero[, 'REF'] == \"T\", \n",
    "                                   2 - as.numeric(d_samp_haszero$col1), \n",
    "                                   as.numeric(d_samp_haszero$col1))\n",
    "    results[[samp]] = d_samp_haszero %>% filter(count == 1 | count == 2)\n",
    "}\n",
    "saveRDS(results, '../../data/hla_alleles/AMPRA_updated.new.ref_results.rds')"
   ]
  },
  {
   "cell_type": "code",
   "execution_count": 8,
   "id": "e4cbd536-1a39-4ac7-b6e0-d7d9fc8dcc9e",
   "metadata": {},
   "outputs": [],
   "source": [
    "## Save full result\n",
    "results_allAlleles = list()\n",
    "for (samp in sample_meta$Geno_ID[sample_meta$Geno_ID %in% colnames(d)]) {\n",
    "d_samp = d[, c('REF', 'ID', 'GENE', samp, 'ndigit')] \n",
    "    d_samp_haszero = separate(data = d_samp, col = samp, into = c(\"geno01\", \"col1\", \"col2\"), sep = \":\") \n",
    "    d_samp_haszero$count = ifelse(d_samp_haszero[, 'REF'] == \"T\", \n",
    "                                  recode(d_samp_haszero$geno01,'0|0' = 2, '1|0' = 1, '0|1' = 1, '1|1' = 0), \n",
    "                                  recode(d_samp_haszero$geno01,'0|0' = 0, '1|0' = 1, '0|1' = 1, '1|1' = 2))\n",
    "    d_samp_haszero$dosage = ifelse(d_samp_haszero[, 'REF'] == \"T\", \n",
    "                                   2 - as.numeric(d_samp_haszero$col1), \n",
    "                                   as.numeric(d_samp_haszero$col1))\n",
    "    results_allAlleles[[samp]] = d_samp_haszero\n",
    "}\n",
    "\n",
    "saveRDS(results_allAlleles, '../../data/hla_alleles/AMPRA_updated.new.ref_all.results.rds')"
   ]
  },
  {
   "cell_type": "markdown",
   "id": "58913390-398b-401a-9e7f-38a8bc7ab868",
   "metadata": {},
   "source": [
    "## Manual inspection"
   ]
  },
  {
   "cell_type": "code",
   "execution_count": 9,
   "id": "6beee94a-3104-4a0a-9e7b-c30e8e1fa9ec",
   "metadata": {},
   "outputs": [
    {
     "data": {
      "text/html": [
       "78"
      ],
      "text/latex": [
       "78"
      ],
      "text/markdown": [
       "78"
      ],
      "text/plain": [
       "[1] 78"
      ]
     },
     "metadata": {},
     "output_type": "display_data"
    }
   ],
   "source": [
    "nrow(sample_meta)"
   ]
  },
  {
   "cell_type": "code",
   "execution_count": 10,
   "id": "73f33703-7d2b-4e36-af23-fd666ba64f3e",
   "metadata": {},
   "outputs": [],
   "source": [
    "df_missing <- data.frame(0,0,0)\n",
    "for (samp in sample_meta$Geno_ID[sample_meta$Geno_ID %in% colnames(d)]) {\n",
    "    res = results[[samp]]\n",
    "    \n",
    "    gene_sums = tapply(res$count, res$GENE, sum)\n",
    "    count_sum = sum(res$count)\n",
    "    \n",
    "    for (gene in c(\"HLA_A\", \"HLA_B\", \"HLA_C\", \"HLA_DRB1\", \"HLA_DQA1\", \"HLA_DQB1\", \"HLA_DPB1\", \"HLA_DPA1\")) {\n",
    "    if (gene_sums[gene] != 2 | is.na(gene_sums[gene])) {\n",
    "        df_missing <- rbind(df_missing, c(samp, gene, gene_sums[gene]))\n",
    "        #print(res)\n",
    "    }\n",
    " }\n",
    "}\n",
    "df_missing <- df_missing[-1, ]"
   ]
  },
  {
   "cell_type": "code",
   "execution_count": 11,
   "id": "0530fcb0-7962-4512-b22a-d7f7ddf5cd6c",
   "metadata": {},
   "outputs": [
    {
     "data": {
      "text/html": [
       "<table class=\"dataframe\">\n",
       "<caption>A data.frame: 10 × 3</caption>\n",
       "<thead>\n",
       "\t<tr><th></th><th scope=col>X0</th><th scope=col>X0.1</th><th scope=col>X0.2</th></tr>\n",
       "\t<tr><th></th><th scope=col>&lt;chr&gt;</th><th scope=col>&lt;chr&gt;</th><th scope=col>&lt;chr&gt;</th></tr>\n",
       "</thead>\n",
       "<tbody>\n",
       "\t<tr><th scope=row>2</th><td>300-0143           </td><td>HLA_B   </td><td>1</td></tr>\n",
       "\t<tr><th scope=row>3</th><td>300-0143           </td><td>HLA_DPA1</td><td>1</td></tr>\n",
       "\t<tr><th scope=row>4</th><td>300-1934           </td><td>HLA_A   </td><td>1</td></tr>\n",
       "\t<tr><th scope=row>5</th><td>300-2666           </td><td>HLA_DRB1</td><td>1</td></tr>\n",
       "\t<tr><th scope=row>6</th><td>300-0531           </td><td>HLA_A   </td><td>1</td></tr>\n",
       "\t<tr><th scope=row>7</th><td>300-0413           </td><td>HLA_DRB1</td><td>1</td></tr>\n",
       "\t<tr><th scope=row>8</th><td>300-2658           </td><td>HLA_DRB1</td><td>1</td></tr>\n",
       "\t<tr><th scope=row>9</th><td>300-0411-V0-14-C1  </td><td>HLA_DRB1</td><td>1</td></tr>\n",
       "\t<tr><th scope=row>10</th><td>300-0469-F2-16-PXD1</td><td>HLA_C   </td><td>1</td></tr>\n",
       "\t<tr><th scope=row>11</th><td>300-0462           </td><td>HLA_B   </td><td>1</td></tr>\n",
       "</tbody>\n",
       "</table>\n"
      ],
      "text/latex": [
       "A data.frame: 10 × 3\n",
       "\\begin{tabular}{r|lll}\n",
       "  & X0 & X0.1 & X0.2\\\\\n",
       "  & <chr> & <chr> & <chr>\\\\\n",
       "\\hline\n",
       "\t2 & 300-0143            & HLA\\_B    & 1\\\\\n",
       "\t3 & 300-0143            & HLA\\_DPA1 & 1\\\\\n",
       "\t4 & 300-1934            & HLA\\_A    & 1\\\\\n",
       "\t5 & 300-2666            & HLA\\_DRB1 & 1\\\\\n",
       "\t6 & 300-0531            & HLA\\_A    & 1\\\\\n",
       "\t7 & 300-0413            & HLA\\_DRB1 & 1\\\\\n",
       "\t8 & 300-2658            & HLA\\_DRB1 & 1\\\\\n",
       "\t9 & 300-0411-V0-14-C1   & HLA\\_DRB1 & 1\\\\\n",
       "\t10 & 300-0469-F2-16-PXD1 & HLA\\_C    & 1\\\\\n",
       "\t11 & 300-0462            & HLA\\_B    & 1\\\\\n",
       "\\end{tabular}\n"
      ],
      "text/markdown": [
       "\n",
       "A data.frame: 10 × 3\n",
       "\n",
       "| <!--/--> | X0 &lt;chr&gt; | X0.1 &lt;chr&gt; | X0.2 &lt;chr&gt; |\n",
       "|---|---|---|---|\n",
       "| 2 | 300-0143            | HLA_B    | 1 |\n",
       "| 3 | 300-0143            | HLA_DPA1 | 1 |\n",
       "| 4 | 300-1934            | HLA_A    | 1 |\n",
       "| 5 | 300-2666            | HLA_DRB1 | 1 |\n",
       "| 6 | 300-0531            | HLA_A    | 1 |\n",
       "| 7 | 300-0413            | HLA_DRB1 | 1 |\n",
       "| 8 | 300-2658            | HLA_DRB1 | 1 |\n",
       "| 9 | 300-0411-V0-14-C1   | HLA_DRB1 | 1 |\n",
       "| 10 | 300-0469-F2-16-PXD1 | HLA_C    | 1 |\n",
       "| 11 | 300-0462            | HLA_B    | 1 |\n",
       "\n"
      ],
      "text/plain": [
       "   X0                  X0.1     X0.2\n",
       "2  300-0143            HLA_B    1   \n",
       "3  300-0143            HLA_DPA1 1   \n",
       "4  300-1934            HLA_A    1   \n",
       "5  300-2666            HLA_DRB1 1   \n",
       "6  300-0531            HLA_A    1   \n",
       "7  300-0413            HLA_DRB1 1   \n",
       "8  300-2658            HLA_DRB1 1   \n",
       "9  300-0411-V0-14-C1   HLA_DRB1 1   \n",
       "10 300-0469-F2-16-PXD1 HLA_C    1   \n",
       "11 300-0462            HLA_B    1   "
      ]
     },
     "metadata": {},
     "output_type": "display_data"
    }
   ],
   "source": [
    "df_missing"
   ]
  },
  {
   "cell_type": "markdown",
   "id": "875fefe8-ac4d-41af-acc0-29f5d8e348e8",
   "metadata": {},
   "source": [
    "Individuals without two phased alleles for every HLA gene: 9"
   ]
  },
  {
   "cell_type": "code",
   "execution_count": 12,
   "id": "9dbbdd19-3cba-4825-9011-97d8687a7656",
   "metadata": {},
   "outputs": [
    {
     "data": {
      "text/html": [
       "<table class=\"dataframe\">\n",
       "<caption>A data.frame: 3 × 9</caption>\n",
       "<thead>\n",
       "\t<tr><th scope=col>REF</th><th scope=col>ID</th><th scope=col>GENE</th><th scope=col>geno01</th><th scope=col>col1</th><th scope=col>col2</th><th scope=col>ndigit</th><th scope=col>count</th><th scope=col>dosage</th></tr>\n",
       "\t<tr><th scope=col>&lt;chr&gt;</th><th scope=col>&lt;chr&gt;</th><th scope=col>&lt;chr&gt;</th><th scope=col>&lt;chr&gt;</th><th scope=col>&lt;chr&gt;</th><th scope=col>&lt;chr&gt;</th><th scope=col>&lt;dbl&gt;</th><th scope=col>&lt;dbl&gt;</th><th scope=col>&lt;dbl&gt;</th></tr>\n",
       "</thead>\n",
       "<tbody>\n",
       "\t<tr><td>A</td><td>HLA_DPA1*02   </td><td>HLA_DPA1</td><td>0|1</td><td>1.24</td><td>0,0.75,0.24</td><td>2</td><td>1</td><td>1.24</td></tr>\n",
       "\t<tr><td>A</td><td>HLA_DPA1*02:01</td><td>HLA_DPA1</td><td>0|1</td><td>1.24</td><td>0,0.75,0.24</td><td>4</td><td>1</td><td>1.24</td></tr>\n",
       "\t<tr><td>A</td><td>HLA_DPA1*03   </td><td>HLA_DPA1</td><td>1|0</td><td>0.76</td><td>0.24,0.75,0</td><td>2</td><td>1</td><td>0.76</td></tr>\n",
       "</tbody>\n",
       "</table>\n"
      ],
      "text/latex": [
       "A data.frame: 3 × 9\n",
       "\\begin{tabular}{lllllllll}\n",
       " REF & ID & GENE & geno01 & col1 & col2 & ndigit & count & dosage\\\\\n",
       " <chr> & <chr> & <chr> & <chr> & <chr> & <chr> & <dbl> & <dbl> & <dbl>\\\\\n",
       "\\hline\n",
       "\t A & HLA\\_DPA1*02    & HLA\\_DPA1 & 0\\textbar{}1 & 1.24 & 0,0.75,0.24 & 2 & 1 & 1.24\\\\\n",
       "\t A & HLA\\_DPA1*02:01 & HLA\\_DPA1 & 0\\textbar{}1 & 1.24 & 0,0.75,0.24 & 4 & 1 & 1.24\\\\\n",
       "\t A & HLA\\_DPA1*03    & HLA\\_DPA1 & 1\\textbar{}0 & 0.76 & 0.24,0.75,0 & 2 & 1 & 0.76\\\\\n",
       "\\end{tabular}\n"
      ],
      "text/markdown": [
       "\n",
       "A data.frame: 3 × 9\n",
       "\n",
       "| REF &lt;chr&gt; | ID &lt;chr&gt; | GENE &lt;chr&gt; | geno01 &lt;chr&gt; | col1 &lt;chr&gt; | col2 &lt;chr&gt; | ndigit &lt;dbl&gt; | count &lt;dbl&gt; | dosage &lt;dbl&gt; |\n",
       "|---|---|---|---|---|---|---|---|---|\n",
       "| A | HLA_DPA1*02    | HLA_DPA1 | 0|1 | 1.24 | 0,0.75,0.24 | 2 | 1 | 1.24 |\n",
       "| A | HLA_DPA1*02:01 | HLA_DPA1 | 0|1 | 1.24 | 0,0.75,0.24 | 4 | 1 | 1.24 |\n",
       "| A | HLA_DPA1*03    | HLA_DPA1 | 1|0 | 0.76 | 0.24,0.75,0 | 2 | 1 | 0.76 |\n",
       "\n"
      ],
      "text/plain": [
       "  REF ID             GENE     geno01 col1 col2        ndigit count dosage\n",
       "1 A   HLA_DPA1*02    HLA_DPA1 0|1    1.24 0,0.75,0.24 2      1     1.24  \n",
       "2 A   HLA_DPA1*02:01 HLA_DPA1 0|1    1.24 0,0.75,0.24 4      1     1.24  \n",
       "3 A   HLA_DPA1*03    HLA_DPA1 1|0    0.76 0.24,0.75,0 2      1     0.76  "
      ]
     },
     "metadata": {},
     "output_type": "display_data"
    }
   ],
   "source": [
    "results_allAlleles[['300-0143']] %>% filter(GENE =='HLA_DPA1', dosage != 0)"
   ]
  },
  {
   "cell_type": "code",
   "execution_count": 13,
   "id": "cb9ac107-4e87-4908-98a7-e63da7f6eefe",
   "metadata": {},
   "outputs": [
    {
     "name": "stdout",
     "output_type": "stream",
     "text": [
      "[1] 69\n"
     ]
    }
   ],
   "source": [
    "results <- results[- which(names(results) %in% df_missing$X0)] # remove missing individuals\n",
    "sample_names <- vector()\n",
    "i = 0\n",
    "for (name in names(results)) {\n",
    "    res = results[[name]][,c('ID', 'GENE', 'count')]\n",
    "    # List of alleles (save as XXX-XXX_alleles.txt)\n",
    "    sample_name <- sample_meta[sample_meta$Geno_ID == name, 'Sample']\n",
    "    sample_names <- c(sample_names, sample_name)\n",
    "    write.csv(res, paste0('../../data/hla_alleles/RA_updated_alleles/', \n",
    "                          sample_name, '_alleles.csv'), row.names = FALSE, quote = FALSE)\n",
    "    i = i + 1\n",
    "}\n",
    "print(i)\n",
    "write.table(data.frame(names(results), sample_names), \n",
    "            \"../../data/hla_alleles/RA_updated_alleles/AMP2RA_final_samples.txt\", \n",
    "            col.names = FALSE, row.names = FALSE, quote = FALSE)"
   ]
  },
  {
   "cell_type": "code",
   "execution_count": 14,
   "id": "2f7e0d3f-15eb-4367-9d0f-45b005986fa3",
   "metadata": {},
   "outputs": [
    {
     "data": {
      "text/html": [
       "<table class=\"dataframe\">\n",
       "<caption>A data.frame: 4 × 6</caption>\n",
       "<thead>\n",
       "\t<tr><th></th><th scope=col>Geno_ID</th><th scope=col>Sample</th><th scope=col>Allele</th><th scope=col>Gene</th><th scope=col>GT</th><th scope=col>dosage</th></tr>\n",
       "\t<tr><th></th><th scope=col>&lt;chr&gt;</th><th scope=col>&lt;chr&gt;</th><th scope=col>&lt;chr&gt;</th><th scope=col>&lt;chr&gt;</th><th scope=col>&lt;chr&gt;</th><th scope=col>&lt;dbl&gt;</th></tr>\n",
       "</thead>\n",
       "<tbody>\n",
       "\t<tr><th scope=row>1</th><td>301-0267</td><td>BRI-399</td><td>HLA_A*01:01</td><td>HLA_A</td><td>0|1</td><td>1.00</td></tr>\n",
       "\t<tr><th scope=row>2</th><td>301-0267</td><td>BRI-399</td><td>HLA_A*02:01</td><td>HLA_A</td><td>1|0</td><td>0.97</td></tr>\n",
       "\t<tr><th scope=row>3</th><td>301-0267</td><td>BRI-399</td><td>HLA_C*05:01</td><td>HLA_C</td><td>1|0</td><td>1.00</td></tr>\n",
       "\t<tr><th scope=row>4</th><td>301-0267</td><td>BRI-399</td><td>HLA_C*07:01</td><td>HLA_C</td><td>0|1</td><td>1.00</td></tr>\n",
       "</tbody>\n",
       "</table>\n"
      ],
      "text/latex": [
       "A data.frame: 4 × 6\n",
       "\\begin{tabular}{r|llllll}\n",
       "  & Geno\\_ID & Sample & Allele & Gene & GT & dosage\\\\\n",
       "  & <chr> & <chr> & <chr> & <chr> & <chr> & <dbl>\\\\\n",
       "\\hline\n",
       "\t1 & 301-0267 & BRI-399 & HLA\\_A*01:01 & HLA\\_A & 0\\textbar{}1 & 1.00\\\\\n",
       "\t2 & 301-0267 & BRI-399 & HLA\\_A*02:01 & HLA\\_A & 1\\textbar{}0 & 0.97\\\\\n",
       "\t3 & 301-0267 & BRI-399 & HLA\\_C*05:01 & HLA\\_C & 1\\textbar{}0 & 1.00\\\\\n",
       "\t4 & 301-0267 & BRI-399 & HLA\\_C*07:01 & HLA\\_C & 0\\textbar{}1 & 1.00\\\\\n",
       "\\end{tabular}\n"
      ],
      "text/markdown": [
       "\n",
       "A data.frame: 4 × 6\n",
       "\n",
       "| <!--/--> | Geno_ID &lt;chr&gt; | Sample &lt;chr&gt; | Allele &lt;chr&gt; | Gene &lt;chr&gt; | GT &lt;chr&gt; | dosage &lt;dbl&gt; |\n",
       "|---|---|---|---|---|---|---|\n",
       "| 1 | 301-0267 | BRI-399 | HLA_A*01:01 | HLA_A | 0|1 | 1.00 |\n",
       "| 2 | 301-0267 | BRI-399 | HLA_A*02:01 | HLA_A | 1|0 | 0.97 |\n",
       "| 3 | 301-0267 | BRI-399 | HLA_C*05:01 | HLA_C | 1|0 | 1.00 |\n",
       "| 4 | 301-0267 | BRI-399 | HLA_C*07:01 | HLA_C | 0|1 | 1.00 |\n",
       "\n"
      ],
      "text/plain": [
       "  Geno_ID  Sample  Allele      Gene  GT  dosage\n",
       "1 301-0267 BRI-399 HLA_A*01:01 HLA_A 0|1 1.00  \n",
       "2 301-0267 BRI-399 HLA_A*02:01 HLA_A 1|0 0.97  \n",
       "3 301-0267 BRI-399 HLA_C*05:01 HLA_C 1|0 1.00  \n",
       "4 301-0267 BRI-399 HLA_C*07:01 HLA_C 0|1 1.00  "
      ]
     },
     "metadata": {},
     "output_type": "display_data"
    },
    {
     "data": {
      "text/html": [
       "69"
      ],
      "text/latex": [
       "69"
      ],
      "text/markdown": [
       "69"
      ],
      "text/plain": [
       "[1] 69"
      ]
     },
     "metadata": {},
     "output_type": "display_data"
    }
   ],
   "source": [
    "## Make Supplementary Table\n",
    "results_table = bind_rows(results, .id = 'Geno_ID') %>% select(Geno_ID, ID, GENE, geno01, dosage)\n",
    "rownames(results_table) = c(1:nrow(results_table))\n",
    "results_table = left_join(results_table, sample_meta[, c('Geno_ID', 'Sample')], by = 'Geno_ID')[, c(1, 6, 2, 3, 4, 5)]\n",
    "colnames(results_table) = c('Geno_ID', 'Sample', 'Allele', 'Gene', 'GT', 'dosage')\n",
    "write.csv(results_table, '../../data/hla_alleles/HLA_alleles_table_AMP2RA.csv')\n",
    "results_table %>% head(4)\n",
    "results_table$Sample %>% unique() %>% length()"
   ]
  },
  {
   "cell_type": "markdown",
   "id": "7207e6fc-f130-4e40-8fc9-4b8cf5b73c2b",
   "metadata": {},
   "source": [
    "# New Panel | SNP2HLA | Smillie CCDG Broad"
   ]
  },
  {
   "cell_type": "markdown",
   "id": "193c1a69-67f6-48fd-a793-0988e9989040",
   "metadata": {},
   "source": [
    "## Read in imputation file"
   ]
  },
  {
   "cell_type": "code",
   "execution_count": 15,
   "id": "a2d1f881-6f4b-4589-a989-3df1924a1562",
   "metadata": {},
   "outputs": [
    {
     "data": {
      "text/html": [
       "<table class=\"dataframe\">\n",
       "<caption>A matrix: 4 × 8 of type chr</caption>\n",
       "<thead>\n",
       "\t<tr><th scope=col>CHROM</th><th scope=col>POS</th><th scope=col>ID</th><th scope=col>REF</th><th scope=col>ALT</th><th scope=col>QUAL</th><th scope=col>FILTER</th><th scope=col>INFO</th></tr>\n",
       "</thead>\n",
       "<tbody>\n",
       "\t<tr><td>6</td><td>27970031</td><td>rs149946  </td><td>G</td><td>T</td><td>NA</td><td>PASS</td><td>AR2=0.96;DR2=0.96;AF=0.22;IMP </td></tr>\n",
       "\t<tr><td>6</td><td>27976200</td><td>rs9380032 </td><td>G</td><td>T</td><td>NA</td><td>PASS</td><td>AR2=0.93;DR2=0.93;AF=0.039;IMP</td></tr>\n",
       "\t<tr><td>6</td><td>27979188</td><td>rs4141691 </td><td>A</td><td>G</td><td>NA</td><td>PASS</td><td>AR2=0.89;DR2=0.90;AF=0.11;IMP </td></tr>\n",
       "\t<tr><td>6</td><td>27979625</td><td>rs10484402</td><td>A</td><td>G</td><td>NA</td><td>PASS</td><td>AR2=0.93;DR2=0.93;AF=0.043;IMP</td></tr>\n",
       "</tbody>\n",
       "</table>\n"
      ],
      "text/latex": [
       "A matrix: 4 × 8 of type chr\n",
       "\\begin{tabular}{llllllll}\n",
       " CHROM & POS & ID & REF & ALT & QUAL & FILTER & INFO\\\\\n",
       "\\hline\n",
       "\t 6 & 27970031 & rs149946   & G & T & NA & PASS & AR2=0.96;DR2=0.96;AF=0.22;IMP \\\\\n",
       "\t 6 & 27976200 & rs9380032  & G & T & NA & PASS & AR2=0.93;DR2=0.93;AF=0.039;IMP\\\\\n",
       "\t 6 & 27979188 & rs4141691  & A & G & NA & PASS & AR2=0.89;DR2=0.90;AF=0.11;IMP \\\\\n",
       "\t 6 & 27979625 & rs10484402 & A & G & NA & PASS & AR2=0.93;DR2=0.93;AF=0.043;IMP\\\\\n",
       "\\end{tabular}\n"
      ],
      "text/markdown": [
       "\n",
       "A matrix: 4 × 8 of type chr\n",
       "\n",
       "| CHROM | POS | ID | REF | ALT | QUAL | FILTER | INFO |\n",
       "|---|---|---|---|---|---|---|---|\n",
       "| 6 | 27970031 | rs149946   | G | T | NA | PASS | AR2=0.96;DR2=0.96;AF=0.22;IMP  |\n",
       "| 6 | 27976200 | rs9380032  | G | T | NA | PASS | AR2=0.93;DR2=0.93;AF=0.039;IMP |\n",
       "| 6 | 27979188 | rs4141691  | A | G | NA | PASS | AR2=0.89;DR2=0.90;AF=0.11;IMP  |\n",
       "| 6 | 27979625 | rs10484402 | A | G | NA | PASS | AR2=0.93;DR2=0.93;AF=0.043;IMP |\n",
       "\n"
      ],
      "text/plain": [
       "     CHROM POS      ID         REF ALT QUAL FILTER\n",
       "[1,] 6     27970031 rs149946   G   T   NA   PASS  \n",
       "[2,] 6     27976200 rs9380032  G   T   NA   PASS  \n",
       "[3,] 6     27979188 rs4141691  A   G   NA   PASS  \n",
       "[4,] 6     27979625 rs10484402 A   G   NA   PASS  \n",
       "     INFO                          \n",
       "[1,] AR2=0.96;DR2=0.96;AF=0.22;IMP \n",
       "[2,] AR2=0.93;DR2=0.93;AF=0.039;IMP\n",
       "[3,] AR2=0.89;DR2=0.90;AF=0.11;IMP \n",
       "[4,] AR2=0.93;DR2=0.93;AF=0.043;IMP"
      ]
     },
     "metadata": {},
     "output_type": "display_data"
    },
    {
     "data": {
      "text/html": [
       "<table class=\"dataframe\">\n",
       "<caption>A matrix: 4 × 766 of type chr</caption>\n",
       "<thead>\n",
       "\t<tr><th scope=col>FORMAT</th><th scope=col>202279080003_R03C01</th><th scope=col>202279080003_R03C02</th><th scope=col>202279080003_R04C01</th><th scope=col>202279080003_R04C02</th><th scope=col>202279080003_R05C01</th><th scope=col>202279080003_R05C02</th><th scope=col>202279080003_R06C01</th><th scope=col>202279080003_R06C02</th><th scope=col>202279080003_R07C01</th><th scope=col>⋯</th><th scope=col>203672280147_R08C01</th><th scope=col>203672280147_R08C02</th><th scope=col>203672280147_R09C01</th><th scope=col>203672280147_R09C02</th><th scope=col>203672280147_R10C01</th><th scope=col>203672280147_R10C02</th><th scope=col>203672280147_R11C01</th><th scope=col>203672280147_R11C02</th><th scope=col>203672280147_R12C01</th><th scope=col>203672280147_R12C02</th></tr>\n",
       "</thead>\n",
       "<tbody>\n",
       "\t<tr><td>GT:DS:GP</td><td>0|0:0:1,0,0</td><td>0|0:0:1,0,0</td><td>0|0:0:1,0,0</td><td>0|0:0:1,0,0</td><td>0|0:0:1,0,0         </td><td>0|0:0:1,0,0         </td><td>0|0:0:1,0,0</td><td>0|0:0:1,0,0</td><td>0|0:0:1,0,0</td><td>⋯</td><td>0|0:0:1,0,0         </td><td>0|1:1:0,1,0         </td><td>0|0:0:1,0,0         </td><td>0|0:0:1,0,0</td><td>0|0:0:1,0,0</td><td>0|0:0:1,0,0</td><td>0|1:0.96:0.04,0.96,0</td><td>0|1:1:0,1,0</td><td>0|0:0:1,0,0         </td><td>0|1:0.96:0.04,0.96,0</td></tr>\n",
       "\t<tr><td>GT:DS:GP</td><td>0|0:0:1,0,0</td><td>0|0:0:1,0,0</td><td>0|0:0:1,0,0</td><td>0|0:0:1,0,0</td><td>0|0:0:1,0,0         </td><td>0|0:0:1,0,0         </td><td>0|0:0:1,0,0</td><td>0|0:0:1,0,0</td><td>0|0:0:1,0,0</td><td>⋯</td><td>0|0:0:1,0,0         </td><td>0|0:0:1,0,0         </td><td>0|0:0:1,0,0         </td><td>0|0:0:1,0,0</td><td>0|0:0:1,0,0</td><td>0|0:0:1,0,0</td><td>0|0:0:1,0,0         </td><td>0|0:0:1,0,0</td><td>0|0:0:1,0,0         </td><td>0|0:0:1,0,0         </td></tr>\n",
       "\t<tr><td>GT:DS:GP</td><td>0|0:0:1,0,0</td><td>0|0:0:1,0,0</td><td>0|0:0:1,0,0</td><td>0|0:0:1,0,0</td><td>1|0:0.96:0.04,0.96,0</td><td>1|1:1.82:0,0.17,0.82</td><td>0|0:0:1,0,0</td><td>0|0:0:1,0,0</td><td>0|0:0:1,0,0</td><td>⋯</td><td>1|0:0.95:0.06,0.94,0</td><td>1|0:0.96:0.04,0.96,0</td><td>0|1:0.98:0.02,0.98,0</td><td>0|0:0:1,0,0</td><td>0|0:0:1,0,0</td><td>0|0:0:1,0,0</td><td>0|0:0:1,0,0         </td><td>0|0:0:1,0,0</td><td>1|0:0.98:0.03,0.97,0</td><td>0|0:0:1,0,0         </td></tr>\n",
       "\t<tr><td>GT:DS:GP</td><td>0|0:0:1,0,0</td><td>0|0:0:1,0,0</td><td>0|0:0:1,0,0</td><td>0|0:0:1,0,0</td><td>0|0:0:1,0,0         </td><td>0|0:0:1,0,0         </td><td>0|0:0:1,0,0</td><td>0|0:0:1,0,0</td><td>0|1:1:0,1,0</td><td>⋯</td><td>0|0:0:1,0,0         </td><td>0|0:0:1,0,0         </td><td>0|0:0:1,0,0         </td><td>0|1:1:0,1,0</td><td>0|0:0:1,0,0</td><td>0|0:0:1,0,0</td><td>0|0:0:1,0,0         </td><td>0|0:0:1,0,0</td><td>0|1:1:0,1,0         </td><td>0|0:0:1,0,0         </td></tr>\n",
       "</tbody>\n",
       "</table>\n"
      ],
      "text/latex": [
       "A matrix: 4 × 766 of type chr\n",
       "\\begin{tabular}{lllllllllllllllllllll}\n",
       " FORMAT & 202279080003\\_R03C01 & 202279080003\\_R03C02 & 202279080003\\_R04C01 & 202279080003\\_R04C02 & 202279080003\\_R05C01 & 202279080003\\_R05C02 & 202279080003\\_R06C01 & 202279080003\\_R06C02 & 202279080003\\_R07C01 & ⋯ & 203672280147\\_R08C01 & 203672280147\\_R08C02 & 203672280147\\_R09C01 & 203672280147\\_R09C02 & 203672280147\\_R10C01 & 203672280147\\_R10C02 & 203672280147\\_R11C01 & 203672280147\\_R11C02 & 203672280147\\_R12C01 & 203672280147\\_R12C02\\\\\n",
       "\\hline\n",
       "\t GT:DS:GP & 0\\textbar{}0:0:1,0,0 & 0\\textbar{}0:0:1,0,0 & 0\\textbar{}0:0:1,0,0 & 0\\textbar{}0:0:1,0,0 & 0\\textbar{}0:0:1,0,0          & 0\\textbar{}0:0:1,0,0          & 0\\textbar{}0:0:1,0,0 & 0\\textbar{}0:0:1,0,0 & 0\\textbar{}0:0:1,0,0 & ⋯ & 0\\textbar{}0:0:1,0,0          & 0\\textbar{}1:1:0,1,0          & 0\\textbar{}0:0:1,0,0          & 0\\textbar{}0:0:1,0,0 & 0\\textbar{}0:0:1,0,0 & 0\\textbar{}0:0:1,0,0 & 0\\textbar{}1:0.96:0.04,0.96,0 & 0\\textbar{}1:1:0,1,0 & 0\\textbar{}0:0:1,0,0          & 0\\textbar{}1:0.96:0.04,0.96,0\\\\\n",
       "\t GT:DS:GP & 0\\textbar{}0:0:1,0,0 & 0\\textbar{}0:0:1,0,0 & 0\\textbar{}0:0:1,0,0 & 0\\textbar{}0:0:1,0,0 & 0\\textbar{}0:0:1,0,0          & 0\\textbar{}0:0:1,0,0          & 0\\textbar{}0:0:1,0,0 & 0\\textbar{}0:0:1,0,0 & 0\\textbar{}0:0:1,0,0 & ⋯ & 0\\textbar{}0:0:1,0,0          & 0\\textbar{}0:0:1,0,0          & 0\\textbar{}0:0:1,0,0          & 0\\textbar{}0:0:1,0,0 & 0\\textbar{}0:0:1,0,0 & 0\\textbar{}0:0:1,0,0 & 0\\textbar{}0:0:1,0,0          & 0\\textbar{}0:0:1,0,0 & 0\\textbar{}0:0:1,0,0          & 0\\textbar{}0:0:1,0,0         \\\\\n",
       "\t GT:DS:GP & 0\\textbar{}0:0:1,0,0 & 0\\textbar{}0:0:1,0,0 & 0\\textbar{}0:0:1,0,0 & 0\\textbar{}0:0:1,0,0 & 1\\textbar{}0:0.96:0.04,0.96,0 & 1\\textbar{}1:1.82:0,0.17,0.82 & 0\\textbar{}0:0:1,0,0 & 0\\textbar{}0:0:1,0,0 & 0\\textbar{}0:0:1,0,0 & ⋯ & 1\\textbar{}0:0.95:0.06,0.94,0 & 1\\textbar{}0:0.96:0.04,0.96,0 & 0\\textbar{}1:0.98:0.02,0.98,0 & 0\\textbar{}0:0:1,0,0 & 0\\textbar{}0:0:1,0,0 & 0\\textbar{}0:0:1,0,0 & 0\\textbar{}0:0:1,0,0          & 0\\textbar{}0:0:1,0,0 & 1\\textbar{}0:0.98:0.03,0.97,0 & 0\\textbar{}0:0:1,0,0         \\\\\n",
       "\t GT:DS:GP & 0\\textbar{}0:0:1,0,0 & 0\\textbar{}0:0:1,0,0 & 0\\textbar{}0:0:1,0,0 & 0\\textbar{}0:0:1,0,0 & 0\\textbar{}0:0:1,0,0          & 0\\textbar{}0:0:1,0,0          & 0\\textbar{}0:0:1,0,0 & 0\\textbar{}0:0:1,0,0 & 0\\textbar{}1:1:0,1,0 & ⋯ & 0\\textbar{}0:0:1,0,0          & 0\\textbar{}0:0:1,0,0          & 0\\textbar{}0:0:1,0,0          & 0\\textbar{}1:1:0,1,0 & 0\\textbar{}0:0:1,0,0 & 0\\textbar{}0:0:1,0,0 & 0\\textbar{}0:0:1,0,0          & 0\\textbar{}0:0:1,0,0 & 0\\textbar{}1:1:0,1,0          & 0\\textbar{}0:0:1,0,0         \\\\\n",
       "\\end{tabular}\n"
      ],
      "text/markdown": [
       "\n",
       "A matrix: 4 × 766 of type chr\n",
       "\n",
       "| FORMAT | 202279080003_R03C01 | 202279080003_R03C02 | 202279080003_R04C01 | 202279080003_R04C02 | 202279080003_R05C01 | 202279080003_R05C02 | 202279080003_R06C01 | 202279080003_R06C02 | 202279080003_R07C01 | ⋯ | 203672280147_R08C01 | 203672280147_R08C02 | 203672280147_R09C01 | 203672280147_R09C02 | 203672280147_R10C01 | 203672280147_R10C02 | 203672280147_R11C01 | 203672280147_R11C02 | 203672280147_R12C01 | 203672280147_R12C02 |\n",
       "|---|---|---|---|---|---|---|---|---|---|---|---|---|---|---|---|---|---|---|---|---|\n",
       "| GT:DS:GP | 0|0:0:1,0,0 | 0|0:0:1,0,0 | 0|0:0:1,0,0 | 0|0:0:1,0,0 | 0|0:0:1,0,0          | 0|0:0:1,0,0          | 0|0:0:1,0,0 | 0|0:0:1,0,0 | 0|0:0:1,0,0 | ⋯ | 0|0:0:1,0,0          | 0|1:1:0,1,0          | 0|0:0:1,0,0          | 0|0:0:1,0,0 | 0|0:0:1,0,0 | 0|0:0:1,0,0 | 0|1:0.96:0.04,0.96,0 | 0|1:1:0,1,0 | 0|0:0:1,0,0          | 0|1:0.96:0.04,0.96,0 |\n",
       "| GT:DS:GP | 0|0:0:1,0,0 | 0|0:0:1,0,0 | 0|0:0:1,0,0 | 0|0:0:1,0,0 | 0|0:0:1,0,0          | 0|0:0:1,0,0          | 0|0:0:1,0,0 | 0|0:0:1,0,0 | 0|0:0:1,0,0 | ⋯ | 0|0:0:1,0,0          | 0|0:0:1,0,0          | 0|0:0:1,0,0          | 0|0:0:1,0,0 | 0|0:0:1,0,0 | 0|0:0:1,0,0 | 0|0:0:1,0,0          | 0|0:0:1,0,0 | 0|0:0:1,0,0          | 0|0:0:1,0,0          |\n",
       "| GT:DS:GP | 0|0:0:1,0,0 | 0|0:0:1,0,0 | 0|0:0:1,0,0 | 0|0:0:1,0,0 | 1|0:0.96:0.04,0.96,0 | 1|1:1.82:0,0.17,0.82 | 0|0:0:1,0,0 | 0|0:0:1,0,0 | 0|0:0:1,0,0 | ⋯ | 1|0:0.95:0.06,0.94,0 | 1|0:0.96:0.04,0.96,0 | 0|1:0.98:0.02,0.98,0 | 0|0:0:1,0,0 | 0|0:0:1,0,0 | 0|0:0:1,0,0 | 0|0:0:1,0,0          | 0|0:0:1,0,0 | 1|0:0.98:0.03,0.97,0 | 0|0:0:1,0,0          |\n",
       "| GT:DS:GP | 0|0:0:1,0,0 | 0|0:0:1,0,0 | 0|0:0:1,0,0 | 0|0:0:1,0,0 | 0|0:0:1,0,0          | 0|0:0:1,0,0          | 0|0:0:1,0,0 | 0|0:0:1,0,0 | 0|1:1:0,1,0 | ⋯ | 0|0:0:1,0,0          | 0|0:0:1,0,0          | 0|0:0:1,0,0          | 0|1:1:0,1,0 | 0|0:0:1,0,0 | 0|0:0:1,0,0 | 0|0:0:1,0,0          | 0|0:0:1,0,0 | 0|1:1:0,1,0          | 0|0:0:1,0,0          |\n",
       "\n"
      ],
      "text/plain": [
       "     FORMAT   202279080003_R03C01 202279080003_R03C02 202279080003_R04C01\n",
       "[1,] GT:DS:GP 0|0:0:1,0,0         0|0:0:1,0,0         0|0:0:1,0,0        \n",
       "[2,] GT:DS:GP 0|0:0:1,0,0         0|0:0:1,0,0         0|0:0:1,0,0        \n",
       "[3,] GT:DS:GP 0|0:0:1,0,0         0|0:0:1,0,0         0|0:0:1,0,0        \n",
       "[4,] GT:DS:GP 0|0:0:1,0,0         0|0:0:1,0,0         0|0:0:1,0,0        \n",
       "     202279080003_R04C02 202279080003_R05C01  202279080003_R05C02 \n",
       "[1,] 0|0:0:1,0,0         0|0:0:1,0,0          0|0:0:1,0,0         \n",
       "[2,] 0|0:0:1,0,0         0|0:0:1,0,0          0|0:0:1,0,0         \n",
       "[3,] 0|0:0:1,0,0         1|0:0.96:0.04,0.96,0 1|1:1.82:0,0.17,0.82\n",
       "[4,] 0|0:0:1,0,0         0|0:0:1,0,0          0|0:0:1,0,0         \n",
       "     202279080003_R06C01 202279080003_R06C02 202279080003_R07C01 ⋯\n",
       "[1,] 0|0:0:1,0,0         0|0:0:1,0,0         0|0:0:1,0,0         ⋯\n",
       "[2,] 0|0:0:1,0,0         0|0:0:1,0,0         0|0:0:1,0,0         ⋯\n",
       "[3,] 0|0:0:1,0,0         0|0:0:1,0,0         0|0:0:1,0,0         ⋯\n",
       "[4,] 0|0:0:1,0,0         0|0:0:1,0,0         0|1:1:0,1,0         ⋯\n",
       "     203672280147_R08C01  203672280147_R08C02  203672280147_R09C01 \n",
       "[1,] 0|0:0:1,0,0          0|1:1:0,1,0          0|0:0:1,0,0         \n",
       "[2,] 0|0:0:1,0,0          0|0:0:1,0,0          0|0:0:1,0,0         \n",
       "[3,] 1|0:0.95:0.06,0.94,0 1|0:0.96:0.04,0.96,0 0|1:0.98:0.02,0.98,0\n",
       "[4,] 0|0:0:1,0,0          0|0:0:1,0,0          0|0:0:1,0,0         \n",
       "     203672280147_R09C02 203672280147_R10C01 203672280147_R10C02\n",
       "[1,] 0|0:0:1,0,0         0|0:0:1,0,0         0|0:0:1,0,0        \n",
       "[2,] 0|0:0:1,0,0         0|0:0:1,0,0         0|0:0:1,0,0        \n",
       "[3,] 0|0:0:1,0,0         0|0:0:1,0,0         0|0:0:1,0,0        \n",
       "[4,] 0|1:1:0,1,0         0|0:0:1,0,0         0|0:0:1,0,0        \n",
       "     203672280147_R11C01  203672280147_R11C02 203672280147_R12C01 \n",
       "[1,] 0|1:0.96:0.04,0.96,0 0|1:1:0,1,0         0|0:0:1,0,0         \n",
       "[2,] 0|0:0:1,0,0          0|0:0:1,0,0         0|0:0:1,0,0         \n",
       "[3,] 0|0:0:1,0,0          0|0:0:1,0,0         1|0:0.98:0.03,0.97,0\n",
       "[4,] 0|0:0:1,0,0          0|0:0:1,0,0         0|1:1:0,1,0         \n",
       "     203672280147_R12C02 \n",
       "[1,] 0|1:0.96:0.04,0.96,0\n",
       "[2,] 0|0:0:1,0,0         \n",
       "[3,] 0|0:0:1,0,0         \n",
       "[4,] 0|0:0:1,0,0         "
      ]
     },
     "metadata": {},
     "output_type": "display_data"
    },
    {
     "data": {
      "image/png": "[encoded data removed]",
      "text/plain": [
       "plot without title"
      ]
     },
     "metadata": {
      "image/png": {
       "height": 400,
       "width": 600
      }
     },
     "output_type": "display_data"
    }
   ],
   "source": [
    "# HLA imputation performed by Saori Sakaue\n",
    "vcf_filepath = paste0('/data/srlab/ssakaue/share/forJoyce/ccdg_broad.final.maf0.01.MHC.SNP2HLA.bgl.phased.vcf.gz')\n",
    "vcf = read.vcfR(vcf_filepath, verbose = FALSE)\n",
    "vcf@fix %>% head(4)\n",
    "vcf@gt %>% head(4)\n",
    "\n",
    "res = make_imputation_results(vcf_filepath)\n",
    "res$p2"
   ]
  },
  {
   "cell_type": "markdown",
   "id": "cebecb59-bd9c-41f9-9f0b-8d0f82239596",
   "metadata": {},
   "source": [
    "## Imputation quality for 4-digit alleles"
   ]
  },
  {
   "cell_type": "code",
   "execution_count": 16,
   "id": "53be71fb-0197-4274-8b89-a2e34e299e00",
   "metadata": {},
   "outputs": [
    {
     "data": {
      "text/html": [
       "423"
      ],
      "text/latex": [
       "423"
      ],
      "text/markdown": [
       "423"
      ],
      "text/plain": [
       "[1] 423"
      ]
     },
     "metadata": {},
     "output_type": "display_data"
    }
   ],
   "source": [
    "vcf_4digit = res$vcf_fix_df[which(res$vcf_fix_df$ndigit == 4), ]\n",
    "length(unique(vcf_4digit$ID))\n",
    "vcf_4digit_Smillie1 = vcf_4digit %>% mutate(dataset = 'Smillie (GSA)')\n",
    "\n",
    "## Subset to only include MAF>1%\n",
    "Smillie1_maf1 = vcf_4digit[which(vcf_4digit$AF > 0.01), ] %>%\n",
    "    group_by(GENE) %>%\n",
    "    summarise(mean = mean(DR2))\n",
    "\n",
    "## Subset to only include MAF>1%\n",
    "Smillie1_maf5 = vcf_4digit[which(vcf_4digit$AF > 0.05), ] %>%\n",
    "    group_by(GENE) %>%\n",
    "    summarise(mean = mean(DR2))"
   ]
  },
  {
   "cell_type": "markdown",
   "id": "1466b3c3-c436-4fc1-8f8d-0f89b7d04270",
   "metadata": {},
   "source": [
    "## Get Inferred HLA alleles for each individual"
   ]
  },
  {
   "cell_type": "code",
   "execution_count": 17,
   "id": "943d5358-a3ca-441c-8c1c-1f3467a90977",
   "metadata": {},
   "outputs": [
    {
     "data": {
      "text/html": [
       "765"
      ],
      "text/latex": [
       "765"
      ],
      "text/markdown": [
       "765"
      ],
      "text/plain": [
       "[1] 765"
      ]
     },
     "metadata": {},
     "output_type": "display_data"
    }
   ],
   "source": [
    "d = cbind(res$vcf_fix_df, res$vcf_hla@gt) %>% as.data.frame()\n",
    "\n",
    "samples = colnames(res$vcf_hla@gt)\n",
    "samples = samples[-1] # remove FORMAT column\n",
    "length(samples)"
   ]
  },
  {
   "cell_type": "markdown",
   "id": "72b7fd1c-c73a-4a03-b049-54c03bb19885",
   "metadata": {},
   "source": [
    "## Subset to IBD samples"
   ]
  },
  {
   "cell_type": "code",
   "execution_count": 18,
   "id": "8ec4fcb6-45f5-4e9d-a75e-f1f2f8c154b1",
   "metadata": {},
   "outputs": [],
   "source": [
    "sample_meta <- read.csv(\"../../data/meta/sample_meta_Smillie.csv\")"
   ]
  },
  {
   "cell_type": "code",
   "execution_count": 19,
   "id": "532f1457-ba06-4f33-8a08-0b7dff58649c",
   "metadata": {},
   "outputs": [],
   "source": [
    "# Get list of confidently called alleles\n",
    "results = list()\n",
    "for (samp in sample_meta$Geno_ID[sample_meta$Geno_ID %in% colnames(d)]) {\n",
    "    d_samp = d[, c('REF', 'ID', 'GENE', samp, 'ndigit')] %>% filter(ndigit > 2)\n",
    "    d_samp_haszero = separate(data = d_samp, col = samp, into = c(\"geno01\", \"col1\", \"col2\"), sep = \":\") \n",
    "    d_samp_haszero$count = ifelse(d_samp_haszero[, 'REF'] == \"T\", \n",
    "                                  recode(d_samp_haszero$geno01,'0|0' = 2, '1|0' = 1, '0|1' = 1, '1|1' = 0), \n",
    "                                  recode(d_samp_haszero$geno01,'0|0' = 0, '1|0' = 1, '0|1' = 1, '1|1' = 2))\n",
    "    d_samp_haszero$dosage = ifelse(d_samp_haszero[, 'REF'] == \"T\", \n",
    "                                   2 - as.numeric(d_samp_haszero$col1), \n",
    "                                   as.numeric(d_samp_haszero$col1))\n",
    "    results[[samp]] = d_samp_haszero %>% filter(count == 1 | count == 2)\n",
    "}\n",
    "saveRDS(results, '../../data/hla_alleles/ccdg_updated.new.ref_results.rds')"
   ]
  },
  {
   "cell_type": "code",
   "execution_count": 20,
   "id": "a6656eac-1425-4184-b6ce-e9596bdfd6bb",
   "metadata": {},
   "outputs": [],
   "source": [
    "## NEW: save full result.\n",
    "results_allAlleles = list()\n",
    "for (samp in sample_meta$Geno_ID[sample_meta$Geno_ID %in% colnames(d)]) {\n",
    "d_samp = d[, c('REF', 'ID', 'GENE', samp, 'ndigit')] \n",
    "    d_samp_haszero = separate(data = d_samp, col = samp, into = c(\"geno01\", \"col1\", \"col2\"), sep = \":\") \n",
    "    d_samp_haszero$count = ifelse(d_samp_haszero[, 'REF'] == \"T\", \n",
    "                                  recode(d_samp_haszero$geno01,'0|0' = 2, '1|0' = 1, '0|1' = 1, '1|1' = 0), \n",
    "                                  recode(d_samp_haszero$geno01,'0|0' = 0, '1|0' = 1, '0|1' = 1, '1|1' = 2))\n",
    "    d_samp_haszero$dosage = ifelse(d_samp_haszero[, 'REF'] == \"T\", \n",
    "                                   2 - as.numeric(d_samp_haszero$col1), \n",
    "                                   as.numeric(d_samp_haszero$col1))\n",
    "    results_allAlleles[[samp]] = d_samp_haszero\n",
    "}\n",
    "saveRDS(results_allAlleles, '../../data/hla_alleles/ccdg_updated.new.ref_all.results.rds')"
   ]
  },
  {
   "cell_type": "markdown",
   "id": "3b5df800-3fb0-4dd1-9531-5c12f425bc6f",
   "metadata": {},
   "source": [
    "## Manual inspection"
   ]
  },
  {
   "cell_type": "code",
   "execution_count": 21,
   "id": "26034878-335f-44ab-a73f-3bf82884d6fd",
   "metadata": {},
   "outputs": [],
   "source": [
    "df_missing <- data.frame(0,0,0)\n",
    "for (samp in sample_meta$Geno_ID[sample_meta$Geno_ID %in% colnames(d)]) {\n",
    "    res = results[[samp]]\n",
    "    \n",
    "    gene_sums = tapply(res$count, res$GENE, sum)\n",
    "    count_sum = sum(res$count)\n",
    "    \n",
    "    for (gene in c(\"HLA_A\", \"HLA_B\", \"HLA_C\", \"HLA_DRB1\", \"HLA_DQA1\", \"HLA_DQB1\", \"HLA_DPB1\", \"HLA_DPA1\")) {\n",
    "    if (gene_sums[gene] != 2) {\n",
    "        df_missing <- rbind(df_missing, c(samp, gene, gene_sums[gene]))\n",
    "        #print(res)\n",
    "    }\n",
    " }\n",
    "}\n",
    "df_missing <- df_missing[-1, ]"
   ]
  },
  {
   "cell_type": "code",
   "execution_count": 22,
   "id": "5d5d4f46-db9f-477e-98ae-1fec904d500f",
   "metadata": {},
   "outputs": [
    {
     "data": {
      "text/html": [
       "<table class=\"dataframe\">\n",
       "<caption>A data.frame: 1 × 3</caption>\n",
       "<thead>\n",
       "\t<tr><th></th><th scope=col>X0</th><th scope=col>X0.1</th><th scope=col>X0.2</th></tr>\n",
       "\t<tr><th></th><th scope=col>&lt;chr&gt;</th><th scope=col>&lt;chr&gt;</th><th scope=col>&lt;chr&gt;</th></tr>\n",
       "</thead>\n",
       "<tbody>\n",
       "\t<tr><th scope=row>2</th><td>203259090242_R02C01</td><td>HLA_B</td><td>1</td></tr>\n",
       "</tbody>\n",
       "</table>\n"
      ],
      "text/latex": [
       "A data.frame: 1 × 3\n",
       "\\begin{tabular}{r|lll}\n",
       "  & X0 & X0.1 & X0.2\\\\\n",
       "  & <chr> & <chr> & <chr>\\\\\n",
       "\\hline\n",
       "\t2 & 203259090242\\_R02C01 & HLA\\_B & 1\\\\\n",
       "\\end{tabular}\n"
      ],
      "text/markdown": [
       "\n",
       "A data.frame: 1 × 3\n",
       "\n",
       "| <!--/--> | X0 &lt;chr&gt; | X0.1 &lt;chr&gt; | X0.2 &lt;chr&gt; |\n",
       "|---|---|---|---|\n",
       "| 2 | 203259090242_R02C01 | HLA_B | 1 |\n",
       "\n"
      ],
      "text/plain": [
       "  X0                  X0.1  X0.2\n",
       "2 203259090242_R02C01 HLA_B 1   "
      ]
     },
     "metadata": {},
     "output_type": "display_data"
    }
   ],
   "source": [
    "df_missing"
   ]
  },
  {
   "cell_type": "code",
   "execution_count": 23,
   "id": "61015f1f-703b-4bc2-88a8-60123b5705ed",
   "metadata": {},
   "outputs": [
    {
     "name": "stdout",
     "output_type": "stream",
     "text": [
      "[1] 14\n"
     ]
    }
   ],
   "source": [
    "results <- results[- which(names(results) %in% df_missing$X0)]\n",
    "sample_names <- vector()\n",
    "i = 0\n",
    "for (name in names(results)) {\n",
    "    res = results[[name]][,c('ID', 'GENE', 'count')]\n",
    "    # List of alleles (save as XXX-XXX_alleles.txt)\n",
    "    sample_name <- sample_meta[sample_meta$Geno_ID == name, 'Sample']\n",
    "    write.csv(res, paste0('../../data/hla_alleles/ccdg_broad/', \n",
    "                          sample_name, '_alleles.csv'), row.names = FALSE, quote = FALSE)\n",
    "    i = i + 1\n",
    "    sample_names <- c(sample_names, sample_name)\n",
    "}\n",
    "print(i)\n",
    "write.table(data.frame(names(results), sample_names), \n",
    "            \"../../data/hla_alleles/ccdg_broad/ccdg_final_samples.txt\", \n",
    "            col.names = FALSE, row.names = FALSE, quote = FALSE)"
   ]
  },
  {
   "cell_type": "code",
   "execution_count": 24,
   "id": "bb7e3d77-b5e0-4f67-9827-762ae84f6e39",
   "metadata": {},
   "outputs": [
    {
     "data": {
      "text/html": [
       "<table class=\"dataframe\">\n",
       "<caption>A data.frame: 4 × 6</caption>\n",
       "<thead>\n",
       "\t<tr><th></th><th scope=col>Geno_ID</th><th scope=col>Sample</th><th scope=col>Allele</th><th scope=col>Gene</th><th scope=col>GT</th><th scope=col>dosage</th></tr>\n",
       "\t<tr><th></th><th scope=col>&lt;chr&gt;</th><th scope=col>&lt;chr&gt;</th><th scope=col>&lt;chr&gt;</th><th scope=col>&lt;chr&gt;</th><th scope=col>&lt;chr&gt;</th><th scope=col>&lt;dbl&gt;</th></tr>\n",
       "</thead>\n",
       "<tbody>\n",
       "\t<tr><th scope=row>1</th><td>202279080102_R08C01</td><td>N24</td><td>HLA_A*03:01</td><td>HLA_A</td><td>1|0</td><td>1.00</td></tr>\n",
       "\t<tr><th scope=row>2</th><td>202279080102_R08C01</td><td>N24</td><td>HLA_A*11:01</td><td>HLA_A</td><td>0|1</td><td>0.95</td></tr>\n",
       "\t<tr><th scope=row>3</th><td>202279080102_R08C01</td><td>N24</td><td>HLA_C*04:01</td><td>HLA_C</td><td>1|1</td><td>2.00</td></tr>\n",
       "\t<tr><th scope=row>4</th><td>202279080102_R08C01</td><td>N24</td><td>HLA_B*35:01</td><td>HLA_B</td><td>0|1</td><td>0.88</td></tr>\n",
       "</tbody>\n",
       "</table>\n"
      ],
      "text/latex": [
       "A data.frame: 4 × 6\n",
       "\\begin{tabular}{r|llllll}\n",
       "  & Geno\\_ID & Sample & Allele & Gene & GT & dosage\\\\\n",
       "  & <chr> & <chr> & <chr> & <chr> & <chr> & <dbl>\\\\\n",
       "\\hline\n",
       "\t1 & 202279080102\\_R08C01 & N24 & HLA\\_A*03:01 & HLA\\_A & 1\\textbar{}0 & 1.00\\\\\n",
       "\t2 & 202279080102\\_R08C01 & N24 & HLA\\_A*11:01 & HLA\\_A & 0\\textbar{}1 & 0.95\\\\\n",
       "\t3 & 202279080102\\_R08C01 & N24 & HLA\\_C*04:01 & HLA\\_C & 1\\textbar{}1 & 2.00\\\\\n",
       "\t4 & 202279080102\\_R08C01 & N24 & HLA\\_B*35:01 & HLA\\_B & 0\\textbar{}1 & 0.88\\\\\n",
       "\\end{tabular}\n"
      ],
      "text/markdown": [
       "\n",
       "A data.frame: 4 × 6\n",
       "\n",
       "| <!--/--> | Geno_ID &lt;chr&gt; | Sample &lt;chr&gt; | Allele &lt;chr&gt; | Gene &lt;chr&gt; | GT &lt;chr&gt; | dosage &lt;dbl&gt; |\n",
       "|---|---|---|---|---|---|---|\n",
       "| 1 | 202279080102_R08C01 | N24 | HLA_A*03:01 | HLA_A | 1|0 | 1.00 |\n",
       "| 2 | 202279080102_R08C01 | N24 | HLA_A*11:01 | HLA_A | 0|1 | 0.95 |\n",
       "| 3 | 202279080102_R08C01 | N24 | HLA_C*04:01 | HLA_C | 1|1 | 2.00 |\n",
       "| 4 | 202279080102_R08C01 | N24 | HLA_B*35:01 | HLA_B | 0|1 | 0.88 |\n",
       "\n"
      ],
      "text/plain": [
       "  Geno_ID             Sample Allele      Gene  GT  dosage\n",
       "1 202279080102_R08C01 N24    HLA_A*03:01 HLA_A 1|0 1.00  \n",
       "2 202279080102_R08C01 N24    HLA_A*11:01 HLA_A 0|1 0.95  \n",
       "3 202279080102_R08C01 N24    HLA_C*04:01 HLA_C 1|1 2.00  \n",
       "4 202279080102_R08C01 N24    HLA_B*35:01 HLA_B 0|1 0.88  "
      ]
     },
     "metadata": {},
     "output_type": "display_data"
    },
    {
     "data": {
      "text/html": [
       "14"
      ],
      "text/latex": [
       "14"
      ],
      "text/markdown": [
       "14"
      ],
      "text/plain": [
       "[1] 14"
      ]
     },
     "metadata": {},
     "output_type": "display_data"
    }
   ],
   "source": [
    "## Make Supplementary Table\n",
    "results_table = bind_rows(results, .id = 'Geno_ID') %>% select(Geno_ID, ID, GENE, geno01, dosage)\n",
    "rownames(results_table) = c(1:nrow(results_table))\n",
    "results_table = left_join(results_table, sample_meta[, c('Geno_ID', 'Sample')], by = 'Geno_ID')[, c(1, 6, 2, 3, 4, 5)]\n",
    "colnames(results_table) = c('Geno_ID', 'Sample', 'Allele', 'Gene', 'GT', 'dosage')\n",
    "write.csv(results_table, '../../data/hla_alleles/HLA_alleles_table_Smillie_ccdg.csv')\n",
    "results_table %>% head(4)\n",
    "results_table$Sample %>% unique() %>% length()"
   ]
  },
  {
   "cell_type": "markdown",
   "id": "66dc629b-3a35-4d18-8525-b5e03cb328a5",
   "metadata": {},
   "source": [
    "# New Panel | SNP2HLA | Smillie Helmsley \n",
    "(PRISM and Xavier merged)"
   ]
  },
  {
   "cell_type": "markdown",
   "id": "75a9ad20-bcfe-4382-8a89-4a8dbc724f05",
   "metadata": {},
   "source": [
    "## Read in imputation file\n"
   ]
  },
  {
   "cell_type": "code",
   "execution_count": 25,
   "id": "2e665f27-6317-40e5-8045-a0ab2b95ce4e",
   "metadata": {},
   "outputs": [
    {
     "data": {
      "text/html": [
       "<table class=\"dataframe\">\n",
       "<caption>A matrix: 4 × 8 of type chr</caption>\n",
       "<thead>\n",
       "\t<tr><th scope=col>CHROM</th><th scope=col>POS</th><th scope=col>ID</th><th scope=col>REF</th><th scope=col>ALT</th><th scope=col>QUAL</th><th scope=col>FILTER</th><th scope=col>INFO</th></tr>\n",
       "</thead>\n",
       "<tbody>\n",
       "\t<tr><td>6</td><td>27970031</td><td>rs149946  </td><td>G</td><td>T</td><td>NA</td><td>PASS</td><td>AR2=0.96;DR2=0.97;AF=0.22;IMP </td></tr>\n",
       "\t<tr><td>6</td><td>27976200</td><td>rs9380032 </td><td>G</td><td>T</td><td>NA</td><td>PASS</td><td>AR2=0.83;DR2=0.85;AF=0.035;IMP</td></tr>\n",
       "\t<tr><td>6</td><td>27979188</td><td>rs4141691 </td><td>A</td><td>G</td><td>NA</td><td>PASS</td><td>AR2=0.85;DR2=0.86;AF=0.11;IMP </td></tr>\n",
       "\t<tr><td>6</td><td>27979625</td><td>rs10484402</td><td>A</td><td>G</td><td>NA</td><td>PASS</td><td>AR2=0.83;DR2=0.85;AF=0.037;IMP</td></tr>\n",
       "</tbody>\n",
       "</table>\n"
      ],
      "text/latex": [
       "A matrix: 4 × 8 of type chr\n",
       "\\begin{tabular}{llllllll}\n",
       " CHROM & POS & ID & REF & ALT & QUAL & FILTER & INFO\\\\\n",
       "\\hline\n",
       "\t 6 & 27970031 & rs149946   & G & T & NA & PASS & AR2=0.96;DR2=0.97;AF=0.22;IMP \\\\\n",
       "\t 6 & 27976200 & rs9380032  & G & T & NA & PASS & AR2=0.83;DR2=0.85;AF=0.035;IMP\\\\\n",
       "\t 6 & 27979188 & rs4141691  & A & G & NA & PASS & AR2=0.85;DR2=0.86;AF=0.11;IMP \\\\\n",
       "\t 6 & 27979625 & rs10484402 & A & G & NA & PASS & AR2=0.83;DR2=0.85;AF=0.037;IMP\\\\\n",
       "\\end{tabular}\n"
      ],
      "text/markdown": [
       "\n",
       "A matrix: 4 × 8 of type chr\n",
       "\n",
       "| CHROM | POS | ID | REF | ALT | QUAL | FILTER | INFO |\n",
       "|---|---|---|---|---|---|---|---|\n",
       "| 6 | 27970031 | rs149946   | G | T | NA | PASS | AR2=0.96;DR2=0.97;AF=0.22;IMP  |\n",
       "| 6 | 27976200 | rs9380032  | G | T | NA | PASS | AR2=0.83;DR2=0.85;AF=0.035;IMP |\n",
       "| 6 | 27979188 | rs4141691  | A | G | NA | PASS | AR2=0.85;DR2=0.86;AF=0.11;IMP  |\n",
       "| 6 | 27979625 | rs10484402 | A | G | NA | PASS | AR2=0.83;DR2=0.85;AF=0.037;IMP |\n",
       "\n"
      ],
      "text/plain": [
       "     CHROM POS      ID         REF ALT QUAL FILTER\n",
       "[1,] 6     27970031 rs149946   G   T   NA   PASS  \n",
       "[2,] 6     27976200 rs9380032  G   T   NA   PASS  \n",
       "[3,] 6     27979188 rs4141691  A   G   NA   PASS  \n",
       "[4,] 6     27979625 rs10484402 A   G   NA   PASS  \n",
       "     INFO                          \n",
       "[1,] AR2=0.96;DR2=0.97;AF=0.22;IMP \n",
       "[2,] AR2=0.83;DR2=0.85;AF=0.035;IMP\n",
       "[3,] AR2=0.85;DR2=0.86;AF=0.11;IMP \n",
       "[4,] AR2=0.83;DR2=0.85;AF=0.037;IMP"
      ]
     },
     "metadata": {},
     "output_type": "display_data"
    },
    {
     "data": {
      "text/html": [
       "<table class=\"dataframe\">\n",
       "<caption>A matrix: 4 × 2122 of type chr</caption>\n",
       "<thead>\n",
       "\t<tr><th scope=col>FORMAT</th><th scope=col>200554340003_R01C01</th><th scope=col>200554340003_R01C02</th><th scope=col>200554340003_R02C01</th><th scope=col>200554340003_R02C02</th><th scope=col>200554340003_R03C01</th><th scope=col>200554340003_R03C02</th><th scope=col>200554340003_R04C01</th><th scope=col>200554340003_R04C02</th><th scope=col>200554340003_R05C01</th><th scope=col>⋯</th><th scope=col>200557070155_R07C02</th><th scope=col>200557070155_R08C01</th><th scope=col>200557070155_R08C02</th><th scope=col>200557070155_R09C01</th><th scope=col>200557070155_R09C02</th><th scope=col>200557070155_R10C01</th><th scope=col>200557070155_R10C02</th><th scope=col>200557070155_R11C01</th><th scope=col>200557070155_R11C02</th><th scope=col>200557070155_R12C02</th></tr>\n",
       "</thead>\n",
       "<tbody>\n",
       "\t<tr><td>GT:DS:GP</td><td>0|0:0:1,0,0</td><td>1|0:1:0,1,0</td><td>0|0:0:1,0,0</td><td>0|1:1:0,1,0</td><td>0|0:0:1,0,0</td><td>0|1:1:0,1,0</td><td>1|0:1:0,1,0</td><td>0|1:1:0,1,0         </td><td>0|0:0:1,0,0         </td><td>⋯</td><td>1|0:1:0,1,0         </td><td>0|1:1:0,1,0</td><td>0|0:0:1,0,0</td><td>0|0:0:1,0,0</td><td>0|0:0:1,0,0</td><td>0|1:1:0,1,0         </td><td>1|1:2:0,0,1         </td><td>0|0:0:1,0,0</td><td>0|0:0:1,0,0</td><td>0|0:0:1,0,0</td></tr>\n",
       "\t<tr><td>GT:DS:GP</td><td>0|0:0:1,0,0</td><td>0|0:0:1,0,0</td><td>0|0:0:1,0,0</td><td>0|0:0:1,0,0</td><td>0|0:0:1,0,0</td><td>0|0:0:1,0,0</td><td>0|0:0:1,0,0</td><td>0|1:0.98:0.03,0.97,0</td><td>0|0:0:1,0,0         </td><td>⋯</td><td>0|0:0.02:0.98,0.02,0</td><td>0|0:0:1,0,0</td><td>0|0:0:1,0,0</td><td>0|0:0:1,0,0</td><td>0|0:0:1,0,0</td><td>0|0:0:1,0,0         </td><td>0|1:0.97:0.03,0.97,0</td><td>0|0:0:1,0,0</td><td>0|0:0:1,0,0</td><td>0|0:0:1,0,0</td></tr>\n",
       "\t<tr><td>GT:DS:GP</td><td>0|0:0:1,0,0</td><td>0|0:0:1,0,0</td><td>0|0:0:1,0,0</td><td>0|0:0:1,0,0</td><td>0|0:0:1,0,0</td><td>0|0:0:1,0,0</td><td>0|0:0:1,0,0</td><td>0|0:0:1,0,0         </td><td>1|0:0.94:0.06,0.94,0</td><td>⋯</td><td>0|1:0.52:0.49,0.51,0</td><td>0|0:0:1,0,0</td><td>0|0:0:1,0,0</td><td>0|0:0:1,0,0</td><td>0|0:0:1,0,0</td><td>0|0:0.46:0.54,0.46,0</td><td>0|0:0:1,0,0         </td><td>0|0:0:1,0,0</td><td>0|0:0:1,0,0</td><td>0|0:0:1,0,0</td></tr>\n",
       "\t<tr><td>GT:DS:GP</td><td>0|0:0:1,0,0</td><td>0|0:0:1,0,0</td><td>0|0:0:1,0,0</td><td>0|0:0:1,0,0</td><td>0|0:0:1,0,0</td><td>0|0:0:1,0,0</td><td>0|0:0:1,0,0</td><td>0|0:0:1,0,0         </td><td>0|0:0:1,0,0         </td><td>⋯</td><td>0|0:0:1,0,0         </td><td>0|0:0:1,0,0</td><td>0|0:0:1,0,0</td><td>0|0:0:1,0,0</td><td>0|0:0:1,0,0</td><td>0|0:0:1,0,0         </td><td>0|0:0:1,0,0         </td><td>0|0:0:1,0,0</td><td>0|0:0:1,0,0</td><td>0|0:0:1,0,0</td></tr>\n",
       "</tbody>\n",
       "</table>\n"
      ],
      "text/latex": [
       "A matrix: 4 × 2122 of type chr\n",
       "\\begin{tabular}{lllllllllllllllllllll}\n",
       " FORMAT & 200554340003\\_R01C01 & 200554340003\\_R01C02 & 200554340003\\_R02C01 & 200554340003\\_R02C02 & 200554340003\\_R03C01 & 200554340003\\_R03C02 & 200554340003\\_R04C01 & 200554340003\\_R04C02 & 200554340003\\_R05C01 & ⋯ & 200557070155\\_R07C02 & 200557070155\\_R08C01 & 200557070155\\_R08C02 & 200557070155\\_R09C01 & 200557070155\\_R09C02 & 200557070155\\_R10C01 & 200557070155\\_R10C02 & 200557070155\\_R11C01 & 200557070155\\_R11C02 & 200557070155\\_R12C02\\\\\n",
       "\\hline\n",
       "\t GT:DS:GP & 0\\textbar{}0:0:1,0,0 & 1\\textbar{}0:1:0,1,0 & 0\\textbar{}0:0:1,0,0 & 0\\textbar{}1:1:0,1,0 & 0\\textbar{}0:0:1,0,0 & 0\\textbar{}1:1:0,1,0 & 1\\textbar{}0:1:0,1,0 & 0\\textbar{}1:1:0,1,0          & 0\\textbar{}0:0:1,0,0          & ⋯ & 1\\textbar{}0:1:0,1,0          & 0\\textbar{}1:1:0,1,0 & 0\\textbar{}0:0:1,0,0 & 0\\textbar{}0:0:1,0,0 & 0\\textbar{}0:0:1,0,0 & 0\\textbar{}1:1:0,1,0          & 1\\textbar{}1:2:0,0,1          & 0\\textbar{}0:0:1,0,0 & 0\\textbar{}0:0:1,0,0 & 0\\textbar{}0:0:1,0,0\\\\\n",
       "\t GT:DS:GP & 0\\textbar{}0:0:1,0,0 & 0\\textbar{}0:0:1,0,0 & 0\\textbar{}0:0:1,0,0 & 0\\textbar{}0:0:1,0,0 & 0\\textbar{}0:0:1,0,0 & 0\\textbar{}0:0:1,0,0 & 0\\textbar{}0:0:1,0,0 & 0\\textbar{}1:0.98:0.03,0.97,0 & 0\\textbar{}0:0:1,0,0          & ⋯ & 0\\textbar{}0:0.02:0.98,0.02,0 & 0\\textbar{}0:0:1,0,0 & 0\\textbar{}0:0:1,0,0 & 0\\textbar{}0:0:1,0,0 & 0\\textbar{}0:0:1,0,0 & 0\\textbar{}0:0:1,0,0          & 0\\textbar{}1:0.97:0.03,0.97,0 & 0\\textbar{}0:0:1,0,0 & 0\\textbar{}0:0:1,0,0 & 0\\textbar{}0:0:1,0,0\\\\\n",
       "\t GT:DS:GP & 0\\textbar{}0:0:1,0,0 & 0\\textbar{}0:0:1,0,0 & 0\\textbar{}0:0:1,0,0 & 0\\textbar{}0:0:1,0,0 & 0\\textbar{}0:0:1,0,0 & 0\\textbar{}0:0:1,0,0 & 0\\textbar{}0:0:1,0,0 & 0\\textbar{}0:0:1,0,0          & 1\\textbar{}0:0.94:0.06,0.94,0 & ⋯ & 0\\textbar{}1:0.52:0.49,0.51,0 & 0\\textbar{}0:0:1,0,0 & 0\\textbar{}0:0:1,0,0 & 0\\textbar{}0:0:1,0,0 & 0\\textbar{}0:0:1,0,0 & 0\\textbar{}0:0.46:0.54,0.46,0 & 0\\textbar{}0:0:1,0,0          & 0\\textbar{}0:0:1,0,0 & 0\\textbar{}0:0:1,0,0 & 0\\textbar{}0:0:1,0,0\\\\\n",
       "\t GT:DS:GP & 0\\textbar{}0:0:1,0,0 & 0\\textbar{}0:0:1,0,0 & 0\\textbar{}0:0:1,0,0 & 0\\textbar{}0:0:1,0,0 & 0\\textbar{}0:0:1,0,0 & 0\\textbar{}0:0:1,0,0 & 0\\textbar{}0:0:1,0,0 & 0\\textbar{}0:0:1,0,0          & 0\\textbar{}0:0:1,0,0          & ⋯ & 0\\textbar{}0:0:1,0,0          & 0\\textbar{}0:0:1,0,0 & 0\\textbar{}0:0:1,0,0 & 0\\textbar{}0:0:1,0,0 & 0\\textbar{}0:0:1,0,0 & 0\\textbar{}0:0:1,0,0          & 0\\textbar{}0:0:1,0,0          & 0\\textbar{}0:0:1,0,0 & 0\\textbar{}0:0:1,0,0 & 0\\textbar{}0:0:1,0,0\\\\\n",
       "\\end{tabular}\n"
      ],
      "text/markdown": [
       "\n",
       "A matrix: 4 × 2122 of type chr\n",
       "\n",
       "| FORMAT | 200554340003_R01C01 | 200554340003_R01C02 | 200554340003_R02C01 | 200554340003_R02C02 | 200554340003_R03C01 | 200554340003_R03C02 | 200554340003_R04C01 | 200554340003_R04C02 | 200554340003_R05C01 | ⋯ | 200557070155_R07C02 | 200557070155_R08C01 | 200557070155_R08C02 | 200557070155_R09C01 | 200557070155_R09C02 | 200557070155_R10C01 | 200557070155_R10C02 | 200557070155_R11C01 | 200557070155_R11C02 | 200557070155_R12C02 |\n",
       "|---|---|---|---|---|---|---|---|---|---|---|---|---|---|---|---|---|---|---|---|---|\n",
       "| GT:DS:GP | 0|0:0:1,0,0 | 1|0:1:0,1,0 | 0|0:0:1,0,0 | 0|1:1:0,1,0 | 0|0:0:1,0,0 | 0|1:1:0,1,0 | 1|0:1:0,1,0 | 0|1:1:0,1,0          | 0|0:0:1,0,0          | ⋯ | 1|0:1:0,1,0          | 0|1:1:0,1,0 | 0|0:0:1,0,0 | 0|0:0:1,0,0 | 0|0:0:1,0,0 | 0|1:1:0,1,0          | 1|1:2:0,0,1          | 0|0:0:1,0,0 | 0|0:0:1,0,0 | 0|0:0:1,0,0 |\n",
       "| GT:DS:GP | 0|0:0:1,0,0 | 0|0:0:1,0,0 | 0|0:0:1,0,0 | 0|0:0:1,0,0 | 0|0:0:1,0,0 | 0|0:0:1,0,0 | 0|0:0:1,0,0 | 0|1:0.98:0.03,0.97,0 | 0|0:0:1,0,0          | ⋯ | 0|0:0.02:0.98,0.02,0 | 0|0:0:1,0,0 | 0|0:0:1,0,0 | 0|0:0:1,0,0 | 0|0:0:1,0,0 | 0|0:0:1,0,0          | 0|1:0.97:0.03,0.97,0 | 0|0:0:1,0,0 | 0|0:0:1,0,0 | 0|0:0:1,0,0 |\n",
       "| GT:DS:GP | 0|0:0:1,0,0 | 0|0:0:1,0,0 | 0|0:0:1,0,0 | 0|0:0:1,0,0 | 0|0:0:1,0,0 | 0|0:0:1,0,0 | 0|0:0:1,0,0 | 0|0:0:1,0,0          | 1|0:0.94:0.06,0.94,0 | ⋯ | 0|1:0.52:0.49,0.51,0 | 0|0:0:1,0,0 | 0|0:0:1,0,0 | 0|0:0:1,0,0 | 0|0:0:1,0,0 | 0|0:0.46:0.54,0.46,0 | 0|0:0:1,0,0          | 0|0:0:1,0,0 | 0|0:0:1,0,0 | 0|0:0:1,0,0 |\n",
       "| GT:DS:GP | 0|0:0:1,0,0 | 0|0:0:1,0,0 | 0|0:0:1,0,0 | 0|0:0:1,0,0 | 0|0:0:1,0,0 | 0|0:0:1,0,0 | 0|0:0:1,0,0 | 0|0:0:1,0,0          | 0|0:0:1,0,0          | ⋯ | 0|0:0:1,0,0          | 0|0:0:1,0,0 | 0|0:0:1,0,0 | 0|0:0:1,0,0 | 0|0:0:1,0,0 | 0|0:0:1,0,0          | 0|0:0:1,0,0          | 0|0:0:1,0,0 | 0|0:0:1,0,0 | 0|0:0:1,0,0 |\n",
       "\n"
      ],
      "text/plain": [
       "     FORMAT   200554340003_R01C01 200554340003_R01C02 200554340003_R02C01\n",
       "[1,] GT:DS:GP 0|0:0:1,0,0         1|0:1:0,1,0         0|0:0:1,0,0        \n",
       "[2,] GT:DS:GP 0|0:0:1,0,0         0|0:0:1,0,0         0|0:0:1,0,0        \n",
       "[3,] GT:DS:GP 0|0:0:1,0,0         0|0:0:1,0,0         0|0:0:1,0,0        \n",
       "[4,] GT:DS:GP 0|0:0:1,0,0         0|0:0:1,0,0         0|0:0:1,0,0        \n",
       "     200554340003_R02C02 200554340003_R03C01 200554340003_R03C02\n",
       "[1,] 0|1:1:0,1,0         0|0:0:1,0,0         0|1:1:0,1,0        \n",
       "[2,] 0|0:0:1,0,0         0|0:0:1,0,0         0|0:0:1,0,0        \n",
       "[3,] 0|0:0:1,0,0         0|0:0:1,0,0         0|0:0:1,0,0        \n",
       "[4,] 0|0:0:1,0,0         0|0:0:1,0,0         0|0:0:1,0,0        \n",
       "     200554340003_R04C01 200554340003_R04C02  200554340003_R05C01  ⋯\n",
       "[1,] 1|0:1:0,1,0         0|1:1:0,1,0          0|0:0:1,0,0          ⋯\n",
       "[2,] 0|0:0:1,0,0         0|1:0.98:0.03,0.97,0 0|0:0:1,0,0          ⋯\n",
       "[3,] 0|0:0:1,0,0         0|0:0:1,0,0          1|0:0.94:0.06,0.94,0 ⋯\n",
       "[4,] 0|0:0:1,0,0         0|0:0:1,0,0          0|0:0:1,0,0          ⋯\n",
       "     200557070155_R07C02  200557070155_R08C01 200557070155_R08C02\n",
       "[1,] 1|0:1:0,1,0          0|1:1:0,1,0         0|0:0:1,0,0        \n",
       "[2,] 0|0:0.02:0.98,0.02,0 0|0:0:1,0,0         0|0:0:1,0,0        \n",
       "[3,] 0|1:0.52:0.49,0.51,0 0|0:0:1,0,0         0|0:0:1,0,0        \n",
       "[4,] 0|0:0:1,0,0          0|0:0:1,0,0         0|0:0:1,0,0        \n",
       "     200557070155_R09C01 200557070155_R09C02 200557070155_R10C01 \n",
       "[1,] 0|0:0:1,0,0         0|0:0:1,0,0         0|1:1:0,1,0         \n",
       "[2,] 0|0:0:1,0,0         0|0:0:1,0,0         0|0:0:1,0,0         \n",
       "[3,] 0|0:0:1,0,0         0|0:0:1,0,0         0|0:0.46:0.54,0.46,0\n",
       "[4,] 0|0:0:1,0,0         0|0:0:1,0,0         0|0:0:1,0,0         \n",
       "     200557070155_R10C02  200557070155_R11C01 200557070155_R11C02\n",
       "[1,] 1|1:2:0,0,1          0|0:0:1,0,0         0|0:0:1,0,0        \n",
       "[2,] 0|1:0.97:0.03,0.97,0 0|0:0:1,0,0         0|0:0:1,0,0        \n",
       "[3,] 0|0:0:1,0,0          0|0:0:1,0,0         0|0:0:1,0,0        \n",
       "[4,] 0|0:0:1,0,0          0|0:0:1,0,0         0|0:0:1,0,0        \n",
       "     200557070155_R12C02\n",
       "[1,] 0|0:0:1,0,0        \n",
       "[2,] 0|0:0:1,0,0        \n",
       "[3,] 0|0:0:1,0,0        \n",
       "[4,] 0|0:0:1,0,0        "
      ]
     },
     "metadata": {},
     "output_type": "display_data"
    },
    {
     "data": {
      "image/png": "[encoded data removed]",
      "text/plain": [
       "plot without title"
      ]
     },
     "metadata": {
      "image/png": {
       "height": 400,
       "width": 600
      }
     },
     "output_type": "display_data"
    }
   ],
   "source": [
    "vcf_filepath = paste0('/data/srlab/ssakaue/share/forJoyce/Helmsley_merged_final.maf0.01.MHC.SNP2HLA.bgl.phased.vcf.gz')\n",
    "vcf = read.vcfR(vcf_filepath, verbose = FALSE)\n",
    "vcf@fix %>% head(4)\n",
    "vcf@gt %>% head(4)\n",
    "\n",
    "res = make_imputation_results(vcf_filepath)\n",
    "res$p2"
   ]
  },
  {
   "cell_type": "markdown",
   "id": "f83b67ae-1f8f-4230-9689-7401ac05f179",
   "metadata": {},
   "source": [
    "## Imputation quality for 4-digit alleles"
   ]
  },
  {
   "cell_type": "code",
   "execution_count": 26,
   "id": "354577e8-f5ea-49c9-a38b-d7d9ddeeb27f",
   "metadata": {},
   "outputs": [
    {
     "data": {
      "text/html": [
       "423"
      ],
      "text/latex": [
       "423"
      ],
      "text/markdown": [
       "423"
      ],
      "text/plain": [
       "[1] 423"
      ]
     },
     "metadata": {},
     "output_type": "display_data"
    }
   ],
   "source": [
    "vcf_4digit = res$vcf_fix_df[which(res$vcf_fix_df$ndigit == 4), ]\n",
    "length(unique(vcf_4digit$ID))\n",
    "vcf_4digit_Smillie2 = vcf_4digit %>% mutate(dataset = 'Smillie_custom')\n",
    "\n",
    "## Subset to only include MAF>1%\n",
    "Smillie2_maf1 = vcf_4digit[which(vcf_4digit$AF > 0.01), ] %>%\n",
    "    group_by(GENE) %>%\n",
    "    summarise(mean = mean(DR2))\n",
    "\n",
    "## Subset to only include MAF>5%\n",
    "Smillie2_maf5 = vcf_4digit[which(vcf_4digit$AF > 0.05), ] %>%\n",
    "    group_by(GENE) %>%\n",
    "    summarise(mean = mean(DR2))"
   ]
  },
  {
   "cell_type": "markdown",
   "id": "6fe23d91-6f8b-43db-be8f-8201a31fd136",
   "metadata": {},
   "source": [
    "## Get Inferred HLA alleles for each individual"
   ]
  },
  {
   "cell_type": "code",
   "execution_count": 27,
   "id": "76345fd4-6f71-4c89-8c46-c5457aaf0c12",
   "metadata": {},
   "outputs": [
    {
     "data": {
      "text/html": [
       "2121"
      ],
      "text/latex": [
       "2121"
      ],
      "text/markdown": [
       "2121"
      ],
      "text/plain": [
       "[1] 2121"
      ]
     },
     "metadata": {},
     "output_type": "display_data"
    }
   ],
   "source": [
    "d = cbind(res$vcf_fix_df, res$vcf_hla@gt) %>% as.data.frame()\n",
    "\n",
    "samples = colnames(res$vcf_hla@gt)\n",
    "samples = samples[-1] # remove FORMAT column\n",
    "length(samples)"
   ]
  },
  {
   "cell_type": "markdown",
   "id": "37722b0a-8a0c-4672-90cd-3138c413ba55",
   "metadata": {},
   "source": [
    "## Subset to IBD Samples"
   ]
  },
  {
   "cell_type": "code",
   "execution_count": 28,
   "id": "fcd32585-6361-4ce2-9928-cfb7867d06f5",
   "metadata": {},
   "outputs": [],
   "source": [
    "sample_meta <- read.csv(\"../../data/meta/sample_meta_Smillie.csv\")"
   ]
  },
  {
   "cell_type": "code",
   "execution_count": 29,
   "id": "d7e8d71f-2714-4db4-9a6b-2f87f4e3689c",
   "metadata": {},
   "outputs": [],
   "source": [
    "# Get list of confidently called alleles\n",
    "results = list()\n",
    "for (samp in sample_meta$Geno_ID[sample_meta$Geno_ID %in% colnames(d)]) {\n",
    "    d_samp = d[, c('REF', 'ID', 'GENE', samp, 'ndigit')] %>% filter(ndigit > 2)\n",
    "    d_samp_haszero = separate(data = d_samp, col = samp, into = c(\"geno01\", \"col1\", \"col2\"), sep = \":\") \n",
    "    d_samp_haszero$count = ifelse(d_samp_haszero[, 'REF'] == \"T\", \n",
    "                                  recode(d_samp_haszero$geno01,'0|0' = 2, '1|0' = 1, '0|1' = 1, '1|1' = 0), \n",
    "                                  recode(d_samp_haszero$geno01,'0|0' = 0, '1|0' = 1, '0|1' = 1, '1|1' = 2))\n",
    "    d_samp_haszero$dosage = ifelse(d_samp_haszero[, 'REF'] == \"T\", \n",
    "                                   2 - as.numeric(d_samp_haszero$col1), \n",
    "                                   as.numeric(d_samp_haszero$col1))\n",
    "    results[[samp]] = d_samp_haszero %>% filter(count == 1 | count == 2)\n",
    "}\n",
    "saveRDS(results, '../../data/hla_alleles/Helmsley_updated.new.ref_results.rds')"
   ]
  },
  {
   "cell_type": "code",
   "execution_count": 30,
   "id": "197ba60f-d8e9-4092-9ddb-39ad3b440232",
   "metadata": {},
   "outputs": [],
   "source": [
    "results_allAlleles = list()\n",
    "for (samp in sample_meta$Geno_ID[sample_meta$Geno_ID %in% colnames(d)]) {\n",
    "d_samp = d[, c('REF', 'ID', 'GENE', samp, 'ndigit')] %>% filter(ndigit > 2)\n",
    "    d_samp_haszero = separate(data = d_samp, col = samp, into = c(\"geno01\", \"col1\", \"col2\"), sep = \":\") \n",
    "    d_samp_haszero$count = ifelse(d_samp_haszero[, 'REF'] == \"T\", \n",
    "                                  recode(d_samp_haszero$geno01,'0|0' = 2, '1|0' = 1, '0|1' = 1, '1|1' = 0), \n",
    "                                  recode(d_samp_haszero$geno01,'0|0' = 0, '1|0' = 1, '0|1' = 1, '1|1' = 2))\n",
    "    d_samp_haszero$dosage = ifelse(d_samp_haszero[, 'REF'] == \"T\", \n",
    "                                   2 - as.numeric(d_samp_haszero$col1), \n",
    "                                   as.numeric(d_samp_haszero$col1))\n",
    "    results_allAlleles[[samp]] = d_samp_haszero\n",
    "}\n",
    "saveRDS(results_allAlleles, '../../data/hla_alleles/Helmsley_updated.new.ref_all.results.rds')"
   ]
  },
  {
   "cell_type": "markdown",
   "id": "d44f7fc0-8705-4599-aba7-8c0d666d4891",
   "metadata": {},
   "source": [
    "## Manual inspection"
   ]
  },
  {
   "cell_type": "code",
   "execution_count": 31,
   "id": "989dd6b8-763e-47a1-a866-72b6cc16078d",
   "metadata": {},
   "outputs": [],
   "source": [
    "df_missing <- data.frame(0,0,0)\n",
    "for (samp in sample_meta$Geno_ID[sample_meta$Geno_ID %in% colnames(d)]) {\n",
    "    res = results[[samp]]\n",
    "    \n",
    "    gene_sums = tapply(res$count, res$GENE, sum)\n",
    "    count_sum = sum(res$count)\n",
    "    \n",
    "    for (gene in c(\"HLA_A\", \"HLA_B\", \"HLA_C\", \"HLA_DRB1\", \"HLA_DQA1\", \"HLA_DQB1\", \"HLA_DPB1\", \"HLA_DPA1\")) {\n",
    "    if (gene_sums[gene] != 2) {\n",
    "        df_missing <- rbind(df_missing, c(samp, gene, gene_sums[gene]))\n",
    "        #print(res)\n",
    "    }\n",
    " }\n",
    "}\n",
    "df_missing <- df_missing[-1, ]"
   ]
  },
  {
   "cell_type": "code",
   "execution_count": 32,
   "id": "a0695005-7c4e-4715-8601-5d8b0d15c01c",
   "metadata": {},
   "outputs": [
    {
     "data": {
      "text/html": [
       "<table class=\"dataframe\">\n",
       "<caption>A data.frame: 2 × 3</caption>\n",
       "<thead>\n",
       "\t<tr><th></th><th scope=col>X0</th><th scope=col>X0.1</th><th scope=col>X0.2</th></tr>\n",
       "\t<tr><th></th><th scope=col>&lt;chr&gt;</th><th scope=col>&lt;chr&gt;</th><th scope=col>&lt;chr&gt;</th></tr>\n",
       "</thead>\n",
       "<tbody>\n",
       "\t<tr><th scope=row>2</th><td>200556980121_R09C01</td><td>HLA_A   </td><td>1</td></tr>\n",
       "\t<tr><th scope=row>3</th><td>200556970035_R10C02</td><td>HLA_DRB1</td><td>1</td></tr>\n",
       "</tbody>\n",
       "</table>\n"
      ],
      "text/latex": [
       "A data.frame: 2 × 3\n",
       "\\begin{tabular}{r|lll}\n",
       "  & X0 & X0.1 & X0.2\\\\\n",
       "  & <chr> & <chr> & <chr>\\\\\n",
       "\\hline\n",
       "\t2 & 200556980121\\_R09C01 & HLA\\_A    & 1\\\\\n",
       "\t3 & 200556970035\\_R10C02 & HLA\\_DRB1 & 1\\\\\n",
       "\\end{tabular}\n"
      ],
      "text/markdown": [
       "\n",
       "A data.frame: 2 × 3\n",
       "\n",
       "| <!--/--> | X0 &lt;chr&gt; | X0.1 &lt;chr&gt; | X0.2 &lt;chr&gt; |\n",
       "|---|---|---|---|\n",
       "| 2 | 200556980121_R09C01 | HLA_A    | 1 |\n",
       "| 3 | 200556970035_R10C02 | HLA_DRB1 | 1 |\n",
       "\n"
      ],
      "text/plain": [
       "  X0                  X0.1     X0.2\n",
       "2 200556980121_R09C01 HLA_A    1   \n",
       "3 200556970035_R10C02 HLA_DRB1 1   "
      ]
     },
     "metadata": {},
     "output_type": "display_data"
    }
   ],
   "source": [
    "df_missing"
   ]
  },
  {
   "cell_type": "code",
   "execution_count": 33,
   "id": "34887714-4993-499e-bcaf-9f7871281969",
   "metadata": {},
   "outputs": [
    {
     "data": {
      "text/html": [
       "<table class=\"dataframe\">\n",
       "<caption>A data.frame: 9 × 9</caption>\n",
       "<thead>\n",
       "\t<tr><th scope=col>REF</th><th scope=col>ID</th><th scope=col>GENE</th><th scope=col>geno01</th><th scope=col>col1</th><th scope=col>col2</th><th scope=col>ndigit</th><th scope=col>count</th><th scope=col>dosage</th></tr>\n",
       "\t<tr><th scope=col>&lt;chr&gt;</th><th scope=col>&lt;chr&gt;</th><th scope=col>&lt;chr&gt;</th><th scope=col>&lt;chr&gt;</th><th scope=col>&lt;chr&gt;</th><th scope=col>&lt;chr&gt;</th><th scope=col>&lt;dbl&gt;</th><th scope=col>&lt;dbl&gt;</th><th scope=col>&lt;dbl&gt;</th></tr>\n",
       "</thead>\n",
       "<tbody>\n",
       "\t<tr><td>A</td><td>HLA_A*02:01</td><td>HLA_A</td><td>0|1</td><td>1   </td><td>0,0.99,0.01</td><td>4</td><td>1</td><td>1.00</td></tr>\n",
       "\t<tr><td>A</td><td>HLA_A*25:01</td><td>HLA_A</td><td>0|0</td><td>0.15</td><td>0.85,0.15,0</td><td>4</td><td>0</td><td>0.15</td></tr>\n",
       "\t<tr><td>A</td><td>HLA_A*26:01</td><td>HLA_A</td><td>0|0</td><td>0.27</td><td>0.73,0.27,0</td><td>4</td><td>0</td><td>0.27</td></tr>\n",
       "\t<tr><td>A</td><td>HLA_A*26:08</td><td>HLA_A</td><td>0|0</td><td>0.01</td><td>0.99,0.01,0</td><td>4</td><td>0</td><td>0.01</td></tr>\n",
       "\t<tr><td>A</td><td>HLA_A*29:02</td><td>HLA_A</td><td>0|0</td><td>0.32</td><td>0.68,0.32,0</td><td>4</td><td>0</td><td>0.32</td></tr>\n",
       "\t<tr><td>A</td><td>HLA_A*34:02</td><td>HLA_A</td><td>0|0</td><td>0.12</td><td>0.88,0.12,0</td><td>4</td><td>0</td><td>0.12</td></tr>\n",
       "\t<tr><td>A</td><td>HLA_A*66:01</td><td>HLA_A</td><td>0|0</td><td>0.09</td><td>0.91,0.09,0</td><td>4</td><td>0</td><td>0.09</td></tr>\n",
       "\t<tr><td>A</td><td>HLA_A*66:02</td><td>HLA_A</td><td>0|0</td><td>0.02</td><td>0.98,0.02,0</td><td>4</td><td>0</td><td>0.02</td></tr>\n",
       "\t<tr><td>A</td><td>HLA_A*66:03</td><td>HLA_A</td><td>0|0</td><td>0.01</td><td>0.99,0.01,0</td><td>4</td><td>0</td><td>0.01</td></tr>\n",
       "</tbody>\n",
       "</table>\n"
      ],
      "text/latex": [
       "A data.frame: 9 × 9\n",
       "\\begin{tabular}{lllllllll}\n",
       " REF & ID & GENE & geno01 & col1 & col2 & ndigit & count & dosage\\\\\n",
       " <chr> & <chr> & <chr> & <chr> & <chr> & <chr> & <dbl> & <dbl> & <dbl>\\\\\n",
       "\\hline\n",
       "\t A & HLA\\_A*02:01 & HLA\\_A & 0\\textbar{}1 & 1    & 0,0.99,0.01 & 4 & 1 & 1.00\\\\\n",
       "\t A & HLA\\_A*25:01 & HLA\\_A & 0\\textbar{}0 & 0.15 & 0.85,0.15,0 & 4 & 0 & 0.15\\\\\n",
       "\t A & HLA\\_A*26:01 & HLA\\_A & 0\\textbar{}0 & 0.27 & 0.73,0.27,0 & 4 & 0 & 0.27\\\\\n",
       "\t A & HLA\\_A*26:08 & HLA\\_A & 0\\textbar{}0 & 0.01 & 0.99,0.01,0 & 4 & 0 & 0.01\\\\\n",
       "\t A & HLA\\_A*29:02 & HLA\\_A & 0\\textbar{}0 & 0.32 & 0.68,0.32,0 & 4 & 0 & 0.32\\\\\n",
       "\t A & HLA\\_A*34:02 & HLA\\_A & 0\\textbar{}0 & 0.12 & 0.88,0.12,0 & 4 & 0 & 0.12\\\\\n",
       "\t A & HLA\\_A*66:01 & HLA\\_A & 0\\textbar{}0 & 0.09 & 0.91,0.09,0 & 4 & 0 & 0.09\\\\\n",
       "\t A & HLA\\_A*66:02 & HLA\\_A & 0\\textbar{}0 & 0.02 & 0.98,0.02,0 & 4 & 0 & 0.02\\\\\n",
       "\t A & HLA\\_A*66:03 & HLA\\_A & 0\\textbar{}0 & 0.01 & 0.99,0.01,0 & 4 & 0 & 0.01\\\\\n",
       "\\end{tabular}\n"
      ],
      "text/markdown": [
       "\n",
       "A data.frame: 9 × 9\n",
       "\n",
       "| REF &lt;chr&gt; | ID &lt;chr&gt; | GENE &lt;chr&gt; | geno01 &lt;chr&gt; | col1 &lt;chr&gt; | col2 &lt;chr&gt; | ndigit &lt;dbl&gt; | count &lt;dbl&gt; | dosage &lt;dbl&gt; |\n",
       "|---|---|---|---|---|---|---|---|---|\n",
       "| A | HLA_A*02:01 | HLA_A | 0|1 | 1    | 0,0.99,0.01 | 4 | 1 | 1.00 |\n",
       "| A | HLA_A*25:01 | HLA_A | 0|0 | 0.15 | 0.85,0.15,0 | 4 | 0 | 0.15 |\n",
       "| A | HLA_A*26:01 | HLA_A | 0|0 | 0.27 | 0.73,0.27,0 | 4 | 0 | 0.27 |\n",
       "| A | HLA_A*26:08 | HLA_A | 0|0 | 0.01 | 0.99,0.01,0 | 4 | 0 | 0.01 |\n",
       "| A | HLA_A*29:02 | HLA_A | 0|0 | 0.32 | 0.68,0.32,0 | 4 | 0 | 0.32 |\n",
       "| A | HLA_A*34:02 | HLA_A | 0|0 | 0.12 | 0.88,0.12,0 | 4 | 0 | 0.12 |\n",
       "| A | HLA_A*66:01 | HLA_A | 0|0 | 0.09 | 0.91,0.09,0 | 4 | 0 | 0.09 |\n",
       "| A | HLA_A*66:02 | HLA_A | 0|0 | 0.02 | 0.98,0.02,0 | 4 | 0 | 0.02 |\n",
       "| A | HLA_A*66:03 | HLA_A | 0|0 | 0.01 | 0.99,0.01,0 | 4 | 0 | 0.01 |\n",
       "\n"
      ],
      "text/plain": [
       "  REF ID          GENE  geno01 col1 col2        ndigit count dosage\n",
       "1 A   HLA_A*02:01 HLA_A 0|1    1    0,0.99,0.01 4      1     1.00  \n",
       "2 A   HLA_A*25:01 HLA_A 0|0    0.15 0.85,0.15,0 4      0     0.15  \n",
       "3 A   HLA_A*26:01 HLA_A 0|0    0.27 0.73,0.27,0 4      0     0.27  \n",
       "4 A   HLA_A*26:08 HLA_A 0|0    0.01 0.99,0.01,0 4      0     0.01  \n",
       "5 A   HLA_A*29:02 HLA_A 0|0    0.32 0.68,0.32,0 4      0     0.32  \n",
       "6 A   HLA_A*34:02 HLA_A 0|0    0.12 0.88,0.12,0 4      0     0.12  \n",
       "7 A   HLA_A*66:01 HLA_A 0|0    0.09 0.91,0.09,0 4      0     0.09  \n",
       "8 A   HLA_A*66:02 HLA_A 0|0    0.02 0.98,0.02,0 4      0     0.02  \n",
       "9 A   HLA_A*66:03 HLA_A 0|0    0.01 0.99,0.01,0 4      0     0.01  "
      ]
     },
     "metadata": {},
     "output_type": "display_data"
    }
   ],
   "source": [
    "results_allAlleles[['200556980121_R09C01']] %>% filter(GENE == 'HLA_A', dosage != 0)"
   ]
  },
  {
   "cell_type": "code",
   "execution_count": 34,
   "id": "89d6bc9f-68bb-47d2-b444-81702bd79ccb",
   "metadata": {},
   "outputs": [
    {
     "name": "stdout",
     "output_type": "stream",
     "text": [
      "[1] 8\n"
     ]
    }
   ],
   "source": [
    "results <- results[- which(names(results) %in% df_missing$X0)]\n",
    "sample_names <- vector()\n",
    "i = 0\n",
    "for (name in names(results)) {\n",
    "    res = results[[name]][,c('ID', 'GENE', 'count')]\n",
    "    # List of alleles (save as XXX-XXX_alleles.txt)\n",
    "    sample_name <- sample_meta[sample_meta$Geno_ID == name, 'Sample']\n",
    "    write.csv(res, paste0('../../data/hla_alleles/Helmsley_merged/', \n",
    "                          sample_name, '_alleles.csv'), row.names = FALSE, quote = FALSE)\n",
    "    i = i + 1\n",
    "    sample_names <- c(sample_names, sample_name)\n",
    "}\n",
    "print(i)\n",
    "write.table(data.frame(names(results), sample_names), \n",
    "            \"../../data/hla_alleles/Helmsley_merged/Helmsley_final_samples.txt\", \n",
    "            col.names = FALSE, row.names = FALSE, quote = FALSE)"
   ]
  },
  {
   "cell_type": "code",
   "execution_count": 35,
   "id": "7dc6cb66-bd6c-4987-97e9-848b139940f6",
   "metadata": {},
   "outputs": [
    {
     "data": {
      "text/html": [
       "<table class=\"dataframe\">\n",
       "<caption>A data.frame: 4 × 6</caption>\n",
       "<thead>\n",
       "\t<tr><th></th><th scope=col>Geno_ID</th><th scope=col>Sample</th><th scope=col>Allele</th><th scope=col>Gene</th><th scope=col>GT</th><th scope=col>dosage</th></tr>\n",
       "\t<tr><th></th><th scope=col>&lt;chr&gt;</th><th scope=col>&lt;chr&gt;</th><th scope=col>&lt;chr&gt;</th><th scope=col>&lt;chr&gt;</th><th scope=col>&lt;chr&gt;</th><th scope=col>&lt;dbl&gt;</th></tr>\n",
       "</thead>\n",
       "<tbody>\n",
       "\t<tr><th scope=row>1</th><td>200557070016_R12C02</td><td>N14</td><td>HLA_A*11:01</td><td>HLA_A</td><td>1|0</td><td>1</td></tr>\n",
       "\t<tr><th scope=row>2</th><td>200557070016_R12C02</td><td>N14</td><td>HLA_A*24:02</td><td>HLA_A</td><td>0|1</td><td>1</td></tr>\n",
       "\t<tr><th scope=row>3</th><td>200557070016_R12C02</td><td>N14</td><td>HLA_C*04:01</td><td>HLA_C</td><td>0|1</td><td>1</td></tr>\n",
       "\t<tr><th scope=row>4</th><td>200557070016_R12C02</td><td>N14</td><td>HLA_C*07:02</td><td>HLA_C</td><td>1|0</td><td>1</td></tr>\n",
       "</tbody>\n",
       "</table>\n"
      ],
      "text/latex": [
       "A data.frame: 4 × 6\n",
       "\\begin{tabular}{r|llllll}\n",
       "  & Geno\\_ID & Sample & Allele & Gene & GT & dosage\\\\\n",
       "  & <chr> & <chr> & <chr> & <chr> & <chr> & <dbl>\\\\\n",
       "\\hline\n",
       "\t1 & 200557070016\\_R12C02 & N14 & HLA\\_A*11:01 & HLA\\_A & 1\\textbar{}0 & 1\\\\\n",
       "\t2 & 200557070016\\_R12C02 & N14 & HLA\\_A*24:02 & HLA\\_A & 0\\textbar{}1 & 1\\\\\n",
       "\t3 & 200557070016\\_R12C02 & N14 & HLA\\_C*04:01 & HLA\\_C & 0\\textbar{}1 & 1\\\\\n",
       "\t4 & 200557070016\\_R12C02 & N14 & HLA\\_C*07:02 & HLA\\_C & 1\\textbar{}0 & 1\\\\\n",
       "\\end{tabular}\n"
      ],
      "text/markdown": [
       "\n",
       "A data.frame: 4 × 6\n",
       "\n",
       "| <!--/--> | Geno_ID &lt;chr&gt; | Sample &lt;chr&gt; | Allele &lt;chr&gt; | Gene &lt;chr&gt; | GT &lt;chr&gt; | dosage &lt;dbl&gt; |\n",
       "|---|---|---|---|---|---|---|\n",
       "| 1 | 200557070016_R12C02 | N14 | HLA_A*11:01 | HLA_A | 1|0 | 1 |\n",
       "| 2 | 200557070016_R12C02 | N14 | HLA_A*24:02 | HLA_A | 0|1 | 1 |\n",
       "| 3 | 200557070016_R12C02 | N14 | HLA_C*04:01 | HLA_C | 0|1 | 1 |\n",
       "| 4 | 200557070016_R12C02 | N14 | HLA_C*07:02 | HLA_C | 1|0 | 1 |\n",
       "\n"
      ],
      "text/plain": [
       "  Geno_ID             Sample Allele      Gene  GT  dosage\n",
       "1 200557070016_R12C02 N14    HLA_A*11:01 HLA_A 1|0 1     \n",
       "2 200557070016_R12C02 N14    HLA_A*24:02 HLA_A 0|1 1     \n",
       "3 200557070016_R12C02 N14    HLA_C*04:01 HLA_C 0|1 1     \n",
       "4 200557070016_R12C02 N14    HLA_C*07:02 HLA_C 1|0 1     "
      ]
     },
     "metadata": {},
     "output_type": "display_data"
    },
    {
     "data": {
      "text/html": [
       "8"
      ],
      "text/latex": [
       "8"
      ],
      "text/markdown": [
       "8"
      ],
      "text/plain": [
       "[1] 8"
      ]
     },
     "metadata": {},
     "output_type": "display_data"
    }
   ],
   "source": [
    "## Make Supplementary Table\n",
    "results_table = bind_rows(results, .id = 'Geno_ID') %>% select(Geno_ID, ID, GENE, geno01, dosage)\n",
    "rownames(results_table) = c(1:nrow(results_table))\n",
    "results_table = left_join(results_table, sample_meta[, c('Geno_ID', 'Sample')], by = 'Geno_ID')[, c(1, 6, 2, 3, 4, 5)]\n",
    "colnames(results_table) = c('Geno_ID', 'Sample', 'Allele', 'Gene', 'GT', 'dosage')\n",
    "write.csv(results_table, '../../data/hla_alleles/HLA_alleles_table_Smillie_Helmsley.csv')\n",
    "results_table %>% head(4)\n",
    "results_table$Sample %>% unique() %>% length()"
   ]
  },
  {
   "cell_type": "markdown",
   "id": "b49c0ff3-614d-47db-9d85-6819b74739d5",
   "metadata": {},
   "source": [
    "# New Panel | SNP2HLA | Randolph"
   ]
  },
  {
   "cell_type": "markdown",
   "id": "9ed947f9-fffe-4967-9fec-9b2fb4a4ae36",
   "metadata": {},
   "source": [
    "## Read in imputation file"
   ]
  },
  {
   "cell_type": "code",
   "execution_count": 36,
   "id": "34f3e97f-52e1-4eaa-9c0a-1b4dbdf60373",
   "metadata": {},
   "outputs": [
    {
     "data": {
      "text/html": [
       "<table class=\"dataframe\">\n",
       "<caption>A matrix: 4 × 8 of type chr</caption>\n",
       "<thead>\n",
       "\t<tr><th scope=col>CHROM</th><th scope=col>POS</th><th scope=col>ID</th><th scope=col>REF</th><th scope=col>ALT</th><th scope=col>QUAL</th><th scope=col>FILTER</th><th scope=col>INFO</th></tr>\n",
       "</thead>\n",
       "<tbody>\n",
       "\t<tr><td>6</td><td>27970031</td><td>rs149946  </td><td>G</td><td>T</td><td>NA</td><td>PASS</td><td>AR2=0.99;DR2=0.99;AF=0.32;IMP </td></tr>\n",
       "\t<tr><td>6</td><td>27976200</td><td>rs9380032 </td><td>G</td><td>T</td><td>NA</td><td>PASS</td><td>AR2=0.83;DR2=0.85;AF=0.020;IMP</td></tr>\n",
       "\t<tr><td>6</td><td>27979188</td><td>rs4141691 </td><td>A</td><td>G</td><td>NA</td><td>PASS</td><td>AR2=0.90;DR2=0.91;AF=0.16;IMP </td></tr>\n",
       "\t<tr><td>6</td><td>27979625</td><td>rs10484402</td><td>A</td><td>G</td><td>NA</td><td>PASS</td><td>AR2=0.88;DR2=0.88;AF=0.054;IMP</td></tr>\n",
       "</tbody>\n",
       "</table>\n"
      ],
      "text/latex": [
       "A matrix: 4 × 8 of type chr\n",
       "\\begin{tabular}{llllllll}\n",
       " CHROM & POS & ID & REF & ALT & QUAL & FILTER & INFO\\\\\n",
       "\\hline\n",
       "\t 6 & 27970031 & rs149946   & G & T & NA & PASS & AR2=0.99;DR2=0.99;AF=0.32;IMP \\\\\n",
       "\t 6 & 27976200 & rs9380032  & G & T & NA & PASS & AR2=0.83;DR2=0.85;AF=0.020;IMP\\\\\n",
       "\t 6 & 27979188 & rs4141691  & A & G & NA & PASS & AR2=0.90;DR2=0.91;AF=0.16;IMP \\\\\n",
       "\t 6 & 27979625 & rs10484402 & A & G & NA & PASS & AR2=0.88;DR2=0.88;AF=0.054;IMP\\\\\n",
       "\\end{tabular}\n"
      ],
      "text/markdown": [
       "\n",
       "A matrix: 4 × 8 of type chr\n",
       "\n",
       "| CHROM | POS | ID | REF | ALT | QUAL | FILTER | INFO |\n",
       "|---|---|---|---|---|---|---|---|\n",
       "| 6 | 27970031 | rs149946   | G | T | NA | PASS | AR2=0.99;DR2=0.99;AF=0.32;IMP  |\n",
       "| 6 | 27976200 | rs9380032  | G | T | NA | PASS | AR2=0.83;DR2=0.85;AF=0.020;IMP |\n",
       "| 6 | 27979188 | rs4141691  | A | G | NA | PASS | AR2=0.90;DR2=0.91;AF=0.16;IMP  |\n",
       "| 6 | 27979625 | rs10484402 | A | G | NA | PASS | AR2=0.88;DR2=0.88;AF=0.054;IMP |\n",
       "\n"
      ],
      "text/plain": [
       "     CHROM POS      ID         REF ALT QUAL FILTER\n",
       "[1,] 6     27970031 rs149946   G   T   NA   PASS  \n",
       "[2,] 6     27976200 rs9380032  G   T   NA   PASS  \n",
       "[3,] 6     27979188 rs4141691  A   G   NA   PASS  \n",
       "[4,] 6     27979625 rs10484402 A   G   NA   PASS  \n",
       "     INFO                          \n",
       "[1,] AR2=0.99;DR2=0.99;AF=0.32;IMP \n",
       "[2,] AR2=0.83;DR2=0.85;AF=0.020;IMP\n",
       "[3,] AR2=0.90;DR2=0.91;AF=0.16;IMP \n",
       "[4,] AR2=0.88;DR2=0.88;AF=0.054;IMP"
      ]
     },
     "metadata": {},
     "output_type": "display_data"
    },
    {
     "data": {
      "text/html": [
       "<table class=\"dataframe\">\n",
       "<caption>A matrix: 4 × 91 of type chr</caption>\n",
       "<thead>\n",
       "\t<tr><th scope=col>FORMAT</th><th scope=col>EU02</th><th scope=col>EU03</th><th scope=col>HMN171215</th><th scope=col>HMN171216</th><th scope=col>HMN171217</th><th scope=col>HMN171218</th><th scope=col>HMN171219</th><th scope=col>HMN171220</th><th scope=col>HMN171221</th><th scope=col>⋯</th><th scope=col>HMN83571</th><th scope=col>HMN83572</th><th scope=col>HMN83573</th><th scope=col>HMN83574</th><th scope=col>HMN83575</th><th scope=col>HMN83576</th><th scope=col>HMN83577</th><th scope=col>HMN83578</th><th scope=col>HMN83579</th><th scope=col>HMN83580</th></tr>\n",
       "</thead>\n",
       "<tbody>\n",
       "\t<tr><td>GT:DS:GP</td><td>0|0:0:1,0,0         </td><td>0|0:0:1,0,0         </td><td>0|1:1:0,1,0</td><td>1|0:1:0,1,0</td><td>0|0:0:1,0,0</td><td>0|0:0:1,0,0         </td><td>0|1:1:0,1,0</td><td>0|0:0:1,0,0         </td><td>0|1:1:0,1,0</td><td>⋯</td><td>1|1:2:0,0,1</td><td>1|0:1:0,1,0</td><td>1|0:1:0,1,0</td><td>1|0:1:0,1,0         </td><td>0|1:1:0,1,0</td><td>0|0:0:1,0,0         </td><td>0|0:0:1,0,0</td><td>0|0:0:1,0,0         </td><td>0|0:0:1,0,0</td><td>0|0:0:1,0,0         </td></tr>\n",
       "\t<tr><td>GT:DS:GP</td><td>0|0:0:1,0,0         </td><td>0|0:0:1,0,0         </td><td>0|0:0:1,0,0</td><td>0|0:0:1,0,0</td><td>0|0:0:1,0,0</td><td>0|0:0:1,0,0         </td><td>0|0:0:1,0,0</td><td>0|0:0:1,0,0         </td><td>0|0:0:1,0,0</td><td>⋯</td><td>0|0:0:1,0,0</td><td>0|0:0:1,0,0</td><td>0|0:0:1,0,0</td><td>0|0:0:1,0,0         </td><td>0|0:0:1,0,0</td><td>0|0:0:1,0,0         </td><td>0|0:0:1,0,0</td><td>0|0:0:1,0,0         </td><td>0|0:0:1,0,0</td><td>0|0:0:1,0,0         </td></tr>\n",
       "\t<tr><td>GT:DS:GP</td><td>1|0:0.96:0.04,0.95,0</td><td>0|1:0.98:0.02,0.98,0</td><td>0|0:0:1,0,0</td><td>0|0:0:1,0,0</td><td>0|0:0:1,0,0</td><td>0|1:0.98:0.02,0.98,0</td><td>0|0:0:1,0,0</td><td>1|0:0.71:0.29,0.71,0</td><td>0|0:0:1,0,0</td><td>⋯</td><td>0|0:0:1,0,0</td><td>0|0:0:1,0,0</td><td>0|0:0:1,0,0</td><td>0|1:0.98:0.03,0.97,0</td><td>0|0:0:1,0,0</td><td>0|0:0:1,0,0         </td><td>0|0:0:1,0,0</td><td>0|0:0:1,0,0         </td><td>0|0:0:1,0,0</td><td>0|1:0.97:0.03,0.96,0</td></tr>\n",
       "\t<tr><td>GT:DS:GP</td><td>0|0:0:1,0,0         </td><td>0|0:0:1,0,0         </td><td>0|0:0:1,0,0</td><td>0|0:0:1,0,0</td><td>0|0:0:1,0,0</td><td>0|0:0:1,0,0         </td><td>0|0:0:1,0,0</td><td>0|0:0:1,0,0         </td><td>0|0:0:1,0,0</td><td>⋯</td><td>0|0:0:1,0,0</td><td>0|0:0:1,0,0</td><td>0|0:0:1,0,0</td><td>0|0:0:1,0,0         </td><td>0|0:0:1,0,0</td><td>0|1:0.73:0.27,0.72,0</td><td>0|0:0:1,0,0</td><td>1|0:0.91:0.09,0.91,0</td><td>0|0:0:1,0,0</td><td>0|0:0:1,0,0         </td></tr>\n",
       "</tbody>\n",
       "</table>\n"
      ],
      "text/latex": [
       "A matrix: 4 × 91 of type chr\n",
       "\\begin{tabular}{lllllllllllllllllllll}\n",
       " FORMAT & EU02 & EU03 & HMN171215 & HMN171216 & HMN171217 & HMN171218 & HMN171219 & HMN171220 & HMN171221 & ⋯ & HMN83571 & HMN83572 & HMN83573 & HMN83574 & HMN83575 & HMN83576 & HMN83577 & HMN83578 & HMN83579 & HMN83580\\\\\n",
       "\\hline\n",
       "\t GT:DS:GP & 0\\textbar{}0:0:1,0,0          & 0\\textbar{}0:0:1,0,0          & 0\\textbar{}1:1:0,1,0 & 1\\textbar{}0:1:0,1,0 & 0\\textbar{}0:0:1,0,0 & 0\\textbar{}0:0:1,0,0          & 0\\textbar{}1:1:0,1,0 & 0\\textbar{}0:0:1,0,0          & 0\\textbar{}1:1:0,1,0 & ⋯ & 1\\textbar{}1:2:0,0,1 & 1\\textbar{}0:1:0,1,0 & 1\\textbar{}0:1:0,1,0 & 1\\textbar{}0:1:0,1,0          & 0\\textbar{}1:1:0,1,0 & 0\\textbar{}0:0:1,0,0          & 0\\textbar{}0:0:1,0,0 & 0\\textbar{}0:0:1,0,0          & 0\\textbar{}0:0:1,0,0 & 0\\textbar{}0:0:1,0,0         \\\\\n",
       "\t GT:DS:GP & 0\\textbar{}0:0:1,0,0          & 0\\textbar{}0:0:1,0,0          & 0\\textbar{}0:0:1,0,0 & 0\\textbar{}0:0:1,0,0 & 0\\textbar{}0:0:1,0,0 & 0\\textbar{}0:0:1,0,0          & 0\\textbar{}0:0:1,0,0 & 0\\textbar{}0:0:1,0,0          & 0\\textbar{}0:0:1,0,0 & ⋯ & 0\\textbar{}0:0:1,0,0 & 0\\textbar{}0:0:1,0,0 & 0\\textbar{}0:0:1,0,0 & 0\\textbar{}0:0:1,0,0          & 0\\textbar{}0:0:1,0,0 & 0\\textbar{}0:0:1,0,0          & 0\\textbar{}0:0:1,0,0 & 0\\textbar{}0:0:1,0,0          & 0\\textbar{}0:0:1,0,0 & 0\\textbar{}0:0:1,0,0         \\\\\n",
       "\t GT:DS:GP & 1\\textbar{}0:0.96:0.04,0.95,0 & 0\\textbar{}1:0.98:0.02,0.98,0 & 0\\textbar{}0:0:1,0,0 & 0\\textbar{}0:0:1,0,0 & 0\\textbar{}0:0:1,0,0 & 0\\textbar{}1:0.98:0.02,0.98,0 & 0\\textbar{}0:0:1,0,0 & 1\\textbar{}0:0.71:0.29,0.71,0 & 0\\textbar{}0:0:1,0,0 & ⋯ & 0\\textbar{}0:0:1,0,0 & 0\\textbar{}0:0:1,0,0 & 0\\textbar{}0:0:1,0,0 & 0\\textbar{}1:0.98:0.03,0.97,0 & 0\\textbar{}0:0:1,0,0 & 0\\textbar{}0:0:1,0,0          & 0\\textbar{}0:0:1,0,0 & 0\\textbar{}0:0:1,0,0          & 0\\textbar{}0:0:1,0,0 & 0\\textbar{}1:0.97:0.03,0.96,0\\\\\n",
       "\t GT:DS:GP & 0\\textbar{}0:0:1,0,0          & 0\\textbar{}0:0:1,0,0          & 0\\textbar{}0:0:1,0,0 & 0\\textbar{}0:0:1,0,0 & 0\\textbar{}0:0:1,0,0 & 0\\textbar{}0:0:1,0,0          & 0\\textbar{}0:0:1,0,0 & 0\\textbar{}0:0:1,0,0          & 0\\textbar{}0:0:1,0,0 & ⋯ & 0\\textbar{}0:0:1,0,0 & 0\\textbar{}0:0:1,0,0 & 0\\textbar{}0:0:1,0,0 & 0\\textbar{}0:0:1,0,0          & 0\\textbar{}0:0:1,0,0 & 0\\textbar{}1:0.73:0.27,0.72,0 & 0\\textbar{}0:0:1,0,0 & 1\\textbar{}0:0.91:0.09,0.91,0 & 0\\textbar{}0:0:1,0,0 & 0\\textbar{}0:0:1,0,0         \\\\\n",
       "\\end{tabular}\n"
      ],
      "text/markdown": [
       "\n",
       "A matrix: 4 × 91 of type chr\n",
       "\n",
       "| FORMAT | EU02 | EU03 | HMN171215 | HMN171216 | HMN171217 | HMN171218 | HMN171219 | HMN171220 | HMN171221 | ⋯ | HMN83571 | HMN83572 | HMN83573 | HMN83574 | HMN83575 | HMN83576 | HMN83577 | HMN83578 | HMN83579 | HMN83580 |\n",
       "|---|---|---|---|---|---|---|---|---|---|---|---|---|---|---|---|---|---|---|---|---|\n",
       "| GT:DS:GP | 0|0:0:1,0,0          | 0|0:0:1,0,0          | 0|1:1:0,1,0 | 1|0:1:0,1,0 | 0|0:0:1,0,0 | 0|0:0:1,0,0          | 0|1:1:0,1,0 | 0|0:0:1,0,0          | 0|1:1:0,1,0 | ⋯ | 1|1:2:0,0,1 | 1|0:1:0,1,0 | 1|0:1:0,1,0 | 1|0:1:0,1,0          | 0|1:1:0,1,0 | 0|0:0:1,0,0          | 0|0:0:1,0,0 | 0|0:0:1,0,0          | 0|0:0:1,0,0 | 0|0:0:1,0,0          |\n",
       "| GT:DS:GP | 0|0:0:1,0,0          | 0|0:0:1,0,0          | 0|0:0:1,0,0 | 0|0:0:1,0,0 | 0|0:0:1,0,0 | 0|0:0:1,0,0          | 0|0:0:1,0,0 | 0|0:0:1,0,0          | 0|0:0:1,0,0 | ⋯ | 0|0:0:1,0,0 | 0|0:0:1,0,0 | 0|0:0:1,0,0 | 0|0:0:1,0,0          | 0|0:0:1,0,0 | 0|0:0:1,0,0          | 0|0:0:1,0,0 | 0|0:0:1,0,0          | 0|0:0:1,0,0 | 0|0:0:1,0,0          |\n",
       "| GT:DS:GP | 1|0:0.96:0.04,0.95,0 | 0|1:0.98:0.02,0.98,0 | 0|0:0:1,0,0 | 0|0:0:1,0,0 | 0|0:0:1,0,0 | 0|1:0.98:0.02,0.98,0 | 0|0:0:1,0,0 | 1|0:0.71:0.29,0.71,0 | 0|0:0:1,0,0 | ⋯ | 0|0:0:1,0,0 | 0|0:0:1,0,0 | 0|0:0:1,0,0 | 0|1:0.98:0.03,0.97,0 | 0|0:0:1,0,0 | 0|0:0:1,0,0          | 0|0:0:1,0,0 | 0|0:0:1,0,0          | 0|0:0:1,0,0 | 0|1:0.97:0.03,0.96,0 |\n",
       "| GT:DS:GP | 0|0:0:1,0,0          | 0|0:0:1,0,0          | 0|0:0:1,0,0 | 0|0:0:1,0,0 | 0|0:0:1,0,0 | 0|0:0:1,0,0          | 0|0:0:1,0,0 | 0|0:0:1,0,0          | 0|0:0:1,0,0 | ⋯ | 0|0:0:1,0,0 | 0|0:0:1,0,0 | 0|0:0:1,0,0 | 0|0:0:1,0,0          | 0|0:0:1,0,0 | 0|1:0.73:0.27,0.72,0 | 0|0:0:1,0,0 | 1|0:0.91:0.09,0.91,0 | 0|0:0:1,0,0 | 0|0:0:1,0,0          |\n",
       "\n"
      ],
      "text/plain": [
       "     FORMAT   EU02                 EU03                 HMN171215   HMN171216  \n",
       "[1,] GT:DS:GP 0|0:0:1,0,0          0|0:0:1,0,0          0|1:1:0,1,0 1|0:1:0,1,0\n",
       "[2,] GT:DS:GP 0|0:0:1,0,0          0|0:0:1,0,0          0|0:0:1,0,0 0|0:0:1,0,0\n",
       "[3,] GT:DS:GP 1|0:0.96:0.04,0.95,0 0|1:0.98:0.02,0.98,0 0|0:0:1,0,0 0|0:0:1,0,0\n",
       "[4,] GT:DS:GP 0|0:0:1,0,0          0|0:0:1,0,0          0|0:0:1,0,0 0|0:0:1,0,0\n",
       "     HMN171217   HMN171218            HMN171219   HMN171220           \n",
       "[1,] 0|0:0:1,0,0 0|0:0:1,0,0          0|1:1:0,1,0 0|0:0:1,0,0         \n",
       "[2,] 0|0:0:1,0,0 0|0:0:1,0,0          0|0:0:1,0,0 0|0:0:1,0,0         \n",
       "[3,] 0|0:0:1,0,0 0|1:0.98:0.02,0.98,0 0|0:0:1,0,0 1|0:0.71:0.29,0.71,0\n",
       "[4,] 0|0:0:1,0,0 0|0:0:1,0,0          0|0:0:1,0,0 0|0:0:1,0,0         \n",
       "     HMN171221   ⋯ HMN83571    HMN83572    HMN83573    HMN83574            \n",
       "[1,] 0|1:1:0,1,0 ⋯ 1|1:2:0,0,1 1|0:1:0,1,0 1|0:1:0,1,0 1|0:1:0,1,0         \n",
       "[2,] 0|0:0:1,0,0 ⋯ 0|0:0:1,0,0 0|0:0:1,0,0 0|0:0:1,0,0 0|0:0:1,0,0         \n",
       "[3,] 0|0:0:1,0,0 ⋯ 0|0:0:1,0,0 0|0:0:1,0,0 0|0:0:1,0,0 0|1:0.98:0.03,0.97,0\n",
       "[4,] 0|0:0:1,0,0 ⋯ 0|0:0:1,0,0 0|0:0:1,0,0 0|0:0:1,0,0 0|0:0:1,0,0         \n",
       "     HMN83575    HMN83576             HMN83577    HMN83578            \n",
       "[1,] 0|1:1:0,1,0 0|0:0:1,0,0          0|0:0:1,0,0 0|0:0:1,0,0         \n",
       "[2,] 0|0:0:1,0,0 0|0:0:1,0,0          0|0:0:1,0,0 0|0:0:1,0,0         \n",
       "[3,] 0|0:0:1,0,0 0|0:0:1,0,0          0|0:0:1,0,0 0|0:0:1,0,0         \n",
       "[4,] 0|0:0:1,0,0 0|1:0.73:0.27,0.72,0 0|0:0:1,0,0 1|0:0.91:0.09,0.91,0\n",
       "     HMN83579    HMN83580            \n",
       "[1,] 0|0:0:1,0,0 0|0:0:1,0,0         \n",
       "[2,] 0|0:0:1,0,0 0|0:0:1,0,0         \n",
       "[3,] 0|0:0:1,0,0 0|1:0.97:0.03,0.96,0\n",
       "[4,] 0|0:0:1,0,0 0|0:0:1,0,0         "
      ]
     },
     "metadata": {},
     "output_type": "display_data"
    },
    {
     "data": {
      "image/png": "[encoded data removed]",
      "text/plain": [
       "plot without title"
      ]
     },
     "metadata": {
      "image/png": {
       "height": 400,
       "width": 600
      }
     },
     "output_type": "display_data"
    }
   ],
   "source": [
    "vcf_filepath = paste0('/data/srlab/ssakaue/share/forJoyce/Randolph2021.maf0.05.MHC.SNP2HLA.bgl.phased.vcf.gz')\n",
    "vcf = read.vcfR(vcf_filepath, verbose = FALSE)\n",
    "vcf@fix %>% head(4)\n",
    "vcf@gt %>% head(4)\n",
    "\n",
    "res = make_imputation_results(vcf_filepath)\n",
    "res$p2"
   ]
  },
  {
   "cell_type": "markdown",
   "id": "421dc6f0-c86b-414b-bf39-83b14c3a1e30",
   "metadata": {},
   "source": [
    "## Imputation quality for 4-digit alleles"
   ]
  },
  {
   "cell_type": "code",
   "execution_count": 37,
   "id": "c53f6753-5e82-4439-bb8f-3d76e8d4b1b2",
   "metadata": {},
   "outputs": [
    {
     "data": {
      "text/html": [
       "423"
      ],
      "text/latex": [
       "423"
      ],
      "text/markdown": [
       "423"
      ],
      "text/plain": [
       "[1] 423"
      ]
     },
     "metadata": {},
     "output_type": "display_data"
    }
   ],
   "source": [
    "vcf_4digit = res$vcf_fix_df[which(res$vcf_fix_df$ndigit == 4), ]\n",
    "length(unique(vcf_4digit$ID))\n",
    "vcf_4digit_Randolph = vcf_4digit %>% mutate(dataset = 'Randolph')\n",
    "\n",
    "## Subset to only include MAF>1%\n",
    "Randolph_maf1 = vcf_4digit[which(vcf_4digit$AF > 0.01), ] %>%\n",
    "    group_by(GENE) %>%\n",
    "    summarise(mean = mean(DR2))\n",
    "\n",
    "## Subset to only include MAF>1%\n",
    "Randolph_maf5 = vcf_4digit[which(vcf_4digit$AF > 0.05), ] %>%\n",
    "    group_by(GENE) %>%\n",
    "    summarise(mean = mean(DR2))"
   ]
  },
  {
   "cell_type": "markdown",
   "id": "bb69989f-a3d0-4007-9f0e-92893cf9280a",
   "metadata": {},
   "source": [
    "## Get Inferred HLA alleles for each individual"
   ]
  },
  {
   "cell_type": "code",
   "execution_count": 38,
   "id": "1e297d3a-7111-4983-84b7-6ad5efc707b2",
   "metadata": {},
   "outputs": [
    {
     "data": {
      "text/html": [
       "90"
      ],
      "text/latex": [
       "90"
      ],
      "text/markdown": [
       "90"
      ],
      "text/plain": [
       "[1] 90"
      ]
     },
     "metadata": {},
     "output_type": "display_data"
    }
   ],
   "source": [
    "d = cbind(res$vcf_fix_df, res$vcf_hla@gt) %>% as.data.frame()\n",
    "\n",
    "samples = colnames(res$vcf_hla@gt)\n",
    "samples = samples[-1] # remove FORMAT column\n",
    "length(samples)"
   ]
  },
  {
   "cell_type": "markdown",
   "id": "3cb93e46-128c-482f-bcc6-2e5c38d43722",
   "metadata": {
    "tags": []
   },
   "source": [
    "## Subset to Randolph Samples"
   ]
  },
  {
   "cell_type": "code",
   "execution_count": 39,
   "id": "b4891b85-ee89-4013-8e49-3bf93b33c04e",
   "metadata": {},
   "outputs": [
    {
     "data": {
      "text/html": [
       "176"
      ],
      "text/latex": [
       "176"
      ],
      "text/markdown": [
       "176"
      ],
      "text/plain": [
       "[1] 176"
      ]
     },
     "metadata": {},
     "output_type": "display_data"
    }
   ],
   "source": [
    "sample_meta <- read.csv(\"../../data/meta/sample_meta_Randolph.csv\")\n",
    "nrow(sample_meta)"
   ]
  },
  {
   "cell_type": "code",
   "execution_count": 40,
   "id": "f76e88ae-f78e-4e14-bfce-4beaba7aac86",
   "metadata": {},
   "outputs": [],
   "source": [
    "results = list()\n",
    "for (samp in sample_meta$Geno_ID[sample_meta$Geno_ID %in% colnames(d)]) {\n",
    "    d_samp = d[, c('REF', 'ID', 'GENE', samp, 'ndigit')] %>% filter(ndigit > 2)\n",
    "    d_samp_haszero = separate(data = d_samp, col = samp, into = c(\"geno01\", \"col1\", \"col2\"), sep = \":\") \n",
    "    d_samp_haszero$count = ifelse(d_samp_haszero[, 'REF'] == \"T\", \n",
    "                                  recode(d_samp_haszero$geno01,'0|0' = 2, '1|0' = 1, '0|1' = 1, '1|1' = 0), \n",
    "                                  recode(d_samp_haszero$geno01,'0|0' = 0, '1|0' = 1, '0|1' = 1, '1|1' = 2))\n",
    "    d_samp_haszero$dosage = ifelse(d_samp_haszero[, 'REF'] == \"T\", \n",
    "                                   2 - as.numeric(d_samp_haszero$col1), \n",
    "                                   as.numeric(d_samp_haszero$col1))\n",
    "    results[[samp]] = d_samp_haszero %>% filter(count == 1 | count == 2)\n",
    "}\n",
    "saveRDS(results, '../../data/hla_alleles/randolph_updated.new.ref_results.rds')"
   ]
  },
  {
   "cell_type": "code",
   "execution_count": 41,
   "id": "2efb9ee5-9b37-4fff-87f2-0d643beddebd",
   "metadata": {},
   "outputs": [],
   "source": [
    "results_allAlleles = list()\n",
    "for (samp in sample_meta$Geno_ID[sample_meta$Geno_ID %in% colnames(d)]) {\n",
    "d_samp = d[, c('REF', 'ID', 'GENE', samp, 'ndigit')] \n",
    "    d_samp_haszero = separate(data = d_samp, col = samp, into = c(\"geno01\", \"col1\", \"col2\"), sep = \":\") \n",
    "    d_samp_haszero$count = ifelse(d_samp_haszero[, 'REF'] == \"T\", \n",
    "                                  recode(d_samp_haszero$geno01,'0|0' = 2, '1|0' = 1, '0|1' = 1, '1|1' = 0), \n",
    "                                  recode(d_samp_haszero$geno01,'0|0' = 0, '1|0' = 1, '0|1' = 1, '1|1' = 2))\n",
    "    d_samp_haszero$dosage = ifelse(d_samp_haszero[, 'REF'] == \"T\", \n",
    "                                   2 - as.numeric(d_samp_haszero$col1), \n",
    "                                   as.numeric(d_samp_haszero$col1))\n",
    "    results_allAlleles[[samp]] = d_samp_haszero\n",
    "}\n",
    "saveRDS(results_allAlleles, '../../data/hla_alleles/randolph_updated.new.ref_all.results.rds')"
   ]
  },
  {
   "cell_type": "markdown",
   "id": "d3ade488-5324-4864-a613-c3b4b3b3b6a6",
   "metadata": {},
   "source": [
    "## Manual Inspection"
   ]
  },
  {
   "cell_type": "code",
   "execution_count": 42,
   "id": "61b06e33-1cb6-477d-b678-f6e9fa5ec798",
   "metadata": {},
   "outputs": [],
   "source": [
    "df_missing <- data.frame(0,0,0)\n",
    "for (samp in unique(sample_meta$Geno_ID[sample_meta$Geno_ID %in% colnames(d)])) {\n",
    "    res = results[[samp]]\n",
    "    \n",
    "    gene_sums = tapply(res$count, res$GENE, sum)\n",
    "    count_sum = sum(res$count)\n",
    "    \n",
    "    for (gene in c(\"HLA_A\", \"HLA_B\", \"HLA_C\", \"HLA_DRB1\", \"HLA_DQA1\", \"HLA_DQB1\", \"HLA_DPB1\", \"HLA_DPA1\")) {\n",
    "    if (gene_sums[gene] != 2 | is.na(gene_sums[gene])) {\n",
    "        df_missing <- rbind(df_missing, c(samp, gene, gene_sums[gene]))\n",
    "        #print(res)\n",
    "    }\n",
    " }\n",
    "}\n",
    "df_missing <- df_missing[-1, ]"
   ]
  },
  {
   "cell_type": "code",
   "execution_count": 43,
   "id": "b772728b-56e8-4717-8085-541a99dac413",
   "metadata": {},
   "outputs": [
    {
     "data": {
      "text/html": [
       "<table class=\"dataframe\">\n",
       "<caption>A data.frame: 19 × 3</caption>\n",
       "<thead>\n",
       "\t<tr><th></th><th scope=col>X0</th><th scope=col>X0.1</th><th scope=col>X0.2</th></tr>\n",
       "\t<tr><th></th><th scope=col>&lt;chr&gt;</th><th scope=col>&lt;chr&gt;</th><th scope=col>&lt;chr&gt;</th></tr>\n",
       "</thead>\n",
       "<tbody>\n",
       "\t<tr><th scope=row>2</th><td>HMN83554 </td><td>HLA_DRB1</td><td>1</td></tr>\n",
       "\t<tr><th scope=row>3</th><td>HMN83557 </td><td>HLA_B   </td><td>1</td></tr>\n",
       "\t<tr><th scope=row>4</th><td>HMN83578 </td><td>HLA_B   </td><td>1</td></tr>\n",
       "\t<tr><th scope=row>5</th><td>HMN83578 </td><td>HLA_DRB1</td><td>1</td></tr>\n",
       "\t<tr><th scope=row>6</th><td>HMN83579 </td><td>HLA_A   </td><td>1</td></tr>\n",
       "\t<tr><th scope=row>7</th><td>HMN52532 </td><td>HLA_DRB1</td><td>1</td></tr>\n",
       "\t<tr><th scope=row>8</th><td>HMN83573 </td><td>HLA_DRB1</td><td>1</td></tr>\n",
       "\t<tr><th scope=row>9</th><td>HMN52552 </td><td>HLA_A   </td><td>1</td></tr>\n",
       "\t<tr><th scope=row>10</th><td>HMN52552 </td><td>HLA_DPB1</td><td>1</td></tr>\n",
       "\t<tr><th scope=row>11</th><td>HMN52542 </td><td>HLA_A   </td><td>1</td></tr>\n",
       "\t<tr><th scope=row>12</th><td>HMN52556 </td><td>HLA_A   </td><td>1</td></tr>\n",
       "\t<tr><th scope=row>13</th><td>HMN52557 </td><td>HLA_DRB1</td><td>1</td></tr>\n",
       "\t<tr><th scope=row>14</th><td>HMN52549 </td><td>HLA_DPB1</td><td>1</td></tr>\n",
       "\t<tr><th scope=row>15</th><td>HMN52559 </td><td>HLA_A   </td><td>1</td></tr>\n",
       "\t<tr><th scope=row>16</th><td>HMN171215</td><td>HLA_B   </td><td>1</td></tr>\n",
       "\t<tr><th scope=row>17</th><td>HMN171215</td><td>HLA_DRB1</td><td>1</td></tr>\n",
       "\t<tr><th scope=row>18</th><td>HMN171230</td><td>HLA_A   </td><td>1</td></tr>\n",
       "\t<tr><th scope=row>19</th><td>HMN171230</td><td>HLA_DRB1</td><td>1</td></tr>\n",
       "\t<tr><th scope=row>20</th><td>HMN171228</td><td>HLA_A   </td><td>1</td></tr>\n",
       "</tbody>\n",
       "</table>\n"
      ],
      "text/latex": [
       "A data.frame: 19 × 3\n",
       "\\begin{tabular}{r|lll}\n",
       "  & X0 & X0.1 & X0.2\\\\\n",
       "  & <chr> & <chr> & <chr>\\\\\n",
       "\\hline\n",
       "\t2 & HMN83554  & HLA\\_DRB1 & 1\\\\\n",
       "\t3 & HMN83557  & HLA\\_B    & 1\\\\\n",
       "\t4 & HMN83578  & HLA\\_B    & 1\\\\\n",
       "\t5 & HMN83578  & HLA\\_DRB1 & 1\\\\\n",
       "\t6 & HMN83579  & HLA\\_A    & 1\\\\\n",
       "\t7 & HMN52532  & HLA\\_DRB1 & 1\\\\\n",
       "\t8 & HMN83573  & HLA\\_DRB1 & 1\\\\\n",
       "\t9 & HMN52552  & HLA\\_A    & 1\\\\\n",
       "\t10 & HMN52552  & HLA\\_DPB1 & 1\\\\\n",
       "\t11 & HMN52542  & HLA\\_A    & 1\\\\\n",
       "\t12 & HMN52556  & HLA\\_A    & 1\\\\\n",
       "\t13 & HMN52557  & HLA\\_DRB1 & 1\\\\\n",
       "\t14 & HMN52549  & HLA\\_DPB1 & 1\\\\\n",
       "\t15 & HMN52559  & HLA\\_A    & 1\\\\\n",
       "\t16 & HMN171215 & HLA\\_B    & 1\\\\\n",
       "\t17 & HMN171215 & HLA\\_DRB1 & 1\\\\\n",
       "\t18 & HMN171230 & HLA\\_A    & 1\\\\\n",
       "\t19 & HMN171230 & HLA\\_DRB1 & 1\\\\\n",
       "\t20 & HMN171228 & HLA\\_A    & 1\\\\\n",
       "\\end{tabular}\n"
      ],
      "text/markdown": [
       "\n",
       "A data.frame: 19 × 3\n",
       "\n",
       "| <!--/--> | X0 &lt;chr&gt; | X0.1 &lt;chr&gt; | X0.2 &lt;chr&gt; |\n",
       "|---|---|---|---|\n",
       "| 2 | HMN83554  | HLA_DRB1 | 1 |\n",
       "| 3 | HMN83557  | HLA_B    | 1 |\n",
       "| 4 | HMN83578  | HLA_B    | 1 |\n",
       "| 5 | HMN83578  | HLA_DRB1 | 1 |\n",
       "| 6 | HMN83579  | HLA_A    | 1 |\n",
       "| 7 | HMN52532  | HLA_DRB1 | 1 |\n",
       "| 8 | HMN83573  | HLA_DRB1 | 1 |\n",
       "| 9 | HMN52552  | HLA_A    | 1 |\n",
       "| 10 | HMN52552  | HLA_DPB1 | 1 |\n",
       "| 11 | HMN52542  | HLA_A    | 1 |\n",
       "| 12 | HMN52556  | HLA_A    | 1 |\n",
       "| 13 | HMN52557  | HLA_DRB1 | 1 |\n",
       "| 14 | HMN52549  | HLA_DPB1 | 1 |\n",
       "| 15 | HMN52559  | HLA_A    | 1 |\n",
       "| 16 | HMN171215 | HLA_B    | 1 |\n",
       "| 17 | HMN171215 | HLA_DRB1 | 1 |\n",
       "| 18 | HMN171230 | HLA_A    | 1 |\n",
       "| 19 | HMN171230 | HLA_DRB1 | 1 |\n",
       "| 20 | HMN171228 | HLA_A    | 1 |\n",
       "\n"
      ],
      "text/plain": [
       "   X0        X0.1     X0.2\n",
       "2  HMN83554  HLA_DRB1 1   \n",
       "3  HMN83557  HLA_B    1   \n",
       "4  HMN83578  HLA_B    1   \n",
       "5  HMN83578  HLA_DRB1 1   \n",
       "6  HMN83579  HLA_A    1   \n",
       "7  HMN52532  HLA_DRB1 1   \n",
       "8  HMN83573  HLA_DRB1 1   \n",
       "9  HMN52552  HLA_A    1   \n",
       "10 HMN52552  HLA_DPB1 1   \n",
       "11 HMN52542  HLA_A    1   \n",
       "12 HMN52556  HLA_A    1   \n",
       "13 HMN52557  HLA_DRB1 1   \n",
       "14 HMN52549  HLA_DPB1 1   \n",
       "15 HMN52559  HLA_A    1   \n",
       "16 HMN171215 HLA_B    1   \n",
       "17 HMN171215 HLA_DRB1 1   \n",
       "18 HMN171230 HLA_A    1   \n",
       "19 HMN171230 HLA_DRB1 1   \n",
       "20 HMN171228 HLA_A    1   "
      ]
     },
     "metadata": {},
     "output_type": "display_data"
    }
   ],
   "source": [
    "df_missing"
   ]
  },
  {
   "cell_type": "code",
   "execution_count": 44,
   "id": "fe77f6ac-c738-4767-9951-c05bfef888bf",
   "metadata": {},
   "outputs": [
    {
     "data": {
      "text/html": [
       "<table class=\"dataframe\">\n",
       "<caption>A data.frame: 8 × 9</caption>\n",
       "<thead>\n",
       "\t<tr><th scope=col>REF</th><th scope=col>ID</th><th scope=col>GENE</th><th scope=col>geno01</th><th scope=col>col1</th><th scope=col>col2</th><th scope=col>ndigit</th><th scope=col>count</th><th scope=col>dosage</th></tr>\n",
       "\t<tr><th scope=col>&lt;chr&gt;</th><th scope=col>&lt;chr&gt;</th><th scope=col>&lt;chr&gt;</th><th scope=col>&lt;chr&gt;</th><th scope=col>&lt;chr&gt;</th><th scope=col>&lt;chr&gt;</th><th scope=col>&lt;dbl&gt;</th><th scope=col>&lt;dbl&gt;</th><th scope=col>&lt;dbl&gt;</th></tr>\n",
       "</thead>\n",
       "<tbody>\n",
       "\t<tr><td>A</td><td>HLA_B*08   </td><td>HLA_B</td><td>0|0</td><td>0.5 </td><td>0.5,0.49,0 </td><td>2</td><td>0</td><td>0.50</td></tr>\n",
       "\t<tr><td>A</td><td>HLA_B*08:01</td><td>HLA_B</td><td>0|0</td><td>0.5 </td><td>0.5,0.49,0 </td><td>4</td><td>0</td><td>0.50</td></tr>\n",
       "\t<tr><td>A</td><td>HLA_B*40   </td><td>HLA_B</td><td>0|1</td><td>1   </td><td>0,1,0      </td><td>2</td><td>1</td><td>1.00</td></tr>\n",
       "\t<tr><td>A</td><td>HLA_B*40:01</td><td>HLA_B</td><td>0|1</td><td>1   </td><td>0,1,0      </td><td>4</td><td>1</td><td>1.00</td></tr>\n",
       "\t<tr><td>A</td><td>HLA_B*44   </td><td>HLA_B</td><td>0|0</td><td>0.44</td><td>0.56,0.44,0</td><td>2</td><td>0</td><td>0.44</td></tr>\n",
       "\t<tr><td>A</td><td>HLA_B*44:02</td><td>HLA_B</td><td>0|0</td><td>0.43</td><td>0.57,0.43,0</td><td>4</td><td>0</td><td>0.43</td></tr>\n",
       "\t<tr><td>A</td><td>HLA_B*51   </td><td>HLA_B</td><td>0|0</td><td>0.01</td><td>0.99,0.01,0</td><td>2</td><td>0</td><td>0.01</td></tr>\n",
       "\t<tr><td>A</td><td>HLA_B*51:01</td><td>HLA_B</td><td>0|0</td><td>0.01</td><td>0.99,0.01,0</td><td>4</td><td>0</td><td>0.01</td></tr>\n",
       "</tbody>\n",
       "</table>\n"
      ],
      "text/latex": [
       "A data.frame: 8 × 9\n",
       "\\begin{tabular}{lllllllll}\n",
       " REF & ID & GENE & geno01 & col1 & col2 & ndigit & count & dosage\\\\\n",
       " <chr> & <chr> & <chr> & <chr> & <chr> & <chr> & <dbl> & <dbl> & <dbl>\\\\\n",
       "\\hline\n",
       "\t A & HLA\\_B*08    & HLA\\_B & 0\\textbar{}0 & 0.5  & 0.5,0.49,0  & 2 & 0 & 0.50\\\\\n",
       "\t A & HLA\\_B*08:01 & HLA\\_B & 0\\textbar{}0 & 0.5  & 0.5,0.49,0  & 4 & 0 & 0.50\\\\\n",
       "\t A & HLA\\_B*40    & HLA\\_B & 0\\textbar{}1 & 1    & 0,1,0       & 2 & 1 & 1.00\\\\\n",
       "\t A & HLA\\_B*40:01 & HLA\\_B & 0\\textbar{}1 & 1    & 0,1,0       & 4 & 1 & 1.00\\\\\n",
       "\t A & HLA\\_B*44    & HLA\\_B & 0\\textbar{}0 & 0.44 & 0.56,0.44,0 & 2 & 0 & 0.44\\\\\n",
       "\t A & HLA\\_B*44:02 & HLA\\_B & 0\\textbar{}0 & 0.43 & 0.57,0.43,0 & 4 & 0 & 0.43\\\\\n",
       "\t A & HLA\\_B*51    & HLA\\_B & 0\\textbar{}0 & 0.01 & 0.99,0.01,0 & 2 & 0 & 0.01\\\\\n",
       "\t A & HLA\\_B*51:01 & HLA\\_B & 0\\textbar{}0 & 0.01 & 0.99,0.01,0 & 4 & 0 & 0.01\\\\\n",
       "\\end{tabular}\n"
      ],
      "text/markdown": [
       "\n",
       "A data.frame: 8 × 9\n",
       "\n",
       "| REF &lt;chr&gt; | ID &lt;chr&gt; | GENE &lt;chr&gt; | geno01 &lt;chr&gt; | col1 &lt;chr&gt; | col2 &lt;chr&gt; | ndigit &lt;dbl&gt; | count &lt;dbl&gt; | dosage &lt;dbl&gt; |\n",
       "|---|---|---|---|---|---|---|---|---|\n",
       "| A | HLA_B*08    | HLA_B | 0|0 | 0.5  | 0.5,0.49,0  | 2 | 0 | 0.50 |\n",
       "| A | HLA_B*08:01 | HLA_B | 0|0 | 0.5  | 0.5,0.49,0  | 4 | 0 | 0.50 |\n",
       "| A | HLA_B*40    | HLA_B | 0|1 | 1    | 0,1,0       | 2 | 1 | 1.00 |\n",
       "| A | HLA_B*40:01 | HLA_B | 0|1 | 1    | 0,1,0       | 4 | 1 | 1.00 |\n",
       "| A | HLA_B*44    | HLA_B | 0|0 | 0.44 | 0.56,0.44,0 | 2 | 0 | 0.44 |\n",
       "| A | HLA_B*44:02 | HLA_B | 0|0 | 0.43 | 0.57,0.43,0 | 4 | 0 | 0.43 |\n",
       "| A | HLA_B*51    | HLA_B | 0|0 | 0.01 | 0.99,0.01,0 | 2 | 0 | 0.01 |\n",
       "| A | HLA_B*51:01 | HLA_B | 0|0 | 0.01 | 0.99,0.01,0 | 4 | 0 | 0.01 |\n",
       "\n"
      ],
      "text/plain": [
       "  REF ID          GENE  geno01 col1 col2        ndigit count dosage\n",
       "1 A   HLA_B*08    HLA_B 0|0    0.5  0.5,0.49,0  2      0     0.50  \n",
       "2 A   HLA_B*08:01 HLA_B 0|0    0.5  0.5,0.49,0  4      0     0.50  \n",
       "3 A   HLA_B*40    HLA_B 0|1    1    0,1,0       2      1     1.00  \n",
       "4 A   HLA_B*40:01 HLA_B 0|1    1    0,1,0       4      1     1.00  \n",
       "5 A   HLA_B*44    HLA_B 0|0    0.44 0.56,0.44,0 2      0     0.44  \n",
       "6 A   HLA_B*44:02 HLA_B 0|0    0.43 0.57,0.43,0 4      0     0.43  \n",
       "7 A   HLA_B*51    HLA_B 0|0    0.01 0.99,0.01,0 2      0     0.01  \n",
       "8 A   HLA_B*51:01 HLA_B 0|0    0.01 0.99,0.01,0 4      0     0.01  "
      ]
     },
     "metadata": {},
     "output_type": "display_data"
    }
   ],
   "source": [
    "results_allAlleles[['HMN83557']] %>% filter(GENE == 'HLA_B', dosage != 0)"
   ]
  },
  {
   "cell_type": "code",
   "execution_count": 45,
   "id": "67126463-4139-42fc-81b6-485dee7a2aba",
   "metadata": {},
   "outputs": [
    {
     "name": "stdout",
     "output_type": "stream",
     "text": [
      "[1] 73\n"
     ]
    }
   ],
   "source": [
    "results <- results[- which(names(results) %in% unique(df_missing$X0))]\n",
    "i = 0\n",
    "for (name in names(results)) {\n",
    "    res = results[[name]][,c('ID', 'GENE', 'count')]\n",
    "    # List of alleles (save as XXX-XXX_alleles.txt)\n",
    "    write.csv(res, paste0('../../data/hla_alleles/Randolph_alleles/', \n",
    "                          name, '_alleles.csv'), row.names = FALSE, quote = FALSE)\n",
    "    i = i + 1\n",
    "}\n",
    "print(i)\n",
    "write.table(data.frame(names(results)), \n",
    "            \"../../data/hla_alleles/Randolph_alleles/Randolph_final_samples.txt\", \n",
    "            col.names = FALSE, row.names = FALSE, quote = FALSE)"
   ]
  },
  {
   "cell_type": "code",
   "execution_count": 46,
   "id": "77cb730c-42d1-479d-a922-52c7d05f632a",
   "metadata": {},
   "outputs": [
    {
     "data": {
      "text/html": [
       "<table class=\"dataframe\">\n",
       "<caption>A data.frame: 4 × 6</caption>\n",
       "<thead>\n",
       "\t<tr><th></th><th scope=col>Geno_ID</th><th scope=col>Sample</th><th scope=col>Allele</th><th scope=col>Gene</th><th scope=col>GT</th><th scope=col>dosage</th></tr>\n",
       "\t<tr><th></th><th scope=col>&lt;chr&gt;</th><th scope=col>&lt;chr&gt;</th><th scope=col>&lt;chr&gt;</th><th scope=col>&lt;chr&gt;</th><th scope=col>&lt;chr&gt;</th><th scope=col>&lt;dbl&gt;</th></tr>\n",
       "</thead>\n",
       "<tbody>\n",
       "\t<tr><th scope=row>1</th><td>HMN83551</td><td>HMN83551_NI </td><td>HLA_A*02:01</td><td>HLA_A</td><td>1|1</td><td>2</td></tr>\n",
       "\t<tr><th scope=row>2</th><td>HMN83551</td><td>HMN83551_flu</td><td>HLA_A*02:01</td><td>HLA_A</td><td>1|1</td><td>2</td></tr>\n",
       "\t<tr><th scope=row>3</th><td>HMN83551</td><td>HMN83551_NI </td><td>HLA_C*05:01</td><td>HLA_C</td><td>1|0</td><td>1</td></tr>\n",
       "\t<tr><th scope=row>4</th><td>HMN83551</td><td>HMN83551_flu</td><td>HLA_C*05:01</td><td>HLA_C</td><td>1|0</td><td>1</td></tr>\n",
       "</tbody>\n",
       "</table>\n"
      ],
      "text/latex": [
       "A data.frame: 4 × 6\n",
       "\\begin{tabular}{r|llllll}\n",
       "  & Geno\\_ID & Sample & Allele & Gene & GT & dosage\\\\\n",
       "  & <chr> & <chr> & <chr> & <chr> & <chr> & <dbl>\\\\\n",
       "\\hline\n",
       "\t1 & HMN83551 & HMN83551\\_NI  & HLA\\_A*02:01 & HLA\\_A & 1\\textbar{}1 & 2\\\\\n",
       "\t2 & HMN83551 & HMN83551\\_flu & HLA\\_A*02:01 & HLA\\_A & 1\\textbar{}1 & 2\\\\\n",
       "\t3 & HMN83551 & HMN83551\\_NI  & HLA\\_C*05:01 & HLA\\_C & 1\\textbar{}0 & 1\\\\\n",
       "\t4 & HMN83551 & HMN83551\\_flu & HLA\\_C*05:01 & HLA\\_C & 1\\textbar{}0 & 1\\\\\n",
       "\\end{tabular}\n"
      ],
      "text/markdown": [
       "\n",
       "A data.frame: 4 × 6\n",
       "\n",
       "| <!--/--> | Geno_ID &lt;chr&gt; | Sample &lt;chr&gt; | Allele &lt;chr&gt; | Gene &lt;chr&gt; | GT &lt;chr&gt; | dosage &lt;dbl&gt; |\n",
       "|---|---|---|---|---|---|---|\n",
       "| 1 | HMN83551 | HMN83551_NI  | HLA_A*02:01 | HLA_A | 1|1 | 2 |\n",
       "| 2 | HMN83551 | HMN83551_flu | HLA_A*02:01 | HLA_A | 1|1 | 2 |\n",
       "| 3 | HMN83551 | HMN83551_NI  | HLA_C*05:01 | HLA_C | 1|0 | 1 |\n",
       "| 4 | HMN83551 | HMN83551_flu | HLA_C*05:01 | HLA_C | 1|0 | 1 |\n",
       "\n"
      ],
      "text/plain": [
       "  Geno_ID  Sample       Allele      Gene  GT  dosage\n",
       "1 HMN83551 HMN83551_NI  HLA_A*02:01 HLA_A 1|1 2     \n",
       "2 HMN83551 HMN83551_flu HLA_A*02:01 HLA_A 1|1 2     \n",
       "3 HMN83551 HMN83551_NI  HLA_C*05:01 HLA_C 1|0 1     \n",
       "4 HMN83551 HMN83551_flu HLA_C*05:01 HLA_C 1|0 1     "
      ]
     },
     "metadata": {},
     "output_type": "display_data"
    },
    {
     "data": {
      "text/html": [
       "146"
      ],
      "text/latex": [
       "146"
      ],
      "text/markdown": [
       "146"
      ],
      "text/plain": [
       "[1] 146"
      ]
     },
     "metadata": {},
     "output_type": "display_data"
    }
   ],
   "source": [
    "## Make Supplementary Table\n",
    "results_table = bind_rows(results, .id = 'Geno_ID') %>% select(Geno_ID, ID, GENE, geno01, dosage)\n",
    "rownames(results_table) = c(1:nrow(results_table))\n",
    "results_table = left_join(results_table, sample_meta[, c('Geno_ID', 'Sample')], by = 'Geno_ID')[, c(1, 6, 2, 3, 4, 5)]\n",
    "colnames(results_table) = c('Geno_ID', 'Sample', 'Allele', 'Gene', 'GT', 'dosage')\n",
    "write.csv(results_table, '../../data/hla_alleles/HLA_alleles_table_Randolph.csv')\n",
    "results_table %>% head(4)\n",
    "results_table$Sample %>% unique() %>% length()"
   ]
  },
  {
   "cell_type": "markdown",
   "id": "64ba32eb-8db4-4de1-a726-9caced384fea",
   "metadata": {
    "tags": []
   },
   "source": [
    "# New Panel | SNP2HLA | OneK1K"
   ]
  },
  {
   "cell_type": "markdown",
   "id": "2c715a7c-d0d7-4096-8fa4-b59979e0beb9",
   "metadata": {},
   "source": [
    "## Read in Imputation File"
   ]
  },
  {
   "cell_type": "code",
   "execution_count": 47,
   "id": "6c08216b-1100-4d0c-826a-e9f4d19f11c7",
   "metadata": {},
   "outputs": [
    {
     "data": {
      "text/html": [
       "<table class=\"dataframe\">\n",
       "<caption>A matrix: 4 × 8 of type chr</caption>\n",
       "<thead>\n",
       "\t<tr><th scope=col>CHROM</th><th scope=col>POS</th><th scope=col>ID</th><th scope=col>REF</th><th scope=col>ALT</th><th scope=col>QUAL</th><th scope=col>FILTER</th><th scope=col>INFO</th></tr>\n",
       "</thead>\n",
       "<tbody>\n",
       "\t<tr><td>6</td><td>27970031</td><td>rs149946  </td><td>G</td><td>T</td><td>NA</td><td>PASS</td><td>AR2=0.96;DR2=0.96;AF=0.22;IMP </td></tr>\n",
       "\t<tr><td>6</td><td>27976200</td><td>rs9380032 </td><td>G</td><td>T</td><td>NA</td><td>PASS</td><td>AR2=0.90;DR2=0.90;AF=0.022;IMP</td></tr>\n",
       "\t<tr><td>6</td><td>27979188</td><td>rs4141691 </td><td>A</td><td>G</td><td>NA</td><td>PASS</td><td>AR2=0.87;DR2=0.89;AF=0.091;IMP</td></tr>\n",
       "\t<tr><td>6</td><td>27979625</td><td>rs10484402</td><td>A</td><td>G</td><td>NA</td><td>PASS</td><td>AR2=0.92;DR2=0.92;AF=0.034;IMP</td></tr>\n",
       "</tbody>\n",
       "</table>\n"
      ],
      "text/latex": [
       "A matrix: 4 × 8 of type chr\n",
       "\\begin{tabular}{llllllll}\n",
       " CHROM & POS & ID & REF & ALT & QUAL & FILTER & INFO\\\\\n",
       "\\hline\n",
       "\t 6 & 27970031 & rs149946   & G & T & NA & PASS & AR2=0.96;DR2=0.96;AF=0.22;IMP \\\\\n",
       "\t 6 & 27976200 & rs9380032  & G & T & NA & PASS & AR2=0.90;DR2=0.90;AF=0.022;IMP\\\\\n",
       "\t 6 & 27979188 & rs4141691  & A & G & NA & PASS & AR2=0.87;DR2=0.89;AF=0.091;IMP\\\\\n",
       "\t 6 & 27979625 & rs10484402 & A & G & NA & PASS & AR2=0.92;DR2=0.92;AF=0.034;IMP\\\\\n",
       "\\end{tabular}\n"
      ],
      "text/markdown": [
       "\n",
       "A matrix: 4 × 8 of type chr\n",
       "\n",
       "| CHROM | POS | ID | REF | ALT | QUAL | FILTER | INFO |\n",
       "|---|---|---|---|---|---|---|---|\n",
       "| 6 | 27970031 | rs149946   | G | T | NA | PASS | AR2=0.96;DR2=0.96;AF=0.22;IMP  |\n",
       "| 6 | 27976200 | rs9380032  | G | T | NA | PASS | AR2=0.90;DR2=0.90;AF=0.022;IMP |\n",
       "| 6 | 27979188 | rs4141691  | A | G | NA | PASS | AR2=0.87;DR2=0.89;AF=0.091;IMP |\n",
       "| 6 | 27979625 | rs10484402 | A | G | NA | PASS | AR2=0.92;DR2=0.92;AF=0.034;IMP |\n",
       "\n"
      ],
      "text/plain": [
       "     CHROM POS      ID         REF ALT QUAL FILTER\n",
       "[1,] 6     27970031 rs149946   G   T   NA   PASS  \n",
       "[2,] 6     27976200 rs9380032  G   T   NA   PASS  \n",
       "[3,] 6     27979188 rs4141691  A   G   NA   PASS  \n",
       "[4,] 6     27979625 rs10484402 A   G   NA   PASS  \n",
       "     INFO                          \n",
       "[1,] AR2=0.96;DR2=0.96;AF=0.22;IMP \n",
       "[2,] AR2=0.90;DR2=0.90;AF=0.022;IMP\n",
       "[3,] AR2=0.87;DR2=0.89;AF=0.091;IMP\n",
       "[4,] AR2=0.92;DR2=0.92;AF=0.034;IMP"
      ]
     },
     "metadata": {},
     "output_type": "display_data"
    },
    {
     "data": {
      "text/html": [
       "<table class=\"dataframe\">\n",
       "<caption>A matrix: 4 × 973 of type chr</caption>\n",
       "<thead>\n",
       "\t<tr><th scope=col>FORMAT</th><th scope=col>1_1</th><th scope=col>2_2</th><th scope=col>3_3</th><th scope=col>4_4</th><th scope=col>6_6</th><th scope=col>7_7</th><th scope=col>8_8</th><th scope=col>9_9</th><th scope=col>10_10</th><th scope=col>⋯</th><th scope=col>1073_1074</th><th scope=col>1074_1075</th><th scope=col>1075_1076</th><th scope=col>1076_1077</th><th scope=col>1077_1078</th><th scope=col>1078_1079</th><th scope=col>1079_1080</th><th scope=col>1080_1081</th><th scope=col>1081_1082</th><th scope=col>241_242</th></tr>\n",
       "</thead>\n",
       "<tbody>\n",
       "\t<tr><td>GT:DS:GP</td><td>0|0:0:1,0,0</td><td>1|1:1.96:0,0.04,0.96</td><td>0|1:1:0,1,0</td><td>1|0:1:0,1,0         </td><td>0|1:1:0,1,0</td><td>0|0:0:1,0,0         </td><td>0|1:1:0,1,0         </td><td>1|0:1:0,1,0</td><td>0|0:0:1,0,0</td><td>⋯</td><td>1|1:2:0,0,1</td><td>0|0:0:1,0,0</td><td>1|0:0.96:0.04,0.96,0</td><td>0|0:0:1,0,0</td><td>0|0:0:1,0,0</td><td>0|1:1:0,1,0</td><td>0|0:0:1,0,0         </td><td>0|0:0:1,0,0</td><td>0|0:0:1,0,0</td><td>0|0:0:1,0,0</td></tr>\n",
       "\t<tr><td>GT:DS:GP</td><td>0|0:0:1,0,0</td><td>0|0:0:1,0,0         </td><td>0|0:0:1,0,0</td><td>0|0:0:1,0,0         </td><td>0|0:0:1,0,0</td><td>0|0:0:1,0,0         </td><td>0|0:0:1,0,0         </td><td>0|0:0:1,0,0</td><td>0|0:0:1,0,0</td><td>⋯</td><td>0|0:0:1,0,0</td><td>0|0:0:1,0,0</td><td>0|0:0:1,0,0         </td><td>0|0:0:1,0,0</td><td>0|0:0:1,0,0</td><td>0|0:0:1,0,0</td><td>0|0:0:1,0,0         </td><td>0|0:0:1,0,0</td><td>0|0:0:1,0,0</td><td>0|0:0:1,0,0</td></tr>\n",
       "\t<tr><td>GT:DS:GP</td><td>0|0:0:1,0,0</td><td>0|0:0:1,0,0         </td><td>0|0:0:1,0,0</td><td>0|1:0.98:0.02,0.98,0</td><td>0|0:0:1,0,0</td><td>1|0:0.97:0.03,0.96,0</td><td>1|0:0.95:0.06,0.94,0</td><td>0|0:0:1,0,0</td><td>0|0:0:1,0,0</td><td>⋯</td><td>0|0:0:1,0,0</td><td>0|0:0:1,0,0</td><td>0|1:0.98:0.02,0.98,0</td><td>0|0:0:1,0,0</td><td>0|0:0:1,0,0</td><td>0|0:0:1,0,0</td><td>1|0:0.97:0.03,0.96,0</td><td>0|0:0:1,0,0</td><td>0|0:0:1,0,0</td><td>0|0:0:1,0,0</td></tr>\n",
       "\t<tr><td>GT:DS:GP</td><td>0|0:0:1,0,0</td><td>0|0:0:1,0,0         </td><td>0|0:0:1,0,0</td><td>0|0:0:1,0,0         </td><td>0|0:0:1,0,0</td><td>0|0:0:1,0,0         </td><td>0|0:0:1,0,0         </td><td>0|0:0:1,0,0</td><td>0|0:0:1,0,0</td><td>⋯</td><td>0|0:0:1,0,0</td><td>0|0:0:1,0,0</td><td>0|0:0:1,0,0         </td><td>0|0:0:1,0,0</td><td>0|0:0:1,0,0</td><td>0|0:0:1,0,0</td><td>0|0:0:1,0,0         </td><td>0|0:0:1,0,0</td><td>0|0:0:1,0,0</td><td>0|0:0:1,0,0</td></tr>\n",
       "</tbody>\n",
       "</table>\n"
      ],
      "text/latex": [
       "A matrix: 4 × 973 of type chr\n",
       "\\begin{tabular}{lllllllllllllllllllll}\n",
       " FORMAT & 1\\_1 & 2\\_2 & 3\\_3 & 4\\_4 & 6\\_6 & 7\\_7 & 8\\_8 & 9\\_9 & 10\\_10 & ⋯ & 1073\\_1074 & 1074\\_1075 & 1075\\_1076 & 1076\\_1077 & 1077\\_1078 & 1078\\_1079 & 1079\\_1080 & 1080\\_1081 & 1081\\_1082 & 241\\_242\\\\\n",
       "\\hline\n",
       "\t GT:DS:GP & 0\\textbar{}0:0:1,0,0 & 1\\textbar{}1:1.96:0,0.04,0.96 & 0\\textbar{}1:1:0,1,0 & 1\\textbar{}0:1:0,1,0          & 0\\textbar{}1:1:0,1,0 & 0\\textbar{}0:0:1,0,0          & 0\\textbar{}1:1:0,1,0          & 1\\textbar{}0:1:0,1,0 & 0\\textbar{}0:0:1,0,0 & ⋯ & 1\\textbar{}1:2:0,0,1 & 0\\textbar{}0:0:1,0,0 & 1\\textbar{}0:0.96:0.04,0.96,0 & 0\\textbar{}0:0:1,0,0 & 0\\textbar{}0:0:1,0,0 & 0\\textbar{}1:1:0,1,0 & 0\\textbar{}0:0:1,0,0          & 0\\textbar{}0:0:1,0,0 & 0\\textbar{}0:0:1,0,0 & 0\\textbar{}0:0:1,0,0\\\\\n",
       "\t GT:DS:GP & 0\\textbar{}0:0:1,0,0 & 0\\textbar{}0:0:1,0,0          & 0\\textbar{}0:0:1,0,0 & 0\\textbar{}0:0:1,0,0          & 0\\textbar{}0:0:1,0,0 & 0\\textbar{}0:0:1,0,0          & 0\\textbar{}0:0:1,0,0          & 0\\textbar{}0:0:1,0,0 & 0\\textbar{}0:0:1,0,0 & ⋯ & 0\\textbar{}0:0:1,0,0 & 0\\textbar{}0:0:1,0,0 & 0\\textbar{}0:0:1,0,0          & 0\\textbar{}0:0:1,0,0 & 0\\textbar{}0:0:1,0,0 & 0\\textbar{}0:0:1,0,0 & 0\\textbar{}0:0:1,0,0          & 0\\textbar{}0:0:1,0,0 & 0\\textbar{}0:0:1,0,0 & 0\\textbar{}0:0:1,0,0\\\\\n",
       "\t GT:DS:GP & 0\\textbar{}0:0:1,0,0 & 0\\textbar{}0:0:1,0,0          & 0\\textbar{}0:0:1,0,0 & 0\\textbar{}1:0.98:0.02,0.98,0 & 0\\textbar{}0:0:1,0,0 & 1\\textbar{}0:0.97:0.03,0.96,0 & 1\\textbar{}0:0.95:0.06,0.94,0 & 0\\textbar{}0:0:1,0,0 & 0\\textbar{}0:0:1,0,0 & ⋯ & 0\\textbar{}0:0:1,0,0 & 0\\textbar{}0:0:1,0,0 & 0\\textbar{}1:0.98:0.02,0.98,0 & 0\\textbar{}0:0:1,0,0 & 0\\textbar{}0:0:1,0,0 & 0\\textbar{}0:0:1,0,0 & 1\\textbar{}0:0.97:0.03,0.96,0 & 0\\textbar{}0:0:1,0,0 & 0\\textbar{}0:0:1,0,0 & 0\\textbar{}0:0:1,0,0\\\\\n",
       "\t GT:DS:GP & 0\\textbar{}0:0:1,0,0 & 0\\textbar{}0:0:1,0,0          & 0\\textbar{}0:0:1,0,0 & 0\\textbar{}0:0:1,0,0          & 0\\textbar{}0:0:1,0,0 & 0\\textbar{}0:0:1,0,0          & 0\\textbar{}0:0:1,0,0          & 0\\textbar{}0:0:1,0,0 & 0\\textbar{}0:0:1,0,0 & ⋯ & 0\\textbar{}0:0:1,0,0 & 0\\textbar{}0:0:1,0,0 & 0\\textbar{}0:0:1,0,0          & 0\\textbar{}0:0:1,0,0 & 0\\textbar{}0:0:1,0,0 & 0\\textbar{}0:0:1,0,0 & 0\\textbar{}0:0:1,0,0          & 0\\textbar{}0:0:1,0,0 & 0\\textbar{}0:0:1,0,0 & 0\\textbar{}0:0:1,0,0\\\\\n",
       "\\end{tabular}\n"
      ],
      "text/markdown": [
       "\n",
       "A matrix: 4 × 973 of type chr\n",
       "\n",
       "| FORMAT | 1_1 | 2_2 | 3_3 | 4_4 | 6_6 | 7_7 | 8_8 | 9_9 | 10_10 | ⋯ | 1073_1074 | 1074_1075 | 1075_1076 | 1076_1077 | 1077_1078 | 1078_1079 | 1079_1080 | 1080_1081 | 1081_1082 | 241_242 |\n",
       "|---|---|---|---|---|---|---|---|---|---|---|---|---|---|---|---|---|---|---|---|---|\n",
       "| GT:DS:GP | 0|0:0:1,0,0 | 1|1:1.96:0,0.04,0.96 | 0|1:1:0,1,0 | 1|0:1:0,1,0          | 0|1:1:0,1,0 | 0|0:0:1,0,0          | 0|1:1:0,1,0          | 1|0:1:0,1,0 | 0|0:0:1,0,0 | ⋯ | 1|1:2:0,0,1 | 0|0:0:1,0,0 | 1|0:0.96:0.04,0.96,0 | 0|0:0:1,0,0 | 0|0:0:1,0,0 | 0|1:1:0,1,0 | 0|0:0:1,0,0          | 0|0:0:1,0,0 | 0|0:0:1,0,0 | 0|0:0:1,0,0 |\n",
       "| GT:DS:GP | 0|0:0:1,0,0 | 0|0:0:1,0,0          | 0|0:0:1,0,0 | 0|0:0:1,0,0          | 0|0:0:1,0,0 | 0|0:0:1,0,0          | 0|0:0:1,0,0          | 0|0:0:1,0,0 | 0|0:0:1,0,0 | ⋯ | 0|0:0:1,0,0 | 0|0:0:1,0,0 | 0|0:0:1,0,0          | 0|0:0:1,0,0 | 0|0:0:1,0,0 | 0|0:0:1,0,0 | 0|0:0:1,0,0          | 0|0:0:1,0,0 | 0|0:0:1,0,0 | 0|0:0:1,0,0 |\n",
       "| GT:DS:GP | 0|0:0:1,0,0 | 0|0:0:1,0,0          | 0|0:0:1,0,0 | 0|1:0.98:0.02,0.98,0 | 0|0:0:1,0,0 | 1|0:0.97:0.03,0.96,0 | 1|0:0.95:0.06,0.94,0 | 0|0:0:1,0,0 | 0|0:0:1,0,0 | ⋯ | 0|0:0:1,0,0 | 0|0:0:1,0,0 | 0|1:0.98:0.02,0.98,0 | 0|0:0:1,0,0 | 0|0:0:1,0,0 | 0|0:0:1,0,0 | 1|0:0.97:0.03,0.96,0 | 0|0:0:1,0,0 | 0|0:0:1,0,0 | 0|0:0:1,0,0 |\n",
       "| GT:DS:GP | 0|0:0:1,0,0 | 0|0:0:1,0,0          | 0|0:0:1,0,0 | 0|0:0:1,0,0          | 0|0:0:1,0,0 | 0|0:0:1,0,0          | 0|0:0:1,0,0          | 0|0:0:1,0,0 | 0|0:0:1,0,0 | ⋯ | 0|0:0:1,0,0 | 0|0:0:1,0,0 | 0|0:0:1,0,0          | 0|0:0:1,0,0 | 0|0:0:1,0,0 | 0|0:0:1,0,0 | 0|0:0:1,0,0          | 0|0:0:1,0,0 | 0|0:0:1,0,0 | 0|0:0:1,0,0 |\n",
       "\n"
      ],
      "text/plain": [
       "     FORMAT   1_1         2_2                  3_3         4_4                 \n",
       "[1,] GT:DS:GP 0|0:0:1,0,0 1|1:1.96:0,0.04,0.96 0|1:1:0,1,0 1|0:1:0,1,0         \n",
       "[2,] GT:DS:GP 0|0:0:1,0,0 0|0:0:1,0,0          0|0:0:1,0,0 0|0:0:1,0,0         \n",
       "[3,] GT:DS:GP 0|0:0:1,0,0 0|0:0:1,0,0          0|0:0:1,0,0 0|1:0.98:0.02,0.98,0\n",
       "[4,] GT:DS:GP 0|0:0:1,0,0 0|0:0:1,0,0          0|0:0:1,0,0 0|0:0:1,0,0         \n",
       "     6_6         7_7                  8_8                  9_9        \n",
       "[1,] 0|1:1:0,1,0 0|0:0:1,0,0          0|1:1:0,1,0          1|0:1:0,1,0\n",
       "[2,] 0|0:0:1,0,0 0|0:0:1,0,0          0|0:0:1,0,0          0|0:0:1,0,0\n",
       "[3,] 0|0:0:1,0,0 1|0:0.97:0.03,0.96,0 1|0:0.95:0.06,0.94,0 0|0:0:1,0,0\n",
       "[4,] 0|0:0:1,0,0 0|0:0:1,0,0          0|0:0:1,0,0          0|0:0:1,0,0\n",
       "     10_10       ⋯ 1073_1074   1074_1075   1075_1076            1076_1077  \n",
       "[1,] 0|0:0:1,0,0 ⋯ 1|1:2:0,0,1 0|0:0:1,0,0 1|0:0.96:0.04,0.96,0 0|0:0:1,0,0\n",
       "[2,] 0|0:0:1,0,0 ⋯ 0|0:0:1,0,0 0|0:0:1,0,0 0|0:0:1,0,0          0|0:0:1,0,0\n",
       "[3,] 0|0:0:1,0,0 ⋯ 0|0:0:1,0,0 0|0:0:1,0,0 0|1:0.98:0.02,0.98,0 0|0:0:1,0,0\n",
       "[4,] 0|0:0:1,0,0 ⋯ 0|0:0:1,0,0 0|0:0:1,0,0 0|0:0:1,0,0          0|0:0:1,0,0\n",
       "     1077_1078   1078_1079   1079_1080            1080_1081   1081_1082  \n",
       "[1,] 0|0:0:1,0,0 0|1:1:0,1,0 0|0:0:1,0,0          0|0:0:1,0,0 0|0:0:1,0,0\n",
       "[2,] 0|0:0:1,0,0 0|0:0:1,0,0 0|0:0:1,0,0          0|0:0:1,0,0 0|0:0:1,0,0\n",
       "[3,] 0|0:0:1,0,0 0|0:0:1,0,0 1|0:0.97:0.03,0.96,0 0|0:0:1,0,0 0|0:0:1,0,0\n",
       "[4,] 0|0:0:1,0,0 0|0:0:1,0,0 0|0:0:1,0,0          0|0:0:1,0,0 0|0:0:1,0,0\n",
       "     241_242    \n",
       "[1,] 0|0:0:1,0,0\n",
       "[2,] 0|0:0:1,0,0\n",
       "[3,] 0|0:0:1,0,0\n",
       "[4,] 0|0:0:1,0,0"
      ]
     },
     "metadata": {},
     "output_type": "display_data"
    },
    {
     "data": {
      "image/png": "[encoded data removed]",
      "text/plain": [
       "plot without title"
      ]
     },
     "metadata": {
      "image/png": {
       "height": 400,
       "width": 600
      }
     },
     "output_type": "display_data"
    }
   ],
   "source": [
    "vcf_filepath = paste0(\"/data/srlab/ssakaue/share/forJoyce/1K1K.final.maf0.01.MHC.SNP2HLA.bgl.phased.vcf.gz\")\n",
    "vcf = read.vcfR(vcf_filepath, verbose = FALSE)\n",
    "vcf@fix %>% head(4)\n",
    "vcf@gt %>% head(4)\n",
    "\n",
    "res = make_imputation_results(vcf_filepath)\n",
    "res$p2"
   ]
  },
  {
   "cell_type": "markdown",
   "id": "63b6a9b4-9daf-41e8-9a0b-83e91b1e22d4",
   "metadata": {},
   "source": [
    "## Imputation Quality for 4-digit Alleles"
   ]
  },
  {
   "cell_type": "code",
   "execution_count": 48,
   "id": "ad4bd384-9572-4e04-aa4e-f5cd6c0b71de",
   "metadata": {},
   "outputs": [
    {
     "data": {
      "text/html": [
       "423"
      ],
      "text/latex": [
       "423"
      ],
      "text/markdown": [
       "423"
      ],
      "text/plain": [
       "[1] 423"
      ]
     },
     "metadata": {},
     "output_type": "display_data"
    }
   ],
   "source": [
    "vcf_4digit = res$vcf_fix_df[which(res$vcf_fix_df$ndigit == 4), ]\n",
    "length(unique(vcf_4digit$ID))\n",
    "vcf_4digit_OneK1K = vcf_4digit %>% mutate(dataset = 'OneK1K')\n",
    "\n",
    "## Subset to only include MAF>1%\n",
    "OneK1K_maf1 = vcf_4digit[which(vcf_4digit$AF > 0.01), ] %>%\n",
    "    group_by(GENE) %>%\n",
    "    summarise(mean = mean(DR2))\n",
    "\n",
    "## Subset to only include MAF>5%\n",
    "OneK1K_maf5 = vcf_4digit[which(vcf_4digit$AF > 0.05), ] %>%\n",
    "    group_by(GENE) %>%\n",
    "    summarise(mean = mean(DR2))"
   ]
  },
  {
   "cell_type": "markdown",
   "id": "aab8298c-ccc8-4cf0-b3e4-fcfc73234398",
   "metadata": {},
   "source": [
    "## Get Inferred HLA alleles for each individual"
   ]
  },
  {
   "cell_type": "code",
   "execution_count": 49,
   "id": "07f93763-9177-4227-b4c0-2a3cc14a3f1e",
   "metadata": {},
   "outputs": [
    {
     "data": {
      "text/html": [
       "972"
      ],
      "text/latex": [
       "972"
      ],
      "text/markdown": [
       "972"
      ],
      "text/plain": [
       "[1] 972"
      ]
     },
     "metadata": {},
     "output_type": "display_data"
    }
   ],
   "source": [
    "d = cbind(res$vcf_fix_df, res$vcf_hla@gt) %>% as.data.frame()\n",
    "samples = colnames(res$vcf_hla@gt)\n",
    "samples = samples[-1] # remove FORMAT column\n",
    "length(samples)"
   ]
  },
  {
   "cell_type": "markdown",
   "id": "882c3496-d3b3-4cfe-afb8-160e1ec7a0e0",
   "metadata": {},
   "source": [
    "## Subset to 1K1K samples"
   ]
  },
  {
   "cell_type": "code",
   "execution_count": 50,
   "id": "460a91a4-5c9f-4fab-8f2a-28bee9070fc7",
   "metadata": {},
   "outputs": [
    {
     "data": {
      "text/html": [
       "969"
      ],
      "text/latex": [
       "969"
      ],
      "text/markdown": [
       "969"
      ],
      "text/plain": [
       "[1] 969"
      ]
     },
     "metadata": {},
     "output_type": "display_data"
    }
   ],
   "source": [
    "sample_meta <- read.csv(\"../../data/meta/sample_meta_OneK1K.csv\")\n",
    "nrow(sample_meta)"
   ]
  },
  {
   "cell_type": "code",
   "execution_count": 51,
   "id": "3ed91bf6-241a-42ba-887e-16ab7325130a",
   "metadata": {},
   "outputs": [],
   "source": [
    "results = list()\n",
    "for (samp in sample_meta$Geno_ID[sample_meta$Geno_ID %in% colnames(d)]) {\n",
    "    d_samp = d[, c('REF', 'ID', 'GENE', samp, 'ndigit')] %>% filter(ndigit > 2)\n",
    "    d_samp_haszero = separate(data = d_samp, col = samp, into = c(\"geno01\", \"col1\", \"col2\"), sep = \":\") \n",
    "    d_samp_haszero$count = ifelse(d_samp_haszero[, 'REF'] == \"T\", \n",
    "                                  recode(d_samp_haszero$geno01,'0|0' = 2, '1|0' = 1, '0|1' = 1, '1|1' = 0), \n",
    "                                  recode(d_samp_haszero$geno01,'0|0' = 0, '1|0' = 1, '0|1' = 1, '1|1' = 2))\n",
    "    d_samp_haszero$dosage = ifelse(d_samp_haszero[, 'REF'] == \"T\", \n",
    "                                   2 - as.numeric(d_samp_haszero$col1), \n",
    "                                   as.numeric(d_samp_haszero$col1))\n",
    "    results[[samp]] = d_samp_haszero %>% filter(count == 1 | count == 2)\n",
    "}\n",
    "saveRDS(results, '../../data/hla_alleles/1K1K_updated.new.ref_results.rds')"
   ]
  },
  {
   "cell_type": "code",
   "execution_count": 52,
   "id": "4c2edbcd-3629-45aa-93dd-19a11d15c316",
   "metadata": {},
   "outputs": [],
   "source": [
    "results_allAlleles = list()\n",
    "for (samp in sample_meta$Geno_ID[sample_meta$Geno_ID %in% colnames(d)]) {\n",
    "    d_samp = d[, c('REF', 'ID', 'GENE', samp, 'ndigit')] \n",
    "    d_samp_haszero = separate(data = d_samp, col = samp, into = c(\"geno01\", \"col1\", \"col2\"), sep = \":\") \n",
    "    d_samp_haszero$count = ifelse(d_samp_haszero[, 'REF'] == \"T\", \n",
    "                                  recode(d_samp_haszero$geno01,'0|0' = 2, '1|0' = 1, '0|1' = 1, '1|1' = 0), \n",
    "                                  recode(d_samp_haszero$geno01,'0|0' = 0, '1|0' = 1, '0|1' = 1, '1|1' = 2))\n",
    "    d_samp_haszero$dosage = ifelse(d_samp_haszero[, 'REF'] == \"T\", \n",
    "                                   2 - as.numeric(d_samp_haszero$col1), \n",
    "                                   as.numeric(d_samp_haszero$col1))\n",
    "    results_allAlleles[[samp]] = d_samp_haszero\n",
    "}\n",
    "saveRDS(results_allAlleles, '../../data/hla_alleles/1K1K_updated.new.ref_allresults.rds')"
   ]
  },
  {
   "cell_type": "markdown",
   "id": "e2b9bee2-b4bf-4bba-bc42-347927ecfc6b",
   "metadata": {},
   "source": [
    "## Manual Inspection"
   ]
  },
  {
   "cell_type": "code",
   "execution_count": 53,
   "id": "7090d2da-9b75-42f5-8266-cad3244cdfa3",
   "metadata": {},
   "outputs": [
    {
     "data": {
      "text/html": [
       "<table class=\"dataframe\">\n",
       "<caption>A data.frame: 60 × 3</caption>\n",
       "<thead>\n",
       "\t<tr><th></th><th scope=col>X0</th><th scope=col>X0.1</th><th scope=col>X0.2</th></tr>\n",
       "\t<tr><th></th><th scope=col>&lt;chr&gt;</th><th scope=col>&lt;chr&gt;</th><th scope=col>&lt;chr&gt;</th></tr>\n",
       "</thead>\n",
       "<tbody>\n",
       "\t<tr><th scope=row>2</th><td>690_691  </td><td>HLA_B   </td><td>1</td></tr>\n",
       "\t<tr><th scope=row>3</th><td>692_693  </td><td>HLA_DPB1</td><td>1</td></tr>\n",
       "\t<tr><th scope=row>4</th><td>842_843  </td><td>HLA_A   </td><td>1</td></tr>\n",
       "\t<tr><th scope=row>5</th><td>850_851  </td><td>HLA_B   </td><td>1</td></tr>\n",
       "\t<tr><th scope=row>6</th><td>993_994  </td><td>HLA_B   </td><td>1</td></tr>\n",
       "\t<tr><th scope=row>7</th><td>1009_1010</td><td>HLA_A   </td><td>1</td></tr>\n",
       "\t<tr><th scope=row>8</th><td>1021_1022</td><td>HLA_B   </td><td>1</td></tr>\n",
       "\t<tr><th scope=row>9</th><td>904_905  </td><td>HLA_A   </td><td>1</td></tr>\n",
       "\t<tr><th scope=row>10</th><td>910_911  </td><td>HLA_B   </td><td>1</td></tr>\n",
       "\t<tr><th scope=row>11</th><td>704_705  </td><td>HLA_A   </td><td>1</td></tr>\n",
       "\t<tr><th scope=row>12</th><td>298_299  </td><td>HLA_C   </td><td>1</td></tr>\n",
       "\t<tr><th scope=row>13</th><td>304_305  </td><td>HLA_B   </td><td>1</td></tr>\n",
       "\t<tr><th scope=row>14</th><td>292_293  </td><td>HLA_B   </td><td>1</td></tr>\n",
       "\t<tr><th scope=row>15</th><td>326_327  </td><td>HLA_A   </td><td>1</td></tr>\n",
       "\t<tr><th scope=row>16</th><td>759_760  </td><td>HLA_A   </td><td>1</td></tr>\n",
       "\t<tr><th scope=row>17</th><td>753_754  </td><td>HLA_DRB1</td><td>1</td></tr>\n",
       "\t<tr><th scope=row>18</th><td>1062_1063</td><td>HLA_DRB1</td><td>1</td></tr>\n",
       "\t<tr><th scope=row>19</th><td>783_784  </td><td>HLA_B   </td><td>1</td></tr>\n",
       "\t<tr><th scope=row>20</th><td>791_792  </td><td>HLA_DRB1</td><td>1</td></tr>\n",
       "\t<tr><th scope=row>21</th><td>432_433  </td><td>HLA_A   </td><td>1</td></tr>\n",
       "\t<tr><th scope=row>22</th><td>1070_1071</td><td>HLA_DRB1</td><td>1</td></tr>\n",
       "\t<tr><th scope=row>23</th><td>516_517  </td><td>HLA_B   </td><td>1</td></tr>\n",
       "\t<tr><th scope=row>24</th><td>562_563  </td><td>HLA_B   </td><td>1</td></tr>\n",
       "\t<tr><th scope=row>25</th><td>493_494  </td><td>HLA_DPB1</td><td>1</td></tr>\n",
       "\t<tr><th scope=row>26</th><td>543_544  </td><td>HLA_B   </td><td>1</td></tr>\n",
       "\t<tr><th scope=row>27</th><td>541_542  </td><td>HLA_A   </td><td>1</td></tr>\n",
       "\t<tr><th scope=row>28</th><td>512_513  </td><td>HLA_B   </td><td>1</td></tr>\n",
       "\t<tr><th scope=row>29</th><td>569_570  </td><td>HLA_C   </td><td>1</td></tr>\n",
       "\t<tr><th scope=row>30</th><td>110_110  </td><td>HLA_DRB1</td><td>1</td></tr>\n",
       "\t<tr><th scope=row>31</th><td>621_622  </td><td>HLA_B   </td><td>1</td></tr>\n",
       "\t<tr><th scope=row>32</th><td>618_619  </td><td>HLA_B   </td><td>1</td></tr>\n",
       "\t<tr><th scope=row>33</th><td>652_653  </td><td>HLA_DRB1</td><td>1</td></tr>\n",
       "\t<tr><th scope=row>34</th><td>580_581  </td><td>HLA_A   </td><td>1</td></tr>\n",
       "\t<tr><th scope=row>35</th><td>634_635  </td><td>HLA_DRB1</td><td>1</td></tr>\n",
       "\t<tr><th scope=row>36</th><td>635_636  </td><td>HLA_DPB1</td><td>1</td></tr>\n",
       "\t<tr><th scope=row>37</th><td>47_47    </td><td>HLA_B   </td><td>1</td></tr>\n",
       "\t<tr><th scope=row>38</th><td>1077_1078</td><td>HLA_DRB1</td><td>1</td></tr>\n",
       "\t<tr><th scope=row>39</th><td>72_72    </td><td>HLA_DRB1</td><td>1</td></tr>\n",
       "\t<tr><th scope=row>40</th><td>70_70    </td><td>HLA_DRB1</td><td>1</td></tr>\n",
       "\t<tr><th scope=row>41</th><td>170_171  </td><td>HLA_B   </td><td>1</td></tr>\n",
       "\t<tr><th scope=row>42</th><td>154_154  </td><td>HLA_A   </td><td>1</td></tr>\n",
       "\t<tr><th scope=row>43</th><td>175_176  </td><td>HLA_B   </td><td>1</td></tr>\n",
       "\t<tr><th scope=row>44</th><td>148_148  </td><td>HLA_DRB1</td><td>1</td></tr>\n",
       "\t<tr><th scope=row>45</th><td>128_128  </td><td>HLA_B   </td><td>1</td></tr>\n",
       "\t<tr><th scope=row>46</th><td>35_35    </td><td>HLA_A   </td><td>1</td></tr>\n",
       "\t<tr><th scope=row>47</th><td>30_30    </td><td>HLA_DPB1</td><td>1</td></tr>\n",
       "\t<tr><th scope=row>48</th><td>38_38    </td><td>HLA_DQB1</td><td>1</td></tr>\n",
       "\t<tr><th scope=row>49</th><td>158_158  </td><td>HLA_B   </td><td>1</td></tr>\n",
       "\t<tr><th scope=row>50</th><td>244_245  </td><td>HLA_DRB1</td><td>1</td></tr>\n",
       "\t<tr><th scope=row>51</th><td>252_253  </td><td>HLA_A   </td><td>1</td></tr>\n",
       "\t<tr><th scope=row>52</th><td>242_243  </td><td>HLA_DRB1</td><td>1</td></tr>\n",
       "\t<tr><th scope=row>53</th><td>838_839  </td><td>HLA_DRB1</td><td>1</td></tr>\n",
       "\t<tr><th scope=row>54</th><td>735_736  </td><td>HLA_B   </td><td>1</td></tr>\n",
       "\t<tr><th scope=row>55</th><td>927_928  </td><td>HLA_DPB1</td><td>1</td></tr>\n",
       "\t<tr><th scope=row>56</th><td>946_947  </td><td>HLA_B   </td><td>1</td></tr>\n",
       "\t<tr><th scope=row>57</th><td>945_946  </td><td>HLA_B   </td><td>1</td></tr>\n",
       "\t<tr><th scope=row>58</th><td>961_962  </td><td>HLA_DRB1</td><td>1</td></tr>\n",
       "\t<tr><th scope=row>59</th><td>960_961  </td><td>HLA_B   </td><td>1</td></tr>\n",
       "\t<tr><th scope=row>60</th><td>959_960  </td><td>HLA_B   </td><td>1</td></tr>\n",
       "\t<tr><th scope=row>61</th><td>744_745  </td><td>HLA_DRB1</td><td>1</td></tr>\n",
       "</tbody>\n",
       "</table>\n"
      ],
      "text/latex": [
       "A data.frame: 60 × 3\n",
       "\\begin{tabular}{r|lll}\n",
       "  & X0 & X0.1 & X0.2\\\\\n",
       "  & <chr> & <chr> & <chr>\\\\\n",
       "\\hline\n",
       "\t2 & 690\\_691   & HLA\\_B    & 1\\\\\n",
       "\t3 & 692\\_693   & HLA\\_DPB1 & 1\\\\\n",
       "\t4 & 842\\_843   & HLA\\_A    & 1\\\\\n",
       "\t5 & 850\\_851   & HLA\\_B    & 1\\\\\n",
       "\t6 & 993\\_994   & HLA\\_B    & 1\\\\\n",
       "\t7 & 1009\\_1010 & HLA\\_A    & 1\\\\\n",
       "\t8 & 1021\\_1022 & HLA\\_B    & 1\\\\\n",
       "\t9 & 904\\_905   & HLA\\_A    & 1\\\\\n",
       "\t10 & 910\\_911   & HLA\\_B    & 1\\\\\n",
       "\t11 & 704\\_705   & HLA\\_A    & 1\\\\\n",
       "\t12 & 298\\_299   & HLA\\_C    & 1\\\\\n",
       "\t13 & 304\\_305   & HLA\\_B    & 1\\\\\n",
       "\t14 & 292\\_293   & HLA\\_B    & 1\\\\\n",
       "\t15 & 326\\_327   & HLA\\_A    & 1\\\\\n",
       "\t16 & 759\\_760   & HLA\\_A    & 1\\\\\n",
       "\t17 & 753\\_754   & HLA\\_DRB1 & 1\\\\\n",
       "\t18 & 1062\\_1063 & HLA\\_DRB1 & 1\\\\\n",
       "\t19 & 783\\_784   & HLA\\_B    & 1\\\\\n",
       "\t20 & 791\\_792   & HLA\\_DRB1 & 1\\\\\n",
       "\t21 & 432\\_433   & HLA\\_A    & 1\\\\\n",
       "\t22 & 1070\\_1071 & HLA\\_DRB1 & 1\\\\\n",
       "\t23 & 516\\_517   & HLA\\_B    & 1\\\\\n",
       "\t24 & 562\\_563   & HLA\\_B    & 1\\\\\n",
       "\t25 & 493\\_494   & HLA\\_DPB1 & 1\\\\\n",
       "\t26 & 543\\_544   & HLA\\_B    & 1\\\\\n",
       "\t27 & 541\\_542   & HLA\\_A    & 1\\\\\n",
       "\t28 & 512\\_513   & HLA\\_B    & 1\\\\\n",
       "\t29 & 569\\_570   & HLA\\_C    & 1\\\\\n",
       "\t30 & 110\\_110   & HLA\\_DRB1 & 1\\\\\n",
       "\t31 & 621\\_622   & HLA\\_B    & 1\\\\\n",
       "\t32 & 618\\_619   & HLA\\_B    & 1\\\\\n",
       "\t33 & 652\\_653   & HLA\\_DRB1 & 1\\\\\n",
       "\t34 & 580\\_581   & HLA\\_A    & 1\\\\\n",
       "\t35 & 634\\_635   & HLA\\_DRB1 & 1\\\\\n",
       "\t36 & 635\\_636   & HLA\\_DPB1 & 1\\\\\n",
       "\t37 & 47\\_47     & HLA\\_B    & 1\\\\\n",
       "\t38 & 1077\\_1078 & HLA\\_DRB1 & 1\\\\\n",
       "\t39 & 72\\_72     & HLA\\_DRB1 & 1\\\\\n",
       "\t40 & 70\\_70     & HLA\\_DRB1 & 1\\\\\n",
       "\t41 & 170\\_171   & HLA\\_B    & 1\\\\\n",
       "\t42 & 154\\_154   & HLA\\_A    & 1\\\\\n",
       "\t43 & 175\\_176   & HLA\\_B    & 1\\\\\n",
       "\t44 & 148\\_148   & HLA\\_DRB1 & 1\\\\\n",
       "\t45 & 128\\_128   & HLA\\_B    & 1\\\\\n",
       "\t46 & 35\\_35     & HLA\\_A    & 1\\\\\n",
       "\t47 & 30\\_30     & HLA\\_DPB1 & 1\\\\\n",
       "\t48 & 38\\_38     & HLA\\_DQB1 & 1\\\\\n",
       "\t49 & 158\\_158   & HLA\\_B    & 1\\\\\n",
       "\t50 & 244\\_245   & HLA\\_DRB1 & 1\\\\\n",
       "\t51 & 252\\_253   & HLA\\_A    & 1\\\\\n",
       "\t52 & 242\\_243   & HLA\\_DRB1 & 1\\\\\n",
       "\t53 & 838\\_839   & HLA\\_DRB1 & 1\\\\\n",
       "\t54 & 735\\_736   & HLA\\_B    & 1\\\\\n",
       "\t55 & 927\\_928   & HLA\\_DPB1 & 1\\\\\n",
       "\t56 & 946\\_947   & HLA\\_B    & 1\\\\\n",
       "\t57 & 945\\_946   & HLA\\_B    & 1\\\\\n",
       "\t58 & 961\\_962   & HLA\\_DRB1 & 1\\\\\n",
       "\t59 & 960\\_961   & HLA\\_B    & 1\\\\\n",
       "\t60 & 959\\_960   & HLA\\_B    & 1\\\\\n",
       "\t61 & 744\\_745   & HLA\\_DRB1 & 1\\\\\n",
       "\\end{tabular}\n"
      ],
      "text/markdown": [
       "\n",
       "A data.frame: 60 × 3\n",
       "\n",
       "| <!--/--> | X0 &lt;chr&gt; | X0.1 &lt;chr&gt; | X0.2 &lt;chr&gt; |\n",
       "|---|---|---|---|\n",
       "| 2 | 690_691   | HLA_B    | 1 |\n",
       "| 3 | 692_693   | HLA_DPB1 | 1 |\n",
       "| 4 | 842_843   | HLA_A    | 1 |\n",
       "| 5 | 850_851   | HLA_B    | 1 |\n",
       "| 6 | 993_994   | HLA_B    | 1 |\n",
       "| 7 | 1009_1010 | HLA_A    | 1 |\n",
       "| 8 | 1021_1022 | HLA_B    | 1 |\n",
       "| 9 | 904_905   | HLA_A    | 1 |\n",
       "| 10 | 910_911   | HLA_B    | 1 |\n",
       "| 11 | 704_705   | HLA_A    | 1 |\n",
       "| 12 | 298_299   | HLA_C    | 1 |\n",
       "| 13 | 304_305   | HLA_B    | 1 |\n",
       "| 14 | 292_293   | HLA_B    | 1 |\n",
       "| 15 | 326_327   | HLA_A    | 1 |\n",
       "| 16 | 759_760   | HLA_A    | 1 |\n",
       "| 17 | 753_754   | HLA_DRB1 | 1 |\n",
       "| 18 | 1062_1063 | HLA_DRB1 | 1 |\n",
       "| 19 | 783_784   | HLA_B    | 1 |\n",
       "| 20 | 791_792   | HLA_DRB1 | 1 |\n",
       "| 21 | 432_433   | HLA_A    | 1 |\n",
       "| 22 | 1070_1071 | HLA_DRB1 | 1 |\n",
       "| 23 | 516_517   | HLA_B    | 1 |\n",
       "| 24 | 562_563   | HLA_B    | 1 |\n",
       "| 25 | 493_494   | HLA_DPB1 | 1 |\n",
       "| 26 | 543_544   | HLA_B    | 1 |\n",
       "| 27 | 541_542   | HLA_A    | 1 |\n",
       "| 28 | 512_513   | HLA_B    | 1 |\n",
       "| 29 | 569_570   | HLA_C    | 1 |\n",
       "| 30 | 110_110   | HLA_DRB1 | 1 |\n",
       "| 31 | 621_622   | HLA_B    | 1 |\n",
       "| 32 | 618_619   | HLA_B    | 1 |\n",
       "| 33 | 652_653   | HLA_DRB1 | 1 |\n",
       "| 34 | 580_581   | HLA_A    | 1 |\n",
       "| 35 | 634_635   | HLA_DRB1 | 1 |\n",
       "| 36 | 635_636   | HLA_DPB1 | 1 |\n",
       "| 37 | 47_47     | HLA_B    | 1 |\n",
       "| 38 | 1077_1078 | HLA_DRB1 | 1 |\n",
       "| 39 | 72_72     | HLA_DRB1 | 1 |\n",
       "| 40 | 70_70     | HLA_DRB1 | 1 |\n",
       "| 41 | 170_171   | HLA_B    | 1 |\n",
       "| 42 | 154_154   | HLA_A    | 1 |\n",
       "| 43 | 175_176   | HLA_B    | 1 |\n",
       "| 44 | 148_148   | HLA_DRB1 | 1 |\n",
       "| 45 | 128_128   | HLA_B    | 1 |\n",
       "| 46 | 35_35     | HLA_A    | 1 |\n",
       "| 47 | 30_30     | HLA_DPB1 | 1 |\n",
       "| 48 | 38_38     | HLA_DQB1 | 1 |\n",
       "| 49 | 158_158   | HLA_B    | 1 |\n",
       "| 50 | 244_245   | HLA_DRB1 | 1 |\n",
       "| 51 | 252_253   | HLA_A    | 1 |\n",
       "| 52 | 242_243   | HLA_DRB1 | 1 |\n",
       "| 53 | 838_839   | HLA_DRB1 | 1 |\n",
       "| 54 | 735_736   | HLA_B    | 1 |\n",
       "| 55 | 927_928   | HLA_DPB1 | 1 |\n",
       "| 56 | 946_947   | HLA_B    | 1 |\n",
       "| 57 | 945_946   | HLA_B    | 1 |\n",
       "| 58 | 961_962   | HLA_DRB1 | 1 |\n",
       "| 59 | 960_961   | HLA_B    | 1 |\n",
       "| 60 | 959_960   | HLA_B    | 1 |\n",
       "| 61 | 744_745   | HLA_DRB1 | 1 |\n",
       "\n"
      ],
      "text/plain": [
       "   X0        X0.1     X0.2\n",
       "2  690_691   HLA_B    1   \n",
       "3  692_693   HLA_DPB1 1   \n",
       "4  842_843   HLA_A    1   \n",
       "5  850_851   HLA_B    1   \n",
       "6  993_994   HLA_B    1   \n",
       "7  1009_1010 HLA_A    1   \n",
       "8  1021_1022 HLA_B    1   \n",
       "9  904_905   HLA_A    1   \n",
       "10 910_911   HLA_B    1   \n",
       "11 704_705   HLA_A    1   \n",
       "12 298_299   HLA_C    1   \n",
       "13 304_305   HLA_B    1   \n",
       "14 292_293   HLA_B    1   \n",
       "15 326_327   HLA_A    1   \n",
       "16 759_760   HLA_A    1   \n",
       "17 753_754   HLA_DRB1 1   \n",
       "18 1062_1063 HLA_DRB1 1   \n",
       "19 783_784   HLA_B    1   \n",
       "20 791_792   HLA_DRB1 1   \n",
       "21 432_433   HLA_A    1   \n",
       "22 1070_1071 HLA_DRB1 1   \n",
       "23 516_517   HLA_B    1   \n",
       "24 562_563   HLA_B    1   \n",
       "25 493_494   HLA_DPB1 1   \n",
       "26 543_544   HLA_B    1   \n",
       "27 541_542   HLA_A    1   \n",
       "28 512_513   HLA_B    1   \n",
       "29 569_570   HLA_C    1   \n",
       "30 110_110   HLA_DRB1 1   \n",
       "31 621_622   HLA_B    1   \n",
       "32 618_619   HLA_B    1   \n",
       "33 652_653   HLA_DRB1 1   \n",
       "34 580_581   HLA_A    1   \n",
       "35 634_635   HLA_DRB1 1   \n",
       "36 635_636   HLA_DPB1 1   \n",
       "37 47_47     HLA_B    1   \n",
       "38 1077_1078 HLA_DRB1 1   \n",
       "39 72_72     HLA_DRB1 1   \n",
       "40 70_70     HLA_DRB1 1   \n",
       "41 170_171   HLA_B    1   \n",
       "42 154_154   HLA_A    1   \n",
       "43 175_176   HLA_B    1   \n",
       "44 148_148   HLA_DRB1 1   \n",
       "45 128_128   HLA_B    1   \n",
       "46 35_35     HLA_A    1   \n",
       "47 30_30     HLA_DPB1 1   \n",
       "48 38_38     HLA_DQB1 1   \n",
       "49 158_158   HLA_B    1   \n",
       "50 244_245   HLA_DRB1 1   \n",
       "51 252_253   HLA_A    1   \n",
       "52 242_243   HLA_DRB1 1   \n",
       "53 838_839   HLA_DRB1 1   \n",
       "54 735_736   HLA_B    1   \n",
       "55 927_928   HLA_DPB1 1   \n",
       "56 946_947   HLA_B    1   \n",
       "57 945_946   HLA_B    1   \n",
       "58 961_962   HLA_DRB1 1   \n",
       "59 960_961   HLA_B    1   \n",
       "60 959_960   HLA_B    1   \n",
       "61 744_745   HLA_DRB1 1   "
      ]
     },
     "metadata": {},
     "output_type": "display_data"
    },
    {
     "data": {
      "text/html": [
       "60"
      ],
      "text/latex": [
       "60"
      ],
      "text/markdown": [
       "60"
      ],
      "text/plain": [
       "[1] 60"
      ]
     },
     "metadata": {},
     "output_type": "display_data"
    }
   ],
   "source": [
    "df_missing <- data.frame(0,0,0)\n",
    "for (samp in unique(sample_meta$Geno_ID[sample_meta$Geno_ID %in% colnames(d)])) {\n",
    "    res = results[[samp]]\n",
    "    \n",
    "    gene_sums = tapply(res$count, res$GENE, sum)\n",
    "    count_sum = sum(res$count)\n",
    "    \n",
    "    for (gene in c(\"HLA_A\", \"HLA_B\", \"HLA_C\", \"HLA_DRB1\", \"HLA_DQA1\", \"HLA_DQB1\", \"HLA_DPB1\", \"HLA_DPA1\")) {\n",
    "    if (gene_sums[gene] != 2 | is.na(gene_sums[gene])) {\n",
    "        df_missing <- rbind(df_missing, c(samp, gene, gene_sums[gene]))\n",
    "        #print(res)\n",
    "    }\n",
    " }\n",
    "}\n",
    "df_missing <- df_missing[-1, ]\n",
    "df_missing\n",
    "length(unique(df_missing$X0))"
   ]
  },
  {
   "cell_type": "code",
   "execution_count": 54,
   "id": "516a1ff2-3cad-417e-86ea-4db5d3c4a0ee",
   "metadata": {},
   "outputs": [
    {
     "name": "stdout",
     "output_type": "stream",
     "text": [
      "[1] 909\n"
     ]
    }
   ],
   "source": [
    "results <- results[- which(names(results) %in% unique(df_missing$X0))]\n",
    "i = 0\n",
    "for (name in names(results)) {\n",
    "    res = results[[name]][,c('ID', 'GENE', 'count')]\n",
    "    # List of alleles (save as XXX-XXX_alleles.txt)\n",
    "    write.csv(res, paste0('../../data/hla_alleles/1K1K_alleles/', name, '_alleles.csv'), \n",
    "              row.names = FALSE, quote = FALSE)\n",
    "    i = i + 1\n",
    "}\n",
    "print(i)"
   ]
  },
  {
   "cell_type": "code",
   "execution_count": 55,
   "id": "07c56798-0873-4d3c-acf5-6e75937426e7",
   "metadata": {
    "tags": []
   },
   "outputs": [],
   "source": [
    "saveRDS(results, '../../data/hla_alleles/1K1K_updated.new.ref_results.rds')\n",
    "saveRDS(results_allAlleles, '../../data/hla_alleles/1K1K_updated.new.ref_results.rds')\n",
    "saveRDS(df_missing, '../../data/hla_alleles/1K1K_df_missing.rds')"
   ]
  },
  {
   "cell_type": "code",
   "execution_count": 56,
   "id": "e06f8911-03b7-421c-a878-7032556e19c6",
   "metadata": {},
   "outputs": [
    {
     "data": {
      "text/html": [
       "<table class=\"dataframe\">\n",
       "<caption>A data.frame: 4 × 6</caption>\n",
       "<thead>\n",
       "\t<tr><th></th><th scope=col>Geno_ID</th><th scope=col>Sample</th><th scope=col>Allele</th><th scope=col>Gene</th><th scope=col>GT</th><th scope=col>dosage</th></tr>\n",
       "\t<tr><th></th><th scope=col>&lt;chr&gt;</th><th scope=col>&lt;chr&gt;</th><th scope=col>&lt;chr&gt;</th><th scope=col>&lt;chr&gt;</th><th scope=col>&lt;chr&gt;</th><th scope=col>&lt;dbl&gt;</th></tr>\n",
       "</thead>\n",
       "<tbody>\n",
       "\t<tr><th scope=row>1</th><td>691_692</td><td>691_692</td><td>HLA_A*02:01</td><td>HLA_A</td><td>1|0</td><td>0.98</td></tr>\n",
       "\t<tr><th scope=row>2</th><td>691_692</td><td>691_692</td><td>HLA_A*69:01</td><td>HLA_A</td><td>0|1</td><td>1.00</td></tr>\n",
       "\t<tr><th scope=row>3</th><td>691_692</td><td>691_692</td><td>HLA_C*06:02</td><td>HLA_C</td><td>1|1</td><td>2.00</td></tr>\n",
       "\t<tr><th scope=row>4</th><td>691_692</td><td>691_692</td><td>HLA_B*13:02</td><td>HLA_B</td><td>0|1</td><td>1.00</td></tr>\n",
       "</tbody>\n",
       "</table>\n"
      ],
      "text/latex": [
       "A data.frame: 4 × 6\n",
       "\\begin{tabular}{r|llllll}\n",
       "  & Geno\\_ID & Sample & Allele & Gene & GT & dosage\\\\\n",
       "  & <chr> & <chr> & <chr> & <chr> & <chr> & <dbl>\\\\\n",
       "\\hline\n",
       "\t1 & 691\\_692 & 691\\_692 & HLA\\_A*02:01 & HLA\\_A & 1\\textbar{}0 & 0.98\\\\\n",
       "\t2 & 691\\_692 & 691\\_692 & HLA\\_A*69:01 & HLA\\_A & 0\\textbar{}1 & 1.00\\\\\n",
       "\t3 & 691\\_692 & 691\\_692 & HLA\\_C*06:02 & HLA\\_C & 1\\textbar{}1 & 2.00\\\\\n",
       "\t4 & 691\\_692 & 691\\_692 & HLA\\_B*13:02 & HLA\\_B & 0\\textbar{}1 & 1.00\\\\\n",
       "\\end{tabular}\n"
      ],
      "text/markdown": [
       "\n",
       "A data.frame: 4 × 6\n",
       "\n",
       "| <!--/--> | Geno_ID &lt;chr&gt; | Sample &lt;chr&gt; | Allele &lt;chr&gt; | Gene &lt;chr&gt; | GT &lt;chr&gt; | dosage &lt;dbl&gt; |\n",
       "|---|---|---|---|---|---|---|\n",
       "| 1 | 691_692 | 691_692 | HLA_A*02:01 | HLA_A | 1|0 | 0.98 |\n",
       "| 2 | 691_692 | 691_692 | HLA_A*69:01 | HLA_A | 0|1 | 1.00 |\n",
       "| 3 | 691_692 | 691_692 | HLA_C*06:02 | HLA_C | 1|1 | 2.00 |\n",
       "| 4 | 691_692 | 691_692 | HLA_B*13:02 | HLA_B | 0|1 | 1.00 |\n",
       "\n"
      ],
      "text/plain": [
       "  Geno_ID Sample  Allele      Gene  GT  dosage\n",
       "1 691_692 691_692 HLA_A*02:01 HLA_A 1|0 0.98  \n",
       "2 691_692 691_692 HLA_A*69:01 HLA_A 0|1 1.00  \n",
       "3 691_692 691_692 HLA_C*06:02 HLA_C 1|1 2.00  \n",
       "4 691_692 691_692 HLA_B*13:02 HLA_B 0|1 1.00  "
      ]
     },
     "metadata": {},
     "output_type": "display_data"
    },
    {
     "data": {
      "text/html": [
       "909"
      ],
      "text/latex": [
       "909"
      ],
      "text/markdown": [
       "909"
      ],
      "text/plain": [
       "[1] 909"
      ]
     },
     "metadata": {},
     "output_type": "display_data"
    }
   ],
   "source": [
    "## Make Supplementary Table\n",
    "results_table = bind_rows(results, .id = 'Geno_ID') %>% select(Geno_ID, ID, GENE, geno01, dosage)\n",
    "rownames(results_table) = c(1:nrow(results_table))\n",
    "results_table = left_join(results_table, sample_meta[, c('Geno_ID', 'Sample')], by = 'Geno_ID')[, c(1, 6, 2, 3, 4, 5)]\n",
    "colnames(results_table) = c('Geno_ID', 'Sample', 'Allele', 'Gene', 'GT', 'dosage')\n",
    "write.csv(results_table, '../../data/hla_alleles/HLA_alleles_table_OneK1K.csv')\n",
    "results_table %>% head(4)\n",
    "results_table$Sample %>% unique() %>% length()"
   ]
  },
  {
   "cell_type": "markdown",
   "id": "a4cbe740-64ef-4541-ad60-d66e6d184a08",
   "metadata": {},
   "source": [
    "# Table of imputation results"
   ]
  },
  {
   "cell_type": "code",
   "execution_count": 57,
   "id": "58b48376-df87-4a3c-8ed6-fadb28a4d600",
   "metadata": {},
   "outputs": [
    {
     "data": {
      "text/html": [
       "<table class=\"dataframe\">\n",
       "<caption>A data.frame: 8 × 6</caption>\n",
       "<thead>\n",
       "\t<tr><th scope=col>Gene</th><th scope=col>AMP2RA</th><th scope=col>Smillie2019_GSA</th><th scope=col>Smillie2019_custom</th><th scope=col>Randolph2021</th><th scope=col>OneK1K</th></tr>\n",
       "\t<tr><th scope=col>&lt;chr&gt;</th><th scope=col>&lt;dbl&gt;</th><th scope=col>&lt;dbl&gt;</th><th scope=col>&lt;dbl&gt;</th><th scope=col>&lt;dbl&gt;</th><th scope=col>&lt;dbl&gt;</th></tr>\n",
       "</thead>\n",
       "<tbody>\n",
       "\t<tr><td>HLA_A   </td><td>0.913</td><td>0.912</td><td>0.881</td><td>0.861</td><td>0.919</td></tr>\n",
       "\t<tr><td>HLA_B   </td><td>0.880</td><td>0.890</td><td>0.908</td><td>0.897</td><td>0.908</td></tr>\n",
       "\t<tr><td>HLA_C   </td><td>0.922</td><td>0.944</td><td>0.929</td><td>0.901</td><td>0.948</td></tr>\n",
       "\t<tr><td>HLA_DPA1</td><td>0.864</td><td>0.943</td><td>0.937</td><td>0.886</td><td>0.950</td></tr>\n",
       "\t<tr><td>HLA_DPB1</td><td>0.927</td><td>0.905</td><td>0.884</td><td>0.909</td><td>0.922</td></tr>\n",
       "\t<tr><td>HLA_DQA1</td><td>0.971</td><td>0.967</td><td>0.969</td><td>0.954</td><td>0.969</td></tr>\n",
       "\t<tr><td>HLA_DQB1</td><td>0.942</td><td>0.945</td><td>0.938</td><td>0.921</td><td>0.950</td></tr>\n",
       "\t<tr><td>HLA_DRB1</td><td>0.881</td><td>0.880</td><td>0.882</td><td>0.834</td><td>0.868</td></tr>\n",
       "</tbody>\n",
       "</table>\n"
      ],
      "text/latex": [
       "A data.frame: 8 × 6\n",
       "\\begin{tabular}{llllll}\n",
       " Gene & AMP2RA & Smillie2019\\_GSA & Smillie2019\\_custom & Randolph2021 & OneK1K\\\\\n",
       " <chr> & <dbl> & <dbl> & <dbl> & <dbl> & <dbl>\\\\\n",
       "\\hline\n",
       "\t HLA\\_A    & 0.913 & 0.912 & 0.881 & 0.861 & 0.919\\\\\n",
       "\t HLA\\_B    & 0.880 & 0.890 & 0.908 & 0.897 & 0.908\\\\\n",
       "\t HLA\\_C    & 0.922 & 0.944 & 0.929 & 0.901 & 0.948\\\\\n",
       "\t HLA\\_DPA1 & 0.864 & 0.943 & 0.937 & 0.886 & 0.950\\\\\n",
       "\t HLA\\_DPB1 & 0.927 & 0.905 & 0.884 & 0.909 & 0.922\\\\\n",
       "\t HLA\\_DQA1 & 0.971 & 0.967 & 0.969 & 0.954 & 0.969\\\\\n",
       "\t HLA\\_DQB1 & 0.942 & 0.945 & 0.938 & 0.921 & 0.950\\\\\n",
       "\t HLA\\_DRB1 & 0.881 & 0.880 & 0.882 & 0.834 & 0.868\\\\\n",
       "\\end{tabular}\n"
      ],
      "text/markdown": [
       "\n",
       "A data.frame: 8 × 6\n",
       "\n",
       "| Gene &lt;chr&gt; | AMP2RA &lt;dbl&gt; | Smillie2019_GSA &lt;dbl&gt; | Smillie2019_custom &lt;dbl&gt; | Randolph2021 &lt;dbl&gt; | OneK1K &lt;dbl&gt; |\n",
       "|---|---|---|---|---|---|\n",
       "| HLA_A    | 0.913 | 0.912 | 0.881 | 0.861 | 0.919 |\n",
       "| HLA_B    | 0.880 | 0.890 | 0.908 | 0.897 | 0.908 |\n",
       "| HLA_C    | 0.922 | 0.944 | 0.929 | 0.901 | 0.948 |\n",
       "| HLA_DPA1 | 0.864 | 0.943 | 0.937 | 0.886 | 0.950 |\n",
       "| HLA_DPB1 | 0.927 | 0.905 | 0.884 | 0.909 | 0.922 |\n",
       "| HLA_DQA1 | 0.971 | 0.967 | 0.969 | 0.954 | 0.969 |\n",
       "| HLA_DQB1 | 0.942 | 0.945 | 0.938 | 0.921 | 0.950 |\n",
       "| HLA_DRB1 | 0.881 | 0.880 | 0.882 | 0.834 | 0.868 |\n",
       "\n"
      ],
      "text/plain": [
       "  Gene     AMP2RA Smillie2019_GSA Smillie2019_custom Randolph2021 OneK1K\n",
       "1 HLA_A    0.913  0.912           0.881              0.861        0.919 \n",
       "2 HLA_B    0.880  0.890           0.908              0.897        0.908 \n",
       "3 HLA_C    0.922  0.944           0.929              0.901        0.948 \n",
       "4 HLA_DPA1 0.864  0.943           0.937              0.886        0.950 \n",
       "5 HLA_DPB1 0.927  0.905           0.884              0.909        0.922 \n",
       "6 HLA_DQA1 0.971  0.967           0.969              0.954        0.969 \n",
       "7 HLA_DQB1 0.942  0.945           0.938              0.921        0.950 \n",
       "8 HLA_DRB1 0.881  0.880           0.882              0.834        0.868 "
      ]
     },
     "metadata": {},
     "output_type": "display_data"
    }
   ],
   "source": [
    "colnames(AMP_maf1) = c('Gene', 'AMP2RA')\n",
    "colnames(Smillie1_maf1) = c('Gene', 'Smillie2019_GSA')\n",
    "colnames(Smillie2_maf1) = c('Gene', 'Smillie2019_custom')\n",
    "colnames(Randolph_maf1) = c('Gene', 'Randolph2021')\n",
    "colnames(OneK1K_maf1) = c('Gene', 'OneK1K')\n",
    "AMP_maf1[,2] = round(AMP_maf1[,2], 3)\n",
    "maf1_table = cbind(AMP_maf1, round(Smillie1_maf1[,2], 3), \n",
    "                             round(Smillie2_maf1[,2], 3), \n",
    "                             round(Randolph_maf1[,2], 3), \n",
    "                             round(OneK1K_maf1[,2], 3))\n",
    "maf1_table"
   ]
  },
  {
   "cell_type": "code",
   "execution_count": 58,
   "id": "666aae8f-a953-4bd6-b857-d041b51d8431",
   "metadata": {},
   "outputs": [
    {
     "data": {
      "text/html": [
       "<table class=\"dataframe\">\n",
       "<caption>A data.frame: 8 × 6</caption>\n",
       "<thead>\n",
       "\t<tr><th scope=col>Gene</th><th scope=col>AMP2RA</th><th scope=col>Smillie2019_GSA</th><th scope=col>Smillie2019_custom</th><th scope=col>Randolph2021</th><th scope=col>OneK1K</th></tr>\n",
       "\t<tr><th scope=col>&lt;chr&gt;</th><th scope=col>&lt;dbl&gt;</th><th scope=col>&lt;dbl&gt;</th><th scope=col>&lt;dbl&gt;</th><th scope=col>&lt;dbl&gt;</th><th scope=col>&lt;dbl&gt;</th></tr>\n",
       "</thead>\n",
       "<tbody>\n",
       "\t<tr><td>HLA_A   </td><td>0.960</td><td>0.966</td><td>0.966</td><td>0.914</td><td>0.966</td></tr>\n",
       "\t<tr><td>HLA_B   </td><td>0.943</td><td>0.950</td><td>0.958</td><td>0.940</td><td>0.961</td></tr>\n",
       "\t<tr><td>HLA_C   </td><td>0.965</td><td>0.977</td><td>0.973</td><td>0.951</td><td>0.976</td></tr>\n",
       "\t<tr><td>HLA_DPA1</td><td>0.960</td><td>0.960</td><td>0.960</td><td>0.963</td><td>0.970</td></tr>\n",
       "\t<tr><td>HLA_DPB1</td><td>0.968</td><td>0.972</td><td>0.948</td><td>0.978</td><td>0.972</td></tr>\n",
       "\t<tr><td>HLA_DQA1</td><td>0.971</td><td>0.977</td><td>0.977</td><td>0.977</td><td>0.977</td></tr>\n",
       "\t<tr><td>HLA_DQB1</td><td>0.982</td><td>0.972</td><td>0.967</td><td>0.950</td><td>0.971</td></tr>\n",
       "\t<tr><td>HLA_DRB1</td><td>0.947</td><td>0.920</td><td>0.919</td><td>0.877</td><td>0.958</td></tr>\n",
       "</tbody>\n",
       "</table>\n"
      ],
      "text/latex": [
       "A data.frame: 8 × 6\n",
       "\\begin{tabular}{llllll}\n",
       " Gene & AMP2RA & Smillie2019\\_GSA & Smillie2019\\_custom & Randolph2021 & OneK1K\\\\\n",
       " <chr> & <dbl> & <dbl> & <dbl> & <dbl> & <dbl>\\\\\n",
       "\\hline\n",
       "\t HLA\\_A    & 0.960 & 0.966 & 0.966 & 0.914 & 0.966\\\\\n",
       "\t HLA\\_B    & 0.943 & 0.950 & 0.958 & 0.940 & 0.961\\\\\n",
       "\t HLA\\_C    & 0.965 & 0.977 & 0.973 & 0.951 & 0.976\\\\\n",
       "\t HLA\\_DPA1 & 0.960 & 0.960 & 0.960 & 0.963 & 0.970\\\\\n",
       "\t HLA\\_DPB1 & 0.968 & 0.972 & 0.948 & 0.978 & 0.972\\\\\n",
       "\t HLA\\_DQA1 & 0.971 & 0.977 & 0.977 & 0.977 & 0.977\\\\\n",
       "\t HLA\\_DQB1 & 0.982 & 0.972 & 0.967 & 0.950 & 0.971\\\\\n",
       "\t HLA\\_DRB1 & 0.947 & 0.920 & 0.919 & 0.877 & 0.958\\\\\n",
       "\\end{tabular}\n"
      ],
      "text/markdown": [
       "\n",
       "A data.frame: 8 × 6\n",
       "\n",
       "| Gene &lt;chr&gt; | AMP2RA &lt;dbl&gt; | Smillie2019_GSA &lt;dbl&gt; | Smillie2019_custom &lt;dbl&gt; | Randolph2021 &lt;dbl&gt; | OneK1K &lt;dbl&gt; |\n",
       "|---|---|---|---|---|---|\n",
       "| HLA_A    | 0.960 | 0.966 | 0.966 | 0.914 | 0.966 |\n",
       "| HLA_B    | 0.943 | 0.950 | 0.958 | 0.940 | 0.961 |\n",
       "| HLA_C    | 0.965 | 0.977 | 0.973 | 0.951 | 0.976 |\n",
       "| HLA_DPA1 | 0.960 | 0.960 | 0.960 | 0.963 | 0.970 |\n",
       "| HLA_DPB1 | 0.968 | 0.972 | 0.948 | 0.978 | 0.972 |\n",
       "| HLA_DQA1 | 0.971 | 0.977 | 0.977 | 0.977 | 0.977 |\n",
       "| HLA_DQB1 | 0.982 | 0.972 | 0.967 | 0.950 | 0.971 |\n",
       "| HLA_DRB1 | 0.947 | 0.920 | 0.919 | 0.877 | 0.958 |\n",
       "\n"
      ],
      "text/plain": [
       "  Gene     AMP2RA Smillie2019_GSA Smillie2019_custom Randolph2021 OneK1K\n",
       "1 HLA_A    0.960  0.966           0.966              0.914        0.966 \n",
       "2 HLA_B    0.943  0.950           0.958              0.940        0.961 \n",
       "3 HLA_C    0.965  0.977           0.973              0.951        0.976 \n",
       "4 HLA_DPA1 0.960  0.960           0.960              0.963        0.970 \n",
       "5 HLA_DPB1 0.968  0.972           0.948              0.978        0.972 \n",
       "6 HLA_DQA1 0.971  0.977           0.977              0.977        0.977 \n",
       "7 HLA_DQB1 0.982  0.972           0.967              0.950        0.971 \n",
       "8 HLA_DRB1 0.947  0.920           0.919              0.877        0.958 "
      ]
     },
     "metadata": {},
     "output_type": "display_data"
    }
   ],
   "source": [
    "colnames(AMP_maf5) = c('Gene', 'AMP2RA')\n",
    "colnames(Smillie1_maf5) = c('Gene', 'Smillie2019_GSA')\n",
    "colnames(Smillie2_maf5) = c('Gene', 'Smillie2019_custom')\n",
    "colnames(Randolph_maf5) = c('Gene', 'Randolph2021')\n",
    "colnames(OneK1K_maf5) = c('Gene', 'OneK1K')\n",
    "AMP_maf5[,2] = round(AMP_maf5[,2], 3)\n",
    "maf5_table = cbind(AMP_maf5, round(Smillie1_maf5[,2], 3), \n",
    "                             round(Smillie2_maf5[,2], 3), \n",
    "                             round(Randolph_maf5[,2], 3), \n",
    "                             round(OneK1K_maf5[,2], 3))\n",
    "maf5_table"
   ]
  },
  {
   "cell_type": "markdown",
   "id": "3335e3b1-7a4e-4ba6-8adc-17efef57638f",
   "metadata": {},
   "source": [
    "# All done!"
   ]
  },
  {
   "cell_type": "code",
   "execution_count": 59,
   "id": "8ed2faa9-6072-4dcc-9417-62df63e71321",
   "metadata": {},
   "outputs": [
    {
     "data": {
      "text/plain": [
       "R version 4.0.5 (2021-03-31)\n",
       "Platform: x86_64-conda-linux-gnu (64-bit)\n",
       "Running under: Red Hat Enterprise Linux Server release 6.5 (Santiago)\n",
       "\n",
       "Matrix products: default\n",
       "BLAS/LAPACK: /PHShome/jbk37/anaconda3/envs/hla_new/lib/libopenblasp-r0.3.18.so\n",
       "\n",
       "locale:\n",
       " [1] LC_CTYPE=en_US.UTF-8       LC_NUMERIC=C              \n",
       " [3] LC_TIME=en_US.UTF-8        LC_COLLATE=en_US.UTF-8    \n",
       " [5] LC_MONETARY=en_US.UTF-8    LC_MESSAGES=en_US.UTF-8   \n",
       " [7] LC_PAPER=en_US.UTF-8       LC_NAME=C                 \n",
       " [9] LC_ADDRESS=C               LC_TELEPHONE=C            \n",
       "[11] LC_MEASUREMENT=en_US.UTF-8 LC_IDENTIFICATION=C       \n",
       "\n",
       "attached base packages:\n",
       "[1] stats     graphics  grDevices utils     datasets  methods   base     \n",
       "\n",
       "other attached packages:\n",
       " [1] RColorBrewer_1.1-3 forcats_0.5.1      purrr_0.3.4        readr_2.1.2       \n",
       " [5] tibble_3.1.6       tidyverse_1.3.1    stringr_1.4.0      dplyr_1.0.8       \n",
       " [9] ggplot2_3.3.5      tidyr_1.2.0        vcfR_1.12.0       \n",
       "\n",
       "loaded via a namespace (and not attached):\n",
       " [1] httr_1.4.4        jsonlite_1.8.4    viridisLite_0.4.1 splines_4.0.5    \n",
       " [5] modelr_0.1.8      assertthat_0.2.1  memuse_4.2-1      cellranger_1.1.0 \n",
       " [9] pillar_1.8.1      backports_1.4.1   lattice_0.20-45   glue_1.6.2       \n",
       "[13] uuid_1.0-4        digest_0.6.31     rvest_1.0.2       colorspace_2.1-0 \n",
       "[17] htmltools_0.5.4   Matrix_1.4-0      pkgconfig_2.0.3   broom_0.7.12     \n",
       "[21] haven_2.4.3       scales_1.2.1      tzdb_0.2.0        mgcv_1.8-39      \n",
       "[25] farver_2.1.1      generics_0.1.3    ellipsis_0.3.2    withr_2.5.0      \n",
       "[29] repr_1.1.4        cli_3.6.0         magrittr_2.0.3    crayon_1.5.0     \n",
       "[33] readxl_1.3.1      evaluate_0.20     fs_1.6.1          fansi_1.0.4      \n",
       "[37] nlme_3.1-155      MASS_7.3-55       xml2_1.3.3        vegan_2.6-4      \n",
       "[41] Cairo_1.5-15      tools_4.0.5       hms_1.1.1         lifecycle_1.0.3  \n",
       "[45] munsell_0.5.0     reprex_2.0.1      cluster_2.1.2     compiler_4.0.5   \n",
       "[49] rlang_1.0.6       grid_4.0.5        pbdZMQ_0.3-7      IRkernel_1.3     \n",
       "[53] rstudioapi_0.13   labeling_0.4.2    base64enc_0.1-3   gtable_0.3.1     \n",
       "[57] DBI_1.1.3         R6_2.5.1          lubridate_1.8.0   pinfsc50_1.2.0   \n",
       "[61] fastmap_1.1.0     utf8_1.2.3        permute_0.9-7     ape_5.6-2        \n",
       "[65] stringi_1.7.8     parallel_4.0.5    IRdisplay_1.1     Rcpp_1.0.10      \n",
       "[69] vctrs_0.5.2       dbplyr_2.1.1      tidyselect_1.1.2 "
      ]
     },
     "metadata": {},
     "output_type": "display_data"
    }
   ],
   "source": [
    "sessionInfo()"
   ]
  }
 ],
 "metadata": {
  "kernelspec": {
   "display_name": "R_4.0.5",
   "language": "R",
   "name": "r_4.0.5"
  },
  "language_info": {
   "codemirror_mode": "r",
   "file_extension": ".r",
   "mimetype": "text/x-r-source",
   "name": "R",
   "pygments_lexer": "r",
   "version": "4.0.5"
  },
  "toc-autonumbering": true
 },
 "nbformat": 4,
 "nbformat_minor": 5
}
