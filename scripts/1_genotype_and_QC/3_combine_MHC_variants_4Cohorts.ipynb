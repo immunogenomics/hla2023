{
 "cells": [
  {
   "cell_type": "markdown",
   "id": "a902c638-df9d-4578-8263-9b121dd17016",
   "metadata": {},
   "source": [
    "# Combine and QC MHC variants\n",
    "\n",
    "Process output of SNP2HLA imputation and call alleles for each sample, for use in personalized HLA quantification pipeline.\n",
    "\n",
    "Joyce Kang\n",
    "\n",
    "**Includes xMHC variants imputed by SNP2HLA:**\n",
    "- 1 and 2-field HLA alleles\n",
    "- Intergenic SNPs\n",
    "- Excludes HLA Amino Acids (AAs)\n",
    "- Excludes intragenic SNPs"
   ]
  },
  {
   "cell_type": "markdown",
   "id": "23b09246-bcd8-4528-8430-69c6651b6107",
   "metadata": {},
   "source": [
    "**Strategy:** Apply filters (MAF, R2) on a cohort-by-cohort basis, then intersect the filtered list from all cohorts to get the final list."
   ]
  },
  {
   "cell_type": "code",
   "execution_count": 1,
   "id": "b30ffe4d-3f1b-476a-83aa-ab1e292bd0b5",
   "metadata": {},
   "outputs": [],
   "source": [
    "suppressPackageStartupMessages({\n",
    "    library(vcfR)\n",
    "    library(tidyr)\n",
    "    library(ggplot2)\n",
    "    library(dplyr)\n",
    "    library(stringr)\n",
    "    library(tidyverse)\n",
    "})\n",
    "\n",
    "source('../utils.R')\n",
    "\n",
    "# Sample-level metadata\n",
    "sample_meta_prefix = '../../data/meta/'\n",
    "AMP2RA_sample_meta = read.csv(paste0(sample_meta_prefix, 'sample_meta_AMP2RA_completeHLA.csv'))\n",
    "Smillie_sample_meta = read.csv(paste0(sample_meta_prefix, 'sample_meta_Smillie_completeHLA.csv'))\n",
    "Randolph_sample_meta = read.csv(paste0(sample_meta_prefix, 'sample_meta_Randolph_completeHLA.csv'))\n",
    "OneK1K_sample_meta = read.csv(paste0(sample_meta_prefix, 'sample_meta_OneK1K_completeHLA.csv'))\n",
    "\n",
    "DR2_thresh = 0.8 # Imputation DR2 threshold"
   ]
  },
  {
   "cell_type": "markdown",
   "id": "83f67662-01ed-4ced-bd8a-bb55a5b48a54",
   "metadata": {},
   "source": [
    "# Process AMP2RA"
   ]
  },
  {
   "cell_type": "markdown",
   "id": "357d1a5d-e8a3-49ef-8ecf-094a5fd25c88",
   "metadata": {},
   "source": [
    "Because we had to lift the hg19 coordinates to hg38, we first check that REF and ALT same before and after lifting over."
   ]
  },
  {
   "cell_type": "code",
   "execution_count": 2,
   "id": "575617b9-ef52-4a97-84fb-9202b91883e8",
   "metadata": {},
   "outputs": [],
   "source": [
    "hg19_vcf_path = '/data/srlab1/jkang/hla/data/AMP/AMP.final.SNP2HLA.imputed_MHC_hg19_chr_prefix.vcf'\n",
    "hg38_vcf_path = '/data/srlab1/jkang/hla/data/AMP/AMP.final.SNP2HLA.imputed_MHC_hg38_lifted_over.vcf'\n",
    "vcf_hg19 = read.vcfR(hg19_vcf_path, verbose = F)\n",
    "vcf_hg38 = read.vcfR(hg38_vcf_path, verbose = F)\n",
    "\n",
    "vcf_hg19 = vcf_hg19@fix %>% as.data.frame() %>% select(ID, REF, ALT)\n",
    "vcf_hg38 = vcf_hg38@fix %>% as.data.frame() %>% select(ID, REF, ALT)\n",
    "for (i in 1:nrow(vcf_hg19)) {\n",
    "    if(vcf_hg19[i, 'REF'] != vcf_hg38[i, 'REF'] & startsWith(vcf_hg19[i, 'ID'], 'rs')) {\n",
    "        print(vcf_hg19[i, ])\n",
    "        print(vcf_hg38[i, ])\n",
    "    }\n",
    "} # none of rsid SNPs got flipped"
   ]
  },
  {
   "cell_type": "markdown",
   "id": "63334a11-e10c-4065-a154-98288ec95850",
   "metadata": {},
   "source": [
    "Subset to samples in the eQTL cohort"
   ]
  },
  {
   "cell_type": "code",
   "execution_count": 3,
   "id": "ad14b19a-b8a4-4627-9f68-9e9f8b737ff8",
   "metadata": {},
   "outputs": [
    {
     "data": {
      "text/plain": [
       "***** Object of Class vcfR *****\n",
       "788 samples\n",
       "1 CHROMs\n",
       "22,733 variants\n",
       "Object size: 141.6 Mb\n",
       "0 percent missing data\n",
       "*****        *****         *****"
      ]
     },
     "metadata": {},
     "output_type": "display_data"
    },
    {
     "data": {
      "text/html": [
       "<style>\n",
       ".list-inline {list-style: none; margin:0; padding: 0}\n",
       ".list-inline>li {display: inline-block}\n",
       ".list-inline>li:not(:last-child)::after {content: \"\\00b7\"; padding: 0 .5ex}\n",
       "</style>\n",
       "<ol class=list-inline><li>'##fileformat=VCFv4.2'</li><li>'##INFO=&lt;ID=AF,Number=A,Type=Float,Description=\"Estimated ALT Allele Frequencies\"&gt;'</li><li>'##INFO=&lt;ID=AR2,Number=1,Type=Float,Description=\"Allelic R-Squared: estimated squared correlation between most probable REF dose and true REF dose\"&gt;'</li><li>'##INFO=&lt;ID=DR2,Number=1,Type=Float,Description=\"Dosage R-Squared: estimated squared correlation between estimated REF dose [P(RA) + 2*P(RR)] and true REF dose\"&gt;'</li></ol>\n"
      ],
      "text/latex": [
       "\\begin{enumerate*}\n",
       "\\item '\\#\\#fileformat=VCFv4.2'\n",
       "\\item '\\#\\#INFO=<ID=AF,Number=A,Type=Float,Description=\"Estimated ALT Allele Frequencies\">'\n",
       "\\item '\\#\\#INFO=<ID=AR2,Number=1,Type=Float,Description=\"Allelic R-Squared: estimated squared correlation between most probable REF dose and true REF dose\">'\n",
       "\\item '\\#\\#INFO=<ID=DR2,Number=1,Type=Float,Description=\"Dosage R-Squared: estimated squared correlation between estimated REF dose {[}P(RA) + 2*P(RR){]} and true REF dose\">'\n",
       "\\end{enumerate*}\n"
      ],
      "text/markdown": [
       "1. '##fileformat=VCFv4.2'\n",
       "2. '##INFO=&lt;ID=AF,Number=A,Type=Float,Description=\"Estimated ALT Allele Frequencies\"&gt;'\n",
       "3. '##INFO=&lt;ID=AR2,Number=1,Type=Float,Description=\"Allelic R-Squared: estimated squared correlation between most probable REF dose and true REF dose\"&gt;'\n",
       "4. '##INFO=&lt;ID=DR2,Number=1,Type=Float,Description=\"Dosage R-Squared: estimated squared correlation between estimated REF dose [P(RA) + 2*P(RR)] and true REF dose\"&gt;'\n",
       "\n",
       "\n"
      ],
      "text/plain": [
       "[1] \"##fileformat=VCFv4.2\"                                                                                                                                              \n",
       "[2] \"##INFO=<ID=AF,Number=A,Type=Float,Description=\\\"Estimated ALT Allele Frequencies\\\">\"                                                                               \n",
       "[3] \"##INFO=<ID=AR2,Number=1,Type=Float,Description=\\\"Allelic R-Squared: estimated squared correlation between most probable REF dose and true REF dose\\\">\"             \n",
       "[4] \"##INFO=<ID=DR2,Number=1,Type=Float,Description=\\\"Dosage R-Squared: estimated squared correlation between estimated REF dose [P(RA) + 2*P(RR)] and true REF dose\\\">\""
      ]
     },
     "metadata": {},
     "output_type": "display_data"
    },
    {
     "data": {
      "text/html": [
       "<table class=\"dataframe\">\n",
       "<caption>A matrix: 4 × 70 of type chr</caption>\n",
       "<thead>\n",
       "\t<tr><th scope=col>FORMAT</th><th scope=col>301-0267</th><th scope=col>300-0302</th><th scope=col>300-0150</th><th scope=col>300-0310</th><th scope=col>300-2663</th><th scope=col>300-0460</th><th scope=col>300-0309</th><th scope=col>300-1933</th><th scope=col>300-0228-V0-08-L1</th><th scope=col>⋯</th><th scope=col>301-1469</th><th scope=col>300-0151-V0-05-L1</th><th scope=col>300-0235-V0-08-L1</th><th scope=col>300-0415</th><th scope=col>300-0417</th><th scope=col>300-0418</th><th scope=col>300-1879-F2-17-L1</th><th scope=col>300-1880-F1-17-L1</th><th scope=col>300-0251</th><th scope=col>300-0464</th></tr>\n",
       "</thead>\n",
       "<tbody>\n",
       "\t<tr><td>GT:DS:GP</td><td>1|1:2:0,0,1         </td><td>0|0:0:1,0,0</td><td>0|1:1:0,1,0</td><td>0|1:1:0,1,0</td><td>1|1:2:0,0,1</td><td>0|0:0:1,0,0</td><td>0|0:0:1,0,0</td><td>0|0:0:1,0,0         </td><td>1|0:1:0,1,0</td><td>⋯</td><td>0|1:1:0,1,0</td><td>0|1:1:0,1,0</td><td>0|0:0:1,0,0</td><td>0|0:0:1,0,0</td><td>0|0:0:1,0,0</td><td>0|1:1:0,1,0</td><td>0|1:1:0,1,0</td><td>0|0:0:1,0,0</td><td>1|0:1:0,1,0</td><td>0|0:0:1,0,0         </td></tr>\n",
       "\t<tr><td>GT:DS:GP</td><td>1|0:0.98:0.03,0.97,0</td><td>0|0:0:1,0,0</td><td>0|0:0:1,0,0</td><td>0|0:0:1,0,0</td><td>0|1:1:0,1,0</td><td>0|0:0:1,0,0</td><td>0|0:0:1,0,0</td><td>0|0:0:1,0,0         </td><td>0|0:0:1,0,0</td><td>⋯</td><td>0|0:0:1,0,0</td><td>0|0:0:1,0,0</td><td>0|0:0:1,0,0</td><td>0|0:0:1,0,0</td><td>0|0:0:1,0,0</td><td>0|0:0:1,0,0</td><td>0|1:1:0,1,0</td><td>0|0:0:1,0,0</td><td>0|0:0:1,0,0</td><td>0|0:0:1,0,0         </td></tr>\n",
       "\t<tr><td>GT:DS:GP</td><td>0|0:0:1,0,0         </td><td>0|0:0:1,0,0</td><td>0|0:0:1,0,0</td><td>0|0:0:1,0,0</td><td>0|0:0:1,0,0</td><td>0|0:0:1,0,0</td><td>0|0:0:1,0,0</td><td>1|0:0.86:0.14,0.86,0</td><td>0|0:0:1,0,0</td><td>⋯</td><td>0|0:0:1,0,0</td><td>0|0:0:1,0,0</td><td>0|0:0:1,0,0</td><td>0|0:0:1,0,0</td><td>0|0:0:1,0,0</td><td>0|0:0:1,0,0</td><td>0|0:0:1,0,0</td><td>0|0:0:1,0,0</td><td>0|0:0:1,0,0</td><td>0|1:0.97:0.03,0.97,0</td></tr>\n",
       "\t<tr><td>GT:DS:GP</td><td>0|0:0:1,0,0         </td><td>0|0:0:1,0,0</td><td>0|0:0:1,0,0</td><td>0|0:0:1,0,0</td><td>0|0:0:1,0,0</td><td>0|0:0:1,0,0</td><td>1|0:1:0,1,0</td><td>0|1:1:0,1,0         </td><td>0|0:0:1,0,0</td><td>⋯</td><td>0|0:0:1,0,0</td><td>0|0:0:1,0,0</td><td>0|0:0:1,0,0</td><td>0|0:0:1,0,0</td><td>0|0:0:1,0,0</td><td>0|0:0:1,0,0</td><td>0|0:0:1,0,0</td><td>0|0:0:1,0,0</td><td>0|0:0:1,0,0</td><td>0|0:0:1,0,0         </td></tr>\n",
       "</tbody>\n",
       "</table>\n"
      ],
      "text/latex": [
       "A matrix: 4 × 70 of type chr\n",
       "\\begin{tabular}{lllllllllllllllllllll}\n",
       " FORMAT & 301-0267 & 300-0302 & 300-0150 & 300-0310 & 300-2663 & 300-0460 & 300-0309 & 300-1933 & 300-0228-V0-08-L1 & ⋯ & 301-1469 & 300-0151-V0-05-L1 & 300-0235-V0-08-L1 & 300-0415 & 300-0417 & 300-0418 & 300-1879-F2-17-L1 & 300-1880-F1-17-L1 & 300-0251 & 300-0464\\\\\n",
       "\\hline\n",
       "\t GT:DS:GP & 1\\textbar{}1:2:0,0,1          & 0\\textbar{}0:0:1,0,0 & 0\\textbar{}1:1:0,1,0 & 0\\textbar{}1:1:0,1,0 & 1\\textbar{}1:2:0,0,1 & 0\\textbar{}0:0:1,0,0 & 0\\textbar{}0:0:1,0,0 & 0\\textbar{}0:0:1,0,0          & 1\\textbar{}0:1:0,1,0 & ⋯ & 0\\textbar{}1:1:0,1,0 & 0\\textbar{}1:1:0,1,0 & 0\\textbar{}0:0:1,0,0 & 0\\textbar{}0:0:1,0,0 & 0\\textbar{}0:0:1,0,0 & 0\\textbar{}1:1:0,1,0 & 0\\textbar{}1:1:0,1,0 & 0\\textbar{}0:0:1,0,0 & 1\\textbar{}0:1:0,1,0 & 0\\textbar{}0:0:1,0,0         \\\\\n",
       "\t GT:DS:GP & 1\\textbar{}0:0.98:0.03,0.97,0 & 0\\textbar{}0:0:1,0,0 & 0\\textbar{}0:0:1,0,0 & 0\\textbar{}0:0:1,0,0 & 0\\textbar{}1:1:0,1,0 & 0\\textbar{}0:0:1,0,0 & 0\\textbar{}0:0:1,0,0 & 0\\textbar{}0:0:1,0,0          & 0\\textbar{}0:0:1,0,0 & ⋯ & 0\\textbar{}0:0:1,0,0 & 0\\textbar{}0:0:1,0,0 & 0\\textbar{}0:0:1,0,0 & 0\\textbar{}0:0:1,0,0 & 0\\textbar{}0:0:1,0,0 & 0\\textbar{}0:0:1,0,0 & 0\\textbar{}1:1:0,1,0 & 0\\textbar{}0:0:1,0,0 & 0\\textbar{}0:0:1,0,0 & 0\\textbar{}0:0:1,0,0         \\\\\n",
       "\t GT:DS:GP & 0\\textbar{}0:0:1,0,0          & 0\\textbar{}0:0:1,0,0 & 0\\textbar{}0:0:1,0,0 & 0\\textbar{}0:0:1,0,0 & 0\\textbar{}0:0:1,0,0 & 0\\textbar{}0:0:1,0,0 & 0\\textbar{}0:0:1,0,0 & 1\\textbar{}0:0.86:0.14,0.86,0 & 0\\textbar{}0:0:1,0,0 & ⋯ & 0\\textbar{}0:0:1,0,0 & 0\\textbar{}0:0:1,0,0 & 0\\textbar{}0:0:1,0,0 & 0\\textbar{}0:0:1,0,0 & 0\\textbar{}0:0:1,0,0 & 0\\textbar{}0:0:1,0,0 & 0\\textbar{}0:0:1,0,0 & 0\\textbar{}0:0:1,0,0 & 0\\textbar{}0:0:1,0,0 & 0\\textbar{}1:0.97:0.03,0.97,0\\\\\n",
       "\t GT:DS:GP & 0\\textbar{}0:0:1,0,0          & 0\\textbar{}0:0:1,0,0 & 0\\textbar{}0:0:1,0,0 & 0\\textbar{}0:0:1,0,0 & 0\\textbar{}0:0:1,0,0 & 0\\textbar{}0:0:1,0,0 & 1\\textbar{}0:1:0,1,0 & 0\\textbar{}1:1:0,1,0          & 0\\textbar{}0:0:1,0,0 & ⋯ & 0\\textbar{}0:0:1,0,0 & 0\\textbar{}0:0:1,0,0 & 0\\textbar{}0:0:1,0,0 & 0\\textbar{}0:0:1,0,0 & 0\\textbar{}0:0:1,0,0 & 0\\textbar{}0:0:1,0,0 & 0\\textbar{}0:0:1,0,0 & 0\\textbar{}0:0:1,0,0 & 0\\textbar{}0:0:1,0,0 & 0\\textbar{}0:0:1,0,0         \\\\\n",
       "\\end{tabular}\n"
      ],
      "text/markdown": [
       "\n",
       "A matrix: 4 × 70 of type chr\n",
       "\n",
       "| FORMAT | 301-0267 | 300-0302 | 300-0150 | 300-0310 | 300-2663 | 300-0460 | 300-0309 | 300-1933 | 300-0228-V0-08-L1 | ⋯ | 301-1469 | 300-0151-V0-05-L1 | 300-0235-V0-08-L1 | 300-0415 | 300-0417 | 300-0418 | 300-1879-F2-17-L1 | 300-1880-F1-17-L1 | 300-0251 | 300-0464 |\n",
       "|---|---|---|---|---|---|---|---|---|---|---|---|---|---|---|---|---|---|---|---|---|\n",
       "| GT:DS:GP | 1|1:2:0,0,1          | 0|0:0:1,0,0 | 0|1:1:0,1,0 | 0|1:1:0,1,0 | 1|1:2:0,0,1 | 0|0:0:1,0,0 | 0|0:0:1,0,0 | 0|0:0:1,0,0          | 1|0:1:0,1,0 | ⋯ | 0|1:1:0,1,0 | 0|1:1:0,1,0 | 0|0:0:1,0,0 | 0|0:0:1,0,0 | 0|0:0:1,0,0 | 0|1:1:0,1,0 | 0|1:1:0,1,0 | 0|0:0:1,0,0 | 1|0:1:0,1,0 | 0|0:0:1,0,0          |\n",
       "| GT:DS:GP | 1|0:0.98:0.03,0.97,0 | 0|0:0:1,0,0 | 0|0:0:1,0,0 | 0|0:0:1,0,0 | 0|1:1:0,1,0 | 0|0:0:1,0,0 | 0|0:0:1,0,0 | 0|0:0:1,0,0          | 0|0:0:1,0,0 | ⋯ | 0|0:0:1,0,0 | 0|0:0:1,0,0 | 0|0:0:1,0,0 | 0|0:0:1,0,0 | 0|0:0:1,0,0 | 0|0:0:1,0,0 | 0|1:1:0,1,0 | 0|0:0:1,0,0 | 0|0:0:1,0,0 | 0|0:0:1,0,0          |\n",
       "| GT:DS:GP | 0|0:0:1,0,0          | 0|0:0:1,0,0 | 0|0:0:1,0,0 | 0|0:0:1,0,0 | 0|0:0:1,0,0 | 0|0:0:1,0,0 | 0|0:0:1,0,0 | 1|0:0.86:0.14,0.86,0 | 0|0:0:1,0,0 | ⋯ | 0|0:0:1,0,0 | 0|0:0:1,0,0 | 0|0:0:1,0,0 | 0|0:0:1,0,0 | 0|0:0:1,0,0 | 0|0:0:1,0,0 | 0|0:0:1,0,0 | 0|0:0:1,0,0 | 0|0:0:1,0,0 | 0|1:0.97:0.03,0.97,0 |\n",
       "| GT:DS:GP | 0|0:0:1,0,0          | 0|0:0:1,0,0 | 0|0:0:1,0,0 | 0|0:0:1,0,0 | 0|0:0:1,0,0 | 0|0:0:1,0,0 | 1|0:1:0,1,0 | 0|1:1:0,1,0          | 0|0:0:1,0,0 | ⋯ | 0|0:0:1,0,0 | 0|0:0:1,0,0 | 0|0:0:1,0,0 | 0|0:0:1,0,0 | 0|0:0:1,0,0 | 0|0:0:1,0,0 | 0|0:0:1,0,0 | 0|0:0:1,0,0 | 0|0:0:1,0,0 | 0|0:0:1,0,0          |\n",
       "\n"
      ],
      "text/plain": [
       "     FORMAT   301-0267             300-0302    300-0150    300-0310   \n",
       "[1,] GT:DS:GP 1|1:2:0,0,1          0|0:0:1,0,0 0|1:1:0,1,0 0|1:1:0,1,0\n",
       "[2,] GT:DS:GP 1|0:0.98:0.03,0.97,0 0|0:0:1,0,0 0|0:0:1,0,0 0|0:0:1,0,0\n",
       "[3,] GT:DS:GP 0|0:0:1,0,0          0|0:0:1,0,0 0|0:0:1,0,0 0|0:0:1,0,0\n",
       "[4,] GT:DS:GP 0|0:0:1,0,0          0|0:0:1,0,0 0|0:0:1,0,0 0|0:0:1,0,0\n",
       "     300-2663    300-0460    300-0309    300-1933             300-0228-V0-08-L1\n",
       "[1,] 1|1:2:0,0,1 0|0:0:1,0,0 0|0:0:1,0,0 0|0:0:1,0,0          1|0:1:0,1,0      \n",
       "[2,] 0|1:1:0,1,0 0|0:0:1,0,0 0|0:0:1,0,0 0|0:0:1,0,0          0|0:0:1,0,0      \n",
       "[3,] 0|0:0:1,0,0 0|0:0:1,0,0 0|0:0:1,0,0 1|0:0.86:0.14,0.86,0 0|0:0:1,0,0      \n",
       "[4,] 0|0:0:1,0,0 0|0:0:1,0,0 1|0:1:0,1,0 0|1:1:0,1,0          0|0:0:1,0,0      \n",
       "     ⋯ 301-1469    300-0151-V0-05-L1 300-0235-V0-08-L1 300-0415    300-0417   \n",
       "[1,] ⋯ 0|1:1:0,1,0 0|1:1:0,1,0       0|0:0:1,0,0       0|0:0:1,0,0 0|0:0:1,0,0\n",
       "[2,] ⋯ 0|0:0:1,0,0 0|0:0:1,0,0       0|0:0:1,0,0       0|0:0:1,0,0 0|0:0:1,0,0\n",
       "[3,] ⋯ 0|0:0:1,0,0 0|0:0:1,0,0       0|0:0:1,0,0       0|0:0:1,0,0 0|0:0:1,0,0\n",
       "[4,] ⋯ 0|0:0:1,0,0 0|0:0:1,0,0       0|0:0:1,0,0       0|0:0:1,0,0 0|0:0:1,0,0\n",
       "     300-0418    300-1879-F2-17-L1 300-1880-F1-17-L1 300-0251   \n",
       "[1,] 0|1:1:0,1,0 0|1:1:0,1,0       0|0:0:1,0,0       1|0:1:0,1,0\n",
       "[2,] 0|0:0:1,0,0 0|1:1:0,1,0       0|0:0:1,0,0       0|0:0:1,0,0\n",
       "[3,] 0|0:0:1,0,0 0|0:0:1,0,0       0|0:0:1,0,0       0|0:0:1,0,0\n",
       "[4,] 0|0:0:1,0,0 0|0:0:1,0,0       0|0:0:1,0,0       0|0:0:1,0,0\n",
       "     300-0464            \n",
       "[1,] 0|0:0:1,0,0         \n",
       "[2,] 0|0:0:1,0,0         \n",
       "[3,] 0|1:0.97:0.03,0.97,0\n",
       "[4,] 0|0:0:1,0,0         "
      ]
     },
     "metadata": {},
     "output_type": "display_data"
    }
   ],
   "source": [
    "vcf = read.vcfR(hg38_vcf_path, verbose = F)\n",
    "sample_meta = AMP2RA_sample_meta\n",
    "\n",
    "# Subset to cohort samples\n",
    "vcf\n",
    "vcf@meta %>% head(4)\n",
    "samples = c('FORMAT', sample_meta$Geno_ID)\n",
    "vcf@gt = vcf@gt[, samples] # Subset to only samples in the eQTL cohort\n",
    "vcf@gt %>% head(4)"
   ]
  },
  {
   "cell_type": "code",
   "execution_count": 4,
   "id": "bb32383e-2173-4712-ad8b-d0a124281280",
   "metadata": {},
   "outputs": [
    {
     "data": {
      "text/html": [
       "<style>\n",
       ".list-inline {list-style: none; margin:0; padding: 0}\n",
       ".list-inline>li {display: inline-block}\n",
       ".list-inline>li:not(:last-child)::after {content: \"\\00b7\"; padding: 0 .5ex}\n",
       "</style>\n",
       "<ol class=list-inline><li>'rs'</li><li>'HL'</li><li>'SN'</li><li>'AA'</li><li>'IN'</li></ol>\n"
      ],
      "text/latex": [
       "\\begin{enumerate*}\n",
       "\\item 'rs'\n",
       "\\item 'HL'\n",
       "\\item 'SN'\n",
       "\\item 'AA'\n",
       "\\item 'IN'\n",
       "\\end{enumerate*}\n"
      ],
      "text/markdown": [
       "1. 'rs'\n",
       "2. 'HL'\n",
       "3. 'SN'\n",
       "4. 'AA'\n",
       "5. 'IN'\n",
       "\n",
       "\n"
      ],
      "text/plain": [
       "[1] \"rs\" \"HL\" \"SN\" \"AA\" \"IN\""
      ]
     },
     "metadata": {},
     "output_type": "display_data"
    },
    {
     "data": {
      "text/html": [
       "14691"
      ],
      "text/latex": [
       "14691"
      ],
      "text/markdown": [
       "14691"
      ],
      "text/plain": [
       "[1] 14691"
      ]
     },
     "metadata": {},
     "output_type": "display_data"
    },
    {
     "data": {
      "text/html": [
       "570"
      ],
      "text/latex": [
       "570"
      ],
      "text/markdown": [
       "570"
      ],
      "text/plain": [
       "[1] 570"
      ]
     },
     "metadata": {},
     "output_type": "display_data"
    },
    {
     "data": {
      "text/html": [
       "3947"
      ],
      "text/latex": [
       "3947"
      ],
      "text/markdown": [
       "3947"
      ],
      "text/plain": [
       "[1] 3947"
      ]
     },
     "metadata": {},
     "output_type": "display_data"
    },
    {
     "data": {
      "text/html": [
       "3447"
      ],
      "text/latex": [
       "3447"
      ],
      "text/markdown": [
       "3447"
      ],
      "text/plain": [
       "[1] 3447"
      ]
     },
     "metadata": {},
     "output_type": "display_data"
    },
    {
     "data": {
      "text/html": [
       "78"
      ],
      "text/latex": [
       "78"
      ],
      "text/markdown": [
       "78"
      ],
      "text/plain": [
       "[1] 78"
      ]
     },
     "metadata": {},
     "output_type": "display_data"
    }
   ],
   "source": [
    "# How many of each type of variant are there?\n",
    "substr(as.character(vcf@fix[, 'ID']), 1, 2) %>% unique()\n",
    "which(startsWith(as.character(vcf@fix[, 'ID']), 'rs')) %>% length() # intergenic SNPs\n",
    "which(startsWith(as.character(vcf@fix[, 'ID']), 'HLA')) %>% length() # alleles\n",
    "which(startsWith(as.character(vcf@fix[, 'ID']), 'SNPS')) %>% length() # intragenic SNPs\n",
    "which(startsWith(as.character(vcf@fix[, 'ID']), 'AA')) %>% length() # amino acids\n",
    "which(startsWith(as.character(vcf@fix[, 'ID']), 'IN')) %>% length() # intragenic insertions/dels"
   ]
  },
  {
   "cell_type": "code",
   "execution_count": 5,
   "id": "4348d90a-9acb-4895-a917-7a5a5d4954e4",
   "metadata": {},
   "outputs": [
    {
     "data": {
      "text/html": [
       "22733"
      ],
      "text/latex": [
       "22733"
      ],
      "text/markdown": [
       "22733"
      ],
      "text/plain": [
       "[1] 22733"
      ]
     },
     "metadata": {},
     "output_type": "display_data"
    },
    {
     "data": {
      "text/html": [
       "4025"
      ],
      "text/latex": [
       "4025"
      ],
      "text/markdown": [
       "4025"
      ],
      "text/plain": [
       "[1] 4025"
      ]
     },
     "metadata": {},
     "output_type": "display_data"
    }
   ],
   "source": [
    "570+3447+3947+14691+78\n",
    "3947+78"
   ]
  },
  {
   "cell_type": "markdown",
   "id": "0f4bc31f-b288-4ac3-ab87-5b891abeaefd",
   "metadata": {},
   "source": [
    "Calculate the new minor allele frequency (MAF) on the subset of samples"
   ]
  },
  {
   "cell_type": "code",
   "execution_count": 6,
   "id": "ae875ff5-3f81-4f99-951e-a02aa8e12e00",
   "metadata": {},
   "outputs": [],
   "source": [
    "newMaf = maf(vcf)[, 'Frequency']"
   ]
  },
  {
   "cell_type": "markdown",
   "id": "06406cbc-2e11-4f1f-9c71-4abfe870bf18",
   "metadata": {},
   "source": [
    "Format the fix region"
   ]
  },
  {
   "cell_type": "code",
   "execution_count": 7,
   "id": "514138e4-7ea4-48a9-8c9a-25680b44d537",
   "metadata": {},
   "outputs": [
    {
     "data": {
      "text/html": [
       "<table class=\"dataframe\">\n",
       "<caption>A data.frame: 1 × 8</caption>\n",
       "<thead>\n",
       "\t<tr><th></th><th scope=col>CHROM</th><th scope=col>POS</th><th scope=col>ID</th><th scope=col>REF</th><th scope=col>ALT</th><th scope=col>QUAL</th><th scope=col>FILTER</th><th scope=col>INFO</th></tr>\n",
       "\t<tr><th></th><th scope=col>&lt;chr&gt;</th><th scope=col>&lt;chr&gt;</th><th scope=col>&lt;chr&gt;</th><th scope=col>&lt;chr&gt;</th><th scope=col>&lt;chr&gt;</th><th scope=col>&lt;chr&gt;</th><th scope=col>&lt;chr&gt;</th><th scope=col>&lt;chr&gt;</th></tr>\n",
       "</thead>\n",
       "<tbody>\n",
       "\t<tr><th scope=row>2986</th><td>chr6</td><td>29942496</td><td>HLA_A_03.01</td><td>C</td><td>T</td><td>NA</td><td>PASS</td><td>AR2=0.96;DR2=0.97;AF=0.080;IMP</td></tr>\n",
       "</tbody>\n",
       "</table>\n"
      ],
      "text/latex": [
       "A data.frame: 1 × 8\n",
       "\\begin{tabular}{r|llllllll}\n",
       "  & CHROM & POS & ID & REF & ALT & QUAL & FILTER & INFO\\\\\n",
       "  & <chr> & <chr> & <chr> & <chr> & <chr> & <chr> & <chr> & <chr>\\\\\n",
       "\\hline\n",
       "\t2986 & chr6 & 29942496 & HLA\\_A\\_03.01 & C & T & NA & PASS & AR2=0.96;DR2=0.97;AF=0.080;IMP\\\\\n",
       "\\end{tabular}\n"
      ],
      "text/markdown": [
       "\n",
       "A data.frame: 1 × 8\n",
       "\n",
       "| <!--/--> | CHROM &lt;chr&gt; | POS &lt;chr&gt; | ID &lt;chr&gt; | REF &lt;chr&gt; | ALT &lt;chr&gt; | QUAL &lt;chr&gt; | FILTER &lt;chr&gt; | INFO &lt;chr&gt; |\n",
       "|---|---|---|---|---|---|---|---|---|\n",
       "| 2986 | chr6 | 29942496 | HLA_A_03.01 | C | T | NA | PASS | AR2=0.96;DR2=0.97;AF=0.080;IMP |\n",
       "\n"
      ],
      "text/plain": [
       "     CHROM POS      ID          REF ALT QUAL FILTER\n",
       "2986 chr6  29942496 HLA_A_03.01 C   T   NA   PASS  \n",
       "     INFO                          \n",
       "2986 AR2=0.96;DR2=0.97;AF=0.080;IMP"
      ]
     },
     "metadata": {},
     "output_type": "display_data"
    },
    {
     "name": "stderr",
     "output_type": "stream",
     "text": [
      "Warning message:\n",
      "“Expected 4 pieces. Missing pieces filled with `NA` in 9147 rows [14, 16, 19, 38, 43, 50, 51, 54, 62, 63, 73, 74, 81, 84, 89, 91, 92, 93, 97, 102, ...].”\n"
     ]
    },
    {
     "data": {
      "text/html": [
       "<table class=\"dataframe\">\n",
       "<caption>A data.frame: 4 × 12</caption>\n",
       "<thead>\n",
       "\t<tr><th></th><th scope=col>CHROM</th><th scope=col>POS</th><th scope=col>ID</th><th scope=col>REF</th><th scope=col>ALT</th><th scope=col>QUAL</th><th scope=col>FILTER</th><th scope=col>AR2</th><th scope=col>DR2</th><th scope=col>AF</th><th scope=col>Imputed</th><th scope=col>newMAF</th></tr>\n",
       "\t<tr><th></th><th scope=col>&lt;chr&gt;</th><th scope=col>&lt;chr&gt;</th><th scope=col>&lt;chr&gt;</th><th scope=col>&lt;chr&gt;</th><th scope=col>&lt;chr&gt;</th><th scope=col>&lt;chr&gt;</th><th scope=col>&lt;chr&gt;</th><th scope=col>&lt;dbl&gt;</th><th scope=col>&lt;dbl&gt;</th><th scope=col>&lt;dbl&gt;</th><th scope=col>&lt;chr&gt;</th><th scope=col>&lt;dbl&gt;</th></tr>\n",
       "</thead>\n",
       "<tbody>\n",
       "\t<tr><th scope=row>1</th><td>chr6</td><td>28002253</td><td>rs149946  </td><td>G</td><td>T</td><td>NA</td><td>PASS</td><td>0.98</td><td>0.98</td><td>0.270</td><td>IMP</td><td>0.22463768</td></tr>\n",
       "\t<tr><th scope=row>2</th><td>chr6</td><td>28008422</td><td>rs9380032 </td><td>G</td><td>T</td><td>NA</td><td>PASS</td><td>0.95</td><td>0.95</td><td>0.051</td><td>IMP</td><td>0.02898551</td></tr>\n",
       "\t<tr><th scope=row>3</th><td>chr6</td><td>28011410</td><td>rs4141691 </td><td>A</td><td>G</td><td>NA</td><td>PASS</td><td>0.90</td><td>0.92</td><td>0.120</td><td>IMP</td><td>0.06521739</td></tr>\n",
       "\t<tr><th scope=row>4</th><td>chr6</td><td>28011847</td><td>rs10484402</td><td>A</td><td>G</td><td>NA</td><td>PASS</td><td>0.89</td><td>0.91</td><td>0.060</td><td>IMP</td><td>0.05797101</td></tr>\n",
       "</tbody>\n",
       "</table>\n"
      ],
      "text/latex": [
       "A data.frame: 4 × 12\n",
       "\\begin{tabular}{r|llllllllllll}\n",
       "  & CHROM & POS & ID & REF & ALT & QUAL & FILTER & AR2 & DR2 & AF & Imputed & newMAF\\\\\n",
       "  & <chr> & <chr> & <chr> & <chr> & <chr> & <chr> & <chr> & <dbl> & <dbl> & <dbl> & <chr> & <dbl>\\\\\n",
       "\\hline\n",
       "\t1 & chr6 & 28002253 & rs149946   & G & T & NA & PASS & 0.98 & 0.98 & 0.270 & IMP & 0.22463768\\\\\n",
       "\t2 & chr6 & 28008422 & rs9380032  & G & T & NA & PASS & 0.95 & 0.95 & 0.051 & IMP & 0.02898551\\\\\n",
       "\t3 & chr6 & 28011410 & rs4141691  & A & G & NA & PASS & 0.90 & 0.92 & 0.120 & IMP & 0.06521739\\\\\n",
       "\t4 & chr6 & 28011847 & rs10484402 & A & G & NA & PASS & 0.89 & 0.91 & 0.060 & IMP & 0.05797101\\\\\n",
       "\\end{tabular}\n"
      ],
      "text/markdown": [
       "\n",
       "A data.frame: 4 × 12\n",
       "\n",
       "| <!--/--> | CHROM &lt;chr&gt; | POS &lt;chr&gt; | ID &lt;chr&gt; | REF &lt;chr&gt; | ALT &lt;chr&gt; | QUAL &lt;chr&gt; | FILTER &lt;chr&gt; | AR2 &lt;dbl&gt; | DR2 &lt;dbl&gt; | AF &lt;dbl&gt; | Imputed &lt;chr&gt; | newMAF &lt;dbl&gt; |\n",
       "|---|---|---|---|---|---|---|---|---|---|---|---|---|\n",
       "| 1 | chr6 | 28002253 | rs149946   | G | T | NA | PASS | 0.98 | 0.98 | 0.270 | IMP | 0.22463768 |\n",
       "| 2 | chr6 | 28008422 | rs9380032  | G | T | NA | PASS | 0.95 | 0.95 | 0.051 | IMP | 0.02898551 |\n",
       "| 3 | chr6 | 28011410 | rs4141691  | A | G | NA | PASS | 0.90 | 0.92 | 0.120 | IMP | 0.06521739 |\n",
       "| 4 | chr6 | 28011847 | rs10484402 | A | G | NA | PASS | 0.89 | 0.91 | 0.060 | IMP | 0.05797101 |\n",
       "\n"
      ],
      "text/plain": [
       "  CHROM POS      ID         REF ALT QUAL FILTER AR2  DR2  AF    Imputed\n",
       "1 chr6  28002253 rs149946   G   T   NA   PASS   0.98 0.98 0.270 IMP    \n",
       "2 chr6  28008422 rs9380032  G   T   NA   PASS   0.95 0.95 0.051 IMP    \n",
       "3 chr6  28011410 rs4141691  A   G   NA   PASS   0.90 0.92 0.120 IMP    \n",
       "4 chr6  28011847 rs10484402 A   G   NA   PASS   0.89 0.91 0.060 IMP    \n",
       "  newMAF    \n",
       "1 0.22463768\n",
       "2 0.02898551\n",
       "3 0.06521739\n",
       "4 0.05797101"
      ]
     },
     "metadata": {},
     "output_type": "display_data"
    }
   ],
   "source": [
    "geno_gt = vcf@gt # genotype dosages\n",
    "geno_df = as.data.frame(vcf@fix) # information about each variant\n",
    "\n",
    "# Replace asterix with period and colon with a period\n",
    "geno_df$ID = stringr::str_replace(geno_df$ID, '\\\\*', '_')\n",
    "geno_df$ID = stringr::str_replace_all(geno_df$ID, ':', '.')\n",
    "geno_df[which(startsWith(geno_df$ID, 'HLA_A_03.01')),]\n",
    "\n",
    "# Split INFO column into constituent columns\n",
    "geno_df = separate(data = geno_df, col = INFO, into = c(\"AR2\", \"DR2\", \"AF\", \"Imputed\"), sep = \";\")\n",
    "geno_df$AR2 = sub('.*=', '', geno_df$AR2) %>% as.numeric()\n",
    "geno_df$DR2 = sub('.*=', '', geno_df$DR2) %>% as.numeric()\n",
    "geno_df$AF = sub('.*=', '', geno_df$AF) %>% as.numeric()\n",
    "geno_df$newMAF = newMaf\n",
    "geno_df$Imputed[which(is.na(geno_df$Imputed))] = 'TYPED' # change NA to TYPED\n",
    "geno_df %>% head(4)"
   ]
  },
  {
   "cell_type": "markdown",
   "id": "a71bf24e-8e92-4c2f-9ccf-c4b7d9c103be",
   "metadata": {},
   "source": [
    "Two of the \"INS\" variants are for amino acids"
   ]
  },
  {
   "cell_type": "code",
   "execution_count": 8,
   "id": "e3948136-e8de-45c6-85f1-0fd62228c5d6",
   "metadata": {},
   "outputs": [
    {
     "data": {
      "text/html": [
       "<table class=\"dataframe\">\n",
       "<caption>A data.frame: 2 × 12</caption>\n",
       "<thead>\n",
       "\t<tr><th scope=col>CHROM</th><th scope=col>POS</th><th scope=col>ID</th><th scope=col>REF</th><th scope=col>ALT</th><th scope=col>QUAL</th><th scope=col>FILTER</th><th scope=col>AR2</th><th scope=col>DR2</th><th scope=col>AF</th><th scope=col>Imputed</th><th scope=col>newMAF</th></tr>\n",
       "\t<tr><th scope=col>&lt;chr&gt;</th><th scope=col>&lt;chr&gt;</th><th scope=col>&lt;chr&gt;</th><th scope=col>&lt;chr&gt;</th><th scope=col>&lt;chr&gt;</th><th scope=col>&lt;chr&gt;</th><th scope=col>&lt;chr&gt;</th><th scope=col>&lt;dbl&gt;</th><th scope=col>&lt;dbl&gt;</th><th scope=col>&lt;dbl&gt;</th><th scope=col>&lt;chr&gt;</th><th scope=col>&lt;dbl&gt;</th></tr>\n",
       "</thead>\n",
       "<tbody>\n",
       "\t<tr><td>chr6</td><td>31270015</td><td>INS_AA_C_300x301_31237792</td><td>A</td><td>T</td><td>NA</td><td>PASS</td><td>0.91</td><td>0.91</td><td>0.978</td><td>IMP</td><td>0.02898551</td></tr>\n",
       "\t<tr><td>chr6</td><td>31355165</td><td>INS_AA_B_294x295_31322942</td><td>T</td><td>T</td><td>NA</td><td>PASS</td><td>0.00</td><td>0.00</td><td>0.998</td><td>IMP</td><td>0.00000000</td></tr>\n",
       "</tbody>\n",
       "</table>\n"
      ],
      "text/latex": [
       "A data.frame: 2 × 12\n",
       "\\begin{tabular}{llllllllllll}\n",
       " CHROM & POS & ID & REF & ALT & QUAL & FILTER & AR2 & DR2 & AF & Imputed & newMAF\\\\\n",
       " <chr> & <chr> & <chr> & <chr> & <chr> & <chr> & <chr> & <dbl> & <dbl> & <dbl> & <chr> & <dbl>\\\\\n",
       "\\hline\n",
       "\t chr6 & 31270015 & INS\\_AA\\_C\\_300x301\\_31237792 & A & T & NA & PASS & 0.91 & 0.91 & 0.978 & IMP & 0.02898551\\\\\n",
       "\t chr6 & 31355165 & INS\\_AA\\_B\\_294x295\\_31322942 & T & T & NA & PASS & 0.00 & 0.00 & 0.998 & IMP & 0.00000000\\\\\n",
       "\\end{tabular}\n"
      ],
      "text/markdown": [
       "\n",
       "A data.frame: 2 × 12\n",
       "\n",
       "| CHROM &lt;chr&gt; | POS &lt;chr&gt; | ID &lt;chr&gt; | REF &lt;chr&gt; | ALT &lt;chr&gt; | QUAL &lt;chr&gt; | FILTER &lt;chr&gt; | AR2 &lt;dbl&gt; | DR2 &lt;dbl&gt; | AF &lt;dbl&gt; | Imputed &lt;chr&gt; | newMAF &lt;dbl&gt; |\n",
       "|---|---|---|---|---|---|---|---|---|---|---|---|\n",
       "| chr6 | 31270015 | INS_AA_C_300x301_31237792 | A | T | NA | PASS | 0.91 | 0.91 | 0.978 | IMP | 0.02898551 |\n",
       "| chr6 | 31355165 | INS_AA_B_294x295_31322942 | T | T | NA | PASS | 0.00 | 0.00 | 0.998 | IMP | 0.00000000 |\n",
       "\n"
      ],
      "text/plain": [
       "  CHROM POS      ID                        REF ALT QUAL FILTER AR2  DR2  AF   \n",
       "1 chr6  31270015 INS_AA_C_300x301_31237792 A   T   NA   PASS   0.91 0.91 0.978\n",
       "2 chr6  31355165 INS_AA_B_294x295_31322942 T   T   NA   PASS   0.00 0.00 0.998\n",
       "  Imputed newMAF    \n",
       "1 IMP     0.02898551\n",
       "2 IMP     0.00000000"
      ]
     },
     "metadata": {},
     "output_type": "display_data"
    }
   ],
   "source": [
    "geno_df %>% filter(grepl('AA', ID) & ! startsWith(ID, 'AA'))"
   ]
  },
  {
   "cell_type": "markdown",
   "id": "d88dee4d-4fb1-4c32-8d93-33702ab94059",
   "metadata": {},
   "source": [
    "Remove AAs and intragenic SNPs"
   ]
  },
  {
   "cell_type": "code",
   "execution_count": 9,
   "id": "b56f5e16-0f48-452e-9c15-92670dfd6c27",
   "metadata": {},
   "outputs": [
    {
     "data": {
      "text/html": [
       "3449"
      ],
      "text/latex": [
       "3449"
      ],
      "text/markdown": [
       "3449"
      ],
      "text/plain": [
       "[1] 3449"
      ]
     },
     "metadata": {},
     "output_type": "display_data"
    },
    {
     "data": {
      "text/html": [
       "570"
      ],
      "text/latex": [
       "570"
      ],
      "text/markdown": [
       "570"
      ],
      "text/plain": [
       "[1] 570"
      ]
     },
     "metadata": {},
     "output_type": "display_data"
    },
    {
     "data": {
      "text/html": [
       "4023"
      ],
      "text/latex": [
       "4023"
      ],
      "text/markdown": [
       "4023"
      ],
      "text/plain": [
       "[1] 4023"
      ]
     },
     "metadata": {},
     "output_type": "display_data"
    },
    {
     "data": {
      "text/plain": [
       "\n",
       "  IMP TYPED \n",
       " 6116  9145 "
      ]
     },
     "metadata": {},
     "output_type": "display_data"
    }
   ],
   "source": [
    "idx_HLA_AAs = which(startsWith(geno_df$ID, 'INS_AA') | startsWith(geno_df$ID, 'AA'))\n",
    "idx_HLA_alleles = which(startsWith(geno_df$ID, 'HLA'))\n",
    "idx_HLA_intra = which(startsWith(geno_df$ID, 'INS_SNPS') | startsWith(geno_df$ID, 'SNPS'))\n",
    "length(idx_HLA_AAs)\n",
    "length(idx_HLA_alleles)\n",
    "length(idx_HLA_intra)\n",
    "\n",
    "# Remove AA variants and intragenic SNPs\n",
    "geno_df = geno_df[-c(idx_HLA_AAs, idx_HLA_intra), ]\n",
    "geno_gt = geno_gt[-c(idx_HLA_AAs, idx_HLA_intra), ]\n",
    "\n",
    "table(geno_df$Imputed)"
   ]
  },
  {
   "cell_type": "markdown",
   "id": "e6942d0e-8892-4c01-b068-2ff01fbca8c2",
   "metadata": {},
   "source": [
    "Filter by variants with DR^2 > 0.8, MAF > 0.01."
   ]
  },
  {
   "cell_type": "code",
   "execution_count": 10,
   "id": "16e36e3e-c234-4722-9823-535d4e86b0ac",
   "metadata": {},
   "outputs": [
    {
     "data": {
      "text/html": [
       "<table class=\"dataframe\">\n",
       "<caption>A data.frame: 5 × 12</caption>\n",
       "<thead>\n",
       "\t<tr><th></th><th scope=col>CHROM</th><th scope=col>POS</th><th scope=col>ID</th><th scope=col>REF</th><th scope=col>ALT</th><th scope=col>QUAL</th><th scope=col>FILTER</th><th scope=col>AR2</th><th scope=col>DR2</th><th scope=col>AF</th><th scope=col>Imputed</th><th scope=col>newMAF</th></tr>\n",
       "\t<tr><th></th><th scope=col>&lt;chr&gt;</th><th scope=col>&lt;chr&gt;</th><th scope=col>&lt;chr&gt;</th><th scope=col>&lt;chr&gt;</th><th scope=col>&lt;chr&gt;</th><th scope=col>&lt;chr&gt;</th><th scope=col>&lt;chr&gt;</th><th scope=col>&lt;dbl&gt;</th><th scope=col>&lt;dbl&gt;</th><th scope=col>&lt;dbl&gt;</th><th scope=col>&lt;chr&gt;</th><th scope=col>&lt;dbl&gt;</th></tr>\n",
       "</thead>\n",
       "<tbody>\n",
       "\t<tr><th scope=row>1</th><td>chr6</td><td>33925736</td><td>rs2147428</td><td>T</td><td>G</td><td>NA</td><td>PASS</td><td>1.0</td><td>1.00</td><td>0.975</td><td>TYPED</td><td>0.06521739</td></tr>\n",
       "\t<tr><th scope=row>2</th><td>chr6</td><td>29397010</td><td>rs3128853</td><td>C</td><td>T</td><td>NA</td><td>PASS</td><td>0.9</td><td>0.91</td><td>0.974</td><td>IMP  </td><td>0.03623188</td></tr>\n",
       "\t<tr><th scope=row>3</th><td>chr6</td><td>29312861</td><td>rs3117431</td><td>A</td><td>G</td><td>NA</td><td>PASS</td><td>1.0</td><td>1.00</td><td>0.968</td><td>TYPED</td><td>0.02173913</td></tr>\n",
       "\t<tr><th scope=row>4</th><td>chr6</td><td>29355482</td><td>rs3117438</td><td>G</td><td>A</td><td>NA</td><td>PASS</td><td>1.0</td><td>1.00</td><td>0.968</td><td>TYPED</td><td>0.02173913</td></tr>\n",
       "\t<tr><th scope=row>5</th><td>chr6</td><td>30711851</td><td>rs3094093</td><td>T</td><td>A</td><td>NA</td><td>PASS</td><td>1.0</td><td>1.00</td><td>0.968</td><td>TYPED</td><td>0.06521739</td></tr>\n",
       "</tbody>\n",
       "</table>\n"
      ],
      "text/latex": [
       "A data.frame: 5 × 12\n",
       "\\begin{tabular}{r|llllllllllll}\n",
       "  & CHROM & POS & ID & REF & ALT & QUAL & FILTER & AR2 & DR2 & AF & Imputed & newMAF\\\\\n",
       "  & <chr> & <chr> & <chr> & <chr> & <chr> & <chr> & <chr> & <dbl> & <dbl> & <dbl> & <chr> & <dbl>\\\\\n",
       "\\hline\n",
       "\t1 & chr6 & 33925736 & rs2147428 & T & G & NA & PASS & 1.0 & 1.00 & 0.975 & TYPED & 0.06521739\\\\\n",
       "\t2 & chr6 & 29397010 & rs3128853 & C & T & NA & PASS & 0.9 & 0.91 & 0.974 & IMP   & 0.03623188\\\\\n",
       "\t3 & chr6 & 29312861 & rs3117431 & A & G & NA & PASS & 1.0 & 1.00 & 0.968 & TYPED & 0.02173913\\\\\n",
       "\t4 & chr6 & 29355482 & rs3117438 & G & A & NA & PASS & 1.0 & 1.00 & 0.968 & TYPED & 0.02173913\\\\\n",
       "\t5 & chr6 & 30711851 & rs3094093 & T & A & NA & PASS & 1.0 & 1.00 & 0.968 & TYPED & 0.06521739\\\\\n",
       "\\end{tabular}\n"
      ],
      "text/markdown": [
       "\n",
       "A data.frame: 5 × 12\n",
       "\n",
       "| <!--/--> | CHROM &lt;chr&gt; | POS &lt;chr&gt; | ID &lt;chr&gt; | REF &lt;chr&gt; | ALT &lt;chr&gt; | QUAL &lt;chr&gt; | FILTER &lt;chr&gt; | AR2 &lt;dbl&gt; | DR2 &lt;dbl&gt; | AF &lt;dbl&gt; | Imputed &lt;chr&gt; | newMAF &lt;dbl&gt; |\n",
       "|---|---|---|---|---|---|---|---|---|---|---|---|---|\n",
       "| 1 | chr6 | 33925736 | rs2147428 | T | G | NA | PASS | 1.0 | 1.00 | 0.975 | TYPED | 0.06521739 |\n",
       "| 2 | chr6 | 29397010 | rs3128853 | C | T | NA | PASS | 0.9 | 0.91 | 0.974 | IMP   | 0.03623188 |\n",
       "| 3 | chr6 | 29312861 | rs3117431 | A | G | NA | PASS | 1.0 | 1.00 | 0.968 | TYPED | 0.02173913 |\n",
       "| 4 | chr6 | 29355482 | rs3117438 | G | A | NA | PASS | 1.0 | 1.00 | 0.968 | TYPED | 0.02173913 |\n",
       "| 5 | chr6 | 30711851 | rs3094093 | T | A | NA | PASS | 1.0 | 1.00 | 0.968 | TYPED | 0.06521739 |\n",
       "\n"
      ],
      "text/plain": [
       "  CHROM POS      ID        REF ALT QUAL FILTER AR2 DR2  AF    Imputed\n",
       "1 chr6  33925736 rs2147428 T   G   NA   PASS   1.0 1.00 0.975 TYPED  \n",
       "2 chr6  29397010 rs3128853 C   T   NA   PASS   0.9 0.91 0.974 IMP    \n",
       "3 chr6  29312861 rs3117431 A   G   NA   PASS   1.0 1.00 0.968 TYPED  \n",
       "4 chr6  29355482 rs3117438 G   A   NA   PASS   1.0 1.00 0.968 TYPED  \n",
       "5 chr6  30711851 rs3094093 T   A   NA   PASS   1.0 1.00 0.968 TYPED  \n",
       "  newMAF    \n",
       "1 0.06521739\n",
       "2 0.03623188\n",
       "3 0.02173913\n",
       "4 0.02173913\n",
       "5 0.06521739"
      ]
     },
     "metadata": {},
     "output_type": "display_data"
    },
    {
     "data": {
      "text/html": [
       "<style>\n",
       ".list-inline {list-style: none; margin:0; padding: 0}\n",
       ".list-inline>li {display: inline-block}\n",
       ".list-inline>li:not(:last-child)::after {content: \"\\00b7\"; padding: 0 .5ex}\n",
       "</style>\n",
       "<ol class=list-inline><li>13815</li><li>12</li></ol>\n"
      ],
      "text/latex": [
       "\\begin{enumerate*}\n",
       "\\item 13815\n",
       "\\item 12\n",
       "\\end{enumerate*}\n"
      ],
      "text/markdown": [
       "1. 13815\n",
       "2. 12\n",
       "\n",
       "\n"
      ],
      "text/plain": [
       "[1] 13815    12"
      ]
     },
     "metadata": {},
     "output_type": "display_data"
    },
    {
     "data": {
      "text/plain": [
       "\n",
       "  IMP TYPED \n",
       " 4916  8899 "
      ]
     },
     "metadata": {},
     "output_type": "display_data"
    }
   ],
   "source": [
    "keep_variants_idx = which(geno_df$newMAF > 0.01 & geno_df$DR2 > DR2_thresh)\n",
    "geno_gt = geno_gt[keep_variants_idx, ]\n",
    "geno_df = geno_df[keep_variants_idx, ]\n",
    "\n",
    "geno_df %>% arrange(-AF) %>% head(5)\n",
    "dim(geno_df)\n",
    "table(geno_df$Imputed)"
   ]
  },
  {
   "cell_type": "markdown",
   "id": "723c1d82-b9d2-4df7-995d-a2be73471f12",
   "metadata": {},
   "source": [
    "Rename to sample IDs"
   ]
  },
  {
   "cell_type": "code",
   "execution_count": 11,
   "id": "5b278124-9928-47b0-9136-5c0cafb4afa6",
   "metadata": {},
   "outputs": [],
   "source": [
    "colnames(geno_gt) = plyr::mapvalues(colnames(geno_gt), \n",
    "                                    sample_meta$Geno_ID, sample_meta$Sample, warn_missing = TRUE)"
   ]
  },
  {
   "cell_type": "markdown",
   "id": "449ca664-ed13-4819-9a9b-de0daa12cecb",
   "metadata": {},
   "source": [
    "Extract dosage info (takes a few mins)"
   ]
  },
  {
   "cell_type": "code",
   "execution_count": 12,
   "id": "fa315cb9-5987-4abd-9899-d1300693a056",
   "metadata": {},
   "outputs": [
    {
     "data": {
      "text/html": [
       "<style>\n",
       ".list-inline {list-style: none; margin:0; padding: 0}\n",
       ".list-inline>li {display: inline-block}\n",
       ".list-inline>li:not(:last-child)::after {content: \"\\00b7\"; padding: 0 .5ex}\n",
       "</style>\n",
       "<ol class=list-inline><li>13815</li><li>12</li></ol>\n"
      ],
      "text/latex": [
       "\\begin{enumerate*}\n",
       "\\item 13815\n",
       "\\item 12\n",
       "\\end{enumerate*}\n"
      ],
      "text/markdown": [
       "1. 13815\n",
       "2. 12\n",
       "\n",
       "\n"
      ],
      "text/plain": [
       "[1] 13815    12"
      ]
     },
     "metadata": {},
     "output_type": "display_data"
    },
    {
     "data": {
      "text/html": [
       "<style>\n",
       ".list-inline {list-style: none; margin:0; padding: 0}\n",
       ".list-inline>li {display: inline-block}\n",
       ".list-inline>li:not(:last-child)::after {content: \"\\00b7\"; padding: 0 .5ex}\n",
       "</style>\n",
       "<ol class=list-inline><li>13815</li><li>70</li></ol>\n"
      ],
      "text/latex": [
       "\\begin{enumerate*}\n",
       "\\item 13815\n",
       "\\item 70\n",
       "\\end{enumerate*}\n"
      ],
      "text/markdown": [
       "1. 13815\n",
       "2. 70\n",
       "\n",
       "\n"
      ],
      "text/plain": [
       "[1] 13815    70"
      ]
     },
     "metadata": {},
     "output_type": "display_data"
    },
    {
     "data": {
      "text/html": [
       "<table class=\"dataframe\">\n",
       "<caption>A matrix: 5 × 5 of type chr</caption>\n",
       "<thead>\n",
       "\t<tr><th></th><th scope=col>rs149946</th><th scope=col>rs9380032</th><th scope=col>rs4141691</th><th scope=col>rs10484402</th><th scope=col>rs9368540</th></tr>\n",
       "</thead>\n",
       "<tbody>\n",
       "\t<tr><th scope=row>BRI-399</th><td>2</td><td>0.98</td><td>0</td><td>0</td><td>0</td></tr>\n",
       "\t<tr><th scope=row>BRI-401</th><td>0</td><td>0   </td><td>0</td><td>0</td><td>0</td></tr>\n",
       "\t<tr><th scope=row>BRI-403</th><td>1</td><td>0   </td><td>0</td><td>0</td><td>0</td></tr>\n",
       "\t<tr><th scope=row>BRI-405</th><td>1</td><td>0   </td><td>0</td><td>0</td><td>0</td></tr>\n",
       "\t<tr><th scope=row>BRI-407</th><td>2</td><td>1   </td><td>0</td><td>0</td><td>0</td></tr>\n",
       "</tbody>\n",
       "</table>\n"
      ],
      "text/latex": [
       "A matrix: 5 × 5 of type chr\n",
       "\\begin{tabular}{r|lllll}\n",
       "  & rs149946 & rs9380032 & rs4141691 & rs10484402 & rs9368540\\\\\n",
       "\\hline\n",
       "\tBRI-399 & 2 & 0.98 & 0 & 0 & 0\\\\\n",
       "\tBRI-401 & 0 & 0    & 0 & 0 & 0\\\\\n",
       "\tBRI-403 & 1 & 0    & 0 & 0 & 0\\\\\n",
       "\tBRI-405 & 1 & 0    & 0 & 0 & 0\\\\\n",
       "\tBRI-407 & 2 & 1    & 0 & 0 & 0\\\\\n",
       "\\end{tabular}\n"
      ],
      "text/markdown": [
       "\n",
       "A matrix: 5 × 5 of type chr\n",
       "\n",
       "| <!--/--> | rs149946 | rs9380032 | rs4141691 | rs10484402 | rs9368540 |\n",
       "|---|---|---|---|---|---|\n",
       "| BRI-399 | 2 | 0.98 | 0 | 0 | 0 |\n",
       "| BRI-401 | 0 | 0    | 0 | 0 | 0 |\n",
       "| BRI-403 | 1 | 0    | 0 | 0 | 0 |\n",
       "| BRI-405 | 1 | 0    | 0 | 0 | 0 |\n",
       "| BRI-407 | 2 | 1    | 0 | 0 | 0 |\n",
       "\n"
      ],
      "text/plain": [
       "        rs149946 rs9380032 rs4141691 rs10484402 rs9368540\n",
       "BRI-399 2        0.98      0         0          0        \n",
       "BRI-401 0        0         0         0          0        \n",
       "BRI-403 1        0         0         0          0        \n",
       "BRI-405 1        0         0         0          0        \n",
       "BRI-407 2        1         0         0          0        "
      ]
     },
     "metadata": {},
     "output_type": "display_data"
    }
   ],
   "source": [
    "get_dosage = function(st) { return(strsplit(st, \":\")[[1]][2]) }\n",
    "geno_dosage = apply(geno_gt, c(1,2), get_dosage)\n",
    "dim(geno_df)\n",
    "dim(geno_dosage)\n",
    "rownames(geno_dosage) = geno_df$ID\n",
    "geno_dosage = geno_dosage %>% t()\n",
    "geno_dosage = geno_dosage[-1, ] #Remove FORMAT row\n",
    "geno_dosage[1:5, 1:5]"
   ]
  },
  {
   "cell_type": "markdown",
   "id": "0dff04c6-7080-4e72-8ab2-9b04bbb52acd",
   "metadata": {},
   "source": [
    "Get AMP2RA samples and reorder to match sample_meta"
   ]
  },
  {
   "cell_type": "code",
   "execution_count": 13,
   "id": "412fa7b8-859b-419e-88b2-c7572a494061",
   "metadata": {},
   "outputs": [
    {
     "data": {
      "text/html": [
       "TRUE"
      ],
      "text/latex": [
       "TRUE"
      ],
      "text/markdown": [
       "TRUE"
      ],
      "text/plain": [
       "[1] TRUE"
      ]
     },
     "metadata": {},
     "output_type": "display_data"
    },
    {
     "data": {
      "text/html": [
       "<table class=\"dataframe\">\n",
       "<caption>A matrix: 4 × 4 of type chr</caption>\n",
       "<thead>\n",
       "\t<tr><th></th><th scope=col>rs149946</th><th scope=col>rs9380032</th><th scope=col>rs4141691</th><th scope=col>rs10484402</th></tr>\n",
       "</thead>\n",
       "<tbody>\n",
       "\t<tr><th scope=row>BRI-399</th><td>2</td><td>0.98</td><td>0</td><td>0</td></tr>\n",
       "\t<tr><th scope=row>BRI-401</th><td>0</td><td>0   </td><td>0</td><td>0</td></tr>\n",
       "\t<tr><th scope=row>BRI-403</th><td>1</td><td>0   </td><td>0</td><td>0</td></tr>\n",
       "\t<tr><th scope=row>BRI-405</th><td>1</td><td>0   </td><td>0</td><td>0</td></tr>\n",
       "</tbody>\n",
       "</table>\n"
      ],
      "text/latex": [
       "A matrix: 4 × 4 of type chr\n",
       "\\begin{tabular}{r|llll}\n",
       "  & rs149946 & rs9380032 & rs4141691 & rs10484402\\\\\n",
       "\\hline\n",
       "\tBRI-399 & 2 & 0.98 & 0 & 0\\\\\n",
       "\tBRI-401 & 0 & 0    & 0 & 0\\\\\n",
       "\tBRI-403 & 1 & 0    & 0 & 0\\\\\n",
       "\tBRI-405 & 1 & 0    & 0 & 0\\\\\n",
       "\\end{tabular}\n"
      ],
      "text/markdown": [
       "\n",
       "A matrix: 4 × 4 of type chr\n",
       "\n",
       "| <!--/--> | rs149946 | rs9380032 | rs4141691 | rs10484402 |\n",
       "|---|---|---|---|---|\n",
       "| BRI-399 | 2 | 0.98 | 0 | 0 |\n",
       "| BRI-401 | 0 | 0    | 0 | 0 |\n",
       "| BRI-403 | 1 | 0    | 0 | 0 |\n",
       "| BRI-405 | 1 | 0    | 0 | 0 |\n",
       "\n"
      ],
      "text/plain": [
       "        rs149946 rs9380032 rs4141691 rs10484402\n",
       "BRI-399 2        0.98      0         0         \n",
       "BRI-401 0        0         0         0         \n",
       "BRI-403 1        0         0         0         \n",
       "BRI-405 1        0         0         0         "
      ]
     },
     "metadata": {},
     "output_type": "display_data"
    },
    {
     "data": {
      "text/html": [
       "<table class=\"dataframe\">\n",
       "<caption>A data.frame: 6 × 12</caption>\n",
       "<thead>\n",
       "\t<tr><th></th><th scope=col>CHROM</th><th scope=col>POS</th><th scope=col>ID</th><th scope=col>REF</th><th scope=col>ALT</th><th scope=col>QUAL</th><th scope=col>FILTER</th><th scope=col>AR2</th><th scope=col>DR2</th><th scope=col>AF</th><th scope=col>Imputed</th><th scope=col>newMAF</th></tr>\n",
       "\t<tr><th></th><th scope=col>&lt;chr&gt;</th><th scope=col>&lt;chr&gt;</th><th scope=col>&lt;chr&gt;</th><th scope=col>&lt;chr&gt;</th><th scope=col>&lt;chr&gt;</th><th scope=col>&lt;chr&gt;</th><th scope=col>&lt;chr&gt;</th><th scope=col>&lt;dbl&gt;</th><th scope=col>&lt;dbl&gt;</th><th scope=col>&lt;dbl&gt;</th><th scope=col>&lt;chr&gt;</th><th scope=col>&lt;dbl&gt;</th></tr>\n",
       "</thead>\n",
       "<tbody>\n",
       "\t<tr><th scope=row>1</th><td>chr6</td><td>28002253</td><td>rs149946  </td><td>G</td><td>T</td><td>NA</td><td>PASS</td><td>0.98</td><td>0.98</td><td>0.270</td><td>IMP</td><td>0.22463768</td></tr>\n",
       "\t<tr><th scope=row>2</th><td>chr6</td><td>28008422</td><td>rs9380032 </td><td>G</td><td>T</td><td>NA</td><td>PASS</td><td>0.95</td><td>0.95</td><td>0.051</td><td>IMP</td><td>0.02898551</td></tr>\n",
       "\t<tr><th scope=row>3</th><td>chr6</td><td>28011410</td><td>rs4141691 </td><td>A</td><td>G</td><td>NA</td><td>PASS</td><td>0.90</td><td>0.92</td><td>0.120</td><td>IMP</td><td>0.06521739</td></tr>\n",
       "\t<tr><th scope=row>4</th><td>chr6</td><td>28011847</td><td>rs10484402</td><td>A</td><td>G</td><td>NA</td><td>PASS</td><td>0.89</td><td>0.91</td><td>0.060</td><td>IMP</td><td>0.05797101</td></tr>\n",
       "\t<tr><th scope=row>5</th><td>chr6</td><td>28013895</td><td>rs9368540 </td><td>G</td><td>A</td><td>NA</td><td>PASS</td><td>0.92</td><td>0.93</td><td>0.050</td><td>IMP</td><td>0.05072464</td></tr>\n",
       "\t<tr><th scope=row>7</th><td>chr6</td><td>28017129</td><td>rs17765055</td><td>T</td><td>C</td><td>NA</td><td>PASS</td><td>0.95</td><td>0.95</td><td>0.057</td><td>IMP</td><td>0.07246377</td></tr>\n",
       "</tbody>\n",
       "</table>\n"
      ],
      "text/latex": [
       "A data.frame: 6 × 12\n",
       "\\begin{tabular}{r|llllllllllll}\n",
       "  & CHROM & POS & ID & REF & ALT & QUAL & FILTER & AR2 & DR2 & AF & Imputed & newMAF\\\\\n",
       "  & <chr> & <chr> & <chr> & <chr> & <chr> & <chr> & <chr> & <dbl> & <dbl> & <dbl> & <chr> & <dbl>\\\\\n",
       "\\hline\n",
       "\t1 & chr6 & 28002253 & rs149946   & G & T & NA & PASS & 0.98 & 0.98 & 0.270 & IMP & 0.22463768\\\\\n",
       "\t2 & chr6 & 28008422 & rs9380032  & G & T & NA & PASS & 0.95 & 0.95 & 0.051 & IMP & 0.02898551\\\\\n",
       "\t3 & chr6 & 28011410 & rs4141691  & A & G & NA & PASS & 0.90 & 0.92 & 0.120 & IMP & 0.06521739\\\\\n",
       "\t4 & chr6 & 28011847 & rs10484402 & A & G & NA & PASS & 0.89 & 0.91 & 0.060 & IMP & 0.05797101\\\\\n",
       "\t5 & chr6 & 28013895 & rs9368540  & G & A & NA & PASS & 0.92 & 0.93 & 0.050 & IMP & 0.05072464\\\\\n",
       "\t7 & chr6 & 28017129 & rs17765055 & T & C & NA & PASS & 0.95 & 0.95 & 0.057 & IMP & 0.07246377\\\\\n",
       "\\end{tabular}\n"
      ],
      "text/markdown": [
       "\n",
       "A data.frame: 6 × 12\n",
       "\n",
       "| <!--/--> | CHROM &lt;chr&gt; | POS &lt;chr&gt; | ID &lt;chr&gt; | REF &lt;chr&gt; | ALT &lt;chr&gt; | QUAL &lt;chr&gt; | FILTER &lt;chr&gt; | AR2 &lt;dbl&gt; | DR2 &lt;dbl&gt; | AF &lt;dbl&gt; | Imputed &lt;chr&gt; | newMAF &lt;dbl&gt; |\n",
       "|---|---|---|---|---|---|---|---|---|---|---|---|---|\n",
       "| 1 | chr6 | 28002253 | rs149946   | G | T | NA | PASS | 0.98 | 0.98 | 0.270 | IMP | 0.22463768 |\n",
       "| 2 | chr6 | 28008422 | rs9380032  | G | T | NA | PASS | 0.95 | 0.95 | 0.051 | IMP | 0.02898551 |\n",
       "| 3 | chr6 | 28011410 | rs4141691  | A | G | NA | PASS | 0.90 | 0.92 | 0.120 | IMP | 0.06521739 |\n",
       "| 4 | chr6 | 28011847 | rs10484402 | A | G | NA | PASS | 0.89 | 0.91 | 0.060 | IMP | 0.05797101 |\n",
       "| 5 | chr6 | 28013895 | rs9368540  | G | A | NA | PASS | 0.92 | 0.93 | 0.050 | IMP | 0.05072464 |\n",
       "| 7 | chr6 | 28017129 | rs17765055 | T | C | NA | PASS | 0.95 | 0.95 | 0.057 | IMP | 0.07246377 |\n",
       "\n"
      ],
      "text/plain": [
       "  CHROM POS      ID         REF ALT QUAL FILTER AR2  DR2  AF    Imputed\n",
       "1 chr6  28002253 rs149946   G   T   NA   PASS   0.98 0.98 0.270 IMP    \n",
       "2 chr6  28008422 rs9380032  G   T   NA   PASS   0.95 0.95 0.051 IMP    \n",
       "3 chr6  28011410 rs4141691  A   G   NA   PASS   0.90 0.92 0.120 IMP    \n",
       "4 chr6  28011847 rs10484402 A   G   NA   PASS   0.89 0.91 0.060 IMP    \n",
       "5 chr6  28013895 rs9368540  G   A   NA   PASS   0.92 0.93 0.050 IMP    \n",
       "7 chr6  28017129 rs17765055 T   C   NA   PASS   0.95 0.95 0.057 IMP    \n",
       "  newMAF    \n",
       "1 0.22463768\n",
       "2 0.02898551\n",
       "3 0.06521739\n",
       "4 0.05797101\n",
       "5 0.05072464\n",
       "7 0.07246377"
      ]
     },
     "metadata": {},
     "output_type": "display_data"
    }
   ],
   "source": [
    "all(rownames(geno_dosage) == AMP2RA_sample_meta$Sample)\n",
    "\n",
    "# Reorder to match sample_meta\n",
    "geno_dosage_AMP2RA = geno_dosage[AMP2RA_sample_meta$Sample, ]\n",
    "geno_dosage_AMP2RA[1:4, 1:4] # sample X dosage\n",
    "\n",
    "geno_df_AMP2RA = geno_df\n",
    "head(geno_df_AMP2RA)"
   ]
  },
  {
   "cell_type": "markdown",
   "id": "54016451-250a-408a-a0dc-dfcf0415060f",
   "metadata": {},
   "source": [
    "# Process Smillie2019"
   ]
  },
  {
   "cell_type": "markdown",
   "id": "89efbb41-ecb6-4a3a-a8c0-975a38dd6270",
   "metadata": {},
   "source": [
    "## ccdg_broad"
   ]
  },
  {
   "cell_type": "markdown",
   "id": "11d728a2-7b01-4f9b-893e-597d697501e6",
   "metadata": {},
   "source": [
    "Subset to cohort samples"
   ]
  },
  {
   "cell_type": "code",
   "execution_count": 14,
   "id": "963b2a67-fd8f-4c71-b1dc-3c4d789b7885",
   "metadata": {},
   "outputs": [
    {
     "data": {
      "text/html": [
       "14"
      ],
      "text/latex": [
       "14"
      ],
      "text/markdown": [
       "14"
      ],
      "text/plain": [
       "[1] 14"
      ]
     },
     "metadata": {},
     "output_type": "display_data"
    },
    {
     "data": {
      "text/plain": [
       "***** Object of Class vcfR *****\n",
       "765 samples\n",
       "1 CHROMs\n",
       "22,733 variants\n",
       "Object size: 137.7 Mb\n",
       "0 percent missing data\n",
       "*****        *****         *****"
      ]
     },
     "metadata": {},
     "output_type": "display_data"
    },
    {
     "data": {
      "text/html": [
       "<style>\n",
       ".list-inline {list-style: none; margin:0; padding: 0}\n",
       ".list-inline>li {display: inline-block}\n",
       ".list-inline>li:not(:last-child)::after {content: \"\\00b7\"; padding: 0 .5ex}\n",
       "</style>\n",
       "<ol class=list-inline><li>'##fileformat=VCFv4.2'</li><li>'##INFO=&lt;ID=AF,Number=A,Type=Float,Description=\"Estimated ALT Allele Frequencies\"&gt;'</li><li>'##INFO=&lt;ID=AR2,Number=1,Type=Float,Description=\"Allelic R-Squared: estimated squared correlation between most probable REF dose and true REF dose\"&gt;'</li><li>'##INFO=&lt;ID=DR2,Number=1,Type=Float,Description=\"Dosage R-Squared: estimated squared correlation between estimated REF dose [P(RA) + 2*P(RR)] and true REF dose\"&gt;'</li></ol>\n"
      ],
      "text/latex": [
       "\\begin{enumerate*}\n",
       "\\item '\\#\\#fileformat=VCFv4.2'\n",
       "\\item '\\#\\#INFO=<ID=AF,Number=A,Type=Float,Description=\"Estimated ALT Allele Frequencies\">'\n",
       "\\item '\\#\\#INFO=<ID=AR2,Number=1,Type=Float,Description=\"Allelic R-Squared: estimated squared correlation between most probable REF dose and true REF dose\">'\n",
       "\\item '\\#\\#INFO=<ID=DR2,Number=1,Type=Float,Description=\"Dosage R-Squared: estimated squared correlation between estimated REF dose {[}P(RA) + 2*P(RR){]} and true REF dose\">'\n",
       "\\end{enumerate*}\n"
      ],
      "text/markdown": [
       "1. '##fileformat=VCFv4.2'\n",
       "2. '##INFO=&lt;ID=AF,Number=A,Type=Float,Description=\"Estimated ALT Allele Frequencies\"&gt;'\n",
       "3. '##INFO=&lt;ID=AR2,Number=1,Type=Float,Description=\"Allelic R-Squared: estimated squared correlation between most probable REF dose and true REF dose\"&gt;'\n",
       "4. '##INFO=&lt;ID=DR2,Number=1,Type=Float,Description=\"Dosage R-Squared: estimated squared correlation between estimated REF dose [P(RA) + 2*P(RR)] and true REF dose\"&gt;'\n",
       "\n",
       "\n"
      ],
      "text/plain": [
       "[1] \"##fileformat=VCFv4.2\"                                                                                                                                              \n",
       "[2] \"##INFO=<ID=AF,Number=A,Type=Float,Description=\\\"Estimated ALT Allele Frequencies\\\">\"                                                                               \n",
       "[3] \"##INFO=<ID=AR2,Number=1,Type=Float,Description=\\\"Allelic R-Squared: estimated squared correlation between most probable REF dose and true REF dose\\\">\"             \n",
       "[4] \"##INFO=<ID=DR2,Number=1,Type=Float,Description=\\\"Dosage R-Squared: estimated squared correlation between estimated REF dose [P(RA) + 2*P(RR)] and true REF dose\\\">\""
      ]
     },
     "metadata": {},
     "output_type": "display_data"
    },
    {
     "data": {
      "text/html": [
       "<table class=\"dataframe\">\n",
       "<caption>A matrix: 4 × 15 of type chr</caption>\n",
       "<thead>\n",
       "\t<tr><th scope=col>FORMAT</th><th scope=col>202279080102_R08C01</th><th scope=col>202279080112_R06C01</th><th scope=col>202279080112_R09C02</th><th scope=col>202596060040_R04C02</th><th scope=col>202596060059_R06C01</th><th scope=col>202596060059_R09C02</th><th scope=col>202596060089_R01C01</th><th scope=col>202596060155_R06C01</th><th scope=col>202596060155_R09C02</th><th scope=col>203259090242_R05C02</th><th scope=col>203281950204_R10C02</th><th scope=col>203281950211_R02C01</th><th scope=col>203281950211_R10C02</th><th scope=col>203672280128_R03C01</th></tr>\n",
       "</thead>\n",
       "<tbody>\n",
       "\t<tr><td>GT:DS:GP</td><td>0|0:0:1,0,0</td><td>0|0:0:1,0,0</td><td>0|0:0:1,0,0</td><td>0|1:0.96:0.04,0.96,0</td><td>1|1:2:0,0,1</td><td>0|0:0:1,0,0</td><td>1|0:0.9:0.1,0.89,0</td><td>1|0:1:0,1,0</td><td>0|0:0:1,0,0</td><td>0|0:0.03:0.97,0.03,0</td><td>0|0:0:1,0,0         </td><td>0|1:1:0,1,0</td><td>0|0:0:1,0,0</td><td>0|0:0:1,0,0         </td></tr>\n",
       "\t<tr><td>GT:DS:GP</td><td>0|0:0:1,0,0</td><td>0|0:0:1,0,0</td><td>0|0:0:1,0,0</td><td>0|0:0:1,0,0         </td><td>0|1:1:0,1,0</td><td>0|0:0:1,0,0</td><td>0|0:0:1,0,0       </td><td>0|0:0:1,0,0</td><td>0|0:0:1,0,0</td><td>0|0:0:1,0,0         </td><td>0|0:0:1,0,0         </td><td>0|0:0:1,0,0</td><td>0|0:0:1,0,0</td><td>0|0:0:1,0,0         </td></tr>\n",
       "\t<tr><td>GT:DS:GP</td><td>0|0:0:1,0,0</td><td>0|0:0:1,0,0</td><td>0|0:0:1,0,0</td><td>0|0:0:1,0,0         </td><td>0|0:0:1,0,0</td><td>0|0:0:1,0,0</td><td>0|0:0:1,0,0       </td><td>0|0:0:1,0,0</td><td>0|0:0:1,0,0</td><td>0|0:0.02:0.98,0.02,0</td><td>0|1:0.78:0.22,0.78,0</td><td>0|0:0:1,0,0</td><td>0|0:0:1,0,0</td><td>0|1:0.97:0.03,0.96,0</td></tr>\n",
       "\t<tr><td>GT:DS:GP</td><td>0|0:0:1,0,0</td><td>0|0:0:1,0,0</td><td>1|0:1:0,1,0</td><td>0|0:0:1,0,0         </td><td>0|0:0:1,0,0</td><td>0|0:0:1,0,0</td><td>0|0:0:1,0,0       </td><td>0|0:0:1,0,0</td><td>0|0:0:1,0,0</td><td>0|0:0:1,0,0         </td><td>0|0:0.03:0.97,0.03,0</td><td>0|0:0:1,0,0</td><td>0|0:0:1,0,0</td><td>0|0:0:1,0,0         </td></tr>\n",
       "</tbody>\n",
       "</table>\n"
      ],
      "text/latex": [
       "A matrix: 4 × 15 of type chr\n",
       "\\begin{tabular}{lllllllllllllll}\n",
       " FORMAT & 202279080102\\_R08C01 & 202279080112\\_R06C01 & 202279080112\\_R09C02 & 202596060040\\_R04C02 & 202596060059\\_R06C01 & 202596060059\\_R09C02 & 202596060089\\_R01C01 & 202596060155\\_R06C01 & 202596060155\\_R09C02 & 203259090242\\_R05C02 & 203281950204\\_R10C02 & 203281950211\\_R02C01 & 203281950211\\_R10C02 & 203672280128\\_R03C01\\\\\n",
       "\\hline\n",
       "\t GT:DS:GP & 0\\textbar{}0:0:1,0,0 & 0\\textbar{}0:0:1,0,0 & 0\\textbar{}0:0:1,0,0 & 0\\textbar{}1:0.96:0.04,0.96,0 & 1\\textbar{}1:2:0,0,1 & 0\\textbar{}0:0:1,0,0 & 1\\textbar{}0:0.9:0.1,0.89,0 & 1\\textbar{}0:1:0,1,0 & 0\\textbar{}0:0:1,0,0 & 0\\textbar{}0:0.03:0.97,0.03,0 & 0\\textbar{}0:0:1,0,0          & 0\\textbar{}1:1:0,1,0 & 0\\textbar{}0:0:1,0,0 & 0\\textbar{}0:0:1,0,0         \\\\\n",
       "\t GT:DS:GP & 0\\textbar{}0:0:1,0,0 & 0\\textbar{}0:0:1,0,0 & 0\\textbar{}0:0:1,0,0 & 0\\textbar{}0:0:1,0,0          & 0\\textbar{}1:1:0,1,0 & 0\\textbar{}0:0:1,0,0 & 0\\textbar{}0:0:1,0,0        & 0\\textbar{}0:0:1,0,0 & 0\\textbar{}0:0:1,0,0 & 0\\textbar{}0:0:1,0,0          & 0\\textbar{}0:0:1,0,0          & 0\\textbar{}0:0:1,0,0 & 0\\textbar{}0:0:1,0,0 & 0\\textbar{}0:0:1,0,0         \\\\\n",
       "\t GT:DS:GP & 0\\textbar{}0:0:1,0,0 & 0\\textbar{}0:0:1,0,0 & 0\\textbar{}0:0:1,0,0 & 0\\textbar{}0:0:1,0,0          & 0\\textbar{}0:0:1,0,0 & 0\\textbar{}0:0:1,0,0 & 0\\textbar{}0:0:1,0,0        & 0\\textbar{}0:0:1,0,0 & 0\\textbar{}0:0:1,0,0 & 0\\textbar{}0:0.02:0.98,0.02,0 & 0\\textbar{}1:0.78:0.22,0.78,0 & 0\\textbar{}0:0:1,0,0 & 0\\textbar{}0:0:1,0,0 & 0\\textbar{}1:0.97:0.03,0.96,0\\\\\n",
       "\t GT:DS:GP & 0\\textbar{}0:0:1,0,0 & 0\\textbar{}0:0:1,0,0 & 1\\textbar{}0:1:0,1,0 & 0\\textbar{}0:0:1,0,0          & 0\\textbar{}0:0:1,0,0 & 0\\textbar{}0:0:1,0,0 & 0\\textbar{}0:0:1,0,0        & 0\\textbar{}0:0:1,0,0 & 0\\textbar{}0:0:1,0,0 & 0\\textbar{}0:0:1,0,0          & 0\\textbar{}0:0.03:0.97,0.03,0 & 0\\textbar{}0:0:1,0,0 & 0\\textbar{}0:0:1,0,0 & 0\\textbar{}0:0:1,0,0         \\\\\n",
       "\\end{tabular}\n"
      ],
      "text/markdown": [
       "\n",
       "A matrix: 4 × 15 of type chr\n",
       "\n",
       "| FORMAT | 202279080102_R08C01 | 202279080112_R06C01 | 202279080112_R09C02 | 202596060040_R04C02 | 202596060059_R06C01 | 202596060059_R09C02 | 202596060089_R01C01 | 202596060155_R06C01 | 202596060155_R09C02 | 203259090242_R05C02 | 203281950204_R10C02 | 203281950211_R02C01 | 203281950211_R10C02 | 203672280128_R03C01 |\n",
       "|---|---|---|---|---|---|---|---|---|---|---|---|---|---|---|\n",
       "| GT:DS:GP | 0|0:0:1,0,0 | 0|0:0:1,0,0 | 0|0:0:1,0,0 | 0|1:0.96:0.04,0.96,0 | 1|1:2:0,0,1 | 0|0:0:1,0,0 | 1|0:0.9:0.1,0.89,0 | 1|0:1:0,1,0 | 0|0:0:1,0,0 | 0|0:0.03:0.97,0.03,0 | 0|0:0:1,0,0          | 0|1:1:0,1,0 | 0|0:0:1,0,0 | 0|0:0:1,0,0          |\n",
       "| GT:DS:GP | 0|0:0:1,0,0 | 0|0:0:1,0,0 | 0|0:0:1,0,0 | 0|0:0:1,0,0          | 0|1:1:0,1,0 | 0|0:0:1,0,0 | 0|0:0:1,0,0        | 0|0:0:1,0,0 | 0|0:0:1,0,0 | 0|0:0:1,0,0          | 0|0:0:1,0,0          | 0|0:0:1,0,0 | 0|0:0:1,0,0 | 0|0:0:1,0,0          |\n",
       "| GT:DS:GP | 0|0:0:1,0,0 | 0|0:0:1,0,0 | 0|0:0:1,0,0 | 0|0:0:1,0,0          | 0|0:0:1,0,0 | 0|0:0:1,0,0 | 0|0:0:1,0,0        | 0|0:0:1,0,0 | 0|0:0:1,0,0 | 0|0:0.02:0.98,0.02,0 | 0|1:0.78:0.22,0.78,0 | 0|0:0:1,0,0 | 0|0:0:1,0,0 | 0|1:0.97:0.03,0.96,0 |\n",
       "| GT:DS:GP | 0|0:0:1,0,0 | 0|0:0:1,0,0 | 1|0:1:0,1,0 | 0|0:0:1,0,0          | 0|0:0:1,0,0 | 0|0:0:1,0,0 | 0|0:0:1,0,0        | 0|0:0:1,0,0 | 0|0:0:1,0,0 | 0|0:0:1,0,0          | 0|0:0.03:0.97,0.03,0 | 0|0:0:1,0,0 | 0|0:0:1,0,0 | 0|0:0:1,0,0          |\n",
       "\n"
      ],
      "text/plain": [
       "     FORMAT   202279080102_R08C01 202279080112_R06C01 202279080112_R09C02\n",
       "[1,] GT:DS:GP 0|0:0:1,0,0         0|0:0:1,0,0         0|0:0:1,0,0        \n",
       "[2,] GT:DS:GP 0|0:0:1,0,0         0|0:0:1,0,0         0|0:0:1,0,0        \n",
       "[3,] GT:DS:GP 0|0:0:1,0,0         0|0:0:1,0,0         0|0:0:1,0,0        \n",
       "[4,] GT:DS:GP 0|0:0:1,0,0         0|0:0:1,0,0         1|0:1:0,1,0        \n",
       "     202596060040_R04C02  202596060059_R06C01 202596060059_R09C02\n",
       "[1,] 0|1:0.96:0.04,0.96,0 1|1:2:0,0,1         0|0:0:1,0,0        \n",
       "[2,] 0|0:0:1,0,0          0|1:1:0,1,0         0|0:0:1,0,0        \n",
       "[3,] 0|0:0:1,0,0          0|0:0:1,0,0         0|0:0:1,0,0        \n",
       "[4,] 0|0:0:1,0,0          0|0:0:1,0,0         0|0:0:1,0,0        \n",
       "     202596060089_R01C01 202596060155_R06C01 202596060155_R09C02\n",
       "[1,] 1|0:0.9:0.1,0.89,0  1|0:1:0,1,0         0|0:0:1,0,0        \n",
       "[2,] 0|0:0:1,0,0         0|0:0:1,0,0         0|0:0:1,0,0        \n",
       "[3,] 0|0:0:1,0,0         0|0:0:1,0,0         0|0:0:1,0,0        \n",
       "[4,] 0|0:0:1,0,0         0|0:0:1,0,0         0|0:0:1,0,0        \n",
       "     203259090242_R05C02  203281950204_R10C02  203281950211_R02C01\n",
       "[1,] 0|0:0.03:0.97,0.03,0 0|0:0:1,0,0          0|1:1:0,1,0        \n",
       "[2,] 0|0:0:1,0,0          0|0:0:1,0,0          0|0:0:1,0,0        \n",
       "[3,] 0|0:0.02:0.98,0.02,0 0|1:0.78:0.22,0.78,0 0|0:0:1,0,0        \n",
       "[4,] 0|0:0:1,0,0          0|0:0.03:0.97,0.03,0 0|0:0:1,0,0        \n",
       "     203281950211_R10C02 203672280128_R03C01 \n",
       "[1,] 0|0:0:1,0,0         0|0:0:1,0,0         \n",
       "[2,] 0|0:0:1,0,0         0|0:0:1,0,0         \n",
       "[3,] 0|0:0:1,0,0         0|1:0.97:0.03,0.96,0\n",
       "[4,] 0|0:0:1,0,0         0|0:0:1,0,0         "
      ]
     },
     "metadata": {},
     "output_type": "display_data"
    }
   ],
   "source": [
    "hg38_path = '/data/srlab1/jkang/hla/data/Smillie2019/Smillie2019_ccdg_broad.final.SNP2HLA.imputed_MHC_hg38_lifted_over.vcf'\n",
    "vcf = read.vcfR(hg38_path, verbose = F)\n",
    "\n",
    "# Only include samples genotyped on this array\n",
    "sample_meta = Smillie_sample_meta[which(Smillie_sample_meta$Geno_ID %in% colnames(vcf@gt)), ]\n",
    "nrow(sample_meta)\n",
    "\n",
    "# Subset to cohort samples\n",
    "vcf\n",
    "vcf@meta %>% head(4)\n",
    "samples = c('FORMAT', sample_meta$Geno_ID)\n",
    "vcf@gt = vcf@gt[, colnames(vcf@gt) %in% samples]\n",
    "vcf@gt %>% head(4)"
   ]
  },
  {
   "cell_type": "markdown",
   "id": "edb31c29-9155-4a2e-8204-e0fad90e9b3d",
   "metadata": {},
   "source": [
    "Format the fix region"
   ]
  },
  {
   "cell_type": "code",
   "execution_count": 15,
   "id": "9eb787bb-752e-44d0-927a-037591539071",
   "metadata": {},
   "outputs": [
    {
     "data": {
      "text/html": [
       "<table class=\"dataframe\">\n",
       "<caption>A data.frame: 1 × 8</caption>\n",
       "<thead>\n",
       "\t<tr><th></th><th scope=col>CHROM</th><th scope=col>POS</th><th scope=col>ID</th><th scope=col>REF</th><th scope=col>ALT</th><th scope=col>QUAL</th><th scope=col>FILTER</th><th scope=col>INFO</th></tr>\n",
       "\t<tr><th></th><th scope=col>&lt;chr&gt;</th><th scope=col>&lt;chr&gt;</th><th scope=col>&lt;chr&gt;</th><th scope=col>&lt;chr&gt;</th><th scope=col>&lt;chr&gt;</th><th scope=col>&lt;chr&gt;</th><th scope=col>&lt;chr&gt;</th><th scope=col>&lt;chr&gt;</th></tr>\n",
       "</thead>\n",
       "<tbody>\n",
       "\t<tr><th scope=row>2986</th><td>chr6</td><td>29942496</td><td>HLA_A_03.01</td><td>C</td><td>T</td><td>NA</td><td>PASS</td><td>AR2=0.98;DR2=0.98;AF=0.13;IMP</td></tr>\n",
       "</tbody>\n",
       "</table>\n"
      ],
      "text/latex": [
       "A data.frame: 1 × 8\n",
       "\\begin{tabular}{r|llllllll}\n",
       "  & CHROM & POS & ID & REF & ALT & QUAL & FILTER & INFO\\\\\n",
       "  & <chr> & <chr> & <chr> & <chr> & <chr> & <chr> & <chr> & <chr>\\\\\n",
       "\\hline\n",
       "\t2986 & chr6 & 29942496 & HLA\\_A\\_03.01 & C & T & NA & PASS & AR2=0.98;DR2=0.98;AF=0.13;IMP\\\\\n",
       "\\end{tabular}\n"
      ],
      "text/markdown": [
       "\n",
       "A data.frame: 1 × 8\n",
       "\n",
       "| <!--/--> | CHROM &lt;chr&gt; | POS &lt;chr&gt; | ID &lt;chr&gt; | REF &lt;chr&gt; | ALT &lt;chr&gt; | QUAL &lt;chr&gt; | FILTER &lt;chr&gt; | INFO &lt;chr&gt; |\n",
       "|---|---|---|---|---|---|---|---|---|\n",
       "| 2986 | chr6 | 29942496 | HLA_A_03.01 | C | T | NA | PASS | AR2=0.98;DR2=0.98;AF=0.13;IMP |\n",
       "\n"
      ],
      "text/plain": [
       "     CHROM POS      ID          REF ALT QUAL FILTER\n",
       "2986 chr6  29942496 HLA_A_03.01 C   T   NA   PASS  \n",
       "     INFO                         \n",
       "2986 AR2=0.98;DR2=0.98;AF=0.13;IMP"
      ]
     },
     "metadata": {},
     "output_type": "display_data"
    },
    {
     "name": "stderr",
     "output_type": "stream",
     "text": [
      "Warning message:\n",
      "“Expected 4 pieces. Missing pieces filled with `NA` in 7168 rows [13, 15, 17, 18, 20, 22, 27, 30, 41, 44, 45, 47, 50, 52, 54, 56, 57, 62, 64, 65, ...].”\n"
     ]
    },
    {
     "data": {
      "text/html": [
       "<table class=\"dataframe\">\n",
       "<caption>A data.frame: 4 × 11</caption>\n",
       "<thead>\n",
       "\t<tr><th></th><th scope=col>CHROM</th><th scope=col>POS</th><th scope=col>ID</th><th scope=col>REF</th><th scope=col>ALT</th><th scope=col>QUAL</th><th scope=col>FILTER</th><th scope=col>AR2</th><th scope=col>DR2</th><th scope=col>AF</th><th scope=col>Imputed</th></tr>\n",
       "\t<tr><th></th><th scope=col>&lt;chr&gt;</th><th scope=col>&lt;chr&gt;</th><th scope=col>&lt;chr&gt;</th><th scope=col>&lt;chr&gt;</th><th scope=col>&lt;chr&gt;</th><th scope=col>&lt;chr&gt;</th><th scope=col>&lt;chr&gt;</th><th scope=col>&lt;dbl&gt;</th><th scope=col>&lt;dbl&gt;</th><th scope=col>&lt;dbl&gt;</th><th scope=col>&lt;chr&gt;</th></tr>\n",
       "</thead>\n",
       "<tbody>\n",
       "\t<tr><th scope=row>1</th><td>chr6</td><td>28002253</td><td>rs149946  </td><td>G</td><td>T</td><td>NA</td><td>PASS</td><td>0.96</td><td>0.96</td><td>0.220</td><td>IMP</td></tr>\n",
       "\t<tr><th scope=row>2</th><td>chr6</td><td>28008422</td><td>rs9380032 </td><td>G</td><td>T</td><td>NA</td><td>PASS</td><td>0.93</td><td>0.93</td><td>0.039</td><td>IMP</td></tr>\n",
       "\t<tr><th scope=row>3</th><td>chr6</td><td>28011410</td><td>rs4141691 </td><td>A</td><td>G</td><td>NA</td><td>PASS</td><td>0.89</td><td>0.90</td><td>0.110</td><td>IMP</td></tr>\n",
       "\t<tr><th scope=row>4</th><td>chr6</td><td>28011847</td><td>rs10484402</td><td>A</td><td>G</td><td>NA</td><td>PASS</td><td>0.93</td><td>0.93</td><td>0.043</td><td>IMP</td></tr>\n",
       "</tbody>\n",
       "</table>\n"
      ],
      "text/latex": [
       "A data.frame: 4 × 11\n",
       "\\begin{tabular}{r|lllllllllll}\n",
       "  & CHROM & POS & ID & REF & ALT & QUAL & FILTER & AR2 & DR2 & AF & Imputed\\\\\n",
       "  & <chr> & <chr> & <chr> & <chr> & <chr> & <chr> & <chr> & <dbl> & <dbl> & <dbl> & <chr>\\\\\n",
       "\\hline\n",
       "\t1 & chr6 & 28002253 & rs149946   & G & T & NA & PASS & 0.96 & 0.96 & 0.220 & IMP\\\\\n",
       "\t2 & chr6 & 28008422 & rs9380032  & G & T & NA & PASS & 0.93 & 0.93 & 0.039 & IMP\\\\\n",
       "\t3 & chr6 & 28011410 & rs4141691  & A & G & NA & PASS & 0.89 & 0.90 & 0.110 & IMP\\\\\n",
       "\t4 & chr6 & 28011847 & rs10484402 & A & G & NA & PASS & 0.93 & 0.93 & 0.043 & IMP\\\\\n",
       "\\end{tabular}\n"
      ],
      "text/markdown": [
       "\n",
       "A data.frame: 4 × 11\n",
       "\n",
       "| <!--/--> | CHROM &lt;chr&gt; | POS &lt;chr&gt; | ID &lt;chr&gt; | REF &lt;chr&gt; | ALT &lt;chr&gt; | QUAL &lt;chr&gt; | FILTER &lt;chr&gt; | AR2 &lt;dbl&gt; | DR2 &lt;dbl&gt; | AF &lt;dbl&gt; | Imputed &lt;chr&gt; |\n",
       "|---|---|---|---|---|---|---|---|---|---|---|---|\n",
       "| 1 | chr6 | 28002253 | rs149946   | G | T | NA | PASS | 0.96 | 0.96 | 0.220 | IMP |\n",
       "| 2 | chr6 | 28008422 | rs9380032  | G | T | NA | PASS | 0.93 | 0.93 | 0.039 | IMP |\n",
       "| 3 | chr6 | 28011410 | rs4141691  | A | G | NA | PASS | 0.89 | 0.90 | 0.110 | IMP |\n",
       "| 4 | chr6 | 28011847 | rs10484402 | A | G | NA | PASS | 0.93 | 0.93 | 0.043 | IMP |\n",
       "\n"
      ],
      "text/plain": [
       "  CHROM POS      ID         REF ALT QUAL FILTER AR2  DR2  AF    Imputed\n",
       "1 chr6  28002253 rs149946   G   T   NA   PASS   0.96 0.96 0.220 IMP    \n",
       "2 chr6  28008422 rs9380032  G   T   NA   PASS   0.93 0.93 0.039 IMP    \n",
       "3 chr6  28011410 rs4141691  A   G   NA   PASS   0.89 0.90 0.110 IMP    \n",
       "4 chr6  28011847 rs10484402 A   G   NA   PASS   0.93 0.93 0.043 IMP    "
      ]
     },
     "metadata": {},
     "output_type": "display_data"
    }
   ],
   "source": [
    "geno_gt = vcf@gt\n",
    "geno_df = as.data.frame(vcf@fix)\n",
    "\n",
    "# Replace asterix with period\n",
    "geno_df$ID = stringr::str_replace(geno_df$ID, '\\\\*', '_')\n",
    "geno_df$ID = stringr::str_replace_all(geno_df$ID, ':', '.')\n",
    "geno_df[which(startsWith(geno_df$ID, 'HLA_A_03.01')),]\n",
    "\n",
    "# Split column info\n",
    "geno_df = separate(data = geno_df, col = INFO, into = c(\"AR2\", \"DR2\", \"AF\", \"Imputed\"), sep = \";\")\n",
    "geno_df$AR2 = sub('.*=', '', geno_df$AR2) %>% as.numeric()\n",
    "geno_df$DR2 = sub('.*=', '', geno_df$DR2) %>% as.numeric()\n",
    "geno_df$AF = sub('.*=', '', geno_df$AF) %>% as.numeric()\n",
    "geno_df$Imputed[which(is.na(geno_df$Imputed))] = 'TYPED'\n",
    "geno_df %>% head(4)"
   ]
  },
  {
   "cell_type": "markdown",
   "id": "c1ea57ee-334c-4515-bef0-d90312e9bfea",
   "metadata": {},
   "source": [
    "Remove AAs and intragenic SNPs"
   ]
  },
  {
   "cell_type": "code",
   "execution_count": 16,
   "id": "39445da2-f960-4cd9-908a-4d4a6fe7eaeb",
   "metadata": {},
   "outputs": [
    {
     "data": {
      "text/html": [
       "3449"
      ],
      "text/latex": [
       "3449"
      ],
      "text/markdown": [
       "3449"
      ],
      "text/plain": [
       "[1] 3449"
      ]
     },
     "metadata": {},
     "output_type": "display_data"
    },
    {
     "data": {
      "text/html": [
       "570"
      ],
      "text/latex": [
       "570"
      ],
      "text/markdown": [
       "570"
      ],
      "text/plain": [
       "[1] 570"
      ]
     },
     "metadata": {},
     "output_type": "display_data"
    },
    {
     "data": {
      "text/html": [
       "4023"
      ],
      "text/latex": [
       "4023"
      ],
      "text/markdown": [
       "4023"
      ],
      "text/plain": [
       "[1] 4023"
      ]
     },
     "metadata": {},
     "output_type": "display_data"
    },
    {
     "data": {
      "text/plain": [
       "\n",
       "  IMP TYPED \n",
       " 8101  7160 "
      ]
     },
     "metadata": {},
     "output_type": "display_data"
    }
   ],
   "source": [
    "idx_HLA_AAs = which(startsWith(geno_df$ID, 'INS_AA') | startsWith(geno_df$ID, 'AA'))\n",
    "idx_HLA_alleles = which(startsWith(geno_df$ID, 'HLA'))\n",
    "idx_HLA_intra = which(startsWith(geno_df$ID, 'INS_SNPS') | startsWith(geno_df$ID, 'SNPS'))\n",
    "length(idx_HLA_AAs)\n",
    "length(idx_HLA_alleles)\n",
    "length(idx_HLA_intra)\n",
    "\n",
    "# Remove AA variants and intragenic SNPs\n",
    "geno_df = geno_df[-c(idx_HLA_AAs, idx_HLA_intra), ]\n",
    "geno_gt = geno_gt[-c(idx_HLA_AAs, idx_HLA_intra), ]\n",
    "\n",
    "table(geno_df$Imputed)"
   ]
  },
  {
   "cell_type": "markdown",
   "id": "8bc07ee4-bc9b-44d4-bb88-34f80b81c140",
   "metadata": {},
   "source": [
    "Filter by variants with DR^2 > 0.8"
   ]
  },
  {
   "cell_type": "code",
   "execution_count": 17,
   "id": "82e5b869-cfc2-487e-ad59-db8b632bee55",
   "metadata": {},
   "outputs": [
    {
     "data": {
      "text/html": [
       "<table class=\"dataframe\">\n",
       "<caption>A data.frame: 5 × 11</caption>\n",
       "<thead>\n",
       "\t<tr><th></th><th scope=col>CHROM</th><th scope=col>POS</th><th scope=col>ID</th><th scope=col>REF</th><th scope=col>ALT</th><th scope=col>QUAL</th><th scope=col>FILTER</th><th scope=col>AR2</th><th scope=col>DR2</th><th scope=col>AF</th><th scope=col>Imputed</th></tr>\n",
       "\t<tr><th></th><th scope=col>&lt;chr&gt;</th><th scope=col>&lt;chr&gt;</th><th scope=col>&lt;chr&gt;</th><th scope=col>&lt;chr&gt;</th><th scope=col>&lt;chr&gt;</th><th scope=col>&lt;chr&gt;</th><th scope=col>&lt;chr&gt;</th><th scope=col>&lt;dbl&gt;</th><th scope=col>&lt;dbl&gt;</th><th scope=col>&lt;dbl&gt;</th><th scope=col>&lt;chr&gt;</th></tr>\n",
       "</thead>\n",
       "<tbody>\n",
       "\t<tr><th scope=row>1</th><td>chr6</td><td>33640602</td><td>rs4713647</td><td>T</td><td>C</td><td>NA</td><td>PASS</td><td>0.84</td><td>0.84</td><td>0.985</td><td>IMP</td></tr>\n",
       "\t<tr><th scope=row>2</th><td>chr6</td><td>28375144</td><td>rs6916243</td><td>T</td><td>C</td><td>NA</td><td>PASS</td><td>0.90</td><td>0.90</td><td>0.982</td><td>IMP</td></tr>\n",
       "\t<tr><th scope=row>3</th><td>chr6</td><td>28609953</td><td>rs7382159</td><td>A</td><td>C</td><td>NA</td><td>PASS</td><td>0.89</td><td>0.89</td><td>0.982</td><td>IMP</td></tr>\n",
       "\t<tr><th scope=row>4</th><td>chr6</td><td>28631251</td><td>rs4711176</td><td>G</td><td>A</td><td>NA</td><td>PASS</td><td>0.89</td><td>0.89</td><td>0.982</td><td>IMP</td></tr>\n",
       "\t<tr><th scope=row>5</th><td>chr6</td><td>28639174</td><td>rs4713172</td><td>T</td><td>C</td><td>NA</td><td>PASS</td><td>0.89</td><td>0.89</td><td>0.982</td><td>IMP</td></tr>\n",
       "</tbody>\n",
       "</table>\n"
      ],
      "text/latex": [
       "A data.frame: 5 × 11\n",
       "\\begin{tabular}{r|lllllllllll}\n",
       "  & CHROM & POS & ID & REF & ALT & QUAL & FILTER & AR2 & DR2 & AF & Imputed\\\\\n",
       "  & <chr> & <chr> & <chr> & <chr> & <chr> & <chr> & <chr> & <dbl> & <dbl> & <dbl> & <chr>\\\\\n",
       "\\hline\n",
       "\t1 & chr6 & 33640602 & rs4713647 & T & C & NA & PASS & 0.84 & 0.84 & 0.985 & IMP\\\\\n",
       "\t2 & chr6 & 28375144 & rs6916243 & T & C & NA & PASS & 0.90 & 0.90 & 0.982 & IMP\\\\\n",
       "\t3 & chr6 & 28609953 & rs7382159 & A & C & NA & PASS & 0.89 & 0.89 & 0.982 & IMP\\\\\n",
       "\t4 & chr6 & 28631251 & rs4711176 & G & A & NA & PASS & 0.89 & 0.89 & 0.982 & IMP\\\\\n",
       "\t5 & chr6 & 28639174 & rs4713172 & T & C & NA & PASS & 0.89 & 0.89 & 0.982 & IMP\\\\\n",
       "\\end{tabular}\n"
      ],
      "text/markdown": [
       "\n",
       "A data.frame: 5 × 11\n",
       "\n",
       "| <!--/--> | CHROM &lt;chr&gt; | POS &lt;chr&gt; | ID &lt;chr&gt; | REF &lt;chr&gt; | ALT &lt;chr&gt; | QUAL &lt;chr&gt; | FILTER &lt;chr&gt; | AR2 &lt;dbl&gt; | DR2 &lt;dbl&gt; | AF &lt;dbl&gt; | Imputed &lt;chr&gt; |\n",
       "|---|---|---|---|---|---|---|---|---|---|---|---|\n",
       "| 1 | chr6 | 33640602 | rs4713647 | T | C | NA | PASS | 0.84 | 0.84 | 0.985 | IMP |\n",
       "| 2 | chr6 | 28375144 | rs6916243 | T | C | NA | PASS | 0.90 | 0.90 | 0.982 | IMP |\n",
       "| 3 | chr6 | 28609953 | rs7382159 | A | C | NA | PASS | 0.89 | 0.89 | 0.982 | IMP |\n",
       "| 4 | chr6 | 28631251 | rs4711176 | G | A | NA | PASS | 0.89 | 0.89 | 0.982 | IMP |\n",
       "| 5 | chr6 | 28639174 | rs4713172 | T | C | NA | PASS | 0.89 | 0.89 | 0.982 | IMP |\n",
       "\n"
      ],
      "text/plain": [
       "  CHROM POS      ID        REF ALT QUAL FILTER AR2  DR2  AF    Imputed\n",
       "1 chr6  33640602 rs4713647 T   C   NA   PASS   0.84 0.84 0.985 IMP    \n",
       "2 chr6  28375144 rs6916243 T   C   NA   PASS   0.90 0.90 0.982 IMP    \n",
       "3 chr6  28609953 rs7382159 A   C   NA   PASS   0.89 0.89 0.982 IMP    \n",
       "4 chr6  28631251 rs4711176 G   A   NA   PASS   0.89 0.89 0.982 IMP    \n",
       "5 chr6  28639174 rs4713172 T   C   NA   PASS   0.89 0.89 0.982 IMP    "
      ]
     },
     "metadata": {},
     "output_type": "display_data"
    },
    {
     "data": {
      "text/html": [
       "<style>\n",
       ".list-inline {list-style: none; margin:0; padding: 0}\n",
       ".list-inline>li {display: inline-block}\n",
       ".list-inline>li:not(:last-child)::after {content: \"\\00b7\"; padding: 0 .5ex}\n",
       "</style>\n",
       "<ol class=list-inline><li>13993</li><li>11</li></ol>\n"
      ],
      "text/latex": [
       "\\begin{enumerate*}\n",
       "\\item 13993\n",
       "\\item 11\n",
       "\\end{enumerate*}\n"
      ],
      "text/markdown": [
       "1. 13993\n",
       "2. 11\n",
       "\n",
       "\n"
      ],
      "text/plain": [
       "[1] 13993    11"
      ]
     },
     "metadata": {},
     "output_type": "display_data"
    },
    {
     "data": {
      "text/plain": [
       "\n",
       "  IMP TYPED \n",
       " 6833  7160 "
      ]
     },
     "metadata": {},
     "output_type": "display_data"
    }
   ],
   "source": [
    "keep_variants_idx = which(geno_df$DR2 > DR2_thresh)\n",
    "geno_gt = geno_gt[keep_variants_idx, ]\n",
    "geno_df = geno_df[keep_variants_idx, ]\n",
    "\n",
    "geno_df %>% arrange(-AF) %>% head(5)\n",
    "dim(geno_df)\n",
    "table(geno_df$Imputed)"
   ]
  },
  {
   "cell_type": "markdown",
   "id": "db2c713b-04fb-419a-b019-f7592e95a6c7",
   "metadata": {},
   "source": [
    "Rename to sample IDs"
   ]
  },
  {
   "cell_type": "code",
   "execution_count": 18,
   "id": "f2862fbe-d5b3-41be-83a7-dec593331e0f",
   "metadata": {},
   "outputs": [],
   "source": [
    "colnames(geno_gt) = plyr::mapvalues(colnames(geno_gt), \n",
    "                                    sample_meta$Geno_ID, sample_meta$Sample, warn_missing = TRUE)"
   ]
  },
  {
   "cell_type": "markdown",
   "id": "94e6bfb2-58e1-4526-ac1d-a2e1ef0f204a",
   "metadata": {},
   "source": [
    "Extract dosage info (takes a few mins)"
   ]
  },
  {
   "cell_type": "code",
   "execution_count": 19,
   "id": "f5936b43-9db2-4edb-98dc-61e90de456e8",
   "metadata": {},
   "outputs": [
    {
     "data": {
      "text/html": [
       "<style>\n",
       ".list-inline {list-style: none; margin:0; padding: 0}\n",
       ".list-inline>li {display: inline-block}\n",
       ".list-inline>li:not(:last-child)::after {content: \"\\00b7\"; padding: 0 .5ex}\n",
       "</style>\n",
       "<ol class=list-inline><li>13993</li><li>11</li></ol>\n"
      ],
      "text/latex": [
       "\\begin{enumerate*}\n",
       "\\item 13993\n",
       "\\item 11\n",
       "\\end{enumerate*}\n"
      ],
      "text/markdown": [
       "1. 13993\n",
       "2. 11\n",
       "\n",
       "\n"
      ],
      "text/plain": [
       "[1] 13993    11"
      ]
     },
     "metadata": {},
     "output_type": "display_data"
    },
    {
     "data": {
      "text/html": [
       "<style>\n",
       ".list-inline {list-style: none; margin:0; padding: 0}\n",
       ".list-inline>li {display: inline-block}\n",
       ".list-inline>li:not(:last-child)::after {content: \"\\00b7\"; padding: 0 .5ex}\n",
       "</style>\n",
       "<ol class=list-inline><li>13993</li><li>15</li></ol>\n"
      ],
      "text/latex": [
       "\\begin{enumerate*}\n",
       "\\item 13993\n",
       "\\item 15\n",
       "\\end{enumerate*}\n"
      ],
      "text/markdown": [
       "1. 13993\n",
       "2. 15\n",
       "\n",
       "\n"
      ],
      "text/plain": [
       "[1] 13993    15"
      ]
     },
     "metadata": {},
     "output_type": "display_data"
    }
   ],
   "source": [
    "get_dosage = function(st) { return(strsplit(st, \":\")[[1]][2]) }\n",
    "geno_dosage = apply(geno_gt, c(1,2), get_dosage)\n",
    "dim(geno_df)\n",
    "dim(geno_dosage)\n",
    "rownames(geno_dosage) = geno_df$ID\n",
    "geno_dosage = geno_dosage %>% t()"
   ]
  },
  {
   "cell_type": "code",
   "execution_count": 20,
   "id": "b8f75405-aca9-4ba6-8596-d81be5d60a53",
   "metadata": {},
   "outputs": [
    {
     "data": {
      "text/html": [
       "<table class=\"dataframe\">\n",
       "<caption>A matrix: 5 × 5 of type chr</caption>\n",
       "<thead>\n",
       "\t<tr><th></th><th scope=col>rs149946</th><th scope=col>rs9380032</th><th scope=col>rs4141691</th><th scope=col>rs10484402</th><th scope=col>rs9368540</th></tr>\n",
       "</thead>\n",
       "<tbody>\n",
       "\t<tr><th scope=row>N24</th><td>0   </td><td>0</td><td>0</td><td>0</td><td>0</td></tr>\n",
       "\t<tr><th scope=row>N10</th><td>0   </td><td>0</td><td>0</td><td>0</td><td>0</td></tr>\n",
       "\t<tr><th scope=row>N13</th><td>0   </td><td>0</td><td>0</td><td>1</td><td>1</td></tr>\n",
       "\t<tr><th scope=row>N19</th><td>0.96</td><td>0</td><td>0</td><td>0</td><td>0</td></tr>\n",
       "\t<tr><th scope=row>N16</th><td>2   </td><td>1</td><td>0</td><td>0</td><td>0</td></tr>\n",
       "</tbody>\n",
       "</table>\n"
      ],
      "text/latex": [
       "A matrix: 5 × 5 of type chr\n",
       "\\begin{tabular}{r|lllll}\n",
       "  & rs149946 & rs9380032 & rs4141691 & rs10484402 & rs9368540\\\\\n",
       "\\hline\n",
       "\tN24 & 0    & 0 & 0 & 0 & 0\\\\\n",
       "\tN10 & 0    & 0 & 0 & 0 & 0\\\\\n",
       "\tN13 & 0    & 0 & 0 & 1 & 1\\\\\n",
       "\tN19 & 0.96 & 0 & 0 & 0 & 0\\\\\n",
       "\tN16 & 2    & 1 & 0 & 0 & 0\\\\\n",
       "\\end{tabular}\n"
      ],
      "text/markdown": [
       "\n",
       "A matrix: 5 × 5 of type chr\n",
       "\n",
       "| <!--/--> | rs149946 | rs9380032 | rs4141691 | rs10484402 | rs9368540 |\n",
       "|---|---|---|---|---|---|\n",
       "| N24 | 0    | 0 | 0 | 0 | 0 |\n",
       "| N10 | 0    | 0 | 0 | 0 | 0 |\n",
       "| N13 | 0    | 0 | 0 | 1 | 1 |\n",
       "| N19 | 0.96 | 0 | 0 | 0 | 0 |\n",
       "| N16 | 2    | 1 | 0 | 0 | 0 |\n",
       "\n"
      ],
      "text/plain": [
       "    rs149946 rs9380032 rs4141691 rs10484402 rs9368540\n",
       "N24 0        0         0         0          0        \n",
       "N10 0        0         0         0          0        \n",
       "N13 0        0         0         1          1        \n",
       "N19 0.96     0         0         0          0        \n",
       "N16 2        1         0         0          0        "
      ]
     },
     "metadata": {},
     "output_type": "display_data"
    }
   ],
   "source": [
    "geno_dosage = geno_dosage[-1, ] #Remove FORMAT row\n",
    "geno_dosage[1:5, 1:5]"
   ]
  },
  {
   "cell_type": "markdown",
   "id": "f025d4a4-a004-45c5-b535-76678b27e3eb",
   "metadata": {},
   "source": [
    "Get Smillie_1 samples and reorder to match sample_meta"
   ]
  },
  {
   "cell_type": "code",
   "execution_count": 21,
   "id": "765024ed-1ddb-48c8-b176-3267517dea8d",
   "metadata": {},
   "outputs": [
    {
     "data": {
      "text/html": [
       "<table class=\"dataframe\">\n",
       "<caption>A matrix: 4 × 4 of type chr</caption>\n",
       "<thead>\n",
       "\t<tr><th></th><th scope=col>rs149946</th><th scope=col>rs9380032</th><th scope=col>rs4141691</th><th scope=col>rs10484402</th></tr>\n",
       "</thead>\n",
       "<tbody>\n",
       "\t<tr><th scope=row>N24</th><td>0   </td><td>0</td><td>0</td><td>0</td></tr>\n",
       "\t<tr><th scope=row>N10</th><td>0   </td><td>0</td><td>0</td><td>0</td></tr>\n",
       "\t<tr><th scope=row>N13</th><td>0   </td><td>0</td><td>0</td><td>1</td></tr>\n",
       "\t<tr><th scope=row>N19</th><td>0.96</td><td>0</td><td>0</td><td>0</td></tr>\n",
       "</tbody>\n",
       "</table>\n"
      ],
      "text/latex": [
       "A matrix: 4 × 4 of type chr\n",
       "\\begin{tabular}{r|llll}\n",
       "  & rs149946 & rs9380032 & rs4141691 & rs10484402\\\\\n",
       "\\hline\n",
       "\tN24 & 0    & 0 & 0 & 0\\\\\n",
       "\tN10 & 0    & 0 & 0 & 0\\\\\n",
       "\tN13 & 0    & 0 & 0 & 1\\\\\n",
       "\tN19 & 0.96 & 0 & 0 & 0\\\\\n",
       "\\end{tabular}\n"
      ],
      "text/markdown": [
       "\n",
       "A matrix: 4 × 4 of type chr\n",
       "\n",
       "| <!--/--> | rs149946 | rs9380032 | rs4141691 | rs10484402 |\n",
       "|---|---|---|---|---|\n",
       "| N24 | 0    | 0 | 0 | 0 |\n",
       "| N10 | 0    | 0 | 0 | 0 |\n",
       "| N13 | 0    | 0 | 0 | 1 |\n",
       "| N19 | 0.96 | 0 | 0 | 0 |\n",
       "\n"
      ],
      "text/plain": [
       "    rs149946 rs9380032 rs4141691 rs10484402\n",
       "N24 0        0         0         0         \n",
       "N10 0        0         0         0         \n",
       "N13 0        0         0         1         \n",
       "N19 0.96     0         0         0         "
      ]
     },
     "metadata": {},
     "output_type": "display_data"
    }
   ],
   "source": [
    "# Reorder to match sample_meta\n",
    "geno_dosage_Smillie_1 = geno_dosage[sample_meta$Sample, ]\n",
    "geno_dosage_Smillie_1[1:4, 1:4] # sample X dosage\n",
    "geno_df_Smillie_1 = geno_df"
   ]
  },
  {
   "cell_type": "markdown",
   "id": "170ff3e9-10a5-4b3e-aca1-d3016cbace9e",
   "metadata": {
    "tags": []
   },
   "source": [
    "## Helmsley_merged"
   ]
  },
  {
   "cell_type": "markdown",
   "id": "75727817-e7bc-4025-a709-3574d9c28e6a",
   "metadata": {},
   "source": [
    "Subset to cohort samples"
   ]
  },
  {
   "cell_type": "code",
   "execution_count": 22,
   "id": "d17ff5a7-c786-4759-8405-cd5b8db7f900",
   "metadata": {},
   "outputs": [
    {
     "data": {
      "text/html": [
       "8"
      ],
      "text/latex": [
       "8"
      ],
      "text/markdown": [
       "8"
      ],
      "text/plain": [
       "[1] 8"
      ]
     },
     "metadata": {},
     "output_type": "display_data"
    },
    {
     "data": {
      "text/plain": [
       "***** Object of Class vcfR *****\n",
       "2121 samples\n",
       "1 CHROMs\n",
       "22,733 variants\n",
       "Object size: 373.6 Mb\n",
       "0 percent missing data\n",
       "*****        *****         *****"
      ]
     },
     "metadata": {},
     "output_type": "display_data"
    },
    {
     "data": {
      "text/html": [
       "<style>\n",
       ".list-inline {list-style: none; margin:0; padding: 0}\n",
       ".list-inline>li {display: inline-block}\n",
       ".list-inline>li:not(:last-child)::after {content: \"\\00b7\"; padding: 0 .5ex}\n",
       "</style>\n",
       "<ol class=list-inline><li>'##fileformat=VCFv4.2'</li><li>'##INFO=&lt;ID=AF,Number=A,Type=Float,Description=\"Estimated ALT Allele Frequencies\"&gt;'</li><li>'##INFO=&lt;ID=AR2,Number=1,Type=Float,Description=\"Allelic R-Squared: estimated squared correlation between most probable REF dose and true REF dose\"&gt;'</li><li>'##INFO=&lt;ID=DR2,Number=1,Type=Float,Description=\"Dosage R-Squared: estimated squared correlation between estimated REF dose [P(RA) + 2*P(RR)] and true REF dose\"&gt;'</li></ol>\n"
      ],
      "text/latex": [
       "\\begin{enumerate*}\n",
       "\\item '\\#\\#fileformat=VCFv4.2'\n",
       "\\item '\\#\\#INFO=<ID=AF,Number=A,Type=Float,Description=\"Estimated ALT Allele Frequencies\">'\n",
       "\\item '\\#\\#INFO=<ID=AR2,Number=1,Type=Float,Description=\"Allelic R-Squared: estimated squared correlation between most probable REF dose and true REF dose\">'\n",
       "\\item '\\#\\#INFO=<ID=DR2,Number=1,Type=Float,Description=\"Dosage R-Squared: estimated squared correlation between estimated REF dose {[}P(RA) + 2*P(RR){]} and true REF dose\">'\n",
       "\\end{enumerate*}\n"
      ],
      "text/markdown": [
       "1. '##fileformat=VCFv4.2'\n",
       "2. '##INFO=&lt;ID=AF,Number=A,Type=Float,Description=\"Estimated ALT Allele Frequencies\"&gt;'\n",
       "3. '##INFO=&lt;ID=AR2,Number=1,Type=Float,Description=\"Allelic R-Squared: estimated squared correlation between most probable REF dose and true REF dose\"&gt;'\n",
       "4. '##INFO=&lt;ID=DR2,Number=1,Type=Float,Description=\"Dosage R-Squared: estimated squared correlation between estimated REF dose [P(RA) + 2*P(RR)] and true REF dose\"&gt;'\n",
       "\n",
       "\n"
      ],
      "text/plain": [
       "[1] \"##fileformat=VCFv4.2\"                                                                                                                                              \n",
       "[2] \"##INFO=<ID=AF,Number=A,Type=Float,Description=\\\"Estimated ALT Allele Frequencies\\\">\"                                                                               \n",
       "[3] \"##INFO=<ID=AR2,Number=1,Type=Float,Description=\\\"Allelic R-Squared: estimated squared correlation between most probable REF dose and true REF dose\\\">\"             \n",
       "[4] \"##INFO=<ID=DR2,Number=1,Type=Float,Description=\\\"Dosage R-Squared: estimated squared correlation between estimated REF dose [P(RA) + 2*P(RR)] and true REF dose\\\">\""
      ]
     },
     "metadata": {},
     "output_type": "display_data"
    },
    {
     "data": {
      "text/html": [
       "<table class=\"dataframe\">\n",
       "<caption>A matrix: 4 × 9 of type chr</caption>\n",
       "<thead>\n",
       "\t<tr><th scope=col>FORMAT</th><th scope=col>200554340014_R04C01</th><th scope=col>200554340055_R04C02</th><th scope=col>200554340071_R09C02</th><th scope=col>200556970036_R05C02</th><th scope=col>200556970061_R03C01</th><th scope=col>200556970131_R07C01</th><th scope=col>200557060156_R09C02</th><th scope=col>200557070016_R12C02</th></tr>\n",
       "</thead>\n",
       "<tbody>\n",
       "\t<tr><td>GT:DS:GP</td><td>0|0:0:1,0,0           </td><td>1|0:1:0,1,0</td><td>0|0:0:1,0,0            </td><td>0|1:1:0,1,0</td><td>0|0:0:1,0,0            </td><td>1|1:2:0,0,1</td><td>0|0:0:1,0,0</td><td>0|0:0:1,0,0</td></tr>\n",
       "\t<tr><td>GT:DS:GP</td><td>0|0:0:1,0,0           </td><td>0|0:0:1,0,0</td><td>0|0:0:1,0,0            </td><td>0|0:0:1,0,0</td><td>0|0:0:1,0,0            </td><td>0|0:0:1,0,0</td><td>0|0:0:1,0,0</td><td>0|0:0:1,0,0</td></tr>\n",
       "\t<tr><td>GT:DS:GP</td><td>1|0:0.93:0.1,0.87,0.03</td><td>0|0:0:1,0,0</td><td>1|1:1.82:0.01,0.17,0.82</td><td>0|0:0:1,0,0</td><td>1|1:1.81:0.01,0.17,0.82</td><td>0|0:0:1,0,0</td><td>0|0:0:1,0,0</td><td>0|0:0:1,0,0</td></tr>\n",
       "\t<tr><td>GT:DS:GP</td><td>0|0:0:1,0,0           </td><td>0|0:0:1,0,0</td><td>0|0:0:1,0,0            </td><td>0|0:0:1,0,0</td><td>0|0:0:1,0,0            </td><td>0|0:0:1,0,0</td><td>0|0:0:1,0,0</td><td>0|0:0:1,0,0</td></tr>\n",
       "</tbody>\n",
       "</table>\n"
      ],
      "text/latex": [
       "A matrix: 4 × 9 of type chr\n",
       "\\begin{tabular}{lllllllll}\n",
       " FORMAT & 200554340014\\_R04C01 & 200554340055\\_R04C02 & 200554340071\\_R09C02 & 200556970036\\_R05C02 & 200556970061\\_R03C01 & 200556970131\\_R07C01 & 200557060156\\_R09C02 & 200557070016\\_R12C02\\\\\n",
       "\\hline\n",
       "\t GT:DS:GP & 0\\textbar{}0:0:1,0,0            & 1\\textbar{}0:1:0,1,0 & 0\\textbar{}0:0:1,0,0             & 0\\textbar{}1:1:0,1,0 & 0\\textbar{}0:0:1,0,0             & 1\\textbar{}1:2:0,0,1 & 0\\textbar{}0:0:1,0,0 & 0\\textbar{}0:0:1,0,0\\\\\n",
       "\t GT:DS:GP & 0\\textbar{}0:0:1,0,0            & 0\\textbar{}0:0:1,0,0 & 0\\textbar{}0:0:1,0,0             & 0\\textbar{}0:0:1,0,0 & 0\\textbar{}0:0:1,0,0             & 0\\textbar{}0:0:1,0,0 & 0\\textbar{}0:0:1,0,0 & 0\\textbar{}0:0:1,0,0\\\\\n",
       "\t GT:DS:GP & 1\\textbar{}0:0.93:0.1,0.87,0.03 & 0\\textbar{}0:0:1,0,0 & 1\\textbar{}1:1.82:0.01,0.17,0.82 & 0\\textbar{}0:0:1,0,0 & 1\\textbar{}1:1.81:0.01,0.17,0.82 & 0\\textbar{}0:0:1,0,0 & 0\\textbar{}0:0:1,0,0 & 0\\textbar{}0:0:1,0,0\\\\\n",
       "\t GT:DS:GP & 0\\textbar{}0:0:1,0,0            & 0\\textbar{}0:0:1,0,0 & 0\\textbar{}0:0:1,0,0             & 0\\textbar{}0:0:1,0,0 & 0\\textbar{}0:0:1,0,0             & 0\\textbar{}0:0:1,0,0 & 0\\textbar{}0:0:1,0,0 & 0\\textbar{}0:0:1,0,0\\\\\n",
       "\\end{tabular}\n"
      ],
      "text/markdown": [
       "\n",
       "A matrix: 4 × 9 of type chr\n",
       "\n",
       "| FORMAT | 200554340014_R04C01 | 200554340055_R04C02 | 200554340071_R09C02 | 200556970036_R05C02 | 200556970061_R03C01 | 200556970131_R07C01 | 200557060156_R09C02 | 200557070016_R12C02 |\n",
       "|---|---|---|---|---|---|---|---|---|\n",
       "| GT:DS:GP | 0|0:0:1,0,0            | 1|0:1:0,1,0 | 0|0:0:1,0,0             | 0|1:1:0,1,0 | 0|0:0:1,0,0             | 1|1:2:0,0,1 | 0|0:0:1,0,0 | 0|0:0:1,0,0 |\n",
       "| GT:DS:GP | 0|0:0:1,0,0            | 0|0:0:1,0,0 | 0|0:0:1,0,0             | 0|0:0:1,0,0 | 0|0:0:1,0,0             | 0|0:0:1,0,0 | 0|0:0:1,0,0 | 0|0:0:1,0,0 |\n",
       "| GT:DS:GP | 1|0:0.93:0.1,0.87,0.03 | 0|0:0:1,0,0 | 1|1:1.82:0.01,0.17,0.82 | 0|0:0:1,0,0 | 1|1:1.81:0.01,0.17,0.82 | 0|0:0:1,0,0 | 0|0:0:1,0,0 | 0|0:0:1,0,0 |\n",
       "| GT:DS:GP | 0|0:0:1,0,0            | 0|0:0:1,0,0 | 0|0:0:1,0,0             | 0|0:0:1,0,0 | 0|0:0:1,0,0             | 0|0:0:1,0,0 | 0|0:0:1,0,0 | 0|0:0:1,0,0 |\n",
       "\n"
      ],
      "text/plain": [
       "     FORMAT   200554340014_R04C01    200554340055_R04C02\n",
       "[1,] GT:DS:GP 0|0:0:1,0,0            1|0:1:0,1,0        \n",
       "[2,] GT:DS:GP 0|0:0:1,0,0            0|0:0:1,0,0        \n",
       "[3,] GT:DS:GP 1|0:0.93:0.1,0.87,0.03 0|0:0:1,0,0        \n",
       "[4,] GT:DS:GP 0|0:0:1,0,0            0|0:0:1,0,0        \n",
       "     200554340071_R09C02     200556970036_R05C02 200556970061_R03C01    \n",
       "[1,] 0|0:0:1,0,0             0|1:1:0,1,0         0|0:0:1,0,0            \n",
       "[2,] 0|0:0:1,0,0             0|0:0:1,0,0         0|0:0:1,0,0            \n",
       "[3,] 1|1:1.82:0.01,0.17,0.82 0|0:0:1,0,0         1|1:1.81:0.01,0.17,0.82\n",
       "[4,] 0|0:0:1,0,0             0|0:0:1,0,0         0|0:0:1,0,0            \n",
       "     200556970131_R07C01 200557060156_R09C02 200557070016_R12C02\n",
       "[1,] 1|1:2:0,0,1         0|0:0:1,0,0         0|0:0:1,0,0        \n",
       "[2,] 0|0:0:1,0,0         0|0:0:1,0,0         0|0:0:1,0,0        \n",
       "[3,] 0|0:0:1,0,0         0|0:0:1,0,0         0|0:0:1,0,0        \n",
       "[4,] 0|0:0:1,0,0         0|0:0:1,0,0         0|0:0:1,0,0        "
      ]
     },
     "metadata": {},
     "output_type": "display_data"
    }
   ],
   "source": [
    "hg38_path = '/data/srlab1/jkang/hla/data/Smillie2019/Smillie2019_Hemsley.final.SNP2HLA.imputed_MHC_hg38_lifted_over.vcf'\n",
    "vcf = read.vcfR(hg38_path, verbose = F)\n",
    "\n",
    "# Only include samples genotyped on this array\n",
    "sample_meta = Smillie_sample_meta[which(Smillie_sample_meta$Geno_ID %in% colnames(vcf@gt)), ]\n",
    "nrow(sample_meta)\n",
    "\n",
    "# Subset to cohort samples\n",
    "vcf\n",
    "vcf@meta %>% head(4)\n",
    "samples = c('FORMAT', sample_meta$Geno_ID)\n",
    "vcf@gt = vcf@gt[, colnames(vcf@gt) %in% samples]\n",
    "vcf@gt %>% head(4)"
   ]
  },
  {
   "cell_type": "markdown",
   "id": "36bd23a5-c994-4e32-846c-71e8d906db39",
   "metadata": {},
   "source": [
    "Format the fix region"
   ]
  },
  {
   "cell_type": "code",
   "execution_count": 23,
   "id": "d4314729-dce8-4a07-a9fc-beef2d1b995c",
   "metadata": {},
   "outputs": [
    {
     "data": {
      "text/html": [
       "<table class=\"dataframe\">\n",
       "<caption>A data.frame: 1 × 8</caption>\n",
       "<thead>\n",
       "\t<tr><th></th><th scope=col>CHROM</th><th scope=col>POS</th><th scope=col>ID</th><th scope=col>REF</th><th scope=col>ALT</th><th scope=col>QUAL</th><th scope=col>FILTER</th><th scope=col>INFO</th></tr>\n",
       "\t<tr><th></th><th scope=col>&lt;chr&gt;</th><th scope=col>&lt;chr&gt;</th><th scope=col>&lt;chr&gt;</th><th scope=col>&lt;chr&gt;</th><th scope=col>&lt;chr&gt;</th><th scope=col>&lt;chr&gt;</th><th scope=col>&lt;chr&gt;</th><th scope=col>&lt;chr&gt;</th></tr>\n",
       "</thead>\n",
       "<tbody>\n",
       "\t<tr><th scope=row>2986</th><td>chr6</td><td>29942496</td><td>HLA_A_03.01</td><td>C</td><td>T</td><td>NA</td><td>PASS</td><td>AR2=0.97;DR2=0.97;AF=0.12;IMP</td></tr>\n",
       "</tbody>\n",
       "</table>\n"
      ],
      "text/latex": [
       "A data.frame: 1 × 8\n",
       "\\begin{tabular}{r|llllllll}\n",
       "  & CHROM & POS & ID & REF & ALT & QUAL & FILTER & INFO\\\\\n",
       "  & <chr> & <chr> & <chr> & <chr> & <chr> & <chr> & <chr> & <chr>\\\\\n",
       "\\hline\n",
       "\t2986 & chr6 & 29942496 & HLA\\_A\\_03.01 & C & T & NA & PASS & AR2=0.97;DR2=0.97;AF=0.12;IMP\\\\\n",
       "\\end{tabular}\n"
      ],
      "text/markdown": [
       "\n",
       "A data.frame: 1 × 8\n",
       "\n",
       "| <!--/--> | CHROM &lt;chr&gt; | POS &lt;chr&gt; | ID &lt;chr&gt; | REF &lt;chr&gt; | ALT &lt;chr&gt; | QUAL &lt;chr&gt; | FILTER &lt;chr&gt; | INFO &lt;chr&gt; |\n",
       "|---|---|---|---|---|---|---|---|---|\n",
       "| 2986 | chr6 | 29942496 | HLA_A_03.01 | C | T | NA | PASS | AR2=0.97;DR2=0.97;AF=0.12;IMP |\n",
       "\n"
      ],
      "text/plain": [
       "     CHROM POS      ID          REF ALT QUAL FILTER\n",
       "2986 chr6  29942496 HLA_A_03.01 C   T   NA   PASS  \n",
       "     INFO                         \n",
       "2986 AR2=0.97;DR2=0.97;AF=0.12;IMP"
      ]
     },
     "metadata": {},
     "output_type": "display_data"
    },
    {
     "name": "stderr",
     "output_type": "stream",
     "text": [
      "Warning message:\n",
      "“Expected 4 pieces. Missing pieces filled with `NA` in 709 rows [14, 43, 73, 102, 139, 165, 189, 203, 212, 236, 253, 256, 268, 271, 274, 280, 281, 298, 366, 371, ...].”\n"
     ]
    },
    {
     "data": {
      "text/html": [
       "<table class=\"dataframe\">\n",
       "<caption>A data.frame: 4 × 11</caption>\n",
       "<thead>\n",
       "\t<tr><th></th><th scope=col>CHROM</th><th scope=col>POS</th><th scope=col>ID</th><th scope=col>REF</th><th scope=col>ALT</th><th scope=col>QUAL</th><th scope=col>FILTER</th><th scope=col>AR2</th><th scope=col>DR2</th><th scope=col>AF</th><th scope=col>Imputed</th></tr>\n",
       "\t<tr><th></th><th scope=col>&lt;chr&gt;</th><th scope=col>&lt;chr&gt;</th><th scope=col>&lt;chr&gt;</th><th scope=col>&lt;chr&gt;</th><th scope=col>&lt;chr&gt;</th><th scope=col>&lt;chr&gt;</th><th scope=col>&lt;chr&gt;</th><th scope=col>&lt;dbl&gt;</th><th scope=col>&lt;dbl&gt;</th><th scope=col>&lt;dbl&gt;</th><th scope=col>&lt;chr&gt;</th></tr>\n",
       "</thead>\n",
       "<tbody>\n",
       "\t<tr><th scope=row>1</th><td>chr6</td><td>28002253</td><td>rs149946  </td><td>G</td><td>T</td><td>NA</td><td>PASS</td><td>0.96</td><td>0.97</td><td>0.220</td><td>IMP</td></tr>\n",
       "\t<tr><th scope=row>2</th><td>chr6</td><td>28008422</td><td>rs9380032 </td><td>G</td><td>T</td><td>NA</td><td>PASS</td><td>0.83</td><td>0.85</td><td>0.035</td><td>IMP</td></tr>\n",
       "\t<tr><th scope=row>3</th><td>chr6</td><td>28011410</td><td>rs4141691 </td><td>A</td><td>G</td><td>NA</td><td>PASS</td><td>0.85</td><td>0.86</td><td>0.110</td><td>IMP</td></tr>\n",
       "\t<tr><th scope=row>4</th><td>chr6</td><td>28011847</td><td>rs10484402</td><td>A</td><td>G</td><td>NA</td><td>PASS</td><td>0.83</td><td>0.85</td><td>0.037</td><td>IMP</td></tr>\n",
       "</tbody>\n",
       "</table>\n"
      ],
      "text/latex": [
       "A data.frame: 4 × 11\n",
       "\\begin{tabular}{r|lllllllllll}\n",
       "  & CHROM & POS & ID & REF & ALT & QUAL & FILTER & AR2 & DR2 & AF & Imputed\\\\\n",
       "  & <chr> & <chr> & <chr> & <chr> & <chr> & <chr> & <chr> & <dbl> & <dbl> & <dbl> & <chr>\\\\\n",
       "\\hline\n",
       "\t1 & chr6 & 28002253 & rs149946   & G & T & NA & PASS & 0.96 & 0.97 & 0.220 & IMP\\\\\n",
       "\t2 & chr6 & 28008422 & rs9380032  & G & T & NA & PASS & 0.83 & 0.85 & 0.035 & IMP\\\\\n",
       "\t3 & chr6 & 28011410 & rs4141691  & A & G & NA & PASS & 0.85 & 0.86 & 0.110 & IMP\\\\\n",
       "\t4 & chr6 & 28011847 & rs10484402 & A & G & NA & PASS & 0.83 & 0.85 & 0.037 & IMP\\\\\n",
       "\\end{tabular}\n"
      ],
      "text/markdown": [
       "\n",
       "A data.frame: 4 × 11\n",
       "\n",
       "| <!--/--> | CHROM &lt;chr&gt; | POS &lt;chr&gt; | ID &lt;chr&gt; | REF &lt;chr&gt; | ALT &lt;chr&gt; | QUAL &lt;chr&gt; | FILTER &lt;chr&gt; | AR2 &lt;dbl&gt; | DR2 &lt;dbl&gt; | AF &lt;dbl&gt; | Imputed &lt;chr&gt; |\n",
       "|---|---|---|---|---|---|---|---|---|---|---|---|\n",
       "| 1 | chr6 | 28002253 | rs149946   | G | T | NA | PASS | 0.96 | 0.97 | 0.220 | IMP |\n",
       "| 2 | chr6 | 28008422 | rs9380032  | G | T | NA | PASS | 0.83 | 0.85 | 0.035 | IMP |\n",
       "| 3 | chr6 | 28011410 | rs4141691  | A | G | NA | PASS | 0.85 | 0.86 | 0.110 | IMP |\n",
       "| 4 | chr6 | 28011847 | rs10484402 | A | G | NA | PASS | 0.83 | 0.85 | 0.037 | IMP |\n",
       "\n"
      ],
      "text/plain": [
       "  CHROM POS      ID         REF ALT QUAL FILTER AR2  DR2  AF    Imputed\n",
       "1 chr6  28002253 rs149946   G   T   NA   PASS   0.96 0.97 0.220 IMP    \n",
       "2 chr6  28008422 rs9380032  G   T   NA   PASS   0.83 0.85 0.035 IMP    \n",
       "3 chr6  28011410 rs4141691  A   G   NA   PASS   0.85 0.86 0.110 IMP    \n",
       "4 chr6  28011847 rs10484402 A   G   NA   PASS   0.83 0.85 0.037 IMP    "
      ]
     },
     "metadata": {},
     "output_type": "display_data"
    }
   ],
   "source": [
    "geno_gt = vcf@gt\n",
    "geno_df = as.data.frame(vcf@fix)\n",
    "\n",
    "# Replace asterix with period\n",
    "geno_df$ID = stringr::str_replace(geno_df$ID, '\\\\*', '_')\n",
    "geno_df$ID = stringr::str_replace_all(geno_df$ID, ':', '.')\n",
    "geno_df[which(startsWith(geno_df$ID, 'HLA_A_03.01')),]\n",
    "\n",
    "# Split column info\n",
    "geno_df = separate(data = geno_df, col = INFO, into = c(\"AR2\", \"DR2\", \"AF\", \"Imputed\"), sep = \";\")\n",
    "geno_df$AR2 = sub('.*=', '', geno_df$AR2) %>% as.numeric()\n",
    "geno_df$DR2 = sub('.*=', '', geno_df$DR2) %>% as.numeric()\n",
    "geno_df$AF = sub('.*=', '', geno_df$AF) %>% as.numeric()\n",
    "geno_df$Imputed[which(is.na(geno_df$Imputed))] = 'TYPED'\n",
    "geno_df %>% head(4)"
   ]
  },
  {
   "cell_type": "markdown",
   "id": "32ab6b62-fc3a-4ee3-9434-e331baee016d",
   "metadata": {},
   "source": [
    "Remove AAs and intragenic SNPs"
   ]
  },
  {
   "cell_type": "code",
   "execution_count": 24,
   "id": "6c1bd947-5a1c-40fa-9562-16f70a442fb4",
   "metadata": {},
   "outputs": [
    {
     "data": {
      "text/html": [
       "3449"
      ],
      "text/latex": [
       "3449"
      ],
      "text/markdown": [
       "3449"
      ],
      "text/plain": [
       "[1] 3449"
      ]
     },
     "metadata": {},
     "output_type": "display_data"
    },
    {
     "data": {
      "text/html": [
       "570"
      ],
      "text/latex": [
       "570"
      ],
      "text/markdown": [
       "570"
      ],
      "text/plain": [
       "[1] 570"
      ]
     },
     "metadata": {},
     "output_type": "display_data"
    },
    {
     "data": {
      "text/html": [
       "4023"
      ],
      "text/latex": [
       "4023"
      ],
      "text/markdown": [
       "4023"
      ],
      "text/plain": [
       "[1] 4023"
      ]
     },
     "metadata": {},
     "output_type": "display_data"
    },
    {
     "data": {
      "text/plain": [
       "\n",
       "  IMP TYPED \n",
       "14552   709 "
      ]
     },
     "metadata": {},
     "output_type": "display_data"
    }
   ],
   "source": [
    "idx_HLA_AAs = which(startsWith(geno_df$ID, 'INS_AA') | startsWith(geno_df$ID, 'AA'))\n",
    "idx_HLA_alleles = which(startsWith(geno_df$ID, 'HLA'))\n",
    "idx_HLA_intra = which(startsWith(geno_df$ID, 'INS_SNPS') | startsWith(geno_df$ID, 'SNPS'))\n",
    "length(idx_HLA_AAs)\n",
    "length(idx_HLA_alleles)\n",
    "length(idx_HLA_intra)\n",
    "\n",
    "# Remove AA variants and intragenic SNPs\n",
    "geno_df = geno_df[-c(idx_HLA_AAs, idx_HLA_intra), ]\n",
    "geno_gt = geno_gt[-c(idx_HLA_AAs, idx_HLA_intra), ]\n",
    "\n",
    "table(geno_df$Imputed)"
   ]
  },
  {
   "cell_type": "markdown",
   "id": "59b47fac-03cc-43c4-bbb5-5842cbc7abbf",
   "metadata": {},
   "source": [
    "Filter by variants with DR^2 > 0.8"
   ]
  },
  {
   "cell_type": "code",
   "execution_count": 25,
   "id": "ac24257b-2dda-471f-907a-5315e2cd7bc4",
   "metadata": {},
   "outputs": [
    {
     "data": {
      "text/html": [
       "<table class=\"dataframe\">\n",
       "<caption>A data.frame: 5 × 11</caption>\n",
       "<thead>\n",
       "\t<tr><th></th><th scope=col>CHROM</th><th scope=col>POS</th><th scope=col>ID</th><th scope=col>REF</th><th scope=col>ALT</th><th scope=col>QUAL</th><th scope=col>FILTER</th><th scope=col>AR2</th><th scope=col>DR2</th><th scope=col>AF</th><th scope=col>Imputed</th></tr>\n",
       "\t<tr><th></th><th scope=col>&lt;chr&gt;</th><th scope=col>&lt;chr&gt;</th><th scope=col>&lt;chr&gt;</th><th scope=col>&lt;chr&gt;</th><th scope=col>&lt;chr&gt;</th><th scope=col>&lt;chr&gt;</th><th scope=col>&lt;chr&gt;</th><th scope=col>&lt;dbl&gt;</th><th scope=col>&lt;dbl&gt;</th><th scope=col>&lt;dbl&gt;</th><th scope=col>&lt;chr&gt;</th></tr>\n",
       "</thead>\n",
       "<tbody>\n",
       "\t<tr><th scope=row>1</th><td>chr6</td><td>28652420</td><td>rs7382309</td><td>A</td><td>G</td><td>NA</td><td>PASS</td><td>0.80</td><td>0.81</td><td>0.989</td><td>IMP</td></tr>\n",
       "\t<tr><th scope=row>2</th><td>chr6</td><td>33640602</td><td>rs4713647</td><td>T</td><td>C</td><td>NA</td><td>PASS</td><td>0.83</td><td>0.85</td><td>0.982</td><td>IMP</td></tr>\n",
       "\t<tr><th scope=row>3</th><td>chr6</td><td>33642573</td><td>rs4711333</td><td>A</td><td>G</td><td>NA</td><td>PASS</td><td>0.84</td><td>0.86</td><td>0.978</td><td>IMP</td></tr>\n",
       "\t<tr><th scope=row>4</th><td>chr6</td><td>28609953</td><td>rs7382159</td><td>A</td><td>C</td><td>NA</td><td>PASS</td><td>0.91</td><td>0.91</td><td>0.974</td><td>IMP</td></tr>\n",
       "\t<tr><th scope=row>5</th><td>chr6</td><td>28631251</td><td>rs4711176</td><td>G</td><td>A</td><td>NA</td><td>PASS</td><td>0.92</td><td>0.92</td><td>0.974</td><td>IMP</td></tr>\n",
       "</tbody>\n",
       "</table>\n"
      ],
      "text/latex": [
       "A data.frame: 5 × 11\n",
       "\\begin{tabular}{r|lllllllllll}\n",
       "  & CHROM & POS & ID & REF & ALT & QUAL & FILTER & AR2 & DR2 & AF & Imputed\\\\\n",
       "  & <chr> & <chr> & <chr> & <chr> & <chr> & <chr> & <chr> & <dbl> & <dbl> & <dbl> & <chr>\\\\\n",
       "\\hline\n",
       "\t1 & chr6 & 28652420 & rs7382309 & A & G & NA & PASS & 0.80 & 0.81 & 0.989 & IMP\\\\\n",
       "\t2 & chr6 & 33640602 & rs4713647 & T & C & NA & PASS & 0.83 & 0.85 & 0.982 & IMP\\\\\n",
       "\t3 & chr6 & 33642573 & rs4711333 & A & G & NA & PASS & 0.84 & 0.86 & 0.978 & IMP\\\\\n",
       "\t4 & chr6 & 28609953 & rs7382159 & A & C & NA & PASS & 0.91 & 0.91 & 0.974 & IMP\\\\\n",
       "\t5 & chr6 & 28631251 & rs4711176 & G & A & NA & PASS & 0.92 & 0.92 & 0.974 & IMP\\\\\n",
       "\\end{tabular}\n"
      ],
      "text/markdown": [
       "\n",
       "A data.frame: 5 × 11\n",
       "\n",
       "| <!--/--> | CHROM &lt;chr&gt; | POS &lt;chr&gt; | ID &lt;chr&gt; | REF &lt;chr&gt; | ALT &lt;chr&gt; | QUAL &lt;chr&gt; | FILTER &lt;chr&gt; | AR2 &lt;dbl&gt; | DR2 &lt;dbl&gt; | AF &lt;dbl&gt; | Imputed &lt;chr&gt; |\n",
       "|---|---|---|---|---|---|---|---|---|---|---|---|\n",
       "| 1 | chr6 | 28652420 | rs7382309 | A | G | NA | PASS | 0.80 | 0.81 | 0.989 | IMP |\n",
       "| 2 | chr6 | 33640602 | rs4713647 | T | C | NA | PASS | 0.83 | 0.85 | 0.982 | IMP |\n",
       "| 3 | chr6 | 33642573 | rs4711333 | A | G | NA | PASS | 0.84 | 0.86 | 0.978 | IMP |\n",
       "| 4 | chr6 | 28609953 | rs7382159 | A | C | NA | PASS | 0.91 | 0.91 | 0.974 | IMP |\n",
       "| 5 | chr6 | 28631251 | rs4711176 | G | A | NA | PASS | 0.92 | 0.92 | 0.974 | IMP |\n",
       "\n"
      ],
      "text/plain": [
       "  CHROM POS      ID        REF ALT QUAL FILTER AR2  DR2  AF    Imputed\n",
       "1 chr6  28652420 rs7382309 A   G   NA   PASS   0.80 0.81 0.989 IMP    \n",
       "2 chr6  33640602 rs4713647 T   C   NA   PASS   0.83 0.85 0.982 IMP    \n",
       "3 chr6  33642573 rs4711333 A   G   NA   PASS   0.84 0.86 0.978 IMP    \n",
       "4 chr6  28609953 rs7382159 A   C   NA   PASS   0.91 0.91 0.974 IMP    \n",
       "5 chr6  28631251 rs4711176 G   A   NA   PASS   0.92 0.92 0.974 IMP    "
      ]
     },
     "metadata": {},
     "output_type": "display_data"
    },
    {
     "data": {
      "text/html": [
       "<style>\n",
       ".list-inline {list-style: none; margin:0; padding: 0}\n",
       ".list-inline>li {display: inline-block}\n",
       ".list-inline>li:not(:last-child)::after {content: \"\\00b7\"; padding: 0 .5ex}\n",
       "</style>\n",
       "<ol class=list-inline><li>13853</li><li>11</li></ol>\n"
      ],
      "text/latex": [
       "\\begin{enumerate*}\n",
       "\\item 13853\n",
       "\\item 11\n",
       "\\end{enumerate*}\n"
      ],
      "text/markdown": [
       "1. 13853\n",
       "2. 11\n",
       "\n",
       "\n"
      ],
      "text/plain": [
       "[1] 13853    11"
      ]
     },
     "metadata": {},
     "output_type": "display_data"
    },
    {
     "data": {
      "text/plain": [
       "\n",
       "  IMP TYPED \n",
       "13144   709 "
      ]
     },
     "metadata": {},
     "output_type": "display_data"
    }
   ],
   "source": [
    "keep_variants_idx = which(geno_df$DR2 > DR2_thresh)\n",
    "geno_gt = geno_gt[keep_variants_idx, ]\n",
    "geno_df = geno_df[keep_variants_idx, ]\n",
    "\n",
    "geno_df %>% arrange(-AF) %>% head(5)\n",
    "dim(geno_df)\n",
    "table(geno_df$Imputed)"
   ]
  },
  {
   "cell_type": "markdown",
   "id": "674a8f70-1ad1-4afd-8aee-b463cd7f86fe",
   "metadata": {},
   "source": [
    "Rename to sample IDs"
   ]
  },
  {
   "cell_type": "code",
   "execution_count": 26,
   "id": "bf19b714-2969-45a0-a20e-c1fc617af695",
   "metadata": {},
   "outputs": [],
   "source": [
    "colnames(geno_gt) = plyr::mapvalues(colnames(geno_gt), sample_meta$Geno_ID, sample_meta$Sample, warn_missing = TRUE)"
   ]
  },
  {
   "cell_type": "markdown",
   "id": "d8e08c53-8413-4833-923b-509470faa056",
   "metadata": {},
   "source": [
    "Extract dosage info (takes a few mins)"
   ]
  },
  {
   "cell_type": "code",
   "execution_count": 27,
   "id": "97eeb28c-53c7-4ae5-a1a1-7535421ead8b",
   "metadata": {},
   "outputs": [
    {
     "data": {
      "text/html": [
       "<style>\n",
       ".list-inline {list-style: none; margin:0; padding: 0}\n",
       ".list-inline>li {display: inline-block}\n",
       ".list-inline>li:not(:last-child)::after {content: \"\\00b7\"; padding: 0 .5ex}\n",
       "</style>\n",
       "<ol class=list-inline><li>13853</li><li>11</li></ol>\n"
      ],
      "text/latex": [
       "\\begin{enumerate*}\n",
       "\\item 13853\n",
       "\\item 11\n",
       "\\end{enumerate*}\n"
      ],
      "text/markdown": [
       "1. 13853\n",
       "2. 11\n",
       "\n",
       "\n"
      ],
      "text/plain": [
       "[1] 13853    11"
      ]
     },
     "metadata": {},
     "output_type": "display_data"
    },
    {
     "data": {
      "text/html": [
       "<style>\n",
       ".list-inline {list-style: none; margin:0; padding: 0}\n",
       ".list-inline>li {display: inline-block}\n",
       ".list-inline>li:not(:last-child)::after {content: \"\\00b7\"; padding: 0 .5ex}\n",
       "</style>\n",
       "<ol class=list-inline><li>13853</li><li>9</li></ol>\n"
      ],
      "text/latex": [
       "\\begin{enumerate*}\n",
       "\\item 13853\n",
       "\\item 9\n",
       "\\end{enumerate*}\n"
      ],
      "text/markdown": [
       "1. 13853\n",
       "2. 9\n",
       "\n",
       "\n"
      ],
      "text/plain": [
       "[1] 13853     9"
      ]
     },
     "metadata": {},
     "output_type": "display_data"
    }
   ],
   "source": [
    "get_dosage = function(st) { return(strsplit(st, \":\")[[1]][2]) }\n",
    "geno_dosage = apply(geno_gt, c(1,2), get_dosage)\n",
    "dim(geno_df)\n",
    "dim(geno_dosage)\n",
    "rownames(geno_dosage) = geno_df$ID\n",
    "geno_dosage = geno_dosage %>% t()"
   ]
  },
  {
   "cell_type": "code",
   "execution_count": 28,
   "id": "f061d8c7-3be9-4419-b7d6-37ef0aa7b94d",
   "metadata": {},
   "outputs": [
    {
     "data": {
      "text/html": [
       "<table class=\"dataframe\">\n",
       "<caption>A matrix: 2 × 5 of type chr</caption>\n",
       "<thead>\n",
       "\t<tr><th></th><th scope=col>rs149946</th><th scope=col>rs9380032</th><th scope=col>rs4141691</th><th scope=col>rs10484402</th><th scope=col>rs9368540</th></tr>\n",
       "</thead>\n",
       "<tbody>\n",
       "\t<tr><th scope=row>P9539</th><td>0</td><td>0</td><td>0.93</td><td>0</td><td>0</td></tr>\n",
       "\t<tr><th scope=row>P9106</th><td>1</td><td>0</td><td>0   </td><td>0</td><td>0</td></tr>\n",
       "</tbody>\n",
       "</table>\n"
      ],
      "text/latex": [
       "A matrix: 2 × 5 of type chr\n",
       "\\begin{tabular}{r|lllll}\n",
       "  & rs149946 & rs9380032 & rs4141691 & rs10484402 & rs9368540\\\\\n",
       "\\hline\n",
       "\tP9539 & 0 & 0 & 0.93 & 0 & 0\\\\\n",
       "\tP9106 & 1 & 0 & 0    & 0 & 0\\\\\n",
       "\\end{tabular}\n"
      ],
      "text/markdown": [
       "\n",
       "A matrix: 2 × 5 of type chr\n",
       "\n",
       "| <!--/--> | rs149946 | rs9380032 | rs4141691 | rs10484402 | rs9368540 |\n",
       "|---|---|---|---|---|---|\n",
       "| P9539 | 0 | 0 | 0.93 | 0 | 0 |\n",
       "| P9106 | 1 | 0 | 0    | 0 | 0 |\n",
       "\n"
      ],
      "text/plain": [
       "      rs149946 rs9380032 rs4141691 rs10484402 rs9368540\n",
       "P9539 0        0         0.93      0          0        \n",
       "P9106 1        0         0         0          0        "
      ]
     },
     "metadata": {},
     "output_type": "display_data"
    }
   ],
   "source": [
    "geno_dosage = geno_dosage[-1, ] #Remove FORMAT row\n",
    "geno_dosage[1:2, 1:5]"
   ]
  },
  {
   "cell_type": "markdown",
   "id": "3faf289a-2b03-47ba-a60e-425b5cfefca0",
   "metadata": {},
   "source": [
    "Get Smillie_2 samples and reorder to match sample_meta"
   ]
  },
  {
   "cell_type": "code",
   "execution_count": 29,
   "id": "4bf8387a-729b-4e00-a73c-c6fd717e54e1",
   "metadata": {},
   "outputs": [
    {
     "data": {
      "text/html": [
       "<table class=\"dataframe\">\n",
       "<caption>A matrix: 4 × 4 of type chr</caption>\n",
       "<thead>\n",
       "\t<tr><th></th><th scope=col>rs149946</th><th scope=col>rs9380032</th><th scope=col>rs4141691</th><th scope=col>rs10484402</th></tr>\n",
       "</thead>\n",
       "<tbody>\n",
       "\t<tr><th scope=row>N14</th><td>0</td><td>0</td><td>0   </td><td>0</td></tr>\n",
       "\t<tr><th scope=row>N23</th><td>1</td><td>0</td><td>0   </td><td>0</td></tr>\n",
       "\t<tr><th scope=row>N7</th><td>0</td><td>0</td><td>1.81</td><td>0</td></tr>\n",
       "\t<tr><th scope=row>P8661</th><td>2</td><td>0</td><td>0   </td><td>0</td></tr>\n",
       "</tbody>\n",
       "</table>\n"
      ],
      "text/latex": [
       "A matrix: 4 × 4 of type chr\n",
       "\\begin{tabular}{r|llll}\n",
       "  & rs149946 & rs9380032 & rs4141691 & rs10484402\\\\\n",
       "\\hline\n",
       "\tN14 & 0 & 0 & 0    & 0\\\\\n",
       "\tN23 & 1 & 0 & 0    & 0\\\\\n",
       "\tN7 & 0 & 0 & 1.81 & 0\\\\\n",
       "\tP8661 & 2 & 0 & 0    & 0\\\\\n",
       "\\end{tabular}\n"
      ],
      "text/markdown": [
       "\n",
       "A matrix: 4 × 4 of type chr\n",
       "\n",
       "| <!--/--> | rs149946 | rs9380032 | rs4141691 | rs10484402 |\n",
       "|---|---|---|---|---|\n",
       "| N14 | 0 | 0 | 0    | 0 |\n",
       "| N23 | 1 | 0 | 0    | 0 |\n",
       "| N7 | 0 | 0 | 1.81 | 0 |\n",
       "| P8661 | 2 | 0 | 0    | 0 |\n",
       "\n"
      ],
      "text/plain": [
       "      rs149946 rs9380032 rs4141691 rs10484402\n",
       "N14   0        0         0         0         \n",
       "N23   1        0         0         0         \n",
       "N7    0        0         1.81      0         \n",
       "P8661 2        0         0         0         "
      ]
     },
     "metadata": {},
     "output_type": "display_data"
    }
   ],
   "source": [
    "# Reorder to match sample_meta\n",
    "geno_dosage_Smillie_2 = geno_dosage[sample_meta$Sample, ]\n",
    "geno_dosage_Smillie_2[1:4, 1:4] # sample X dosage\n",
    "geno_df_Smillie_2 = geno_df"
   ]
  },
  {
   "cell_type": "markdown",
   "id": "0a47b0db-9d7d-4f86-b965-fb27394f3096",
   "metadata": {},
   "source": [
    "## Combine Smillie Samples"
   ]
  },
  {
   "cell_type": "code",
   "execution_count": 30,
   "id": "ad9755fd-2d13-4637-be18-26254e3f378b",
   "metadata": {},
   "outputs": [
    {
     "data": {
      "text/html": [
       "<style>\n",
       ".list-inline {list-style: none; margin:0; padding: 0}\n",
       ".list-inline>li {display: inline-block}\n",
       ".list-inline>li:not(:last-child)::after {content: \"\\00b7\"; padding: 0 .5ex}\n",
       "</style>\n",
       "<ol class=list-inline><li>14</li><li>13993</li></ol>\n"
      ],
      "text/latex": [
       "\\begin{enumerate*}\n",
       "\\item 14\n",
       "\\item 13993\n",
       "\\end{enumerate*}\n"
      ],
      "text/markdown": [
       "1. 14\n",
       "2. 13993\n",
       "\n",
       "\n"
      ],
      "text/plain": [
       "[1]    14 13993"
      ]
     },
     "metadata": {},
     "output_type": "display_data"
    },
    {
     "data": {
      "text/html": [
       "<style>\n",
       ".list-inline {list-style: none; margin:0; padding: 0}\n",
       ".list-inline>li {display: inline-block}\n",
       ".list-inline>li:not(:last-child)::after {content: \"\\00b7\"; padding: 0 .5ex}\n",
       "</style>\n",
       "<ol class=list-inline><li>8</li><li>13853</li></ol>\n"
      ],
      "text/latex": [
       "\\begin{enumerate*}\n",
       "\\item 8\n",
       "\\item 13853\n",
       "\\end{enumerate*}\n"
      ],
      "text/markdown": [
       "1. 8\n",
       "2. 13853\n",
       "\n",
       "\n"
      ],
      "text/plain": [
       "[1]     8 13853"
      ]
     },
     "metadata": {},
     "output_type": "display_data"
    },
    {
     "data": {
      "text/html": [
       "13734"
      ],
      "text/latex": [
       "13734"
      ],
      "text/markdown": [
       "13734"
      ],
      "text/plain": [
       "[1] 13734"
      ]
     },
     "metadata": {},
     "output_type": "display_data"
    }
   ],
   "source": [
    "dim(geno_dosage_Smillie_1)\n",
    "dim(geno_dosage_Smillie_2)\n",
    "\n",
    "intersecting_variants = intersect(colnames(geno_dosage_Smillie_1), colnames(geno_dosage_Smillie_2))\n",
    "length(intersecting_variants)"
   ]
  },
  {
   "cell_type": "markdown",
   "id": "0f96e826-abab-4dbc-a993-27095172bc20",
   "metadata": {},
   "source": [
    "Match the ordering of Smillie sample metadata"
   ]
  },
  {
   "cell_type": "code",
   "execution_count": 31,
   "id": "65083795-129b-41a8-9d46-6bfac41790f8",
   "metadata": {},
   "outputs": [],
   "source": [
    "geno_dosage_Smillie_1 = geno_dosage_Smillie_1[, intersecting_variants]\n",
    "geno_dosage_Smillie_2 = geno_dosage_Smillie_2[, intersecting_variants]\n",
    "\n",
    "geno_dosage_Smillie = rbind(geno_dosage_Smillie_1, geno_dosage_Smillie_2)\n",
    "geno_dosage_Smillie = geno_dosage_Smillie[Smillie_sample_meta$Sample, ]"
   ]
  },
  {
   "cell_type": "markdown",
   "id": "e1c362aa-641c-4474-a838-61021d0420bd",
   "metadata": {},
   "source": [
    "Calculate the new minor allele frequency on the subset of samples"
   ]
  },
  {
   "cell_type": "code",
   "execution_count": 32,
   "id": "6c319f29-c3bd-4884-9fb6-5a25664a8d01",
   "metadata": {},
   "outputs": [
    {
     "data": {
      "text/html": [
       "<style>\n",
       ".list-inline {list-style: none; margin:0; padding: 0}\n",
       ".list-inline>li {display: inline-block}\n",
       ".list-inline>li:not(:last-child)::after {content: \"\\00b7\"; padding: 0 .5ex}\n",
       "</style>\n",
       "<ol class=list-inline><li>22</li><li>13734</li></ol>\n"
      ],
      "text/latex": [
       "\\begin{enumerate*}\n",
       "\\item 22\n",
       "\\item 13734\n",
       "\\end{enumerate*}\n"
      ],
      "text/markdown": [
       "1. 22\n",
       "2. 13734\n",
       "\n",
       "\n"
      ],
      "text/plain": [
       "[1]    22 13734"
      ]
     },
     "metadata": {},
     "output_type": "display_data"
    },
    {
     "data": {
      "text/html": [
       "<style>\n",
       ".list-inline {list-style: none; margin:0; padding: 0}\n",
       ".list-inline>li {display: inline-block}\n",
       ".list-inline>li:not(:last-child)::after {content: \"\\00b7\"; padding: 0 .5ex}\n",
       "</style>\n",
       "<ol class=list-inline><li>22</li><li>12531</li></ol>\n"
      ],
      "text/latex": [
       "\\begin{enumerate*}\n",
       "\\item 22\n",
       "\\item 12531\n",
       "\\end{enumerate*}\n"
      ],
      "text/markdown": [
       "1. 22\n",
       "2. 12531\n",
       "\n",
       "\n"
      ],
      "text/plain": [
       "[1]    22 12531"
      ]
     },
     "metadata": {},
     "output_type": "display_data"
    }
   ],
   "source": [
    "dim(geno_dosage_Smillie)\n",
    "class(geno_dosage_Smillie) = 'numeric'\n",
    "AF = Matrix::colSums(geno_dosage_Smillie) / (2*nrow(geno_dosage_Smillie))\n",
    "MAF = ifelse(AF < 0.5, AF, 1-AF)\n",
    "to_keep = which(MAF > 0.01) %>% names()\n",
    "geno_dosage_Smillie = geno_dosage_Smillie[, to_keep]\n",
    "dim(geno_dosage_Smillie)"
   ]
  },
  {
   "cell_type": "code",
   "execution_count": 33,
   "id": "965a9d00-a706-4394-ad94-01afbab3f036",
   "metadata": {},
   "outputs": [
    {
     "data": {
      "text/plain": [
       "\n",
       "  IMP TYPED \n",
       " 6263  6268 "
      ]
     },
     "metadata": {},
     "output_type": "display_data"
    }
   ],
   "source": [
    "geno_df_Smillie_1 = geno_df_Smillie_1 %>% filter(ID %in% to_keep)\n",
    "geno_df_Smillie_2 = geno_df_Smillie_2 %>% filter(ID %in% to_keep)\n",
    "table(geno_df_Smillie_1$Imputed)"
   ]
  },
  {
   "cell_type": "markdown",
   "id": "2f4039d2-55f6-4296-a1fe-67da4ecdb99c",
   "metadata": {},
   "source": [
    "Save a new column (MAF_Smillie) with MAF across all Smillie eQTL cohort samples"
   ]
  },
  {
   "cell_type": "code",
   "execution_count": 34,
   "id": "18789918-aa29-4f37-aaaa-6905aa464212",
   "metadata": {},
   "outputs": [
    {
     "data": {
      "text/html": [
       "<table class=\"dataframe\">\n",
       "<caption>A data.frame: 6 × 12</caption>\n",
       "<thead>\n",
       "\t<tr><th></th><th scope=col>CHROM</th><th scope=col>POS</th><th scope=col>ID</th><th scope=col>REF</th><th scope=col>ALT</th><th scope=col>QUAL</th><th scope=col>FILTER</th><th scope=col>AR2</th><th scope=col>DR2</th><th scope=col>AF</th><th scope=col>Imputed</th><th scope=col>newMAF</th></tr>\n",
       "\t<tr><th></th><th scope=col>&lt;chr&gt;</th><th scope=col>&lt;chr&gt;</th><th scope=col>&lt;chr&gt;</th><th scope=col>&lt;chr&gt;</th><th scope=col>&lt;chr&gt;</th><th scope=col>&lt;chr&gt;</th><th scope=col>&lt;chr&gt;</th><th scope=col>&lt;dbl&gt;</th><th scope=col>&lt;dbl&gt;</th><th scope=col>&lt;dbl&gt;</th><th scope=col>&lt;chr&gt;</th><th scope=col>&lt;dbl&gt;</th></tr>\n",
       "</thead>\n",
       "<tbody>\n",
       "\t<tr><th scope=row>1</th><td>chr6</td><td>28002253</td><td>rs149946  </td><td>G</td><td>T</td><td>NA</td><td>PASS</td><td>0.96</td><td>0.96</td><td>0.220</td><td>IMP</td><td>0.22477273</td></tr>\n",
       "\t<tr><th scope=row>2</th><td>chr6</td><td>28008422</td><td>rs9380032 </td><td>G</td><td>T</td><td>NA</td><td>PASS</td><td>0.93</td><td>0.93</td><td>0.039</td><td>IMP</td><td>0.02272727</td></tr>\n",
       "\t<tr><th scope=row>3</th><td>chr6</td><td>28011410</td><td>rs4141691 </td><td>A</td><td>G</td><td>NA</td><td>PASS</td><td>0.89</td><td>0.90</td><td>0.110</td><td>IMP</td><td>0.14386364</td></tr>\n",
       "\t<tr><th scope=row>4</th><td>chr6</td><td>28011847</td><td>rs10484402</td><td>A</td><td>G</td><td>NA</td><td>PASS</td><td>0.93</td><td>0.93</td><td>0.043</td><td>IMP</td><td>0.02340909</td></tr>\n",
       "\t<tr><th scope=row>5</th><td>chr6</td><td>28013895</td><td>rs9368540 </td><td>G</td><td>A</td><td>NA</td><td>PASS</td><td>0.95</td><td>0.95</td><td>0.052</td><td>IMP</td><td>0.02272727</td></tr>\n",
       "\t<tr><th scope=row>6</th><td>chr6</td><td>28017129</td><td>rs17765055</td><td>T</td><td>C</td><td>NA</td><td>PASS</td><td>0.95</td><td>0.95</td><td>0.057</td><td>IMP</td><td>0.02272727</td></tr>\n",
       "</tbody>\n",
       "</table>\n"
      ],
      "text/latex": [
       "A data.frame: 6 × 12\n",
       "\\begin{tabular}{r|llllllllllll}\n",
       "  & CHROM & POS & ID & REF & ALT & QUAL & FILTER & AR2 & DR2 & AF & Imputed & newMAF\\\\\n",
       "  & <chr> & <chr> & <chr> & <chr> & <chr> & <chr> & <chr> & <dbl> & <dbl> & <dbl> & <chr> & <dbl>\\\\\n",
       "\\hline\n",
       "\t1 & chr6 & 28002253 & rs149946   & G & T & NA & PASS & 0.96 & 0.96 & 0.220 & IMP & 0.22477273\\\\\n",
       "\t2 & chr6 & 28008422 & rs9380032  & G & T & NA & PASS & 0.93 & 0.93 & 0.039 & IMP & 0.02272727\\\\\n",
       "\t3 & chr6 & 28011410 & rs4141691  & A & G & NA & PASS & 0.89 & 0.90 & 0.110 & IMP & 0.14386364\\\\\n",
       "\t4 & chr6 & 28011847 & rs10484402 & A & G & NA & PASS & 0.93 & 0.93 & 0.043 & IMP & 0.02340909\\\\\n",
       "\t5 & chr6 & 28013895 & rs9368540  & G & A & NA & PASS & 0.95 & 0.95 & 0.052 & IMP & 0.02272727\\\\\n",
       "\t6 & chr6 & 28017129 & rs17765055 & T & C & NA & PASS & 0.95 & 0.95 & 0.057 & IMP & 0.02272727\\\\\n",
       "\\end{tabular}\n"
      ],
      "text/markdown": [
       "\n",
       "A data.frame: 6 × 12\n",
       "\n",
       "| <!--/--> | CHROM &lt;chr&gt; | POS &lt;chr&gt; | ID &lt;chr&gt; | REF &lt;chr&gt; | ALT &lt;chr&gt; | QUAL &lt;chr&gt; | FILTER &lt;chr&gt; | AR2 &lt;dbl&gt; | DR2 &lt;dbl&gt; | AF &lt;dbl&gt; | Imputed &lt;chr&gt; | newMAF &lt;dbl&gt; |\n",
       "|---|---|---|---|---|---|---|---|---|---|---|---|---|\n",
       "| 1 | chr6 | 28002253 | rs149946   | G | T | NA | PASS | 0.96 | 0.96 | 0.220 | IMP | 0.22477273 |\n",
       "| 2 | chr6 | 28008422 | rs9380032  | G | T | NA | PASS | 0.93 | 0.93 | 0.039 | IMP | 0.02272727 |\n",
       "| 3 | chr6 | 28011410 | rs4141691  | A | G | NA | PASS | 0.89 | 0.90 | 0.110 | IMP | 0.14386364 |\n",
       "| 4 | chr6 | 28011847 | rs10484402 | A | G | NA | PASS | 0.93 | 0.93 | 0.043 | IMP | 0.02340909 |\n",
       "| 5 | chr6 | 28013895 | rs9368540  | G | A | NA | PASS | 0.95 | 0.95 | 0.052 | IMP | 0.02272727 |\n",
       "| 6 | chr6 | 28017129 | rs17765055 | T | C | NA | PASS | 0.95 | 0.95 | 0.057 | IMP | 0.02272727 |\n",
       "\n"
      ],
      "text/plain": [
       "  CHROM POS      ID         REF ALT QUAL FILTER AR2  DR2  AF    Imputed\n",
       "1 chr6  28002253 rs149946   G   T   NA   PASS   0.96 0.96 0.220 IMP    \n",
       "2 chr6  28008422 rs9380032  G   T   NA   PASS   0.93 0.93 0.039 IMP    \n",
       "3 chr6  28011410 rs4141691  A   G   NA   PASS   0.89 0.90 0.110 IMP    \n",
       "4 chr6  28011847 rs10484402 A   G   NA   PASS   0.93 0.93 0.043 IMP    \n",
       "5 chr6  28013895 rs9368540  G   A   NA   PASS   0.95 0.95 0.052 IMP    \n",
       "6 chr6  28017129 rs17765055 T   C   NA   PASS   0.95 0.95 0.057 IMP    \n",
       "  newMAF    \n",
       "1 0.22477273\n",
       "2 0.02272727\n",
       "3 0.14386364\n",
       "4 0.02340909\n",
       "5 0.02272727\n",
       "6 0.02272727"
      ]
     },
     "metadata": {},
     "output_type": "display_data"
    }
   ],
   "source": [
    "geno_df_Smillie = geno_df_Smillie_1\n",
    "AF = Matrix::colSums(geno_dosage_Smillie) / (2*nrow(geno_dosage_Smillie))\n",
    "MAF = ifelse(AF < 0.5, AF, 1-AF)\n",
    "geno_df_Smillie$newMAF = MAF\n",
    "head(geno_df_Smillie)"
   ]
  },
  {
   "cell_type": "markdown",
   "id": "bc2920cb-6c77-4906-9c9c-1cfd128ff518",
   "metadata": {},
   "source": [
    "# Randolph2021"
   ]
  },
  {
   "cell_type": "markdown",
   "id": "60551db7-4c72-4579-a707-26e4da5866db",
   "metadata": {},
   "source": [
    "Subset to cohort samples"
   ]
  },
  {
   "cell_type": "code",
   "execution_count": 35,
   "id": "4fad2367-bf36-4475-9be0-ad1eb7b7d01a",
   "metadata": {},
   "outputs": [
    {
     "data": {
      "text/plain": [
       "***** Object of Class vcfR *****\n",
       "90 samples\n",
       "1 CHROMs\n",
       "22,733 variants\n",
       "Object size: 20.4 Mb\n",
       "0 percent missing data\n",
       "*****        *****         *****"
      ]
     },
     "metadata": {},
     "output_type": "display_data"
    },
    {
     "data": {
      "text/html": [
       "<style>\n",
       ".list-inline {list-style: none; margin:0; padding: 0}\n",
       ".list-inline>li {display: inline-block}\n",
       ".list-inline>li:not(:last-child)::after {content: \"\\00b7\"; padding: 0 .5ex}\n",
       "</style>\n",
       "<ol class=list-inline><li>'##fileformat=VCFv4.2'</li><li>'##INFO=&lt;ID=AF,Number=A,Type=Float,Description=\"Estimated ALT Allele Frequencies\"&gt;'</li><li>'##INFO=&lt;ID=AR2,Number=1,Type=Float,Description=\"Allelic R-Squared: estimated squared correlation between most probable REF dose and true REF dose\"&gt;'</li><li>'##INFO=&lt;ID=DR2,Number=1,Type=Float,Description=\"Dosage R-Squared: estimated squared correlation between estimated REF dose [P(RA) + 2*P(RR)] and true REF dose\"&gt;'</li></ol>\n"
      ],
      "text/latex": [
       "\\begin{enumerate*}\n",
       "\\item '\\#\\#fileformat=VCFv4.2'\n",
       "\\item '\\#\\#INFO=<ID=AF,Number=A,Type=Float,Description=\"Estimated ALT Allele Frequencies\">'\n",
       "\\item '\\#\\#INFO=<ID=AR2,Number=1,Type=Float,Description=\"Allelic R-Squared: estimated squared correlation between most probable REF dose and true REF dose\">'\n",
       "\\item '\\#\\#INFO=<ID=DR2,Number=1,Type=Float,Description=\"Dosage R-Squared: estimated squared correlation between estimated REF dose {[}P(RA) + 2*P(RR){]} and true REF dose\">'\n",
       "\\end{enumerate*}\n"
      ],
      "text/markdown": [
       "1. '##fileformat=VCFv4.2'\n",
       "2. '##INFO=&lt;ID=AF,Number=A,Type=Float,Description=\"Estimated ALT Allele Frequencies\"&gt;'\n",
       "3. '##INFO=&lt;ID=AR2,Number=1,Type=Float,Description=\"Allelic R-Squared: estimated squared correlation between most probable REF dose and true REF dose\"&gt;'\n",
       "4. '##INFO=&lt;ID=DR2,Number=1,Type=Float,Description=\"Dosage R-Squared: estimated squared correlation between estimated REF dose [P(RA) + 2*P(RR)] and true REF dose\"&gt;'\n",
       "\n",
       "\n"
      ],
      "text/plain": [
       "[1] \"##fileformat=VCFv4.2\"                                                                                                                                              \n",
       "[2] \"##INFO=<ID=AF,Number=A,Type=Float,Description=\\\"Estimated ALT Allele Frequencies\\\">\"                                                                               \n",
       "[3] \"##INFO=<ID=AR2,Number=1,Type=Float,Description=\\\"Allelic R-Squared: estimated squared correlation between most probable REF dose and true REF dose\\\">\"             \n",
       "[4] \"##INFO=<ID=DR2,Number=1,Type=Float,Description=\\\"Dosage R-Squared: estimated squared correlation between estimated REF dose [P(RA) + 2*P(RR)] and true REF dose\\\">\""
      ]
     },
     "metadata": {},
     "output_type": "display_data"
    },
    {
     "data": {
      "text/html": [
       "<table class=\"dataframe\">\n",
       "<caption>A matrix: 4 × 74 of type chr</caption>\n",
       "<thead>\n",
       "\t<tr><th scope=col>FORMAT</th><th scope=col>HMN171216</th><th scope=col>HMN171217</th><th scope=col>HMN171218</th><th scope=col>HMN171219</th><th scope=col>HMN171220</th><th scope=col>HMN171221</th><th scope=col>HMN171222</th><th scope=col>HMN171223</th><th scope=col>HMN171224</th><th scope=col>⋯</th><th scope=col>HMN83568</th><th scope=col>HMN83569</th><th scope=col>HMN83570</th><th scope=col>HMN83571</th><th scope=col>HMN83572</th><th scope=col>HMN83574</th><th scope=col>HMN83575</th><th scope=col>HMN83576</th><th scope=col>HMN83577</th><th scope=col>HMN83580</th></tr>\n",
       "</thead>\n",
       "<tbody>\n",
       "\t<tr><td>GT:DS:GP</td><td>1|0:1:0,1,0</td><td>0|0:0:1,0,0</td><td>0|0:0:1,0,0         </td><td>0|1:1:0,1,0</td><td>0|0:0:1,0,0         </td><td>0|1:1:0,1,0</td><td>0|0:0:1,0,0         </td><td>0|1:1:0,1,0</td><td>1|1:2:0,0,1</td><td>⋯</td><td>1|0:1:0,1,0</td><td>0|0:0:1,0,0         </td><td>0|1:1:0,1,0</td><td>1|1:2:0,0,1</td><td>1|0:1:0,1,0</td><td>1|0:1:0,1,0         </td><td>0|1:1:0,1,0</td><td>0|0:0:1,0,0         </td><td>0|0:0:1,0,0</td><td>0|0:0:1,0,0         </td></tr>\n",
       "\t<tr><td>GT:DS:GP</td><td>0|0:0:1,0,0</td><td>0|0:0:1,0,0</td><td>0|0:0:1,0,0         </td><td>0|0:0:1,0,0</td><td>0|0:0:1,0,0         </td><td>0|0:0:1,0,0</td><td>0|0:0:1,0,0         </td><td>0|0:0:1,0,0</td><td>1|0:1:0,1,0</td><td>⋯</td><td>0|0:0:1,0,0</td><td>0|0:0:1,0,0         </td><td>0|0:0:1,0,0</td><td>0|0:0:1,0,0</td><td>0|0:0:1,0,0</td><td>0|0:0:1,0,0         </td><td>0|0:0:1,0,0</td><td>0|0:0:1,0,0         </td><td>0|0:0:1,0,0</td><td>0|0:0:1,0,0         </td></tr>\n",
       "\t<tr><td>GT:DS:GP</td><td>0|0:0:1,0,0</td><td>0|0:0:1,0,0</td><td>0|1:0.98:0.02,0.98,0</td><td>0|0:0:1,0,0</td><td>1|0:0.71:0.29,0.71,0</td><td>0|0:0:1,0,0</td><td>0|1:0.97:0.03,0.97,0</td><td>0|0:0:1,0,0</td><td>0|0:0:1,0,0</td><td>⋯</td><td>0|0:0:1,0,0</td><td>1|0:0.97:0.03,0.97,0</td><td>0|0:0:1,0,0</td><td>0|0:0:1,0,0</td><td>0|0:0:1,0,0</td><td>0|1:0.98:0.03,0.97,0</td><td>0|0:0:1,0,0</td><td>0|0:0:1,0,0         </td><td>0|0:0:1,0,0</td><td>0|1:0.97:0.03,0.96,0</td></tr>\n",
       "\t<tr><td>GT:DS:GP</td><td>0|0:0:1,0,0</td><td>0|0:0:1,0,0</td><td>0|0:0:1,0,0         </td><td>0|0:0:1,0,0</td><td>0|0:0:1,0,0         </td><td>0|0:0:1,0,0</td><td>0|0:0:1,0,0         </td><td>0|0:0:1,0,0</td><td>0|0:0:1,0,0</td><td>⋯</td><td>0|0:0:1,0,0</td><td>0|0:0:1,0,0         </td><td>0|0:0:1,0,0</td><td>0|0:0:1,0,0</td><td>0|0:0:1,0,0</td><td>0|0:0:1,0,0         </td><td>0|0:0:1,0,0</td><td>0|1:0.73:0.27,0.72,0</td><td>0|0:0:1,0,0</td><td>0|0:0:1,0,0         </td></tr>\n",
       "</tbody>\n",
       "</table>\n"
      ],
      "text/latex": [
       "A matrix: 4 × 74 of type chr\n",
       "\\begin{tabular}{lllllllllllllllllllll}\n",
       " FORMAT & HMN171216 & HMN171217 & HMN171218 & HMN171219 & HMN171220 & HMN171221 & HMN171222 & HMN171223 & HMN171224 & ⋯ & HMN83568 & HMN83569 & HMN83570 & HMN83571 & HMN83572 & HMN83574 & HMN83575 & HMN83576 & HMN83577 & HMN83580\\\\\n",
       "\\hline\n",
       "\t GT:DS:GP & 1\\textbar{}0:1:0,1,0 & 0\\textbar{}0:0:1,0,0 & 0\\textbar{}0:0:1,0,0          & 0\\textbar{}1:1:0,1,0 & 0\\textbar{}0:0:1,0,0          & 0\\textbar{}1:1:0,1,0 & 0\\textbar{}0:0:1,0,0          & 0\\textbar{}1:1:0,1,0 & 1\\textbar{}1:2:0,0,1 & ⋯ & 1\\textbar{}0:1:0,1,0 & 0\\textbar{}0:0:1,0,0          & 0\\textbar{}1:1:0,1,0 & 1\\textbar{}1:2:0,0,1 & 1\\textbar{}0:1:0,1,0 & 1\\textbar{}0:1:0,1,0          & 0\\textbar{}1:1:0,1,0 & 0\\textbar{}0:0:1,0,0          & 0\\textbar{}0:0:1,0,0 & 0\\textbar{}0:0:1,0,0         \\\\\n",
       "\t GT:DS:GP & 0\\textbar{}0:0:1,0,0 & 0\\textbar{}0:0:1,0,0 & 0\\textbar{}0:0:1,0,0          & 0\\textbar{}0:0:1,0,0 & 0\\textbar{}0:0:1,0,0          & 0\\textbar{}0:0:1,0,0 & 0\\textbar{}0:0:1,0,0          & 0\\textbar{}0:0:1,0,0 & 1\\textbar{}0:1:0,1,0 & ⋯ & 0\\textbar{}0:0:1,0,0 & 0\\textbar{}0:0:1,0,0          & 0\\textbar{}0:0:1,0,0 & 0\\textbar{}0:0:1,0,0 & 0\\textbar{}0:0:1,0,0 & 0\\textbar{}0:0:1,0,0          & 0\\textbar{}0:0:1,0,0 & 0\\textbar{}0:0:1,0,0          & 0\\textbar{}0:0:1,0,0 & 0\\textbar{}0:0:1,0,0         \\\\\n",
       "\t GT:DS:GP & 0\\textbar{}0:0:1,0,0 & 0\\textbar{}0:0:1,0,0 & 0\\textbar{}1:0.98:0.02,0.98,0 & 0\\textbar{}0:0:1,0,0 & 1\\textbar{}0:0.71:0.29,0.71,0 & 0\\textbar{}0:0:1,0,0 & 0\\textbar{}1:0.97:0.03,0.97,0 & 0\\textbar{}0:0:1,0,0 & 0\\textbar{}0:0:1,0,0 & ⋯ & 0\\textbar{}0:0:1,0,0 & 1\\textbar{}0:0.97:0.03,0.97,0 & 0\\textbar{}0:0:1,0,0 & 0\\textbar{}0:0:1,0,0 & 0\\textbar{}0:0:1,0,0 & 0\\textbar{}1:0.98:0.03,0.97,0 & 0\\textbar{}0:0:1,0,0 & 0\\textbar{}0:0:1,0,0          & 0\\textbar{}0:0:1,0,0 & 0\\textbar{}1:0.97:0.03,0.96,0\\\\\n",
       "\t GT:DS:GP & 0\\textbar{}0:0:1,0,0 & 0\\textbar{}0:0:1,0,0 & 0\\textbar{}0:0:1,0,0          & 0\\textbar{}0:0:1,0,0 & 0\\textbar{}0:0:1,0,0          & 0\\textbar{}0:0:1,0,0 & 0\\textbar{}0:0:1,0,0          & 0\\textbar{}0:0:1,0,0 & 0\\textbar{}0:0:1,0,0 & ⋯ & 0\\textbar{}0:0:1,0,0 & 0\\textbar{}0:0:1,0,0          & 0\\textbar{}0:0:1,0,0 & 0\\textbar{}0:0:1,0,0 & 0\\textbar{}0:0:1,0,0 & 0\\textbar{}0:0:1,0,0          & 0\\textbar{}0:0:1,0,0 & 0\\textbar{}1:0.73:0.27,0.72,0 & 0\\textbar{}0:0:1,0,0 & 0\\textbar{}0:0:1,0,0         \\\\\n",
       "\\end{tabular}\n"
      ],
      "text/markdown": [
       "\n",
       "A matrix: 4 × 74 of type chr\n",
       "\n",
       "| FORMAT | HMN171216 | HMN171217 | HMN171218 | HMN171219 | HMN171220 | HMN171221 | HMN171222 | HMN171223 | HMN171224 | ⋯ | HMN83568 | HMN83569 | HMN83570 | HMN83571 | HMN83572 | HMN83574 | HMN83575 | HMN83576 | HMN83577 | HMN83580 |\n",
       "|---|---|---|---|---|---|---|---|---|---|---|---|---|---|---|---|---|---|---|---|---|\n",
       "| GT:DS:GP | 1|0:1:0,1,0 | 0|0:0:1,0,0 | 0|0:0:1,0,0          | 0|1:1:0,1,0 | 0|0:0:1,0,0          | 0|1:1:0,1,0 | 0|0:0:1,0,0          | 0|1:1:0,1,0 | 1|1:2:0,0,1 | ⋯ | 1|0:1:0,1,0 | 0|0:0:1,0,0          | 0|1:1:0,1,0 | 1|1:2:0,0,1 | 1|0:1:0,1,0 | 1|0:1:0,1,0          | 0|1:1:0,1,0 | 0|0:0:1,0,0          | 0|0:0:1,0,0 | 0|0:0:1,0,0          |\n",
       "| GT:DS:GP | 0|0:0:1,0,0 | 0|0:0:1,0,0 | 0|0:0:1,0,0          | 0|0:0:1,0,0 | 0|0:0:1,0,0          | 0|0:0:1,0,0 | 0|0:0:1,0,0          | 0|0:0:1,0,0 | 1|0:1:0,1,0 | ⋯ | 0|0:0:1,0,0 | 0|0:0:1,0,0          | 0|0:0:1,0,0 | 0|0:0:1,0,0 | 0|0:0:1,0,0 | 0|0:0:1,0,0          | 0|0:0:1,0,0 | 0|0:0:1,0,0          | 0|0:0:1,0,0 | 0|0:0:1,0,0          |\n",
       "| GT:DS:GP | 0|0:0:1,0,0 | 0|0:0:1,0,0 | 0|1:0.98:0.02,0.98,0 | 0|0:0:1,0,0 | 1|0:0.71:0.29,0.71,0 | 0|0:0:1,0,0 | 0|1:0.97:0.03,0.97,0 | 0|0:0:1,0,0 | 0|0:0:1,0,0 | ⋯ | 0|0:0:1,0,0 | 1|0:0.97:0.03,0.97,0 | 0|0:0:1,0,0 | 0|0:0:1,0,0 | 0|0:0:1,0,0 | 0|1:0.98:0.03,0.97,0 | 0|0:0:1,0,0 | 0|0:0:1,0,0          | 0|0:0:1,0,0 | 0|1:0.97:0.03,0.96,0 |\n",
       "| GT:DS:GP | 0|0:0:1,0,0 | 0|0:0:1,0,0 | 0|0:0:1,0,0          | 0|0:0:1,0,0 | 0|0:0:1,0,0          | 0|0:0:1,0,0 | 0|0:0:1,0,0          | 0|0:0:1,0,0 | 0|0:0:1,0,0 | ⋯ | 0|0:0:1,0,0 | 0|0:0:1,0,0          | 0|0:0:1,0,0 | 0|0:0:1,0,0 | 0|0:0:1,0,0 | 0|0:0:1,0,0          | 0|0:0:1,0,0 | 0|1:0.73:0.27,0.72,0 | 0|0:0:1,0,0 | 0|0:0:1,0,0          |\n",
       "\n"
      ],
      "text/plain": [
       "     FORMAT   HMN171216   HMN171217   HMN171218            HMN171219  \n",
       "[1,] GT:DS:GP 1|0:1:0,1,0 0|0:0:1,0,0 0|0:0:1,0,0          0|1:1:0,1,0\n",
       "[2,] GT:DS:GP 0|0:0:1,0,0 0|0:0:1,0,0 0|0:0:1,0,0          0|0:0:1,0,0\n",
       "[3,] GT:DS:GP 0|0:0:1,0,0 0|0:0:1,0,0 0|1:0.98:0.02,0.98,0 0|0:0:1,0,0\n",
       "[4,] GT:DS:GP 0|0:0:1,0,0 0|0:0:1,0,0 0|0:0:1,0,0          0|0:0:1,0,0\n",
       "     HMN171220            HMN171221   HMN171222            HMN171223  \n",
       "[1,] 0|0:0:1,0,0          0|1:1:0,1,0 0|0:0:1,0,0          0|1:1:0,1,0\n",
       "[2,] 0|0:0:1,0,0          0|0:0:1,0,0 0|0:0:1,0,0          0|0:0:1,0,0\n",
       "[3,] 1|0:0.71:0.29,0.71,0 0|0:0:1,0,0 0|1:0.97:0.03,0.97,0 0|0:0:1,0,0\n",
       "[4,] 0|0:0:1,0,0          0|0:0:1,0,0 0|0:0:1,0,0          0|0:0:1,0,0\n",
       "     HMN171224   ⋯ HMN83568    HMN83569             HMN83570    HMN83571   \n",
       "[1,] 1|1:2:0,0,1 ⋯ 1|0:1:0,1,0 0|0:0:1,0,0          0|1:1:0,1,0 1|1:2:0,0,1\n",
       "[2,] 1|0:1:0,1,0 ⋯ 0|0:0:1,0,0 0|0:0:1,0,0          0|0:0:1,0,0 0|0:0:1,0,0\n",
       "[3,] 0|0:0:1,0,0 ⋯ 0|0:0:1,0,0 1|0:0.97:0.03,0.97,0 0|0:0:1,0,0 0|0:0:1,0,0\n",
       "[4,] 0|0:0:1,0,0 ⋯ 0|0:0:1,0,0 0|0:0:1,0,0          0|0:0:1,0,0 0|0:0:1,0,0\n",
       "     HMN83572    HMN83574             HMN83575    HMN83576            \n",
       "[1,] 1|0:1:0,1,0 1|0:1:0,1,0          0|1:1:0,1,0 0|0:0:1,0,0         \n",
       "[2,] 0|0:0:1,0,0 0|0:0:1,0,0          0|0:0:1,0,0 0|0:0:1,0,0         \n",
       "[3,] 0|0:0:1,0,0 0|1:0.98:0.03,0.97,0 0|0:0:1,0,0 0|0:0:1,0,0         \n",
       "[4,] 0|0:0:1,0,0 0|0:0:1,0,0          0|0:0:1,0,0 0|1:0.73:0.27,0.72,0\n",
       "     HMN83577    HMN83580            \n",
       "[1,] 0|0:0:1,0,0 0|0:0:1,0,0         \n",
       "[2,] 0|0:0:1,0,0 0|0:0:1,0,0         \n",
       "[3,] 0|0:0:1,0,0 0|1:0.97:0.03,0.96,0\n",
       "[4,] 0|0:0:1,0,0 0|0:0:1,0,0         "
      ]
     },
     "metadata": {},
     "output_type": "display_data"
    }
   ],
   "source": [
    "hg38_path = '/data/srlab1/jkang/hla/data/Randolph2021/Randolph2021.final.SNP2HLA.imputed_MHC_hg38_lifted_over.vcf'\n",
    "vcf = read.vcfR(hg38_path, verbose = F)\n",
    "\n",
    "# Only include samples genotyped on this array\n",
    "sample_meta = Randolph_sample_meta\n",
    "\n",
    "# Subset to cohort samples\n",
    "vcf\n",
    "vcf@meta %>% head(4)\n",
    "samples = c('FORMAT', sample_meta$Geno_ID)\n",
    "vcf@gt = vcf@gt[, colnames(vcf@gt) %in% samples]\n",
    "vcf@gt %>% head(4)"
   ]
  },
  {
   "cell_type": "markdown",
   "id": "4f61669b-13a4-4bcd-8d8d-dd72250a5b4e",
   "metadata": {},
   "source": [
    "Calculate the new minor allele frequency on the subset of samples"
   ]
  },
  {
   "cell_type": "code",
   "execution_count": 36,
   "id": "9aeba2f4-4a7e-4400-aa39-f85c5632c9a3",
   "metadata": {},
   "outputs": [],
   "source": [
    "newMaf = maf(vcf)[, 'Frequency']"
   ]
  },
  {
   "cell_type": "markdown",
   "id": "1b75429b-7f64-4250-9a87-e541422e7818",
   "metadata": {},
   "source": [
    "Format the fix region"
   ]
  },
  {
   "cell_type": "code",
   "execution_count": 37,
   "id": "21d15aa4-9fed-495b-aefc-846258096021",
   "metadata": {},
   "outputs": [
    {
     "data": {
      "text/html": [
       "<table class=\"dataframe\">\n",
       "<caption>A data.frame: 1 × 8</caption>\n",
       "<thead>\n",
       "\t<tr><th></th><th scope=col>CHROM</th><th scope=col>POS</th><th scope=col>ID</th><th scope=col>REF</th><th scope=col>ALT</th><th scope=col>QUAL</th><th scope=col>FILTER</th><th scope=col>INFO</th></tr>\n",
       "\t<tr><th></th><th scope=col>&lt;chr&gt;</th><th scope=col>&lt;chr&gt;</th><th scope=col>&lt;chr&gt;</th><th scope=col>&lt;chr&gt;</th><th scope=col>&lt;chr&gt;</th><th scope=col>&lt;chr&gt;</th><th scope=col>&lt;chr&gt;</th><th scope=col>&lt;chr&gt;</th></tr>\n",
       "</thead>\n",
       "<tbody>\n",
       "\t<tr><th scope=row>2986</th><td>chr6</td><td>29942496</td><td>HLA_A_03.01</td><td>C</td><td>T</td><td>NA</td><td>PASS</td><td>AR2=0.87;DR2=0.91;AF=0.081;IMP</td></tr>\n",
       "</tbody>\n",
       "</table>\n"
      ],
      "text/latex": [
       "A data.frame: 1 × 8\n",
       "\\begin{tabular}{r|llllllll}\n",
       "  & CHROM & POS & ID & REF & ALT & QUAL & FILTER & INFO\\\\\n",
       "  & <chr> & <chr> & <chr> & <chr> & <chr> & <chr> & <chr> & <chr>\\\\\n",
       "\\hline\n",
       "\t2986 & chr6 & 29942496 & HLA\\_A\\_03.01 & C & T & NA & PASS & AR2=0.87;DR2=0.91;AF=0.081;IMP\\\\\n",
       "\\end{tabular}\n"
      ],
      "text/markdown": [
       "\n",
       "A data.frame: 1 × 8\n",
       "\n",
       "| <!--/--> | CHROM &lt;chr&gt; | POS &lt;chr&gt; | ID &lt;chr&gt; | REF &lt;chr&gt; | ALT &lt;chr&gt; | QUAL &lt;chr&gt; | FILTER &lt;chr&gt; | INFO &lt;chr&gt; |\n",
       "|---|---|---|---|---|---|---|---|---|\n",
       "| 2986 | chr6 | 29942496 | HLA_A_03.01 | C | T | NA | PASS | AR2=0.87;DR2=0.91;AF=0.081;IMP |\n",
       "\n"
      ],
      "text/plain": [
       "     CHROM POS      ID          REF ALT QUAL FILTER\n",
       "2986 chr6  29942496 HLA_A_03.01 C   T   NA   PASS  \n",
       "     INFO                          \n",
       "2986 AR2=0.87;DR2=0.91;AF=0.081;IMP"
      ]
     },
     "metadata": {},
     "output_type": "display_data"
    },
    {
     "name": "stderr",
     "output_type": "stream",
     "text": [
      "Warning message:\n",
      "“Expected 4 pieces. Missing pieces filled with `NA` in 10751 rows [14, 15, 19, 21, 23, 24, 26, 27, 28, 31, 32, 33, 34, 35, 36, 37, 38, 39, 40, 42, ...].”\n"
     ]
    },
    {
     "data": {
      "text/html": [
       "<table class=\"dataframe\">\n",
       "<caption>A data.frame: 4 × 12</caption>\n",
       "<thead>\n",
       "\t<tr><th></th><th scope=col>CHROM</th><th scope=col>POS</th><th scope=col>ID</th><th scope=col>REF</th><th scope=col>ALT</th><th scope=col>QUAL</th><th scope=col>FILTER</th><th scope=col>AR2</th><th scope=col>DR2</th><th scope=col>AF</th><th scope=col>Imputed</th><th scope=col>newMAF</th></tr>\n",
       "\t<tr><th></th><th scope=col>&lt;chr&gt;</th><th scope=col>&lt;chr&gt;</th><th scope=col>&lt;chr&gt;</th><th scope=col>&lt;chr&gt;</th><th scope=col>&lt;chr&gt;</th><th scope=col>&lt;chr&gt;</th><th scope=col>&lt;chr&gt;</th><th scope=col>&lt;dbl&gt;</th><th scope=col>&lt;dbl&gt;</th><th scope=col>&lt;dbl&gt;</th><th scope=col>&lt;chr&gt;</th><th scope=col>&lt;dbl&gt;</th></tr>\n",
       "</thead>\n",
       "<tbody>\n",
       "\t<tr><th scope=row>1</th><td>chr6</td><td>28002253</td><td>rs149946  </td><td>G</td><td>T</td><td>NA</td><td>PASS</td><td>0.99</td><td>0.99</td><td>0.320</td><td>IMP</td><td>0.36301370</td></tr>\n",
       "\t<tr><th scope=row>2</th><td>chr6</td><td>28008422</td><td>rs9380032 </td><td>G</td><td>T</td><td>NA</td><td>PASS</td><td>0.83</td><td>0.85</td><td>0.020</td><td>IMP</td><td>0.02054795</td></tr>\n",
       "\t<tr><th scope=row>3</th><td>chr6</td><td>28011410</td><td>rs4141691 </td><td>A</td><td>G</td><td>NA</td><td>PASS</td><td>0.90</td><td>0.91</td><td>0.160</td><td>IMP</td><td>0.18493151</td></tr>\n",
       "\t<tr><th scope=row>4</th><td>chr6</td><td>28011847</td><td>rs10484402</td><td>A</td><td>G</td><td>NA</td><td>PASS</td><td>0.88</td><td>0.88</td><td>0.054</td><td>IMP</td><td>0.03424658</td></tr>\n",
       "</tbody>\n",
       "</table>\n"
      ],
      "text/latex": [
       "A data.frame: 4 × 12\n",
       "\\begin{tabular}{r|llllllllllll}\n",
       "  & CHROM & POS & ID & REF & ALT & QUAL & FILTER & AR2 & DR2 & AF & Imputed & newMAF\\\\\n",
       "  & <chr> & <chr> & <chr> & <chr> & <chr> & <chr> & <chr> & <dbl> & <dbl> & <dbl> & <chr> & <dbl>\\\\\n",
       "\\hline\n",
       "\t1 & chr6 & 28002253 & rs149946   & G & T & NA & PASS & 0.99 & 0.99 & 0.320 & IMP & 0.36301370\\\\\n",
       "\t2 & chr6 & 28008422 & rs9380032  & G & T & NA & PASS & 0.83 & 0.85 & 0.020 & IMP & 0.02054795\\\\\n",
       "\t3 & chr6 & 28011410 & rs4141691  & A & G & NA & PASS & 0.90 & 0.91 & 0.160 & IMP & 0.18493151\\\\\n",
       "\t4 & chr6 & 28011847 & rs10484402 & A & G & NA & PASS & 0.88 & 0.88 & 0.054 & IMP & 0.03424658\\\\\n",
       "\\end{tabular}\n"
      ],
      "text/markdown": [
       "\n",
       "A data.frame: 4 × 12\n",
       "\n",
       "| <!--/--> | CHROM &lt;chr&gt; | POS &lt;chr&gt; | ID &lt;chr&gt; | REF &lt;chr&gt; | ALT &lt;chr&gt; | QUAL &lt;chr&gt; | FILTER &lt;chr&gt; | AR2 &lt;dbl&gt; | DR2 &lt;dbl&gt; | AF &lt;dbl&gt; | Imputed &lt;chr&gt; | newMAF &lt;dbl&gt; |\n",
       "|---|---|---|---|---|---|---|---|---|---|---|---|---|\n",
       "| 1 | chr6 | 28002253 | rs149946   | G | T | NA | PASS | 0.99 | 0.99 | 0.320 | IMP | 0.36301370 |\n",
       "| 2 | chr6 | 28008422 | rs9380032  | G | T | NA | PASS | 0.83 | 0.85 | 0.020 | IMP | 0.02054795 |\n",
       "| 3 | chr6 | 28011410 | rs4141691  | A | G | NA | PASS | 0.90 | 0.91 | 0.160 | IMP | 0.18493151 |\n",
       "| 4 | chr6 | 28011847 | rs10484402 | A | G | NA | PASS | 0.88 | 0.88 | 0.054 | IMP | 0.03424658 |\n",
       "\n"
      ],
      "text/plain": [
       "  CHROM POS      ID         REF ALT QUAL FILTER AR2  DR2  AF    Imputed\n",
       "1 chr6  28002253 rs149946   G   T   NA   PASS   0.99 0.99 0.320 IMP    \n",
       "2 chr6  28008422 rs9380032  G   T   NA   PASS   0.83 0.85 0.020 IMP    \n",
       "3 chr6  28011410 rs4141691  A   G   NA   PASS   0.90 0.91 0.160 IMP    \n",
       "4 chr6  28011847 rs10484402 A   G   NA   PASS   0.88 0.88 0.054 IMP    \n",
       "  newMAF    \n",
       "1 0.36301370\n",
       "2 0.02054795\n",
       "3 0.18493151\n",
       "4 0.03424658"
      ]
     },
     "metadata": {},
     "output_type": "display_data"
    }
   ],
   "source": [
    "geno_gt = vcf@gt\n",
    "geno_df = as.data.frame(vcf@fix)\n",
    "\n",
    "# Replace asterix with period\n",
    "geno_df$ID = stringr::str_replace(geno_df$ID, '\\\\*', '_')\n",
    "geno_df$ID = stringr::str_replace_all(geno_df$ID, ':', '.')\n",
    "geno_df[which(startsWith(geno_df$ID, 'HLA_A_03.01')),]\n",
    "\n",
    "# Split column info\n",
    "geno_df = separate(data = geno_df, col = INFO, into = c(\"AR2\", \"DR2\", \"AF\", \"Imputed\"), sep = \";\")\n",
    "geno_df$AR2 = sub('.*=', '', geno_df$AR2) %>% as.numeric()\n",
    "geno_df$DR2 = sub('.*=', '', geno_df$DR2) %>% as.numeric()\n",
    "geno_df$AF = sub('.*=', '', geno_df$AF) %>% as.numeric()\n",
    "geno_df$Imputed[which(is.na(geno_df$Imputed))] = 'TYPED'\n",
    "geno_df$newMAF = newMaf\n",
    "geno_df %>% head(4)"
   ]
  },
  {
   "cell_type": "markdown",
   "id": "5dcea87f-0f62-49a6-86ac-c1d04dfab8d2",
   "metadata": {},
   "source": [
    "Remove AAs and intragenic SNPs"
   ]
  },
  {
   "cell_type": "code",
   "execution_count": 38,
   "id": "ed7aa9d5-4ee3-459c-b552-5c1d17bd752f",
   "metadata": {},
   "outputs": [
    {
     "data": {
      "text/html": [
       "3449"
      ],
      "text/latex": [
       "3449"
      ],
      "text/markdown": [
       "3449"
      ],
      "text/plain": [
       "[1] 3449"
      ]
     },
     "metadata": {},
     "output_type": "display_data"
    },
    {
     "data": {
      "text/html": [
       "570"
      ],
      "text/latex": [
       "570"
      ],
      "text/markdown": [
       "570"
      ],
      "text/plain": [
       "[1] 570"
      ]
     },
     "metadata": {},
     "output_type": "display_data"
    },
    {
     "data": {
      "text/html": [
       "4023"
      ],
      "text/latex": [
       "4023"
      ],
      "text/markdown": [
       "4023"
      ],
      "text/plain": [
       "[1] 4023"
      ]
     },
     "metadata": {},
     "output_type": "display_data"
    },
    {
     "data": {
      "text/plain": [
       "\n",
       "  IMP TYPED \n",
       " 4638 10623 "
      ]
     },
     "metadata": {},
     "output_type": "display_data"
    }
   ],
   "source": [
    "idx_HLA_AAs = which(startsWith(geno_df$ID, 'INS_AA') | startsWith(geno_df$ID, 'AA'))\n",
    "idx_HLA_alleles = which(startsWith(geno_df$ID, 'HLA'))\n",
    "idx_HLA_intra = which(startsWith(geno_df$ID, 'INS_SNPS') | startsWith(geno_df$ID, 'SNPS'))\n",
    "length(idx_HLA_AAs)\n",
    "length(idx_HLA_alleles)\n",
    "length(idx_HLA_intra)\n",
    "\n",
    "# Remove AA variants and intragenic SNPs\n",
    "geno_df = geno_df[-c(idx_HLA_AAs, idx_HLA_intra), ]\n",
    "geno_gt = geno_gt[-c(idx_HLA_AAs, idx_HLA_intra), ]\n",
    "\n",
    "table(geno_df$Imputed)"
   ]
  },
  {
   "cell_type": "markdown",
   "id": "682ba440-3a7c-4504-80ac-07f11f56ca5b",
   "metadata": {},
   "source": [
    "Filter by variants with DR^2 > 0.8, MAF > 0.01."
   ]
  },
  {
   "cell_type": "code",
   "execution_count": 39,
   "id": "f38a8da0-c60e-415e-a9c6-fd8b78db1151",
   "metadata": {},
   "outputs": [
    {
     "data": {
      "text/html": [
       "<table class=\"dataframe\">\n",
       "<caption>A data.frame: 5 × 12</caption>\n",
       "<thead>\n",
       "\t<tr><th></th><th scope=col>CHROM</th><th scope=col>POS</th><th scope=col>ID</th><th scope=col>REF</th><th scope=col>ALT</th><th scope=col>QUAL</th><th scope=col>FILTER</th><th scope=col>AR2</th><th scope=col>DR2</th><th scope=col>AF</th><th scope=col>Imputed</th><th scope=col>newMAF</th></tr>\n",
       "\t<tr><th></th><th scope=col>&lt;chr&gt;</th><th scope=col>&lt;chr&gt;</th><th scope=col>&lt;chr&gt;</th><th scope=col>&lt;chr&gt;</th><th scope=col>&lt;chr&gt;</th><th scope=col>&lt;chr&gt;</th><th scope=col>&lt;chr&gt;</th><th scope=col>&lt;dbl&gt;</th><th scope=col>&lt;dbl&gt;</th><th scope=col>&lt;dbl&gt;</th><th scope=col>&lt;chr&gt;</th><th scope=col>&lt;dbl&gt;</th></tr>\n",
       "</thead>\n",
       "<tbody>\n",
       "\t<tr><th scope=row>1</th><td>chr6</td><td>30801701</td><td>rs3129988  </td><td>T</td><td>C</td><td>NA</td><td>PASS</td><td>0.81</td><td>0.83</td><td>0.972</td><td>IMP</td><td>0.02739726</td></tr>\n",
       "\t<tr><th scope=row>2</th><td>chr6</td><td>31096528</td><td>rs565615223</td><td>A</td><td>G</td><td>NA</td><td>PASS</td><td>0.92</td><td>0.92</td><td>0.971</td><td>IMP</td><td>0.02739726</td></tr>\n",
       "\t<tr><th scope=row>3</th><td>chr6</td><td>31097843</td><td>rs2256962  </td><td>A</td><td>G</td><td>NA</td><td>PASS</td><td>0.92</td><td>0.92</td><td>0.971</td><td>IMP</td><td>0.02739726</td></tr>\n",
       "\t<tr><th scope=row>4</th><td>chr6</td><td>29826724</td><td>rs3115630  </td><td>T</td><td>C</td><td>NA</td><td>PASS</td><td>0.93</td><td>0.93</td><td>0.970</td><td>IMP</td><td>0.03424658</td></tr>\n",
       "\t<tr><th scope=row>5</th><td>chr6</td><td>30060083</td><td>rs3132129  </td><td>A</td><td>G</td><td>NA</td><td>PASS</td><td>0.92</td><td>0.92</td><td>0.970</td><td>IMP</td><td>0.03424658</td></tr>\n",
       "</tbody>\n",
       "</table>\n"
      ],
      "text/latex": [
       "A data.frame: 5 × 12\n",
       "\\begin{tabular}{r|llllllllllll}\n",
       "  & CHROM & POS & ID & REF & ALT & QUAL & FILTER & AR2 & DR2 & AF & Imputed & newMAF\\\\\n",
       "  & <chr> & <chr> & <chr> & <chr> & <chr> & <chr> & <chr> & <dbl> & <dbl> & <dbl> & <chr> & <dbl>\\\\\n",
       "\\hline\n",
       "\t1 & chr6 & 30801701 & rs3129988   & T & C & NA & PASS & 0.81 & 0.83 & 0.972 & IMP & 0.02739726\\\\\n",
       "\t2 & chr6 & 31096528 & rs565615223 & A & G & NA & PASS & 0.92 & 0.92 & 0.971 & IMP & 0.02739726\\\\\n",
       "\t3 & chr6 & 31097843 & rs2256962   & A & G & NA & PASS & 0.92 & 0.92 & 0.971 & IMP & 0.02739726\\\\\n",
       "\t4 & chr6 & 29826724 & rs3115630   & T & C & NA & PASS & 0.93 & 0.93 & 0.970 & IMP & 0.03424658\\\\\n",
       "\t5 & chr6 & 30060083 & rs3132129   & A & G & NA & PASS & 0.92 & 0.92 & 0.970 & IMP & 0.03424658\\\\\n",
       "\\end{tabular}\n"
      ],
      "text/markdown": [
       "\n",
       "A data.frame: 5 × 12\n",
       "\n",
       "| <!--/--> | CHROM &lt;chr&gt; | POS &lt;chr&gt; | ID &lt;chr&gt; | REF &lt;chr&gt; | ALT &lt;chr&gt; | QUAL &lt;chr&gt; | FILTER &lt;chr&gt; | AR2 &lt;dbl&gt; | DR2 &lt;dbl&gt; | AF &lt;dbl&gt; | Imputed &lt;chr&gt; | newMAF &lt;dbl&gt; |\n",
       "|---|---|---|---|---|---|---|---|---|---|---|---|---|\n",
       "| 1 | chr6 | 30801701 | rs3129988   | T | C | NA | PASS | 0.81 | 0.83 | 0.972 | IMP | 0.02739726 |\n",
       "| 2 | chr6 | 31096528 | rs565615223 | A | G | NA | PASS | 0.92 | 0.92 | 0.971 | IMP | 0.02739726 |\n",
       "| 3 | chr6 | 31097843 | rs2256962   | A | G | NA | PASS | 0.92 | 0.92 | 0.971 | IMP | 0.02739726 |\n",
       "| 4 | chr6 | 29826724 | rs3115630   | T | C | NA | PASS | 0.93 | 0.93 | 0.970 | IMP | 0.03424658 |\n",
       "| 5 | chr6 | 30060083 | rs3132129   | A | G | NA | PASS | 0.92 | 0.92 | 0.970 | IMP | 0.03424658 |\n",
       "\n"
      ],
      "text/plain": [
       "  CHROM POS      ID          REF ALT QUAL FILTER AR2  DR2  AF    Imputed\n",
       "1 chr6  30801701 rs3129988   T   C   NA   PASS   0.81 0.83 0.972 IMP    \n",
       "2 chr6  31096528 rs565615223 A   G   NA   PASS   0.92 0.92 0.971 IMP    \n",
       "3 chr6  31097843 rs2256962   A   G   NA   PASS   0.92 0.92 0.971 IMP    \n",
       "4 chr6  29826724 rs3115630   T   C   NA   PASS   0.93 0.93 0.970 IMP    \n",
       "5 chr6  30060083 rs3132129   A   G   NA   PASS   0.92 0.92 0.970 IMP    \n",
       "  newMAF    \n",
       "1 0.02739726\n",
       "2 0.02739726\n",
       "3 0.02739726\n",
       "4 0.03424658\n",
       "5 0.03424658"
      ]
     },
     "metadata": {},
     "output_type": "display_data"
    },
    {
     "data": {
      "text/html": [
       "<style>\n",
       ".list-inline {list-style: none; margin:0; padding: 0}\n",
       ".list-inline>li {display: inline-block}\n",
       ".list-inline>li:not(:last-child)::after {content: \"\\00b7\"; padding: 0 .5ex}\n",
       "</style>\n",
       "<ol class=list-inline><li>13806</li><li>12</li></ol>\n"
      ],
      "text/latex": [
       "\\begin{enumerate*}\n",
       "\\item 13806\n",
       "\\item 12\n",
       "\\end{enumerate*}\n"
      ],
      "text/markdown": [
       "1. 13806\n",
       "2. 12\n",
       "\n",
       "\n"
      ],
      "text/plain": [
       "[1] 13806    12"
      ]
     },
     "metadata": {},
     "output_type": "display_data"
    },
    {
     "data": {
      "text/plain": [
       "\n",
       "  IMP TYPED \n",
       " 3183 10623 "
      ]
     },
     "metadata": {},
     "output_type": "display_data"
    }
   ],
   "source": [
    "keep_variants_idx = which(geno_df$newMAF > 0.01 & geno_df$DR2 > DR2_thresh)\n",
    "geno_gt = geno_gt[keep_variants_idx, ]\n",
    "geno_df = geno_df[keep_variants_idx, ]\n",
    "\n",
    "geno_df %>% arrange(-AF) %>% head(5)\n",
    "dim(geno_df)\n",
    "table(geno_df$Imputed)"
   ]
  },
  {
   "cell_type": "markdown",
   "id": "fdc686a4-6e82-4ca3-93ab-7290971d4865",
   "metadata": {},
   "source": [
    "Extract dosage info (takes a few mins)"
   ]
  },
  {
   "cell_type": "code",
   "execution_count": 40,
   "id": "fb8aa7ac-6fc4-4e25-9d53-bb5b7315dadc",
   "metadata": {},
   "outputs": [
    {
     "data": {
      "text/html": [
       "<style>\n",
       ".list-inline {list-style: none; margin:0; padding: 0}\n",
       ".list-inline>li {display: inline-block}\n",
       ".list-inline>li:not(:last-child)::after {content: \"\\00b7\"; padding: 0 .5ex}\n",
       "</style>\n",
       "<ol class=list-inline><li>13806</li><li>12</li></ol>\n"
      ],
      "text/latex": [
       "\\begin{enumerate*}\n",
       "\\item 13806\n",
       "\\item 12\n",
       "\\end{enumerate*}\n"
      ],
      "text/markdown": [
       "1. 13806\n",
       "2. 12\n",
       "\n",
       "\n"
      ],
      "text/plain": [
       "[1] 13806    12"
      ]
     },
     "metadata": {},
     "output_type": "display_data"
    },
    {
     "data": {
      "text/html": [
       "<style>\n",
       ".list-inline {list-style: none; margin:0; padding: 0}\n",
       ".list-inline>li {display: inline-block}\n",
       ".list-inline>li:not(:last-child)::after {content: \"\\00b7\"; padding: 0 .5ex}\n",
       "</style>\n",
       "<ol class=list-inline><li>13806</li><li>74</li></ol>\n"
      ],
      "text/latex": [
       "\\begin{enumerate*}\n",
       "\\item 13806\n",
       "\\item 74\n",
       "\\end{enumerate*}\n"
      ],
      "text/markdown": [
       "1. 13806\n",
       "2. 74\n",
       "\n",
       "\n"
      ],
      "text/plain": [
       "[1] 13806    74"
      ]
     },
     "metadata": {},
     "output_type": "display_data"
    },
    {
     "data": {
      "text/html": [
       "<table class=\"dataframe\">\n",
       "<caption>A matrix: 5 × 5 of type chr</caption>\n",
       "<thead>\n",
       "\t<tr><th></th><th scope=col>rs149946</th><th scope=col>rs9380032</th><th scope=col>rs4141691</th><th scope=col>rs10484402</th><th scope=col>rs9368540</th></tr>\n",
       "</thead>\n",
       "<tbody>\n",
       "\t<tr><th scope=row>HMN171216</th><td>1</td><td>0</td><td>0   </td><td>0</td><td>0</td></tr>\n",
       "\t<tr><th scope=row>HMN171217</th><td>0</td><td>0</td><td>0   </td><td>0</td><td>0</td></tr>\n",
       "\t<tr><th scope=row>HMN171218</th><td>0</td><td>0</td><td>0.98</td><td>0</td><td>0</td></tr>\n",
       "\t<tr><th scope=row>HMN171219</th><td>1</td><td>0</td><td>0   </td><td>0</td><td>0</td></tr>\n",
       "\t<tr><th scope=row>HMN171220</th><td>0</td><td>0</td><td>0.71</td><td>0</td><td>0</td></tr>\n",
       "</tbody>\n",
       "</table>\n"
      ],
      "text/latex": [
       "A matrix: 5 × 5 of type chr\n",
       "\\begin{tabular}{r|lllll}\n",
       "  & rs149946 & rs9380032 & rs4141691 & rs10484402 & rs9368540\\\\\n",
       "\\hline\n",
       "\tHMN171216 & 1 & 0 & 0    & 0 & 0\\\\\n",
       "\tHMN171217 & 0 & 0 & 0    & 0 & 0\\\\\n",
       "\tHMN171218 & 0 & 0 & 0.98 & 0 & 0\\\\\n",
       "\tHMN171219 & 1 & 0 & 0    & 0 & 0\\\\\n",
       "\tHMN171220 & 0 & 0 & 0.71 & 0 & 0\\\\\n",
       "\\end{tabular}\n"
      ],
      "text/markdown": [
       "\n",
       "A matrix: 5 × 5 of type chr\n",
       "\n",
       "| <!--/--> | rs149946 | rs9380032 | rs4141691 | rs10484402 | rs9368540 |\n",
       "|---|---|---|---|---|---|\n",
       "| HMN171216 | 1 | 0 | 0    | 0 | 0 |\n",
       "| HMN171217 | 0 | 0 | 0    | 0 | 0 |\n",
       "| HMN171218 | 0 | 0 | 0.98 | 0 | 0 |\n",
       "| HMN171219 | 1 | 0 | 0    | 0 | 0 |\n",
       "| HMN171220 | 0 | 0 | 0.71 | 0 | 0 |\n",
       "\n"
      ],
      "text/plain": [
       "          rs149946 rs9380032 rs4141691 rs10484402 rs9368540\n",
       "HMN171216 1        0         0         0          0        \n",
       "HMN171217 0        0         0         0          0        \n",
       "HMN171218 0        0         0.98      0          0        \n",
       "HMN171219 1        0         0         0          0        \n",
       "HMN171220 0        0         0.71      0          0        "
      ]
     },
     "metadata": {},
     "output_type": "display_data"
    }
   ],
   "source": [
    "get_dosage = function(st) { return(strsplit(st, \":\")[[1]][2]) }\n",
    "geno_dosage = apply(geno_gt, c(1,2), get_dosage)\n",
    "dim(geno_df)\n",
    "dim(geno_dosage)\n",
    "rownames(geno_dosage) = geno_df$ID\n",
    "geno_dosage = geno_dosage %>% t()\n",
    "\n",
    "geno_dosage = geno_dosage[-1, ] #Remove FORMAT row\n",
    "geno_dosage[1:5, 1:5]"
   ]
  },
  {
   "cell_type": "markdown",
   "id": "f1db90ee-e470-47f5-9b35-c5b446f64324",
   "metadata": {},
   "source": [
    "Get Randolph samples and reorder to match sample_meta"
   ]
  },
  {
   "cell_type": "code",
   "execution_count": 41,
   "id": "af4afbf6-df0c-43e8-9d72-38ee99c6009c",
   "metadata": {},
   "outputs": [
    {
     "data": {
      "text/html": [
       "<style>\n",
       ".list-inline {list-style: none; margin:0; padding: 0}\n",
       ".list-inline>li {display: inline-block}\n",
       ".list-inline>li:not(:last-child)::after {content: \"\\00b7\"; padding: 0 .5ex}\n",
       "</style>\n",
       "<ol class=list-inline><li>'HMN83551'</li><li>'HMN83552'</li><li>'HMN83553'</li><li>'HMN83558'</li><li>'HMN83559'</li><li>'HMN83556'</li><li>'HMN83560'</li><li>'HMN83561'</li><li>'HMN83562'</li><li>'HMN83555'</li><li>'HMN83565'</li><li>'HMN83568'</li><li>'HMN83569'</li><li>'HMN83570'</li><li>'HMN83564'</li><li>'HMN83567'</li><li>'HMN83563'</li><li>'HMN83566'</li><li>'HMN83571'</li><li>'HMN83572'</li><li>'HMN83575'</li><li>'HMN83576'</li><li>'HMN83577'</li><li>'HMN83574'</li><li>'HMN83580'</li><li>'HMN52538'</li><li>'HMN52536'</li><li>'HMN52537'</li><li>'HMN52533'</li><li>'HMN52534'</li><li>'HMN52544'</li><li>'HMN52558'</li><li>'HMN52535'</li><li>'HMN52543'</li><li>'HMN52540'</li><li>'HMN52539'</li><li>'HMN52541'</li><li>'HMN52551'</li><li>'HMN52553'</li><li>'HMN52554'</li><li>'HMN52560'</li><li>'HMN52547'</li><li>'HMN52546'</li><li>'HMN52548'</li><li>'HMN52550'</li><li>'HMN52555'</li><li>'HMN171229'</li><li>'HMN171218'</li><li>'HMN171220'</li><li>'HMN171233'</li><li>'HMN171232'</li><li>'HMN171231'</li><li>'HMN171234'</li><li>'HMN171240'</li><li>'HMN171216'</li><li>'HMN171219'</li><li>'HMN171221'</li><li>'HMN171222'</li><li>'HMN171224'</li><li>'HMN171226'</li><li>'HMN171239'</li><li>'HMN171242'</li><li>'HMN171237'</li><li>'HMN171238'</li><li>'HMN171243'</li><li>'HMN171244'</li><li>'HMN171223'</li><li>'HMN171225'</li><li>'HMN171217'</li><li>'HMN171235'</li><li>'HMN171236'</li><li>'HMN171241'</li><li>'HMN171227'</li></ol>\n"
      ],
      "text/latex": [
       "\\begin{enumerate*}\n",
       "\\item 'HMN83551'\n",
       "\\item 'HMN83552'\n",
       "\\item 'HMN83553'\n",
       "\\item 'HMN83558'\n",
       "\\item 'HMN83559'\n",
       "\\item 'HMN83556'\n",
       "\\item 'HMN83560'\n",
       "\\item 'HMN83561'\n",
       "\\item 'HMN83562'\n",
       "\\item 'HMN83555'\n",
       "\\item 'HMN83565'\n",
       "\\item 'HMN83568'\n",
       "\\item 'HMN83569'\n",
       "\\item 'HMN83570'\n",
       "\\item 'HMN83564'\n",
       "\\item 'HMN83567'\n",
       "\\item 'HMN83563'\n",
       "\\item 'HMN83566'\n",
       "\\item 'HMN83571'\n",
       "\\item 'HMN83572'\n",
       "\\item 'HMN83575'\n",
       "\\item 'HMN83576'\n",
       "\\item 'HMN83577'\n",
       "\\item 'HMN83574'\n",
       "\\item 'HMN83580'\n",
       "\\item 'HMN52538'\n",
       "\\item 'HMN52536'\n",
       "\\item 'HMN52537'\n",
       "\\item 'HMN52533'\n",
       "\\item 'HMN52534'\n",
       "\\item 'HMN52544'\n",
       "\\item 'HMN52558'\n",
       "\\item 'HMN52535'\n",
       "\\item 'HMN52543'\n",
       "\\item 'HMN52540'\n",
       "\\item 'HMN52539'\n",
       "\\item 'HMN52541'\n",
       "\\item 'HMN52551'\n",
       "\\item 'HMN52553'\n",
       "\\item 'HMN52554'\n",
       "\\item 'HMN52560'\n",
       "\\item 'HMN52547'\n",
       "\\item 'HMN52546'\n",
       "\\item 'HMN52548'\n",
       "\\item 'HMN52550'\n",
       "\\item 'HMN52555'\n",
       "\\item 'HMN171229'\n",
       "\\item 'HMN171218'\n",
       "\\item 'HMN171220'\n",
       "\\item 'HMN171233'\n",
       "\\item 'HMN171232'\n",
       "\\item 'HMN171231'\n",
       "\\item 'HMN171234'\n",
       "\\item 'HMN171240'\n",
       "\\item 'HMN171216'\n",
       "\\item 'HMN171219'\n",
       "\\item 'HMN171221'\n",
       "\\item 'HMN171222'\n",
       "\\item 'HMN171224'\n",
       "\\item 'HMN171226'\n",
       "\\item 'HMN171239'\n",
       "\\item 'HMN171242'\n",
       "\\item 'HMN171237'\n",
       "\\item 'HMN171238'\n",
       "\\item 'HMN171243'\n",
       "\\item 'HMN171244'\n",
       "\\item 'HMN171223'\n",
       "\\item 'HMN171225'\n",
       "\\item 'HMN171217'\n",
       "\\item 'HMN171235'\n",
       "\\item 'HMN171236'\n",
       "\\item 'HMN171241'\n",
       "\\item 'HMN171227'\n",
       "\\end{enumerate*}\n"
      ],
      "text/markdown": [
       "1. 'HMN83551'\n",
       "2. 'HMN83552'\n",
       "3. 'HMN83553'\n",
       "4. 'HMN83558'\n",
       "5. 'HMN83559'\n",
       "6. 'HMN83556'\n",
       "7. 'HMN83560'\n",
       "8. 'HMN83561'\n",
       "9. 'HMN83562'\n",
       "10. 'HMN83555'\n",
       "11. 'HMN83565'\n",
       "12. 'HMN83568'\n",
       "13. 'HMN83569'\n",
       "14. 'HMN83570'\n",
       "15. 'HMN83564'\n",
       "16. 'HMN83567'\n",
       "17. 'HMN83563'\n",
       "18. 'HMN83566'\n",
       "19. 'HMN83571'\n",
       "20. 'HMN83572'\n",
       "21. 'HMN83575'\n",
       "22. 'HMN83576'\n",
       "23. 'HMN83577'\n",
       "24. 'HMN83574'\n",
       "25. 'HMN83580'\n",
       "26. 'HMN52538'\n",
       "27. 'HMN52536'\n",
       "28. 'HMN52537'\n",
       "29. 'HMN52533'\n",
       "30. 'HMN52534'\n",
       "31. 'HMN52544'\n",
       "32. 'HMN52558'\n",
       "33. 'HMN52535'\n",
       "34. 'HMN52543'\n",
       "35. 'HMN52540'\n",
       "36. 'HMN52539'\n",
       "37. 'HMN52541'\n",
       "38. 'HMN52551'\n",
       "39. 'HMN52553'\n",
       "40. 'HMN52554'\n",
       "41. 'HMN52560'\n",
       "42. 'HMN52547'\n",
       "43. 'HMN52546'\n",
       "44. 'HMN52548'\n",
       "45. 'HMN52550'\n",
       "46. 'HMN52555'\n",
       "47. 'HMN171229'\n",
       "48. 'HMN171218'\n",
       "49. 'HMN171220'\n",
       "50. 'HMN171233'\n",
       "51. 'HMN171232'\n",
       "52. 'HMN171231'\n",
       "53. 'HMN171234'\n",
       "54. 'HMN171240'\n",
       "55. 'HMN171216'\n",
       "56. 'HMN171219'\n",
       "57. 'HMN171221'\n",
       "58. 'HMN171222'\n",
       "59. 'HMN171224'\n",
       "60. 'HMN171226'\n",
       "61. 'HMN171239'\n",
       "62. 'HMN171242'\n",
       "63. 'HMN171237'\n",
       "64. 'HMN171238'\n",
       "65. 'HMN171243'\n",
       "66. 'HMN171244'\n",
       "67. 'HMN171223'\n",
       "68. 'HMN171225'\n",
       "69. 'HMN171217'\n",
       "70. 'HMN171235'\n",
       "71. 'HMN171236'\n",
       "72. 'HMN171241'\n",
       "73. 'HMN171227'\n",
       "\n",
       "\n"
      ],
      "text/plain": [
       " [1] \"HMN83551\"  \"HMN83552\"  \"HMN83553\"  \"HMN83558\"  \"HMN83559\"  \"HMN83556\" \n",
       " [7] \"HMN83560\"  \"HMN83561\"  \"HMN83562\"  \"HMN83555\"  \"HMN83565\"  \"HMN83568\" \n",
       "[13] \"HMN83569\"  \"HMN83570\"  \"HMN83564\"  \"HMN83567\"  \"HMN83563\"  \"HMN83566\" \n",
       "[19] \"HMN83571\"  \"HMN83572\"  \"HMN83575\"  \"HMN83576\"  \"HMN83577\"  \"HMN83574\" \n",
       "[25] \"HMN83580\"  \"HMN52538\"  \"HMN52536\"  \"HMN52537\"  \"HMN52533\"  \"HMN52534\" \n",
       "[31] \"HMN52544\"  \"HMN52558\"  \"HMN52535\"  \"HMN52543\"  \"HMN52540\"  \"HMN52539\" \n",
       "[37] \"HMN52541\"  \"HMN52551\"  \"HMN52553\"  \"HMN52554\"  \"HMN52560\"  \"HMN52547\" \n",
       "[43] \"HMN52546\"  \"HMN52548\"  \"HMN52550\"  \"HMN52555\"  \"HMN171229\" \"HMN171218\"\n",
       "[49] \"HMN171220\" \"HMN171233\" \"HMN171232\" \"HMN171231\" \"HMN171234\" \"HMN171240\"\n",
       "[55] \"HMN171216\" \"HMN171219\" \"HMN171221\" \"HMN171222\" \"HMN171224\" \"HMN171226\"\n",
       "[61] \"HMN171239\" \"HMN171242\" \"HMN171237\" \"HMN171238\" \"HMN171243\" \"HMN171244\"\n",
       "[67] \"HMN171223\" \"HMN171225\" \"HMN171217\" \"HMN171235\" \"HMN171236\" \"HMN171241\"\n",
       "[73] \"HMN171227\""
      ]
     },
     "metadata": {},
     "output_type": "display_data"
    }
   ],
   "source": [
    "unique(sample_meta$Geno_ID)"
   ]
  },
  {
   "cell_type": "code",
   "execution_count": 42,
   "id": "7793f685-98f0-4a0f-86a6-cef09762ad1b",
   "metadata": {},
   "outputs": [
    {
     "data": {
      "text/html": [
       "<table class=\"dataframe\">\n",
       "<caption>A matrix: 4 × 13806 of type chr</caption>\n",
       "<thead>\n",
       "\t<tr><th></th><th scope=col>rs149946</th><th scope=col>rs9380032</th><th scope=col>rs4141691</th><th scope=col>rs10484402</th><th scope=col>rs9368540</th><th scope=col>rs74505854</th><th scope=col>rs17765055</th><th scope=col>rs72848791</th><th scope=col>rs9368544</th><th scope=col>rs149990</th><th scope=col>⋯</th><th scope=col>rs2495978</th><th scope=col>rs6911089</th><th scope=col>rs78132888</th><th scope=col>rs2499762</th><th scope=col>rs2499763</th><th scope=col>rs2499766</th><th scope=col>rs2495988</th><th scope=col>rs11970492</th><th scope=col>rs73406709</th><th scope=col>rs76403141</th></tr>\n",
       "</thead>\n",
       "<tbody>\n",
       "\t<tr><th scope=row>HMN83551</th><td>0</td><td>0</td><td>0.79</td><td>0</td><td>0</td><td>0</td><td>0</td><td>0</td><td>0</td><td>0</td><td>⋯</td><td>1</td><td>0</td><td>0</td><td>1</td><td>1</td><td>0.71</td><td>0.01</td><td>0</td><td>0</td><td>0</td></tr>\n",
       "\t<tr><th scope=row>HMN83552</th><td>0</td><td>0</td><td>0   </td><td>0</td><td>0</td><td>0</td><td>0</td><td>0</td><td>0</td><td>0</td><td>⋯</td><td>2</td><td>2</td><td>0</td><td>0</td><td>2</td><td>1.96</td><td>0.08</td><td>0</td><td>0</td><td>0</td></tr>\n",
       "\t<tr><th scope=row>HMN83553</th><td>1</td><td>0</td><td>0   </td><td>0</td><td>0</td><td>0</td><td>0</td><td>1</td><td>0</td><td>0</td><td>⋯</td><td>2</td><td>0</td><td>0</td><td>2</td><td>2</td><td>1.98</td><td>0   </td><td>0</td><td>0</td><td>0</td></tr>\n",
       "\t<tr><th scope=row>HMN83558</th><td>2</td><td>0</td><td>0   </td><td>0</td><td>0</td><td>0</td><td>0</td><td>0</td><td>0</td><td>1</td><td>⋯</td><td>2</td><td>1</td><td>0</td><td>0</td><td>2</td><td>0.86</td><td>1.29</td><td>0</td><td>0</td><td>1</td></tr>\n",
       "</tbody>\n",
       "</table>\n"
      ],
      "text/latex": [
       "A matrix: 4 × 13806 of type chr\n",
       "\\begin{tabular}{r|lllllllllllllllllllll}\n",
       "  & rs149946 & rs9380032 & rs4141691 & rs10484402 & rs9368540 & rs74505854 & rs17765055 & rs72848791 & rs9368544 & rs149990 & ⋯ & rs2495978 & rs6911089 & rs78132888 & rs2499762 & rs2499763 & rs2499766 & rs2495988 & rs11970492 & rs73406709 & rs76403141\\\\\n",
       "\\hline\n",
       "\tHMN83551 & 0 & 0 & 0.79 & 0 & 0 & 0 & 0 & 0 & 0 & 0 & ⋯ & 1 & 0 & 0 & 1 & 1 & 0.71 & 0.01 & 0 & 0 & 0\\\\\n",
       "\tHMN83552 & 0 & 0 & 0    & 0 & 0 & 0 & 0 & 0 & 0 & 0 & ⋯ & 2 & 2 & 0 & 0 & 2 & 1.96 & 0.08 & 0 & 0 & 0\\\\\n",
       "\tHMN83553 & 1 & 0 & 0    & 0 & 0 & 0 & 0 & 1 & 0 & 0 & ⋯ & 2 & 0 & 0 & 2 & 2 & 1.98 & 0    & 0 & 0 & 0\\\\\n",
       "\tHMN83558 & 2 & 0 & 0    & 0 & 0 & 0 & 0 & 0 & 0 & 1 & ⋯ & 2 & 1 & 0 & 0 & 2 & 0.86 & 1.29 & 0 & 0 & 1\\\\\n",
       "\\end{tabular}\n"
      ],
      "text/markdown": [
       "\n",
       "A matrix: 4 × 13806 of type chr\n",
       "\n",
       "| <!--/--> | rs149946 | rs9380032 | rs4141691 | rs10484402 | rs9368540 | rs74505854 | rs17765055 | rs72848791 | rs9368544 | rs149990 | ⋯ | rs2495978 | rs6911089 | rs78132888 | rs2499762 | rs2499763 | rs2499766 | rs2495988 | rs11970492 | rs73406709 | rs76403141 |\n",
       "|---|---|---|---|---|---|---|---|---|---|---|---|---|---|---|---|---|---|---|---|---|---|\n",
       "| HMN83551 | 0 | 0 | 0.79 | 0 | 0 | 0 | 0 | 0 | 0 | 0 | ⋯ | 1 | 0 | 0 | 1 | 1 | 0.71 | 0.01 | 0 | 0 | 0 |\n",
       "| HMN83552 | 0 | 0 | 0    | 0 | 0 | 0 | 0 | 0 | 0 | 0 | ⋯ | 2 | 2 | 0 | 0 | 2 | 1.96 | 0.08 | 0 | 0 | 0 |\n",
       "| HMN83553 | 1 | 0 | 0    | 0 | 0 | 0 | 0 | 1 | 0 | 0 | ⋯ | 2 | 0 | 0 | 2 | 2 | 1.98 | 0    | 0 | 0 | 0 |\n",
       "| HMN83558 | 2 | 0 | 0    | 0 | 0 | 0 | 0 | 0 | 0 | 1 | ⋯ | 2 | 1 | 0 | 0 | 2 | 0.86 | 1.29 | 0 | 0 | 1 |\n",
       "\n"
      ],
      "text/plain": [
       "         rs149946 rs9380032 rs4141691 rs10484402 rs9368540 rs74505854\n",
       "HMN83551 0        0         0.79      0          0         0         \n",
       "HMN83552 0        0         0         0          0         0         \n",
       "HMN83553 1        0         0         0          0         0         \n",
       "HMN83558 2        0         0         0          0         0         \n",
       "         rs17765055 rs72848791 rs9368544 rs149990 ⋯ rs2495978 rs6911089\n",
       "HMN83551 0          0          0         0        ⋯ 1         0        \n",
       "HMN83552 0          0          0         0        ⋯ 2         2        \n",
       "HMN83553 0          1          0         0        ⋯ 2         0        \n",
       "HMN83558 0          0          0         1        ⋯ 2         1        \n",
       "         rs78132888 rs2499762 rs2499763 rs2499766 rs2495988 rs11970492\n",
       "HMN83551 0          1         1         0.71      0.01      0         \n",
       "HMN83552 0          0         2         1.96      0.08      0         \n",
       "HMN83553 0          2         2         1.98      0         0         \n",
       "HMN83558 0          0         2         0.86      1.29      0         \n",
       "         rs73406709 rs76403141\n",
       "HMN83551 0          0         \n",
       "HMN83552 0          0         \n",
       "HMN83553 0          0         \n",
       "HMN83558 0          1         "
      ]
     },
     "metadata": {},
     "output_type": "display_data"
    },
    {
     "data": {
      "text/html": [
       "<table class=\"dataframe\">\n",
       "<caption>A data.frame: 4 × 12</caption>\n",
       "<thead>\n",
       "\t<tr><th></th><th scope=col>CHROM</th><th scope=col>POS</th><th scope=col>ID</th><th scope=col>REF</th><th scope=col>ALT</th><th scope=col>QUAL</th><th scope=col>FILTER</th><th scope=col>AR2</th><th scope=col>DR2</th><th scope=col>AF</th><th scope=col>Imputed</th><th scope=col>newMAF</th></tr>\n",
       "\t<tr><th></th><th scope=col>&lt;chr&gt;</th><th scope=col>&lt;chr&gt;</th><th scope=col>&lt;chr&gt;</th><th scope=col>&lt;chr&gt;</th><th scope=col>&lt;chr&gt;</th><th scope=col>&lt;chr&gt;</th><th scope=col>&lt;chr&gt;</th><th scope=col>&lt;dbl&gt;</th><th scope=col>&lt;dbl&gt;</th><th scope=col>&lt;dbl&gt;</th><th scope=col>&lt;chr&gt;</th><th scope=col>&lt;dbl&gt;</th></tr>\n",
       "</thead>\n",
       "<tbody>\n",
       "\t<tr><th scope=row>1</th><td>chr6</td><td>28002253</td><td>rs149946  </td><td>G</td><td>T</td><td>NA</td><td>PASS</td><td>0.99</td><td>0.99</td><td>0.320</td><td>IMP</td><td>0.36301370</td></tr>\n",
       "\t<tr><th scope=row>2</th><td>chr6</td><td>28008422</td><td>rs9380032 </td><td>G</td><td>T</td><td>NA</td><td>PASS</td><td>0.83</td><td>0.85</td><td>0.020</td><td>IMP</td><td>0.02054795</td></tr>\n",
       "\t<tr><th scope=row>3</th><td>chr6</td><td>28011410</td><td>rs4141691 </td><td>A</td><td>G</td><td>NA</td><td>PASS</td><td>0.90</td><td>0.91</td><td>0.160</td><td>IMP</td><td>0.18493151</td></tr>\n",
       "\t<tr><th scope=row>4</th><td>chr6</td><td>28011847</td><td>rs10484402</td><td>A</td><td>G</td><td>NA</td><td>PASS</td><td>0.88</td><td>0.88</td><td>0.054</td><td>IMP</td><td>0.03424658</td></tr>\n",
       "</tbody>\n",
       "</table>\n"
      ],
      "text/latex": [
       "A data.frame: 4 × 12\n",
       "\\begin{tabular}{r|llllllllllll}\n",
       "  & CHROM & POS & ID & REF & ALT & QUAL & FILTER & AR2 & DR2 & AF & Imputed & newMAF\\\\\n",
       "  & <chr> & <chr> & <chr> & <chr> & <chr> & <chr> & <chr> & <dbl> & <dbl> & <dbl> & <chr> & <dbl>\\\\\n",
       "\\hline\n",
       "\t1 & chr6 & 28002253 & rs149946   & G & T & NA & PASS & 0.99 & 0.99 & 0.320 & IMP & 0.36301370\\\\\n",
       "\t2 & chr6 & 28008422 & rs9380032  & G & T & NA & PASS & 0.83 & 0.85 & 0.020 & IMP & 0.02054795\\\\\n",
       "\t3 & chr6 & 28011410 & rs4141691  & A & G & NA & PASS & 0.90 & 0.91 & 0.160 & IMP & 0.18493151\\\\\n",
       "\t4 & chr6 & 28011847 & rs10484402 & A & G & NA & PASS & 0.88 & 0.88 & 0.054 & IMP & 0.03424658\\\\\n",
       "\\end{tabular}\n"
      ],
      "text/markdown": [
       "\n",
       "A data.frame: 4 × 12\n",
       "\n",
       "| <!--/--> | CHROM &lt;chr&gt; | POS &lt;chr&gt; | ID &lt;chr&gt; | REF &lt;chr&gt; | ALT &lt;chr&gt; | QUAL &lt;chr&gt; | FILTER &lt;chr&gt; | AR2 &lt;dbl&gt; | DR2 &lt;dbl&gt; | AF &lt;dbl&gt; | Imputed &lt;chr&gt; | newMAF &lt;dbl&gt; |\n",
       "|---|---|---|---|---|---|---|---|---|---|---|---|---|\n",
       "| 1 | chr6 | 28002253 | rs149946   | G | T | NA | PASS | 0.99 | 0.99 | 0.320 | IMP | 0.36301370 |\n",
       "| 2 | chr6 | 28008422 | rs9380032  | G | T | NA | PASS | 0.83 | 0.85 | 0.020 | IMP | 0.02054795 |\n",
       "| 3 | chr6 | 28011410 | rs4141691  | A | G | NA | PASS | 0.90 | 0.91 | 0.160 | IMP | 0.18493151 |\n",
       "| 4 | chr6 | 28011847 | rs10484402 | A | G | NA | PASS | 0.88 | 0.88 | 0.054 | IMP | 0.03424658 |\n",
       "\n"
      ],
      "text/plain": [
       "  CHROM POS      ID         REF ALT QUAL FILTER AR2  DR2  AF    Imputed\n",
       "1 chr6  28002253 rs149946   G   T   NA   PASS   0.99 0.99 0.320 IMP    \n",
       "2 chr6  28008422 rs9380032  G   T   NA   PASS   0.83 0.85 0.020 IMP    \n",
       "3 chr6  28011410 rs4141691  A   G   NA   PASS   0.90 0.91 0.160 IMP    \n",
       "4 chr6  28011847 rs10484402 A   G   NA   PASS   0.88 0.88 0.054 IMP    \n",
       "  newMAF    \n",
       "1 0.36301370\n",
       "2 0.02054795\n",
       "3 0.18493151\n",
       "4 0.03424658"
      ]
     },
     "metadata": {},
     "output_type": "display_data"
    }
   ],
   "source": [
    "# Reorder to match sample_meta\n",
    "geno_dosage_Randolph = geno_dosage[unique(sample_meta$Geno_ID), ]\n",
    "geno_dosage_Randolph %>% head(4) # sample X dosage\n",
    "geno_df_Randolph = geno_df\n",
    "geno_df_Randolph %>% head(4)"
   ]
  },
  {
   "cell_type": "markdown",
   "id": "4aa84908-be1d-42fe-b781-6b259dcb8857",
   "metadata": {},
   "source": [
    "# OneK1K"
   ]
  },
  {
   "cell_type": "markdown",
   "id": "2fc6b04a-0f3d-48fd-a4d3-ff867effca78",
   "metadata": {},
   "source": [
    "Subset to cohort samples"
   ]
  },
  {
   "cell_type": "code",
   "execution_count": 43,
   "id": "a4180bd3-ceec-4580-b076-b82331769ba5",
   "metadata": {},
   "outputs": [
    {
     "data": {
      "text/plain": [
       "***** Object of Class vcfR *****\n",
       "972 samples\n",
       "1 CHROMs\n",
       "22,733 variants\n",
       "Object size: 173.5 Mb\n",
       "0 percent missing data\n",
       "*****        *****         *****"
      ]
     },
     "metadata": {},
     "output_type": "display_data"
    },
    {
     "data": {
      "text/html": [
       "<style>\n",
       ".list-inline {list-style: none; margin:0; padding: 0}\n",
       ".list-inline>li {display: inline-block}\n",
       ".list-inline>li:not(:last-child)::after {content: \"\\00b7\"; padding: 0 .5ex}\n",
       "</style>\n",
       "<ol class=list-inline><li>'##fileformat=VCFv4.2'</li><li>'##INFO=&lt;ID=AF,Number=A,Type=Float,Description=\"Estimated ALT Allele Frequencies\"&gt;'</li><li>'##INFO=&lt;ID=AR2,Number=1,Type=Float,Description=\"Allelic R-Squared: estimated squared correlation between most probable REF dose and true REF dose\"&gt;'</li><li>'##INFO=&lt;ID=DR2,Number=1,Type=Float,Description=\"Dosage R-Squared: estimated squared correlation between estimated REF dose [P(RA) + 2*P(RR)] and true REF dose\"&gt;'</li></ol>\n"
      ],
      "text/latex": [
       "\\begin{enumerate*}\n",
       "\\item '\\#\\#fileformat=VCFv4.2'\n",
       "\\item '\\#\\#INFO=<ID=AF,Number=A,Type=Float,Description=\"Estimated ALT Allele Frequencies\">'\n",
       "\\item '\\#\\#INFO=<ID=AR2,Number=1,Type=Float,Description=\"Allelic R-Squared: estimated squared correlation between most probable REF dose and true REF dose\">'\n",
       "\\item '\\#\\#INFO=<ID=DR2,Number=1,Type=Float,Description=\"Dosage R-Squared: estimated squared correlation between estimated REF dose {[}P(RA) + 2*P(RR){]} and true REF dose\">'\n",
       "\\end{enumerate*}\n"
      ],
      "text/markdown": [
       "1. '##fileformat=VCFv4.2'\n",
       "2. '##INFO=&lt;ID=AF,Number=A,Type=Float,Description=\"Estimated ALT Allele Frequencies\"&gt;'\n",
       "3. '##INFO=&lt;ID=AR2,Number=1,Type=Float,Description=\"Allelic R-Squared: estimated squared correlation between most probable REF dose and true REF dose\"&gt;'\n",
       "4. '##INFO=&lt;ID=DR2,Number=1,Type=Float,Description=\"Dosage R-Squared: estimated squared correlation between estimated REF dose [P(RA) + 2*P(RR)] and true REF dose\"&gt;'\n",
       "\n",
       "\n"
      ],
      "text/plain": [
       "[1] \"##fileformat=VCFv4.2\"                                                                                                                                              \n",
       "[2] \"##INFO=<ID=AF,Number=A,Type=Float,Description=\\\"Estimated ALT Allele Frequencies\\\">\"                                                                               \n",
       "[3] \"##INFO=<ID=AR2,Number=1,Type=Float,Description=\\\"Allelic R-Squared: estimated squared correlation between most probable REF dose and true REF dose\\\">\"             \n",
       "[4] \"##INFO=<ID=DR2,Number=1,Type=Float,Description=\\\"Dosage R-Squared: estimated squared correlation between estimated REF dose [P(RA) + 2*P(RR)] and true REF dose\\\">\""
      ]
     },
     "metadata": {},
     "output_type": "display_data"
    },
    {
     "data": {
      "text/html": [
       "<table class=\"dataframe\">\n",
       "<caption>A matrix: 4 × 910 of type chr</caption>\n",
       "<thead>\n",
       "\t<tr><th scope=col>FORMAT</th><th scope=col>1_1</th><th scope=col>2_2</th><th scope=col>3_3</th><th scope=col>4_4</th><th scope=col>6_6</th><th scope=col>7_7</th><th scope=col>8_8</th><th scope=col>9_9</th><th scope=col>10_10</th><th scope=col>⋯</th><th scope=col>1072_1073</th><th scope=col>1073_1074</th><th scope=col>1074_1075</th><th scope=col>1075_1076</th><th scope=col>1076_1077</th><th scope=col>1078_1079</th><th scope=col>1079_1080</th><th scope=col>1080_1081</th><th scope=col>1081_1082</th><th scope=col>241_242</th></tr>\n",
       "</thead>\n",
       "<tbody>\n",
       "\t<tr><td>GT:DS:GP</td><td>0|0:0:1,0,0</td><td>1|1:1.96:0,0.04,0.96</td><td>0|1:1:0,1,0</td><td>1|0:1:0,1,0         </td><td>0|1:1:0,1,0</td><td>0|0:0:1,0,0         </td><td>0|1:1:0,1,0         </td><td>1|0:1:0,1,0</td><td>0|0:0:1,0,0</td><td>⋯</td><td>0|1:0.77:0.23,0.77,0</td><td>1|1:2:0,0,1</td><td>0|0:0:1,0,0</td><td>1|0:0.96:0.04,0.96,0</td><td>0|0:0:1,0,0</td><td>0|1:1:0,1,0</td><td>0|0:0:1,0,0         </td><td>0|0:0:1,0,0</td><td>0|0:0:1,0,0</td><td>0|0:0:1,0,0</td></tr>\n",
       "\t<tr><td>GT:DS:GP</td><td>0|0:0:1,0,0</td><td>0|0:0:1,0,0         </td><td>0|0:0:1,0,0</td><td>0|0:0:1,0,0         </td><td>0|0:0:1,0,0</td><td>0|0:0:1,0,0         </td><td>0|0:0:1,0,0         </td><td>0|0:0:1,0,0</td><td>0|0:0:1,0,0</td><td>⋯</td><td>0|0:0:1,0,0         </td><td>0|0:0:1,0,0</td><td>0|0:0:1,0,0</td><td>0|0:0:1,0,0         </td><td>0|0:0:1,0,0</td><td>0|0:0:1,0,0</td><td>0|0:0:1,0,0         </td><td>0|0:0:1,0,0</td><td>0|0:0:1,0,0</td><td>0|0:0:1,0,0</td></tr>\n",
       "\t<tr><td>GT:DS:GP</td><td>0|0:0:1,0,0</td><td>0|0:0:1,0,0         </td><td>0|0:0:1,0,0</td><td>0|1:0.98:0.02,0.98,0</td><td>0|0:0:1,0,0</td><td>1|0:0.97:0.03,0.96,0</td><td>1|0:0.95:0.06,0.94,0</td><td>0|0:0:1,0,0</td><td>0|0:0:1,0,0</td><td>⋯</td><td>0|0:0:1,0,0         </td><td>0|0:0:1,0,0</td><td>0|0:0:1,0,0</td><td>0|1:0.98:0.02,0.98,0</td><td>0|0:0:1,0,0</td><td>0|0:0:1,0,0</td><td>1|0:0.97:0.03,0.96,0</td><td>0|0:0:1,0,0</td><td>0|0:0:1,0,0</td><td>0|0:0:1,0,0</td></tr>\n",
       "\t<tr><td>GT:DS:GP</td><td>0|0:0:1,0,0</td><td>0|0:0:1,0,0         </td><td>0|0:0:1,0,0</td><td>0|0:0:1,0,0         </td><td>0|0:0:1,0,0</td><td>0|0:0:1,0,0         </td><td>0|0:0:1,0,0         </td><td>0|0:0:1,0,0</td><td>0|0:0:1,0,0</td><td>⋯</td><td>0|0:0:1,0,0         </td><td>0|0:0:1,0,0</td><td>0|0:0:1,0,0</td><td>0|0:0:1,0,0         </td><td>0|0:0:1,0,0</td><td>0|0:0:1,0,0</td><td>0|0:0:1,0,0         </td><td>0|0:0:1,0,0</td><td>0|0:0:1,0,0</td><td>0|0:0:1,0,0</td></tr>\n",
       "</tbody>\n",
       "</table>\n"
      ],
      "text/latex": [
       "A matrix: 4 × 910 of type chr\n",
       "\\begin{tabular}{lllllllllllllllllllll}\n",
       " FORMAT & 1\\_1 & 2\\_2 & 3\\_3 & 4\\_4 & 6\\_6 & 7\\_7 & 8\\_8 & 9\\_9 & 10\\_10 & ⋯ & 1072\\_1073 & 1073\\_1074 & 1074\\_1075 & 1075\\_1076 & 1076\\_1077 & 1078\\_1079 & 1079\\_1080 & 1080\\_1081 & 1081\\_1082 & 241\\_242\\\\\n",
       "\\hline\n",
       "\t GT:DS:GP & 0\\textbar{}0:0:1,0,0 & 1\\textbar{}1:1.96:0,0.04,0.96 & 0\\textbar{}1:1:0,1,0 & 1\\textbar{}0:1:0,1,0          & 0\\textbar{}1:1:0,1,0 & 0\\textbar{}0:0:1,0,0          & 0\\textbar{}1:1:0,1,0          & 1\\textbar{}0:1:0,1,0 & 0\\textbar{}0:0:1,0,0 & ⋯ & 0\\textbar{}1:0.77:0.23,0.77,0 & 1\\textbar{}1:2:0,0,1 & 0\\textbar{}0:0:1,0,0 & 1\\textbar{}0:0.96:0.04,0.96,0 & 0\\textbar{}0:0:1,0,0 & 0\\textbar{}1:1:0,1,0 & 0\\textbar{}0:0:1,0,0          & 0\\textbar{}0:0:1,0,0 & 0\\textbar{}0:0:1,0,0 & 0\\textbar{}0:0:1,0,0\\\\\n",
       "\t GT:DS:GP & 0\\textbar{}0:0:1,0,0 & 0\\textbar{}0:0:1,0,0          & 0\\textbar{}0:0:1,0,0 & 0\\textbar{}0:0:1,0,0          & 0\\textbar{}0:0:1,0,0 & 0\\textbar{}0:0:1,0,0          & 0\\textbar{}0:0:1,0,0          & 0\\textbar{}0:0:1,0,0 & 0\\textbar{}0:0:1,0,0 & ⋯ & 0\\textbar{}0:0:1,0,0          & 0\\textbar{}0:0:1,0,0 & 0\\textbar{}0:0:1,0,0 & 0\\textbar{}0:0:1,0,0          & 0\\textbar{}0:0:1,0,0 & 0\\textbar{}0:0:1,0,0 & 0\\textbar{}0:0:1,0,0          & 0\\textbar{}0:0:1,0,0 & 0\\textbar{}0:0:1,0,0 & 0\\textbar{}0:0:1,0,0\\\\\n",
       "\t GT:DS:GP & 0\\textbar{}0:0:1,0,0 & 0\\textbar{}0:0:1,0,0          & 0\\textbar{}0:0:1,0,0 & 0\\textbar{}1:0.98:0.02,0.98,0 & 0\\textbar{}0:0:1,0,0 & 1\\textbar{}0:0.97:0.03,0.96,0 & 1\\textbar{}0:0.95:0.06,0.94,0 & 0\\textbar{}0:0:1,0,0 & 0\\textbar{}0:0:1,0,0 & ⋯ & 0\\textbar{}0:0:1,0,0          & 0\\textbar{}0:0:1,0,0 & 0\\textbar{}0:0:1,0,0 & 0\\textbar{}1:0.98:0.02,0.98,0 & 0\\textbar{}0:0:1,0,0 & 0\\textbar{}0:0:1,0,0 & 1\\textbar{}0:0.97:0.03,0.96,0 & 0\\textbar{}0:0:1,0,0 & 0\\textbar{}0:0:1,0,0 & 0\\textbar{}0:0:1,0,0\\\\\n",
       "\t GT:DS:GP & 0\\textbar{}0:0:1,0,0 & 0\\textbar{}0:0:1,0,0          & 0\\textbar{}0:0:1,0,0 & 0\\textbar{}0:0:1,0,0          & 0\\textbar{}0:0:1,0,0 & 0\\textbar{}0:0:1,0,0          & 0\\textbar{}0:0:1,0,0          & 0\\textbar{}0:0:1,0,0 & 0\\textbar{}0:0:1,0,0 & ⋯ & 0\\textbar{}0:0:1,0,0          & 0\\textbar{}0:0:1,0,0 & 0\\textbar{}0:0:1,0,0 & 0\\textbar{}0:0:1,0,0          & 0\\textbar{}0:0:1,0,0 & 0\\textbar{}0:0:1,0,0 & 0\\textbar{}0:0:1,0,0          & 0\\textbar{}0:0:1,0,0 & 0\\textbar{}0:0:1,0,0 & 0\\textbar{}0:0:1,0,0\\\\\n",
       "\\end{tabular}\n"
      ],
      "text/markdown": [
       "\n",
       "A matrix: 4 × 910 of type chr\n",
       "\n",
       "| FORMAT | 1_1 | 2_2 | 3_3 | 4_4 | 6_6 | 7_7 | 8_8 | 9_9 | 10_10 | ⋯ | 1072_1073 | 1073_1074 | 1074_1075 | 1075_1076 | 1076_1077 | 1078_1079 | 1079_1080 | 1080_1081 | 1081_1082 | 241_242 |\n",
       "|---|---|---|---|---|---|---|---|---|---|---|---|---|---|---|---|---|---|---|---|---|\n",
       "| GT:DS:GP | 0|0:0:1,0,0 | 1|1:1.96:0,0.04,0.96 | 0|1:1:0,1,0 | 1|0:1:0,1,0          | 0|1:1:0,1,0 | 0|0:0:1,0,0          | 0|1:1:0,1,0          | 1|0:1:0,1,0 | 0|0:0:1,0,0 | ⋯ | 0|1:0.77:0.23,0.77,0 | 1|1:2:0,0,1 | 0|0:0:1,0,0 | 1|0:0.96:0.04,0.96,0 | 0|0:0:1,0,0 | 0|1:1:0,1,0 | 0|0:0:1,0,0          | 0|0:0:1,0,0 | 0|0:0:1,0,0 | 0|0:0:1,0,0 |\n",
       "| GT:DS:GP | 0|0:0:1,0,0 | 0|0:0:1,0,0          | 0|0:0:1,0,0 | 0|0:0:1,0,0          | 0|0:0:1,0,0 | 0|0:0:1,0,0          | 0|0:0:1,0,0          | 0|0:0:1,0,0 | 0|0:0:1,0,0 | ⋯ | 0|0:0:1,0,0          | 0|0:0:1,0,0 | 0|0:0:1,0,0 | 0|0:0:1,0,0          | 0|0:0:1,0,0 | 0|0:0:1,0,0 | 0|0:0:1,0,0          | 0|0:0:1,0,0 | 0|0:0:1,0,0 | 0|0:0:1,0,0 |\n",
       "| GT:DS:GP | 0|0:0:1,0,0 | 0|0:0:1,0,0          | 0|0:0:1,0,0 | 0|1:0.98:0.02,0.98,0 | 0|0:0:1,0,0 | 1|0:0.97:0.03,0.96,0 | 1|0:0.95:0.06,0.94,0 | 0|0:0:1,0,0 | 0|0:0:1,0,0 | ⋯ | 0|0:0:1,0,0          | 0|0:0:1,0,0 | 0|0:0:1,0,0 | 0|1:0.98:0.02,0.98,0 | 0|0:0:1,0,0 | 0|0:0:1,0,0 | 1|0:0.97:0.03,0.96,0 | 0|0:0:1,0,0 | 0|0:0:1,0,0 | 0|0:0:1,0,0 |\n",
       "| GT:DS:GP | 0|0:0:1,0,0 | 0|0:0:1,0,0          | 0|0:0:1,0,0 | 0|0:0:1,0,0          | 0|0:0:1,0,0 | 0|0:0:1,0,0          | 0|0:0:1,0,0          | 0|0:0:1,0,0 | 0|0:0:1,0,0 | ⋯ | 0|0:0:1,0,0          | 0|0:0:1,0,0 | 0|0:0:1,0,0 | 0|0:0:1,0,0          | 0|0:0:1,0,0 | 0|0:0:1,0,0 | 0|0:0:1,0,0          | 0|0:0:1,0,0 | 0|0:0:1,0,0 | 0|0:0:1,0,0 |\n",
       "\n"
      ],
      "text/plain": [
       "     FORMAT   1_1         2_2                  3_3         4_4                 \n",
       "[1,] GT:DS:GP 0|0:0:1,0,0 1|1:1.96:0,0.04,0.96 0|1:1:0,1,0 1|0:1:0,1,0         \n",
       "[2,] GT:DS:GP 0|0:0:1,0,0 0|0:0:1,0,0          0|0:0:1,0,0 0|0:0:1,0,0         \n",
       "[3,] GT:DS:GP 0|0:0:1,0,0 0|0:0:1,0,0          0|0:0:1,0,0 0|1:0.98:0.02,0.98,0\n",
       "[4,] GT:DS:GP 0|0:0:1,0,0 0|0:0:1,0,0          0|0:0:1,0,0 0|0:0:1,0,0         \n",
       "     6_6         7_7                  8_8                  9_9        \n",
       "[1,] 0|1:1:0,1,0 0|0:0:1,0,0          0|1:1:0,1,0          1|0:1:0,1,0\n",
       "[2,] 0|0:0:1,0,0 0|0:0:1,0,0          0|0:0:1,0,0          0|0:0:1,0,0\n",
       "[3,] 0|0:0:1,0,0 1|0:0.97:0.03,0.96,0 1|0:0.95:0.06,0.94,0 0|0:0:1,0,0\n",
       "[4,] 0|0:0:1,0,0 0|0:0:1,0,0          0|0:0:1,0,0          0|0:0:1,0,0\n",
       "     10_10       ⋯ 1072_1073            1073_1074   1074_1075  \n",
       "[1,] 0|0:0:1,0,0 ⋯ 0|1:0.77:0.23,0.77,0 1|1:2:0,0,1 0|0:0:1,0,0\n",
       "[2,] 0|0:0:1,0,0 ⋯ 0|0:0:1,0,0          0|0:0:1,0,0 0|0:0:1,0,0\n",
       "[3,] 0|0:0:1,0,0 ⋯ 0|0:0:1,0,0          0|0:0:1,0,0 0|0:0:1,0,0\n",
       "[4,] 0|0:0:1,0,0 ⋯ 0|0:0:1,0,0          0|0:0:1,0,0 0|0:0:1,0,0\n",
       "     1075_1076            1076_1077   1078_1079   1079_1080           \n",
       "[1,] 1|0:0.96:0.04,0.96,0 0|0:0:1,0,0 0|1:1:0,1,0 0|0:0:1,0,0         \n",
       "[2,] 0|0:0:1,0,0          0|0:0:1,0,0 0|0:0:1,0,0 0|0:0:1,0,0         \n",
       "[3,] 0|1:0.98:0.02,0.98,0 0|0:0:1,0,0 0|0:0:1,0,0 1|0:0.97:0.03,0.96,0\n",
       "[4,] 0|0:0:1,0,0          0|0:0:1,0,0 0|0:0:1,0,0 0|0:0:1,0,0         \n",
       "     1080_1081   1081_1082   241_242    \n",
       "[1,] 0|0:0:1,0,0 0|0:0:1,0,0 0|0:0:1,0,0\n",
       "[2,] 0|0:0:1,0,0 0|0:0:1,0,0 0|0:0:1,0,0\n",
       "[3,] 0|0:0:1,0,0 0|0:0:1,0,0 0|0:0:1,0,0\n",
       "[4,] 0|0:0:1,0,0 0|0:0:1,0,0 0|0:0:1,0,0"
      ]
     },
     "metadata": {},
     "output_type": "display_data"
    }
   ],
   "source": [
    "hg38_path = '/data/srlab1/jkang/hla/data/OneK1K/OneK1K.final.SNP2HLA.imputed_MHC_hg38_lifted_over.vcf'\n",
    "vcf = read.vcfR(hg38_path, verbose = F)\n",
    "\n",
    "# Only include samples genotyped on this array\n",
    "sample_meta = OneK1K_sample_meta\n",
    "\n",
    "# Subset to cohort samples\n",
    "vcf\n",
    "vcf@meta %>% head(4)\n",
    "samples = c('FORMAT', sample_meta$Geno_ID)\n",
    "vcf@gt = vcf@gt[, colnames(vcf@gt) %in% samples]\n",
    "vcf@gt %>% head(4)"
   ]
  },
  {
   "cell_type": "markdown",
   "id": "3049a880-160f-429d-b120-e672d3dd5e6c",
   "metadata": {},
   "source": [
    "Calculate the new minor allele frequency on the subset of samples"
   ]
  },
  {
   "cell_type": "code",
   "execution_count": 44,
   "id": "3d19b6c1-707f-44e6-a0ef-c263f25a6582",
   "metadata": {},
   "outputs": [],
   "source": [
    "newMaf = maf(vcf)[, 'Frequency']"
   ]
  },
  {
   "cell_type": "markdown",
   "id": "8c0facb7-47e6-4a5b-be25-a7dc55dac62d",
   "metadata": {},
   "source": [
    "Format the fix region"
   ]
  },
  {
   "cell_type": "code",
   "execution_count": 45,
   "id": "bb876909-c2f4-4c8b-9236-ac5cdd4bdc63",
   "metadata": {},
   "outputs": [
    {
     "data": {
      "text/html": [
       "<table class=\"dataframe\">\n",
       "<caption>A data.frame: 1 × 8</caption>\n",
       "<thead>\n",
       "\t<tr><th></th><th scope=col>CHROM</th><th scope=col>POS</th><th scope=col>ID</th><th scope=col>REF</th><th scope=col>ALT</th><th scope=col>QUAL</th><th scope=col>FILTER</th><th scope=col>INFO</th></tr>\n",
       "\t<tr><th></th><th scope=col>&lt;chr&gt;</th><th scope=col>&lt;chr&gt;</th><th scope=col>&lt;chr&gt;</th><th scope=col>&lt;chr&gt;</th><th scope=col>&lt;chr&gt;</th><th scope=col>&lt;chr&gt;</th><th scope=col>&lt;chr&gt;</th><th scope=col>&lt;chr&gt;</th></tr>\n",
       "</thead>\n",
       "<tbody>\n",
       "\t<tr><th scope=row>2986</th><td>chr6</td><td>29942496</td><td>HLA_A_03.01</td><td>C</td><td>T</td><td>NA</td><td>PASS</td><td>AR2=0.98;DR2=0.98;AF=0.14;IMP</td></tr>\n",
       "</tbody>\n",
       "</table>\n"
      ],
      "text/latex": [
       "A data.frame: 1 × 8\n",
       "\\begin{tabular}{r|llllllll}\n",
       "  & CHROM & POS & ID & REF & ALT & QUAL & FILTER & INFO\\\\\n",
       "  & <chr> & <chr> & <chr> & <chr> & <chr> & <chr> & <chr> & <chr>\\\\\n",
       "\\hline\n",
       "\t2986 & chr6 & 29942496 & HLA\\_A\\_03.01 & C & T & NA & PASS & AR2=0.98;DR2=0.98;AF=0.14;IMP\\\\\n",
       "\\end{tabular}\n"
      ],
      "text/markdown": [
       "\n",
       "A data.frame: 1 × 8\n",
       "\n",
       "| <!--/--> | CHROM &lt;chr&gt; | POS &lt;chr&gt; | ID &lt;chr&gt; | REF &lt;chr&gt; | ALT &lt;chr&gt; | QUAL &lt;chr&gt; | FILTER &lt;chr&gt; | INFO &lt;chr&gt; |\n",
       "|---|---|---|---|---|---|---|---|---|\n",
       "| 2986 | chr6 | 29942496 | HLA_A_03.01 | C | T | NA | PASS | AR2=0.98;DR2=0.98;AF=0.14;IMP |\n",
       "\n"
      ],
      "text/plain": [
       "     CHROM POS      ID          REF ALT QUAL FILTER\n",
       "2986 chr6  29942496 HLA_A_03.01 C   T   NA   PASS  \n",
       "     INFO                         \n",
       "2986 AR2=0.98;DR2=0.98;AF=0.14;IMP"
      ]
     },
     "metadata": {},
     "output_type": "display_data"
    },
    {
     "name": "stderr",
     "output_type": "stream",
     "text": [
      "Warning message:\n",
      "“Expected 4 pieces. Missing pieces filled with `NA` in 6689 rows [13, 15, 17, 18, 20, 22, 27, 30, 41, 44, 45, 47, 50, 52, 54, 56, 57, 62, 64, 65, ...].”\n"
     ]
    },
    {
     "data": {
      "text/html": [
       "<table class=\"dataframe\">\n",
       "<caption>A data.frame: 4 × 12</caption>\n",
       "<thead>\n",
       "\t<tr><th></th><th scope=col>CHROM</th><th scope=col>POS</th><th scope=col>ID</th><th scope=col>REF</th><th scope=col>ALT</th><th scope=col>QUAL</th><th scope=col>FILTER</th><th scope=col>AR2</th><th scope=col>DR2</th><th scope=col>AF</th><th scope=col>Imputed</th><th scope=col>newMAF</th></tr>\n",
       "\t<tr><th></th><th scope=col>&lt;chr&gt;</th><th scope=col>&lt;chr&gt;</th><th scope=col>&lt;chr&gt;</th><th scope=col>&lt;chr&gt;</th><th scope=col>&lt;chr&gt;</th><th scope=col>&lt;chr&gt;</th><th scope=col>&lt;chr&gt;</th><th scope=col>&lt;dbl&gt;</th><th scope=col>&lt;dbl&gt;</th><th scope=col>&lt;dbl&gt;</th><th scope=col>&lt;chr&gt;</th><th scope=col>&lt;dbl&gt;</th></tr>\n",
       "</thead>\n",
       "<tbody>\n",
       "\t<tr><th scope=row>1</th><td>chr6</td><td>28002253</td><td>rs149946  </td><td>G</td><td>T</td><td>NA</td><td>PASS</td><td>0.96</td><td>0.96</td><td>0.220</td><td>IMP</td><td>0.22882288</td></tr>\n",
       "\t<tr><th scope=row>2</th><td>chr6</td><td>28008422</td><td>rs9380032 </td><td>G</td><td>T</td><td>NA</td><td>PASS</td><td>0.90</td><td>0.90</td><td>0.022</td><td>IMP</td><td>0.02090209</td></tr>\n",
       "\t<tr><th scope=row>3</th><td>chr6</td><td>28011410</td><td>rs4141691 </td><td>A</td><td>G</td><td>NA</td><td>PASS</td><td>0.87</td><td>0.89</td><td>0.091</td><td>IMP</td><td>0.09295930</td></tr>\n",
       "\t<tr><th scope=row>4</th><td>chr6</td><td>28011847</td><td>rs10484402</td><td>A</td><td>G</td><td>NA</td><td>PASS</td><td>0.92</td><td>0.92</td><td>0.034</td><td>IMP</td><td>0.03300330</td></tr>\n",
       "</tbody>\n",
       "</table>\n"
      ],
      "text/latex": [
       "A data.frame: 4 × 12\n",
       "\\begin{tabular}{r|llllllllllll}\n",
       "  & CHROM & POS & ID & REF & ALT & QUAL & FILTER & AR2 & DR2 & AF & Imputed & newMAF\\\\\n",
       "  & <chr> & <chr> & <chr> & <chr> & <chr> & <chr> & <chr> & <dbl> & <dbl> & <dbl> & <chr> & <dbl>\\\\\n",
       "\\hline\n",
       "\t1 & chr6 & 28002253 & rs149946   & G & T & NA & PASS & 0.96 & 0.96 & 0.220 & IMP & 0.22882288\\\\\n",
       "\t2 & chr6 & 28008422 & rs9380032  & G & T & NA & PASS & 0.90 & 0.90 & 0.022 & IMP & 0.02090209\\\\\n",
       "\t3 & chr6 & 28011410 & rs4141691  & A & G & NA & PASS & 0.87 & 0.89 & 0.091 & IMP & 0.09295930\\\\\n",
       "\t4 & chr6 & 28011847 & rs10484402 & A & G & NA & PASS & 0.92 & 0.92 & 0.034 & IMP & 0.03300330\\\\\n",
       "\\end{tabular}\n"
      ],
      "text/markdown": [
       "\n",
       "A data.frame: 4 × 12\n",
       "\n",
       "| <!--/--> | CHROM &lt;chr&gt; | POS &lt;chr&gt; | ID &lt;chr&gt; | REF &lt;chr&gt; | ALT &lt;chr&gt; | QUAL &lt;chr&gt; | FILTER &lt;chr&gt; | AR2 &lt;dbl&gt; | DR2 &lt;dbl&gt; | AF &lt;dbl&gt; | Imputed &lt;chr&gt; | newMAF &lt;dbl&gt; |\n",
       "|---|---|---|---|---|---|---|---|---|---|---|---|---|\n",
       "| 1 | chr6 | 28002253 | rs149946   | G | T | NA | PASS | 0.96 | 0.96 | 0.220 | IMP | 0.22882288 |\n",
       "| 2 | chr6 | 28008422 | rs9380032  | G | T | NA | PASS | 0.90 | 0.90 | 0.022 | IMP | 0.02090209 |\n",
       "| 3 | chr6 | 28011410 | rs4141691  | A | G | NA | PASS | 0.87 | 0.89 | 0.091 | IMP | 0.09295930 |\n",
       "| 4 | chr6 | 28011847 | rs10484402 | A | G | NA | PASS | 0.92 | 0.92 | 0.034 | IMP | 0.03300330 |\n",
       "\n"
      ],
      "text/plain": [
       "  CHROM POS      ID         REF ALT QUAL FILTER AR2  DR2  AF    Imputed\n",
       "1 chr6  28002253 rs149946   G   T   NA   PASS   0.96 0.96 0.220 IMP    \n",
       "2 chr6  28008422 rs9380032  G   T   NA   PASS   0.90 0.90 0.022 IMP    \n",
       "3 chr6  28011410 rs4141691  A   G   NA   PASS   0.87 0.89 0.091 IMP    \n",
       "4 chr6  28011847 rs10484402 A   G   NA   PASS   0.92 0.92 0.034 IMP    \n",
       "  newMAF    \n",
       "1 0.22882288\n",
       "2 0.02090209\n",
       "3 0.09295930\n",
       "4 0.03300330"
      ]
     },
     "metadata": {},
     "output_type": "display_data"
    }
   ],
   "source": [
    "geno_gt = vcf@gt\n",
    "geno_df = as.data.frame(vcf@fix)\n",
    "\n",
    "# Replace asterix with period\n",
    "geno_df$ID = stringr::str_replace(geno_df$ID, '\\\\*', '_')\n",
    "geno_df$ID = stringr::str_replace_all(geno_df$ID, ':', '.')\n",
    "geno_df[which(startsWith(geno_df$ID, 'HLA_A_03.01')),]\n",
    "\n",
    "# Split column info\n",
    "geno_df = separate(data = geno_df, col = INFO, into = c(\"AR2\", \"DR2\", \"AF\", \"Imputed\"), sep = \";\")\n",
    "geno_df$AR2 = sub('.*=', '', geno_df$AR2) %>% as.numeric()\n",
    "geno_df$DR2 = sub('.*=', '', geno_df$DR2) %>% as.numeric()\n",
    "geno_df$AF = sub('.*=', '', geno_df$AF) %>% as.numeric()\n",
    "geno_df$Imputed[which(is.na(geno_df$Imputed))] = 'TYPED'\n",
    "geno_df$newMAF = newMaf\n",
    "geno_df %>% head(4)"
   ]
  },
  {
   "cell_type": "markdown",
   "id": "fd567564-94d4-49fb-ae42-7f6a5c1a4f53",
   "metadata": {},
   "source": [
    "Remove AAs and intragenic SNPs"
   ]
  },
  {
   "cell_type": "code",
   "execution_count": 46,
   "id": "291e90f4-c0f0-43a5-beb2-2b75674af3e7",
   "metadata": {},
   "outputs": [
    {
     "data": {
      "text/html": [
       "3449"
      ],
      "text/latex": [
       "3449"
      ],
      "text/markdown": [
       "3449"
      ],
      "text/plain": [
       "[1] 3449"
      ]
     },
     "metadata": {},
     "output_type": "display_data"
    },
    {
     "data": {
      "text/html": [
       "570"
      ],
      "text/latex": [
       "570"
      ],
      "text/markdown": [
       "570"
      ],
      "text/plain": [
       "[1] 570"
      ]
     },
     "metadata": {},
     "output_type": "display_data"
    },
    {
     "data": {
      "text/html": [
       "4023"
      ],
      "text/latex": [
       "4023"
      ],
      "text/markdown": [
       "4023"
      ],
      "text/plain": [
       "[1] 4023"
      ]
     },
     "metadata": {},
     "output_type": "display_data"
    },
    {
     "data": {
      "text/plain": [
       "\n",
       "  IMP TYPED \n",
       " 8577  6684 "
      ]
     },
     "metadata": {},
     "output_type": "display_data"
    }
   ],
   "source": [
    "idx_HLA_AAs = which(startsWith(geno_df$ID, 'INS_AA') | startsWith(geno_df$ID, 'AA'))\n",
    "idx_HLA_alleles = which(startsWith(geno_df$ID, 'HLA'))\n",
    "idx_HLA_intra = which(startsWith(geno_df$ID, 'INS_SNPS') | startsWith(geno_df$ID, 'SNPS'))\n",
    "length(idx_HLA_AAs)\n",
    "length(idx_HLA_alleles)\n",
    "length(idx_HLA_intra)\n",
    "\n",
    "# Remove AA variants and intragenic SNPs\n",
    "geno_df = geno_df[-c(idx_HLA_AAs, idx_HLA_intra), ]\n",
    "geno_gt = geno_gt[-c(idx_HLA_AAs, idx_HLA_intra), ]\n",
    "\n",
    "table(geno_df$Imputed)"
   ]
  },
  {
   "cell_type": "markdown",
   "id": "4e2953fa-7004-4191-8344-dcb3264b9154",
   "metadata": {},
   "source": [
    "Filter by variants with DR^2 > 0.8, MAF > 0.01."
   ]
  },
  {
   "cell_type": "code",
   "execution_count": 47,
   "id": "3bfa7c05-e7e8-47ec-add0-c48278bbf72c",
   "metadata": {},
   "outputs": [
    {
     "data": {
      "text/html": [
       "<table class=\"dataframe\">\n",
       "<caption>A data.frame: 5 × 12</caption>\n",
       "<thead>\n",
       "\t<tr><th></th><th scope=col>CHROM</th><th scope=col>POS</th><th scope=col>ID</th><th scope=col>REF</th><th scope=col>ALT</th><th scope=col>QUAL</th><th scope=col>FILTER</th><th scope=col>AR2</th><th scope=col>DR2</th><th scope=col>AF</th><th scope=col>Imputed</th><th scope=col>newMAF</th></tr>\n",
       "\t<tr><th></th><th scope=col>&lt;chr&gt;</th><th scope=col>&lt;chr&gt;</th><th scope=col>&lt;chr&gt;</th><th scope=col>&lt;chr&gt;</th><th scope=col>&lt;chr&gt;</th><th scope=col>&lt;chr&gt;</th><th scope=col>&lt;chr&gt;</th><th scope=col>&lt;dbl&gt;</th><th scope=col>&lt;dbl&gt;</th><th scope=col>&lt;dbl&gt;</th><th scope=col>&lt;chr&gt;</th><th scope=col>&lt;dbl&gt;</th></tr>\n",
       "</thead>\n",
       "<tbody>\n",
       "\t<tr><th scope=row>1</th><td>chr6</td><td>33642573</td><td>rs4711333 </td><td>A</td><td>G</td><td>NA</td><td>PASS</td><td>0.84</td><td>0.84</td><td>0.987</td><td>IMP</td><td>0.01210121</td></tr>\n",
       "\t<tr><th scope=row>2</th><td>chr6</td><td>28609953</td><td>rs7382159 </td><td>A</td><td>C</td><td>NA</td><td>PASS</td><td>0.90</td><td>0.90</td><td>0.980</td><td>IMP</td><td>0.01815182</td></tr>\n",
       "\t<tr><th scope=row>3</th><td>chr6</td><td>28631251</td><td>rs4711176 </td><td>G</td><td>A</td><td>NA</td><td>PASS</td><td>0.90</td><td>0.90</td><td>0.980</td><td>IMP</td><td>0.01815182</td></tr>\n",
       "\t<tr><th scope=row>4</th><td>chr6</td><td>28639174</td><td>rs4713172 </td><td>T</td><td>C</td><td>NA</td><td>PASS</td><td>0.90</td><td>0.90</td><td>0.980</td><td>IMP</td><td>0.01815182</td></tr>\n",
       "\t<tr><th scope=row>5</th><td>chr6</td><td>28638620</td><td>rs10807036</td><td>G</td><td>A</td><td>NA</td><td>PASS</td><td>0.93</td><td>0.93</td><td>0.969</td><td>IMP</td><td>0.02970297</td></tr>\n",
       "</tbody>\n",
       "</table>\n"
      ],
      "text/latex": [
       "A data.frame: 5 × 12\n",
       "\\begin{tabular}{r|llllllllllll}\n",
       "  & CHROM & POS & ID & REF & ALT & QUAL & FILTER & AR2 & DR2 & AF & Imputed & newMAF\\\\\n",
       "  & <chr> & <chr> & <chr> & <chr> & <chr> & <chr> & <chr> & <dbl> & <dbl> & <dbl> & <chr> & <dbl>\\\\\n",
       "\\hline\n",
       "\t1 & chr6 & 33642573 & rs4711333  & A & G & NA & PASS & 0.84 & 0.84 & 0.987 & IMP & 0.01210121\\\\\n",
       "\t2 & chr6 & 28609953 & rs7382159  & A & C & NA & PASS & 0.90 & 0.90 & 0.980 & IMP & 0.01815182\\\\\n",
       "\t3 & chr6 & 28631251 & rs4711176  & G & A & NA & PASS & 0.90 & 0.90 & 0.980 & IMP & 0.01815182\\\\\n",
       "\t4 & chr6 & 28639174 & rs4713172  & T & C & NA & PASS & 0.90 & 0.90 & 0.980 & IMP & 0.01815182\\\\\n",
       "\t5 & chr6 & 28638620 & rs10807036 & G & A & NA & PASS & 0.93 & 0.93 & 0.969 & IMP & 0.02970297\\\\\n",
       "\\end{tabular}\n"
      ],
      "text/markdown": [
       "\n",
       "A data.frame: 5 × 12\n",
       "\n",
       "| <!--/--> | CHROM &lt;chr&gt; | POS &lt;chr&gt; | ID &lt;chr&gt; | REF &lt;chr&gt; | ALT &lt;chr&gt; | QUAL &lt;chr&gt; | FILTER &lt;chr&gt; | AR2 &lt;dbl&gt; | DR2 &lt;dbl&gt; | AF &lt;dbl&gt; | Imputed &lt;chr&gt; | newMAF &lt;dbl&gt; |\n",
       "|---|---|---|---|---|---|---|---|---|---|---|---|---|\n",
       "| 1 | chr6 | 33642573 | rs4711333  | A | G | NA | PASS | 0.84 | 0.84 | 0.987 | IMP | 0.01210121 |\n",
       "| 2 | chr6 | 28609953 | rs7382159  | A | C | NA | PASS | 0.90 | 0.90 | 0.980 | IMP | 0.01815182 |\n",
       "| 3 | chr6 | 28631251 | rs4711176  | G | A | NA | PASS | 0.90 | 0.90 | 0.980 | IMP | 0.01815182 |\n",
       "| 4 | chr6 | 28639174 | rs4713172  | T | C | NA | PASS | 0.90 | 0.90 | 0.980 | IMP | 0.01815182 |\n",
       "| 5 | chr6 | 28638620 | rs10807036 | G | A | NA | PASS | 0.93 | 0.93 | 0.969 | IMP | 0.02970297 |\n",
       "\n"
      ],
      "text/plain": [
       "  CHROM POS      ID         REF ALT QUAL FILTER AR2  DR2  AF    Imputed\n",
       "1 chr6  33642573 rs4711333  A   G   NA   PASS   0.84 0.84 0.987 IMP    \n",
       "2 chr6  28609953 rs7382159  A   C   NA   PASS   0.90 0.90 0.980 IMP    \n",
       "3 chr6  28631251 rs4711176  G   A   NA   PASS   0.90 0.90 0.980 IMP    \n",
       "4 chr6  28639174 rs4713172  T   C   NA   PASS   0.90 0.90 0.980 IMP    \n",
       "5 chr6  28638620 rs10807036 G   A   NA   PASS   0.93 0.93 0.969 IMP    \n",
       "  newMAF    \n",
       "1 0.01210121\n",
       "2 0.01815182\n",
       "3 0.01815182\n",
       "4 0.01815182\n",
       "5 0.02970297"
      ]
     },
     "metadata": {},
     "output_type": "display_data"
    },
    {
     "data": {
      "text/html": [
       "<style>\n",
       ".list-inline {list-style: none; margin:0; padding: 0}\n",
       ".list-inline>li {display: inline-block}\n",
       ".list-inline>li:not(:last-child)::after {content: \"\\00b7\"; padding: 0 .5ex}\n",
       "</style>\n",
       "<ol class=list-inline><li>13440</li><li>12</li></ol>\n"
      ],
      "text/latex": [
       "\\begin{enumerate*}\n",
       "\\item 13440\n",
       "\\item 12\n",
       "\\end{enumerate*}\n"
      ],
      "text/markdown": [
       "1. 13440\n",
       "2. 12\n",
       "\n",
       "\n"
      ],
      "text/plain": [
       "[1] 13440    12"
      ]
     },
     "metadata": {},
     "output_type": "display_data"
    },
    {
     "data": {
      "text/plain": [
       "\n",
       "  IMP TYPED \n",
       " 6767  6673 "
      ]
     },
     "metadata": {},
     "output_type": "display_data"
    }
   ],
   "source": [
    "keep_variants_idx = which(geno_df$newMAF > 0.01 & geno_df$DR2 > DR2_thresh)\n",
    "geno_gt = geno_gt[keep_variants_idx, ]\n",
    "geno_df = geno_df[keep_variants_idx, ]\n",
    "\n",
    "geno_df %>% arrange(-AF) %>% head(5)\n",
    "dim(geno_df)\n",
    "table(geno_df$Imputed)"
   ]
  },
  {
   "cell_type": "markdown",
   "id": "56629214-dfd0-4ab5-beff-6275e326bb63",
   "metadata": {},
   "source": [
    "Extract dosage info (takes a few mins)"
   ]
  },
  {
   "cell_type": "code",
   "execution_count": 48,
   "id": "c8d41df0-c32b-4193-9572-bdd9372de3a1",
   "metadata": {},
   "outputs": [
    {
     "data": {
      "text/html": [
       "<style>\n",
       ".list-inline {list-style: none; margin:0; padding: 0}\n",
       ".list-inline>li {display: inline-block}\n",
       ".list-inline>li:not(:last-child)::after {content: \"\\00b7\"; padding: 0 .5ex}\n",
       "</style>\n",
       "<ol class=list-inline><li>13440</li><li>12</li></ol>\n"
      ],
      "text/latex": [
       "\\begin{enumerate*}\n",
       "\\item 13440\n",
       "\\item 12\n",
       "\\end{enumerate*}\n"
      ],
      "text/markdown": [
       "1. 13440\n",
       "2. 12\n",
       "\n",
       "\n"
      ],
      "text/plain": [
       "[1] 13440    12"
      ]
     },
     "metadata": {},
     "output_type": "display_data"
    },
    {
     "data": {
      "text/html": [
       "<style>\n",
       ".list-inline {list-style: none; margin:0; padding: 0}\n",
       ".list-inline>li {display: inline-block}\n",
       ".list-inline>li:not(:last-child)::after {content: \"\\00b7\"; padding: 0 .5ex}\n",
       "</style>\n",
       "<ol class=list-inline><li>13440</li><li>910</li></ol>\n"
      ],
      "text/latex": [
       "\\begin{enumerate*}\n",
       "\\item 13440\n",
       "\\item 910\n",
       "\\end{enumerate*}\n"
      ],
      "text/markdown": [
       "1. 13440\n",
       "2. 910\n",
       "\n",
       "\n"
      ],
      "text/plain": [
       "[1] 13440   910"
      ]
     },
     "metadata": {},
     "output_type": "display_data"
    },
    {
     "data": {
      "text/html": [
       "<table class=\"dataframe\">\n",
       "<caption>A matrix: 5 × 5 of type chr</caption>\n",
       "<thead>\n",
       "\t<tr><th></th><th scope=col>rs149946</th><th scope=col>rs9380032</th><th scope=col>rs4141691</th><th scope=col>rs10484402</th><th scope=col>rs9368540</th></tr>\n",
       "</thead>\n",
       "<tbody>\n",
       "\t<tr><th scope=row>1_1</th><td>0   </td><td>0</td><td>0   </td><td>0</td><td>0</td></tr>\n",
       "\t<tr><th scope=row>2_2</th><td>1.96</td><td>0</td><td>0   </td><td>0</td><td>0</td></tr>\n",
       "\t<tr><th scope=row>3_3</th><td>1   </td><td>0</td><td>0   </td><td>0</td><td>0</td></tr>\n",
       "\t<tr><th scope=row>4_4</th><td>1   </td><td>0</td><td>0.98</td><td>0</td><td>0</td></tr>\n",
       "\t<tr><th scope=row>6_6</th><td>1   </td><td>0</td><td>0   </td><td>0</td><td>0</td></tr>\n",
       "</tbody>\n",
       "</table>\n"
      ],
      "text/latex": [
       "A matrix: 5 × 5 of type chr\n",
       "\\begin{tabular}{r|lllll}\n",
       "  & rs149946 & rs9380032 & rs4141691 & rs10484402 & rs9368540\\\\\n",
       "\\hline\n",
       "\t1\\_1 & 0    & 0 & 0    & 0 & 0\\\\\n",
       "\t2\\_2 & 1.96 & 0 & 0    & 0 & 0\\\\\n",
       "\t3\\_3 & 1    & 0 & 0    & 0 & 0\\\\\n",
       "\t4\\_4 & 1    & 0 & 0.98 & 0 & 0\\\\\n",
       "\t6\\_6 & 1    & 0 & 0    & 0 & 0\\\\\n",
       "\\end{tabular}\n"
      ],
      "text/markdown": [
       "\n",
       "A matrix: 5 × 5 of type chr\n",
       "\n",
       "| <!--/--> | rs149946 | rs9380032 | rs4141691 | rs10484402 | rs9368540 |\n",
       "|---|---|---|---|---|---|\n",
       "| 1_1 | 0    | 0 | 0    | 0 | 0 |\n",
       "| 2_2 | 1.96 | 0 | 0    | 0 | 0 |\n",
       "| 3_3 | 1    | 0 | 0    | 0 | 0 |\n",
       "| 4_4 | 1    | 0 | 0.98 | 0 | 0 |\n",
       "| 6_6 | 1    | 0 | 0    | 0 | 0 |\n",
       "\n"
      ],
      "text/plain": [
       "    rs149946 rs9380032 rs4141691 rs10484402 rs9368540\n",
       "1_1 0        0         0         0          0        \n",
       "2_2 1.96     0         0         0          0        \n",
       "3_3 1        0         0         0          0        \n",
       "4_4 1        0         0.98      0          0        \n",
       "6_6 1        0         0         0          0        "
      ]
     },
     "metadata": {},
     "output_type": "display_data"
    }
   ],
   "source": [
    "get_dosage = function(st) { return(strsplit(st, \":\")[[1]][2]) }\n",
    "geno_dosage = apply(geno_gt, c(1,2), get_dosage)\n",
    "dim(geno_df)\n",
    "dim(geno_dosage)\n",
    "rownames(geno_dosage) = geno_df$ID\n",
    "geno_dosage = geno_dosage %>% t()\n",
    "\n",
    "geno_dosage = geno_dosage[-1, ] #Remove FORMAT row\n",
    "geno_dosage[1:5, 1:5]"
   ]
  },
  {
   "cell_type": "markdown",
   "id": "3dd84997-156b-406e-ac86-85ba21f5db36",
   "metadata": {},
   "source": [
    "Get OneK1K samples and reorder to match sample_meta"
   ]
  },
  {
   "cell_type": "code",
   "execution_count": 49,
   "id": "58ff0d40-33e6-4d78-8665-7930f55ba777",
   "metadata": {},
   "outputs": [
    {
     "data": {
      "text/html": [
       "<table class=\"dataframe\">\n",
       "<caption>A matrix: 4 × 13440 of type chr</caption>\n",
       "<thead>\n",
       "\t<tr><th></th><th scope=col>rs149946</th><th scope=col>rs9380032</th><th scope=col>rs4141691</th><th scope=col>rs10484402</th><th scope=col>rs9368540</th><th scope=col>rs17765055</th><th scope=col>rs72848791</th><th scope=col>rs9368544</th><th scope=col>rs149990</th><th scope=col>rs9368545</th><th scope=col>⋯</th><th scope=col>rs6911089</th><th scope=col>rs78132888</th><th scope=col>rs2499762</th><th scope=col>rs2499763</th><th scope=col>rs2499766</th><th scope=col>rs2495988</th><th scope=col>rs17531174</th><th scope=col>rs2495993</th><th scope=col>rs73406709</th><th scope=col>rs76403141</th></tr>\n",
       "</thead>\n",
       "<tbody>\n",
       "\t<tr><th scope=row>691_692</th><td>0.95</td><td>0</td><td>0</td><td>0</td><td>0</td><td>0</td><td>0.95</td><td>0</td><td>0</td><td>0</td><td>⋯</td><td>0.21</td><td>0.76</td><td>0</td><td>0.21</td><td>0.96</td><td>0</td><td>0</td><td>1</td><td>0</td><td>0</td></tr>\n",
       "\t<tr><th scope=row>693_694</th><td>0   </td><td>0</td><td>0</td><td>1</td><td>1</td><td>1</td><td>0   </td><td>1</td><td>0</td><td>1</td><td>⋯</td><td>0   </td><td>0   </td><td>0</td><td>0   </td><td>0.01</td><td>0</td><td>0</td><td>0</td><td>0</td><td>0</td></tr>\n",
       "\t<tr><th scope=row>688_689</th><td>1   </td><td>0</td><td>0</td><td>0</td><td>0</td><td>0</td><td>0   </td><td>0</td><td>0</td><td>0</td><td>⋯</td><td>0   </td><td>0   </td><td>2</td><td>2   </td><td>1.8 </td><td>0</td><td>0</td><td>0</td><td>0</td><td>0</td></tr>\n",
       "\t<tr><th scope=row>683_684</th><td>0   </td><td>0</td><td>0</td><td>0</td><td>0</td><td>0</td><td>0   </td><td>0</td><td>0</td><td>0</td><td>⋯</td><td>0   </td><td>0   </td><td>1</td><td>1   </td><td>1   </td><td>0</td><td>0</td><td>0</td><td>0</td><td>0</td></tr>\n",
       "</tbody>\n",
       "</table>\n"
      ],
      "text/latex": [
       "A matrix: 4 × 13440 of type chr\n",
       "\\begin{tabular}{r|lllllllllllllllllllll}\n",
       "  & rs149946 & rs9380032 & rs4141691 & rs10484402 & rs9368540 & rs17765055 & rs72848791 & rs9368544 & rs149990 & rs9368545 & ⋯ & rs6911089 & rs78132888 & rs2499762 & rs2499763 & rs2499766 & rs2495988 & rs17531174 & rs2495993 & rs73406709 & rs76403141\\\\\n",
       "\\hline\n",
       "\t691\\_692 & 0.95 & 0 & 0 & 0 & 0 & 0 & 0.95 & 0 & 0 & 0 & ⋯ & 0.21 & 0.76 & 0 & 0.21 & 0.96 & 0 & 0 & 1 & 0 & 0\\\\\n",
       "\t693\\_694 & 0    & 0 & 0 & 1 & 1 & 1 & 0    & 1 & 0 & 1 & ⋯ & 0    & 0    & 0 & 0    & 0.01 & 0 & 0 & 0 & 0 & 0\\\\\n",
       "\t688\\_689 & 1    & 0 & 0 & 0 & 0 & 0 & 0    & 0 & 0 & 0 & ⋯ & 0    & 0    & 2 & 2    & 1.8  & 0 & 0 & 0 & 0 & 0\\\\\n",
       "\t683\\_684 & 0    & 0 & 0 & 0 & 0 & 0 & 0    & 0 & 0 & 0 & ⋯ & 0    & 0    & 1 & 1    & 1    & 0 & 0 & 0 & 0 & 0\\\\\n",
       "\\end{tabular}\n"
      ],
      "text/markdown": [
       "\n",
       "A matrix: 4 × 13440 of type chr\n",
       "\n",
       "| <!--/--> | rs149946 | rs9380032 | rs4141691 | rs10484402 | rs9368540 | rs17765055 | rs72848791 | rs9368544 | rs149990 | rs9368545 | ⋯ | rs6911089 | rs78132888 | rs2499762 | rs2499763 | rs2499766 | rs2495988 | rs17531174 | rs2495993 | rs73406709 | rs76403141 |\n",
       "|---|---|---|---|---|---|---|---|---|---|---|---|---|---|---|---|---|---|---|---|---|---|\n",
       "| 691_692 | 0.95 | 0 | 0 | 0 | 0 | 0 | 0.95 | 0 | 0 | 0 | ⋯ | 0.21 | 0.76 | 0 | 0.21 | 0.96 | 0 | 0 | 1 | 0 | 0 |\n",
       "| 693_694 | 0    | 0 | 0 | 1 | 1 | 1 | 0    | 1 | 0 | 1 | ⋯ | 0    | 0    | 0 | 0    | 0.01 | 0 | 0 | 0 | 0 | 0 |\n",
       "| 688_689 | 1    | 0 | 0 | 0 | 0 | 0 | 0    | 0 | 0 | 0 | ⋯ | 0    | 0    | 2 | 2    | 1.8  | 0 | 0 | 0 | 0 | 0 |\n",
       "| 683_684 | 0    | 0 | 0 | 0 | 0 | 0 | 0    | 0 | 0 | 0 | ⋯ | 0    | 0    | 1 | 1    | 1    | 0 | 0 | 0 | 0 | 0 |\n",
       "\n"
      ],
      "text/plain": [
       "        rs149946 rs9380032 rs4141691 rs10484402 rs9368540 rs17765055 rs72848791\n",
       "691_692 0.95     0         0         0          0         0          0.95      \n",
       "693_694 0        0         0         1          1         1          0         \n",
       "688_689 1        0         0         0          0         0          0         \n",
       "683_684 0        0         0         0          0         0          0         \n",
       "        rs9368544 rs149990 rs9368545 ⋯ rs6911089 rs78132888 rs2499762 rs2499763\n",
       "691_692 0         0        0         ⋯ 0.21      0.76       0         0.21     \n",
       "693_694 1         0        1         ⋯ 0         0          0         0        \n",
       "688_689 0         0        0         ⋯ 0         0          2         2        \n",
       "683_684 0         0        0         ⋯ 0         0          1         1        \n",
       "        rs2499766 rs2495988 rs17531174 rs2495993 rs73406709 rs76403141\n",
       "691_692 0.96      0         0          1         0          0         \n",
       "693_694 0.01      0         0          0         0          0         \n",
       "688_689 1.8       0         0          0         0          0         \n",
       "683_684 1         0         0          0         0          0         "
      ]
     },
     "metadata": {},
     "output_type": "display_data"
    }
   ],
   "source": [
    "# Reorder to match sample_meta\n",
    "geno_dosage_OneK1K = geno_dosage[unique(sample_meta$Geno_ID), ]\n",
    "geno_dosage_OneK1K %>% head(4) # sample X dosage"
   ]
  },
  {
   "cell_type": "code",
   "execution_count": 50,
   "id": "1f96faa8-f224-4fbd-8197-50ff601bd244",
   "metadata": {},
   "outputs": [
    {
     "data": {
      "text/html": [
       "<table class=\"dataframe\">\n",
       "<caption>A data.frame: 6 × 12</caption>\n",
       "<thead>\n",
       "\t<tr><th></th><th scope=col>CHROM</th><th scope=col>POS</th><th scope=col>ID</th><th scope=col>REF</th><th scope=col>ALT</th><th scope=col>QUAL</th><th scope=col>FILTER</th><th scope=col>AR2</th><th scope=col>DR2</th><th scope=col>AF</th><th scope=col>Imputed</th><th scope=col>newMAF</th></tr>\n",
       "\t<tr><th></th><th scope=col>&lt;chr&gt;</th><th scope=col>&lt;chr&gt;</th><th scope=col>&lt;chr&gt;</th><th scope=col>&lt;chr&gt;</th><th scope=col>&lt;chr&gt;</th><th scope=col>&lt;chr&gt;</th><th scope=col>&lt;chr&gt;</th><th scope=col>&lt;dbl&gt;</th><th scope=col>&lt;dbl&gt;</th><th scope=col>&lt;dbl&gt;</th><th scope=col>&lt;chr&gt;</th><th scope=col>&lt;dbl&gt;</th></tr>\n",
       "</thead>\n",
       "<tbody>\n",
       "\t<tr><th scope=row>1</th><td>chr6</td><td>28002253</td><td>rs149946  </td><td>G</td><td>T</td><td>NA</td><td>PASS</td><td>0.96</td><td>0.96</td><td>0.220</td><td>IMP</td><td>0.22882288</td></tr>\n",
       "\t<tr><th scope=row>2</th><td>chr6</td><td>28008422</td><td>rs9380032 </td><td>G</td><td>T</td><td>NA</td><td>PASS</td><td>0.90</td><td>0.90</td><td>0.022</td><td>IMP</td><td>0.02090209</td></tr>\n",
       "\t<tr><th scope=row>3</th><td>chr6</td><td>28011410</td><td>rs4141691 </td><td>A</td><td>G</td><td>NA</td><td>PASS</td><td>0.87</td><td>0.89</td><td>0.091</td><td>IMP</td><td>0.09295930</td></tr>\n",
       "\t<tr><th scope=row>4</th><td>chr6</td><td>28011847</td><td>rs10484402</td><td>A</td><td>G</td><td>NA</td><td>PASS</td><td>0.92</td><td>0.92</td><td>0.034</td><td>IMP</td><td>0.03300330</td></tr>\n",
       "\t<tr><th scope=row>5</th><td>chr6</td><td>28013895</td><td>rs9368540 </td><td>G</td><td>A</td><td>NA</td><td>PASS</td><td>0.93</td><td>0.94</td><td>0.040</td><td>IMP</td><td>0.03905391</td></tr>\n",
       "\t<tr><th scope=row>7</th><td>chr6</td><td>28017129</td><td>rs17765055</td><td>T</td><td>C</td><td>NA</td><td>PASS</td><td>0.94</td><td>0.95</td><td>0.050</td><td>IMP</td><td>0.05060506</td></tr>\n",
       "</tbody>\n",
       "</table>\n"
      ],
      "text/latex": [
       "A data.frame: 6 × 12\n",
       "\\begin{tabular}{r|llllllllllll}\n",
       "  & CHROM & POS & ID & REF & ALT & QUAL & FILTER & AR2 & DR2 & AF & Imputed & newMAF\\\\\n",
       "  & <chr> & <chr> & <chr> & <chr> & <chr> & <chr> & <chr> & <dbl> & <dbl> & <dbl> & <chr> & <dbl>\\\\\n",
       "\\hline\n",
       "\t1 & chr6 & 28002253 & rs149946   & G & T & NA & PASS & 0.96 & 0.96 & 0.220 & IMP & 0.22882288\\\\\n",
       "\t2 & chr6 & 28008422 & rs9380032  & G & T & NA & PASS & 0.90 & 0.90 & 0.022 & IMP & 0.02090209\\\\\n",
       "\t3 & chr6 & 28011410 & rs4141691  & A & G & NA & PASS & 0.87 & 0.89 & 0.091 & IMP & 0.09295930\\\\\n",
       "\t4 & chr6 & 28011847 & rs10484402 & A & G & NA & PASS & 0.92 & 0.92 & 0.034 & IMP & 0.03300330\\\\\n",
       "\t5 & chr6 & 28013895 & rs9368540  & G & A & NA & PASS & 0.93 & 0.94 & 0.040 & IMP & 0.03905391\\\\\n",
       "\t7 & chr6 & 28017129 & rs17765055 & T & C & NA & PASS & 0.94 & 0.95 & 0.050 & IMP & 0.05060506\\\\\n",
       "\\end{tabular}\n"
      ],
      "text/markdown": [
       "\n",
       "A data.frame: 6 × 12\n",
       "\n",
       "| <!--/--> | CHROM &lt;chr&gt; | POS &lt;chr&gt; | ID &lt;chr&gt; | REF &lt;chr&gt; | ALT &lt;chr&gt; | QUAL &lt;chr&gt; | FILTER &lt;chr&gt; | AR2 &lt;dbl&gt; | DR2 &lt;dbl&gt; | AF &lt;dbl&gt; | Imputed &lt;chr&gt; | newMAF &lt;dbl&gt; |\n",
       "|---|---|---|---|---|---|---|---|---|---|---|---|---|\n",
       "| 1 | chr6 | 28002253 | rs149946   | G | T | NA | PASS | 0.96 | 0.96 | 0.220 | IMP | 0.22882288 |\n",
       "| 2 | chr6 | 28008422 | rs9380032  | G | T | NA | PASS | 0.90 | 0.90 | 0.022 | IMP | 0.02090209 |\n",
       "| 3 | chr6 | 28011410 | rs4141691  | A | G | NA | PASS | 0.87 | 0.89 | 0.091 | IMP | 0.09295930 |\n",
       "| 4 | chr6 | 28011847 | rs10484402 | A | G | NA | PASS | 0.92 | 0.92 | 0.034 | IMP | 0.03300330 |\n",
       "| 5 | chr6 | 28013895 | rs9368540  | G | A | NA | PASS | 0.93 | 0.94 | 0.040 | IMP | 0.03905391 |\n",
       "| 7 | chr6 | 28017129 | rs17765055 | T | C | NA | PASS | 0.94 | 0.95 | 0.050 | IMP | 0.05060506 |\n",
       "\n"
      ],
      "text/plain": [
       "  CHROM POS      ID         REF ALT QUAL FILTER AR2  DR2  AF    Imputed\n",
       "1 chr6  28002253 rs149946   G   T   NA   PASS   0.96 0.96 0.220 IMP    \n",
       "2 chr6  28008422 rs9380032  G   T   NA   PASS   0.90 0.90 0.022 IMP    \n",
       "3 chr6  28011410 rs4141691  A   G   NA   PASS   0.87 0.89 0.091 IMP    \n",
       "4 chr6  28011847 rs10484402 A   G   NA   PASS   0.92 0.92 0.034 IMP    \n",
       "5 chr6  28013895 rs9368540  G   A   NA   PASS   0.93 0.94 0.040 IMP    \n",
       "7 chr6  28017129 rs17765055 T   C   NA   PASS   0.94 0.95 0.050 IMP    \n",
       "  newMAF    \n",
       "1 0.22882288\n",
       "2 0.02090209\n",
       "3 0.09295930\n",
       "4 0.03300330\n",
       "5 0.03905391\n",
       "7 0.05060506"
      ]
     },
     "metadata": {},
     "output_type": "display_data"
    }
   ],
   "source": [
    "geno_df_OneK1K = geno_df\n",
    "head(geno_df_OneK1K)"
   ]
  },
  {
   "cell_type": "markdown",
   "id": "7a702f9d-87c8-4eed-b698-22675432f09e",
   "metadata": {},
   "source": [
    "# Intersect all cohorts"
   ]
  },
  {
   "cell_type": "code",
   "execution_count": 51,
   "id": "6e698184-4786-47c1-9728-78b77e457c14",
   "metadata": {},
   "outputs": [
    {
     "data": {
      "text/html": [
       "<style>\n",
       ".list-inline {list-style: none; margin:0; padding: 0}\n",
       ".list-inline>li {display: inline-block}\n",
       ".list-inline>li:not(:last-child)::after {content: \"\\00b7\"; padding: 0 .5ex}\n",
       "</style>\n",
       "<ol class=list-inline><li>69</li><li>13815</li></ol>\n"
      ],
      "text/latex": [
       "\\begin{enumerate*}\n",
       "\\item 69\n",
       "\\item 13815\n",
       "\\end{enumerate*}\n"
      ],
      "text/markdown": [
       "1. 69\n",
       "2. 13815\n",
       "\n",
       "\n"
      ],
      "text/plain": [
       "[1]    69 13815"
      ]
     },
     "metadata": {},
     "output_type": "display_data"
    },
    {
     "data": {
      "text/html": [
       "<style>\n",
       ".list-inline {list-style: none; margin:0; padding: 0}\n",
       ".list-inline>li {display: inline-block}\n",
       ".list-inline>li:not(:last-child)::after {content: \"\\00b7\"; padding: 0 .5ex}\n",
       "</style>\n",
       "<ol class=list-inline><li>22</li><li>12531</li></ol>\n"
      ],
      "text/latex": [
       "\\begin{enumerate*}\n",
       "\\item 22\n",
       "\\item 12531\n",
       "\\end{enumerate*}\n"
      ],
      "text/markdown": [
       "1. 22\n",
       "2. 12531\n",
       "\n",
       "\n"
      ],
      "text/plain": [
       "[1]    22 12531"
      ]
     },
     "metadata": {},
     "output_type": "display_data"
    },
    {
     "data": {
      "text/html": [
       "<style>\n",
       ".list-inline {list-style: none; margin:0; padding: 0}\n",
       ".list-inline>li {display: inline-block}\n",
       ".list-inline>li:not(:last-child)::after {content: \"\\00b7\"; padding: 0 .5ex}\n",
       "</style>\n",
       "<ol class=list-inline><li>73</li><li>13806</li></ol>\n"
      ],
      "text/latex": [
       "\\begin{enumerate*}\n",
       "\\item 73\n",
       "\\item 13806\n",
       "\\end{enumerate*}\n"
      ],
      "text/markdown": [
       "1. 73\n",
       "2. 13806\n",
       "\n",
       "\n"
      ],
      "text/plain": [
       "[1]    73 13806"
      ]
     },
     "metadata": {},
     "output_type": "display_data"
    },
    {
     "data": {
      "text/html": [
       "<style>\n",
       ".list-inline {list-style: none; margin:0; padding: 0}\n",
       ".list-inline>li {display: inline-block}\n",
       ".list-inline>li:not(:last-child)::after {content: \"\\00b7\"; padding: 0 .5ex}\n",
       "</style>\n",
       "<ol class=list-inline><li>909</li><li>13440</li></ol>\n"
      ],
      "text/latex": [
       "\\begin{enumerate*}\n",
       "\\item 909\n",
       "\\item 13440\n",
       "\\end{enumerate*}\n"
      ],
      "text/markdown": [
       "1. 909\n",
       "2. 13440\n",
       "\n",
       "\n"
      ],
      "text/plain": [
       "[1]   909 13440"
      ]
     },
     "metadata": {},
     "output_type": "display_data"
    },
    {
     "data": {
      "text/html": [
       "12050"
      ],
      "text/latex": [
       "12050"
      ],
      "text/markdown": [
       "12050"
      ],
      "text/plain": [
       "[1] 12050"
      ]
     },
     "metadata": {},
     "output_type": "display_data"
    }
   ],
   "source": [
    "dim(geno_dosage_AMP2RA)\n",
    "dim(geno_dosage_Smillie)\n",
    "dim(geno_dosage_Randolph)\n",
    "dim(geno_dosage_OneK1K)\n",
    "\n",
    "intersecting_variants = colnames(geno_dosage_AMP2RA) %>% \n",
    "                        intersect(colnames(geno_dosage_Smillie)) %>% intersect(colnames(geno_dosage_Randolph)) %>%\n",
    "                        intersect(colnames(geno_dosage_OneK1K))\n",
    "length(intersecting_variants)"
   ]
  },
  {
   "cell_type": "markdown",
   "id": "4068312a-58b0-48e0-964e-efcdb9fa8c52",
   "metadata": {},
   "source": [
    "Did any HLA alleles make it through the QC?"
   ]
  },
  {
   "cell_type": "code",
   "execution_count": 52,
   "id": "f4464d58-b345-49a1-8bac-fa28fb6de5e0",
   "metadata": {},
   "outputs": [
    {
     "data": {
      "text/html": [
       "112"
      ],
      "text/latex": [
       "112"
      ],
      "text/markdown": [
       "112"
      ],
      "text/plain": [
       "[1] 112"
      ]
     },
     "metadata": {},
     "output_type": "display_data"
    },
    {
     "data": {
      "text/html": [
       "<style>\n",
       ".list-inline {list-style: none; margin:0; padding: 0}\n",
       ".list-inline>li {display: inline-block}\n",
       ".list-inline>li:not(:last-child)::after {content: \"\\00b7\"; padding: 0 .5ex}\n",
       "</style>\n",
       "<ol class=list-inline><li>'HLA_A_01'</li><li>'HLA_A_01.01'</li><li>'HLA_A_02'</li><li>'HLA_A_02.01'</li><li>'HLA_A_03'</li><li>'HLA_A_03.01'</li><li>'HLA_A_11'</li><li>'HLA_A_23'</li><li>'HLA_A_23.01'</li><li>'HLA_A_24'</li><li>'HLA_A_24.02'</li><li>'HLA_A_29'</li><li>'HLA_A_29.02'</li><li>'HLA_A_68'</li><li>'HLA_A_68.01'</li><li>'HLA_C_01'</li><li>'HLA_C_01.02'</li><li>'HLA_C_02'</li><li>'HLA_C_02.02'</li><li>'HLA_C_03'</li><li>'HLA_C_03.03'</li><li>'HLA_C_03.04'</li><li>'HLA_C_04'</li><li>'HLA_C_04.01'</li><li>'HLA_C_05'</li><li>'HLA_C_05.01'</li><li>'HLA_C_06'</li><li>'HLA_C_06.02'</li><li>'HLA_C_07'</li><li>'HLA_C_07.01'</li><li>'HLA_C_07.02'</li><li>'HLA_C_07.04'</li><li>'HLA_C_08'</li><li>'HLA_C_08.02'</li><li>'HLA_C_12'</li><li>'HLA_C_12.03'</li><li>'HLA_C_16'</li><li>'HLA_C_16.01'</li><li>'HLA_B_07'</li><li>'HLA_B_07.02'</li><li>'HLA_B_08'</li><li>'HLA_B_08.01'</li><li>'HLA_B_14'</li><li>'HLA_B_15'</li><li>'HLA_B_15.01'</li><li>'HLA_B_27'</li><li>'HLA_B_27.05'</li><li>'HLA_B_35'</li><li>'HLA_B_35.01'</li><li>'HLA_B_35.03'</li><li>'HLA_B_38'</li><li>'HLA_B_44'</li><li>'HLA_B_44.02'</li><li>'HLA_B_44.03'</li><li>'HLA_B_51'</li><li>'HLA_B_51.01'</li><li>'HLA_B_57'</li><li>'HLA_B_57.01'</li><li>'HLA_DRB1_01'</li><li>'HLA_DRB1_03'</li><li>'HLA_DRB1_03.01'</li><li>'HLA_DRB1_04'</li><li>'HLA_DRB1_07'</li><li>'HLA_DRB1_07.01'</li><li>'HLA_DRB1_08'</li><li>'HLA_DRB1_11'</li><li>'HLA_DRB1_11.01'</li><li>'HLA_DRB1_13'</li><li>'HLA_DRB1_13.01'</li><li>'HLA_DRB1_15'</li><li>'HLA_DRB1_15.01'</li><li>'HLA_DQA1_01'</li><li>'HLA_DQA1_01.01'</li><li>'HLA_DQA1_01.02'</li><li>'HLA_DQA1_01.03'</li><li>'HLA_DQA1_02'</li><li>'HLA_DQA1_02.01'</li><li>'HLA_DQA1_03'</li><li>'HLA_DQA1_03.01'</li><li>'HLA_DQA1_04'</li><li>'HLA_DQA1_04.01'</li><li>'HLA_DQA1_05'</li><li>'HLA_DQA1_05.01'</li><li>'HLA_DQB1_02'</li><li>'HLA_DQB1_02.01'</li><li>'HLA_DQB1_03'</li><li>'HLA_DQB1_03.01'</li><li>'HLA_DQB1_03.02'</li><li>'HLA_DQB1_03.03'</li><li>'HLA_DQB1_04'</li><li>'HLA_DQB1_04.02'</li><li>'HLA_DQB1_05'</li><li>'HLA_DQB1_05.01'</li><li>'HLA_DQB1_06'</li><li>'HLA_DQB1_06.02'</li><li>'HLA_DQB1_06.03'</li><li>'HLA_DPA1_01'</li><li>'HLA_DPA1_01.03'</li><li>'HLA_DPA1_02'</li><li>'HLA_DPA1_02.01'</li><li>'HLA_DPA1_02.02'</li><li>'HLA_DPB1_01'</li><li>'HLA_DPB1_01.01'</li><li>'HLA_DPB1_02'</li><li>'HLA_DPB1_02.01'</li><li>'HLA_DPB1_03'</li><li>'HLA_DPB1_03.01'</li><li>'HLA_DPB1_04'</li><li>'HLA_DPB1_04.01'</li><li>'HLA_DPB1_04.02'</li><li>'HLA_DPB1_13'</li><li>'HLA_DPB1_13.01'</li></ol>\n"
      ],
      "text/latex": [
       "\\begin{enumerate*}\n",
       "\\item 'HLA\\_A\\_01'\n",
       "\\item 'HLA\\_A\\_01.01'\n",
       "\\item 'HLA\\_A\\_02'\n",
       "\\item 'HLA\\_A\\_02.01'\n",
       "\\item 'HLA\\_A\\_03'\n",
       "\\item 'HLA\\_A\\_03.01'\n",
       "\\item 'HLA\\_A\\_11'\n",
       "\\item 'HLA\\_A\\_23'\n",
       "\\item 'HLA\\_A\\_23.01'\n",
       "\\item 'HLA\\_A\\_24'\n",
       "\\item 'HLA\\_A\\_24.02'\n",
       "\\item 'HLA\\_A\\_29'\n",
       "\\item 'HLA\\_A\\_29.02'\n",
       "\\item 'HLA\\_A\\_68'\n",
       "\\item 'HLA\\_A\\_68.01'\n",
       "\\item 'HLA\\_C\\_01'\n",
       "\\item 'HLA\\_C\\_01.02'\n",
       "\\item 'HLA\\_C\\_02'\n",
       "\\item 'HLA\\_C\\_02.02'\n",
       "\\item 'HLA\\_C\\_03'\n",
       "\\item 'HLA\\_C\\_03.03'\n",
       "\\item 'HLA\\_C\\_03.04'\n",
       "\\item 'HLA\\_C\\_04'\n",
       "\\item 'HLA\\_C\\_04.01'\n",
       "\\item 'HLA\\_C\\_05'\n",
       "\\item 'HLA\\_C\\_05.01'\n",
       "\\item 'HLA\\_C\\_06'\n",
       "\\item 'HLA\\_C\\_06.02'\n",
       "\\item 'HLA\\_C\\_07'\n",
       "\\item 'HLA\\_C\\_07.01'\n",
       "\\item 'HLA\\_C\\_07.02'\n",
       "\\item 'HLA\\_C\\_07.04'\n",
       "\\item 'HLA\\_C\\_08'\n",
       "\\item 'HLA\\_C\\_08.02'\n",
       "\\item 'HLA\\_C\\_12'\n",
       "\\item 'HLA\\_C\\_12.03'\n",
       "\\item 'HLA\\_C\\_16'\n",
       "\\item 'HLA\\_C\\_16.01'\n",
       "\\item 'HLA\\_B\\_07'\n",
       "\\item 'HLA\\_B\\_07.02'\n",
       "\\item 'HLA\\_B\\_08'\n",
       "\\item 'HLA\\_B\\_08.01'\n",
       "\\item 'HLA\\_B\\_14'\n",
       "\\item 'HLA\\_B\\_15'\n",
       "\\item 'HLA\\_B\\_15.01'\n",
       "\\item 'HLA\\_B\\_27'\n",
       "\\item 'HLA\\_B\\_27.05'\n",
       "\\item 'HLA\\_B\\_35'\n",
       "\\item 'HLA\\_B\\_35.01'\n",
       "\\item 'HLA\\_B\\_35.03'\n",
       "\\item 'HLA\\_B\\_38'\n",
       "\\item 'HLA\\_B\\_44'\n",
       "\\item 'HLA\\_B\\_44.02'\n",
       "\\item 'HLA\\_B\\_44.03'\n",
       "\\item 'HLA\\_B\\_51'\n",
       "\\item 'HLA\\_B\\_51.01'\n",
       "\\item 'HLA\\_B\\_57'\n",
       "\\item 'HLA\\_B\\_57.01'\n",
       "\\item 'HLA\\_DRB1\\_01'\n",
       "\\item 'HLA\\_DRB1\\_03'\n",
       "\\item 'HLA\\_DRB1\\_03.01'\n",
       "\\item 'HLA\\_DRB1\\_04'\n",
       "\\item 'HLA\\_DRB1\\_07'\n",
       "\\item 'HLA\\_DRB1\\_07.01'\n",
       "\\item 'HLA\\_DRB1\\_08'\n",
       "\\item 'HLA\\_DRB1\\_11'\n",
       "\\item 'HLA\\_DRB1\\_11.01'\n",
       "\\item 'HLA\\_DRB1\\_13'\n",
       "\\item 'HLA\\_DRB1\\_13.01'\n",
       "\\item 'HLA\\_DRB1\\_15'\n",
       "\\item 'HLA\\_DRB1\\_15.01'\n",
       "\\item 'HLA\\_DQA1\\_01'\n",
       "\\item 'HLA\\_DQA1\\_01.01'\n",
       "\\item 'HLA\\_DQA1\\_01.02'\n",
       "\\item 'HLA\\_DQA1\\_01.03'\n",
       "\\item 'HLA\\_DQA1\\_02'\n",
       "\\item 'HLA\\_DQA1\\_02.01'\n",
       "\\item 'HLA\\_DQA1\\_03'\n",
       "\\item 'HLA\\_DQA1\\_03.01'\n",
       "\\item 'HLA\\_DQA1\\_04'\n",
       "\\item 'HLA\\_DQA1\\_04.01'\n",
       "\\item 'HLA\\_DQA1\\_05'\n",
       "\\item 'HLA\\_DQA1\\_05.01'\n",
       "\\item 'HLA\\_DQB1\\_02'\n",
       "\\item 'HLA\\_DQB1\\_02.01'\n",
       "\\item 'HLA\\_DQB1\\_03'\n",
       "\\item 'HLA\\_DQB1\\_03.01'\n",
       "\\item 'HLA\\_DQB1\\_03.02'\n",
       "\\item 'HLA\\_DQB1\\_03.03'\n",
       "\\item 'HLA\\_DQB1\\_04'\n",
       "\\item 'HLA\\_DQB1\\_04.02'\n",
       "\\item 'HLA\\_DQB1\\_05'\n",
       "\\item 'HLA\\_DQB1\\_05.01'\n",
       "\\item 'HLA\\_DQB1\\_06'\n",
       "\\item 'HLA\\_DQB1\\_06.02'\n",
       "\\item 'HLA\\_DQB1\\_06.03'\n",
       "\\item 'HLA\\_DPA1\\_01'\n",
       "\\item 'HLA\\_DPA1\\_01.03'\n",
       "\\item 'HLA\\_DPA1\\_02'\n",
       "\\item 'HLA\\_DPA1\\_02.01'\n",
       "\\item 'HLA\\_DPA1\\_02.02'\n",
       "\\item 'HLA\\_DPB1\\_01'\n",
       "\\item 'HLA\\_DPB1\\_01.01'\n",
       "\\item 'HLA\\_DPB1\\_02'\n",
       "\\item 'HLA\\_DPB1\\_02.01'\n",
       "\\item 'HLA\\_DPB1\\_03'\n",
       "\\item 'HLA\\_DPB1\\_03.01'\n",
       "\\item 'HLA\\_DPB1\\_04'\n",
       "\\item 'HLA\\_DPB1\\_04.01'\n",
       "\\item 'HLA\\_DPB1\\_04.02'\n",
       "\\item 'HLA\\_DPB1\\_13'\n",
       "\\item 'HLA\\_DPB1\\_13.01'\n",
       "\\end{enumerate*}\n"
      ],
      "text/markdown": [
       "1. 'HLA_A_01'\n",
       "2. 'HLA_A_01.01'\n",
       "3. 'HLA_A_02'\n",
       "4. 'HLA_A_02.01'\n",
       "5. 'HLA_A_03'\n",
       "6. 'HLA_A_03.01'\n",
       "7. 'HLA_A_11'\n",
       "8. 'HLA_A_23'\n",
       "9. 'HLA_A_23.01'\n",
       "10. 'HLA_A_24'\n",
       "11. 'HLA_A_24.02'\n",
       "12. 'HLA_A_29'\n",
       "13. 'HLA_A_29.02'\n",
       "14. 'HLA_A_68'\n",
       "15. 'HLA_A_68.01'\n",
       "16. 'HLA_C_01'\n",
       "17. 'HLA_C_01.02'\n",
       "18. 'HLA_C_02'\n",
       "19. 'HLA_C_02.02'\n",
       "20. 'HLA_C_03'\n",
       "21. 'HLA_C_03.03'\n",
       "22. 'HLA_C_03.04'\n",
       "23. 'HLA_C_04'\n",
       "24. 'HLA_C_04.01'\n",
       "25. 'HLA_C_05'\n",
       "26. 'HLA_C_05.01'\n",
       "27. 'HLA_C_06'\n",
       "28. 'HLA_C_06.02'\n",
       "29. 'HLA_C_07'\n",
       "30. 'HLA_C_07.01'\n",
       "31. 'HLA_C_07.02'\n",
       "32. 'HLA_C_07.04'\n",
       "33. 'HLA_C_08'\n",
       "34. 'HLA_C_08.02'\n",
       "35. 'HLA_C_12'\n",
       "36. 'HLA_C_12.03'\n",
       "37. 'HLA_C_16'\n",
       "38. 'HLA_C_16.01'\n",
       "39. 'HLA_B_07'\n",
       "40. 'HLA_B_07.02'\n",
       "41. 'HLA_B_08'\n",
       "42. 'HLA_B_08.01'\n",
       "43. 'HLA_B_14'\n",
       "44. 'HLA_B_15'\n",
       "45. 'HLA_B_15.01'\n",
       "46. 'HLA_B_27'\n",
       "47. 'HLA_B_27.05'\n",
       "48. 'HLA_B_35'\n",
       "49. 'HLA_B_35.01'\n",
       "50. 'HLA_B_35.03'\n",
       "51. 'HLA_B_38'\n",
       "52. 'HLA_B_44'\n",
       "53. 'HLA_B_44.02'\n",
       "54. 'HLA_B_44.03'\n",
       "55. 'HLA_B_51'\n",
       "56. 'HLA_B_51.01'\n",
       "57. 'HLA_B_57'\n",
       "58. 'HLA_B_57.01'\n",
       "59. 'HLA_DRB1_01'\n",
       "60. 'HLA_DRB1_03'\n",
       "61. 'HLA_DRB1_03.01'\n",
       "62. 'HLA_DRB1_04'\n",
       "63. 'HLA_DRB1_07'\n",
       "64. 'HLA_DRB1_07.01'\n",
       "65. 'HLA_DRB1_08'\n",
       "66. 'HLA_DRB1_11'\n",
       "67. 'HLA_DRB1_11.01'\n",
       "68. 'HLA_DRB1_13'\n",
       "69. 'HLA_DRB1_13.01'\n",
       "70. 'HLA_DRB1_15'\n",
       "71. 'HLA_DRB1_15.01'\n",
       "72. 'HLA_DQA1_01'\n",
       "73. 'HLA_DQA1_01.01'\n",
       "74. 'HLA_DQA1_01.02'\n",
       "75. 'HLA_DQA1_01.03'\n",
       "76. 'HLA_DQA1_02'\n",
       "77. 'HLA_DQA1_02.01'\n",
       "78. 'HLA_DQA1_03'\n",
       "79. 'HLA_DQA1_03.01'\n",
       "80. 'HLA_DQA1_04'\n",
       "81. 'HLA_DQA1_04.01'\n",
       "82. 'HLA_DQA1_05'\n",
       "83. 'HLA_DQA1_05.01'\n",
       "84. 'HLA_DQB1_02'\n",
       "85. 'HLA_DQB1_02.01'\n",
       "86. 'HLA_DQB1_03'\n",
       "87. 'HLA_DQB1_03.01'\n",
       "88. 'HLA_DQB1_03.02'\n",
       "89. 'HLA_DQB1_03.03'\n",
       "90. 'HLA_DQB1_04'\n",
       "91. 'HLA_DQB1_04.02'\n",
       "92. 'HLA_DQB1_05'\n",
       "93. 'HLA_DQB1_05.01'\n",
       "94. 'HLA_DQB1_06'\n",
       "95. 'HLA_DQB1_06.02'\n",
       "96. 'HLA_DQB1_06.03'\n",
       "97. 'HLA_DPA1_01'\n",
       "98. 'HLA_DPA1_01.03'\n",
       "99. 'HLA_DPA1_02'\n",
       "100. 'HLA_DPA1_02.01'\n",
       "101. 'HLA_DPA1_02.02'\n",
       "102. 'HLA_DPB1_01'\n",
       "103. 'HLA_DPB1_01.01'\n",
       "104. 'HLA_DPB1_02'\n",
       "105. 'HLA_DPB1_02.01'\n",
       "106. 'HLA_DPB1_03'\n",
       "107. 'HLA_DPB1_03.01'\n",
       "108. 'HLA_DPB1_04'\n",
       "109. 'HLA_DPB1_04.01'\n",
       "110. 'HLA_DPB1_04.02'\n",
       "111. 'HLA_DPB1_13'\n",
       "112. 'HLA_DPB1_13.01'\n",
       "\n",
       "\n"
      ],
      "text/plain": [
       "  [1] \"HLA_A_01\"       \"HLA_A_01.01\"    \"HLA_A_02\"       \"HLA_A_02.01\"   \n",
       "  [5] \"HLA_A_03\"       \"HLA_A_03.01\"    \"HLA_A_11\"       \"HLA_A_23\"      \n",
       "  [9] \"HLA_A_23.01\"    \"HLA_A_24\"       \"HLA_A_24.02\"    \"HLA_A_29\"      \n",
       " [13] \"HLA_A_29.02\"    \"HLA_A_68\"       \"HLA_A_68.01\"    \"HLA_C_01\"      \n",
       " [17] \"HLA_C_01.02\"    \"HLA_C_02\"       \"HLA_C_02.02\"    \"HLA_C_03\"      \n",
       " [21] \"HLA_C_03.03\"    \"HLA_C_03.04\"    \"HLA_C_04\"       \"HLA_C_04.01\"   \n",
       " [25] \"HLA_C_05\"       \"HLA_C_05.01\"    \"HLA_C_06\"       \"HLA_C_06.02\"   \n",
       " [29] \"HLA_C_07\"       \"HLA_C_07.01\"    \"HLA_C_07.02\"    \"HLA_C_07.04\"   \n",
       " [33] \"HLA_C_08\"       \"HLA_C_08.02\"    \"HLA_C_12\"       \"HLA_C_12.03\"   \n",
       " [37] \"HLA_C_16\"       \"HLA_C_16.01\"    \"HLA_B_07\"       \"HLA_B_07.02\"   \n",
       " [41] \"HLA_B_08\"       \"HLA_B_08.01\"    \"HLA_B_14\"       \"HLA_B_15\"      \n",
       " [45] \"HLA_B_15.01\"    \"HLA_B_27\"       \"HLA_B_27.05\"    \"HLA_B_35\"      \n",
       " [49] \"HLA_B_35.01\"    \"HLA_B_35.03\"    \"HLA_B_38\"       \"HLA_B_44\"      \n",
       " [53] \"HLA_B_44.02\"    \"HLA_B_44.03\"    \"HLA_B_51\"       \"HLA_B_51.01\"   \n",
       " [57] \"HLA_B_57\"       \"HLA_B_57.01\"    \"HLA_DRB1_01\"    \"HLA_DRB1_03\"   \n",
       " [61] \"HLA_DRB1_03.01\" \"HLA_DRB1_04\"    \"HLA_DRB1_07\"    \"HLA_DRB1_07.01\"\n",
       " [65] \"HLA_DRB1_08\"    \"HLA_DRB1_11\"    \"HLA_DRB1_11.01\" \"HLA_DRB1_13\"   \n",
       " [69] \"HLA_DRB1_13.01\" \"HLA_DRB1_15\"    \"HLA_DRB1_15.01\" \"HLA_DQA1_01\"   \n",
       " [73] \"HLA_DQA1_01.01\" \"HLA_DQA1_01.02\" \"HLA_DQA1_01.03\" \"HLA_DQA1_02\"   \n",
       " [77] \"HLA_DQA1_02.01\" \"HLA_DQA1_03\"    \"HLA_DQA1_03.01\" \"HLA_DQA1_04\"   \n",
       " [81] \"HLA_DQA1_04.01\" \"HLA_DQA1_05\"    \"HLA_DQA1_05.01\" \"HLA_DQB1_02\"   \n",
       " [85] \"HLA_DQB1_02.01\" \"HLA_DQB1_03\"    \"HLA_DQB1_03.01\" \"HLA_DQB1_03.02\"\n",
       " [89] \"HLA_DQB1_03.03\" \"HLA_DQB1_04\"    \"HLA_DQB1_04.02\" \"HLA_DQB1_05\"   \n",
       " [93] \"HLA_DQB1_05.01\" \"HLA_DQB1_06\"    \"HLA_DQB1_06.02\" \"HLA_DQB1_06.03\"\n",
       " [97] \"HLA_DPA1_01\"    \"HLA_DPA1_01.03\" \"HLA_DPA1_02\"    \"HLA_DPA1_02.01\"\n",
       "[101] \"HLA_DPA1_02.02\" \"HLA_DPB1_01\"    \"HLA_DPB1_01.01\" \"HLA_DPB1_02\"   \n",
       "[105] \"HLA_DPB1_02.01\" \"HLA_DPB1_03\"    \"HLA_DPB1_03.01\" \"HLA_DPB1_04\"   \n",
       "[109] \"HLA_DPB1_04.01\" \"HLA_DPB1_04.02\" \"HLA_DPB1_13\"    \"HLA_DPB1_13.01\""
      ]
     },
     "metadata": {},
     "output_type": "display_data"
    }
   ],
   "source": [
    "a = intersecting_variants[which(startsWith(intersecting_variants, 'HLA'))]\n",
    "length(a)\n",
    "a"
   ]
  },
  {
   "cell_type": "code",
   "execution_count": 53,
   "id": "a6fe9a47-13de-41ea-ab11-413029ec3b90",
   "metadata": {},
   "outputs": [],
   "source": [
    "geno_dosage_AMP2RA = geno_dosage_AMP2RA[, intersecting_variants]\n",
    "geno_dosage_Smillie = geno_dosage_Smillie[, intersecting_variants]\n",
    "geno_dosage_Randolph = geno_dosage_Randolph[, intersecting_variants] \n",
    "geno_dosage_OneK1K = geno_dosage_OneK1K[, intersecting_variants] \n",
    "class(geno_dosage_AMP2RA) = 'numeric'\n",
    "class(geno_dosage_Smillie) = 'numeric'\n",
    "class(geno_dosage_Randolph) = 'numeric'\n",
    "class(geno_dosage_OneK1K) = 'numeric'\n",
    "\n",
    "geno_df_AMP2RA = geno_df_AMP2RA %>% filter(ID %in% intersecting_variants)\n",
    "geno_df_Smillie = geno_df_Smillie %>% filter(ID %in% intersecting_variants)\n",
    "geno_df_Randolph = geno_df_Randolph %>% filter(ID %in% intersecting_variants)\n",
    "geno_df_OneK1K = geno_df_OneK1K %>% filter(ID %in% intersecting_variants)"
   ]
  },
  {
   "cell_type": "markdown",
   "id": "089c3e33-4cbe-4111-9a95-4efdea29561d",
   "metadata": {},
   "source": [
    "Confirmed that all REF/ALT is the same between the cohorts"
   ]
  },
  {
   "cell_type": "markdown",
   "id": "7c283720-29d9-4124-b1da-591d3f0740f7",
   "metadata": {},
   "source": [
    "## Plot histogram of MAF"
   ]
  },
  {
   "cell_type": "code",
   "execution_count": 54,
   "id": "efc5e12a-edb9-4ad6-adaa-80e5955fd1eb",
   "metadata": {},
   "outputs": [
    {
     "data": {
      "text/html": [
       "<style>\n",
       ".list-inline {list-style: none; margin:0; padding: 0}\n",
       ".list-inline>li {display: inline-block}\n",
       ".list-inline>li:not(:last-child)::after {content: \"\\00b7\"; padding: 0 .5ex}\n",
       "</style>\n",
       "<ol class=list-inline><li>69</li><li>12050</li></ol>\n"
      ],
      "text/latex": [
       "\\begin{enumerate*}\n",
       "\\item 69\n",
       "\\item 12050\n",
       "\\end{enumerate*}\n"
      ],
      "text/markdown": [
       "1. 69\n",
       "2. 12050\n",
       "\n",
       "\n"
      ],
      "text/plain": [
       "[1]    69 12050"
      ]
     },
     "metadata": {},
     "output_type": "display_data"
    },
    {
     "data": {
      "text/html": [
       "<style>\n",
       ".list-inline {list-style: none; margin:0; padding: 0}\n",
       ".list-inline>li {display: inline-block}\n",
       ".list-inline>li:not(:last-child)::after {content: \"\\00b7\"; padding: 0 .5ex}\n",
       "</style>\n",
       "<ol class=list-inline><li>22</li><li>12050</li></ol>\n"
      ],
      "text/latex": [
       "\\begin{enumerate*}\n",
       "\\item 22\n",
       "\\item 12050\n",
       "\\end{enumerate*}\n"
      ],
      "text/markdown": [
       "1. 22\n",
       "2. 12050\n",
       "\n",
       "\n"
      ],
      "text/plain": [
       "[1]    22 12050"
      ]
     },
     "metadata": {},
     "output_type": "display_data"
    },
    {
     "data": {
      "text/html": [
       "<style>\n",
       ".list-inline {list-style: none; margin:0; padding: 0}\n",
       ".list-inline>li {display: inline-block}\n",
       ".list-inline>li:not(:last-child)::after {content: \"\\00b7\"; padding: 0 .5ex}\n",
       "</style>\n",
       "<ol class=list-inline><li>73</li><li>12050</li></ol>\n"
      ],
      "text/latex": [
       "\\begin{enumerate*}\n",
       "\\item 73\n",
       "\\item 12050\n",
       "\\end{enumerate*}\n"
      ],
      "text/markdown": [
       "1. 73\n",
       "2. 12050\n",
       "\n",
       "\n"
      ],
      "text/plain": [
       "[1]    73 12050"
      ]
     },
     "metadata": {},
     "output_type": "display_data"
    },
    {
     "data": {
      "text/html": [
       "<style>\n",
       ".list-inline {list-style: none; margin:0; padding: 0}\n",
       ".list-inline>li {display: inline-block}\n",
       ".list-inline>li:not(:last-child)::after {content: \"\\00b7\"; padding: 0 .5ex}\n",
       "</style>\n",
       "<ol class=list-inline><li>909</li><li>12050</li></ol>\n"
      ],
      "text/latex": [
       "\\begin{enumerate*}\n",
       "\\item 909\n",
       "\\item 12050\n",
       "\\end{enumerate*}\n"
      ],
      "text/markdown": [
       "1. 909\n",
       "2. 12050\n",
       "\n",
       "\n"
      ],
      "text/plain": [
       "[1]   909 12050"
      ]
     },
     "metadata": {},
     "output_type": "display_data"
    },
    {
     "data": {
      "text/html": [
       "<style>\n",
       ".list-inline {list-style: none; margin:0; padding: 0}\n",
       ".list-inline>li {display: inline-block}\n",
       ".list-inline>li:not(:last-child)::after {content: \"\\00b7\"; padding: 0 .5ex}\n",
       "</style>\n",
       "<ol class=list-inline><li>1073</li><li>12050</li></ol>\n"
      ],
      "text/latex": [
       "\\begin{enumerate*}\n",
       "\\item 1073\n",
       "\\item 12050\n",
       "\\end{enumerate*}\n"
      ],
      "text/markdown": [
       "1. 1073\n",
       "2. 12050\n",
       "\n",
       "\n"
      ],
      "text/plain": [
       "[1]  1073 12050"
      ]
     },
     "metadata": {},
     "output_type": "display_data"
    },
    {
     "data": {
      "text/html": [
       "0.0112767940354147"
      ],
      "text/latex": [
       "0.0112767940354147"
      ],
      "text/markdown": [
       "0.0112767940354147"
      ],
      "text/plain": [
       "[1] 0.01127679"
      ]
     },
     "metadata": {},
     "output_type": "display_data"
    },
    {
     "data": {
      "image/png": "[encoded data removed]",
      "text/plain": [
       "Plot with title “Histogram of MAF”"
      ]
     },
     "metadata": {
      "image/png": {
       "height": 300,
       "width": 500
      }
     },
     "output_type": "display_data"
    }
   ],
   "source": [
    "dim(geno_dosage_AMP2RA)\n",
    "dim(geno_dosage_Smillie)\n",
    "dim(geno_dosage_Randolph)\n",
    "dim(geno_dosage_OneK1K)\n",
    "geno_dosage_all = rbind(geno_dosage_AMP2RA, geno_dosage_Smillie, geno_dosage_Randolph, geno_dosage_OneK1K)\n",
    "dim(geno_dosage_all)\n",
    "\n",
    "AF = Matrix::colSums(geno_dosage_all) / (2*nrow(geno_dosage_all))\n",
    "MAF = ifelse(AF < 0.5, AF, 1-AF)\n",
    "fig.size(3, 5)\n",
    "hist(MAF, breaks = 100)\n",
    "abline(v=0.01,col=\"red\",lwd=1)\n",
    "min(MAF)"
   ]
  },
  {
   "cell_type": "code",
   "execution_count": 55,
   "id": "6e39210e-bdc6-4f96-bd30-f57c5f1f80e5",
   "metadata": {},
   "outputs": [],
   "source": [
    "# Save sampleXdosage\n",
    "dir = '../../data/sampleXdosage/'\n",
    "saveRDS(geno_dosage_AMP2RA, paste0(dir, 'AMP2RA_sampleXdosage_final.rds'))\n",
    "saveRDS(geno_dosage_Smillie,paste0(dir, 'Smillie2019_sampleXdosage_final.rds'))\n",
    "saveRDS(geno_dosage_Randolph, paste0(dir, 'Randolph2021_sampleXdosage_final.rds'))\n",
    "saveRDS(geno_dosage_OneK1K, paste0(dir, 'OneK1K_sampleXdosage_final.rds'))\n",
    "\n",
    "# Save variant info\n",
    "saveRDS(geno_df_AMP2RA, paste0(dir, 'AMP2RA_variant_info_final.rds'))\n",
    "saveRDS(geno_df_Smillie, paste0(dir, 'Smillie2019_variant_info_final.rds'))\n",
    "saveRDS(geno_df_Randolph, paste0(dir, 'Randolph2021_variant_info_final.rds'))\n",
    "saveRDS(geno_df_OneK1K, paste0(dir, 'OneK1K_variant_info_final.rds'))"
   ]
  },
  {
   "cell_type": "markdown",
   "id": "8b64af6f-87a0-42fc-9582-65dc8a4dc83f",
   "metadata": {},
   "source": [
    "## Add cohort MAFs to variant info"
   ]
  },
  {
   "cell_type": "code",
   "execution_count": 56,
   "id": "d6e253d2-a490-45f3-a7d3-67617fafc947",
   "metadata": {},
   "outputs": [
    {
     "data": {
      "text/html": [
       "<table class=\"dataframe\">\n",
       "<caption>A data.frame: 6 × 11</caption>\n",
       "<thead>\n",
       "\t<tr><th></th><th scope=col>CHROM</th><th scope=col>POS</th><th scope=col>ID</th><th scope=col>REF</th><th scope=col>ALT</th><th scope=col>DR2</th><th scope=col>Imputed</th><th scope=col>AMP2RA_MAF</th><th scope=col>Smillie_MAF</th><th scope=col>Randolph_MAF</th><th scope=col>OneK1K_MAF</th></tr>\n",
       "\t<tr><th></th><th scope=col>&lt;chr&gt;</th><th scope=col>&lt;chr&gt;</th><th scope=col>&lt;chr&gt;</th><th scope=col>&lt;chr&gt;</th><th scope=col>&lt;chr&gt;</th><th scope=col>&lt;dbl&gt;</th><th scope=col>&lt;chr&gt;</th><th scope=col>&lt;dbl&gt;</th><th scope=col>&lt;dbl&gt;</th><th scope=col>&lt;dbl&gt;</th><th scope=col>&lt;dbl&gt;</th></tr>\n",
       "</thead>\n",
       "<tbody>\n",
       "\t<tr><th scope=row>1</th><td>chr6</td><td>28002253</td><td>rs149946  </td><td>G</td><td>T</td><td>0.98</td><td>IMP</td><td>0.22463768</td><td>0.22477273</td><td>0.36301370</td><td>0.22882288</td></tr>\n",
       "\t<tr><th scope=row>2</th><td>chr6</td><td>28008422</td><td>rs9380032 </td><td>G</td><td>T</td><td>0.95</td><td>IMP</td><td>0.02898551</td><td>0.02272727</td><td>0.02054795</td><td>0.02090209</td></tr>\n",
       "\t<tr><th scope=row>3</th><td>chr6</td><td>28011410</td><td>rs4141691 </td><td>A</td><td>G</td><td>0.92</td><td>IMP</td><td>0.06521739</td><td>0.14386364</td><td>0.18493151</td><td>0.09295930</td></tr>\n",
       "\t<tr><th scope=row>4</th><td>chr6</td><td>28011847</td><td>rs10484402</td><td>A</td><td>G</td><td>0.91</td><td>IMP</td><td>0.05797101</td><td>0.02340909</td><td>0.03424658</td><td>0.03300330</td></tr>\n",
       "\t<tr><th scope=row>5</th><td>chr6</td><td>28013895</td><td>rs9368540 </td><td>G</td><td>A</td><td>0.93</td><td>IMP</td><td>0.05072464</td><td>0.02272727</td><td>0.01369863</td><td>0.03905391</td></tr>\n",
       "\t<tr><th scope=row>6</th><td>chr6</td><td>28017129</td><td>rs17765055</td><td>T</td><td>C</td><td>0.95</td><td>IMP</td><td>0.07246377</td><td>0.02272727</td><td>0.01369863</td><td>0.05060506</td></tr>\n",
       "</tbody>\n",
       "</table>\n"
      ],
      "text/latex": [
       "A data.frame: 6 × 11\n",
       "\\begin{tabular}{r|lllllllllll}\n",
       "  & CHROM & POS & ID & REF & ALT & DR2 & Imputed & AMP2RA\\_MAF & Smillie\\_MAF & Randolph\\_MAF & OneK1K\\_MAF\\\\\n",
       "  & <chr> & <chr> & <chr> & <chr> & <chr> & <dbl> & <chr> & <dbl> & <dbl> & <dbl> & <dbl>\\\\\n",
       "\\hline\n",
       "\t1 & chr6 & 28002253 & rs149946   & G & T & 0.98 & IMP & 0.22463768 & 0.22477273 & 0.36301370 & 0.22882288\\\\\n",
       "\t2 & chr6 & 28008422 & rs9380032  & G & T & 0.95 & IMP & 0.02898551 & 0.02272727 & 0.02054795 & 0.02090209\\\\\n",
       "\t3 & chr6 & 28011410 & rs4141691  & A & G & 0.92 & IMP & 0.06521739 & 0.14386364 & 0.18493151 & 0.09295930\\\\\n",
       "\t4 & chr6 & 28011847 & rs10484402 & A & G & 0.91 & IMP & 0.05797101 & 0.02340909 & 0.03424658 & 0.03300330\\\\\n",
       "\t5 & chr6 & 28013895 & rs9368540  & G & A & 0.93 & IMP & 0.05072464 & 0.02272727 & 0.01369863 & 0.03905391\\\\\n",
       "\t6 & chr6 & 28017129 & rs17765055 & T & C & 0.95 & IMP & 0.07246377 & 0.02272727 & 0.01369863 & 0.05060506\\\\\n",
       "\\end{tabular}\n"
      ],
      "text/markdown": [
       "\n",
       "A data.frame: 6 × 11\n",
       "\n",
       "| <!--/--> | CHROM &lt;chr&gt; | POS &lt;chr&gt; | ID &lt;chr&gt; | REF &lt;chr&gt; | ALT &lt;chr&gt; | DR2 &lt;dbl&gt; | Imputed &lt;chr&gt; | AMP2RA_MAF &lt;dbl&gt; | Smillie_MAF &lt;dbl&gt; | Randolph_MAF &lt;dbl&gt; | OneK1K_MAF &lt;dbl&gt; |\n",
       "|---|---|---|---|---|---|---|---|---|---|---|---|\n",
       "| 1 | chr6 | 28002253 | rs149946   | G | T | 0.98 | IMP | 0.22463768 | 0.22477273 | 0.36301370 | 0.22882288 |\n",
       "| 2 | chr6 | 28008422 | rs9380032  | G | T | 0.95 | IMP | 0.02898551 | 0.02272727 | 0.02054795 | 0.02090209 |\n",
       "| 3 | chr6 | 28011410 | rs4141691  | A | G | 0.92 | IMP | 0.06521739 | 0.14386364 | 0.18493151 | 0.09295930 |\n",
       "| 4 | chr6 | 28011847 | rs10484402 | A | G | 0.91 | IMP | 0.05797101 | 0.02340909 | 0.03424658 | 0.03300330 |\n",
       "| 5 | chr6 | 28013895 | rs9368540  | G | A | 0.93 | IMP | 0.05072464 | 0.02272727 | 0.01369863 | 0.03905391 |\n",
       "| 6 | chr6 | 28017129 | rs17765055 | T | C | 0.95 | IMP | 0.07246377 | 0.02272727 | 0.01369863 | 0.05060506 |\n",
       "\n"
      ],
      "text/plain": [
       "  CHROM POS      ID         REF ALT DR2  Imputed AMP2RA_MAF Smillie_MAF\n",
       "1 chr6  28002253 rs149946   G   T   0.98 IMP     0.22463768 0.22477273 \n",
       "2 chr6  28008422 rs9380032  G   T   0.95 IMP     0.02898551 0.02272727 \n",
       "3 chr6  28011410 rs4141691  A   G   0.92 IMP     0.06521739 0.14386364 \n",
       "4 chr6  28011847 rs10484402 A   G   0.91 IMP     0.05797101 0.02340909 \n",
       "5 chr6  28013895 rs9368540  G   A   0.93 IMP     0.05072464 0.02272727 \n",
       "6 chr6  28017129 rs17765055 T   C   0.95 IMP     0.07246377 0.02272727 \n",
       "  Randolph_MAF OneK1K_MAF\n",
       "1 0.36301370   0.22882288\n",
       "2 0.02054795   0.02090209\n",
       "3 0.18493151   0.09295930\n",
       "4 0.03424658   0.03300330\n",
       "5 0.01369863   0.03905391\n",
       "6 0.01369863   0.05060506"
      ]
     },
     "metadata": {},
     "output_type": "display_data"
    }
   ],
   "source": [
    "variantInfo = geno_df_AMP2RA %>% dplyr::select(CHROM, POS, ID, REF, ALT, DR2, Imputed)\n",
    "\n",
    "# Add cohort-specific MAFs\n",
    "variantInfo$AMP2RA_MAF = geno_df_AMP2RA$newMAF\n",
    "variantInfo$Smillie_MAF = geno_df_Smillie$newMAF\n",
    "variantInfo$Randolph_MAF = geno_df_Randolph$newMAF\n",
    "variantInfo$OneK1K_MAF = geno_df_OneK1K$newMAF\n",
    "\n",
    "variantInfo %>% head()\n",
    "saveRDS(variantInfo, paste0(dir, 'four_cohorts_variant_info_final.rds'))"
   ]
  },
  {
   "cell_type": "code",
   "execution_count": 57,
   "id": "39e06c45-d98c-4331-8fed-da8eeac4a42e",
   "metadata": {},
   "outputs": [],
   "source": [
    "dir = '../../data/sampleXdosage/'\n",
    "variantInfo = readRDS(paste0(dir, 'four_cohorts_variant_info_final.rds'))"
   ]
  },
  {
   "cell_type": "markdown",
   "id": "40e6013a-db3b-4099-ba01-6eee63521cb1",
   "metadata": {},
   "source": [
    "Count how many of each variant type"
   ]
  },
  {
   "cell_type": "code",
   "execution_count": 58,
   "id": "7ed67250-1ed4-4d7b-92c0-748fd91259fe",
   "metadata": {},
   "outputs": [
    {
     "data": {
      "text/html": [
       "112"
      ],
      "text/latex": [
       "112"
      ],
      "text/markdown": [
       "112"
      ],
      "text/plain": [
       "[1] 112"
      ]
     },
     "metadata": {},
     "output_type": "display_data"
    },
    {
     "data": {
      "text/html": [
       "0"
      ],
      "text/latex": [
       "0"
      ],
      "text/markdown": [
       "0"
      ],
      "text/plain": [
       "[1] 0"
      ]
     },
     "metadata": {},
     "output_type": "display_data"
    },
    {
     "data": {
      "text/html": [
       "0"
      ],
      "text/latex": [
       "0"
      ],
      "text/markdown": [
       "0"
      ],
      "text/plain": [
       "[1] 0"
      ]
     },
     "metadata": {},
     "output_type": "display_data"
    },
    {
     "data": {
      "text/html": [
       "11938"
      ],
      "text/latex": [
       "11938"
      ],
      "text/markdown": [
       "11938"
      ],
      "text/plain": [
       "[1] 11938"
      ]
     },
     "metadata": {},
     "output_type": "display_data"
    },
    {
     "data": {
      "text/html": [
       "0"
      ],
      "text/latex": [
       "0"
      ],
      "text/markdown": [
       "0"
      ],
      "text/plain": [
       "[1] 0"
      ]
     },
     "metadata": {},
     "output_type": "display_data"
    }
   ],
   "source": [
    "variantInfo %>% filter(startsWith(ID, 'HLA')) %>% nrow()\n",
    "variantInfo %>% filter(startsWith(ID, 'SNPS')) %>% nrow()\n",
    "variantInfo %>% filter(startsWith(ID, 'INS')) %>% nrow()\n",
    "variantInfo %>% filter(startsWith(ID, 'rs')) %>% nrow()\n",
    "variantInfo %>% filter(startsWith(ID, 'AA')) %>% nrow()"
   ]
  },
  {
   "cell_type": "markdown",
   "id": "037d8bf7-ecb4-4e39-914a-fbbce8d95b59",
   "metadata": {},
   "source": [
    "Plot POS distribution across MHC"
   ]
  },
  {
   "cell_type": "code",
   "execution_count": 59,
   "id": "313b415d-c6dd-4b10-9ad4-f1c0e3e8b854",
   "metadata": {},
   "outputs": [
    {
     "data": {
      "text/html": [
       "<strong>png:</strong> 2"
      ],
      "text/latex": [
       "\\textbf{png:} 2"
      ],
      "text/markdown": [
       "**png:** 2"
      ],
      "text/plain": [
       "png \n",
       "  2 "
      ]
     },
     "metadata": {},
     "output_type": "display_data"
    },
    {
     "data": {
      "image/png": "[encoded data removed]",
      "text/plain": [
       "plot without title"
      ]
     },
     "metadata": {
      "image/png": {
       "height": 300,
       "width": 700
      }
     },
     "output_type": "display_data"
    }
   ],
   "source": [
    "fig.size(3, 7)\n",
    "pdf('../../SuppFigs/variant_distributions_MHC_Allvariants.pdf', width = 7, height = 3)\n",
    "p = variantInfo %>% \n",
    "    ggplot() +\n",
    "    geom_histogram(aes(x = as.numeric(POS)), size = 0.2, bins = 100) + theme_classic() +\n",
    "    ggtitle('Distribution of QCed variants across MHC region') +\n",
    "    xlab('Chr 6 position') + scale_y_continuous(trans=scales::pseudo_log_trans(base = 2))\n",
    "print(p)\n",
    "dev.off()\n",
    "p"
   ]
  },
  {
   "cell_type": "markdown",
   "id": "563a3da4-a7f1-4d5c-8385-18b1aeb68fb3",
   "metadata": {
    "tags": []
   },
   "source": [
    "# Double check integrity of lifting SNPs variants over"
   ]
  },
  {
   "cell_type": "markdown",
   "id": "3a9854be-df2b-4853-beab-39925a5fc644",
   "metadata": {},
   "source": [
    "Looks like for rs variants, REF/ALT are carried over after liftover.\n",
    "\n",
    "For HLA allele and intragenic variants, some REFs got changed."
   ]
  },
  {
   "cell_type": "code",
   "execution_count": 60,
   "id": "4d85f01d-9ef9-4c98-b3c8-0bc463ae306e",
   "metadata": {},
   "outputs": [],
   "source": [
    "vcf_SNP2HLA = read.vcfR('/data/srlab1/jkang/hla/data/Randolph2021/Randolph2021.final.SNP2HLA.imputed_MHC_hg19_chr_prefix.vcf', verbose = F)\n",
    "vcf_liftedOver = read.vcfR('/data/srlab1/jkang/hla/data/Randolph2021/Randolph2021.final.SNP2HLA.imputed_MHC_hg38_lifted_over.vcf', verbose = F)"
   ]
  },
  {
   "cell_type": "code",
   "execution_count": 61,
   "id": "94769bba-c3ed-4ce5-853c-89fa942fddb6",
   "metadata": {},
   "outputs": [
    {
     "data": {
      "text/html": [
       "4517"
      ],
      "text/latex": [
       "4517"
      ],
      "text/markdown": [
       "4517"
      ],
      "text/plain": [
       "[1] 4517"
      ]
     },
     "metadata": {},
     "output_type": "display_data"
    },
    {
     "data": {
      "text/html": [
       "5488"
      ],
      "text/latex": [
       "5488"
      ],
      "text/markdown": [
       "5488"
      ],
      "text/plain": [
       "[1] 5488"
      ]
     },
     "metadata": {},
     "output_type": "display_data"
    },
    {
     "data": {
      "text/html": [
       "FALSE"
      ],
      "text/latex": [
       "FALSE"
      ],
      "text/markdown": [
       "FALSE"
      ],
      "text/plain": [
       "[1] FALSE"
      ]
     },
     "metadata": {},
     "output_type": "display_data"
    },
    {
     "data": {
      "text/html": [
       "TRUE"
      ],
      "text/latex": [
       "TRUE"
      ],
      "text/markdown": [
       "TRUE"
      ],
      "text/plain": [
       "[1] TRUE"
      ]
     },
     "metadata": {},
     "output_type": "display_data"
    },
    {
     "data": {
      "text/html": [
       "TRUE"
      ],
      "text/latex": [
       "TRUE"
      ],
      "text/markdown": [
       "TRUE"
      ],
      "text/plain": [
       "[1] TRUE"
      ]
     },
     "metadata": {},
     "output_type": "display_data"
    },
    {
     "data": {
      "text/html": [
       "TRUE"
      ],
      "text/latex": [
       "TRUE"
      ],
      "text/markdown": [
       "TRUE"
      ],
      "text/plain": [
       "[1] TRUE"
      ]
     },
     "metadata": {},
     "output_type": "display_data"
    }
   ],
   "source": [
    "sum(startsWith(vcf_SNP2HLA@fix[, 'ID'], 'HLA')) + sum(startsWith(vcf_SNP2HLA@fix[, 'ID'], 'SNPS'))\n",
    "sum(vcf_SNP2HLA@fix[, 'REF'] != vcf_liftedOver@fix[, 'REF'] )\n",
    "vcf_SNP2HLA@fix[which(vcf_SNP2HLA@fix[, 'REF'] != vcf_liftedOver@fix[, 'REF'] ), 'ID'] %>% startsWith('rs') %>% any() \n",
    "# no rs got flipped\n",
    "vcf_SNP2HLA@fix[which(vcf_SNP2HLA@fix[, 'REF'] != vcf_liftedOver@fix[, 'REF'] ), 'ID'] %>% startsWith('SNPS') %>% any() \n",
    "# some SNPS got flipped\n",
    "vcf_SNP2HLA@fix[which(vcf_SNP2HLA@fix[, 'REF'] != vcf_liftedOver@fix[, 'REF'] ), 'ID'] %>% startsWith('HLA') %>% any() \n",
    "# some HLA alleles got flipped\n",
    "vcf_SNP2HLA@fix[which(vcf_SNP2HLA@fix[, 'REF'] != vcf_liftedOver@fix[, 'REF'] ), 'ID'] %>% startsWith('AA') %>% any() \n",
    "# some AAs got flipped"
   ]
  },
  {
   "cell_type": "code",
   "execution_count": 62,
   "id": "d8b7c060-bc91-4a6f-8866-9400befaef9e",
   "metadata": {},
   "outputs": [
    {
     "data": {
      "text/html": [
       "<table class=\"dataframe\">\n",
       "<caption>A matrix: 4 × 8 of type chr</caption>\n",
       "<thead>\n",
       "\t<tr><th scope=col>CHROM</th><th scope=col>POS</th><th scope=col>ID</th><th scope=col>REF</th><th scope=col>ALT</th><th scope=col>QUAL</th><th scope=col>FILTER</th><th scope=col>INFO</th></tr>\n",
       "</thead>\n",
       "<tbody>\n",
       "\t<tr><td>chr6</td><td>29910247</td><td>HLA_A*01   </td><td>A</td><td>T</td><td>NA</td><td>PASS</td><td>AR2=0.93;DR2=0.94;AF=0.11;IMP  </td></tr>\n",
       "\t<tr><td>chr6</td><td>29910249</td><td>HLA_A*01:02</td><td>A</td><td>T</td><td>NA</td><td>PASS</td><td>AR2=0.68;DR2=0.68;AF=0.0075;IMP</td></tr>\n",
       "\t<tr><td>chr6</td><td>29910252</td><td>HLA_A*02:01</td><td>A</td><td>T</td><td>NA</td><td>PASS</td><td>AR2=0.94;DR2=0.94;AF=0.20;IMP  </td></tr>\n",
       "\t<tr><td>chr6</td><td>29910253</td><td>HLA_A*02:02</td><td>A</td><td>T</td><td>NA</td><td>PASS</td><td>AR2=0.85;DR2=0.85;AF=0.013;IMP </td></tr>\n",
       "</tbody>\n",
       "</table>\n"
      ],
      "text/latex": [
       "A matrix: 4 × 8 of type chr\n",
       "\\begin{tabular}{llllllll}\n",
       " CHROM & POS & ID & REF & ALT & QUAL & FILTER & INFO\\\\\n",
       "\\hline\n",
       "\t chr6 & 29910247 & HLA\\_A*01    & A & T & NA & PASS & AR2=0.93;DR2=0.94;AF=0.11;IMP  \\\\\n",
       "\t chr6 & 29910249 & HLA\\_A*01:02 & A & T & NA & PASS & AR2=0.68;DR2=0.68;AF=0.0075;IMP\\\\\n",
       "\t chr6 & 29910252 & HLA\\_A*02:01 & A & T & NA & PASS & AR2=0.94;DR2=0.94;AF=0.20;IMP  \\\\\n",
       "\t chr6 & 29910253 & HLA\\_A*02:02 & A & T & NA & PASS & AR2=0.85;DR2=0.85;AF=0.013;IMP \\\\\n",
       "\\end{tabular}\n"
      ],
      "text/markdown": [
       "\n",
       "A matrix: 4 × 8 of type chr\n",
       "\n",
       "| CHROM | POS | ID | REF | ALT | QUAL | FILTER | INFO |\n",
       "|---|---|---|---|---|---|---|---|\n",
       "| chr6 | 29910247 | HLA_A*01    | A | T | NA | PASS | AR2=0.93;DR2=0.94;AF=0.11;IMP   |\n",
       "| chr6 | 29910249 | HLA_A*01:02 | A | T | NA | PASS | AR2=0.68;DR2=0.68;AF=0.0075;IMP |\n",
       "| chr6 | 29910252 | HLA_A*02:01 | A | T | NA | PASS | AR2=0.94;DR2=0.94;AF=0.20;IMP   |\n",
       "| chr6 | 29910253 | HLA_A*02:02 | A | T | NA | PASS | AR2=0.85;DR2=0.85;AF=0.013;IMP  |\n",
       "\n"
      ],
      "text/plain": [
       "     CHROM POS      ID          REF ALT QUAL FILTER\n",
       "[1,] chr6  29910247 HLA_A*01    A   T   NA   PASS  \n",
       "[2,] chr6  29910249 HLA_A*01:02 A   T   NA   PASS  \n",
       "[3,] chr6  29910252 HLA_A*02:01 A   T   NA   PASS  \n",
       "[4,] chr6  29910253 HLA_A*02:02 A   T   NA   PASS  \n",
       "     INFO                           \n",
       "[1,] AR2=0.93;DR2=0.94;AF=0.11;IMP  \n",
       "[2,] AR2=0.68;DR2=0.68;AF=0.0075;IMP\n",
       "[3,] AR2=0.94;DR2=0.94;AF=0.20;IMP  \n",
       "[4,] AR2=0.85;DR2=0.85;AF=0.013;IMP "
      ]
     },
     "metadata": {},
     "output_type": "display_data"
    },
    {
     "data": {
      "text/html": [
       "<table class=\"dataframe\">\n",
       "<caption>A matrix: 4 × 8 of type chr</caption>\n",
       "<thead>\n",
       "\t<tr><th scope=col>CHROM</th><th scope=col>POS</th><th scope=col>ID</th><th scope=col>REF</th><th scope=col>ALT</th><th scope=col>QUAL</th><th scope=col>FILTER</th><th scope=col>INFO</th></tr>\n",
       "</thead>\n",
       "<tbody>\n",
       "\t<tr><td>chr6</td><td>29942470</td><td>HLA_A*01   </td><td>G</td><td>T</td><td>NA</td><td>PASS</td><td>AR2=0.93;DR2=0.94;AF=0.11;IMP  </td></tr>\n",
       "\t<tr><td>chr6</td><td>29942472</td><td>HLA_A*01:02</td><td>G</td><td>T</td><td>NA</td><td>PASS</td><td>AR2=0.68;DR2=0.68;AF=0.0075;IMP</td></tr>\n",
       "\t<tr><td>chr6</td><td>29942475</td><td>HLA_A*02:01</td><td>G</td><td>T</td><td>NA</td><td>PASS</td><td>AR2=0.94;DR2=0.94;AF=0.20;IMP  </td></tr>\n",
       "\t<tr><td>chr6</td><td>29942476</td><td>HLA_A*02:02</td><td>C</td><td>T</td><td>NA</td><td>PASS</td><td>AR2=0.85;DR2=0.85;AF=0.013;IMP </td></tr>\n",
       "</tbody>\n",
       "</table>\n"
      ],
      "text/latex": [
       "A matrix: 4 × 8 of type chr\n",
       "\\begin{tabular}{llllllll}\n",
       " CHROM & POS & ID & REF & ALT & QUAL & FILTER & INFO\\\\\n",
       "\\hline\n",
       "\t chr6 & 29942470 & HLA\\_A*01    & G & T & NA & PASS & AR2=0.93;DR2=0.94;AF=0.11;IMP  \\\\\n",
       "\t chr6 & 29942472 & HLA\\_A*01:02 & G & T & NA & PASS & AR2=0.68;DR2=0.68;AF=0.0075;IMP\\\\\n",
       "\t chr6 & 29942475 & HLA\\_A*02:01 & G & T & NA & PASS & AR2=0.94;DR2=0.94;AF=0.20;IMP  \\\\\n",
       "\t chr6 & 29942476 & HLA\\_A*02:02 & C & T & NA & PASS & AR2=0.85;DR2=0.85;AF=0.013;IMP \\\\\n",
       "\\end{tabular}\n"
      ],
      "text/markdown": [
       "\n",
       "A matrix: 4 × 8 of type chr\n",
       "\n",
       "| CHROM | POS | ID | REF | ALT | QUAL | FILTER | INFO |\n",
       "|---|---|---|---|---|---|---|---|\n",
       "| chr6 | 29942470 | HLA_A*01    | G | T | NA | PASS | AR2=0.93;DR2=0.94;AF=0.11;IMP   |\n",
       "| chr6 | 29942472 | HLA_A*01:02 | G | T | NA | PASS | AR2=0.68;DR2=0.68;AF=0.0075;IMP |\n",
       "| chr6 | 29942475 | HLA_A*02:01 | G | T | NA | PASS | AR2=0.94;DR2=0.94;AF=0.20;IMP   |\n",
       "| chr6 | 29942476 | HLA_A*02:02 | C | T | NA | PASS | AR2=0.85;DR2=0.85;AF=0.013;IMP  |\n",
       "\n"
      ],
      "text/plain": [
       "     CHROM POS      ID          REF ALT QUAL FILTER\n",
       "[1,] chr6  29942470 HLA_A*01    G   T   NA   PASS  \n",
       "[2,] chr6  29942472 HLA_A*01:02 G   T   NA   PASS  \n",
       "[3,] chr6  29942475 HLA_A*02:01 G   T   NA   PASS  \n",
       "[4,] chr6  29942476 HLA_A*02:02 C   T   NA   PASS  \n",
       "     INFO                           \n",
       "[1,] AR2=0.93;DR2=0.94;AF=0.11;IMP  \n",
       "[2,] AR2=0.68;DR2=0.68;AF=0.0075;IMP\n",
       "[3,] AR2=0.94;DR2=0.94;AF=0.20;IMP  \n",
       "[4,] AR2=0.85;DR2=0.85;AF=0.013;IMP "
      ]
     },
     "metadata": {},
     "output_type": "display_data"
    },
    {
     "data": {
      "text/html": [
       "TRUE"
      ],
      "text/latex": [
       "TRUE"
      ],
      "text/markdown": [
       "TRUE"
      ],
      "text/plain": [
       "[1] TRUE"
      ]
     },
     "metadata": {},
     "output_type": "display_data"
    }
   ],
   "source": [
    "# Example variants where REF was changed\n",
    "vcf_SNP2HLA@fix[which(vcf_SNP2HLA@fix[, 'REF'] != vcf_liftedOver@fix[, 'REF'] ),] %>% head(4)\n",
    "vcf_liftedOver@fix[which(vcf_SNP2HLA@fix[, 'REF'] != vcf_liftedOver@fix[, 'REF'] ),] %>% head(4)\n",
    "all(vcf_SNP2HLA@fix[,'ALT'] == vcf_liftedOver@fix[,'ALT']) # ALT values did not get changed"
   ]
  },
  {
   "cell_type": "markdown",
   "id": "866a058c-89c2-4e87-9fc5-1dc08f32a933",
   "metadata": {},
   "source": [
    "## Carry over the original REF allele"
   ]
  },
  {
   "cell_type": "markdown",
   "id": "5058144f-3557-4376-a76b-3ebca4cbaf3d",
   "metadata": {},
   "source": [
    "Fix the REF/ALT and POS in the variant info"
   ]
  },
  {
   "cell_type": "code",
   "execution_count": 63,
   "id": "ff38af30-f8cc-4428-bada-6b1e07b5688d",
   "metadata": {},
   "outputs": [
    {
     "name": "stderr",
     "output_type": "stream",
     "text": [
      "Before fix\n",
      "\n"
     ]
    },
    {
     "data": {
      "text/html": [
       "<table class=\"dataframe\">\n",
       "<caption>A data.frame: 2 × 12</caption>\n",
       "<thead>\n",
       "\t<tr><th></th><th scope=col>CHROM</th><th scope=col>POS</th><th scope=col>ID</th><th scope=col>REF</th><th scope=col>ALT</th><th scope=col>DR2</th><th scope=col>Imputed</th><th scope=col>AMP2RA_MAF</th><th scope=col>Smillie_MAF</th><th scope=col>Randolph_MAF</th><th scope=col>OneK1K_MAF</th><th scope=col>hg19_POS</th></tr>\n",
       "\t<tr><th></th><th scope=col>&lt;chr&gt;</th><th scope=col>&lt;chr&gt;</th><th scope=col>&lt;chr&gt;</th><th scope=col>&lt;chr&gt;</th><th scope=col>&lt;chr&gt;</th><th scope=col>&lt;dbl&gt;</th><th scope=col>&lt;chr&gt;</th><th scope=col>&lt;dbl&gt;</th><th scope=col>&lt;dbl&gt;</th><th scope=col>&lt;dbl&gt;</th><th scope=col>&lt;dbl&gt;</th><th scope=col>&lt;chr&gt;</th></tr>\n",
       "</thead>\n",
       "<tbody>\n",
       "\t<tr><th scope=row>111</th><td>chr6</td><td>33075950</td><td>HLA_DPB1_13   </td><td>A</td><td>T</td><td>0.9</td><td>IMP</td><td>0.05072464</td><td>0.02272727</td><td>0.03424658</td><td>0.01925193</td><td>33043727</td></tr>\n",
       "\t<tr><th scope=row>112</th><td>chr6</td><td>33075953</td><td>HLA_DPB1_13.01</td><td>A</td><td>T</td><td>0.9</td><td>IMP</td><td>0.05072464</td><td>0.02272727</td><td>0.03424658</td><td>0.01925193</td><td>33043730</td></tr>\n",
       "</tbody>\n",
       "</table>\n"
      ],
      "text/latex": [
       "A data.frame: 2 × 12\n",
       "\\begin{tabular}{r|llllllllllll}\n",
       "  & CHROM & POS & ID & REF & ALT & DR2 & Imputed & AMP2RA\\_MAF & Smillie\\_MAF & Randolph\\_MAF & OneK1K\\_MAF & hg19\\_POS\\\\\n",
       "  & <chr> & <chr> & <chr> & <chr> & <chr> & <dbl> & <chr> & <dbl> & <dbl> & <dbl> & <dbl> & <chr>\\\\\n",
       "\\hline\n",
       "\t111 & chr6 & 33075950 & HLA\\_DPB1\\_13    & A & T & 0.9 & IMP & 0.05072464 & 0.02272727 & 0.03424658 & 0.01925193 & 33043727\\\\\n",
       "\t112 & chr6 & 33075953 & HLA\\_DPB1\\_13.01 & A & T & 0.9 & IMP & 0.05072464 & 0.02272727 & 0.03424658 & 0.01925193 & 33043730\\\\\n",
       "\\end{tabular}\n"
      ],
      "text/markdown": [
       "\n",
       "A data.frame: 2 × 12\n",
       "\n",
       "| <!--/--> | CHROM &lt;chr&gt; | POS &lt;chr&gt; | ID &lt;chr&gt; | REF &lt;chr&gt; | ALT &lt;chr&gt; | DR2 &lt;dbl&gt; | Imputed &lt;chr&gt; | AMP2RA_MAF &lt;dbl&gt; | Smillie_MAF &lt;dbl&gt; | Randolph_MAF &lt;dbl&gt; | OneK1K_MAF &lt;dbl&gt; | hg19_POS &lt;chr&gt; |\n",
       "|---|---|---|---|---|---|---|---|---|---|---|---|---|\n",
       "| 111 | chr6 | 33075950 | HLA_DPB1_13    | A | T | 0.9 | IMP | 0.05072464 | 0.02272727 | 0.03424658 | 0.01925193 | 33043727 |\n",
       "| 112 | chr6 | 33075953 | HLA_DPB1_13.01 | A | T | 0.9 | IMP | 0.05072464 | 0.02272727 | 0.03424658 | 0.01925193 | 33043730 |\n",
       "\n"
      ],
      "text/plain": [
       "    CHROM POS      ID             REF ALT DR2 Imputed AMP2RA_MAF Smillie_MAF\n",
       "111 chr6  33075950 HLA_DPB1_13    A   T   0.9 IMP     0.05072464 0.02272727 \n",
       "112 chr6  33075953 HLA_DPB1_13.01 A   T   0.9 IMP     0.05072464 0.02272727 \n",
       "    Randolph_MAF OneK1K_MAF hg19_POS\n",
       "111 0.03424658   0.01925193 33043727\n",
       "112 0.03424658   0.01925193 33043730"
      ]
     },
     "metadata": {},
     "output_type": "display_data"
    },
    {
     "name": "stderr",
     "output_type": "stream",
     "text": [
      "After fix\n",
      "\n"
     ]
    },
    {
     "data": {
      "text/html": [
       "<table class=\"dataframe\">\n",
       "<caption>A data.frame: 2 × 12</caption>\n",
       "<thead>\n",
       "\t<tr><th></th><th scope=col>CHROM</th><th scope=col>POS</th><th scope=col>ID</th><th scope=col>REF</th><th scope=col>ALT</th><th scope=col>DR2</th><th scope=col>Imputed</th><th scope=col>AMP2RA_MAF</th><th scope=col>Smillie_MAF</th><th scope=col>Randolph_MAF</th><th scope=col>OneK1K_MAF</th><th scope=col>hg19_POS</th></tr>\n",
       "\t<tr><th></th><th scope=col>&lt;chr&gt;</th><th scope=col>&lt;chr&gt;</th><th scope=col>&lt;chr&gt;</th><th scope=col>&lt;chr&gt;</th><th scope=col>&lt;chr&gt;</th><th scope=col>&lt;dbl&gt;</th><th scope=col>&lt;chr&gt;</th><th scope=col>&lt;dbl&gt;</th><th scope=col>&lt;dbl&gt;</th><th scope=col>&lt;dbl&gt;</th><th scope=col>&lt;dbl&gt;</th><th scope=col>&lt;chr&gt;</th></tr>\n",
       "</thead>\n",
       "<tbody>\n",
       "\t<tr><th scope=row>111</th><td>chr6</td><td>33075950</td><td>HLA_DPB1_13   </td><td>A</td><td>T</td><td>0.9</td><td>IMP</td><td>0.05072464</td><td>0.02272727</td><td>0.03424658</td><td>0.01925193</td><td>33043727</td></tr>\n",
       "\t<tr><th scope=row>112</th><td>chr6</td><td>33075953</td><td>HLA_DPB1_13.01</td><td>A</td><td>T</td><td>0.9</td><td>IMP</td><td>0.05072464</td><td>0.02272727</td><td>0.03424658</td><td>0.01925193</td><td>33043730</td></tr>\n",
       "</tbody>\n",
       "</table>\n"
      ],
      "text/latex": [
       "A data.frame: 2 × 12\n",
       "\\begin{tabular}{r|llllllllllll}\n",
       "  & CHROM & POS & ID & REF & ALT & DR2 & Imputed & AMP2RA\\_MAF & Smillie\\_MAF & Randolph\\_MAF & OneK1K\\_MAF & hg19\\_POS\\\\\n",
       "  & <chr> & <chr> & <chr> & <chr> & <chr> & <dbl> & <chr> & <dbl> & <dbl> & <dbl> & <dbl> & <chr>\\\\\n",
       "\\hline\n",
       "\t111 & chr6 & 33075950 & HLA\\_DPB1\\_13    & A & T & 0.9 & IMP & 0.05072464 & 0.02272727 & 0.03424658 & 0.01925193 & 33043727\\\\\n",
       "\t112 & chr6 & 33075953 & HLA\\_DPB1\\_13.01 & A & T & 0.9 & IMP & 0.05072464 & 0.02272727 & 0.03424658 & 0.01925193 & 33043730\\\\\n",
       "\\end{tabular}\n"
      ],
      "text/markdown": [
       "\n",
       "A data.frame: 2 × 12\n",
       "\n",
       "| <!--/--> | CHROM &lt;chr&gt; | POS &lt;chr&gt; | ID &lt;chr&gt; | REF &lt;chr&gt; | ALT &lt;chr&gt; | DR2 &lt;dbl&gt; | Imputed &lt;chr&gt; | AMP2RA_MAF &lt;dbl&gt; | Smillie_MAF &lt;dbl&gt; | Randolph_MAF &lt;dbl&gt; | OneK1K_MAF &lt;dbl&gt; | hg19_POS &lt;chr&gt; |\n",
       "|---|---|---|---|---|---|---|---|---|---|---|---|---|\n",
       "| 111 | chr6 | 33075950 | HLA_DPB1_13    | A | T | 0.9 | IMP | 0.05072464 | 0.02272727 | 0.03424658 | 0.01925193 | 33043727 |\n",
       "| 112 | chr6 | 33075953 | HLA_DPB1_13.01 | A | T | 0.9 | IMP | 0.05072464 | 0.02272727 | 0.03424658 | 0.01925193 | 33043730 |\n",
       "\n"
      ],
      "text/plain": [
       "    CHROM POS      ID             REF ALT DR2 Imputed AMP2RA_MAF Smillie_MAF\n",
       "111 chr6  33075950 HLA_DPB1_13    A   T   0.9 IMP     0.05072464 0.02272727 \n",
       "112 chr6  33075953 HLA_DPB1_13.01 A   T   0.9 IMP     0.05072464 0.02272727 \n",
       "    Randolph_MAF OneK1K_MAF hg19_POS\n",
       "111 0.03424658   0.01925193 33043727\n",
       "112 0.03424658   0.01925193 33043730"
      ]
     },
     "metadata": {},
     "output_type": "display_data"
    }
   ],
   "source": [
    "dir = '/data/srlab1/jkang/hla/data/combined_AMP_Randolph_Smillie/sampleXdosage/'\n",
    "variantInfo = readRDS(paste0(dir, 'four_cohorts_variant_info_final.rds'))\n",
    "\n",
    "message('Before fix')\n",
    "variantInfo %>% filter(startsWith(ID, 'HLA')) %>% tail(2)\n",
    "\n",
    "# Change colons and asteriks in HLA allele names\n",
    "vcf_SNP2HLA@fix[, 'ID'] = stringr::str_replace_all(vcf_SNP2HLA@fix[,'ID'], ':', '.')\n",
    "vcf_SNP2HLA@fix[, 'ID'] = stringr::str_replace(vcf_SNP2HLA@fix[, 'ID'], '\\\\*', '_')\n",
    "\n",
    "variantInfo$hg19_POS = 0\n",
    "for (i in 1:nrow(variantInfo)) {\n",
    "    idx_match = which(vcf_SNP2HLA@fix[, 'ID'] == variantInfo$ID[i])\n",
    "    if (length(idx_match) > 1) { message('more than one variant matched') }\n",
    "    if (length(idx_match) == 0) { message('no variant matched') }\n",
    "    variantInfo$REF[i] = vcf_SNP2HLA@fix[idx_match, 'REF']\n",
    "    variantInfo$hg19_POS[i] = vcf_SNP2HLA@fix[idx_match, 'POS']\n",
    "}\n",
    "\n",
    "message('After fix')\n",
    "variantInfo %>% filter(startsWith(ID, 'HLA')) %>% tail(2)\n",
    "\n",
    "saveRDS(variantInfo, paste0(dir, 'four_cohorts_variant_info_final.rds'))"
   ]
  },
  {
   "cell_type": "markdown",
   "id": "7b415466-5597-432d-bc6d-fcdb3f49e5e2",
   "metadata": {},
   "source": [
    "# Write supp table"
   ]
  },
  {
   "cell_type": "code",
   "execution_count": 71,
   "id": "f21583b4-1c72-4694-b038-9aeea4da8396",
   "metadata": {},
   "outputs": [
    {
     "data": {
      "text/html": [
       "<table class=\"dataframe\">\n",
       "<caption>A data.frame: 6 × 11</caption>\n",
       "<thead>\n",
       "\t<tr><th></th><th scope=col>CHROM</th><th scope=col>POS</th><th scope=col>ID</th><th scope=col>REF</th><th scope=col>ALT</th><th scope=col>DR2</th><th scope=col>hg19_POS</th><th scope=col>Synovium_MAF</th><th scope=col>Intestine_MAF</th><th scope=col>PBMC_cultured_MAF</th><th scope=col>PBMC_blood_MAF</th></tr>\n",
       "\t<tr><th></th><th scope=col>&lt;chr&gt;</th><th scope=col>&lt;chr&gt;</th><th scope=col>&lt;chr&gt;</th><th scope=col>&lt;chr&gt;</th><th scope=col>&lt;chr&gt;</th><th scope=col>&lt;dbl&gt;</th><th scope=col>&lt;chr&gt;</th><th scope=col>&lt;dbl&gt;</th><th scope=col>&lt;dbl&gt;</th><th scope=col>&lt;dbl&gt;</th><th scope=col>&lt;dbl&gt;</th></tr>\n",
       "</thead>\n",
       "<tbody>\n",
       "\t<tr><th scope=row>1</th><td>chr6</td><td>28002253</td><td>rs149946  </td><td>G</td><td>T</td><td>0.98</td><td>27970031</td><td>0.225</td><td>0.225</td><td>0.363</td><td>0.229</td></tr>\n",
       "\t<tr><th scope=row>2</th><td>chr6</td><td>28008422</td><td>rs9380032 </td><td>G</td><td>T</td><td>0.95</td><td>27976200</td><td>0.029</td><td>0.023</td><td>0.021</td><td>0.021</td></tr>\n",
       "\t<tr><th scope=row>3</th><td>chr6</td><td>28011410</td><td>rs4141691 </td><td>A</td><td>G</td><td>0.92</td><td>27979188</td><td>0.065</td><td>0.144</td><td>0.185</td><td>0.093</td></tr>\n",
       "\t<tr><th scope=row>4</th><td>chr6</td><td>28011847</td><td>rs10484402</td><td>A</td><td>G</td><td>0.91</td><td>27979625</td><td>0.058</td><td>0.023</td><td>0.034</td><td>0.033</td></tr>\n",
       "\t<tr><th scope=row>5</th><td>chr6</td><td>28013895</td><td>rs9368540 </td><td>G</td><td>A</td><td>0.93</td><td>27981673</td><td>0.051</td><td>0.023</td><td>0.014</td><td>0.039</td></tr>\n",
       "\t<tr><th scope=row>6</th><td>chr6</td><td>28017129</td><td>rs17765055</td><td>T</td><td>C</td><td>0.95</td><td>27984907</td><td>0.072</td><td>0.023</td><td>0.014</td><td>0.051</td></tr>\n",
       "</tbody>\n",
       "</table>\n"
      ],
      "text/latex": [
       "A data.frame: 6 × 11\n",
       "\\begin{tabular}{r|lllllllllll}\n",
       "  & CHROM & POS & ID & REF & ALT & DR2 & hg19\\_POS & Synovium\\_MAF & Intestine\\_MAF & PBMC\\_cultured\\_MAF & PBMC\\_blood\\_MAF\\\\\n",
       "  & <chr> & <chr> & <chr> & <chr> & <chr> & <dbl> & <chr> & <dbl> & <dbl> & <dbl> & <dbl>\\\\\n",
       "\\hline\n",
       "\t1 & chr6 & 28002253 & rs149946   & G & T & 0.98 & 27970031 & 0.225 & 0.225 & 0.363 & 0.229\\\\\n",
       "\t2 & chr6 & 28008422 & rs9380032  & G & T & 0.95 & 27976200 & 0.029 & 0.023 & 0.021 & 0.021\\\\\n",
       "\t3 & chr6 & 28011410 & rs4141691  & A & G & 0.92 & 27979188 & 0.065 & 0.144 & 0.185 & 0.093\\\\\n",
       "\t4 & chr6 & 28011847 & rs10484402 & A & G & 0.91 & 27979625 & 0.058 & 0.023 & 0.034 & 0.033\\\\\n",
       "\t5 & chr6 & 28013895 & rs9368540  & G & A & 0.93 & 27981673 & 0.051 & 0.023 & 0.014 & 0.039\\\\\n",
       "\t6 & chr6 & 28017129 & rs17765055 & T & C & 0.95 & 27984907 & 0.072 & 0.023 & 0.014 & 0.051\\\\\n",
       "\\end{tabular}\n"
      ],
      "text/markdown": [
       "\n",
       "A data.frame: 6 × 11\n",
       "\n",
       "| <!--/--> | CHROM &lt;chr&gt; | POS &lt;chr&gt; | ID &lt;chr&gt; | REF &lt;chr&gt; | ALT &lt;chr&gt; | DR2 &lt;dbl&gt; | hg19_POS &lt;chr&gt; | Synovium_MAF &lt;dbl&gt; | Intestine_MAF &lt;dbl&gt; | PBMC_cultured_MAF &lt;dbl&gt; | PBMC_blood_MAF &lt;dbl&gt; |\n",
       "|---|---|---|---|---|---|---|---|---|---|---|---|\n",
       "| 1 | chr6 | 28002253 | rs149946   | G | T | 0.98 | 27970031 | 0.225 | 0.225 | 0.363 | 0.229 |\n",
       "| 2 | chr6 | 28008422 | rs9380032  | G | T | 0.95 | 27976200 | 0.029 | 0.023 | 0.021 | 0.021 |\n",
       "| 3 | chr6 | 28011410 | rs4141691  | A | G | 0.92 | 27979188 | 0.065 | 0.144 | 0.185 | 0.093 |\n",
       "| 4 | chr6 | 28011847 | rs10484402 | A | G | 0.91 | 27979625 | 0.058 | 0.023 | 0.034 | 0.033 |\n",
       "| 5 | chr6 | 28013895 | rs9368540  | G | A | 0.93 | 27981673 | 0.051 | 0.023 | 0.014 | 0.039 |\n",
       "| 6 | chr6 | 28017129 | rs17765055 | T | C | 0.95 | 27984907 | 0.072 | 0.023 | 0.014 | 0.051 |\n",
       "\n"
      ],
      "text/plain": [
       "  CHROM POS      ID         REF ALT DR2  hg19_POS Synovium_MAF Intestine_MAF\n",
       "1 chr6  28002253 rs149946   G   T   0.98 27970031 0.225        0.225        \n",
       "2 chr6  28008422 rs9380032  G   T   0.95 27976200 0.029        0.023        \n",
       "3 chr6  28011410 rs4141691  A   G   0.92 27979188 0.065        0.144        \n",
       "4 chr6  28011847 rs10484402 A   G   0.91 27979625 0.058        0.023        \n",
       "5 chr6  28013895 rs9368540  G   A   0.93 27981673 0.051        0.023        \n",
       "6 chr6  28017129 rs17765055 T   C   0.95 27984907 0.072        0.023        \n",
       "  PBMC_cultured_MAF PBMC_blood_MAF\n",
       "1 0.363             0.229         \n",
       "2 0.021             0.021         \n",
       "3 0.185             0.093         \n",
       "4 0.034             0.033         \n",
       "5 0.014             0.039         \n",
       "6 0.014             0.051         "
      ]
     },
     "metadata": {},
     "output_type": "display_data"
    }
   ],
   "source": [
    "variantInfo$Imputed = NULL\n",
    "variantInfo$Synovium_MAF = round(variantInfo$AMP2RA_MAF, 3)\n",
    "variantInfo$Intestine_MAF = round(variantInfo$Smillie_MAF, 3)\n",
    "variantInfo$PBMC_cultured_MAF = round(variantInfo$Randolph_MAF, 3)\n",
    "variantInfo$PBMC_blood_MAF = round(variantInfo$OneK1K_MAF, 3)\n",
    "\n",
    "variantInfo$AMP2RA_MAF = NULL\n",
    "variantInfo$Smillie_MAF = NULL\n",
    "variantInfo$Randolph_MAF = NULL\n",
    "variantInfo$OneK1K_MAF = NULL\n",
    "head(variantInfo)"
   ]
  },
  {
   "cell_type": "code",
   "execution_count": 75,
   "id": "8958e3b6-6164-44bc-9450-7f8cbaf3e0f5",
   "metadata": {},
   "outputs": [],
   "source": [
    "write.csv(variantInfo, '../../SuppTables/four_cohorts_variant_info_final.csv', quote = F, row.names = F)"
   ]
  },
  {
   "cell_type": "markdown",
   "id": "43caec10-008c-4939-a7c5-eb5b3352dbbe",
   "metadata": {},
   "source": [
    "# Make two separate matrices for Randolph flu and NI samples"
   ]
  },
  {
   "cell_type": "code",
   "execution_count": 76,
   "id": "cb6b56f8-f91a-4ffe-91c0-64ee2b0671c4",
   "metadata": {},
   "outputs": [
    {
     "data": {
      "text/html": [
       "<table class=\"dataframe\">\n",
       "<caption>A matrix: 2 × 2 of type dbl</caption>\n",
       "<thead>\n",
       "\t<tr><th></th><th scope=col>rs149946</th><th scope=col>rs9380032</th></tr>\n",
       "</thead>\n",
       "<tbody>\n",
       "\t<tr><th scope=row>HMN83551</th><td>0</td><td>0</td></tr>\n",
       "\t<tr><th scope=row>HMN83552</th><td>0</td><td>0</td></tr>\n",
       "</tbody>\n",
       "</table>\n"
      ],
      "text/latex": [
       "A matrix: 2 × 2 of type dbl\n",
       "\\begin{tabular}{r|ll}\n",
       "  & rs149946 & rs9380032\\\\\n",
       "\\hline\n",
       "\tHMN83551 & 0 & 0\\\\\n",
       "\tHMN83552 & 0 & 0\\\\\n",
       "\\end{tabular}\n"
      ],
      "text/markdown": [
       "\n",
       "A matrix: 2 × 2 of type dbl\n",
       "\n",
       "| <!--/--> | rs149946 | rs9380032 |\n",
       "|---|---|---|\n",
       "| HMN83551 | 0 | 0 |\n",
       "| HMN83552 | 0 | 0 |\n",
       "\n"
      ],
      "text/plain": [
       "         rs149946 rs9380032\n",
       "HMN83551 0        0        \n",
       "HMN83552 0        0        "
      ]
     },
     "metadata": {},
     "output_type": "display_data"
    }
   ],
   "source": [
    "geno_dosage_Randolph = readRDS(paste0(dir, 'Randolph2021_sampleXdosage_final.rds'))\n",
    "geno_dosage_Randolph[1:2, 1:2]\n",
    "flu = geno_dosage_Randolph\n",
    "rownames(flu) = paste0(rownames(flu), '_flu')\n",
    "NI = geno_dosage_Randolph\n",
    "rownames(NI) = paste0(rownames(NI), '_NI')\n",
    "saveRDS(flu, paste0(dir, 'Randolph_flu_sampleXdosage_final.rds'))\n",
    "saveRDS(NI, paste0(dir, 'Randolph_NI_sampleXdosage_final.rds'))"
   ]
  },
  {
   "cell_type": "markdown",
   "id": "021ae520-0f81-4d2e-89d0-4ea4075d9d16",
   "metadata": {},
   "source": [
    "# All done!"
   ]
  },
  {
   "cell_type": "code",
   "execution_count": 74,
   "id": "57cfae28-9016-4211-bcae-0e771f55e928",
   "metadata": {},
   "outputs": [
    {
     "data": {
      "text/plain": [
       "R version 4.0.5 (2021-03-31)\n",
       "Platform: x86_64-conda-linux-gnu (64-bit)\n",
       "Running under: Red Hat Enterprise Linux Server release 6.5 (Santiago)\n",
       "\n",
       "Matrix products: default\n",
       "BLAS/LAPACK: /PHShome/jbk37/anaconda3/envs/hla_new/lib/libopenblasp-r0.3.18.so\n",
       "\n",
       "locale:\n",
       " [1] LC_CTYPE=en_US.UTF-8       LC_NUMERIC=C              \n",
       " [3] LC_TIME=en_US.UTF-8        LC_COLLATE=en_US.UTF-8    \n",
       " [5] LC_MONETARY=en_US.UTF-8    LC_MESSAGES=en_US.UTF-8   \n",
       " [7] LC_PAPER=en_US.UTF-8       LC_NAME=C                 \n",
       " [9] LC_ADDRESS=C               LC_TELEPHONE=C            \n",
       "[11] LC_MEASUREMENT=en_US.UTF-8 LC_IDENTIFICATION=C       \n",
       "\n",
       "attached base packages:\n",
       "[1] stats     graphics  grDevices utils     datasets  methods   base     \n",
       "\n",
       "other attached packages:\n",
       " [1] forcats_0.5.1   purrr_0.3.4     readr_2.1.2     tibble_3.1.6   \n",
       " [5] tidyverse_1.3.1 stringr_1.4.0   dplyr_1.0.8     ggplot2_3.3.5  \n",
       " [9] tidyr_1.2.0     vcfR_1.12.0    \n",
       "\n",
       "loaded via a namespace (and not attached):\n",
       " [1] httr_1.4.4        jsonlite_1.8.4    viridisLite_0.4.1 splines_4.0.5    \n",
       " [5] modelr_0.1.8      assertthat_0.2.1  memuse_4.2-1      cellranger_1.1.0 \n",
       " [9] pillar_1.8.1      backports_1.4.1   lattice_0.20-45   glue_1.6.2       \n",
       "[13] uuid_1.0-4        digest_0.6.31     rvest_1.0.2       colorspace_2.1-0 \n",
       "[17] htmltools_0.5.4   Matrix_1.4-0      plyr_1.8.6        pkgconfig_2.0.3  \n",
       "[21] broom_0.7.12      haven_2.4.3       scales_1.2.1      tzdb_0.2.0       \n",
       "[25] mgcv_1.8-39       farver_2.1.1      generics_0.1.3    ellipsis_0.3.2   \n",
       "[29] withr_2.5.0       repr_1.1.4        cli_3.6.0         magrittr_2.0.3   \n",
       "[33] crayon_1.5.0      readxl_1.3.1      evaluate_0.20     fs_1.6.1         \n",
       "[37] fansi_1.0.4       nlme_3.1-155      MASS_7.3-55       xml2_1.3.3       \n",
       "[41] vegan_2.6-4       Cairo_1.5-15      tools_4.0.5       hms_1.1.1        \n",
       "[45] lifecycle_1.0.3   munsell_0.5.0     reprex_2.0.1      cluster_2.1.2    \n",
       "[49] compiler_4.0.5    rlang_1.0.6       grid_4.0.5        pbdZMQ_0.3-7     \n",
       "[53] IRkernel_1.3      rstudioapi_0.13   labeling_0.4.2    base64enc_0.1-3  \n",
       "[57] gtable_0.3.1      DBI_1.1.3         R6_2.5.1          lubridate_1.8.0  \n",
       "[61] pinfsc50_1.2.0    fastmap_1.1.0     utf8_1.2.3        permute_0.9-7    \n",
       "[65] ape_5.6-2         stringi_1.7.8     parallel_4.0.5    IRdisplay_1.1    \n",
       "[69] Rcpp_1.0.10       vctrs_0.5.2       dbplyr_2.1.1      tidyselect_1.1.2 "
      ]
     },
     "metadata": {},
     "output_type": "display_data"
    }
   ],
   "source": [
    "sessionInfo()"
   ]
  }
 ],
 "metadata": {
  "kernelspec": {
   "display_name": "R_4.0.5",
   "language": "R",
   "name": "r_4.0.5"
  },
  "language_info": {
   "codemirror_mode": "r",
   "file_extension": ".r",
   "mimetype": "text/x-r-source",
   "name": "R",
   "pygments_lexer": "r",
   "version": "4.0.5"
  },
  "toc-autonumbering": true
 },
 "nbformat": 4,
 "nbformat_minor": 5
}
